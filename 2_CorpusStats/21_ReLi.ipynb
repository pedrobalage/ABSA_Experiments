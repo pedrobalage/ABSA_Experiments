{
 "cells": [
  {
   "cell_type": "markdown",
   "metadata": {},
   "source": [
    "# Statistics in ReLi Corpus"
   ]
  },
  {
   "cell_type": "code",
   "execution_count": 2,
   "metadata": {
    "collapsed": true
   },
   "outputs": [],
   "source": [
    "from __future__ import print_function\n",
    "from __future__ import division"
   ]
  },
  {
   "cell_type": "code",
   "execution_count": 3,
   "metadata": {
    "collapsed": false
   },
   "outputs": [],
   "source": [
    "from lxml.etree import ElementTree\n",
    "reviews = ElementTree().parse('../corpus/ReLi.xml')"
   ]
  },
  {
   "cell_type": "markdown",
   "metadata": {},
   "source": [
    "## Token Type Ratio"
   ]
  },
  {
   "cell_type": "code",
   "execution_count": 3,
   "metadata": {
    "collapsed": false
   },
   "outputs": [
    {
     "name": "stdout",
     "output_type": "stream",
     "text": [
      "Total tokens: 260561\n",
      "Total types:  19300\n",
      "Token/Type ratio:  13.5%\n"
     ]
    }
   ],
   "source": [
    "from collections import Counter\n",
    "freqlist = Counter([word_node.get('form') for word_node in reviews.iter('word')])\n",
    "\n",
    "print ('Total tokens: {}'.format(sum(freqlist.values())))\n",
    "print ('Total types:  {}'.format(len(freqlist.keys())))\n",
    "print ('Token/Type ratio:  {:.1f}%'.format(sum(freqlist.values())/len(freqlist.keys())))"
   ]
  },
  {
   "cell_type": "markdown",
   "metadata": {},
   "source": [
    "## Lexical Frequency"
   ]
  },
  {
   "cell_type": "code",
   "execution_count": 4,
   "metadata": {
    "collapsed": false
   },
   "outputs": [],
   "source": [
    "import ipy_table"
   ]
  },
  {
   "cell_type": "code",
   "execution_count": 5,
   "metadata": {
    "collapsed": false
   },
   "outputs": [
    {
     "data": {
      "text/html": [
       "<table border=\"1\" cellpadding=\"3\" cellspacing=\"0\"  style=\"border:1px solid black;border-collapse:collapse;\"><tr><td  style=\"background-color:LightGray;\"><b>Freq</b></td><td  style=\"background-color:LightGray;\"><b>%&nbspFreq</b></td><td  style=\"background-color:LightGray;\"><b>Token</b></td></tr><tr><td  style=\"background-color:Ivory;\">15158</td><td  style=\"background-color:Ivory;\">5.82%</td><td  style=\"background-color:Ivory;\">,</td></tr><tr><td  style=\"background-color:AliceBlue;\">14579</td><td  style=\"background-color:AliceBlue;\">5.60%</td><td  style=\"background-color:AliceBlue;\">de</td></tr><tr><td  style=\"background-color:Ivory;\">11895</td><td  style=\"background-color:Ivory;\">4.57%</td><td  style=\"background-color:Ivory;\">a</td></tr><tr><td  style=\"background-color:AliceBlue;\">11695</td><td  style=\"background-color:AliceBlue;\">4.49%</td><td  style=\"background-color:AliceBlue;\">o</td></tr><tr><td  style=\"background-color:Ivory;\">9693</td><td  style=\"background-color:Ivory;\">3.72%</td><td  style=\"background-color:Ivory;\">.</td></tr><tr><td  style=\"background-color:AliceBlue;\">7591</td><td  style=\"background-color:AliceBlue;\">2.91%</td><td  style=\"background-color:AliceBlue;\">que</td></tr><tr><td  style=\"background-color:Ivory;\">6667</td><td  style=\"background-color:Ivory;\">2.56%</td><td  style=\"background-color:Ivory;\">e</td></tr><tr><td  style=\"background-color:AliceBlue;\">5261</td><td  style=\"background-color:AliceBlue;\">2.02%</td><td  style=\"background-color:AliceBlue;\">em</td></tr><tr><td  style=\"background-color:Ivory;\">3887</td><td  style=\"background-color:Ivory;\">1.49%</td><td  style=\"background-color:Ivory;\">é</td></tr><tr><td  style=\"background-color:AliceBlue;\">3599</td><td  style=\"background-color:AliceBlue;\">1.38%</td><td  style=\"background-color:AliceBlue;\">um</td></tr><tr><td  style=\"background-color:Ivory;\">2935</td><td  style=\"background-color:Ivory;\">1.13%</td><td  style=\"background-color:Ivory;\">os</td></tr><tr><td  style=\"background-color:AliceBlue;\">2779</td><td  style=\"background-color:AliceBlue;\">1.07%</td><td  style=\"background-color:AliceBlue;\">livro</td></tr><tr><td  style=\"background-color:Ivory;\">2711</td><td  style=\"background-color:Ivory;\">1.04%</td><td  style=\"background-color:Ivory;\">não</td></tr><tr><td  style=\"background-color:AliceBlue;\">2637</td><td  style=\"background-color:AliceBlue;\">1.01%</td><td  style=\"background-color:AliceBlue;\">uma</td></tr><tr><td  style=\"background-color:Ivory;\">2475</td><td  style=\"background-color:Ivory;\">0.95%</td><td  style=\"background-color:Ivory;\">se</td></tr><tr><td  style=\"background-color:AliceBlue;\">2415</td><td  style=\"background-color:AliceBlue;\">0.93%</td><td  style=\"background-color:AliceBlue;\">por</td></tr><tr><td  style=\"background-color:Ivory;\">2267</td><td  style=\"background-color:Ivory;\">0.87%</td><td  style=\"background-color:Ivory;\">\"</td></tr><tr><td  style=\"background-color:AliceBlue;\">2149</td><td  style=\"background-color:AliceBlue;\">0.82%</td><td  style=\"background-color:AliceBlue;\">com</td></tr><tr><td  style=\"background-color:Ivory;\">1776</td><td  style=\"background-color:Ivory;\">0.68%</td><td  style=\"background-color:Ivory;\">para</td></tr><tr><td  style=\"background-color:AliceBlue;\">1754</td><td  style=\"background-color:AliceBlue;\">0.67%</td><td  style=\"background-color:AliceBlue;\">as</td></tr></table>"
      ],
      "text/plain": [
       "<ipy_table.IpyTable at 0x7f3490194b70>"
      ]
     },
     "execution_count": 5,
     "metadata": {},
     "output_type": "execute_result"
    }
   ],
   "source": [
    "freqlist = Counter([word_node.get('form').lower() for word_node in reviews.iter('word')])\n",
    "\n",
    "data = [['Freq', '% Freq', 'Token']]\n",
    "for token, freq in freqlist.most_common(20):\n",
    "    ratio = freq / sum(freqlist.values()) * 100\n",
    "    data.append( [freq, '{:.2f}%'.format(ratio), token])\n",
    "\n",
    "ipy_table.make_table(data)\n",
    "ipy_table.apply_theme('basic')"
   ]
  },
  {
   "cell_type": "markdown",
   "metadata": {},
   "source": [
    "## Lemma Frequency"
   ]
  },
  {
   "cell_type": "code",
   "execution_count": 6,
   "metadata": {
    "collapsed": false
   },
   "outputs": [
    {
     "data": {
      "text/html": [
       "<table border=\"1\" cellpadding=\"3\" cellspacing=\"0\"  style=\"border:1px solid black;border-collapse:collapse;\"><tr><td  style=\"background-color:LightGray;\"><b>Freq</b></td><td  style=\"background-color:LightGray;\"><b>%&nbspFreq</b></td><td  style=\"background-color:LightGray;\"><b>Lemma</b></td></tr><tr><td  style=\"background-color:Ivory;\">25430</td><td  style=\"background-color:Ivory;\">9.76%</td><td  style=\"background-color:Ivory;\">o</td></tr><tr><td  style=\"background-color:AliceBlue;\">15158</td><td  style=\"background-color:AliceBlue;\">5.82%</td><td  style=\"background-color:AliceBlue;\">,</td></tr><tr><td  style=\"background-color:Ivory;\">14579</td><td  style=\"background-color:Ivory;\">5.60%</td><td  style=\"background-color:Ivory;\">de</td></tr><tr><td  style=\"background-color:AliceBlue;\">9693</td><td  style=\"background-color:AliceBlue;\">3.72%</td><td  style=\"background-color:AliceBlue;\">.</td></tr><tr><td  style=\"background-color:Ivory;\">7591</td><td  style=\"background-color:Ivory;\">2.91%</td><td  style=\"background-color:Ivory;\">que</td></tr><tr><td  style=\"background-color:AliceBlue;\">7577</td><td  style=\"background-color:AliceBlue;\">2.91%</td><td  style=\"background-color:AliceBlue;\">ser</td></tr><tr><td  style=\"background-color:Ivory;\">6678</td><td  style=\"background-color:Ivory;\">2.56%</td><td  style=\"background-color:Ivory;\">e</td></tr><tr><td  style=\"background-color:AliceBlue;\">6309</td><td  style=\"background-color:AliceBlue;\">2.42%</td><td  style=\"background-color:AliceBlue;\">um</td></tr><tr><td  style=\"background-color:Ivory;\">5261</td><td  style=\"background-color:Ivory;\">2.02%</td><td  style=\"background-color:Ivory;\">em</td></tr><tr><td  style=\"background-color:AliceBlue;\">3130</td><td  style=\"background-color:AliceBlue;\">1.20%</td><td  style=\"background-color:AliceBlue;\">livro</td></tr><tr><td  style=\"background-color:Ivory;\">2895</td><td  style=\"background-color:Ivory;\">1.11%</td><td  style=\"background-color:Ivory;\">a</td></tr><tr><td  style=\"background-color:AliceBlue;\">2766</td><td  style=\"background-color:AliceBlue;\">1.06%</td><td  style=\"background-color:AliceBlue;\">não</td></tr><tr><td  style=\"background-color:Ivory;\">2721</td><td  style=\"background-color:Ivory;\">1.04%</td><td  style=\"background-color:Ivory;\">ele</td></tr><tr><td  style=\"background-color:AliceBlue;\">2475</td><td  style=\"background-color:AliceBlue;\">0.95%</td><td  style=\"background-color:AliceBlue;\">se</td></tr><tr><td  style=\"background-color:Ivory;\">2415</td><td  style=\"background-color:Ivory;\">0.93%</td><td  style=\"background-color:Ivory;\">por</td></tr><tr><td  style=\"background-color:AliceBlue;\">2403</td><td  style=\"background-color:AliceBlue;\">0.92%</td><td  style=\"background-color:AliceBlue;\">eu</td></tr><tr><td  style=\"background-color:Ivory;\">2267</td><td  style=\"background-color:Ivory;\">0.87%</td><td  style=\"background-color:Ivory;\">\"</td></tr><tr><td  style=\"background-color:AliceBlue;\">2149</td><td  style=\"background-color:AliceBlue;\">0.82%</td><td  style=\"background-color:AliceBlue;\">com</td></tr><tr><td  style=\"background-color:Ivory;\">1754</td><td  style=\"background-color:Ivory;\">0.67%</td><td  style=\"background-color:Ivory;\">para</td></tr><tr><td  style=\"background-color:AliceBlue;\">1737</td><td  style=\"background-color:AliceBlue;\">0.67%</td><td  style=\"background-color:AliceBlue;\">ter</td></tr></table>"
      ],
      "text/plain": [
       "<ipy_table.IpyTable at 0x7f3490198ba8>"
      ]
     },
     "execution_count": 6,
     "metadata": {},
     "output_type": "execute_result"
    }
   ],
   "source": [
    "freqlist = Counter([word_node.get('base').lower() for word_node in reviews.iter('word')])\n",
    "\n",
    "data = [['Freq', '% Freq', 'Lemma']]\n",
    "for token, freq in freqlist.most_common(20):\n",
    "    ratio = freq / sum(freqlist.values()) * 100\n",
    "    data.append( [freq, '{:.2f}%'.format(ratio), token])\n",
    "\n",
    "ipy_table.make_table(data)\n",
    "ipy_table.apply_theme('basic')"
   ]
  },
  {
   "cell_type": "markdown",
   "metadata": {},
   "source": [
    "## Part-of-Speech Frequency"
   ]
  },
  {
   "cell_type": "code",
   "execution_count": 7,
   "metadata": {
    "collapsed": false
   },
   "outputs": [],
   "source": [
    "from operator import itemgetter\n",
    "postag_freq = dict()\n",
    "freqlist = dict()\n",
    "\n",
    "for word_node in reviews.iter('word'):\n",
    "    form = word_node.get('form').lower()\n",
    "    postag = word_node.get('postag')\n",
    "    \n",
    "    postag_freq[postag] = postag_freq.get(postag, 0) + 1\n",
    "    if postag not in freqlist:\n",
    "        freqlist[postag] = dict()\n",
    "    freqlist[postag][form] = freqlist[postag].get(form, 0) + 1 "
   ]
  },
  {
   "cell_type": "code",
   "execution_count": 8,
   "metadata": {
    "collapsed": false,
    "scrolled": true
   },
   "outputs": [
    {
     "data": {
      "text/html": [
       "<table border=\"1\" cellpadding=\"3\" cellspacing=\"0\"  style=\"border:1px solid black;border-collapse:collapse;\"><tr><td  style=\"background-color:LightGray;\"><b>FREQ</b></td><td  style=\"background-color:LightGray;\"><b>%&nbspFREQ</b></td><td  style=\"background-color:LightGray;\"><b>POSTAG</b></td><td  style=\"background-color:LightGray;\"><b>EXAMPLES</b></td></tr><tr><td  style=\"background-color:Ivory;\">44954</td><td  style=\"background-color:Ivory;\">17.3%</td><td  style=\"background-color:Ivory;\">N</td><td  style=\"background-color:Ivory;\">livro(6.0%),&nbsphistória(1.9%),&nbspmundo(1.2%),&nbspvida(1.1%),&nbspleitura(0.9%)</td></tr><tr><td  style=\"background-color:AliceBlue;\">33068</td><td  style=\"background-color:AliceBlue;\">12.7%</td><td  style=\"background-color:AliceBlue;\">PREP</td><td  style=\"background-color:AliceBlue;\">de(43.0%),&nbspem(15.7%),&nbspa(8.8%),&nbsppor(6.9%),&nbspcom(6.5%)</td></tr><tr><td  style=\"background-color:Ivory;\">31175</td><td  style=\"background-color:Ivory;\">12.0%</td><td  style=\"background-color:Ivory;\">V</td><td  style=\"background-color:Ivory;\">é(11.3%),&nbspler(1.8%),&nbsptem(1.7%),&nbspser(1.6%),&nbspfoi(1.5%)</td></tr><tr><td  style=\"background-color:AliceBlue;\">29043</td><td  style=\"background-color:AliceBlue;\">11.1%</td><td  style=\"background-color:AliceBlue;\">ART</td><td  style=\"background-color:AliceBlue;\">o(35.8%),&nbspa(30.1%),&nbspum(10.1%),&nbspos(9.5%),&nbspuma(8.4%)</td></tr><tr><td  style=\"background-color:Ivory;\">15158</td><td  style=\"background-color:Ivory;\">5.8%</td><td  style=\"background-color:Ivory;\">,</td><td  style=\"background-color:Ivory;\">,(100.0%)</td></tr><tr><td  style=\"background-color:AliceBlue;\">13572</td><td  style=\"background-color:AliceBlue;\">5.2%</td><td  style=\"background-color:AliceBlue;\">ADJ</td><td  style=\"background-color:AliceBlue;\">bom(2.3%),&nbspprimeiro(1.4%),&nbspgrande(1.3%),&nbspmelhor(1.3%),&nbspprimeira(1.1%)</td></tr><tr><td  style=\"background-color:Ivory;\">11959</td><td  style=\"background-color:Ivory;\">4.6%</td><td  style=\"background-color:Ivory;\">ADV</td><td  style=\"background-color:Ivory;\">não(22.4%),&nbspmais(8.9%),&nbspmuito(8.0%),&nbspbem(3.9%),&nbspjá(3.7%)</td></tr><tr><td  style=\"background-color:AliceBlue;\">11059</td><td  style=\"background-color:AliceBlue;\">4.2%</td><td  style=\"background-color:AliceBlue;\">NPROP</td><td  style=\"background-color:AliceBlue;\">bella(3.3%),&nbspedward(3.1%),&nbspsaramago(2.2%),&nbspcrepúsculo(2.0%),&nbspde(2.0%)</td></tr><tr><td  style=\"background-color:Ivory;\">9693</td><td  style=\"background-color:Ivory;\">3.7%</td><td  style=\"background-color:Ivory;\">.</td><td  style=\"background-color:Ivory;\">.(100.0%)</td></tr><tr><td  style=\"background-color:AliceBlue;\">9296</td><td  style=\"background-color:AliceBlue;\">3.6%</td><td  style=\"background-color:AliceBlue;\">KC</td><td  style=\"background-color:AliceBlue;\">e(71.5%),&nbspmas(14.4%),&nbspou(5.2%),&nbsppois(2.9%),&nbspporém(1.3%)</td></tr><tr><td  style=\"background-color:Ivory;\">8498</td><td  style=\"background-color:Ivory;\">3.3%</td><td  style=\"background-color:Ivory;\">PROADJ</td><td  style=\"background-color:Ivory;\">sua(8.9%),&nbspesse(7.6%),&nbspseu(6.8%),&nbspessa(4.4%),&nbspcada(4.3%)</td></tr><tr><td  style=\"background-color:AliceBlue;\">7977</td><td  style=\"background-color:AliceBlue;\">3.1%</td><td  style=\"background-color:AliceBlue;\">PROPESS</td><td  style=\"background-color:AliceBlue;\">se(25.2%),&nbspele(13.2%),&nbspeu(12.5%),&nbspela(11.5%),&nbspme(9.4%)</td></tr><tr><td  style=\"background-color:Ivory;\">4670</td><td  style=\"background-color:Ivory;\">1.8%</td><td  style=\"background-color:Ivory;\">KS</td><td  style=\"background-color:Ivory;\">que(56.3%),&nbspquando(10.6%),&nbspse(9.9%),&nbspcomo(6.9%),&nbspporque(5.5%)</td></tr><tr><td  style=\"background-color:AliceBlue;\">4628</td><td  style=\"background-color:AliceBlue;\">1.8%</td><td  style=\"background-color:AliceBlue;\">PRO-KS-REL</td><td  style=\"background-color:AliceBlue;\">que(93.4%),&nbspqual(2.0%),&nbspa(1.1%),&nbspquem(0.9%),&nbspo(0.8%)</td></tr><tr><td  style=\"background-color:Ivory;\">4321</td><td  style=\"background-color:Ivory;\">1.7%</td><td  style=\"background-color:Ivory;\">PCP</td><td  style=\"background-color:Ivory;\">escrito(2.5%),&nbsplido(2.3%),&nbspsido(1.4%),&nbspfeito(1.0%),&nbspescrita(0.9%)</td></tr><tr><td  style=\"background-color:AliceBlue;\">4282</td><td  style=\"background-color:AliceBlue;\">1.6%</td><td  style=\"background-color:AliceBlue;\">PROSUB</td><td  style=\"background-color:AliceBlue;\">o(15.0%),&nbspisso(14.2%),&nbspum(8.5%),&nbsptudo(8.3%),&nbspnada(5.3%)</td></tr><tr><td  style=\"background-color:Ivory;\">3866</td><td  style=\"background-color:Ivory;\">1.5%</td><td  style=\"background-color:Ivory;\">VAUX</td><td  style=\"background-color:Ivory;\">é(8.7%),&nbsppode(6.2%),&nbspser(5.7%),&nbspfoi(5.2%),&nbspvai(4.4%)</td></tr><tr><td  style=\"background-color:AliceBlue;\">2267</td><td  style=\"background-color:AliceBlue;\">0.9%</td><td  style=\"background-color:AliceBlue;\">\"</td><td  style=\"background-color:AliceBlue;\">\"(100.0%)</td></tr><tr><td  style=\"background-color:Ivory;\">1765</td><td  style=\"background-color:Ivory;\">0.7%</td><td  style=\"background-color:Ivory;\">PDEN</td><td  style=\"background-color:Ivory;\">só(21.0%),&nbsptambém(19.0%),&nbspmesmo(16.5%),&nbspapenas(12.2%),&nbspaté(6.0%)</td></tr><tr><td  style=\"background-color:AliceBlue;\">1302</td><td  style=\"background-color:AliceBlue;\">0.5%</td><td  style=\"background-color:AliceBlue;\">-</td><td  style=\"background-color:AliceBlue;\">-(100.0%)</td></tr><tr><td  style=\"background-color:Ivory;\">1214</td><td  style=\"background-color:Ivory;\">0.5%</td><td  style=\"background-color:Ivory;\">!</td><td  style=\"background-color:Ivory;\">!(100.0%)</td></tr><tr><td  style=\"background-color:AliceBlue;\">1136</td><td  style=\"background-color:AliceBlue;\">0.4%</td><td  style=\"background-color:AliceBlue;\">PRO-KS</td><td  style=\"background-color:AliceBlue;\">que(36.5%),&nbspo(34.9%),&nbspquem(21.4%),&nbspquanto(2.0%),&nbspqual(1.8%)</td></tr><tr><td  style=\"background-color:Ivory;\">1076</td><td  style=\"background-color:Ivory;\">0.4%</td><td  style=\"background-color:Ivory;\">NUM</td><td  style=\"background-color:Ivory;\">um(10.1%),&nbsptrês(8.2%),&nbspduas(7.6%),&nbspuma(6.1%),&nbspdois(6.1%)</td></tr><tr><td  style=\"background-color:AliceBlue;\">739</td><td  style=\"background-color:AliceBlue;\">0.3%</td><td  style=\"background-color:AliceBlue;\">...</td><td  style=\"background-color:AliceBlue;\">...(100.0%)</td></tr><tr><td  style=\"background-color:Ivory;\">703</td><td  style=\"background-color:Ivory;\">0.3%</td><td  style=\"background-color:Ivory;\">:</td><td  style=\"background-color:Ivory;\">:(100.0%)</td></tr><tr><td  style=\"background-color:AliceBlue;\">694</td><td  style=\"background-color:AliceBlue;\">0.3%</td><td  style=\"background-color:AliceBlue;\">)</td><td  style=\"background-color:AliceBlue;\">)(100.0%)</td></tr><tr><td  style=\"background-color:Ivory;\">638</td><td  style=\"background-color:Ivory;\">0.2%</td><td  style=\"background-color:Ivory;\">(</td><td  style=\"background-color:Ivory;\">((100.0%)</td></tr><tr><td  style=\"background-color:AliceBlue;\">502</td><td  style=\"background-color:AliceBlue;\">0.2%</td><td  style=\"background-color:AliceBlue;\">?</td><td  style=\"background-color:AliceBlue;\">?(100.0%)</td></tr><tr><td  style=\"background-color:Ivory;\">317</td><td  style=\"background-color:Ivory;\">0.1%</td><td  style=\"background-color:Ivory;\">;</td><td  style=\"background-color:Ivory;\">;(100.0%)</td></tr><tr><td  style=\"background-color:AliceBlue;\">276</td><td  style=\"background-color:AliceBlue;\">0.1%</td><td  style=\"background-color:AliceBlue;\">ADV-KS-REL</td><td  style=\"background-color:AliceBlue;\">onde(80.4%),&nbspquando(13.4%),&nbspcomo(6.2%)</td></tr><tr><td  style=\"background-color:Ivory;\">235</td><td  style=\"background-color:Ivory;\">0.1%</td><td  style=\"background-color:Ivory;\">'</td><td  style=\"background-color:Ivory;\">'(100.0%)</td></tr><tr><td  style=\"background-color:AliceBlue;\">232</td><td  style=\"background-color:AliceBlue;\">0.1%</td><td  style=\"background-color:AliceBlue;\">ADV-KS</td><td  style=\"background-color:AliceBlue;\">como(72.4%),&nbsponde(22.4%),&nbspque(3.0%),&nbsppor(1.3%),&nbspquando(0.9%)</td></tr><tr><td  style=\"background-color:Ivory;\">175</td><td  style=\"background-color:Ivory;\">0.1%</td><td  style=\"background-color:Ivory;\">IN</td><td  style=\"background-color:Ivory;\">ai(16.0%),&nbspah(13.7%),&nbspné(10.9%),&nbspok(8.6%),&nbspora(4.6%)</td></tr><tr><td  style=\"background-color:AliceBlue;\">37</td><td  style=\"background-color:AliceBlue;\">0.0%</td><td  style=\"background-color:AliceBlue;\">[</td><td  style=\"background-color:AliceBlue;\">[(100.0%)</td></tr><tr><td  style=\"background-color:Ivory;\">20</td><td  style=\"background-color:Ivory;\">0.0%</td><td  style=\"background-color:Ivory;\">=</td><td  style=\"background-color:Ivory;\">=(100.0%)</td></tr><tr><td  style=\"background-color:AliceBlue;\">8</td><td  style=\"background-color:AliceBlue;\">0.0%</td><td  style=\"background-color:AliceBlue;\">CUR</td><td  style=\"background-color:AliceBlue;\">r$(87.5%),&nbspus$(12.5%)</td></tr><tr><td  style=\"background-color:Ivory;\">2</td><td  style=\"background-color:Ivory;\">0.0%</td><td  style=\"background-color:Ivory;\">O</td><td  style=\"background-color:Ivory;\">legal(50.0%),&nbsp....(50.0%)</td></tr><tr><td  style=\"background-color:AliceBlue;\">1</td><td  style=\"background-color:AliceBlue;\">0.0%</td><td  style=\"background-color:AliceBlue;\">/</td><td  style=\"background-color:AliceBlue;\">/(100.0%)</td></tr><tr><td  style=\"background-color:Ivory;\">1</td><td  style=\"background-color:Ivory;\">0.0%</td><td  style=\"background-color:Ivory;\">$</td><td  style=\"background-color:Ivory;\">$(100.0%)</td></tr><tr><td  style=\"background-color:AliceBlue;\">1</td><td  style=\"background-color:AliceBlue;\">0.0%</td><td  style=\"background-color:AliceBlue;\">//</td><td  style=\"background-color:AliceBlue;\">//(100.0%)</td></tr><tr><td  style=\"background-color:Ivory;\">1</td><td  style=\"background-color:Ivory;\">0.0%</td><td  style=\"background-color:Ivory;\">..</td><td  style=\"background-color:Ivory;\">..(100.0%)</td></tr></table>"
      ],
      "text/plain": [
       "<ipy_table.IpyTable at 0x7f34901984e0>"
      ]
     },
     "execution_count": 8,
     "metadata": {},
     "output_type": "execute_result"
    }
   ],
   "source": [
    "data = [['FREQ', '% FREQ', 'POSTAG', 'EXAMPLES']]\n",
    "\n",
    "for pos, freq in sorted(postag_freq.items(), key=itemgetter(1), reverse=True):\n",
    "    examples = ', '.join(['{}({:.1f}%)'.format(w,f / sum(freqlist[pos].values()) * 100) \n",
    "                          for w,f in sorted(freqlist[pos].items(), key=itemgetter(1), reverse=True)[:5]])\n",
    "    ratio = freq / sum(postag_freq.values()) * 100\n",
    "    data.append([freq, '{:.1f}%'.format(ratio), pos, examples])\n",
    "\n",
    "ipy_table.make_table(data)\n",
    "ipy_table.apply_theme('basic')"
   ]
  },
  {
   "cell_type": "markdown",
   "metadata": {},
   "source": [
    "## Morphological tags"
   ]
  },
  {
   "cell_type": "code",
   "execution_count": 9,
   "metadata": {
    "collapsed": false
   },
   "outputs": [
    {
     "data": {
      "text/html": [
       "<table border=\"1\" cellpadding=\"3\" cellspacing=\"0\"  style=\"border:1px solid black;border-collapse:collapse;\"><tr><td  style=\"background-color:LightGray;\"><b>FREQ</b></td><td  style=\"background-color:LightGray;\"><b>%&nbspFREQ</b></td><td  style=\"background-color:LightGray;\"><b>MORF&nbspTAG</b></td><td  style=\"background-color:LightGray;\"><b>EXAMPLES</b></td></tr><tr><td  style=\"background-color:Ivory;\">69638</td><td  style=\"background-color:Ivory;\">41.1%</td><td  style=\"background-color:Ivory;\">ms</td><td  style=\"background-color:Ivory;\">o(16.8%),&nbspque(10.9%),&nbspe(9.6%),&nbspum(5.2%),&nbsplivro(3.9%)</td></tr><tr><td  style=\"background-color:AliceBlue;\">32670</td><td  style=\"background-color:AliceBlue;\">19.3%</td><td  style=\"background-color:AliceBlue;\">fs</td><td  style=\"background-color:AliceBlue;\">a(27.5%),&nbspuma(8.1%),&nbsphistória(2.6%),&nbspvida(1.5%),&nbspessa(1.3%)</td></tr><tr><td  style=\"background-color:Ivory;\">12880</td><td  style=\"background-color:Ivory;\">7.6%</td><td  style=\"background-color:Ivory;\">mp</td><td  style=\"background-color:Ivory;\">os(22.8%),&nbsptodos(4.0%),&nbsplivros(2.9%),&nbsppersonagens(2.5%),&nbspseus(2.3%)</td></tr><tr><td  style=\"background-color:AliceBlue;\">9155</td><td  style=\"background-color:AliceBlue;\">5.4%</td><td  style=\"background-color:AliceBlue;\">Y2s</td><td  style=\"background-color:AliceBlue;\">sua(8.4%),&nbsptem(6.2%),&nbspestá(3.1%),&nbspfaz(2.7%),&nbsppode(2.7%)</td></tr><tr><td  style=\"background-color:Ivory;\">7386</td><td  style=\"background-color:Ivory;\">4.4%</td><td  style=\"background-color:Ivory;\">W3s</td><td  style=\"background-color:Ivory;\">ser(9.9%),&nbspler(8.0%),&nbspter(4.7%),&nbspfazer(2.8%),&nbspver(2.7%)</td></tr><tr><td  style=\"background-color:AliceBlue;\">7248</td><td  style=\"background-color:AliceBlue;\">4.3%</td><td  style=\"background-color:AliceBlue;\">fp</td><td  style=\"background-color:AliceBlue;\">as(24.2%),&nbsppessoas(4.5%),&nbspvezes(3.0%),&nbspcoisas(2.4%),&nbsptodas(2.2%)</td></tr><tr><td  style=\"background-color:Ivory;\">3949</td><td  style=\"background-color:Ivory;\">2.3%</td><td  style=\"background-color:Ivory;\">P3s</td><td  style=\"background-color:Ivory;\">é(98.4%),&nbspideia(1.1%),&nbspfogem(0.1%),&nbsprodeia(0.1%),&nbspbaseia(0.1%)</td></tr><tr><td  style=\"background-color:AliceBlue;\">2461</td><td  style=\"background-color:AliceBlue;\">1.5%</td><td  style=\"background-color:AliceBlue;\">J3s</td><td  style=\"background-color:AliceBlue;\">foi(26.7%),&nbspfez(3.9%),&nbspconseguiu(3.3%),&nbspteve(2.5%),&nbspdisse(2.3%)</td></tr><tr><td  style=\"background-color:Ivory;\">2143</td><td  style=\"background-color:Ivory;\">1.3%</td><td  style=\"background-color:Ivory;\">P3p</td><td  style=\"background-color:Ivory;\">são(28.3%),&nbspestão(3.4%),&nbspvivem(3.1%),&nbsppodem(2.7%),&nbspfazem(2.6%)</td></tr><tr><td  style=\"background-color:AliceBlue;\">1803</td><td  style=\"background-color:AliceBlue;\">1.1%</td><td  style=\"background-color:AliceBlue;\">Kms</td><td  style=\"background-color:AliceBlue;\">partido(9.4%),&nbspamado(8.7%),&nbspsido(3.3%),&nbsppublicado(1.7%),&nbspproibido(1.5%)</td></tr><tr><td  style=\"background-color:Ivory;\">1792</td><td  style=\"background-color:Ivory;\">1.1%</td><td  style=\"background-color:Ivory;\">G</td><td  style=\"background-color:Ivory;\">recomendo(8.4%),&nbspsendo(7.4%),&nbsplendo(3.6%),&nbspfazendo(2.9%),&nbspfalando(2.3%)</td></tr><tr><td  style=\"background-color:AliceBlue;\">1784</td><td  style=\"background-color:AliceBlue;\">1.1%</td><td  style=\"background-color:AliceBlue;\">J1s</td><td  style=\"background-color:AliceBlue;\">li(18.3%),&nbspgostei(9.1%),&nbspachei(9.0%),&nbspfiquei(4.9%),&nbspcomecei(3.7%)</td></tr><tr><td  style=\"background-color:Ivory;\">1555</td><td  style=\"background-color:Ivory;\">0.9%</td><td  style=\"background-color:Ivory;\">P1s</td><td  style=\"background-color:Ivory;\">acho(11.0%),&nbsptenho(6.7%),&nbspsei(6.0%),&nbspvou(4.9%),&nbspsou(4.7%)</td></tr><tr><td  style=\"background-color:AliceBlue;\">1228</td><td  style=\"background-color:AliceBlue;\">0.7%</td><td  style=\"background-color:AliceBlue;\">Y3s</td><td  style=\"background-color:AliceBlue;\">fala(15.5%),&nbspseja(12.5%),&nbspcomeça(10.5%),&nbspbala(10.2%),&nbsptenha(4.6%)</td></tr><tr><td  style=\"background-color:Ivory;\">1114</td><td  style=\"background-color:Ivory;\">0.7%</td><td  style=\"background-color:Ivory;\">I3s</td><td  style=\"background-color:Ivory;\">era(35.1%),&nbsptinha(19.2%),&nbsphavia(7.5%),&nbspqueria(6.5%),&nbspsabia(4.2%)</td></tr><tr><td  style=\"background-color:AliceBlue;\">1053</td><td  style=\"background-color:AliceBlue;\">0.6%</td><td  style=\"background-color:AliceBlue;\">N3ms</td><td  style=\"background-color:AliceBlue;\">ele(100.0%)</td></tr><tr><td  style=\"background-color:Ivory;\">1010</td><td  style=\"background-color:Ivory;\">0.6%</td><td  style=\"background-color:Ivory;\">N1ms</td><td  style=\"background-color:Ivory;\">eu(100.0%)</td></tr><tr><td  style=\"background-color:AliceBlue;\">992</td><td  style=\"background-color:AliceBlue;\">0.6%</td><td  style=\"background-color:AliceBlue;\">Kfs</td><td  style=\"background-color:AliceBlue;\">apaixonada(3.1%),&nbspchamada(2.6%),&nbspcontada(2.0%),&nbspdivertida(1.7%),&nbspdescrita(1.5%)</td></tr><tr><td  style=\"background-color:Ivory;\">922</td><td  style=\"background-color:Ivory;\">0.5%</td><td  style=\"background-color:Ivory;\">N3fs</td><td  style=\"background-color:Ivory;\">ela(100.0%)</td></tr><tr><td  style=\"background-color:AliceBlue;\">748</td><td  style=\"background-color:AliceBlue;\">0.4%</td><td  style=\"background-color:AliceBlue;\">R1ms</td><td  style=\"background-color:AliceBlue;\">me(100.0%)</td></tr><tr><td  style=\"background-color:Ivory;\">601</td><td  style=\"background-color:Ivory;\">0.4%</td><td  style=\"background-color:Ivory;\">P1p</td><td  style=\"background-color:Ivory;\">somos(14.0%),&nbsptemos(8.5%),&nbsppodemos(8.2%),&nbspestamos(7.8%),&nbspvemos(7.2%)</td></tr><tr><td  style=\"background-color:AliceBlue;\">575</td><td  style=\"background-color:AliceBlue;\">0.3%</td><td  style=\"background-color:AliceBlue;\">C3s</td><td  style=\"background-color:AliceBlue;\">seria(24.5%),&nbsppoderia(14.6%),&nbspgostaria(6.8%),&nbspteria(6.6%),&nbspdeveria(5.6%)</td></tr><tr><td  style=\"background-color:Ivory;\">549</td><td  style=\"background-color:Ivory;\">0.3%</td><td  style=\"background-color:Ivory;\">Kmp</td><td  style=\"background-color:Ivory;\">abandonados(3.6%),&nbspvigiados(2.6%),&nbspapresentados(2.6%),&nbspestados(2.0%),&nbspunidos(1.8%)</td></tr><tr><td  style=\"background-color:AliceBlue;\">532</td><td  style=\"background-color:AliceBlue;\">0.3%</td><td  style=\"background-color:AliceBlue;\">I1s</td><td  style=\"background-color:AliceBlue;\">estava(25.9%),&nbspesperava(7.3%),&nbspficava(3.0%),&nbspgostava(2.4%),&nbsppensava(2.3%)</td></tr><tr><td  style=\"background-color:Ivory;\">442</td><td  style=\"background-color:Ivory;\">0.3%</td><td  style=\"background-color:Ivory;\">1fs</td><td  style=\"background-color:Ivory;\">minha(69.0%),&nbspnossa(30.8%),&nbspminhã(0.2%)</td></tr><tr><td  style=\"background-color:AliceBlue;\">413</td><td  style=\"background-color:AliceBlue;\">0.2%</td><td  style=\"background-color:AliceBlue;\">3ms</td><td  style=\"background-color:AliceBlue;\">você(96.6%),&nbspvoce(3.1%),&nbspsenhor(0.2%)</td></tr><tr><td  style=\"background-color:Ivory;\">379</td><td  style=\"background-color:Ivory;\">0.2%</td><td  style=\"background-color:Ivory;\">Q3p</td><td  style=\"background-color:Ivory;\">foram(17.2%),&nbspfizeram(5.0%),&nbsppassaram(3.7%),&nbspficaram(3.4%),&nbsptiveram(2.4%)</td></tr><tr><td  style=\"background-color:AliceBlue;\">363</td><td  style=\"background-color:AliceBlue;\">0.2%</td><td  style=\"background-color:AliceBlue;\">P2s</td><td  style=\"background-color:AliceBlue;\">suas(63.1%),&nbspideias(6.9%),&nbsppodes(4.7%),&nbsppaginas(3.3%),&nbspvarias(3.0%)</td></tr><tr><td  style=\"background-color:Ivory;\">337</td><td  style=\"background-color:Ivory;\">0.2%</td><td  style=\"background-color:Ivory;\">I3p</td><td  style=\"background-color:Ivory;\">eram(24.3%),&nbsptinham(8.6%),&nbspestavam(5.3%),&nbspfaziam(4.5%),&nbspviviam(3.9%)</td></tr><tr><td  style=\"background-color:AliceBlue;\">318</td><td  style=\"background-color:AliceBlue;\">0.2%</td><td  style=\"background-color:AliceBlue;\">Kfp</td><td  style=\"background-color:AliceBlue;\">abandonadas(3.8%),&nbspdescritas(1.9%),&nbsprepetidas(1.9%),&nbspdeterminadas(1.9%),&nbspdivertidas(1.6%)</td></tr><tr><td  style=\"background-color:Ivory;\">297</td><td  style=\"background-color:Ivory;\">0.2%</td><td  style=\"background-color:Ivory;\">T3s</td><td  style=\"background-color:Ivory;\">fosse(30.3%),&nbsptivesse(15.2%),&nbspestivesse(5.7%),&nbsppudesse(5.1%),&nbspacontecesse(2.0%)</td></tr><tr><td  style=\"background-color:AliceBlue;\">290</td><td  style=\"background-color:AliceBlue;\">0.2%</td><td  style=\"background-color:AliceBlue;\">N3mp</td><td  style=\"background-color:AliceBlue;\">eles(100.0%)</td></tr><tr><td  style=\"background-color:Ivory;\">227</td><td  style=\"background-color:Ivory;\">0.1%</td><td  style=\"background-color:Ivory;\">Y3p</td><td  style=\"background-color:Ivory;\">sejam(9.7%),&nbspvão(9.3%),&nbspleiam(7.9%),&nbspcomeçam(7.5%),&nbspfalam(7.0%)</td></tr><tr><td  style=\"background-color:AliceBlue;\">200</td><td  style=\"background-color:AliceBlue;\">0.1%</td><td  style=\"background-color:AliceBlue;\">F3s</td><td  style=\"background-color:AliceBlue;\">será(37.5%),&nbspirá(7.0%),&nbspterá(4.0%),&nbspficará(3.5%),&nbspacontecerá(2.5%)</td></tr><tr><td  style=\"background-color:Ivory;\">200</td><td  style=\"background-color:Ivory;\">0.1%</td><td  style=\"background-color:Ivory;\">O3ms</td><td  style=\"background-color:Ivory;\">lo(66.5%),&nbsplhe(33.5%)</td></tr><tr><td  style=\"background-color:AliceBlue;\">187</td><td  style=\"background-color:AliceBlue;\">0.1%</td><td  style=\"background-color:AliceBlue;\">W3p</td><td  style=\"background-color:AliceBlue;\">serem(17.6%),&nbspterem(7.5%),&nbsplerem(4.8%),&nbspporem(4.3%),&nbspficarem(3.2%)</td></tr><tr><td  style=\"background-color:Ivory;\">181</td><td  style=\"background-color:Ivory;\">0.1%</td><td  style=\"background-color:Ivory;\">Y2p</td><td  style=\"background-color:Ivory;\">consegui(26.5%),&nbspsenti(15.5%),&nbspassisti(13.3%),&nbspouvi(9.9%),&nbspdescobri(8.3%)</td></tr><tr><td  style=\"background-color:AliceBlue;\">137</td><td  style=\"background-color:AliceBlue;\">0.1%</td><td  style=\"background-color:AliceBlue;\">O1ms</td><td  style=\"background-color:AliceBlue;\">mim(100.0%)</td></tr><tr><td  style=\"background-color:Ivory;\">136</td><td  style=\"background-color:Ivory;\">0.1%</td><td  style=\"background-color:Ivory;\">U3s</td><td  style=\"background-color:Ivory;\">houver(32.4%),&nbspfor(26.5%),&nbspquis(19.1%),&nbsptiver(8.1%),&nbspestiver(5.1%)</td></tr><tr><td  style=\"background-color:AliceBlue;\">132</td><td  style=\"background-color:AliceBlue;\">0.1%</td><td  style=\"background-color:AliceBlue;\">R2ms</td><td  style=\"background-color:AliceBlue;\">te(94.7%),&nbsptê(5.3%)</td></tr><tr><td  style=\"background-color:Ivory;\">114</td><td  style=\"background-color:Ivory;\">0.1%</td><td  style=\"background-color:Ivory;\">Dms</td><td  style=\"background-color:Ivory;\">sozinho(12.3%),&nbsppouquinho(9.6%),&nbsprapazinho(7.9%),&nbspgostinho(7.9%),&nbspbonzinho(6.1%)</td></tr><tr><td  style=\"background-color:AliceBlue;\">113</td><td  style=\"background-color:AliceBlue;\">0.1%</td><td  style=\"background-color:AliceBlue;\">Dfs</td><td  style=\"background-color:AliceBlue;\">cidadezinha(17.7%),&nbspmodinha(15.0%),&nbspmocinha(12.4%),&nbspsozinha(7.1%),&nbspirmãzinha(3.5%)</td></tr><tr><td  style=\"background-color:Ivory;\">104</td><td  style=\"background-color:Ivory;\">0.1%</td><td  style=\"background-color:Ivory;\">Cfp</td><td  style=\"background-color:Ivory;\">duas(97.1%),&nbsptrezentas(1.9%),&nbspduzentas(1.0%)</td></tr><tr><td  style=\"background-color:AliceBlue;\">90</td><td  style=\"background-color:AliceBlue;\">0.1%</td><td  style=\"background-color:AliceBlue;\">O3fs</td><td  style=\"background-color:AliceBlue;\">la(100.0%)</td></tr><tr><td  style=\"background-color:Ivory;\">90</td><td  style=\"background-color:Ivory;\">0.1%</td><td  style=\"background-color:Ivory;\">N3fp</td><td  style=\"background-color:Ivory;\">elas(100.0%)</td></tr><tr><td  style=\"background-color:AliceBlue;\">89</td><td  style=\"background-color:AliceBlue;\">0.1%</td><td  style=\"background-color:AliceBlue;\">Y1p</td><td  style=\"background-color:AliceBlue;\">vamos(37.1%),&nbspdigamos(18.0%),&nbspvejamos(4.5%),&nbsptenhamos(4.5%),&nbspconvenhamos(3.4%)</td></tr><tr><td  style=\"background-color:Ivory;\">73</td><td  style=\"background-color:Ivory;\">0.0%</td><td  style=\"background-color:Ivory;\">F3p</td><td  style=\"background-color:Ivory;\">serão(21.9%),&nbspirão(15.1%),&nbspestarão(4.1%),&nbsppoderão(4.1%),&nbspverão(4.1%)</td></tr><tr><td  style=\"background-color:AliceBlue;\">67</td><td  style=\"background-color:AliceBlue;\">0.0%</td><td  style=\"background-color:AliceBlue;\">C3p</td><td  style=\"background-color:AliceBlue;\">deveriam(16.4%),&nbsppoderiam(13.4%),&nbspseriam(11.9%),&nbspteriam(7.5%),&nbspdiriam(4.5%)</td></tr><tr><td  style=\"background-color:Ivory;\">66</td><td  style=\"background-color:Ivory;\">0.0%</td><td  style=\"background-color:Ivory;\">1fp</td><td  style=\"background-color:Ivory;\">nossas(54.5%),&nbspminhas(45.5%)</td></tr><tr><td  style=\"background-color:AliceBlue;\">56</td><td  style=\"background-color:AliceBlue;\">0.0%</td><td  style=\"background-color:AliceBlue;\">O3mp</td><td  style=\"background-color:AliceBlue;\">los(64.3%),&nbsplhes(35.7%)</td></tr><tr><td  style=\"background-color:Ivory;\">53</td><td  style=\"background-color:Ivory;\">0.0%</td><td  style=\"background-color:Ivory;\">T3p</td><td  style=\"background-color:Ivory;\">fossem(22.6%),&nbsppudessem(9.4%),&nbspconhecessem(5.7%),&nbsptivessem(5.7%),&nbspestivessem(3.8%)</td></tr><tr><td  style=\"background-color:AliceBlue;\">51</td><td  style=\"background-color:AliceBlue;\">0.0%</td><td  style=\"background-color:AliceBlue;\">W1p</td><td  style=\"background-color:AliceBlue;\">termos(9.8%),&nbspsermos(9.8%),&nbsppensarmos(9.8%),&nbspcompreendermos(3.9%),&nbsppodermos(3.9%)</td></tr><tr><td  style=\"background-color:Ivory;\">46</td><td  style=\"background-color:Ivory;\">0.0%</td><td  style=\"background-color:Ivory;\">F1s</td><td  style=\"background-color:Ivory;\">virei(15.2%),&nbspirei(13.0%),&nbsplerei(8.7%),&nbspesquecerei(6.5%),&nbspfarei(6.5%)</td></tr><tr><td  style=\"background-color:AliceBlue;\">38</td><td  style=\"background-color:AliceBlue;\">0.0%</td><td  style=\"background-color:AliceBlue;\">Dfp</td><td  style=\"background-color:AliceBlue;\">mocinhas(13.2%),&nbspgarotinhas(10.5%),&nbspestrelinhas(10.5%),&nbsphistorinhas(7.9%),&nbspcriancinhas(5.3%)</td></tr><tr><td  style=\"background-color:Ivory;\">36</td><td  style=\"background-color:Ivory;\">0.0%</td><td  style=\"background-color:Ivory;\">Dmp</td><td  style=\"background-color:Ivory;\">garotinhos(27.8%),&nbspbonzinhos(11.1%),&nbspsozinhos(11.1%),&nbspmocinhos(8.3%),&nbspilhéus(5.6%)</td></tr><tr><td  style=\"background-color:AliceBlue;\">35</td><td  style=\"background-color:AliceBlue;\">0.0%</td><td  style=\"background-color:AliceBlue;\">Q3s</td><td  style=\"background-color:AliceBlue;\">fora(31.4%),&nbspfizera(11.4%),&nbsplera(11.4%),&nbspfalecera(5.7%),&nbspmorrera(5.7%)</td></tr><tr><td  style=\"background-color:Ivory;\">35</td><td  style=\"background-color:Ivory;\">0.0%</td><td  style=\"background-color:Ivory;\">Q1s</td><td  style=\"background-color:Ivory;\">tomara(8.6%),&nbspacabara(8.6%),&nbspdeixara(5.7%),&nbspaceitara(2.9%),&nbspreceitara(2.9%)</td></tr><tr><td  style=\"background-color:AliceBlue;\">29</td><td  style=\"background-color:AliceBlue;\">0.0%</td><td  style=\"background-color:AliceBlue;\">3mp</td><td  style=\"background-color:AliceBlue;\">vocês(96.6%),&nbspvoces(3.4%)</td></tr><tr><td  style=\"background-color:Ivory;\">28</td><td  style=\"background-color:Ivory;\">0.0%</td><td  style=\"background-color:Ivory;\">Sms</td><td  style=\"background-color:Ivory;\">belíssimo(14.3%),&nbspmuitíssimo(14.3%),&nbspdivertidíssimo(10.7%),&nbspexcelentíssimo(7.1%),&nbspinteligentíssimo(7.1%)</td></tr><tr><td  style=\"background-color:AliceBlue;\">28</td><td  style=\"background-color:AliceBlue;\">0.0%</td><td  style=\"background-color:AliceBlue;\">Cmp</td><td  style=\"background-color:AliceBlue;\">cem(57.1%),&nbspmil(42.9%)</td></tr><tr><td  style=\"background-color:Ivory;\">20</td><td  style=\"background-color:Ivory;\">0.0%</td><td  style=\"background-color:Ivory;\">O3fp</td><td  style=\"background-color:Ivory;\">las(100.0%)</td></tr><tr><td  style=\"background-color:AliceBlue;\">19</td><td  style=\"background-color:AliceBlue;\">0.0%</td><td  style=\"background-color:AliceBlue;\">W3</td><td  style=\"background-color:AliceBlue;\">expor(57.9%),&nbspimpor(15.8%),&nbsppôr(5.3%),&nbsppropor(5.3%),&nbsptranspor(5.3%)</td></tr><tr><td  style=\"background-color:Ivory;\">19</td><td  style=\"background-color:Ivory;\">0.0%</td><td  style=\"background-color:Ivory;\">F1p</td><td  style=\"background-color:Ivory;\">teremos(15.8%),&nbspestaremos(10.5%),&nbsppoderemos(10.5%),&nbspchegaremos(10.5%),&nbspiremos(10.5%)</td></tr><tr><td  style=\"background-color:AliceBlue;\">19</td><td  style=\"background-color:AliceBlue;\">0.0%</td><td  style=\"background-color:AliceBlue;\">C1p</td><td  style=\"background-color:AliceBlue;\">perderíamos(15.8%),&nbspdiríamos(10.5%),&nbspdeveríamos(10.5%),&nbspseríamos(10.5%),&nbspagiríamos(5.3%)</td></tr><tr><td  style=\"background-color:Ivory;\">16</td><td  style=\"background-color:Ivory;\">0.0%</td><td  style=\"background-color:Ivory;\">Ams</td><td  style=\"background-color:Ivory;\">bonitão(31.2%),&nbspcaixão(12.5%),&nbspbarracão(12.5%),&nbspproblemão(6.2%),&nbspamarradão(6.2%)</td></tr><tr><td  style=\"background-color:AliceBlue;\">16</td><td  style=\"background-color:AliceBlue;\">0.0%</td><td  style=\"background-color:AliceBlue;\">S2s</td><td  style=\"background-color:AliceBlue;\">series(18.8%),&nbsppiores(12.5%),&nbspentregues(12.5%),&nbspsues(6.2%),&nbspescolhas(6.2%)</td></tr><tr><td  style=\"background-color:Ivory;\">15</td><td  style=\"background-color:Ivory;\">0.0%</td><td  style=\"background-color:Ivory;\">Y2S</td><td  style=\"background-color:Ivory;\">ri(100.0%)</td></tr><tr><td  style=\"background-color:AliceBlue;\">13</td><td  style=\"background-color:AliceBlue;\">0.0%</td><td  style=\"background-color:AliceBlue;\">Sfs</td><td  style=\"background-color:AliceBlue;\">belíssima(23.1%),&nbspfortíssima(7.7%),&nbspapaixonadíssima(7.7%),&nbspfamosíssima(7.7%),&nbspimportantíssima(7.7%)</td></tr><tr><td  style=\"background-color:Ivory;\">11</td><td  style=\"background-color:Ivory;\">0.0%</td><td  style=\"background-color:Ivory;\">U3p</td><td  style=\"background-color:Ivory;\">tiverem(27.3%),&nbspforem(27.3%),&nbspestiverem(18.2%),&nbsphouverem(9.1%),&nbsppuderem(9.1%)</td></tr><tr><td  style=\"background-color:AliceBlue;\">11</td><td  style=\"background-color:AliceBlue;\">0.0%</td><td  style=\"background-color:AliceBlue;\">T1p</td><td  style=\"background-color:AliceBlue;\">pudéssemos(18.2%),&nbspolhássemos(9.1%),&nbspsucumbíssemos(9.1%),&nbspestivessemos(9.1%),&nbspenxergássemos(9.1%)</td></tr><tr><td  style=\"background-color:Ivory;\">11</td><td  style=\"background-color:Ivory;\">0.0%</td><td  style=\"background-color:Ivory;\">I1p</td><td  style=\"background-color:Ivory;\">tínhamos(18.2%),&nbspestávamos(18.2%),&nbspsabíamos(18.2%),&nbspéramos(18.2%),&nbspvivíamos(9.1%)</td></tr><tr><td  style=\"background-color:AliceBlue;\">9</td><td  style=\"background-color:AliceBlue;\">0.0%</td><td  style=\"background-color:AliceBlue;\">Sfp</td><td  style=\"background-color:AliceBlue;\">fortíssimas(22.2%),&nbspengraçadíssimas(22.2%),&nbspdivertidíssimas(11.1%),&nbspparecidíssimas(11.1%),&nbspbelíssimas(11.1%)</td></tr><tr><td  style=\"background-color:Ivory;\">8</td><td  style=\"background-color:Ivory;\">0.0%</td><td  style=\"background-color:Ivory;\">K</td><td  style=\"background-color:Ivory;\">vindo(87.5%),&nbspadvindo(12.5%)</td></tr><tr><td  style=\"background-color:AliceBlue;\">7</td><td  style=\"background-color:AliceBlue;\">0.0%</td><td  style=\"background-color:AliceBlue;\">3fs</td><td  style=\"background-color:AliceBlue;\">senhora(100.0%)</td></tr><tr><td  style=\"background-color:Ivory;\">7</td><td  style=\"background-color:Ivory;\">0.0%</td><td  style=\"background-color:Ivory;\">J1p</td><td  style=\"background-color:Ivory;\">fomos(42.9%),&nbsptivemos(28.6%),&nbspfizemos(14.3%),&nbspdissemos(14.3%)</td></tr><tr><td  style=\"background-color:AliceBlue;\">6</td><td  style=\"background-color:AliceBlue;\">0.0%</td><td  style=\"background-color:AliceBlue;\">O2ms</td><td  style=\"background-color:AliceBlue;\">ti(100.0%)</td></tr><tr><td  style=\"background-color:Ivory;\">6</td><td  style=\"background-color:Ivory;\">0.0%</td><td  style=\"background-color:Ivory;\">N2ms</td><td  style=\"background-color:Ivory;\">tu(100.0%)</td></tr><tr><td  style=\"background-color:AliceBlue;\">6</td><td  style=\"background-color:AliceBlue;\">0.0%</td><td  style=\"background-color:AliceBlue;\">Amp</td><td  style=\"background-color:AliceBlue;\">durões(50.0%),&nbspcaixões(33.3%),&nbspfigurões(16.7%)</td></tr><tr><td  style=\"background-color:Ivory;\">5</td><td  style=\"background-color:Ivory;\">0.0%</td><td  style=\"background-color:Ivory;\">2mp</td><td  style=\"background-color:Ivory;\">teus(100.0%)</td></tr><tr><td  style=\"background-color:AliceBlue;\">5</td><td  style=\"background-color:AliceBlue;\">0.0%</td><td  style=\"background-color:AliceBlue;\">S2p</td><td  style=\"background-color:AliceBlue;\">fieis(40.0%),&nbspareis(20.0%),&nbspmorrais(20.0%),&nbspatuais(20.0%)</td></tr><tr><td  style=\"background-color:Ivory;\">5</td><td  style=\"background-color:Ivory;\">0.0%</td><td  style=\"background-color:Ivory;\">P2p</td><td  style=\"background-color:Ivory;\">habituais(40.0%),&nbsphabitáis(20.0%),&nbsppossui-lá(20.0%),&nbspareais(20.0%)</td></tr><tr><td  style=\"background-color:AliceBlue;\">5</td><td  style=\"background-color:AliceBlue;\">0.0%</td><td  style=\"background-color:AliceBlue;\">Smp</td><td  style=\"background-color:AliceBlue;\">pouquíssimos(40.0%),&nbspchatíssimos(20.0%),&nbspsofisticadíssimos(20.0%),&nbspfortíssimos(20.0%)</td></tr><tr><td  style=\"background-color:Ivory;\">4</td><td  style=\"background-color:Ivory;\">0.0%</td><td  style=\"background-color:Ivory;\">Fms</td><td  style=\"background-color:Ivory;\">terço(100.0%)</td></tr><tr><td  style=\"background-color:AliceBlue;\">4</td><td  style=\"background-color:AliceBlue;\">0.0%</td><td  style=\"background-color:AliceBlue;\">U1p</td><td  style=\"background-color:AliceBlue;\">formos(50.0%),&nbsptivermos(25.0%),&nbspfizermos(25.0%)</td></tr><tr><td  style=\"background-color:Ivory;\">4</td><td  style=\"background-color:Ivory;\">0.0%</td><td  style=\"background-color:Ivory;\">W2s</td><td  style=\"background-color:Ivory;\">desenrolares(25.0%),&nbsppesares(25.0%),&nbspveres(25.0%),&nbsptirares(25.0%)</td></tr><tr><td  style=\"background-color:AliceBlue;\">3</td><td  style=\"background-color:AliceBlue;\">0.0%</td><td  style=\"background-color:AliceBlue;\">F2s</td><td  style=\"background-color:AliceBlue;\">dirás(33.3%),&nbspsê-lo-ás(33.3%),&nbspaprenderás(33.3%)</td></tr><tr><td  style=\"background-color:Ivory;\">3</td><td  style=\"background-color:Ivory;\">0.0%</td><td  style=\"background-color:Ivory;\">2fs</td><td  style=\"background-color:Ivory;\">tua(100.0%)</td></tr><tr><td  style=\"background-color:AliceBlue;\">3</td><td  style=\"background-color:AliceBlue;\">0.0%</td><td  style=\"background-color:AliceBlue;\">Q2s</td><td  style=\"background-color:AliceBlue;\">convenceras(33.3%),&nbspdeveras(33.3%),&nbspcamaras(33.3%)</td></tr><tr><td  style=\"background-color:Ivory;\">2</td><td  style=\"background-color:Ivory;\">0.0%</td><td  style=\"background-color:Ivory;\">F2p</td><td  style=\"background-color:Ivory;\">comereis(50.0%),&nbsptocareis(50.0%)</td></tr><tr><td  style=\"background-color:AliceBlue;\">2</td><td  style=\"background-color:AliceBlue;\">0.0%</td><td  style=\"background-color:AliceBlue;\">2ms</td><td  style=\"background-color:AliceBlue;\">teu(100.0%)</td></tr><tr><td  style=\"background-color:Ivory;\">1</td><td  style=\"background-color:Ivory;\">0.0%</td><td  style=\"background-color:Ivory;\">S3s</td><td  style=\"background-color:Ivory;\">paira(100.0%)</td></tr><tr><td  style=\"background-color:AliceBlue;\">1</td><td  style=\"background-color:AliceBlue;\">0.0%</td><td  style=\"background-color:AliceBlue;\">I2s</td><td  style=\"background-color:AliceBlue;\">ferias(100.0%)</td></tr><tr><td  style=\"background-color:Ivory;\">1</td><td  style=\"background-color:Ivory;\">0.0%</td><td  style=\"background-color:Ivory;\">W2p</td><td  style=\"background-color:Ivory;\">verdes(100.0%)</td></tr><tr><td  style=\"background-color:AliceBlue;\">1</td><td  style=\"background-color:AliceBlue;\">0.0%</td><td  style=\"background-color:AliceBlue;\">Fmp</td><td  style=\"background-color:AliceBlue;\">terços(100.0%)</td></tr><tr><td  style=\"background-color:Ivory;\">1</td><td  style=\"background-color:Ivory;\">0.0%</td><td  style=\"background-color:Ivory;\">Afs</td><td  style=\"background-color:Ivory;\">telona(100.0%)</td></tr><tr><td  style=\"background-color:AliceBlue;\">1</td><td  style=\"background-color:AliceBlue;\">0.0%</td><td  style=\"background-color:AliceBlue;\">N2mp</td><td  style=\"background-color:AliceBlue;\">vós(100.0%)</td></tr><tr><td  style=\"background-color:Ivory;\">1</td><td  style=\"background-color:Ivory;\">0.0%</td><td  style=\"background-color:Ivory;\">C2s</td><td  style=\"background-color:Ivory;\">revolucionarias(100.0%)</td></tr></table>"
      ],
      "text/plain": [
       "<ipy_table.IpyTable at 0x7f349b13ce10>"
      ]
     },
     "execution_count": 9,
     "metadata": {},
     "output_type": "execute_result"
    }
   ],
   "source": [
    "morf_freq = dict()\n",
    "freqlist = dict()\n",
    "\n",
    "for word_node in reviews.iter('word'):\n",
    "    form = word_node.get('form').lower()\n",
    "    morf_tags = word_node.get('morf').split()\n",
    "    \n",
    "    for tag in morf_tags:\n",
    "        morf_freq[tag] = morf_freq.get(tag, 0) + 1\n",
    "        if tag not in freqlist:\n",
    "            freqlist[tag] = dict()\n",
    "        freqlist[tag][form] = freqlist[tag].get(form, 0) + 1 \n",
    "    \n",
    "data = [['FREQ', '% FREQ', 'MORF TAG', 'EXAMPLES']]\n",
    "\n",
    "for tag, freq in sorted(morf_freq.items(), key=itemgetter(1), reverse=True):\n",
    "    examples = ', '.join(['{}({:.1f}%)'.format(w,f / sum(freqlist[tag].values()) * 100) \n",
    "                          for w,f in sorted(freqlist[tag].items(), key=itemgetter(1), reverse=True)[:5]])\n",
    "    ratio = freq / sum(morf_freq.values()) * 100\n",
    "    data.append([freq, '{:.1f}%'.format(ratio), tag, examples])\n",
    "\n",
    "ipy_table.make_table(data)\n",
    "ipy_table.apply_theme('basic')"
   ]
  },
  {
   "cell_type": "markdown",
   "metadata": {
    "collapsed": true
   },
   "source": [
    "## Aspect Frequency"
   ]
  },
  {
   "cell_type": "code",
   "execution_count": 10,
   "metadata": {
    "collapsed": false
   },
   "outputs": [
    {
     "data": {
      "text/html": [
       "<table border=\"1\" cellpadding=\"3\" cellspacing=\"0\"  style=\"border:1px solid black;border-collapse:collapse;\"><tr><td  style=\"background-color:LightGray;\"><b>freq</b></td><td  style=\"background-color:LightGray;\"><b>%freq</b></td><td  style=\"background-color:LightGray;\"><b>aspect(OBJ)</b></td></tr><tr><td  style=\"background-color:Ivory;\">916</td><td  style=\"background-color:Ivory;\">33.1%</td><td  style=\"background-color:Ivory;\">livro</td></tr><tr><td  style=\"background-color:AliceBlue;\">208</td><td  style=\"background-color:AliceBlue;\">7.5%</td><td  style=\"background-color:AliceBlue;\">história</td></tr><tr><td  style=\"background-color:Ivory;\">112</td><td  style=\"background-color:Ivory;\">4.0%</td><td  style=\"background-color:Ivory;\">leitura</td></tr><tr><td  style=\"background-color:AliceBlue;\">85</td><td  style=\"background-color:AliceBlue;\">3.1%</td><td  style=\"background-color:AliceBlue;\">personagens</td></tr><tr><td  style=\"background-color:Ivory;\">62</td><td  style=\"background-color:Ivory;\">2.2%</td><td  style=\"background-color:Ivory;\">crepúsculo</td></tr><tr><td  style=\"background-color:AliceBlue;\">61</td><td  style=\"background-color:AliceBlue;\">2.2%</td><td  style=\"background-color:AliceBlue;\">narrativa</td></tr><tr><td  style=\"background-color:Ivory;\">57</td><td  style=\"background-color:Ivory;\">2.1%</td><td  style=\"background-color:Ivory;\">final</td></tr><tr><td  style=\"background-color:AliceBlue;\">55</td><td  style=\"background-color:AliceBlue;\">2.0%</td><td  style=\"background-color:AliceBlue;\">romance</td></tr><tr><td  style=\"background-color:Ivory;\">48</td><td  style=\"background-color:Ivory;\">1.7%</td><td  style=\"background-color:Ivory;\">obra</td></tr><tr><td  style=\"background-color:AliceBlue;\">43</td><td  style=\"background-color:AliceBlue;\">1.6%</td><td  style=\"background-color:AliceBlue;\">1984</td></tr><tr><td  style=\"background-color:Ivory;\">43</td><td  style=\"background-color:Ivory;\">1.6%</td><td  style=\"background-color:Ivory;\">ele</td></tr><tr><td  style=\"background-color:AliceBlue;\">34</td><td  style=\"background-color:AliceBlue;\">1.2%</td><td  style=\"background-color:AliceBlue;\">trama</td></tr><tr><td  style=\"background-color:Ivory;\">34</td><td  style=\"background-color:Ivory;\">1.2%</td><td  style=\"background-color:Ivory;\">enredo</td></tr><tr><td  style=\"background-color:AliceBlue;\">32</td><td  style=\"background-color:AliceBlue;\">1.2%</td><td  style=\"background-color:AliceBlue;\">historia</td></tr><tr><td  style=\"background-color:Ivory;\">25</td><td  style=\"background-color:Ivory;\">0.9%</td><td  style=\"background-color:Ivory;\">personagem</td></tr><tr><td  style=\"background-color:AliceBlue;\">23</td><td  style=\"background-color:AliceBlue;\">0.8%</td><td  style=\"background-color:AliceBlue;\">bella</td></tr><tr><td  style=\"background-color:Ivory;\">22</td><td  style=\"background-color:Ivory;\">0.8%</td><td  style=\"background-color:Ivory;\">linguagem</td></tr><tr><td  style=\"background-color:AliceBlue;\">22</td><td  style=\"background-color:AliceBlue;\">0.8%</td><td  style=\"background-color:AliceBlue;\">ensaio&nbspsobre&nbspa&nbspcegueira</td></tr><tr><td  style=\"background-color:Ivory;\">18</td><td  style=\"background-color:Ivory;\">0.6%</td><td  style=\"background-color:Ivory;\">ela</td></tr><tr><td  style=\"background-color:AliceBlue;\">17</td><td  style=\"background-color:AliceBlue;\">0.6%</td><td  style=\"background-color:AliceBlue;\">começo</td></tr></table>"
      ],
      "text/plain": [
       "<ipy_table.IpyTable at 0x7f3490198c50>"
      ]
     },
     "execution_count": 10,
     "metadata": {},
     "output_type": "execute_result"
    }
   ],
   "source": [
    "freqlist =  Counter([node.get('target').lower() for node in reviews.iter('opinion')])\n",
    "\n",
    "data = [['freq', '%freq', 'aspect(OBJ)']]\n",
    "for token, freq in freqlist.most_common(20):\n",
    "    ratio = freq / sum(freqlist.values()) *100\n",
    "    data.append([freq, '{:.1f}%'.format(ratio), token])\n",
    "\n",
    "ipy_table.make_table(data)\n",
    "ipy_table.apply_theme('basic')"
   ]
  },
  {
   "cell_type": "code",
   "execution_count": 11,
   "metadata": {
    "collapsed": false
   },
   "outputs": [
    {
     "data": {
      "text/html": [
       "<table border=\"1\" cellpadding=\"3\" cellspacing=\"0\"  style=\"border:1px solid black;border-collapse:collapse;\"><tr><td  style=\"background-color:LightGray;\"><b>Total&nbspin&nbspCorpus</b></td><td  style=\"background-color:LightGray;\"><b>Total&nbspas&nbsptarget</b></td><td  style=\"background-color:LightGray;\"><b>Freq&nbspas&nbsptarget</b></td><td  style=\"background-color:LightGray;\"><b>aspect&nbspchunk</b></td></tr><tr><td  style=\"background-color:Ivory;\">2779</td><td  style=\"background-color:Ivory;\">916</td><td  style=\"background-color:Ivory;\">33.0%</td><td  style=\"background-color:Ivory;\">livro</td></tr><tr><td  style=\"background-color:AliceBlue;\">864</td><td  style=\"background-color:AliceBlue;\">208</td><td  style=\"background-color:AliceBlue;\">24.1%</td><td  style=\"background-color:AliceBlue;\">história</td></tr><tr><td  style=\"background-color:Ivory;\">409</td><td  style=\"background-color:Ivory;\">112</td><td  style=\"background-color:Ivory;\">27.4%</td><td  style=\"background-color:Ivory;\">leitura</td></tr><tr><td  style=\"background-color:AliceBlue;\">321</td><td  style=\"background-color:AliceBlue;\">85</td><td  style=\"background-color:AliceBlue;\">26.5%</td><td  style=\"background-color:AliceBlue;\">personagens</td></tr><tr><td  style=\"background-color:Ivory;\">260</td><td  style=\"background-color:Ivory;\">62</td><td  style=\"background-color:Ivory;\">23.8%</td><td  style=\"background-color:Ivory;\">crepúsculo</td></tr><tr><td  style=\"background-color:AliceBlue;\">141</td><td  style=\"background-color:AliceBlue;\">61</td><td  style=\"background-color:AliceBlue;\">43.3%</td><td  style=\"background-color:AliceBlue;\">narrativa</td></tr><tr><td  style=\"background-color:Ivory;\">193</td><td  style=\"background-color:Ivory;\">57</td><td  style=\"background-color:Ivory;\">29.5%</td><td  style=\"background-color:Ivory;\">final</td></tr><tr><td  style=\"background-color:AliceBlue;\">274</td><td  style=\"background-color:AliceBlue;\">55</td><td  style=\"background-color:AliceBlue;\">20.1%</td><td  style=\"background-color:AliceBlue;\">romance</td></tr><tr><td  style=\"background-color:Ivory;\">251</td><td  style=\"background-color:Ivory;\">48</td><td  style=\"background-color:Ivory;\">19.1%</td><td  style=\"background-color:Ivory;\">obra</td></tr><tr><td  style=\"background-color:AliceBlue;\">198</td><td  style=\"background-color:AliceBlue;\">43</td><td  style=\"background-color:AliceBlue;\">21.7%</td><td  style=\"background-color:AliceBlue;\">1984</td></tr><tr><td  style=\"background-color:Ivory;\">1053</td><td  style=\"background-color:Ivory;\">43</td><td  style=\"background-color:Ivory;\">4.1%</td><td  style=\"background-color:Ivory;\">ele</td></tr><tr><td  style=\"background-color:AliceBlue;\">95</td><td  style=\"background-color:AliceBlue;\">34</td><td  style=\"background-color:AliceBlue;\">35.8%</td><td  style=\"background-color:AliceBlue;\">trama</td></tr><tr><td  style=\"background-color:Ivory;\">66</td><td  style=\"background-color:Ivory;\">34</td><td  style=\"background-color:Ivory;\">51.5%</td><td  style=\"background-color:Ivory;\">enredo</td></tr><tr><td  style=\"background-color:AliceBlue;\">122</td><td  style=\"background-color:AliceBlue;\">32</td><td  style=\"background-color:AliceBlue;\">26.2%</td><td  style=\"background-color:AliceBlue;\">historia</td></tr><tr><td  style=\"background-color:Ivory;\">230</td><td  style=\"background-color:Ivory;\">25</td><td  style=\"background-color:Ivory;\">10.9%</td><td  style=\"background-color:Ivory;\">personagem</td></tr><tr><td  style=\"background-color:AliceBlue;\">376</td><td  style=\"background-color:AliceBlue;\">23</td><td  style=\"background-color:AliceBlue;\">6.1%</td><td  style=\"background-color:AliceBlue;\">bella</td></tr><tr><td  style=\"background-color:Ivory;\">58</td><td  style=\"background-color:Ivory;\">22</td><td  style=\"background-color:Ivory;\">37.9%</td><td  style=\"background-color:Ivory;\">linguagem</td></tr><tr><td  style=\"background-color:AliceBlue;\">99</td><td  style=\"background-color:AliceBlue;\">22</td><td  style=\"background-color:AliceBlue;\">22.2%</td><td  style=\"background-color:AliceBlue;\">ensaio&nbspsobre&nbspa&nbspcegueira</td></tr><tr><td  style=\"background-color:Ivory;\">922</td><td  style=\"background-color:Ivory;\">18</td><td  style=\"background-color:Ivory;\">2.0%</td><td  style=\"background-color:Ivory;\">ela</td></tr><tr><td  style=\"background-color:AliceBlue;\">107</td><td  style=\"background-color:AliceBlue;\">17</td><td  style=\"background-color:AliceBlue;\">15.9%</td><td  style=\"background-color:AliceBlue;\">começo</td></tr></table>"
      ],
      "text/plain": [
       "<ipy_table.IpyTable at 0x7f34901365f8>"
      ]
     },
     "execution_count": 11,
     "metadata": {},
     "output_type": "execute_result"
    }
   ],
   "source": [
    "sentences = ' '.join([node.get('form').lower() for node in reviews.iter('word')])\n",
    "freqlist =  Counter([node.get('target').lower() for node in reviews.iter('opinion')])\n",
    "\n",
    "data = [['Total in Corpus', 'Total as target',  'Freq as target', 'aspect chunk']]\n",
    "for token, freq in freqlist.most_common(20):\n",
    "    total = sentences.count(' ' + token + ' ')\n",
    "    ratio = freq / total *100    \n",
    "    data.append([total, freq,'{:.1f}%'.format(ratio), token])\n",
    "\n",
    "ipy_table.make_table(data)\n",
    "ipy_table.apply_theme('basic')"
   ]
  },
  {
   "cell_type": "markdown",
   "metadata": {
    "collapsed": true
   },
   "source": [
    "## Opinion frequency"
   ]
  },
  {
   "cell_type": "code",
   "execution_count": 12,
   "metadata": {
    "collapsed": false
   },
   "outputs": [
    {
     "data": {
      "text/html": [
       "<table border=\"1\" cellpadding=\"3\" cellspacing=\"0\"  style=\"border:1px solid black;border-collapse:collapse;\"><tr><td  style=\"background-color:LightGray;\"><b>Total&nbspin&nbspCorpus</b></td><td  style=\"background-color:LightGray;\"><b>Total&nbspas&nbspopinion</b></td><td  style=\"background-color:LightGray;\"><b>Freq&nbspas&nbspopinion</b></td><td  style=\"background-color:LightGray;\"><b>aspect&nbspchunk</b></td></tr><tr><td  style=\"background-color:Ivory;\">371</td><td  style=\"background-color:Ivory;\">140</td><td  style=\"background-color:Ivory;\">37.7%</td><td  style=\"background-color:Ivory;\">bom</td></tr><tr><td  style=\"background-color:AliceBlue;\">150</td><td  style=\"background-color:AliceBlue;\">113</td><td  style=\"background-color:AliceBlue;\">75.3%</td><td  style=\"background-color:AliceBlue;\">recomendo</td></tr><tr><td  style=\"background-color:Ivory;\">163</td><td  style=\"background-color:Ivory;\">92</td><td  style=\"background-color:Ivory;\">56.4%</td><td  style=\"background-color:Ivory;\">gostei</td></tr><tr><td  style=\"background-color:AliceBlue;\">147</td><td  style=\"background-color:AliceBlue;\">60</td><td  style=\"background-color:AliceBlue;\">40.8%</td><td  style=\"background-color:AliceBlue;\">interessante</td></tr><tr><td  style=\"background-color:Ivory;\">70</td><td  style=\"background-color:Ivory;\">46</td><td  style=\"background-color:Ivory;\">65.7%</td><td  style=\"background-color:Ivory;\">ótimo</td></tr><tr><td  style=\"background-color:AliceBlue;\">60</td><td  style=\"background-color:AliceBlue;\">45</td><td  style=\"background-color:AliceBlue;\">75.0%</td><td  style=\"background-color:AliceBlue;\">envolvente</td></tr><tr><td  style=\"background-color:Ivory;\">59</td><td  style=\"background-color:Ivory;\">43</td><td  style=\"background-color:Ivory;\">72.9%</td><td  style=\"background-color:Ivory;\">adorei</td></tr><tr><td  style=\"background-color:AliceBlue;\">50</td><td  style=\"background-color:AliceBlue;\">35</td><td  style=\"background-color:AliceBlue;\">70.0%</td><td  style=\"background-color:AliceBlue;\">amei</td></tr><tr><td  style=\"background-color:Ivory;\">106</td><td  style=\"background-color:Ivory;\">33</td><td  style=\"background-color:Ivory;\">31.1%</td><td  style=\"background-color:Ivory;\">perfeito</td></tr><tr><td  style=\"background-color:AliceBlue;\">54</td><td  style=\"background-color:AliceBlue;\">31</td><td  style=\"background-color:AliceBlue;\">57.4%</td><td  style=\"background-color:AliceBlue;\">excelente</td></tr><tr><td  style=\"background-color:Ivory;\">44</td><td  style=\"background-color:Ivory;\">28</td><td  style=\"background-color:Ivory;\">63.6%</td><td  style=\"background-color:Ivory;\">fantástico</td></tr><tr><td  style=\"background-color:AliceBlue;\">53</td><td  style=\"background-color:AliceBlue;\">27</td><td  style=\"background-color:AliceBlue;\">50.9%</td><td  style=\"background-color:AliceBlue;\">maravilhoso</td></tr><tr><td  style=\"background-color:Ivory;\">78</td><td  style=\"background-color:Ivory;\">25</td><td  style=\"background-color:Ivory;\">32.1%</td><td  style=\"background-color:Ivory;\">lindo</td></tr><tr><td  style=\"background-color:AliceBlue;\">62</td><td  style=\"background-color:AliceBlue;\">25</td><td  style=\"background-color:AliceBlue;\">40.3%</td><td  style=\"background-color:AliceBlue;\">legal</td></tr><tr><td  style=\"background-color:Ivory;\">124</td><td  style=\"background-color:Ivory;\">23</td><td  style=\"background-color:Ivory;\">18.5%</td><td  style=\"background-color:Ivory;\">boa</td></tr><tr><td  style=\"background-color:AliceBlue;\">55</td><td  style=\"background-color:AliceBlue;\">22</td><td  style=\"background-color:AliceBlue;\">40.0%</td><td  style=\"background-color:AliceBlue;\">incrível</td></tr><tr><td  style=\"background-color:Ivory;\">96</td><td  style=\"background-color:Ivory;\">22</td><td  style=\"background-color:Ivory;\">22.9%</td><td  style=\"background-color:Ivory;\">fácil</td></tr><tr><td  style=\"background-color:AliceBlue;\">36</td><td  style=\"background-color:AliceBlue;\">22</td><td  style=\"background-color:AliceBlue;\">61.1%</td><td  style=\"background-color:AliceBlue;\">emocionante</td></tr><tr><td  style=\"background-color:Ivory;\">29</td><td  style=\"background-color:Ivory;\">21</td><td  style=\"background-color:Ivory;\">72.4%</td><td  style=\"background-color:Ivory;\">fascinante</td></tr><tr><td  style=\"background-color:AliceBlue;\">27</td><td  style=\"background-color:AliceBlue;\">21</td><td  style=\"background-color:AliceBlue;\">77.8%</td><td  style=\"background-color:AliceBlue;\">bem&nbspescrito</td></tr></table>"
      ],
      "text/plain": [
       "<ipy_table.IpyTable at 0x7f34901365c0>"
      ]
     },
     "execution_count": 12,
     "metadata": {},
     "output_type": "execute_result"
    }
   ],
   "source": [
    "sentences = ' '.join([node.get('form').lower() for node in reviews.iter('word')])\n",
    "\n",
    "# get chunks of opinions in the corpus\n",
    "opinions_list = []\n",
    "for sentence_node in reviews.iter('sentence'):    \n",
    "    chunk = []\n",
    "    for word_node in sentence_node.iter('word'):\n",
    "        if word_node.get('opinion') != 'O':\n",
    "            chunk.append(word_node.get('form').lower())\n",
    "        else:\n",
    "            if len(chunk) != 0:\n",
    "                opinions_list.append(' '.join(chunk))\n",
    "                chunk = []\n",
    "    if len(chunk) != 0:\n",
    "        opinions_list.append(' '.join(chunk))\n",
    "\n",
    "freqlist =  Counter(opinions_list)\n",
    "\n",
    "data = [['Total in Corpus', 'Total as opinion',  'Freq as opinion', 'aspect chunk']]\n",
    "for token, freq in freqlist.most_common(20):\n",
    "    total = sentences.count(' ' + token + ' ')\n",
    "    ratio = freq / total *100    \n",
    "    data.append([total, freq,'{:.1f}%'.format(ratio), token])\n",
    "\n",
    "ipy_table.make_table(data)\n",
    "ipy_table.apply_theme('basic')"
   ]
  },
  {
   "cell_type": "markdown",
   "metadata": {},
   "source": [
    "### Aspect polarity"
   ]
  },
  {
   "cell_type": "code",
   "execution_count": 6,
   "metadata": {
    "collapsed": false
   },
   "outputs": [],
   "source": [
    "from collections import Counter\n",
    "targets = Counter([opinion_node.get('target').lower() for opinion_node in reviews.iter('Opinion') if opinion_node.get('target') != 'NULL'])\n",
    "\n",
    "\n",
    "targets_polarity = {}\n",
    "for opinion_node in reviews.iter('Opinion'):\n",
    "    if opinion_node.get('target') != 'NULL':\n",
    "            target = opinion_node.get('target').lower()\n",
    "            polarity = opinion_node.get('polarity')\n",
    "            if target not in targets_polarity:\n",
    "                targets_polarity[target] = {}\n",
    "                \n",
    "            targets_polarity[target][polarity] = targets_polarity[target].get(polarity, 0) + 1"
   ]
  },
  {
   "cell_type": "code",
   "execution_count": 7,
   "metadata": {
    "collapsed": false
   },
   "outputs": [
    {
     "data": {
      "text/html": [
       "<table border=\"1\" cellpadding=\"3\" cellspacing=\"0\"  style=\"border:1px solid black;border-collapse:collapse;\"><tr><td  style=\"background-color:LightGray;\"><b>freq</b></td><td  style=\"background-color:LightGray;\"><b>%freq</b></td><td  style=\"background-color:LightGray;\"><b>target</b></td><td  style=\"background-color:LightGray;\"><b>positive</b></td><td  style=\"background-color:LightGray;\"><b>negative</b></td><td  style=\"background-color:LightGray;\"><b>neutral</b></td></tr><tr><td  style=\"background-color:Ivory;\">916</td><td  style=\"background-color:Ivory;\">33.1%</td><td  style=\"background-color:Ivory;\">livro</td><td  style=\"background-color:Ivory;\">761</td><td  style=\"background-color:Ivory;\">144</td><td  style=\"background-color:Ivory;\">0</td></tr><tr><td  style=\"background-color:AliceBlue;\">208</td><td  style=\"background-color:AliceBlue;\">7.5%</td><td  style=\"background-color:AliceBlue;\">história</td><td  style=\"background-color:AliceBlue;\">158</td><td  style=\"background-color:AliceBlue;\">45</td><td  style=\"background-color:AliceBlue;\">0</td></tr><tr><td  style=\"background-color:Ivory;\">112</td><td  style=\"background-color:Ivory;\">4.0%</td><td  style=\"background-color:Ivory;\">leitura</td><td  style=\"background-color:Ivory;\">89</td><td  style=\"background-color:Ivory;\">23</td><td  style=\"background-color:Ivory;\">0</td></tr><tr><td  style=\"background-color:AliceBlue;\">85</td><td  style=\"background-color:AliceBlue;\">3.1%</td><td  style=\"background-color:AliceBlue;\">personagens</td><td  style=\"background-color:AliceBlue;\">57</td><td  style=\"background-color:AliceBlue;\">23</td><td  style=\"background-color:AliceBlue;\">0</td></tr><tr><td  style=\"background-color:Ivory;\">62</td><td  style=\"background-color:Ivory;\">2.2%</td><td  style=\"background-color:Ivory;\">crepúsculo</td><td  style=\"background-color:Ivory;\">38</td><td  style=\"background-color:Ivory;\">19</td><td  style=\"background-color:Ivory;\">0</td></tr><tr><td  style=\"background-color:AliceBlue;\">61</td><td  style=\"background-color:AliceBlue;\">2.2%</td><td  style=\"background-color:AliceBlue;\">narrativa</td><td  style=\"background-color:AliceBlue;\">47</td><td  style=\"background-color:AliceBlue;\">12</td><td  style=\"background-color:AliceBlue;\">0</td></tr><tr><td  style=\"background-color:Ivory;\">57</td><td  style=\"background-color:Ivory;\">2.1%</td><td  style=\"background-color:Ivory;\">final</td><td  style=\"background-color:Ivory;\">35</td><td  style=\"background-color:Ivory;\">20</td><td  style=\"background-color:Ivory;\">0</td></tr><tr><td  style=\"background-color:AliceBlue;\">55</td><td  style=\"background-color:AliceBlue;\">2.0%</td><td  style=\"background-color:AliceBlue;\">romance</td><td  style=\"background-color:AliceBlue;\">47</td><td  style=\"background-color:AliceBlue;\">8</td><td  style=\"background-color:AliceBlue;\">0</td></tr><tr><td  style=\"background-color:Ivory;\">48</td><td  style=\"background-color:Ivory;\">1.7%</td><td  style=\"background-color:Ivory;\">obra</td><td  style=\"background-color:Ivory;\">46</td><td  style=\"background-color:Ivory;\">2</td><td  style=\"background-color:Ivory;\">0</td></tr><tr><td  style=\"background-color:AliceBlue;\">43</td><td  style=\"background-color:AliceBlue;\">1.6%</td><td  style=\"background-color:AliceBlue;\">1984</td><td  style=\"background-color:AliceBlue;\">39</td><td  style=\"background-color:AliceBlue;\">2</td><td  style=\"background-color:AliceBlue;\">0</td></tr><tr><td  style=\"background-color:Ivory;\">43</td><td  style=\"background-color:Ivory;\">1.6%</td><td  style=\"background-color:Ivory;\">ele</td><td  style=\"background-color:Ivory;\">31</td><td  style=\"background-color:Ivory;\">12</td><td  style=\"background-color:Ivory;\">0</td></tr><tr><td  style=\"background-color:AliceBlue;\">34</td><td  style=\"background-color:AliceBlue;\">1.2%</td><td  style=\"background-color:AliceBlue;\">trama</td><td  style=\"background-color:AliceBlue;\">27</td><td  style=\"background-color:AliceBlue;\">5</td><td  style=\"background-color:AliceBlue;\">0</td></tr><tr><td  style=\"background-color:Ivory;\">34</td><td  style=\"background-color:Ivory;\">1.2%</td><td  style=\"background-color:Ivory;\">enredo</td><td  style=\"background-color:Ivory;\">22</td><td  style=\"background-color:Ivory;\">12</td><td  style=\"background-color:Ivory;\">0</td></tr><tr><td  style=\"background-color:AliceBlue;\">32</td><td  style=\"background-color:AliceBlue;\">1.2%</td><td  style=\"background-color:AliceBlue;\">historia</td><td  style=\"background-color:AliceBlue;\">29</td><td  style=\"background-color:AliceBlue;\">3</td><td  style=\"background-color:AliceBlue;\">0</td></tr><tr><td  style=\"background-color:Ivory;\">25</td><td  style=\"background-color:Ivory;\">0.9%</td><td  style=\"background-color:Ivory;\">personagem</td><td  style=\"background-color:Ivory;\">19</td><td  style=\"background-color:Ivory;\">5</td><td  style=\"background-color:Ivory;\">0</td></tr><tr><td  style=\"background-color:AliceBlue;\">23</td><td  style=\"background-color:AliceBlue;\">0.8%</td><td  style=\"background-color:AliceBlue;\">bella</td><td  style=\"background-color:AliceBlue;\">9</td><td  style=\"background-color:AliceBlue;\">14</td><td  style=\"background-color:AliceBlue;\">0</td></tr><tr><td  style=\"background-color:Ivory;\">22</td><td  style=\"background-color:Ivory;\">0.8%</td><td  style=\"background-color:Ivory;\">ensaio&nbspsobre&nbspa&nbspcegueira</td><td  style=\"background-color:Ivory;\">21</td><td  style=\"background-color:Ivory;\">1</td><td  style=\"background-color:Ivory;\">0</td></tr><tr><td  style=\"background-color:AliceBlue;\">22</td><td  style=\"background-color:AliceBlue;\">0.8%</td><td  style=\"background-color:AliceBlue;\">linguagem</td><td  style=\"background-color:AliceBlue;\">14</td><td  style=\"background-color:AliceBlue;\">8</td><td  style=\"background-color:AliceBlue;\">0</td></tr><tr><td  style=\"background-color:Ivory;\">18</td><td  style=\"background-color:Ivory;\">0.6%</td><td  style=\"background-color:Ivory;\">ela</td><td  style=\"background-color:Ivory;\">16</td><td  style=\"background-color:Ivory;\">2</td><td  style=\"background-color:Ivory;\">0</td></tr><tr><td  style=\"background-color:AliceBlue;\">17</td><td  style=\"background-color:AliceBlue;\">0.6%</td><td  style=\"background-color:AliceBlue;\">começo</td><td  style=\"background-color:AliceBlue;\">2</td><td  style=\"background-color:AliceBlue;\">15</td><td  style=\"background-color:AliceBlue;\">0</td></tr></table>"
      ],
      "text/plain": [
       "<ipy_table.IpyTable at 0x7f80a0317208>"
      ]
     },
     "execution_count": 7,
     "metadata": {},
     "output_type": "execute_result"
    }
   ],
   "source": [
    "import ipy_table\n",
    "\n",
    "data = [['freq', '%freq', 'target', 'positive', 'negative', 'neutral']]\n",
    "for target, freq in targets.most_common(20):\n",
    "    ratio = freq / sum(targets.values()) *100\n",
    "    positive = targets_polarity[target].get('positive', 0)\n",
    "    negative = targets_polarity[target].get('negative', 0)\n",
    "    neutral = targets_polarity[target].get('neutral', 0)\n",
    "    data.append([freq, '{:.1f}%'.format(ratio), target, positive, negative, neutral])\n",
    "\n",
    "ipy_table.make_table(data)\n",
    "ipy_table.apply_theme('basic')"
   ]
  },
  {
   "cell_type": "code",
   "execution_count": null,
   "metadata": {
    "collapsed": true
   },
   "outputs": [],
   "source": []
  }
 ],
 "metadata": {
  "kernelspec": {
   "display_name": "Python 3",
   "language": "python",
   "name": "python3"
  },
  "language_info": {
   "codemirror_mode": {
    "name": "ipython",
    "version": 3
   },
   "file_extension": ".py",
   "mimetype": "text/x-python",
   "name": "python",
   "nbconvert_exporter": "python",
   "pygments_lexer": "ipython3",
   "version": "3.5.1+"
  }
 },
 "nbformat": 4,
 "nbformat_minor": 0
}

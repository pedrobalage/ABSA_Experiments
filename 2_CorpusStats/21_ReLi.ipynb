{
 "cells": [
  {
   "cell_type": "markdown",
   "metadata": {},
   "source": [
    "# Statistics in ReLi Corpus"
   ]
  },
  {
   "cell_type": "code",
   "execution_count": 17,
   "metadata": {
    "collapsed": true
   },
   "outputs": [],
   "source": [
    "from __future__ import print_function\n",
    "from __future__ import division"
   ]
  },
  {
   "cell_type": "code",
   "execution_count": 2,
   "metadata": {
    "collapsed": false
   },
   "outputs": [],
   "source": [
    "from lxml.etree import ElementTree\n",
    "reviews = ElementTree().parse('../corpus/ReLi.xml')"
   ]
  },
  {
   "cell_type": "markdown",
   "metadata": {},
   "source": [
    "## Token Type Ratio"
   ]
  },
  {
   "cell_type": "code",
   "execution_count": 4,
   "metadata": {
    "collapsed": false
   },
   "outputs": [
    {
     "name": "stdout",
     "output_type": "stream",
     "text": [
      "Total tokens: 260561\n",
      "Total types:  19300\n",
      "Token/Type ratio:  13.5%\n"
     ]
    }
   ],
   "source": [
    "from collections import Counter\n",
    "freqlist = Counter([word_node.get('form') for word_node in reviews.iter('word')])\n",
    "\n",
    "print ('Total tokens: {}'.format(sum(freqlist.values())))\n",
    "print ('Total types:  {}'.format(len(freqlist.keys())))\n",
    "print ('Token/Type ratio:  {:.1f}%'.format(sum(freqlist.values())/len(freqlist.keys())))"
   ]
  },
  {
   "cell_type": "markdown",
   "metadata": {},
   "source": [
    "## Lexical Frequency"
   ]
  },
  {
   "cell_type": "code",
   "execution_count": 56,
   "metadata": {
    "collapsed": false
   },
   "outputs": [],
   "source": [
    "import ipy_table"
   ]
  },
  {
   "cell_type": "code",
   "execution_count": 64,
   "metadata": {
    "collapsed": false
   },
   "outputs": [
    {
     "data": {
      "text/html": [
       "<table border=\"1\" cellpadding=\"3\" cellspacing=\"0\"  style=\"border:1px solid black;border-collapse:collapse;\"><tr><td  style=\"background-color:LightGray;\"><b>Freq</b></td><td  style=\"background-color:LightGray;\"><b>%&nbspFreq</b></td><td  style=\"background-color:LightGray;\"><b>Token</b></td></tr><tr><td  style=\"background-color:Ivory;\">15158</td><td  style=\"background-color:Ivory;\">5.82%</td><td  style=\"background-color:Ivory;\">,</td></tr><tr><td  style=\"background-color:AliceBlue;\">14413</td><td  style=\"background-color:AliceBlue;\">5.53%</td><td  style=\"background-color:AliceBlue;\">de</td></tr><tr><td  style=\"background-color:Ivory;\">10944</td><td  style=\"background-color:Ivory;\">4.20%</td><td  style=\"background-color:Ivory;\">a</td></tr><tr><td  style=\"background-color:AliceBlue;\">10557</td><td  style=\"background-color:AliceBlue;\">4.05%</td><td  style=\"background-color:AliceBlue;\">o</td></tr><tr><td  style=\"background-color:Ivory;\">9693</td><td  style=\"background-color:Ivory;\">3.72%</td><td  style=\"background-color:Ivory;\">.</td></tr><tr><td  style=\"background-color:AliceBlue;\">7513</td><td  style=\"background-color:AliceBlue;\">2.88%</td><td  style=\"background-color:AliceBlue;\">que</td></tr><tr><td  style=\"background-color:Ivory;\">6264</td><td  style=\"background-color:Ivory;\">2.40%</td><td  style=\"background-color:Ivory;\">e</td></tr><tr><td  style=\"background-color:AliceBlue;\">4738</td><td  style=\"background-color:AliceBlue;\">1.82%</td><td  style=\"background-color:AliceBlue;\">em</td></tr><tr><td  style=\"background-color:Ivory;\">3464</td><td  style=\"background-color:Ivory;\">1.33%</td><td  style=\"background-color:Ivory;\">é</td></tr><tr><td  style=\"background-color:AliceBlue;\">3294</td><td  style=\"background-color:AliceBlue;\">1.26%</td><td  style=\"background-color:AliceBlue;\">um</td></tr><tr><td  style=\"background-color:Ivory;\">2793</td><td  style=\"background-color:Ivory;\">1.07%</td><td  style=\"background-color:Ivory;\">os</td></tr><tr><td  style=\"background-color:AliceBlue;\">2700</td><td  style=\"background-color:AliceBlue;\">1.04%</td><td  style=\"background-color:AliceBlue;\">livro</td></tr><tr><td  style=\"background-color:Ivory;\">2481</td><td  style=\"background-color:Ivory;\">0.95%</td><td  style=\"background-color:Ivory;\">uma</td></tr><tr><td  style=\"background-color:AliceBlue;\">2356</td><td  style=\"background-color:AliceBlue;\">0.90%</td><td  style=\"background-color:AliceBlue;\">não</td></tr><tr><td  style=\"background-color:Ivory;\">2297</td><td  style=\"background-color:Ivory;\">0.88%</td><td  style=\"background-color:Ivory;\">se</td></tr><tr><td  style=\"background-color:AliceBlue;\">2284</td><td  style=\"background-color:AliceBlue;\">0.88%</td><td  style=\"background-color:AliceBlue;\">por</td></tr><tr><td  style=\"background-color:Ivory;\">2267</td><td  style=\"background-color:Ivory;\">0.87%</td><td  style=\"background-color:Ivory;\">\"</td></tr><tr><td  style=\"background-color:AliceBlue;\">2059</td><td  style=\"background-color:AliceBlue;\">0.79%</td><td  style=\"background-color:AliceBlue;\">com</td></tr><tr><td  style=\"background-color:Ivory;\">1673</td><td  style=\"background-color:Ivory;\">0.64%</td><td  style=\"background-color:Ivory;\">para</td></tr><tr><td  style=\"background-color:AliceBlue;\">1666</td><td  style=\"background-color:AliceBlue;\">0.64%</td><td  style=\"background-color:AliceBlue;\">as</td></tr><tr><td  style=\"background-color:Ivory;\">1378</td><td  style=\"background-color:Ivory;\">0.53%</td><td  style=\"background-color:Ivory;\">mais</td></tr><tr><td  style=\"background-color:AliceBlue;\">1302</td><td  style=\"background-color:AliceBlue;\">0.50%</td><td  style=\"background-color:AliceBlue;\">-</td></tr><tr><td  style=\"background-color:Ivory;\">1255</td><td  style=\"background-color:Ivory;\">0.48%</td><td  style=\"background-color:Ivory;\">como</td></tr><tr><td  style=\"background-color:AliceBlue;\">1214</td><td  style=\"background-color:AliceBlue;\">0.47%</td><td  style=\"background-color:AliceBlue;\">!</td></tr><tr><td  style=\"background-color:Ivory;\">1138</td><td  style=\"background-color:Ivory;\">0.44%</td><td  style=\"background-color:Ivory;\">O</td></tr><tr><td  style=\"background-color:AliceBlue;\">1005</td><td  style=\"background-color:AliceBlue;\">0.39%</td><td  style=\"background-color:AliceBlue;\">mas</td></tr><tr><td  style=\"background-color:Ivory;\">974</td><td  style=\"background-color:Ivory;\">0.37%</td><td  style=\"background-color:Ivory;\">muito</td></tr><tr><td  style=\"background-color:AliceBlue;\">951</td><td  style=\"background-color:AliceBlue;\">0.36%</td><td  style=\"background-color:AliceBlue;\">A</td></tr><tr><td  style=\"background-color:Ivory;\">897</td><td  style=\"background-color:Ivory;\">0.34%</td><td  style=\"background-color:Ivory;\">ele</td></tr><tr><td  style=\"background-color:AliceBlue;\">844</td><td  style=\"background-color:AliceBlue;\">0.32%</td><td  style=\"background-color:AliceBlue;\">história</td></tr></table>"
      ],
      "text/plain": [
       "<ipy_table.IpyTable at 0x7f948c8f9c50>"
      ]
     },
     "execution_count": 64,
     "metadata": {},
     "output_type": "execute_result"
    }
   ],
   "source": [
    "freqlist = Counter([word_node.get('form') for word_node in reviews.iter('word')])\n",
    "\n",
    "data = [['Freq', '% Freq', 'Token']]\n",
    "for token, freq in freqlist.most_common(30):\n",
    "    ratio = freq / sum(freqlist.values()) * 100\n",
    "    data.append( [freq, '{:.2f}%'.format(ratio), token])\n",
    "    \n",
    "ipy_table.make_table(data)\n",
    "ipy_table.apply_theme('basic')"
   ]
  },
  {
   "cell_type": "code",
   "execution_count": 69,
   "metadata": {
    "collapsed": false
   },
   "outputs": [
    {
     "data": {
      "text/html": [
       "<table border=\"1\" cellpadding=\"3\" cellspacing=\"0\"  style=\"border:1px solid black;border-collapse:collapse;\"><tr><td  style=\"background-color:LightGray;\"><b>Freq</b></td><td  style=\"background-color:LightGray;\"><b>%&nbspFreq</b></td><td  style=\"background-color:LightGray;\"><b>LowerCase&nbspToken</b></td></tr><tr><td  style=\"background-color:Ivory;\">15158</td><td  style=\"background-color:Ivory;\">5.82%</td><td  style=\"background-color:Ivory;\">,</td></tr><tr><td  style=\"background-color:AliceBlue;\">14579</td><td  style=\"background-color:AliceBlue;\">5.60%</td><td  style=\"background-color:AliceBlue;\">de</td></tr><tr><td  style=\"background-color:Ivory;\">11895</td><td  style=\"background-color:Ivory;\">4.57%</td><td  style=\"background-color:Ivory;\">a</td></tr><tr><td  style=\"background-color:AliceBlue;\">11695</td><td  style=\"background-color:AliceBlue;\">4.49%</td><td  style=\"background-color:AliceBlue;\">o</td></tr><tr><td  style=\"background-color:Ivory;\">9693</td><td  style=\"background-color:Ivory;\">3.72%</td><td  style=\"background-color:Ivory;\">.</td></tr><tr><td  style=\"background-color:AliceBlue;\">7591</td><td  style=\"background-color:AliceBlue;\">2.91%</td><td  style=\"background-color:AliceBlue;\">que</td></tr><tr><td  style=\"background-color:Ivory;\">6667</td><td  style=\"background-color:Ivory;\">2.56%</td><td  style=\"background-color:Ivory;\">e</td></tr><tr><td  style=\"background-color:AliceBlue;\">5261</td><td  style=\"background-color:AliceBlue;\">2.02%</td><td  style=\"background-color:AliceBlue;\">em</td></tr><tr><td  style=\"background-color:Ivory;\">3887</td><td  style=\"background-color:Ivory;\">1.49%</td><td  style=\"background-color:Ivory;\">é</td></tr><tr><td  style=\"background-color:AliceBlue;\">3599</td><td  style=\"background-color:AliceBlue;\">1.38%</td><td  style=\"background-color:AliceBlue;\">um</td></tr><tr><td  style=\"background-color:Ivory;\">2935</td><td  style=\"background-color:Ivory;\">1.13%</td><td  style=\"background-color:Ivory;\">os</td></tr><tr><td  style=\"background-color:AliceBlue;\">2779</td><td  style=\"background-color:AliceBlue;\">1.07%</td><td  style=\"background-color:AliceBlue;\">livro</td></tr><tr><td  style=\"background-color:Ivory;\">2711</td><td  style=\"background-color:Ivory;\">1.04%</td><td  style=\"background-color:Ivory;\">não</td></tr><tr><td  style=\"background-color:AliceBlue;\">2637</td><td  style=\"background-color:AliceBlue;\">1.01%</td><td  style=\"background-color:AliceBlue;\">uma</td></tr><tr><td  style=\"background-color:Ivory;\">2475</td><td  style=\"background-color:Ivory;\">0.95%</td><td  style=\"background-color:Ivory;\">se</td></tr><tr><td  style=\"background-color:AliceBlue;\">2415</td><td  style=\"background-color:AliceBlue;\">0.93%</td><td  style=\"background-color:AliceBlue;\">por</td></tr><tr><td  style=\"background-color:Ivory;\">2267</td><td  style=\"background-color:Ivory;\">0.87%</td><td  style=\"background-color:Ivory;\">\"</td></tr><tr><td  style=\"background-color:AliceBlue;\">2149</td><td  style=\"background-color:AliceBlue;\">0.82%</td><td  style=\"background-color:AliceBlue;\">com</td></tr><tr><td  style=\"background-color:Ivory;\">1776</td><td  style=\"background-color:Ivory;\">0.68%</td><td  style=\"background-color:Ivory;\">para</td></tr><tr><td  style=\"background-color:AliceBlue;\">1754</td><td  style=\"background-color:AliceBlue;\">0.67%</td><td  style=\"background-color:AliceBlue;\">as</td></tr><tr><td  style=\"background-color:Ivory;\">1424</td><td  style=\"background-color:Ivory;\">0.55%</td><td  style=\"background-color:Ivory;\">mais</td></tr><tr><td  style=\"background-color:AliceBlue;\">1360</td><td  style=\"background-color:AliceBlue;\">0.52%</td><td  style=\"background-color:AliceBlue;\">como</td></tr><tr><td  style=\"background-color:Ivory;\">1340</td><td  style=\"background-color:Ivory;\">0.51%</td><td  style=\"background-color:Ivory;\">mas</td></tr><tr><td  style=\"background-color:AliceBlue;\">1302</td><td  style=\"background-color:AliceBlue;\">0.50%</td><td  style=\"background-color:AliceBlue;\">-</td></tr><tr><td  style=\"background-color:Ivory;\">1214</td><td  style=\"background-color:Ivory;\">0.47%</td><td  style=\"background-color:Ivory;\">!</td></tr><tr><td  style=\"background-color:AliceBlue;\">1055</td><td  style=\"background-color:AliceBlue;\">0.40%</td><td  style=\"background-color:AliceBlue;\">muito</td></tr><tr><td  style=\"background-color:Ivory;\">1053</td><td  style=\"background-color:Ivory;\">0.40%</td><td  style=\"background-color:Ivory;\">ele</td></tr><tr><td  style=\"background-color:AliceBlue;\">1010</td><td  style=\"background-color:AliceBlue;\">0.39%</td><td  style=\"background-color:AliceBlue;\">eu</td></tr><tr><td  style=\"background-color:Ivory;\">922</td><td  style=\"background-color:Ivory;\">0.35%</td><td  style=\"background-color:Ivory;\">ela</td></tr><tr><td  style=\"background-color:AliceBlue;\">864</td><td  style=\"background-color:AliceBlue;\">0.33%</td><td  style=\"background-color:AliceBlue;\">história</td></tr></table>"
      ],
      "text/plain": [
       "<ipy_table.IpyTable at 0x7f94ac7865f8>"
      ]
     },
     "execution_count": 69,
     "metadata": {},
     "output_type": "execute_result"
    }
   ],
   "source": [
    "freqlist = Counter([word_node.get('form').lower() for word_node in reviews.iter('word')])\n",
    "\n",
    "data = [['Freq', '% Freq', 'LowerCase Token']]\n",
    "for token, freq in freqlist.most_common(30):\n",
    "    ratio = freq / sum(freqlist.values()) * 100\n",
    "    data.append( [freq, '{:.2f}%'.format(ratio), token])\n",
    "\n",
    "ipy_table.make_table(data)\n",
    "ipy_table.apply_theme('basic')"
   ]
  },
  {
   "cell_type": "markdown",
   "metadata": {},
   "source": [
    "## Lemma Frequency"
   ]
  },
  {
   "cell_type": "code",
   "execution_count": 70,
   "metadata": {
    "collapsed": false
   },
   "outputs": [
    {
     "data": {
      "text/html": [
       "<table border=\"1\" cellpadding=\"3\" cellspacing=\"0\"  style=\"border:1px solid black;border-collapse:collapse;\"><tr><td  style=\"background-color:LightGray;\"><b>Freq</b></td><td  style=\"background-color:LightGray;\"><b>%&nbspFreq</b></td><td  style=\"background-color:LightGray;\"><b>Lemma</b></td></tr><tr><td  style=\"background-color:Ivory;\">25384</td><td  style=\"background-color:Ivory;\">9.74%</td><td  style=\"background-color:Ivory;\">o</td></tr><tr><td  style=\"background-color:AliceBlue;\">15158</td><td  style=\"background-color:AliceBlue;\">5.82%</td><td  style=\"background-color:AliceBlue;\">,</td></tr><tr><td  style=\"background-color:Ivory;\">14579</td><td  style=\"background-color:Ivory;\">5.60%</td><td  style=\"background-color:Ivory;\">de</td></tr><tr><td  style=\"background-color:AliceBlue;\">9693</td><td  style=\"background-color:AliceBlue;\">3.72%</td><td  style=\"background-color:AliceBlue;\">.</td></tr><tr><td  style=\"background-color:Ivory;\">7591</td><td  style=\"background-color:Ivory;\">2.91%</td><td  style=\"background-color:Ivory;\">que</td></tr><tr><td  style=\"background-color:AliceBlue;\">7575</td><td  style=\"background-color:AliceBlue;\">2.91%</td><td  style=\"background-color:AliceBlue;\">ser</td></tr><tr><td  style=\"background-color:Ivory;\">6667</td><td  style=\"background-color:Ivory;\">2.56%</td><td  style=\"background-color:Ivory;\">e</td></tr><tr><td  style=\"background-color:AliceBlue;\">6309</td><td  style=\"background-color:AliceBlue;\">2.42%</td><td  style=\"background-color:AliceBlue;\">um</td></tr><tr><td  style=\"background-color:Ivory;\">5261</td><td  style=\"background-color:Ivory;\">2.02%</td><td  style=\"background-color:Ivory;\">em</td></tr><tr><td  style=\"background-color:AliceBlue;\">3130</td><td  style=\"background-color:AliceBlue;\">1.20%</td><td  style=\"background-color:AliceBlue;\">livro</td></tr><tr><td  style=\"background-color:Ivory;\">2895</td><td  style=\"background-color:Ivory;\">1.11%</td><td  style=\"background-color:Ivory;\">a</td></tr><tr><td  style=\"background-color:AliceBlue;\">2721</td><td  style=\"background-color:AliceBlue;\">1.04%</td><td  style=\"background-color:AliceBlue;\">ele</td></tr><tr><td  style=\"background-color:Ivory;\">2711</td><td  style=\"background-color:Ivory;\">1.04%</td><td  style=\"background-color:Ivory;\">não</td></tr><tr><td  style=\"background-color:AliceBlue;\">2475</td><td  style=\"background-color:AliceBlue;\">0.95%</td><td  style=\"background-color:AliceBlue;\">se</td></tr><tr><td  style=\"background-color:Ivory;\">2415</td><td  style=\"background-color:Ivory;\">0.93%</td><td  style=\"background-color:Ivory;\">por</td></tr><tr><td  style=\"background-color:AliceBlue;\">2402</td><td  style=\"background-color:AliceBlue;\">0.92%</td><td  style=\"background-color:AliceBlue;\">eu</td></tr><tr><td  style=\"background-color:Ivory;\">2267</td><td  style=\"background-color:Ivory;\">0.87%</td><td  style=\"background-color:Ivory;\">\"</td></tr><tr><td  style=\"background-color:AliceBlue;\">2149</td><td  style=\"background-color:AliceBlue;\">0.82%</td><td  style=\"background-color:AliceBlue;\">com</td></tr><tr><td  style=\"background-color:Ivory;\">1754</td><td  style=\"background-color:Ivory;\">0.67%</td><td  style=\"background-color:Ivory;\">para</td></tr><tr><td  style=\"background-color:AliceBlue;\">1735</td><td  style=\"background-color:AliceBlue;\">0.67%</td><td  style=\"background-color:AliceBlue;\">ter</td></tr><tr><td  style=\"background-color:Ivory;\">1430</td><td  style=\"background-color:Ivory;\">0.55%</td><td  style=\"background-color:Ivory;\">muito</td></tr><tr><td  style=\"background-color:AliceBlue;\">1424</td><td  style=\"background-color:AliceBlue;\">0.55%</td><td  style=\"background-color:AliceBlue;\">mais</td></tr><tr><td  style=\"background-color:Ivory;\">1360</td><td  style=\"background-color:Ivory;\">0.52%</td><td  style=\"background-color:Ivory;\">como</td></tr><tr><td  style=\"background-color:AliceBlue;\">1340</td><td  style=\"background-color:AliceBlue;\">0.51%</td><td  style=\"background-color:AliceBlue;\">mas</td></tr><tr><td  style=\"background-color:Ivory;\">1327</td><td  style=\"background-color:Ivory;\">0.51%</td><td  style=\"background-color:Ivory;\">esse</td></tr><tr><td  style=\"background-color:AliceBlue;\">1302</td><td  style=\"background-color:AliceBlue;\">0.50%</td><td  style=\"background-color:AliceBlue;\">-</td></tr><tr><td  style=\"background-color:Ivory;\">1229</td><td  style=\"background-color:Ivory;\">0.47%</td><td  style=\"background-color:Ivory;\">ler</td></tr><tr><td  style=\"background-color:AliceBlue;\">1214</td><td  style=\"background-color:AliceBlue;\">0.47%</td><td  style=\"background-color:AliceBlue;\">!</td></tr><tr><td  style=\"background-color:Ivory;\">1163</td><td  style=\"background-color:Ivory;\">0.45%</td><td  style=\"background-color:Ivory;\">todo</td></tr><tr><td  style=\"background-color:AliceBlue;\">999</td><td  style=\"background-color:AliceBlue;\">0.38%</td><td  style=\"background-color:AliceBlue;\">suar</td></tr></table>"
      ],
      "text/plain": [
       "<ipy_table.IpyTable at 0x7f94ac78ba58>"
      ]
     },
     "execution_count": 70,
     "metadata": {},
     "output_type": "execute_result"
    }
   ],
   "source": [
    "freqlist = Counter([word_node.get('base').lower() for word_node in reviews.iter('word')])\n",
    "\n",
    "data = [['Freq', '% Freq', 'Lemma']]\n",
    "for token, freq in freqlist.most_common(30):\n",
    "    ratio = freq / sum(freqlist.values()) * 100\n",
    "    data.append( [freq, '{:.2f}%'.format(ratio), token])\n",
    "\n",
    "ipy_table.make_table(data)\n",
    "ipy_table.apply_theme('basic')"
   ]
  },
  {
   "cell_type": "markdown",
   "metadata": {},
   "source": [
    "## Part-of-Speach Frequency"
   ]
  },
  {
   "cell_type": "code",
   "execution_count": 72,
   "metadata": {
    "collapsed": false
   },
   "outputs": [],
   "source": [
    "from operator import itemgetter\n",
    "postag_freq = dict()\n",
    "freqlist = dict()\n",
    "\n",
    "for word_node in reviews.iter('word'):\n",
    "    form = word_node.get('form').lower()\n",
    "    postag = word_node.get('postag')\n",
    "    \n",
    "    postag_freq[postag] = postag_freq.get(postag, 0) + 1\n",
    "    if postag not in freqlist:\n",
    "        freqlist[postag] = dict()\n",
    "    freqlist[postag][form] = freqlist[postag].get(form, 0) + 1 "
   ]
  },
  {
   "cell_type": "code",
   "execution_count": 73,
   "metadata": {
    "collapsed": false
   },
   "outputs": [
    {
     "data": {
      "text/html": [
       "<table border=\"1\" cellpadding=\"3\" cellspacing=\"0\"  style=\"border:1px solid black;border-collapse:collapse;\"><tr><td  style=\"background-color:LightGray;\"><b>FREQ</b></td><td  style=\"background-color:LightGray;\"><b>%&nbspFREQ</b></td><td  style=\"background-color:LightGray;\"><b>POSTAG</b></td><td  style=\"background-color:LightGray;\"><b>EXAMPLES</b></td></tr><tr><td  style=\"background-color:Ivory;\">44954</td><td  style=\"background-color:Ivory;\">17.3%</td><td  style=\"background-color:Ivory;\">N</td><td  style=\"background-color:Ivory;\">livro(6.0%),&nbsphistória(1.9%),&nbspmundo(1.2%),&nbspvida(1.1%),&nbspleitura(0.9%)</td></tr><tr><td  style=\"background-color:AliceBlue;\">33068</td><td  style=\"background-color:AliceBlue;\">12.7%</td><td  style=\"background-color:AliceBlue;\">PREP</td><td  style=\"background-color:AliceBlue;\">de(43.0%),&nbspem(15.7%),&nbspa(8.8%),&nbsppor(6.9%),&nbspcom(6.5%)</td></tr><tr><td  style=\"background-color:Ivory;\">31175</td><td  style=\"background-color:Ivory;\">12.0%</td><td  style=\"background-color:Ivory;\">V</td><td  style=\"background-color:Ivory;\">é(11.3%),&nbspler(1.8%),&nbsptem(1.7%),&nbspser(1.6%),&nbspfoi(1.5%)</td></tr><tr><td  style=\"background-color:AliceBlue;\">29043</td><td  style=\"background-color:AliceBlue;\">11.1%</td><td  style=\"background-color:AliceBlue;\">ART</td><td  style=\"background-color:AliceBlue;\">o(35.8%),&nbspa(30.1%),&nbspum(10.1%),&nbspos(9.5%),&nbspuma(8.4%)</td></tr><tr><td  style=\"background-color:Ivory;\">15158</td><td  style=\"background-color:Ivory;\">5.8%</td><td  style=\"background-color:Ivory;\">,</td><td  style=\"background-color:Ivory;\">,(100.0%)</td></tr><tr><td  style=\"background-color:AliceBlue;\">13572</td><td  style=\"background-color:AliceBlue;\">5.2%</td><td  style=\"background-color:AliceBlue;\">ADJ</td><td  style=\"background-color:AliceBlue;\">bom(2.3%),&nbspprimeiro(1.4%),&nbspgrande(1.3%),&nbspmelhor(1.3%),&nbspprimeira(1.1%)</td></tr><tr><td  style=\"background-color:Ivory;\">11959</td><td  style=\"background-color:Ivory;\">4.6%</td><td  style=\"background-color:Ivory;\">ADV</td><td  style=\"background-color:Ivory;\">não(22.4%),&nbspmais(8.9%),&nbspmuito(8.0%),&nbspbem(3.9%),&nbspjá(3.7%)</td></tr><tr><td  style=\"background-color:AliceBlue;\">11059</td><td  style=\"background-color:AliceBlue;\">4.2%</td><td  style=\"background-color:AliceBlue;\">NPROP</td><td  style=\"background-color:AliceBlue;\">bella(3.3%),&nbspedward(3.1%),&nbspsaramago(2.2%),&nbspcrepúsculo(2.0%),&nbspde(2.0%)</td></tr><tr><td  style=\"background-color:Ivory;\">9693</td><td  style=\"background-color:Ivory;\">3.7%</td><td  style=\"background-color:Ivory;\">.</td><td  style=\"background-color:Ivory;\">.(100.0%)</td></tr><tr><td  style=\"background-color:AliceBlue;\">9296</td><td  style=\"background-color:AliceBlue;\">3.6%</td><td  style=\"background-color:AliceBlue;\">KC</td><td  style=\"background-color:AliceBlue;\">e(71.5%),&nbspmas(14.4%),&nbspou(5.2%),&nbsppois(2.9%),&nbspporém(1.3%)</td></tr><tr><td  style=\"background-color:Ivory;\">8498</td><td  style=\"background-color:Ivory;\">3.3%</td><td  style=\"background-color:Ivory;\">PROADJ</td><td  style=\"background-color:Ivory;\">sua(8.9%),&nbspesse(7.6%),&nbspseu(6.8%),&nbspessa(4.4%),&nbspcada(4.3%)</td></tr><tr><td  style=\"background-color:AliceBlue;\">7977</td><td  style=\"background-color:AliceBlue;\">3.1%</td><td  style=\"background-color:AliceBlue;\">PROPESS</td><td  style=\"background-color:AliceBlue;\">se(25.2%),&nbspele(13.2%),&nbspeu(12.5%),&nbspela(11.5%),&nbspme(9.4%)</td></tr><tr><td  style=\"background-color:Ivory;\">4670</td><td  style=\"background-color:Ivory;\">1.8%</td><td  style=\"background-color:Ivory;\">KS</td><td  style=\"background-color:Ivory;\">que(56.3%),&nbspquando(10.6%),&nbspse(9.9%),&nbspcomo(6.9%),&nbspporque(5.5%)</td></tr><tr><td  style=\"background-color:AliceBlue;\">4628</td><td  style=\"background-color:AliceBlue;\">1.8%</td><td  style=\"background-color:AliceBlue;\">PRO-KS-REL</td><td  style=\"background-color:AliceBlue;\">que(93.4%),&nbspqual(2.0%),&nbspa(1.1%),&nbspquem(0.9%),&nbspo(0.8%)</td></tr><tr><td  style=\"background-color:Ivory;\">4321</td><td  style=\"background-color:Ivory;\">1.7%</td><td  style=\"background-color:Ivory;\">PCP</td><td  style=\"background-color:Ivory;\">escrito(2.5%),&nbsplido(2.3%),&nbspsido(1.4%),&nbspfeito(1.0%),&nbspescrita(0.9%)</td></tr><tr><td  style=\"background-color:AliceBlue;\">4282</td><td  style=\"background-color:AliceBlue;\">1.6%</td><td  style=\"background-color:AliceBlue;\">PROSUB</td><td  style=\"background-color:AliceBlue;\">o(15.0%),&nbspisso(14.2%),&nbspum(8.5%),&nbsptudo(8.3%),&nbspnada(5.3%)</td></tr><tr><td  style=\"background-color:Ivory;\">3866</td><td  style=\"background-color:Ivory;\">1.5%</td><td  style=\"background-color:Ivory;\">VAUX</td><td  style=\"background-color:Ivory;\">é(8.7%),&nbsppode(6.2%),&nbspser(5.7%),&nbspfoi(5.2%),&nbspvai(4.4%)</td></tr><tr><td  style=\"background-color:AliceBlue;\">2267</td><td  style=\"background-color:AliceBlue;\">0.9%</td><td  style=\"background-color:AliceBlue;\">\"</td><td  style=\"background-color:AliceBlue;\">\"(100.0%)</td></tr><tr><td  style=\"background-color:Ivory;\">1765</td><td  style=\"background-color:Ivory;\">0.7%</td><td  style=\"background-color:Ivory;\">PDEN</td><td  style=\"background-color:Ivory;\">só(21.0%),&nbsptambém(19.0%),&nbspmesmo(16.5%),&nbspapenas(12.2%),&nbspaté(6.0%)</td></tr><tr><td  style=\"background-color:AliceBlue;\">1302</td><td  style=\"background-color:AliceBlue;\">0.5%</td><td  style=\"background-color:AliceBlue;\">-</td><td  style=\"background-color:AliceBlue;\">-(100.0%)</td></tr><tr><td  style=\"background-color:Ivory;\">1214</td><td  style=\"background-color:Ivory;\">0.5%</td><td  style=\"background-color:Ivory;\">!</td><td  style=\"background-color:Ivory;\">!(100.0%)</td></tr><tr><td  style=\"background-color:AliceBlue;\">1136</td><td  style=\"background-color:AliceBlue;\">0.4%</td><td  style=\"background-color:AliceBlue;\">PRO-KS</td><td  style=\"background-color:AliceBlue;\">que(36.5%),&nbspo(34.9%),&nbspquem(21.4%),&nbspquanto(2.0%),&nbspqual(1.8%)</td></tr><tr><td  style=\"background-color:Ivory;\">1076</td><td  style=\"background-color:Ivory;\">0.4%</td><td  style=\"background-color:Ivory;\">NUM</td><td  style=\"background-color:Ivory;\">um(10.1%),&nbsptrês(8.2%),&nbspduas(7.6%),&nbspdois(6.1%),&nbspuma(6.1%)</td></tr><tr><td  style=\"background-color:AliceBlue;\">739</td><td  style=\"background-color:AliceBlue;\">0.3%</td><td  style=\"background-color:AliceBlue;\">...</td><td  style=\"background-color:AliceBlue;\">...(100.0%)</td></tr><tr><td  style=\"background-color:Ivory;\">703</td><td  style=\"background-color:Ivory;\">0.3%</td><td  style=\"background-color:Ivory;\">:</td><td  style=\"background-color:Ivory;\">:(100.0%)</td></tr><tr><td  style=\"background-color:AliceBlue;\">694</td><td  style=\"background-color:AliceBlue;\">0.3%</td><td  style=\"background-color:AliceBlue;\">)</td><td  style=\"background-color:AliceBlue;\">)(100.0%)</td></tr><tr><td  style=\"background-color:Ivory;\">638</td><td  style=\"background-color:Ivory;\">0.2%</td><td  style=\"background-color:Ivory;\">(</td><td  style=\"background-color:Ivory;\">((100.0%)</td></tr><tr><td  style=\"background-color:AliceBlue;\">502</td><td  style=\"background-color:AliceBlue;\">0.2%</td><td  style=\"background-color:AliceBlue;\">?</td><td  style=\"background-color:AliceBlue;\">?(100.0%)</td></tr><tr><td  style=\"background-color:Ivory;\">317</td><td  style=\"background-color:Ivory;\">0.1%</td><td  style=\"background-color:Ivory;\">;</td><td  style=\"background-color:Ivory;\">;(100.0%)</td></tr><tr><td  style=\"background-color:AliceBlue;\">276</td><td  style=\"background-color:AliceBlue;\">0.1%</td><td  style=\"background-color:AliceBlue;\">ADV-KS-REL</td><td  style=\"background-color:AliceBlue;\">onde(80.4%),&nbspquando(13.4%),&nbspcomo(6.2%)</td></tr><tr><td  style=\"background-color:Ivory;\">235</td><td  style=\"background-color:Ivory;\">0.1%</td><td  style=\"background-color:Ivory;\">'</td><td  style=\"background-color:Ivory;\">'(100.0%)</td></tr><tr><td  style=\"background-color:AliceBlue;\">232</td><td  style=\"background-color:AliceBlue;\">0.1%</td><td  style=\"background-color:AliceBlue;\">ADV-KS</td><td  style=\"background-color:AliceBlue;\">como(72.4%),&nbsponde(22.4%),&nbspque(3.0%),&nbsppor(1.3%),&nbspquando(0.9%)</td></tr><tr><td  style=\"background-color:Ivory;\">175</td><td  style=\"background-color:Ivory;\">0.1%</td><td  style=\"background-color:Ivory;\">IN</td><td  style=\"background-color:Ivory;\">ai(16.0%),&nbspah(13.7%),&nbspné(10.9%),&nbspok(8.6%),&nbspora(4.6%)</td></tr><tr><td  style=\"background-color:AliceBlue;\">37</td><td  style=\"background-color:AliceBlue;\">0.0%</td><td  style=\"background-color:AliceBlue;\">[</td><td  style=\"background-color:AliceBlue;\">[(100.0%)</td></tr><tr><td  style=\"background-color:Ivory;\">20</td><td  style=\"background-color:Ivory;\">0.0%</td><td  style=\"background-color:Ivory;\">=</td><td  style=\"background-color:Ivory;\">=(100.0%)</td></tr><tr><td  style=\"background-color:AliceBlue;\">8</td><td  style=\"background-color:AliceBlue;\">0.0%</td><td  style=\"background-color:AliceBlue;\">CUR</td><td  style=\"background-color:AliceBlue;\">r$(87.5%),&nbspus$(12.5%)</td></tr><tr><td  style=\"background-color:Ivory;\">2</td><td  style=\"background-color:Ivory;\">0.0%</td><td  style=\"background-color:Ivory;\">O</td><td  style=\"background-color:Ivory;\">....(50.0%),&nbsplegal(50.0%)</td></tr><tr><td  style=\"background-color:AliceBlue;\">1</td><td  style=\"background-color:AliceBlue;\">0.0%</td><td  style=\"background-color:AliceBlue;\">//</td><td  style=\"background-color:AliceBlue;\">//(100.0%)</td></tr><tr><td  style=\"background-color:Ivory;\">1</td><td  style=\"background-color:Ivory;\">0.0%</td><td  style=\"background-color:Ivory;\">/</td><td  style=\"background-color:Ivory;\">/(100.0%)</td></tr><tr><td  style=\"background-color:AliceBlue;\">1</td><td  style=\"background-color:AliceBlue;\">0.0%</td><td  style=\"background-color:AliceBlue;\">..</td><td  style=\"background-color:AliceBlue;\">..(100.0%)</td></tr><tr><td  style=\"background-color:Ivory;\">1</td><td  style=\"background-color:Ivory;\">0.0%</td><td  style=\"background-color:Ivory;\">$</td><td  style=\"background-color:Ivory;\">$(100.0%)</td></tr></table>"
      ],
      "text/plain": [
       "<ipy_table.IpyTable at 0x7f9487f81c88>"
      ]
     },
     "execution_count": 73,
     "metadata": {},
     "output_type": "execute_result"
    }
   ],
   "source": [
    "data = [['FREQ', '% FREQ', 'POSTAG', 'EXAMPLES']]\n",
    "\n",
    "for pos, freq in sorted(postag_freq.items(), key=itemgetter(1), reverse=True):\n",
    "    examples = ', '.join(['{}({:.1f}%)'.format(w,f / sum(freqlist[pos].values()) * 100) \n",
    "                          for w,f in sorted(freqlist[pos].items(), key=itemgetter(1), reverse=True)[:5]])\n",
    "    ratio = freq / sum(postag_freq.values()) * 100\n",
    "    data.append([freq, '{:.1f}%'.format(ratio), pos, examples])\n",
    "\n",
    "ipy_table.make_table(data)\n",
    "ipy_table.apply_theme('basic')"
   ]
  },
  {
   "cell_type": "markdown",
   "metadata": {},
   "source": [
    "## Morphological tags"
   ]
  },
  {
   "cell_type": "code",
   "execution_count": 88,
   "metadata": {
    "collapsed": false
   },
   "outputs": [
    {
     "data": {
      "text/html": [
       "<table border=\"1\" cellpadding=\"3\" cellspacing=\"0\"  style=\"border:1px solid black;border-collapse:collapse;\"><tr><td  style=\"background-color:LightGray;\"><b>FREQ</b></td><td  style=\"background-color:LightGray;\"><b>%&nbspFREQ</b></td><td  style=\"background-color:LightGray;\"><b>MORF&nbspTAG</b></td><td  style=\"background-color:LightGray;\"><b>EXAMPLES</b></td></tr><tr><td  style=\"background-color:Ivory;\">69387</td><td  style=\"background-color:Ivory;\">41.1%</td><td  style=\"background-color:Ivory;\">ms</td><td  style=\"background-color:Ivory;\">o(16.9%),&nbspque(10.9%),&nbspe(9.6%),&nbspum(5.2%),&nbsplivro(4.0%)</td></tr><tr><td  style=\"background-color:AliceBlue;\">32454</td><td  style=\"background-color:AliceBlue;\">19.2%</td><td  style=\"background-color:AliceBlue;\">fs</td><td  style=\"background-color:AliceBlue;\">a(27.7%),&nbspuma(8.1%),&nbsphistória(2.7%),&nbspvida(1.5%),&nbspessa(1.3%)</td></tr><tr><td  style=\"background-color:Ivory;\">12812</td><td  style=\"background-color:Ivory;\">7.6%</td><td  style=\"background-color:Ivory;\">mp</td><td  style=\"background-color:Ivory;\">os(22.9%),&nbsptodos(4.1%),&nbsplivros(3.0%),&nbsppersonagens(2.5%),&nbspseus(2.4%)</td></tr><tr><td  style=\"background-color:AliceBlue;\">9031</td><td  style=\"background-color:AliceBlue;\">5.4%</td><td  style=\"background-color:AliceBlue;\">Y2s</td><td  style=\"background-color:AliceBlue;\">sua(8.5%),&nbsptem(6.3%),&nbspestá(3.1%),&nbspfaz(2.8%),&nbsppode(2.7%)</td></tr><tr><td  style=\"background-color:Ivory;\">7379</td><td  style=\"background-color:Ivory;\">4.4%</td><td  style=\"background-color:Ivory;\">W3s</td><td  style=\"background-color:Ivory;\">ser(9.9%),&nbspler(8.0%),&nbspter(4.7%),&nbspfazer(2.8%),&nbspver(2.7%)</td></tr><tr><td  style=\"background-color:AliceBlue;\">7209</td><td  style=\"background-color:AliceBlue;\">4.3%</td><td  style=\"background-color:AliceBlue;\">fp</td><td  style=\"background-color:AliceBlue;\">as(24.3%),&nbsppessoas(4.5%),&nbspvezes(3.1%),&nbspcoisas(2.4%),&nbsptodas(2.2%)</td></tr><tr><td  style=\"background-color:Ivory;\">3949</td><td  style=\"background-color:Ivory;\">2.3%</td><td  style=\"background-color:Ivory;\">P3s</td><td  style=\"background-color:Ivory;\">é(98.4%),&nbspideia(1.1%),&nbspfogem(0.1%),&nbspbaseia(0.1%),&nbspchateia(0.1%)</td></tr><tr><td  style=\"background-color:AliceBlue;\">2460</td><td  style=\"background-color:AliceBlue;\">1.5%</td><td  style=\"background-color:AliceBlue;\">J3s</td><td  style=\"background-color:AliceBlue;\">foi(26.7%),&nbspfez(3.9%),&nbspconseguiu(3.3%),&nbspteve(2.5%),&nbspdisse(2.3%)</td></tr><tr><td  style=\"background-color:Ivory;\">2113</td><td  style=\"background-color:Ivory;\">1.3%</td><td  style=\"background-color:Ivory;\">P3p</td><td  style=\"background-color:Ivory;\">são(28.7%),&nbspestão(3.4%),&nbspvivem(3.2%),&nbsppodem(2.7%),&nbspfazem(2.7%)</td></tr><tr><td  style=\"background-color:AliceBlue;\">1797</td><td  style=\"background-color:AliceBlue;\">1.1%</td><td  style=\"background-color:AliceBlue;\">Kms</td><td  style=\"background-color:AliceBlue;\">partido(9.5%),&nbspamado(8.7%),&nbspsido(3.3%),&nbsppublicado(1.7%),&nbspproibido(1.5%)</td></tr><tr><td  style=\"background-color:Ivory;\">1792</td><td  style=\"background-color:Ivory;\">1.1%</td><td  style=\"background-color:Ivory;\">G</td><td  style=\"background-color:Ivory;\">recomendo(8.4%),&nbspsendo(7.4%),&nbsplendo(3.6%),&nbspfazendo(2.9%),&nbspfalando(2.3%)</td></tr><tr><td  style=\"background-color:AliceBlue;\">1773</td><td  style=\"background-color:AliceBlue;\">1.1%</td><td  style=\"background-color:AliceBlue;\">J1s</td><td  style=\"background-color:AliceBlue;\">li(18.4%),&nbspgostei(9.2%),&nbspachei(9.1%),&nbspfiquei(5.0%),&nbspcomecei(3.7%)</td></tr><tr><td  style=\"background-color:Ivory;\">1546</td><td  style=\"background-color:Ivory;\">0.9%</td><td  style=\"background-color:Ivory;\">P1s</td><td  style=\"background-color:Ivory;\">acho(11.1%),&nbsptenho(6.7%),&nbspsei(6.0%),&nbspvou(4.9%),&nbspsou(4.7%)</td></tr><tr><td  style=\"background-color:AliceBlue;\">1226</td><td  style=\"background-color:AliceBlue;\">0.7%</td><td  style=\"background-color:AliceBlue;\">Y3s</td><td  style=\"background-color:AliceBlue;\">fala(15.5%),&nbspseja(12.5%),&nbspcomeça(10.5%),&nbspbala(10.2%),&nbsptenha(4.6%)</td></tr><tr><td  style=\"background-color:Ivory;\">1114</td><td  style=\"background-color:Ivory;\">0.7%</td><td  style=\"background-color:Ivory;\">I3s</td><td  style=\"background-color:Ivory;\">era(35.1%),&nbsptinha(19.2%),&nbsphavia(7.5%),&nbspqueria(6.5%),&nbspsabia(4.2%)</td></tr><tr><td  style=\"background-color:AliceBlue;\">1053</td><td  style=\"background-color:AliceBlue;\">0.6%</td><td  style=\"background-color:AliceBlue;\">N3ms</td><td  style=\"background-color:AliceBlue;\">ele(100.0%)</td></tr><tr><td  style=\"background-color:Ivory;\">1010</td><td  style=\"background-color:Ivory;\">0.6%</td><td  style=\"background-color:Ivory;\">N1ms</td><td  style=\"background-color:Ivory;\">eu(100.0%)</td></tr><tr><td  style=\"background-color:AliceBlue;\">988</td><td  style=\"background-color:AliceBlue;\">0.6%</td><td  style=\"background-color:AliceBlue;\">Kfs</td><td  style=\"background-color:AliceBlue;\">apaixonada(3.1%),&nbspchamada(2.6%),&nbspcontada(2.0%),&nbspdivertida(1.7%),&nbspdescrita(1.5%)</td></tr><tr><td  style=\"background-color:Ivory;\">922</td><td  style=\"background-color:Ivory;\">0.5%</td><td  style=\"background-color:Ivory;\">N3fs</td><td  style=\"background-color:Ivory;\">ela(100.0%)</td></tr><tr><td  style=\"background-color:AliceBlue;\">748</td><td  style=\"background-color:AliceBlue;\">0.4%</td><td  style=\"background-color:AliceBlue;\">R1ms</td><td  style=\"background-color:AliceBlue;\">me(100.0%)</td></tr><tr><td  style=\"background-color:Ivory;\">594</td><td  style=\"background-color:Ivory;\">0.4%</td><td  style=\"background-color:Ivory;\">P1p</td><td  style=\"background-color:Ivory;\">somos(14.1%),&nbsptemos(8.6%),&nbsppodemos(8.2%),&nbspestamos(7.9%),&nbspvemos(7.2%)</td></tr><tr><td  style=\"background-color:AliceBlue;\">573</td><td  style=\"background-color:AliceBlue;\">0.3%</td><td  style=\"background-color:AliceBlue;\">C3s</td><td  style=\"background-color:AliceBlue;\">seria(24.6%),&nbsppoderia(14.7%),&nbspgostaria(6.8%),&nbspteria(6.6%),&nbspdeveria(5.6%)</td></tr><tr><td  style=\"background-color:Ivory;\">547</td><td  style=\"background-color:Ivory;\">0.3%</td><td  style=\"background-color:Ivory;\">Kmp</td><td  style=\"background-color:Ivory;\">abandonados(3.7%),&nbspvigiados(2.6%),&nbspapresentados(2.6%),&nbspestados(2.0%),&nbspunidos(1.8%)</td></tr><tr><td  style=\"background-color:AliceBlue;\">532</td><td  style=\"background-color:AliceBlue;\">0.3%</td><td  style=\"background-color:AliceBlue;\">I1s</td><td  style=\"background-color:AliceBlue;\">estava(25.9%),&nbspesperava(7.3%),&nbspficava(3.0%),&nbspgostava(2.4%),&nbsppensava(2.3%)</td></tr><tr><td  style=\"background-color:Ivory;\">441</td><td  style=\"background-color:Ivory;\">0.3%</td><td  style=\"background-color:Ivory;\">1fs</td><td  style=\"background-color:Ivory;\">minha(69.2%),&nbspnossa(30.8%)</td></tr><tr><td  style=\"background-color:AliceBlue;\">400</td><td  style=\"background-color:AliceBlue;\">0.2%</td><td  style=\"background-color:AliceBlue;\">3ms</td><td  style=\"background-color:AliceBlue;\">você(99.8%),&nbspsenhor(0.2%)</td></tr><tr><td  style=\"background-color:Ivory;\">378</td><td  style=\"background-color:Ivory;\">0.2%</td><td  style=\"background-color:Ivory;\">Q3p</td><td  style=\"background-color:Ivory;\">foram(17.2%),&nbspfizeram(5.0%),&nbsppassaram(3.7%),&nbspficaram(3.4%),&nbsptiveram(2.4%)</td></tr><tr><td  style=\"background-color:AliceBlue;\">361</td><td  style=\"background-color:AliceBlue;\">0.2%</td><td  style=\"background-color:AliceBlue;\">P2s</td><td  style=\"background-color:AliceBlue;\">suas(63.4%),&nbspideias(6.9%),&nbsppodes(4.7%),&nbsppaginas(3.3%),&nbspvarias(3.0%)</td></tr><tr><td  style=\"background-color:Ivory;\">336</td><td  style=\"background-color:Ivory;\">0.2%</td><td  style=\"background-color:Ivory;\">I3p</td><td  style=\"background-color:Ivory;\">eram(24.4%),&nbsptinham(8.6%),&nbspestavam(5.4%),&nbspfaziam(4.5%),&nbspviviam(3.9%)</td></tr><tr><td  style=\"background-color:AliceBlue;\">317</td><td  style=\"background-color:AliceBlue;\">0.2%</td><td  style=\"background-color:AliceBlue;\">Kfp</td><td  style=\"background-color:AliceBlue;\">abandonadas(3.8%),&nbspdescritas(1.9%),&nbsprepetidas(1.9%),&nbspdeterminadas(1.9%),&nbspvividas(1.6%)</td></tr><tr><td  style=\"background-color:Ivory;\">297</td><td  style=\"background-color:Ivory;\">0.2%</td><td  style=\"background-color:Ivory;\">T3s</td><td  style=\"background-color:Ivory;\">fosse(30.3%),&nbsptivesse(15.2%),&nbspestivesse(5.7%),&nbsppudesse(5.1%),&nbspacontecesse(2.0%)</td></tr><tr><td  style=\"background-color:AliceBlue;\">290</td><td  style=\"background-color:AliceBlue;\">0.2%</td><td  style=\"background-color:AliceBlue;\">N3mp</td><td  style=\"background-color:AliceBlue;\">eles(100.0%)</td></tr><tr><td  style=\"background-color:Ivory;\">225</td><td  style=\"background-color:Ivory;\">0.1%</td><td  style=\"background-color:Ivory;\">Y3p</td><td  style=\"background-color:Ivory;\">sejam(9.8%),&nbspvão(9.3%),&nbspleiam(8.0%),&nbspcomeçam(7.6%),&nbspfalam(7.1%)</td></tr><tr><td  style=\"background-color:AliceBlue;\">200</td><td  style=\"background-color:AliceBlue;\">0.1%</td><td  style=\"background-color:AliceBlue;\">O3ms</td><td  style=\"background-color:AliceBlue;\">lo(66.5%),&nbsplhe(33.5%)</td></tr><tr><td  style=\"background-color:Ivory;\">198</td><td  style=\"background-color:Ivory;\">0.1%</td><td  style=\"background-color:Ivory;\">F3s</td><td  style=\"background-color:Ivory;\">será(37.9%),&nbspirá(7.1%),&nbspterá(4.0%),&nbspficará(3.5%),&nbspacontecerá(2.5%)</td></tr><tr><td  style=\"background-color:AliceBlue;\">186</td><td  style=\"background-color:AliceBlue;\">0.1%</td><td  style=\"background-color:AliceBlue;\">W3p</td><td  style=\"background-color:AliceBlue;\">serem(17.7%),&nbspterem(7.5%),&nbsplerem(4.8%),&nbspporem(4.3%),&nbspficarem(3.2%)</td></tr><tr><td  style=\"background-color:Ivory;\">181</td><td  style=\"background-color:Ivory;\">0.1%</td><td  style=\"background-color:Ivory;\">Y2p</td><td  style=\"background-color:Ivory;\">consegui(26.5%),&nbspsenti(15.5%),&nbspassisti(13.3%),&nbspouvi(9.9%),&nbspdescobri(8.3%)</td></tr><tr><td  style=\"background-color:AliceBlue;\">137</td><td  style=\"background-color:AliceBlue;\">0.1%</td><td  style=\"background-color:AliceBlue;\">O1ms</td><td  style=\"background-color:AliceBlue;\">mim(100.0%)</td></tr><tr><td  style=\"background-color:Ivory;\">136</td><td  style=\"background-color:Ivory;\">0.1%</td><td  style=\"background-color:Ivory;\">U3s</td><td  style=\"background-color:Ivory;\">houver(32.4%),&nbspfor(26.5%),&nbspquis(19.1%),&nbsptiver(8.1%),&nbspestiver(5.1%)</td></tr><tr><td  style=\"background-color:AliceBlue;\">125</td><td  style=\"background-color:AliceBlue;\">0.1%</td><td  style=\"background-color:AliceBlue;\">R2ms</td><td  style=\"background-color:AliceBlue;\">te(100.0%)</td></tr><tr><td  style=\"background-color:Ivory;\">114</td><td  style=\"background-color:Ivory;\">0.1%</td><td  style=\"background-color:Ivory;\">Dms</td><td  style=\"background-color:Ivory;\">sozinho(12.3%),&nbsppouquinho(9.6%),&nbsprapazinho(7.9%),&nbspgostinho(7.9%),&nbspbonzinho(6.1%)</td></tr><tr><td  style=\"background-color:AliceBlue;\">113</td><td  style=\"background-color:AliceBlue;\">0.1%</td><td  style=\"background-color:AliceBlue;\">Dfs</td><td  style=\"background-color:AliceBlue;\">cidadezinha(17.7%),&nbspmodinha(15.0%),&nbspmocinha(12.4%),&nbspsozinha(7.1%),&nbspirmãzinha(3.5%)</td></tr><tr><td  style=\"background-color:Ivory;\">104</td><td  style=\"background-color:Ivory;\">0.1%</td><td  style=\"background-color:Ivory;\">Cfp</td><td  style=\"background-color:Ivory;\">duas(97.1%),&nbsptrezentas(1.9%),&nbspduzentas(1.0%)</td></tr><tr><td  style=\"background-color:AliceBlue;\">90</td><td  style=\"background-color:AliceBlue;\">0.1%</td><td  style=\"background-color:AliceBlue;\">N3fp</td><td  style=\"background-color:AliceBlue;\">elas(100.0%)</td></tr><tr><td  style=\"background-color:Ivory;\">90</td><td  style=\"background-color:Ivory;\">0.1%</td><td  style=\"background-color:Ivory;\">O3fs</td><td  style=\"background-color:Ivory;\">la(100.0%)</td></tr><tr><td  style=\"background-color:AliceBlue;\">89</td><td  style=\"background-color:AliceBlue;\">0.1%</td><td  style=\"background-color:AliceBlue;\">Y1p</td><td  style=\"background-color:AliceBlue;\">vamos(37.1%),&nbspdigamos(18.0%),&nbsptenhamos(4.5%),&nbspvejamos(4.5%),&nbspconvenhamos(3.4%)</td></tr><tr><td  style=\"background-color:Ivory;\">72</td><td  style=\"background-color:Ivory;\">0.0%</td><td  style=\"background-color:Ivory;\">F3p</td><td  style=\"background-color:Ivory;\">serão(22.2%),&nbspirão(15.3%),&nbsppoderão(4.2%),&nbspestarão(4.2%),&nbspverão(4.2%)</td></tr><tr><td  style=\"background-color:AliceBlue;\">67</td><td  style=\"background-color:AliceBlue;\">0.0%</td><td  style=\"background-color:AliceBlue;\">C3p</td><td  style=\"background-color:AliceBlue;\">deveriam(16.4%),&nbsppoderiam(13.4%),&nbspseriam(11.9%),&nbspteriam(7.5%),&nbspdiriam(4.5%)</td></tr><tr><td  style=\"background-color:Ivory;\">66</td><td  style=\"background-color:Ivory;\">0.0%</td><td  style=\"background-color:Ivory;\">1fp</td><td  style=\"background-color:Ivory;\">nossas(54.5%),&nbspminhas(45.5%)</td></tr><tr><td  style=\"background-color:AliceBlue;\">56</td><td  style=\"background-color:AliceBlue;\">0.0%</td><td  style=\"background-color:AliceBlue;\">O3mp</td><td  style=\"background-color:AliceBlue;\">los(64.3%),&nbsplhes(35.7%)</td></tr><tr><td  style=\"background-color:Ivory;\">52</td><td  style=\"background-color:Ivory;\">0.0%</td><td  style=\"background-color:Ivory;\">T3p</td><td  style=\"background-color:Ivory;\">fossem(23.1%),&nbsppudessem(9.6%),&nbspconhecessem(5.8%),&nbsptivessem(5.8%),&nbspestivessem(3.8%)</td></tr><tr><td  style=\"background-color:AliceBlue;\">51</td><td  style=\"background-color:AliceBlue;\">0.0%</td><td  style=\"background-color:AliceBlue;\">W1p</td><td  style=\"background-color:AliceBlue;\">termos(9.8%),&nbspsermos(9.8%),&nbsppensarmos(9.8%),&nbspcompreendermos(3.9%),&nbsppodermos(3.9%)</td></tr><tr><td  style=\"background-color:Ivory;\">46</td><td  style=\"background-color:Ivory;\">0.0%</td><td  style=\"background-color:Ivory;\">F1s</td><td  style=\"background-color:Ivory;\">virei(15.2%),&nbspirei(13.0%),&nbsplerei(8.7%),&nbspesquecerei(6.5%),&nbspfarei(6.5%)</td></tr><tr><td  style=\"background-color:AliceBlue;\">37</td><td  style=\"background-color:AliceBlue;\">0.0%</td><td  style=\"background-color:AliceBlue;\">Dfp</td><td  style=\"background-color:AliceBlue;\">mocinhas(13.5%),&nbspestrelinhas(10.8%),&nbspgarotinhas(10.8%),&nbsphistorinhas(8.1%),&nbspmenininhas(5.4%)</td></tr><tr><td  style=\"background-color:Ivory;\">36</td><td  style=\"background-color:Ivory;\">0.0%</td><td  style=\"background-color:Ivory;\">Dmp</td><td  style=\"background-color:Ivory;\">garotinhos(27.8%),&nbspsozinhos(11.1%),&nbspbonzinhos(11.1%),&nbspmocinhos(8.3%),&nbspilhéus(5.6%)</td></tr><tr><td  style=\"background-color:AliceBlue;\">35</td><td  style=\"background-color:AliceBlue;\">0.0%</td><td  style=\"background-color:AliceBlue;\">Q3s</td><td  style=\"background-color:AliceBlue;\">fora(31.4%),&nbsplera(11.4%),&nbspfizera(11.4%),&nbspfalecera(5.7%),&nbspmorrera(5.7%)</td></tr><tr><td  style=\"background-color:Ivory;\">35</td><td  style=\"background-color:Ivory;\">0.0%</td><td  style=\"background-color:Ivory;\">Q1s</td><td  style=\"background-color:Ivory;\">tomara(8.6%),&nbspacabara(8.6%),&nbspdeixara(5.7%),&nbspentrara(2.9%),&nbsprestara(2.9%)</td></tr><tr><td  style=\"background-color:AliceBlue;\">28</td><td  style=\"background-color:AliceBlue;\">0.0%</td><td  style=\"background-color:AliceBlue;\">3mp</td><td  style=\"background-color:AliceBlue;\">vocês(100.0%)</td></tr><tr><td  style=\"background-color:Ivory;\">28</td><td  style=\"background-color:Ivory;\">0.0%</td><td  style=\"background-color:Ivory;\">Cmp</td><td  style=\"background-color:Ivory;\">cem(57.1%),&nbspmil(42.9%)</td></tr><tr><td  style=\"background-color:AliceBlue;\">26</td><td  style=\"background-color:AliceBlue;\">0.0%</td><td  style=\"background-color:AliceBlue;\">Sms</td><td  style=\"background-color:AliceBlue;\">muitíssimo(15.4%),&nbspbelíssimo(15.4%),&nbspdivertidíssimo(11.5%),&nbspexcelentíssimo(7.7%),&nbspinteligentíssimo(7.7%)</td></tr><tr><td  style=\"background-color:Ivory;\">20</td><td  style=\"background-color:Ivory;\">0.0%</td><td  style=\"background-color:Ivory;\">O3fp</td><td  style=\"background-color:Ivory;\">las(100.0%)</td></tr><tr><td  style=\"background-color:AliceBlue;\">19</td><td  style=\"background-color:AliceBlue;\">0.0%</td><td  style=\"background-color:AliceBlue;\">W3</td><td  style=\"background-color:AliceBlue;\">expor(57.9%),&nbspimpor(15.8%),&nbsptranspor(5.3%),&nbsppropor(5.3%),&nbsprecompor(5.3%)</td></tr><tr><td  style=\"background-color:Ivory;\">19</td><td  style=\"background-color:Ivory;\">0.0%</td><td  style=\"background-color:Ivory;\">F1p</td><td  style=\"background-color:Ivory;\">teremos(15.8%),&nbspchegaremos(10.5%),&nbspiremos(10.5%),&nbspestaremos(10.5%),&nbsppoderemos(10.5%)</td></tr><tr><td  style=\"background-color:AliceBlue;\">17</td><td  style=\"background-color:AliceBlue;\">0.0%</td><td  style=\"background-color:AliceBlue;\">C1p</td><td  style=\"background-color:AliceBlue;\">perderíamos(17.6%),&nbspseríamos(11.8%),&nbspdeveríamos(11.8%),&nbspdiríamos(11.8%),&nbsptornaríamos(5.9%)</td></tr><tr><td  style=\"background-color:Ivory;\">16</td><td  style=\"background-color:Ivory;\">0.0%</td><td  style=\"background-color:Ivory;\">S2s</td><td  style=\"background-color:Ivory;\">series(18.8%),&nbspentregues(12.5%),&nbsppiores(12.5%),&nbsplideres(6.2%),&nbspondes(6.2%)</td></tr><tr><td  style=\"background-color:AliceBlue;\">16</td><td  style=\"background-color:AliceBlue;\">0.0%</td><td  style=\"background-color:AliceBlue;\">Ams</td><td  style=\"background-color:AliceBlue;\">bonitão(31.2%),&nbspbarracão(12.5%),&nbspcaixão(12.5%),&nbspcasarão(6.2%),&nbspproblemão(6.2%)</td></tr><tr><td  style=\"background-color:Ivory;\">15</td><td  style=\"background-color:Ivory;\">0.0%</td><td  style=\"background-color:Ivory;\">Y2S</td><td  style=\"background-color:Ivory;\">ri(100.0%)</td></tr><tr><td  style=\"background-color:AliceBlue;\">13</td><td  style=\"background-color:AliceBlue;\">0.0%</td><td  style=\"background-color:AliceBlue;\">Sfs</td><td  style=\"background-color:AliceBlue;\">belíssima(23.1%),&nbspfortíssima(7.7%),&nbspprontíssima(7.7%),&nbspriquíssima(7.7%),&nbspaltíssima(7.7%)</td></tr><tr><td  style=\"background-color:Ivory;\">11</td><td  style=\"background-color:Ivory;\">0.0%</td><td  style=\"background-color:Ivory;\">U3p</td><td  style=\"background-color:Ivory;\">tiverem(27.3%),&nbspforem(27.3%),&nbspestiverem(18.2%),&nbsppuderem(9.1%),&nbsphouverem(9.1%)</td></tr><tr><td  style=\"background-color:AliceBlue;\">11</td><td  style=\"background-color:AliceBlue;\">0.0%</td><td  style=\"background-color:AliceBlue;\">I1p</td><td  style=\"background-color:AliceBlue;\">tínhamos(18.2%),&nbspsabíamos(18.2%),&nbspéramos(18.2%),&nbspestávamos(18.2%),&nbspqueríamos(9.1%)</td></tr><tr><td  style=\"background-color:Ivory;\">9</td><td  style=\"background-color:Ivory;\">0.0%</td><td  style=\"background-color:Ivory;\">Sfp</td><td  style=\"background-color:Ivory;\">engraçadíssimas(22.2%),&nbspfortíssimas(22.2%),&nbspparecidíssimas(11.1%),&nbspbelíssimas(11.1%),&nbsppouquíssimas(11.1%)</td></tr><tr><td  style=\"background-color:AliceBlue;\">8</td><td  style=\"background-color:AliceBlue;\">0.0%</td><td  style=\"background-color:AliceBlue;\">T1p</td><td  style=\"background-color:AliceBlue;\">pudéssemos(25.0%),&nbspvivêssemos(12.5%),&nbspenxergássemos(12.5%),&nbspolhássemos(12.5%),&nbsptivéssemos(12.5%)</td></tr><tr><td  style=\"background-color:Ivory;\">8</td><td  style=\"background-color:Ivory;\">0.0%</td><td  style=\"background-color:Ivory;\">K</td><td  style=\"background-color:Ivory;\">vindo(87.5%),&nbspadvindo(12.5%)</td></tr><tr><td  style=\"background-color:AliceBlue;\">7</td><td  style=\"background-color:AliceBlue;\">0.0%</td><td  style=\"background-color:AliceBlue;\">J1p</td><td  style=\"background-color:AliceBlue;\">fomos(42.9%),&nbsptivemos(28.6%),&nbspdissemos(14.3%),&nbspfizemos(14.3%)</td></tr><tr><td  style=\"background-color:Ivory;\">7</td><td  style=\"background-color:Ivory;\">0.0%</td><td  style=\"background-color:Ivory;\">3fs</td><td  style=\"background-color:Ivory;\">senhora(100.0%)</td></tr><tr><td  style=\"background-color:AliceBlue;\">6</td><td  style=\"background-color:AliceBlue;\">0.0%</td><td  style=\"background-color:AliceBlue;\">O2ms</td><td  style=\"background-color:AliceBlue;\">ti(100.0%)</td></tr><tr><td  style=\"background-color:Ivory;\">6</td><td  style=\"background-color:Ivory;\">0.0%</td><td  style=\"background-color:Ivory;\">N2ms</td><td  style=\"background-color:Ivory;\">tu(100.0%)</td></tr><tr><td  style=\"background-color:AliceBlue;\">6</td><td  style=\"background-color:AliceBlue;\">0.0%</td><td  style=\"background-color:AliceBlue;\">Amp</td><td  style=\"background-color:AliceBlue;\">durões(50.0%),&nbspcaixões(33.3%),&nbspfigurões(16.7%)</td></tr><tr><td  style=\"background-color:Ivory;\">5</td><td  style=\"background-color:Ivory;\">0.0%</td><td  style=\"background-color:Ivory;\">2mp</td><td  style=\"background-color:Ivory;\">teus(100.0%)</td></tr><tr><td  style=\"background-color:AliceBlue;\">5</td><td  style=\"background-color:AliceBlue;\">0.0%</td><td  style=\"background-color:AliceBlue;\">S2p</td><td  style=\"background-color:AliceBlue;\">fieis(40.0%),&nbspareis(20.0%),&nbspatuais(20.0%),&nbspmorrais(20.0%)</td></tr><tr><td  style=\"background-color:Ivory;\">5</td><td  style=\"background-color:Ivory;\">0.0%</td><td  style=\"background-color:Ivory;\">Smp</td><td  style=\"background-color:Ivory;\">pouquíssimos(40.0%),&nbspchatíssimos(20.0%),&nbspsofisticadíssimos(20.0%),&nbspfortíssimos(20.0%)</td></tr><tr><td  style=\"background-color:AliceBlue;\">4</td><td  style=\"background-color:AliceBlue;\">0.0%</td><td  style=\"background-color:AliceBlue;\">Fms</td><td  style=\"background-color:AliceBlue;\">terço(100.0%)</td></tr><tr><td  style=\"background-color:Ivory;\">4</td><td  style=\"background-color:Ivory;\">0.0%</td><td  style=\"background-color:Ivory;\">U1p</td><td  style=\"background-color:Ivory;\">formos(50.0%),&nbspfizermos(25.0%),&nbsptivermos(25.0%)</td></tr><tr><td  style=\"background-color:AliceBlue;\">4</td><td  style=\"background-color:AliceBlue;\">0.0%</td><td  style=\"background-color:AliceBlue;\">W2s</td><td  style=\"background-color:AliceBlue;\">pesares(25.0%),&nbspveres(25.0%),&nbsptirares(25.0%),&nbspdesenrolares(25.0%)</td></tr><tr><td  style=\"background-color:Ivory;\">3</td><td  style=\"background-color:Ivory;\">0.0%</td><td  style=\"background-color:Ivory;\">Q2s</td><td  style=\"background-color:Ivory;\">deveras(33.3%),&nbspconvenceras(33.3%),&nbspcamaras(33.3%)</td></tr><tr><td  style=\"background-color:AliceBlue;\">3</td><td  style=\"background-color:AliceBlue;\">0.0%</td><td  style=\"background-color:AliceBlue;\">P2p</td><td  style=\"background-color:AliceBlue;\">habituais(66.7%),&nbspareais(33.3%)</td></tr><tr><td  style=\"background-color:Ivory;\">3</td><td  style=\"background-color:Ivory;\">0.0%</td><td  style=\"background-color:Ivory;\">F2s</td><td  style=\"background-color:Ivory;\">dirás(33.3%),&nbspsê-lo-ás(33.3%),&nbspaprenderás(33.3%)</td></tr><tr><td  style=\"background-color:AliceBlue;\">3</td><td  style=\"background-color:AliceBlue;\">0.0%</td><td  style=\"background-color:AliceBlue;\">2fs</td><td  style=\"background-color:AliceBlue;\">tua(100.0%)</td></tr><tr><td  style=\"background-color:Ivory;\">2</td><td  style=\"background-color:Ivory;\">0.0%</td><td  style=\"background-color:Ivory;\">F2p</td><td  style=\"background-color:Ivory;\">comereis(50.0%),&nbsptocareis(50.0%)</td></tr><tr><td  style=\"background-color:AliceBlue;\">2</td><td  style=\"background-color:AliceBlue;\">0.0%</td><td  style=\"background-color:AliceBlue;\">2ms</td><td  style=\"background-color:AliceBlue;\">teu(100.0%)</td></tr><tr><td  style=\"background-color:Ivory;\">1</td><td  style=\"background-color:Ivory;\">0.0%</td><td  style=\"background-color:Ivory;\">Fmp</td><td  style=\"background-color:Ivory;\">terços(100.0%)</td></tr><tr><td  style=\"background-color:AliceBlue;\">1</td><td  style=\"background-color:AliceBlue;\">0.0%</td><td  style=\"background-color:AliceBlue;\">S3s</td><td  style=\"background-color:AliceBlue;\">paira(100.0%)</td></tr><tr><td  style=\"background-color:Ivory;\">1</td><td  style=\"background-color:Ivory;\">0.0%</td><td  style=\"background-color:Ivory;\">I2s</td><td  style=\"background-color:Ivory;\">ferias(100.0%)</td></tr><tr><td  style=\"background-color:AliceBlue;\">1</td><td  style=\"background-color:AliceBlue;\">0.0%</td><td  style=\"background-color:AliceBlue;\">N2mp</td><td  style=\"background-color:AliceBlue;\">vós(100.0%)</td></tr><tr><td  style=\"background-color:Ivory;\">1</td><td  style=\"background-color:Ivory;\">0.0%</td><td  style=\"background-color:Ivory;\">W2p</td><td  style=\"background-color:Ivory;\">verdes(100.0%)</td></tr><tr><td  style=\"background-color:AliceBlue;\">1</td><td  style=\"background-color:AliceBlue;\">0.0%</td><td  style=\"background-color:AliceBlue;\">C2s</td><td  style=\"background-color:AliceBlue;\">revolucionarias(100.0%)</td></tr><tr><td  style=\"background-color:Ivory;\">1</td><td  style=\"background-color:Ivory;\">0.0%</td><td  style=\"background-color:Ivory;\">Afs</td><td  style=\"background-color:Ivory;\">telona(100.0%)</td></tr></table>"
      ],
      "text/plain": [
       "<ipy_table.IpyTable at 0x7f9487fa05f8>"
      ]
     },
     "execution_count": 88,
     "metadata": {},
     "output_type": "execute_result"
    }
   ],
   "source": [
    "morf_freq = dict()\n",
    "freqlist = dict()\n",
    "\n",
    "for word_node in reviews.iter('word'):\n",
    "    form = word_node.get('form').lower()\n",
    "    morf_tags = word_node.get('morf').split()\n",
    "    \n",
    "    for tag in morf_tags:\n",
    "        morf_freq[tag] = morf_freq.get(tag, 0) + 1\n",
    "        if tag not in freqlist:\n",
    "            freqlist[tag] = dict()\n",
    "        freqlist[tag][form] = freqlist[tag].get(form, 0) + 1 \n",
    "    \n",
    "data = [['FREQ', '% FREQ', 'MORF TAG', 'EXAMPLES']]\n",
    "\n",
    "for tag, freq in sorted(morf_freq.items(), key=itemgetter(1), reverse=True):\n",
    "    examples = ', '.join(['{}({:.1f}%)'.format(w,f / sum(freqlist[tag].values()) * 100) \n",
    "                          for w,f in sorted(freqlist[tag].items(), key=itemgetter(1), reverse=True)[:5]])\n",
    "    ratio = freq / sum(morf_freq.values()) * 100\n",
    "    data.append([freq, '{:.1f}%'.format(ratio), tag, examples])\n",
    "\n",
    "ipy_table.make_table(data)\n",
    "ipy_table.apply_theme('basic')"
   ]
  },
  {
   "cell_type": "markdown",
   "metadata": {
    "collapsed": true
   },
   "source": [
    "## Aspect Frequency"
   ]
  },
  {
   "cell_type": "code",
   "execution_count": 82,
   "metadata": {
    "collapsed": false
   },
   "outputs": [
    {
     "data": {
      "text/html": [
       "<table border=\"1\" cellpadding=\"3\" cellspacing=\"0\"  style=\"border:1px solid black;border-collapse:collapse;\"><tr><td  style=\"background-color:LightGray;\"><b>freq</b></td><td  style=\"background-color:LightGray;\"><b>%freq</b></td><td  style=\"background-color:LightGray;\"><b>unigram&nbspaspect</b></td></tr><tr><td  style=\"background-color:Ivory;\">953</td><td  style=\"background-color:Ivory;\">21.7%</td><td  style=\"background-color:Ivory;\">livro</td></tr><tr><td  style=\"background-color:AliceBlue;\">236</td><td  style=\"background-color:AliceBlue;\">5.4%</td><td  style=\"background-color:AliceBlue;\">história</td></tr><tr><td  style=\"background-color:Ivory;\">229</td><td  style=\"background-color:Ivory;\">5.2%</td><td  style=\"background-color:Ivory;\">de</td></tr><tr><td  style=\"background-color:AliceBlue;\">132</td><td  style=\"background-color:AliceBlue;\">3.0%</td><td  style=\"background-color:AliceBlue;\">o</td></tr><tr><td  style=\"background-color:Ivory;\">127</td><td  style=\"background-color:Ivory;\">2.9%</td><td  style=\"background-color:Ivory;\">a</td></tr><tr><td  style=\"background-color:AliceBlue;\">115</td><td  style=\"background-color:AliceBlue;\">2.6%</td><td  style=\"background-color:AliceBlue;\">leitura</td></tr><tr><td  style=\"background-color:Ivory;\">100</td><td  style=\"background-color:Ivory;\">2.3%</td><td  style=\"background-color:Ivory;\">personagens</td></tr><tr><td  style=\"background-color:AliceBlue;\">64</td><td  style=\"background-color:AliceBlue;\">1.5%</td><td  style=\"background-color:AliceBlue;\">crepúsculo</td></tr><tr><td  style=\"background-color:Ivory;\">64</td><td  style=\"background-color:Ivory;\">1.5%</td><td  style=\"background-color:Ivory;\">narrativa</td></tr><tr><td  style=\"background-color:AliceBlue;\">64</td><td  style=\"background-color:AliceBlue;\">1.5%</td><td  style=\"background-color:AliceBlue;\">romance</td></tr><tr><td  style=\"background-color:Ivory;\">62</td><td  style=\"background-color:Ivory;\">1.4%</td><td  style=\"background-color:Ivory;\">final</td></tr><tr><td  style=\"background-color:AliceBlue;\">52</td><td  style=\"background-color:AliceBlue;\">1.2%</td><td  style=\"background-color:AliceBlue;\">ele</td></tr><tr><td  style=\"background-color:Ivory;\">50</td><td  style=\"background-color:Ivory;\">1.1%</td><td  style=\"background-color:Ivory;\">obra</td></tr><tr><td  style=\"background-color:AliceBlue;\">46</td><td  style=\"background-color:AliceBlue;\">1.0%</td><td  style=\"background-color:AliceBlue;\">em</td></tr><tr><td  style=\"background-color:Ivory;\">45</td><td  style=\"background-color:Ivory;\">1.0%</td><td  style=\"background-color:Ivory;\">1984</td></tr><tr><td  style=\"background-color:AliceBlue;\">39</td><td  style=\"background-color:AliceBlue;\">0.9%</td><td  style=\"background-color:AliceBlue;\">personagem</td></tr><tr><td  style=\"background-color:Ivory;\">37</td><td  style=\"background-color:Ivory;\">0.8%</td><td  style=\"background-color:Ivory;\">e</td></tr><tr><td  style=\"background-color:AliceBlue;\">36</td><td  style=\"background-color:AliceBlue;\">0.8%</td><td  style=\"background-color:AliceBlue;\">bella</td></tr><tr><td  style=\"background-color:Ivory;\">36</td><td  style=\"background-color:Ivory;\">0.8%</td><td  style=\"background-color:Ivory;\">trama</td></tr><tr><td  style=\"background-color:AliceBlue;\">35</td><td  style=\"background-color:AliceBlue;\">0.8%</td><td  style=\"background-color:AliceBlue;\">enredo</td></tr><tr><td  style=\"background-color:Ivory;\">33</td><td  style=\"background-color:Ivory;\">0.8%</td><td  style=\"background-color:Ivory;\">historia</td></tr><tr><td  style=\"background-color:AliceBlue;\">29</td><td  style=\"background-color:AliceBlue;\">0.7%</td><td  style=\"background-color:AliceBlue;\">edward</td></tr><tr><td  style=\"background-color:Ivory;\">28</td><td  style=\"background-color:Ivory;\">0.6%</td><td  style=\"background-color:Ivory;\">os</td></tr><tr><td  style=\"background-color:AliceBlue;\">27</td><td  style=\"background-color:AliceBlue;\">0.6%</td><td  style=\"background-color:AliceBlue;\">sobre</td></tr><tr><td  style=\"background-color:Ivory;\">27</td><td  style=\"background-color:Ivory;\">0.6%</td><td  style=\"background-color:Ivory;\">que</td></tr><tr><td  style=\"background-color:AliceBlue;\">26</td><td  style=\"background-color:AliceBlue;\">0.6%</td><td  style=\"background-color:AliceBlue;\">ela</td></tr><tr><td  style=\"background-color:Ivory;\">26</td><td  style=\"background-color:Ivory;\">0.6%</td><td  style=\"background-color:Ivory;\">ensaio</td></tr><tr><td  style=\"background-color:AliceBlue;\">25</td><td  style=\"background-color:AliceBlue;\">0.6%</td><td  style=\"background-color:AliceBlue;\">cegueira</td></tr><tr><td  style=\"background-color:Ivory;\">22</td><td  style=\"background-color:Ivory;\">0.5%</td><td  style=\"background-color:Ivory;\">linguagem</td></tr><tr><td  style=\"background-color:AliceBlue;\">21</td><td  style=\"background-color:AliceBlue;\">0.5%</td><td  style=\"background-color:AliceBlue;\">capitães</td></tr></table>"
      ],
      "text/plain": [
       "<ipy_table.IpyTable at 0x7f948c417160>"
      ]
     },
     "execution_count": 82,
     "metadata": {},
     "output_type": "execute_result"
    }
   ],
   "source": [
    "# obj tags\n",
    "aspect_freq =  Counter([word_node.get('form').lower() \n",
    "                        for word_node in reviews.iter('word') if word_node.get('obj') != 'O'])\n",
    "\n",
    "data = [['freq', '%freq', 'unigram aspect']]\n",
    "for token, freq in aspect_freq.most_common(30):\n",
    "    ratio = freq / sum(aspect_freq.values()) *100\n",
    "    data.append([freq, '{:.1f}%'.format(ratio), token])\n",
    "\n",
    "ipy_table.make_table(data)\n",
    "ipy_table.apply_theme('basic')"
   ]
  },
  {
   "cell_type": "code",
   "execution_count": 83,
   "metadata": {
    "collapsed": false
   },
   "outputs": [
    {
     "data": {
      "text/html": [
       "<table border=\"1\" cellpadding=\"3\" cellspacing=\"0\"  style=\"border:1px solid black;border-collapse:collapse;\"><tr><td  style=\"background-color:LightGray;\"><b>freq</b></td><td  style=\"background-color:LightGray;\"><b>%freq</b></td><td  style=\"background-color:LightGray;\"><b>aspect&nbspchunk</b></td></tr><tr><td  style=\"background-color:Ivory;\">916</td><td  style=\"background-color:Ivory;\">33.1%</td><td  style=\"background-color:Ivory;\">livro</td></tr><tr><td  style=\"background-color:AliceBlue;\">208</td><td  style=\"background-color:AliceBlue;\">7.5%</td><td  style=\"background-color:AliceBlue;\">história</td></tr><tr><td  style=\"background-color:Ivory;\">112</td><td  style=\"background-color:Ivory;\">4.0%</td><td  style=\"background-color:Ivory;\">leitura</td></tr><tr><td  style=\"background-color:AliceBlue;\">85</td><td  style=\"background-color:AliceBlue;\">3.1%</td><td  style=\"background-color:AliceBlue;\">personagens</td></tr><tr><td  style=\"background-color:Ivory;\">62</td><td  style=\"background-color:Ivory;\">2.2%</td><td  style=\"background-color:Ivory;\">crepúsculo</td></tr><tr><td  style=\"background-color:AliceBlue;\">61</td><td  style=\"background-color:AliceBlue;\">2.2%</td><td  style=\"background-color:AliceBlue;\">narrativa</td></tr><tr><td  style=\"background-color:Ivory;\">56</td><td  style=\"background-color:Ivory;\">2.0%</td><td  style=\"background-color:Ivory;\">final</td></tr><tr><td  style=\"background-color:AliceBlue;\">55</td><td  style=\"background-color:AliceBlue;\">2.0%</td><td  style=\"background-color:AliceBlue;\">romance</td></tr><tr><td  style=\"background-color:Ivory;\">48</td><td  style=\"background-color:Ivory;\">1.7%</td><td  style=\"background-color:Ivory;\">obra</td></tr><tr><td  style=\"background-color:AliceBlue;\">43</td><td  style=\"background-color:AliceBlue;\">1.6%</td><td  style=\"background-color:AliceBlue;\">ele</td></tr><tr><td  style=\"background-color:Ivory;\">43</td><td  style=\"background-color:Ivory;\">1.6%</td><td  style=\"background-color:Ivory;\">1984</td></tr><tr><td  style=\"background-color:AliceBlue;\">34</td><td  style=\"background-color:AliceBlue;\">1.2%</td><td  style=\"background-color:AliceBlue;\">trama</td></tr><tr><td  style=\"background-color:Ivory;\">34</td><td  style=\"background-color:Ivory;\">1.2%</td><td  style=\"background-color:Ivory;\">enredo</td></tr><tr><td  style=\"background-color:AliceBlue;\">32</td><td  style=\"background-color:AliceBlue;\">1.2%</td><td  style=\"background-color:AliceBlue;\">historia</td></tr><tr><td  style=\"background-color:Ivory;\">25</td><td  style=\"background-color:Ivory;\">0.9%</td><td  style=\"background-color:Ivory;\">personagem</td></tr><tr><td  style=\"background-color:AliceBlue;\">23</td><td  style=\"background-color:AliceBlue;\">0.8%</td><td  style=\"background-color:AliceBlue;\">bella</td></tr><tr><td  style=\"background-color:Ivory;\">22</td><td  style=\"background-color:Ivory;\">0.8%</td><td  style=\"background-color:Ivory;\">ensaio_sobre_a_cegueira</td></tr><tr><td  style=\"background-color:AliceBlue;\">22</td><td  style=\"background-color:AliceBlue;\">0.8%</td><td  style=\"background-color:AliceBlue;\">linguagem</td></tr><tr><td  style=\"background-color:Ivory;\">18</td><td  style=\"background-color:Ivory;\">0.7%</td><td  style=\"background-color:Ivory;\">ela</td></tr><tr><td  style=\"background-color:AliceBlue;\">17</td><td  style=\"background-color:AliceBlue;\">0.6%</td><td  style=\"background-color:AliceBlue;\">começo</td></tr><tr><td  style=\"background-color:Ivory;\">14</td><td  style=\"background-color:Ivory;\">0.5%</td><td  style=\"background-color:Ivory;\">edward</td></tr><tr><td  style=\"background-color:AliceBlue;\">12</td><td  style=\"background-color:AliceBlue;\">0.4%</td><td  style=\"background-color:AliceBlue;\">estória</td></tr><tr><td  style=\"background-color:Ivory;\">12</td><td  style=\"background-color:Ivory;\">0.4%</td><td  style=\"background-color:Ivory;\">escrita</td></tr><tr><td  style=\"background-color:AliceBlue;\">12</td><td  style=\"background-color:AliceBlue;\">0.4%</td><td  style=\"background-color:AliceBlue;\">protagonista</td></tr><tr><td  style=\"background-color:Ivory;\">11</td><td  style=\"background-color:Ivory;\">0.4%</td><td  style=\"background-color:Ivory;\">diálogos</td></tr><tr><td  style=\"background-color:AliceBlue;\">11</td><td  style=\"background-color:AliceBlue;\">0.4%</td><td  style=\"background-color:AliceBlue;\">esse</td></tr><tr><td  style=\"background-color:Ivory;\">10</td><td  style=\"background-color:Ivory;\">0.4%</td><td  style=\"background-color:Ivory;\">início</td></tr><tr><td  style=\"background-color:AliceBlue;\">9</td><td  style=\"background-color:AliceBlue;\">0.3%</td><td  style=\"background-color:AliceBlue;\">se_houver_amanhã</td></tr><tr><td  style=\"background-color:Ivory;\">9</td><td  style=\"background-color:Ivory;\">0.3%</td><td  style=\"background-color:Ivory;\">tema</td></tr><tr><td  style=\"background-color:AliceBlue;\">9</td><td  style=\"background-color:AliceBlue;\">0.3%</td><td  style=\"background-color:AliceBlue;\">histórias</td></tr></table>"
      ],
      "text/plain": [
       "<ipy_table.IpyTable at 0x7f94ac6d8048>"
      ]
     },
     "execution_count": 83,
     "metadata": {},
     "output_type": "execute_result"
    }
   ],
   "source": [
    "aspects_list = []\n",
    "for sentence_node in reviews.iter('sentence'):    \n",
    "    chunk = []\n",
    "    for word_node in sentence_node.getchildren():\n",
    "        if word_node.get('obj') != 'O':\n",
    "            chunk.append(word_node.get('form').lower())\n",
    "        else:\n",
    "            if len(chunk) != 0:\n",
    "                aspects_list.append('_'.join(chunk))\n",
    "                chunk = []\n",
    "    if len(chunk) != 0:\n",
    "        aspects_list.append('_'.join(chunk))\n",
    "        \n",
    "aspect_freq =  Counter(aspects_list)\n",
    "\n",
    "data = [['freq', '%freq', 'aspect chunk']]\n",
    "for token, freq in aspect_freq.most_common(30):\n",
    "    ratio = freq / sum(aspect_freq.values()) *100\n",
    "    data.append([freq, '{:.1f}%'.format(ratio), token])\n",
    "    \n",
    "ipy_table.make_table(data)\n",
    "ipy_table.apply_theme('basic')"
   ]
  },
  {
   "cell_type": "code",
   "execution_count": 84,
   "metadata": {
    "collapsed": false
   },
   "outputs": [
    {
     "data": {
      "text/html": [
       "<table border=\"1\" cellpadding=\"3\" cellspacing=\"0\"  style=\"border:1px solid black;border-collapse:collapse;\"><tr><td  style=\"background-color:LightGray;\"><b>freq</b></td><td  style=\"background-color:LightGray;\"><b>%aspect</b></td><td  style=\"background-color:LightGray;\"><b>%tokens</b></td><td  style=\"background-color:LightGray;\"><b>aspect&nbspchunk</b></td></tr><tr><td  style=\"background-color:Ivory;\">916</td><td  style=\"background-color:Ivory;\">33.1%</td><td  style=\"background-color:Ivory;\">28.7%</td><td  style=\"background-color:Ivory;\">livro</td></tr><tr><td  style=\"background-color:AliceBlue;\">208</td><td  style=\"background-color:AliceBlue;\">7.5%</td><td  style=\"background-color:AliceBlue;\">21.2%</td><td  style=\"background-color:AliceBlue;\">história</td></tr><tr><td  style=\"background-color:Ivory;\">112</td><td  style=\"background-color:Ivory;\">4.0%</td><td  style=\"background-color:Ivory;\">25.6%</td><td  style=\"background-color:Ivory;\">leitura</td></tr><tr><td  style=\"background-color:AliceBlue;\">85</td><td  style=\"background-color:AliceBlue;\">3.1%</td><td  style=\"background-color:AliceBlue;\">26.4%</td><td  style=\"background-color:AliceBlue;\">personagens</td></tr><tr><td  style=\"background-color:Ivory;\">62</td><td  style=\"background-color:Ivory;\">2.2%</td><td  style=\"background-color:Ivory;\">23.6%</td><td  style=\"background-color:Ivory;\">crepúsculo</td></tr><tr><td  style=\"background-color:AliceBlue;\">61</td><td  style=\"background-color:AliceBlue;\">2.2%</td><td  style=\"background-color:AliceBlue;\">42.4%</td><td  style=\"background-color:AliceBlue;\">narrativa</td></tr><tr><td  style=\"background-color:Ivory;\">56</td><td  style=\"background-color:Ivory;\">2.0%</td><td  style=\"background-color:Ivory;\">20.7%</td><td  style=\"background-color:Ivory;\">final</td></tr><tr><td  style=\"background-color:AliceBlue;\">55</td><td  style=\"background-color:AliceBlue;\">2.0%</td><td  style=\"background-color:AliceBlue;\">17.2%</td><td  style=\"background-color:AliceBlue;\">romance</td></tr><tr><td  style=\"background-color:Ivory;\">48</td><td  style=\"background-color:Ivory;\">1.7%</td><td  style=\"background-color:Ivory;\">14.1%</td><td  style=\"background-color:Ivory;\">obra</td></tr><tr><td  style=\"background-color:AliceBlue;\">43</td><td  style=\"background-color:AliceBlue;\">1.6%</td><td  style=\"background-color:AliceBlue;\">2.3%</td><td  style=\"background-color:AliceBlue;\">ele</td></tr><tr><td  style=\"background-color:Ivory;\">43</td><td  style=\"background-color:Ivory;\">1.6%</td><td  style=\"background-color:Ivory;\">21.1%</td><td  style=\"background-color:Ivory;\">1984</td></tr><tr><td  style=\"background-color:AliceBlue;\">34</td><td  style=\"background-color:AliceBlue;\">1.2%</td><td  style=\"background-color:AliceBlue;\">31.8%</td><td  style=\"background-color:AliceBlue;\">trama</td></tr><tr><td  style=\"background-color:Ivory;\">34</td><td  style=\"background-color:Ivory;\">1.2%</td><td  style=\"background-color:Ivory;\">50.7%</td><td  style=\"background-color:Ivory;\">enredo</td></tr><tr><td  style=\"background-color:AliceBlue;\">32</td><td  style=\"background-color:AliceBlue;\">1.2%</td><td  style=\"background-color:AliceBlue;\">24.2%</td><td  style=\"background-color:AliceBlue;\">historia</td></tr><tr><td  style=\"background-color:Ivory;\">25</td><td  style=\"background-color:Ivory;\">0.9%</td><td  style=\"background-color:Ivory;\">10.6%</td><td  style=\"background-color:Ivory;\">personagem</td></tr><tr><td  style=\"background-color:AliceBlue;\">23</td><td  style=\"background-color:AliceBlue;\">0.8%</td><td  style=\"background-color:AliceBlue;\">5.6%</td><td  style=\"background-color:AliceBlue;\">bella</td></tr><tr><td  style=\"background-color:Ivory;\">22</td><td  style=\"background-color:Ivory;\">0.8%</td><td  style=\"background-color:Ivory;\">22.2%</td><td  style=\"background-color:Ivory;\">ensaio_sobre_a_cegueira</td></tr><tr><td  style=\"background-color:AliceBlue;\">22</td><td  style=\"background-color:AliceBlue;\">0.8%</td><td  style=\"background-color:AliceBlue;\">36.7%</td><td  style=\"background-color:AliceBlue;\">linguagem</td></tr><tr><td  style=\"background-color:Ivory;\">18</td><td  style=\"background-color:Ivory;\">0.7%</td><td  style=\"background-color:Ivory;\">1.1%</td><td  style=\"background-color:Ivory;\">ela</td></tr><tr><td  style=\"background-color:AliceBlue;\">17</td><td  style=\"background-color:AliceBlue;\">0.6%</td><td  style=\"background-color:AliceBlue;\">12.2%</td><td  style=\"background-color:AliceBlue;\">começo</td></tr><tr><td  style=\"background-color:Ivory;\">14</td><td  style=\"background-color:Ivory;\">0.5%</td><td  style=\"background-color:Ivory;\">4.0%</td><td  style=\"background-color:Ivory;\">edward</td></tr><tr><td  style=\"background-color:AliceBlue;\">12</td><td  style=\"background-color:AliceBlue;\">0.4%</td><td  style=\"background-color:AliceBlue;\">23.1%</td><td  style=\"background-color:AliceBlue;\">estória</td></tr><tr><td  style=\"background-color:Ivory;\">12</td><td  style=\"background-color:Ivory;\">0.4%</td><td  style=\"background-color:Ivory;\">9.6%</td><td  style=\"background-color:Ivory;\">escrita</td></tr><tr><td  style=\"background-color:AliceBlue;\">12</td><td  style=\"background-color:AliceBlue;\">0.4%</td><td  style=\"background-color:AliceBlue;\">12.1%</td><td  style=\"background-color:AliceBlue;\">protagonista</td></tr><tr><td  style=\"background-color:Ivory;\">11</td><td  style=\"background-color:Ivory;\">0.4%</td><td  style=\"background-color:Ivory;\">39.3%</td><td  style=\"background-color:Ivory;\">diálogos</td></tr><tr><td  style=\"background-color:AliceBlue;\">11</td><td  style=\"background-color:AliceBlue;\">0.4%</td><td  style=\"background-color:AliceBlue;\">1.0%</td><td  style=\"background-color:AliceBlue;\">esse</td></tr><tr><td  style=\"background-color:Ivory;\">10</td><td  style=\"background-color:Ivory;\">0.4%</td><td  style=\"background-color:Ivory;\">12.7%</td><td  style=\"background-color:Ivory;\">início</td></tr><tr><td  style=\"background-color:AliceBlue;\">9</td><td  style=\"background-color:AliceBlue;\">0.3%</td><td  style=\"background-color:AliceBlue;\">22.5%</td><td  style=\"background-color:AliceBlue;\">se_houver_amanhã</td></tr><tr><td  style=\"background-color:Ivory;\">9</td><td  style=\"background-color:Ivory;\">0.3%</td><td  style=\"background-color:Ivory;\">8.0%</td><td  style=\"background-color:Ivory;\">tema</td></tr><tr><td  style=\"background-color:AliceBlue;\">9</td><td  style=\"background-color:AliceBlue;\">0.3%</td><td  style=\"background-color:AliceBlue;\">7.6%</td><td  style=\"background-color:AliceBlue;\">histórias</td></tr></table>"
      ],
      "text/plain": [
       "<ipy_table.IpyTable at 0x7f948c65ceb8>"
      ]
     },
     "execution_count": 84,
     "metadata": {},
     "output_type": "execute_result"
    }
   ],
   "source": [
    "tokens = '_'.join([word_node.get('form').lower() \n",
    "                   for word_node in reviews.iter('word')])\n",
    "\n",
    "# get chunks of aspects in the corpus\n",
    "aspects_list = []\n",
    "for sentence_node in reviews.iter('sentence'):    \n",
    "    chunk = []\n",
    "    for word_node in sentence_node.getchildren():\n",
    "        if word_node.get('obj') != 'O':\n",
    "            chunk.append(word_node.get('form').lower())\n",
    "        else:\n",
    "            if len(chunk) != 0:\n",
    "                aspects_list.append('_'.join(chunk))\n",
    "                chunk = []\n",
    "    if len(chunk) != 0:\n",
    "        aspects_list.append('_'.join(chunk))\n",
    "\n",
    "        \n",
    "aspect_freq =  Counter(aspects_list)\n",
    "# check relative frequency for these chunks in the corpus\n",
    "\n",
    "data = [['freq', '%aspect', '%tokens', 'aspect chunk']]\n",
    "for token, freq in aspect_freq.most_common(30):\n",
    "    ratio = freq / sum(aspect_freq.values()) *100\n",
    "    relat_freq = freq / tokens.count(token) * 100\n",
    "    data.append([freq, '{:.1f}%'.format(ratio), '{:.1f}%'.format(relat_freq), token])\n",
    "\n",
    "ipy_table.make_table(data)\n",
    "ipy_table.apply_theme('basic')"
   ]
  },
  {
   "cell_type": "markdown",
   "metadata": {
    "collapsed": true
   },
   "source": [
    "## Predicate frequency"
   ]
  },
  {
   "cell_type": "code",
   "execution_count": 85,
   "metadata": {
    "collapsed": false
   },
   "outputs": [
    {
     "data": {
      "text/html": [
       "<table border=\"1\" cellpadding=\"3\" cellspacing=\"0\"  style=\"border:1px solid black;border-collapse:collapse;\"><tr><td  style=\"background-color:LightGray;\"><b>freq</b></td><td  style=\"background-color:LightGray;\"><b>%freq</b></td><td  style=\"background-color:LightGray;\"><b>unigram&nbspopinion</b></td></tr><tr><td  style=\"background-color:Ivory;\">929</td><td  style=\"background-color:Ivory;\">5.2%</td><td  style=\"background-color:Ivory;\">de</td></tr><tr><td  style=\"background-color:AliceBlue;\">637</td><td  style=\"background-color:AliceBlue;\">3.6%</td><td  style=\"background-color:AliceBlue;\">a</td></tr><tr><td  style=\"background-color:Ivory;\">577</td><td  style=\"background-color:Ivory;\">3.2%</td><td  style=\"background-color:Ivory;\">o</td></tr><tr><td  style=\"background-color:AliceBlue;\">394</td><td  style=\"background-color:AliceBlue;\">2.2%</td><td  style=\"background-color:AliceBlue;\">não</td></tr><tr><td  style=\"background-color:Ivory;\">384</td><td  style=\"background-color:Ivory;\">2.1%</td><td  style=\"background-color:Ivory;\">que</td></tr><tr><td  style=\"background-color:AliceBlue;\">274</td><td  style=\"background-color:AliceBlue;\">1.5%</td><td  style=\"background-color:AliceBlue;\">um</td></tr><tr><td  style=\"background-color:Ivory;\">212</td><td  style=\"background-color:Ivory;\">1.2%</td><td  style=\"background-color:Ivory;\">em</td></tr><tr><td  style=\"background-color:AliceBlue;\">211</td><td  style=\"background-color:AliceBlue;\">1.2%</td><td  style=\"background-color:AliceBlue;\">me</td></tr><tr><td  style=\"background-color:Ivory;\">206</td><td  style=\"background-color:Ivory;\">1.2%</td><td  style=\"background-color:Ivory;\">bom</td></tr><tr><td  style=\"background-color:AliceBlue;\">185</td><td  style=\"background-color:AliceBlue;\">1.0%</td><td  style=\"background-color:AliceBlue;\">os</td></tr><tr><td  style=\"background-color:Ivory;\">181</td><td  style=\"background-color:Ivory;\">1.0%</td><td  style=\"background-color:Ivory;\">livro</td></tr><tr><td  style=\"background-color:AliceBlue;\">180</td><td  style=\"background-color:AliceBlue;\">1.0%</td><td  style=\"background-color:AliceBlue;\">mais</td></tr><tr><td  style=\"background-color:Ivory;\">177</td><td  style=\"background-color:Ivory;\">1.0%</td><td  style=\"background-color:Ivory;\">é</td></tr><tr><td  style=\"background-color:AliceBlue;\">162</td><td  style=\"background-color:AliceBlue;\">0.9%</td><td  style=\"background-color:AliceBlue;\">muito</td></tr><tr><td  style=\"background-color:Ivory;\">156</td><td  style=\"background-color:Ivory;\">0.9%</td><td  style=\"background-color:Ivory;\">e</td></tr><tr><td  style=\"background-color:AliceBlue;\">156</td><td  style=\"background-color:AliceBlue;\">0.9%</td><td  style=\"background-color:AliceBlue;\">,</td></tr><tr><td  style=\"background-color:Ivory;\">148</td><td  style=\"background-color:Ivory;\">0.8%</td><td  style=\"background-color:Ivory;\">ler</td></tr><tr><td  style=\"background-color:AliceBlue;\">146</td><td  style=\"background-color:AliceBlue;\">0.8%</td><td  style=\"background-color:AliceBlue;\">.</td></tr><tr><td  style=\"background-color:Ivory;\">142</td><td  style=\"background-color:Ivory;\">0.8%</td><td  style=\"background-color:Ivory;\">se</td></tr><tr><td  style=\"background-color:AliceBlue;\">138</td><td  style=\"background-color:AliceBlue;\">0.8%</td><td  style=\"background-color:AliceBlue;\">recomendo</td></tr><tr><td  style=\"background-color:Ivory;\">136</td><td  style=\"background-color:Ivory;\">0.8%</td><td  style=\"background-color:Ivory;\">uma</td></tr><tr><td  style=\"background-color:AliceBlue;\">134</td><td  style=\"background-color:AliceBlue;\">0.7%</td><td  style=\"background-color:AliceBlue;\">com</td></tr><tr><td  style=\"background-color:Ivory;\">122</td><td  style=\"background-color:Ivory;\">0.7%</td><td  style=\"background-color:Ivory;\">bem</td></tr><tr><td  style=\"background-color:AliceBlue;\">118</td><td  style=\"background-color:AliceBlue;\">0.7%</td><td  style=\"background-color:AliceBlue;\">gostei</td></tr><tr><td  style=\"background-color:Ivory;\">113</td><td  style=\"background-color:Ivory;\">0.6%</td><td  style=\"background-color:Ivory;\">para</td></tr><tr><td  style=\"background-color:AliceBlue;\">112</td><td  style=\"background-color:AliceBlue;\">0.6%</td><td  style=\"background-color:AliceBlue;\">por</td></tr><tr><td  style=\"background-color:Ivory;\">100</td><td  style=\"background-color:Ivory;\">0.6%</td><td  style=\"background-color:Ivory;\">as</td></tr><tr><td  style=\"background-color:AliceBlue;\">89</td><td  style=\"background-color:AliceBlue;\">0.5%</td><td  style=\"background-color:AliceBlue;\">!</td></tr><tr><td  style=\"background-color:Ivory;\">85</td><td  style=\"background-color:Ivory;\">0.5%</td><td  style=\"background-color:Ivory;\">leitura</td></tr><tr><td  style=\"background-color:AliceBlue;\">83</td><td  style=\"background-color:AliceBlue;\">0.5%</td><td  style=\"background-color:AliceBlue;\">li</td></tr></table>"
      ],
      "text/plain": [
       "<ipy_table.IpyTable at 0x7f948c8a8128>"
      ]
     },
     "execution_count": 85,
     "metadata": {},
     "output_type": "execute_result"
    }
   ],
   "source": [
    "aspect_freq =  Counter([word_node.get('form').lower() \n",
    "                        for word_node in reviews.iter('word') if word_node.get('opinion') != 'O'])\n",
    "\n",
    "data = [['freq', '%freq', 'unigram opinion']]\n",
    "for token, freq in aspect_freq.most_common(30):\n",
    "    ratio = freq / sum(aspect_freq.values()) *100\n",
    "    data.append([freq, '{:.1f}%'.format(ratio), token])\n",
    "\n",
    "ipy_table.make_table(data)\n",
    "ipy_table.apply_theme('basic')"
   ]
  },
  {
   "cell_type": "code",
   "execution_count": 86,
   "metadata": {
    "collapsed": false
   },
   "outputs": [
    {
     "data": {
      "text/html": [
       "<table border=\"1\" cellpadding=\"3\" cellspacing=\"0\"  style=\"border:1px solid black;border-collapse:collapse;\"><tr><td  style=\"background-color:LightGray;\"><b>freq</b></td><td  style=\"background-color:LightGray;\"><b>%freq</b></td><td  style=\"background-color:LightGray;\"><b>opinion&nbspchunk</b></td></tr><tr><td  style=\"background-color:Ivory;\">140</td><td  style=\"background-color:Ivory;\">2.6%</td><td  style=\"background-color:Ivory;\">bom</td></tr><tr><td  style=\"background-color:AliceBlue;\">113</td><td  style=\"background-color:AliceBlue;\">2.1%</td><td  style=\"background-color:AliceBlue;\">recomendo</td></tr><tr><td  style=\"background-color:Ivory;\">92</td><td  style=\"background-color:Ivory;\">1.7%</td><td  style=\"background-color:Ivory;\">gostei</td></tr><tr><td  style=\"background-color:AliceBlue;\">60</td><td  style=\"background-color:AliceBlue;\">1.1%</td><td  style=\"background-color:AliceBlue;\">interessante</td></tr><tr><td  style=\"background-color:Ivory;\">46</td><td  style=\"background-color:Ivory;\">0.9%</td><td  style=\"background-color:Ivory;\">ótimo</td></tr><tr><td  style=\"background-color:AliceBlue;\">45</td><td  style=\"background-color:AliceBlue;\">0.8%</td><td  style=\"background-color:AliceBlue;\">envolvente</td></tr><tr><td  style=\"background-color:Ivory;\">43</td><td  style=\"background-color:Ivory;\">0.8%</td><td  style=\"background-color:Ivory;\">adorei</td></tr><tr><td  style=\"background-color:AliceBlue;\">35</td><td  style=\"background-color:AliceBlue;\">0.7%</td><td  style=\"background-color:AliceBlue;\">amei</td></tr><tr><td  style=\"background-color:Ivory;\">33</td><td  style=\"background-color:Ivory;\">0.6%</td><td  style=\"background-color:Ivory;\">perfeito</td></tr><tr><td  style=\"background-color:AliceBlue;\">31</td><td  style=\"background-color:AliceBlue;\">0.6%</td><td  style=\"background-color:AliceBlue;\">excelente</td></tr><tr><td  style=\"background-color:Ivory;\">28</td><td  style=\"background-color:Ivory;\">0.5%</td><td  style=\"background-color:Ivory;\">fantástico</td></tr><tr><td  style=\"background-color:AliceBlue;\">27</td><td  style=\"background-color:AliceBlue;\">0.5%</td><td  style=\"background-color:AliceBlue;\">maravilhoso</td></tr><tr><td  style=\"background-color:Ivory;\">25</td><td  style=\"background-color:Ivory;\">0.5%</td><td  style=\"background-color:Ivory;\">lindo</td></tr><tr><td  style=\"background-color:AliceBlue;\">25</td><td  style=\"background-color:AliceBlue;\">0.5%</td><td  style=\"background-color:AliceBlue;\">legal</td></tr><tr><td  style=\"background-color:Ivory;\">23</td><td  style=\"background-color:Ivory;\">0.4%</td><td  style=\"background-color:Ivory;\">boa</td></tr><tr><td  style=\"background-color:AliceBlue;\">22</td><td  style=\"background-color:AliceBlue;\">0.4%</td><td  style=\"background-color:AliceBlue;\">incrível</td></tr><tr><td  style=\"background-color:Ivory;\">22</td><td  style=\"background-color:Ivory;\">0.4%</td><td  style=\"background-color:Ivory;\">emocionante</td></tr><tr><td  style=\"background-color:AliceBlue;\">22</td><td  style=\"background-color:AliceBlue;\">0.4%</td><td  style=\"background-color:AliceBlue;\">fácil</td></tr><tr><td  style=\"background-color:Ivory;\">21</td><td  style=\"background-color:Ivory;\">0.4%</td><td  style=\"background-color:Ivory;\">surpreendente</td></tr><tr><td  style=\"background-color:AliceBlue;\">21</td><td  style=\"background-color:AliceBlue;\">0.4%</td><td  style=\"background-color:AliceBlue;\">fascinante</td></tr><tr><td  style=\"background-color:Ivory;\">21</td><td  style=\"background-color:Ivory;\">0.4%</td><td  style=\"background-color:Ivory;\">divertido</td></tr><tr><td  style=\"background-color:AliceBlue;\">21</td><td  style=\"background-color:AliceBlue;\">0.4%</td><td  style=\"background-color:AliceBlue;\">bem_escrito</td></tr><tr><td  style=\"background-color:Ivory;\">20</td><td  style=\"background-color:Ivory;\">0.4%</td><td  style=\"background-color:Ivory;\">genial</td></tr><tr><td  style=\"background-color:AliceBlue;\">19</td><td  style=\"background-color:AliceBlue;\">0.4%</td><td  style=\"background-color:AliceBlue;\">apaixonante</td></tr><tr><td  style=\"background-color:Ivory;\">19</td><td  style=\"background-color:Ivory;\">0.4%</td><td  style=\"background-color:Ivory;\">chato</td></tr><tr><td  style=\"background-color:AliceBlue;\">17</td><td  style=\"background-color:AliceBlue;\">0.3%</td><td  style=\"background-color:AliceBlue;\">vale_a_pena</td></tr><tr><td  style=\"background-color:Ivory;\">16</td><td  style=\"background-color:Ivory;\">0.3%</td><td  style=\"background-color:Ivory;\">simples</td></tr><tr><td  style=\"background-color:AliceBlue;\">16</td><td  style=\"background-color:AliceBlue;\">0.3%</td><td  style=\"background-color:AliceBlue;\">espetacular</td></tr><tr><td  style=\"background-color:Ivory;\">16</td><td  style=\"background-color:Ivory;\">0.3%</td><td  style=\"background-color:Ivory;\">melhor</td></tr><tr><td  style=\"background-color:AliceBlue;\">16</td><td  style=\"background-color:AliceBlue;\">0.3%</td><td  style=\"background-color:AliceBlue;\">atual</td></tr></table>"
      ],
      "text/plain": [
       "<ipy_table.IpyTable at 0x7f948c65e470>"
      ]
     },
     "execution_count": 86,
     "metadata": {},
     "output_type": "execute_result"
    }
   ],
   "source": [
    "opinions_list = []\n",
    "for sentence_node in reviews.iter('sentence'):    \n",
    "    chunk = []\n",
    "    for word_node in sentence_node.getchildren():\n",
    "        if word_node.get('opinion') != 'O':\n",
    "            chunk.append(word_node.get('form').lower())\n",
    "        else:\n",
    "            if len(chunk) != 0:\n",
    "                opinions_list.append('_'.join(chunk))\n",
    "                chunk = []\n",
    "    if len(chunk) != 0:\n",
    "        opinions_list.append('_'.join(chunk))\n",
    "        \n",
    "opinions_freq =  Counter(opinions_list)\n",
    "\n",
    "data = [['freq', '%freq', 'opinion chunk']]\n",
    "for token, freq in opinions_freq.most_common(30):\n",
    "    ratio = freq / sum(opinions_freq.values()) *100\n",
    "    data.append([freq, '{:.1f}%'.format(ratio), token])\n",
    "    \n",
    "ipy_table.make_table(data)\n",
    "ipy_table.apply_theme('basic')"
   ]
  },
  {
   "cell_type": "code",
   "execution_count": 87,
   "metadata": {
    "collapsed": false
   },
   "outputs": [
    {
     "data": {
      "text/html": [
       "<table border=\"1\" cellpadding=\"3\" cellspacing=\"0\"  style=\"border:1px solid black;border-collapse:collapse;\"><tr><td  style=\"background-color:LightGray;\"><b>freq</b></td><td  style=\"background-color:LightGray;\"><b>%opinion</b></td><td  style=\"background-color:LightGray;\"><b>%tokens</b></td><td  style=\"background-color:LightGray;\"><b>opinion&nbspchunk</b></td></tr><tr><td  style=\"background-color:Ivory;\">140</td><td  style=\"background-color:Ivory;\">2.6%</td><td  style=\"background-color:Ivory;\">36.0%</td><td  style=\"background-color:Ivory;\">bom</td></tr><tr><td  style=\"background-color:AliceBlue;\">113</td><td  style=\"background-color:AliceBlue;\">2.1%</td><td  style=\"background-color:AliceBlue;\">73.4%</td><td  style=\"background-color:AliceBlue;\">recomendo</td></tr><tr><td  style=\"background-color:Ivory;\">92</td><td  style=\"background-color:Ivory;\">1.7%</td><td  style=\"background-color:Ivory;\">56.1%</td><td  style=\"background-color:Ivory;\">gostei</td></tr><tr><td  style=\"background-color:AliceBlue;\">60</td><td  style=\"background-color:AliceBlue;\">1.1%</td><td  style=\"background-color:AliceBlue;\">35.5%</td><td  style=\"background-color:AliceBlue;\">interessante</td></tr><tr><td  style=\"background-color:Ivory;\">46</td><td  style=\"background-color:Ivory;\">0.9%</td><td  style=\"background-color:Ivory;\">61.3%</td><td  style=\"background-color:Ivory;\">ótimo</td></tr><tr><td  style=\"background-color:AliceBlue;\">45</td><td  style=\"background-color:AliceBlue;\">0.8%</td><td  style=\"background-color:AliceBlue;\">75.0%</td><td  style=\"background-color:AliceBlue;\">envolvente</td></tr><tr><td  style=\"background-color:Ivory;\">43</td><td  style=\"background-color:Ivory;\">0.8%</td><td  style=\"background-color:Ivory;\">68.3%</td><td  style=\"background-color:Ivory;\">adorei</td></tr><tr><td  style=\"background-color:AliceBlue;\">35</td><td  style=\"background-color:AliceBlue;\">0.7%</td><td  style=\"background-color:AliceBlue;\">63.6%</td><td  style=\"background-color:AliceBlue;\">amei</td></tr><tr><td  style=\"background-color:Ivory;\">33</td><td  style=\"background-color:Ivory;\">0.6%</td><td  style=\"background-color:Ivory;\">28.4%</td><td  style=\"background-color:Ivory;\">perfeito</td></tr><tr><td  style=\"background-color:AliceBlue;\">31</td><td  style=\"background-color:AliceBlue;\">0.6%</td><td  style=\"background-color:AliceBlue;\">53.4%</td><td  style=\"background-color:AliceBlue;\">excelente</td></tr><tr><td  style=\"background-color:Ivory;\">28</td><td  style=\"background-color:Ivory;\">0.5%</td><td  style=\"background-color:Ivory;\">56.0%</td><td  style=\"background-color:Ivory;\">fantástico</td></tr><tr><td  style=\"background-color:AliceBlue;\">27</td><td  style=\"background-color:AliceBlue;\">0.5%</td><td  style=\"background-color:AliceBlue;\">49.1%</td><td  style=\"background-color:AliceBlue;\">maravilhoso</td></tr><tr><td  style=\"background-color:Ivory;\">25</td><td  style=\"background-color:Ivory;\">0.5%</td><td  style=\"background-color:Ivory;\">28.1%</td><td  style=\"background-color:Ivory;\">lindo</td></tr><tr><td  style=\"background-color:AliceBlue;\">25</td><td  style=\"background-color:AliceBlue;\">0.5%</td><td  style=\"background-color:AliceBlue;\">36.8%</td><td  style=\"background-color:AliceBlue;\">legal</td></tr><tr><td  style=\"background-color:Ivory;\">23</td><td  style=\"background-color:Ivory;\">0.4%</td><td  style=\"background-color:Ivory;\">13.5%</td><td  style=\"background-color:Ivory;\">boa</td></tr><tr><td  style=\"background-color:AliceBlue;\">22</td><td  style=\"background-color:AliceBlue;\">0.4%</td><td  style=\"background-color:AliceBlue;\">40.0%</td><td  style=\"background-color:AliceBlue;\">incrível</td></tr><tr><td  style=\"background-color:Ivory;\">22</td><td  style=\"background-color:Ivory;\">0.4%</td><td  style=\"background-color:Ivory;\">56.4%</td><td  style=\"background-color:Ivory;\">emocionante</td></tr><tr><td  style=\"background-color:AliceBlue;\">22</td><td  style=\"background-color:AliceBlue;\">0.4%</td><td  style=\"background-color:AliceBlue;\">22.7%</td><td  style=\"background-color:AliceBlue;\">fácil</td></tr><tr><td  style=\"background-color:Ivory;\">21</td><td  style=\"background-color:Ivory;\">0.4%</td><td  style=\"background-color:Ivory;\">52.5%</td><td  style=\"background-color:Ivory;\">surpreendente</td></tr><tr><td  style=\"background-color:AliceBlue;\">21</td><td  style=\"background-color:AliceBlue;\">0.4%</td><td  style=\"background-color:AliceBlue;\">60.0%</td><td  style=\"background-color:AliceBlue;\">fascinante</td></tr><tr><td  style=\"background-color:Ivory;\">21</td><td  style=\"background-color:Ivory;\">0.4%</td><td  style=\"background-color:Ivory;\">80.8%</td><td  style=\"background-color:Ivory;\">divertido</td></tr><tr><td  style=\"background-color:AliceBlue;\">21</td><td  style=\"background-color:AliceBlue;\">0.4%</td><td  style=\"background-color:AliceBlue;\">75.0%</td><td  style=\"background-color:AliceBlue;\">bem_escrito</td></tr><tr><td  style=\"background-color:Ivory;\">20</td><td  style=\"background-color:Ivory;\">0.4%</td><td  style=\"background-color:Ivory;\">45.5%</td><td  style=\"background-color:Ivory;\">genial</td></tr><tr><td  style=\"background-color:AliceBlue;\">19</td><td  style=\"background-color:AliceBlue;\">0.4%</td><td  style=\"background-color:AliceBlue;\">82.6%</td><td  style=\"background-color:AliceBlue;\">apaixonante</td></tr><tr><td  style=\"background-color:Ivory;\">19</td><td  style=\"background-color:Ivory;\">0.4%</td><td  style=\"background-color:Ivory;\">34.5%</td><td  style=\"background-color:Ivory;\">chato</td></tr><tr><td  style=\"background-color:AliceBlue;\">17</td><td  style=\"background-color:AliceBlue;\">0.3%</td><td  style=\"background-color:AliceBlue;\">32.1%</td><td  style=\"background-color:AliceBlue;\">vale_a_pena</td></tr><tr><td  style=\"background-color:Ivory;\">16</td><td  style=\"background-color:Ivory;\">0.3%</td><td  style=\"background-color:Ivory;\">7.6%</td><td  style=\"background-color:Ivory;\">simples</td></tr><tr><td  style=\"background-color:AliceBlue;\">16</td><td  style=\"background-color:AliceBlue;\">0.3%</td><td  style=\"background-color:AliceBlue;\">64.0%</td><td  style=\"background-color:AliceBlue;\">espetacular</td></tr><tr><td  style=\"background-color:Ivory;\">16</td><td  style=\"background-color:Ivory;\">0.3%</td><td  style=\"background-color:Ivory;\">4.1%</td><td  style=\"background-color:Ivory;\">melhor</td></tr><tr><td  style=\"background-color:AliceBlue;\">16</td><td  style=\"background-color:AliceBlue;\">0.3%</td><td  style=\"background-color:AliceBlue;\">18.2%</td><td  style=\"background-color:AliceBlue;\">atual</td></tr></table>"
      ],
      "text/plain": [
       "<ipy_table.IpyTable at 0x7f948c66bfd0>"
      ]
     },
     "execution_count": 87,
     "metadata": {},
     "output_type": "execute_result"
    }
   ],
   "source": [
    "tokens = '_'.join([word_node.get('form').lower() \n",
    "                   for word_node in reviews.iter('word')])\n",
    "\n",
    "# get chunks of opinions in the corpus\n",
    "opinions_list = []\n",
    "for sentence_node in reviews.iter('sentence'):    \n",
    "    chunk = []\n",
    "    for word_node in sentence_node.getchildren():\n",
    "        if word_node.get('opinion') != 'O':\n",
    "            chunk.append(word_node.get('form').lower())\n",
    "        else:\n",
    "            if len(chunk) != 0:\n",
    "                opinions_list.append('_'.join(chunk))\n",
    "                chunk = []\n",
    "    if len(chunk) != 0:\n",
    "        opinions_list.append('_'.join(chunk))\n",
    "\n",
    "        \n",
    "opinion_freq =  Counter(opinions_list)\n",
    "# check relative frequency for these chunks in the corpus\n",
    "\n",
    "data = [['freq', '%opinion', '%tokens', 'opinion chunk']]\n",
    "for token, freq in opinion_freq.most_common(30):\n",
    "    ratio = freq / sum(opinion_freq.values()) *100\n",
    "    relat_freq = freq / tokens.count(token) * 100\n",
    "    data.append([freq, '{:.1f}%'.format(ratio), '{:.1f}%'.format(relat_freq), token])\n",
    "\n",
    "ipy_table.make_table(data)\n",
    "ipy_table.apply_theme('basic')"
   ]
  },
  {
   "cell_type": "code",
   "execution_count": null,
   "metadata": {
    "collapsed": true
   },
   "outputs": [],
   "source": []
  }
 ],
 "metadata": {
  "kernelspec": {
   "display_name": "Python 3",
   "language": "python",
   "name": "python3"
  },
  "language_info": {
   "codemirror_mode": {
    "name": "ipython",
    "version": 3
   },
   "file_extension": ".py",
   "mimetype": "text/x-python",
   "name": "python",
   "nbconvert_exporter": "python",
   "pygments_lexer": "ipython3",
   "version": "3.5.1+"
  }
 },
 "nbformat": 4,
 "nbformat_minor": 0
}

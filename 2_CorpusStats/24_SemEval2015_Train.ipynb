{
 "cells": [
  {
   "cell_type": "markdown",
   "metadata": {},
   "source": [
    "# Statistics in SemEval 2015 Restaurants Train Corpus annotated with Stanford CoreNLP"
   ]
  },
  {
   "cell_type": "code",
   "execution_count": 1,
   "metadata": {
    "collapsed": true
   },
   "outputs": [],
   "source": [
    "from __future__ import print_function\n",
    "from __future__ import division"
   ]
  },
  {
   "cell_type": "code",
   "execution_count": 2,
   "metadata": {
    "collapsed": false
   },
   "outputs": [],
   "source": [
    "from lxml.etree import ElementTree\n",
    "reviews = ElementTree().parse('../corpus/SemEvalABSA2015EnglishRestaurants_train.xml')"
   ]
  },
  {
   "cell_type": "markdown",
   "metadata": {},
   "source": [
    "## Token Type Ratio"
   ]
  },
  {
   "cell_type": "code",
   "execution_count": 3,
   "metadata": {
    "collapsed": false
   },
   "outputs": [
    {
     "name": "stdout",
     "output_type": "stream",
     "text": [
      "Total tokens: 18513\n",
      "Total types:  2965\n",
      "Token/Type ratio:  6.2%\n"
     ]
    }
   ],
   "source": [
    "from collections import Counter\n",
    "freqlist = Counter([word_node.get('form') for word_node in reviews.iter('word')])\n",
    "\n",
    "print ('Total tokens: {}'.format(sum(freqlist.values())))\n",
    "print ('Total types:  {}'.format(len(freqlist.keys())))\n",
    "print ('Token/Type ratio:  {:.1f}%'.format(sum(freqlist.values())/len(freqlist.keys())))"
   ]
  },
  {
   "cell_type": "markdown",
   "metadata": {},
   "source": [
    "## Lexical Frequency"
   ]
  },
  {
   "cell_type": "code",
   "execution_count": 4,
   "metadata": {
    "collapsed": false
   },
   "outputs": [],
   "source": [
    "import ipy_table"
   ]
  },
  {
   "cell_type": "code",
   "execution_count": 5,
   "metadata": {
    "collapsed": false
   },
   "outputs": [
    {
     "data": {
      "text/html": [
       "<table border=\"1\" cellpadding=\"3\" cellspacing=\"0\"  style=\"border:1px solid black;border-collapse:collapse;\"><tr><td  style=\"background-color:LightGray;\"><b>Freq</b></td><td  style=\"background-color:LightGray;\"><b>%&nbspFreq</b></td><td  style=\"background-color:LightGray;\"><b>Token</b></td></tr><tr><td  style=\"background-color:Ivory;\">1143</td><td  style=\"background-color:Ivory;\">6.17%</td><td  style=\"background-color:Ivory;\">.</td></tr><tr><td  style=\"background-color:AliceBlue;\">991</td><td  style=\"background-color:AliceBlue;\">5.35%</td><td  style=\"background-color:AliceBlue;\">the</td></tr><tr><td  style=\"background-color:Ivory;\">643</td><td  style=\"background-color:Ivory;\">3.47%</td><td  style=\"background-color:Ivory;\">,</td></tr><tr><td  style=\"background-color:AliceBlue;\">590</td><td  style=\"background-color:AliceBlue;\">3.19%</td><td  style=\"background-color:AliceBlue;\">and</td></tr><tr><td  style=\"background-color:Ivory;\">395</td><td  style=\"background-color:Ivory;\">2.13%</td><td  style=\"background-color:Ivory;\">i</td></tr><tr><td  style=\"background-color:AliceBlue;\">395</td><td  style=\"background-color:AliceBlue;\">2.13%</td><td  style=\"background-color:AliceBlue;\">a</td></tr><tr><td  style=\"background-color:Ivory;\">382</td><td  style=\"background-color:Ivory;\">2.06%</td><td  style=\"background-color:Ivory;\">is</td></tr><tr><td  style=\"background-color:AliceBlue;\">322</td><td  style=\"background-color:AliceBlue;\">1.74%</td><td  style=\"background-color:AliceBlue;\">to</td></tr><tr><td  style=\"background-color:Ivory;\">300</td><td  style=\"background-color:Ivory;\">1.62%</td><td  style=\"background-color:Ivory;\">was</td></tr><tr><td  style=\"background-color:AliceBlue;\">259</td><td  style=\"background-color:AliceBlue;\">1.40%</td><td  style=\"background-color:AliceBlue;\">it</td></tr><tr><td  style=\"background-color:Ivory;\">203</td><td  style=\"background-color:Ivory;\">1.10%</td><td  style=\"background-color:Ivory;\">of</td></tr><tr><td  style=\"background-color:AliceBlue;\">195</td><td  style=\"background-color:AliceBlue;\">1.05%</td><td  style=\"background-color:AliceBlue;\">in</td></tr><tr><td  style=\"background-color:Ivory;\">191</td><td  style=\"background-color:Ivory;\">1.03%</td><td  style=\"background-color:Ivory;\">for</td></tr><tr><td  style=\"background-color:AliceBlue;\">190</td><td  style=\"background-color:AliceBlue;\">1.03%</td><td  style=\"background-color:AliceBlue;\">food</td></tr><tr><td  style=\"background-color:Ivory;\">168</td><td  style=\"background-color:Ivory;\">0.91%</td><td  style=\"background-color:Ivory;\">this</td></tr><tr><td  style=\"background-color:AliceBlue;\">151</td><td  style=\"background-color:AliceBlue;\">0.82%</td><td  style=\"background-color:AliceBlue;\">we</td></tr><tr><td  style=\"background-color:Ivory;\">145</td><td  style=\"background-color:Ivory;\">0.78%</td><td  style=\"background-color:Ivory;\">you</td></tr><tr><td  style=\"background-color:AliceBlue;\">138</td><td  style=\"background-color:AliceBlue;\">0.75%</td><td  style=\"background-color:AliceBlue;\">but</td></tr><tr><td  style=\"background-color:Ivory;\">135</td><td  style=\"background-color:Ivory;\">0.73%</td><td  style=\"background-color:Ivory;\">great</td></tr><tr><td  style=\"background-color:AliceBlue;\">135</td><td  style=\"background-color:AliceBlue;\">0.73%</td><td  style=\"background-color:AliceBlue;\">place</td></tr></table>"
      ],
      "text/plain": [
       "<ipy_table.IpyTable at 0x7f502c1216a0>"
      ]
     },
     "execution_count": 5,
     "metadata": {},
     "output_type": "execute_result"
    }
   ],
   "source": [
    "freqlist = Counter([word_node.get('form').lower() for word_node in reviews.iter('word')])\n",
    "\n",
    "data = [['Freq', '% Freq', 'Token']]\n",
    "for token, freq in freqlist.most_common(20):\n",
    "    ratio = freq / sum(freqlist.values()) * 100\n",
    "    data.append( [freq, '{:.2f}%'.format(ratio), token])\n",
    "\n",
    "ipy_table.make_table(data)\n",
    "ipy_table.apply_theme('basic')"
   ]
  },
  {
   "cell_type": "markdown",
   "metadata": {},
   "source": [
    "## Lemma Frequency"
   ]
  },
  {
   "cell_type": "code",
   "execution_count": 6,
   "metadata": {
    "collapsed": false
   },
   "outputs": [
    {
     "data": {
      "text/html": [
       "<table border=\"1\" cellpadding=\"3\" cellspacing=\"0\"  style=\"border:1px solid black;border-collapse:collapse;\"><tr><td  style=\"background-color:LightGray;\"><b>Freq</b></td><td  style=\"background-color:LightGray;\"><b>%&nbspFreq</b></td><td  style=\"background-color:LightGray;\"><b>Lemma</b></td></tr><tr><td  style=\"background-color:Ivory;\">1143</td><td  style=\"background-color:Ivory;\">6.17%</td><td  style=\"background-color:Ivory;\">.</td></tr><tr><td  style=\"background-color:AliceBlue;\">1085</td><td  style=\"background-color:AliceBlue;\">5.86%</td><td  style=\"background-color:AliceBlue;\">be</td></tr><tr><td  style=\"background-color:Ivory;\">991</td><td  style=\"background-color:Ivory;\">5.35%</td><td  style=\"background-color:Ivory;\">the</td></tr><tr><td  style=\"background-color:AliceBlue;\">643</td><td  style=\"background-color:AliceBlue;\">3.47%</td><td  style=\"background-color:AliceBlue;\">,</td></tr><tr><td  style=\"background-color:Ivory;\">590</td><td  style=\"background-color:Ivory;\">3.19%</td><td  style=\"background-color:Ivory;\">and</td></tr><tr><td  style=\"background-color:AliceBlue;\">429</td><td  style=\"background-color:AliceBlue;\">2.32%</td><td  style=\"background-color:AliceBlue;\">a</td></tr><tr><td  style=\"background-color:Ivory;\">427</td><td  style=\"background-color:Ivory;\">2.31%</td><td  style=\"background-color:Ivory;\">i</td></tr><tr><td  style=\"background-color:AliceBlue;\">322</td><td  style=\"background-color:AliceBlue;\">1.74%</td><td  style=\"background-color:AliceBlue;\">to</td></tr><tr><td  style=\"background-color:Ivory;\">259</td><td  style=\"background-color:Ivory;\">1.40%</td><td  style=\"background-color:Ivory;\">it</td></tr><tr><td  style=\"background-color:AliceBlue;\">255</td><td  style=\"background-color:AliceBlue;\">1.38%</td><td  style=\"background-color:AliceBlue;\">have</td></tr><tr><td  style=\"background-color:Ivory;\">229</td><td  style=\"background-color:Ivory;\">1.24%</td><td  style=\"background-color:Ivory;\">not</td></tr><tr><td  style=\"background-color:AliceBlue;\">212</td><td  style=\"background-color:AliceBlue;\">1.15%</td><td  style=\"background-color:AliceBlue;\">we</td></tr><tr><td  style=\"background-color:Ivory;\">203</td><td  style=\"background-color:Ivory;\">1.10%</td><td  style=\"background-color:Ivory;\">of</td></tr><tr><td  style=\"background-color:AliceBlue;\">195</td><td  style=\"background-color:AliceBlue;\">1.05%</td><td  style=\"background-color:AliceBlue;\">in</td></tr><tr><td  style=\"background-color:Ivory;\">192</td><td  style=\"background-color:Ivory;\">1.04%</td><td  style=\"background-color:Ivory;\">food</td></tr><tr><td  style=\"background-color:AliceBlue;\">191</td><td  style=\"background-color:AliceBlue;\">1.03%</td><td  style=\"background-color:AliceBlue;\">for</td></tr><tr><td  style=\"background-color:Ivory;\">181</td><td  style=\"background-color:Ivory;\">0.98%</td><td  style=\"background-color:Ivory;\">you</td></tr><tr><td  style=\"background-color:AliceBlue;\">168</td><td  style=\"background-color:AliceBlue;\">0.91%</td><td  style=\"background-color:AliceBlue;\">this</td></tr><tr><td  style=\"background-color:Ivory;\">144</td><td  style=\"background-color:Ivory;\">0.78%</td><td  style=\"background-color:Ivory;\">place</td></tr><tr><td  style=\"background-color:AliceBlue;\">138</td><td  style=\"background-color:AliceBlue;\">0.75%</td><td  style=\"background-color:AliceBlue;\">but</td></tr></table>"
      ],
      "text/plain": [
       "<ipy_table.IpyTable at 0x7fa3c421cc18>"
      ]
     },
     "execution_count": 6,
     "metadata": {},
     "output_type": "execute_result"
    }
   ],
   "source": [
    "freqlist = Counter([word_node.get('base').lower() for word_node in reviews.iter('word')])\n",
    "\n",
    "data = [['Freq', '% Freq', 'Lemma']]\n",
    "for token, freq in freqlist.most_common(20):\n",
    "    ratio = freq / sum(freqlist.values()) * 100\n",
    "    data.append( [freq, '{:.2f}%'.format(ratio), token])\n",
    "\n",
    "ipy_table.make_table(data)\n",
    "ipy_table.apply_theme('basic')"
   ]
  },
  {
   "cell_type": "markdown",
   "metadata": {},
   "source": [
    "## Part-of-Speech Frequency"
   ]
  },
  {
   "cell_type": "code",
   "execution_count": 7,
   "metadata": {
    "collapsed": false
   },
   "outputs": [],
   "source": [
    "from operator import itemgetter\n",
    "postag_freq = dict()\n",
    "freqlist = dict()\n",
    "\n",
    "for word_node in reviews.iter('word'):\n",
    "    form = word_node.get('form').lower()\n",
    "    postag = word_node.get('postag')\n",
    "    \n",
    "    postag_freq[postag] = postag_freq.get(postag, 0) + 1\n",
    "    if postag not in freqlist:\n",
    "        freqlist[postag] = dict()\n",
    "    freqlist[postag][form] = freqlist[postag].get(form, 0) + 1 "
   ]
  },
  {
   "cell_type": "code",
   "execution_count": 8,
   "metadata": {
    "collapsed": false,
    "scrolled": true
   },
   "outputs": [
    {
     "data": {
      "text/html": [
       "<table border=\"1\" cellpadding=\"3\" cellspacing=\"0\"  style=\"border:1px solid black;border-collapse:collapse;\"><tr><td  style=\"background-color:LightGray;\"><b>FREQ</b></td><td  style=\"background-color:LightGray;\"><b>%&nbspFREQ</b></td><td  style=\"background-color:LightGray;\"><b>POSTAG</b></td><td  style=\"background-color:LightGray;\"><b>EXAMPLES</b></td></tr><tr><td  style=\"background-color:Ivory;\">2624</td><td  style=\"background-color:Ivory;\">14.2%</td><td  style=\"background-color:Ivory;\">NN</td><td  style=\"background-color:Ivory;\">food(6.8%),&nbspplace(5.1%),&nbspservice(4.0%),&nbsprestaurant(3.0%),&nbsptime(1.5%)</td></tr><tr><td  style=\"background-color:AliceBlue;\">1816</td><td  style=\"background-color:AliceBlue;\">9.8%</td><td  style=\"background-color:AliceBlue;\">JJ</td><td  style=\"background-color:AliceBlue;\">great(7.4%),&nbspgood(7.0%),&nbspdelicious(2.2%),&nbspexcellent(2.0%),&nbspnice(1.9%)</td></tr><tr><td  style=\"background-color:Ivory;\">1769</td><td  style=\"background-color:Ivory;\">9.6%</td><td  style=\"background-color:Ivory;\">DT</td><td  style=\"background-color:Ivory;\">the(55.9%),&nbspa(22.3%),&nbspthis(9.4%),&nbspall(2.8%),&nbspan(1.9%)</td></tr><tr><td  style=\"background-color:AliceBlue;\">1459</td><td  style=\"background-color:AliceBlue;\">7.9%</td><td  style=\"background-color:AliceBlue;\">IN</td><td  style=\"background-color:AliceBlue;\">of(13.9%),&nbspin(13.4%),&nbspfor(13.1%),&nbspon(8.0%),&nbspwith(7.9%)</td></tr><tr><td  style=\"background-color:Ivory;\">1297</td><td  style=\"background-color:Ivory;\">7.0%</td><td  style=\"background-color:Ivory;\">RB</td><td  style=\"background-color:Ivory;\">not(9.6%),&nbspn't(7.9%),&nbspvery(6.4%),&nbspso(3.9%),&nbsphere(3.7%)</td></tr><tr><td  style=\"background-color:AliceBlue;\">1275</td><td  style=\"background-color:AliceBlue;\">6.9%</td><td  style=\"background-color:AliceBlue;\">.</td><td  style=\"background-color:AliceBlue;\">.(89.6%),&nbsp!(9.6%),&nbsp?(0.7%)</td></tr><tr><td  style=\"background-color:Ivory;\">1107</td><td  style=\"background-color:Ivory;\">6.0%</td><td  style=\"background-color:Ivory;\">PRP</td><td  style=\"background-color:Ivory;\">i(32.4%),&nbspit(23.4%),&nbspwe(13.6%),&nbspyou(13.1%),&nbspthey(7.9%)</td></tr><tr><td  style=\"background-color:AliceBlue;\">789</td><td  style=\"background-color:AliceBlue;\">4.3%</td><td  style=\"background-color:AliceBlue;\">CC</td><td  style=\"background-color:AliceBlue;\">and(74.8%),&nbspbut(17.4%),&nbspor(5.6%),&nbspboth(0.6%),&nbspeither(0.5%)</td></tr><tr><td  style=\"background-color:Ivory;\">771</td><td  style=\"background-color:Ivory;\">4.2%</td><td  style=\"background-color:Ivory;\">VBD</td><td  style=\"background-color:Ivory;\">was(38.9%),&nbspwere(11.0%),&nbsphad(9.5%),&nbspwent(3.4%),&nbspdid(3.0%)</td></tr><tr><td  style=\"background-color:AliceBlue;\">643</td><td  style=\"background-color:AliceBlue;\">3.5%</td><td  style=\"background-color:AliceBlue;\">,</td><td  style=\"background-color:AliceBlue;\">,(100.0%)</td></tr><tr><td  style=\"background-color:Ivory;\">625</td><td  style=\"background-color:Ivory;\">3.4%</td><td  style=\"background-color:Ivory;\">VB</td><td  style=\"background-color:Ivory;\">be(11.2%),&nbspgo(9.1%),&nbsptry(5.0%),&nbspget(4.8%),&nbsphave(4.2%)</td></tr><tr><td  style=\"background-color:AliceBlue;\">573</td><td  style=\"background-color:AliceBlue;\">3.1%</td><td  style=\"background-color:AliceBlue;\">VBZ</td><td  style=\"background-color:AliceBlue;\">is(66.7%),&nbsp's(9.6%),&nbsphas(5.2%),&nbspdoes(2.1%),&nbspgets(1.0%)</td></tr><tr><td  style=\"background-color:Ivory;\">571</td><td  style=\"background-color:Ivory;\">3.1%</td><td  style=\"background-color:Ivory;\">NNS</td><td  style=\"background-color:Ivory;\">prices(5.3%),&nbsprestaurants(4.2%),&nbsptimes(3.7%),&nbspdishes(3.7%),&nbspfriends(3.3%)</td></tr><tr><td  style=\"background-color:AliceBlue;\">569</td><td  style=\"background-color:AliceBlue;\">3.1%</td><td  style=\"background-color:AliceBlue;\">NNP</td><td  style=\"background-color:AliceBlue;\">service(3.7%),&nbspthai(3.5%),&nbspnew(2.6%),&nbspyork(2.1%),&nbspny(2.1%)</td></tr><tr><td  style=\"background-color:Ivory;\">466</td><td  style=\"background-color:Ivory;\">2.5%</td><td  style=\"background-color:Ivory;\">VBP</td><td  style=\"background-color:Ivory;\">are(20.8%),&nbsphave(16.5%),&nbspdo(7.7%),&nbsp've(5.8%),&nbsp're(3.9%)</td></tr><tr><td  style=\"background-color:AliceBlue;\">322</td><td  style=\"background-color:AliceBlue;\">1.7%</td><td  style=\"background-color:AliceBlue;\">TO</td><td  style=\"background-color:AliceBlue;\">to(100.0%)</td></tr><tr><td  style=\"background-color:Ivory;\">268</td><td  style=\"background-color:Ivory;\">1.4%</td><td  style=\"background-color:Ivory;\">VBN</td><td  style=\"background-color:Ivory;\">been(13.4%),&nbsphad(5.6%),&nbspeaten(4.5%),&nbsppriced(3.4%),&nbsprecommended(3.0%)</td></tr><tr><td  style=\"background-color:AliceBlue;\">233</td><td  style=\"background-color:AliceBlue;\">1.3%</td><td  style=\"background-color:AliceBlue;\">PRP$</td><td  style=\"background-color:AliceBlue;\">my(43.8%),&nbsptheir(16.3%),&nbspyour(15.5%),&nbspour(15.5%),&nbspits(6.4%)</td></tr><tr><td  style=\"background-color:Ivory;\">210</td><td  style=\"background-color:Ivory;\">1.1%</td><td  style=\"background-color:Ivory;\">MD</td><td  style=\"background-color:Ivory;\">would(22.4%),&nbspcan(18.6%),&nbspwill(17.6%),&nbspca(8.1%),&nbspcould(7.6%)</td></tr><tr><td  style=\"background-color:AliceBlue;\">174</td><td  style=\"background-color:AliceBlue;\">0.9%</td><td  style=\"background-color:AliceBlue;\">VBG</td><td  style=\"background-color:AliceBlue;\">going(9.2%),&nbspbeing(5.7%),&nbsplooking(5.2%),&nbspsitting(3.4%),&nbspeating(3.4%)</td></tr><tr><td  style=\"background-color:Ivory;\">150</td><td  style=\"background-color:Ivory;\">0.8%</td><td  style=\"background-color:Ivory;\">:</td><td  style=\"background-color:Ivory;\">...(41.3%),&nbsp-(29.3%),&nbsp;(9.3%),&nbsp:(9.3%),&nbsp--(9.3%)</td></tr><tr><td  style=\"background-color:AliceBlue;\">138</td><td  style=\"background-color:AliceBlue;\">0.7%</td><td  style=\"background-color:AliceBlue;\">CD</td><td  style=\"background-color:AliceBlue;\">one(28.3%),&nbsptwo(10.1%),&nbsp3(4.3%),&nbsp15(3.6%),&nbsp20(3.6%)</td></tr><tr><td  style=\"background-color:Ivory;\">79</td><td  style=\"background-color:Ivory;\">0.4%</td><td  style=\"background-color:Ivory;\">JJS</td><td  style=\"background-color:Ivory;\">best(57.0%),&nbspmost(12.7%),&nbspworst(8.9%),&nbspleast(7.6%),&nbspnicest(3.8%)</td></tr><tr><td  style=\"background-color:AliceBlue;\">68</td><td  style=\"background-color:AliceBlue;\">0.4%</td><td  style=\"background-color:AliceBlue;\">WDT</td><td  style=\"background-color:AliceBlue;\">which(54.4%),&nbspthat(39.7%),&nbspwhat(4.4%),&nbspwhatever(1.5%)</td></tr><tr><td  style=\"background-color:Ivory;\">54</td><td  style=\"background-color:Ivory;\">0.3%</td><td  style=\"background-color:Ivory;\">WRB</td><td  style=\"background-color:Ivory;\">when(61.1%),&nbspwhere(16.7%),&nbsphow(16.7%),&nbspwhy(3.7%),&nbspwherever(1.9%)</td></tr><tr><td  style=\"background-color:AliceBlue;\">54</td><td  style=\"background-color:AliceBlue;\">0.3%</td><td  style=\"background-color:AliceBlue;\">-RRB-</td><td  style=\"background-color:AliceBlue;\">-rrb-(100.0%)</td></tr><tr><td  style=\"background-color:Ivory;\">53</td><td  style=\"background-color:Ivory;\">0.3%</td><td  style=\"background-color:Ivory;\">-LRB-</td><td  style=\"background-color:Ivory;\">-lrb-(100.0%)</td></tr><tr><td  style=\"background-color:AliceBlue;\">48</td><td  style=\"background-color:AliceBlue;\">0.3%</td><td  style=\"background-color:AliceBlue;\">RP</td><td  style=\"background-color:AliceBlue;\">up(41.7%),&nbspout(39.6%),&nbspdown(8.3%),&nbspoff(8.3%),&nbspover(2.1%)</td></tr><tr><td  style=\"background-color:Ivory;\">44</td><td  style=\"background-color:Ivory;\">0.2%</td><td  style=\"background-color:Ivory;\">WP</td><td  style=\"background-color:Ivory;\">what(50.0%),&nbspwho(45.5%),&nbspwhom(2.3%),&nbspwhoever(2.3%)</td></tr><tr><td  style=\"background-color:AliceBlue;\">43</td><td  style=\"background-color:AliceBlue;\">0.2%</td><td  style=\"background-color:AliceBlue;\">JJR</td><td  style=\"background-color:AliceBlue;\">more(34.9%),&nbspbetter(34.9%),&nbspless(7.0%),&nbsplonger(4.7%),&nbspshorter(2.3%)</td></tr><tr><td  style=\"background-color:Ivory;\">41</td><td  style=\"background-color:Ivory;\">0.2%</td><td  style=\"background-color:Ivory;\">POS</td><td  style=\"background-color:Ivory;\">'s(97.6%),&nbsp'(2.4%)</td></tr><tr><td  style=\"background-color:AliceBlue;\">37</td><td  style=\"background-color:AliceBlue;\">0.2%</td><td  style=\"background-color:AliceBlue;\">FW</td><td  style=\"background-color:AliceBlue;\">i(73.0%),&nbspetc.(8.1%),&nbspentree(8.1%),&nbspew(2.7%),&nbspse(2.7%)</td></tr><tr><td  style=\"background-color:Ivory;\">34</td><td  style=\"background-color:Ivory;\">0.2%</td><td  style=\"background-color:Ivory;\">EX</td><td  style=\"background-color:Ivory;\">there(100.0%)</td></tr><tr><td  style=\"background-color:AliceBlue;\">29</td><td  style=\"background-color:AliceBlue;\">0.2%</td><td  style=\"background-color:AliceBlue;\">RBR</td><td  style=\"background-color:AliceBlue;\">more(62.1%),&nbspbetter(13.8%),&nbspless(6.9%),&nbsplouder(3.4%),&nbspfurther(3.4%)</td></tr><tr><td  style=\"background-color:Ivory;\">21</td><td  style=\"background-color:Ivory;\">0.1%</td><td  style=\"background-color:Ivory;\">$</td><td  style=\"background-color:Ivory;\">$(100.0%)</td></tr><tr><td  style=\"background-color:AliceBlue;\">15</td><td  style=\"background-color:AliceBlue;\">0.1%</td><td  style=\"background-color:AliceBlue;\">PDT</td><td  style=\"background-color:AliceBlue;\">all(80.0%),&nbspsuch(20.0%)</td></tr><tr><td  style=\"background-color:Ivory;\">12</td><td  style=\"background-color:Ivory;\">0.1%</td><td  style=\"background-color:Ivory;\">LS</td><td  style=\"background-color:Ivory;\">i(75.0%),&nbsp2(8.3%),&nbsp1(8.3%),&nbspe(8.3%)</td></tr><tr><td  style=\"background-color:AliceBlue;\">9</td><td  style=\"background-color:AliceBlue;\">0.0%</td><td  style=\"background-color:AliceBlue;\">RBS</td><td  style=\"background-color:AliceBlue;\">most(100.0%)</td></tr><tr><td  style=\"background-color:Ivory;\">7</td><td  style=\"background-color:Ivory;\">0.0%</td><td  style=\"background-color:Ivory;\">NNPS</td><td  style=\"background-color:Ivory;\">toons(28.6%),&nbsphydes(14.3%),&nbspvalentines(14.3%),&nbspstreets(14.3%),&nbsptapas(14.3%)</td></tr><tr><td  style=\"background-color:AliceBlue;\">6</td><td  style=\"background-color:AliceBlue;\">0.0%</td><td  style=\"background-color:AliceBlue;\">UH</td><td  style=\"background-color:AliceBlue;\">yes(50.0%),&nbsphey(16.7%),&nbspoh(16.7%),&nbspyeah(16.7%)</td></tr><tr><td  style=\"background-color:Ivory;\">4</td><td  style=\"background-color:Ivory;\">0.0%</td><td  style=\"background-color:Ivory;\">``</td><td  style=\"background-color:Ivory;\">`(100.0%)</td></tr><tr><td  style=\"background-color:AliceBlue;\">3</td><td  style=\"background-color:AliceBlue;\">0.0%</td><td  style=\"background-color:AliceBlue;\">SYM</td><td  style=\"background-color:AliceBlue;\">*(66.7%),&nbspyum(33.3%)</td></tr><tr><td  style=\"background-color:Ivory;\">2</td><td  style=\"background-color:Ivory;\">0.0%</td><td  style=\"background-color:Ivory;\">''</td><td  style=\"background-color:Ivory;\">'(100.0%)</td></tr><tr><td  style=\"background-color:AliceBlue;\">1</td><td  style=\"background-color:AliceBlue;\">0.0%</td><td  style=\"background-color:AliceBlue;\">#</td><td  style=\"background-color:AliceBlue;\">#(100.0%)</td></tr></table>"
      ],
      "text/plain": [
       "<ipy_table.IpyTable at 0x7fa3c4222b00>"
      ]
     },
     "execution_count": 8,
     "metadata": {},
     "output_type": "execute_result"
    }
   ],
   "source": [
    "data = [['FREQ', '% FREQ', 'POSTAG', 'EXAMPLES']]\n",
    "\n",
    "for pos, freq in sorted(postag_freq.items(), key=itemgetter(1), reverse=True):\n",
    "    examples = ', '.join(['{}({:.1f}%)'.format(w,f / sum(freqlist[pos].values()) * 100) \n",
    "                          for w,f in sorted(freqlist[pos].items(), key=itemgetter(1), reverse=True)[:5]])\n",
    "    ratio = freq / sum(postag_freq.values()) * 100\n",
    "    data.append([freq, '{:.1f}%'.format(ratio), pos, examples])\n",
    "\n",
    "ipy_table.make_table(data)\n",
    "ipy_table.apply_theme('basic')"
   ]
  },
  {
   "cell_type": "markdown",
   "metadata": {},
   "source": [
    "## Dependency relation frequency"
   ]
  },
  {
   "cell_type": "code",
   "execution_count": 9,
   "metadata": {
    "collapsed": false
   },
   "outputs": [
    {
     "data": {
      "text/html": [
       "<table border=\"1\" cellpadding=\"3\" cellspacing=\"0\"  style=\"border:1px solid black;border-collapse:collapse;\"><tr><td  style=\"background-color:LightGray;\"><b>FREQ</b></td><td  style=\"background-color:LightGray;\"><b>%&nbspFREQ</b></td><td  style=\"background-color:LightGray;\"><b>DEPREL</b></td><td  style=\"background-color:LightGray;\"><b>EXAMPLES</b></td></tr><tr><td  style=\"background-color:Ivory;\">2181</td><td  style=\"background-color:Ivory;\">11.8%</td><td  style=\"background-color:Ivory;\">punct</td><td  style=\"background-color:Ivory;\">.(52.4%),&nbsp,(29.5%),&nbsp!(5.6%),&nbsp...(2.8%),&nbsp-rrb-(2.5%)</td></tr><tr><td  style=\"background-color:AliceBlue;\">1858</td><td  style=\"background-color:AliceBlue;\">10.0%</td><td  style=\"background-color:AliceBlue;\">nsubj</td><td  style=\"background-color:AliceBlue;\">i(19.5%),&nbspit(8.9%),&nbspwe(7.6%),&nbspyou(6.9%),&nbspfood(5.3%)</td></tr><tr><td  style=\"background-color:Ivory;\">1621</td><td  style=\"background-color:Ivory;\">8.8%</td><td  style=\"background-color:Ivory;\">det</td><td  style=\"background-color:Ivory;\">the(60.7%),&nbspa(24.1%),&nbspthis(7.5%),&nbspan(2.1%),&nbspsome(1.2%)</td></tr><tr><td  style=\"background-color:AliceBlue;\">1323</td><td  style=\"background-color:AliceBlue;\">7.1%</td><td  style=\"background-color:AliceBlue;\">root</td><td  style=\"background-color:AliceBlue;\">good(2.6%),&nbsphad(2.3%),&nbspplace(2.1%),&nbspgo(2.1%),&nbspwent(1.7%)</td></tr><tr><td  style=\"background-color:Ivory;\">1280</td><td  style=\"background-color:Ivory;\">6.9%</td><td  style=\"background-color:Ivory;\">case</td><td  style=\"background-color:Ivory;\">of(15.2%),&nbspin(14.4%),&nbspfor(13.5%),&nbspon(8.8%),&nbspwith(8.7%)</td></tr><tr><td  style=\"background-color:AliceBlue;\">1130</td><td  style=\"background-color:AliceBlue;\">6.1%</td><td  style=\"background-color:AliceBlue;\">nmod</td><td  style=\"background-color:AliceBlue;\">food(2.2%),&nbsprestaurant(2.1%),&nbspplace(2.0%),&nbspit(1.6%),&nbsprestaurants(1.5%)</td></tr><tr><td  style=\"background-color:Ivory;\">1116</td><td  style=\"background-color:Ivory;\">6.0%</td><td  style=\"background-color:Ivory;\">advmod</td><td  style=\"background-color:Ivory;\">very(7.4%),&nbspso(4.5%),&nbsphere(4.2%),&nbspjust(4.0%),&nbsptoo(3.6%)</td></tr><tr><td  style=\"background-color:AliceBlue;\">1041</td><td  style=\"background-color:AliceBlue;\">5.6%</td><td  style=\"background-color:AliceBlue;\">amod</td><td  style=\"background-color:AliceBlue;\">great(8.5%),&nbspgood(5.6%),&nbspbest(3.3%),&nbsplittle(1.8%),&nbspother(1.8%)</td></tr><tr><td  style=\"background-color:Ivory;\">875</td><td  style=\"background-color:Ivory;\">4.7%</td><td  style=\"background-color:Ivory;\">cop</td><td  style=\"background-color:Ivory;\">is(38.4%),&nbspwas(28.9%),&nbspare(8.7%),&nbspwere(6.9%),&nbspbe(5.4%)</td></tr><tr><td  style=\"background-color:AliceBlue;\">815</td><td  style=\"background-color:AliceBlue;\">4.4%</td><td  style=\"background-color:AliceBlue;\">conj</td><td  style=\"background-color:AliceBlue;\">service(2.8%),&nbspi(2.1%),&nbsphad(2.0%),&nbspgood(1.5%),&nbspfriendly(1.5%)</td></tr><tr><td  style=\"background-color:Ivory;\">778</td><td  style=\"background-color:Ivory;\">4.2%</td><td  style=\"background-color:Ivory;\">cc</td><td  style=\"background-color:Ivory;\">and(75.6%),&nbspbut(17.5%),&nbspor(5.5%),&nbsp+(0.4%),&nbspnot(0.3%)</td></tr><tr><td  style=\"background-color:AliceBlue;\">697</td><td  style=\"background-color:AliceBlue;\">3.8%</td><td  style=\"background-color:AliceBlue;\">dobj</td><td  style=\"background-color:AliceBlue;\">it(8.2%),&nbspfood(3.4%),&nbspplace(3.3%),&nbspwhat(1.9%),&nbsptime(1.9%)</td></tr><tr><td  style=\"background-color:Ivory;\">604</td><td  style=\"background-color:Ivory;\">3.3%</td><td  style=\"background-color:Ivory;\">compound</td><td  style=\"background-color:Ivory;\">new(2.5%),&nbspwine(2.5%),&nbspthai(2.0%),&nbspsushi(2.0%),&nbspfood(1.8%)</td></tr><tr><td  style=\"background-color:AliceBlue;\">452</td><td  style=\"background-color:AliceBlue;\">2.4%</td><td  style=\"background-color:AliceBlue;\">mark</td><td  style=\"background-color:AliceBlue;\">to(45.6%),&nbspif(10.2%),&nbspthat(8.4%),&nbspas(5.1%),&nbspbecause(4.0%)</td></tr><tr><td  style=\"background-color:Ivory;\">437</td><td  style=\"background-color:Ivory;\">2.4%</td><td  style=\"background-color:Ivory;\">aux</td><td  style=\"background-color:Ivory;\">have(12.6%),&nbspwould(10.8%),&nbspwill(8.2%),&nbspcan(8.2%),&nbspdo(7.8%)</td></tr><tr><td  style=\"background-color:AliceBlue;\">280</td><td  style=\"background-color:AliceBlue;\">1.5%</td><td  style=\"background-color:AliceBlue;\">dep</td><td  style=\"background-color:AliceBlue;\">worth(2.5%),&nbspall(2.1%),&nbspis(1.8%),&nbsppizza(1.4%),&nbspfriendly(1.4%)</td></tr><tr><td  style=\"background-color:Ivory;\">265</td><td  style=\"background-color:Ivory;\">1.4%</td><td  style=\"background-color:Ivory;\">neg</td><td  style=\"background-color:Ivory;\">not(43.8%),&nbspn't(38.5%),&nbspnever(10.2%),&nbspno(7.5%)</td></tr><tr><td  style=\"background-color:AliceBlue;\">249</td><td  style=\"background-color:AliceBlue;\">1.3%</td><td  style=\"background-color:AliceBlue;\">nmod:poss</td><td  style=\"background-color:AliceBlue;\">my(40.6%),&nbsptheir(15.3%),&nbspour(14.5%),&nbspyour(13.7%),&nbspits(5.2%)</td></tr><tr><td  style=\"background-color:Ivory;\">242</td><td  style=\"background-color:Ivory;\">1.3%</td><td  style=\"background-color:Ivory;\">xcomp</td><td  style=\"background-color:Ivory;\">go(3.3%),&nbsptry(3.3%),&nbspeat(2.9%),&nbspmake(2.5%),&nbspwrong(2.5%)</td></tr><tr><td  style=\"background-color:AliceBlue;\">221</td><td  style=\"background-color:AliceBlue;\">1.2%</td><td  style=\"background-color:AliceBlue;\">advcl</td><td  style=\"background-color:AliceBlue;\">looking(2.7%),&nbspwant(2.3%),&nbspgreat(2.3%),&nbspgo(1.8%),&nbspgood(1.8%)</td></tr><tr><td  style=\"background-color:Ivory;\">221</td><td  style=\"background-color:Ivory;\">1.2%</td><td  style=\"background-color:Ivory;\">ccomp</td><td  style=\"background-color:Ivory;\">had(4.5%),&nbspgo(3.6%),&nbspfeel(3.6%),&nbsphave(3.2%),&nbspget(2.7%)</td></tr><tr><td  style=\"background-color:AliceBlue;\">197</td><td  style=\"background-color:AliceBlue;\">1.1%</td><td  style=\"background-color:AliceBlue;\">acl:relcl</td><td  style=\"background-color:AliceBlue;\">had(5.6%),&nbspgreat(3.6%),&nbsphave(3.6%),&nbspgood(3.0%),&nbspis(1.5%)</td></tr><tr><td  style=\"background-color:Ivory;\">87</td><td  style=\"background-color:Ivory;\">0.5%</td><td  style=\"background-color:Ivory;\">acl</td><td  style=\"background-color:Ivory;\">go(6.9%),&nbspeat(5.7%),&nbspmake(2.3%),&nbspget(2.3%),&nbspof(2.3%)</td></tr><tr><td  style=\"background-color:AliceBlue;\">85</td><td  style=\"background-color:AliceBlue;\">0.5%</td><td  style=\"background-color:AliceBlue;\">auxpass</td><td  style=\"background-color:AliceBlue;\">was(32.9%),&nbspis(18.8%),&nbspbe(17.6%),&nbspwere(14.1%),&nbspbeen(7.1%)</td></tr><tr><td  style=\"background-color:Ivory;\">79</td><td  style=\"background-color:Ivory;\">0.4%</td><td  style=\"background-color:Ivory;\">nummod</td><td  style=\"background-color:Ivory;\">two(13.9%),&nbspone(10.1%),&nbsp15(6.3%),&nbsp2(6.3%),&nbsp20(5.1%)</td></tr><tr><td  style=\"background-color:AliceBlue;\">68</td><td  style=\"background-color:AliceBlue;\">0.4%</td><td  style=\"background-color:AliceBlue;\">nsubjpass</td><td  style=\"background-color:AliceBlue;\">i(11.8%),&nbspwe(11.8%),&nbspit(8.8%),&nbspthat(5.9%),&nbsprestaurant(4.4%)</td></tr><tr><td  style=\"background-color:Ivory;\">61</td><td  style=\"background-color:Ivory;\">0.3%</td><td  style=\"background-color:Ivory;\">appos</td><td  style=\"background-color:Ivory;\">service(4.9%),&nbspstaff(4.9%),&nbspfood(3.3%),&nbspbread(3.3%),&nbspdecor(3.3%)</td></tr><tr><td  style=\"background-color:AliceBlue;\">54</td><td  style=\"background-color:AliceBlue;\">0.3%</td><td  style=\"background-color:AliceBlue;\">compound:prt</td><td  style=\"background-color:AliceBlue;\">up(38.9%),&nbspout(33.3%),&nbspdown(9.3%),&nbspoff(7.4%),&nbspin(7.4%)</td></tr><tr><td  style=\"background-color:Ivory;\">51</td><td  style=\"background-color:Ivory;\">0.3%</td><td  style=\"background-color:Ivory;\">parataxis</td><td  style=\"background-color:Ivory;\">delicious(5.9%),&nbspexcellent(3.9%),&nbsphave(3.9%),&nbspbit(2.0%),&nbspdivine(2.0%)</td></tr><tr><td  style=\"background-color:AliceBlue;\">28</td><td  style=\"background-color:AliceBlue;\">0.2%</td><td  style=\"background-color:AliceBlue;\">expl</td><td  style=\"background-color:AliceBlue;\">there(100.0%)</td></tr><tr><td  style=\"background-color:Ivory;\">24</td><td  style=\"background-color:Ivory;\">0.1%</td><td  style=\"background-color:Ivory;\">nmod:npmod</td><td  style=\"background-color:Ivory;\">bit(16.7%),&nbspeach(12.5%),&nbspleast(12.5%),&nbspit(8.3%),&nbsplittle(8.3%)</td></tr><tr><td  style=\"background-color:AliceBlue;\">24</td><td  style=\"background-color:AliceBlue;\">0.1%</td><td  style=\"background-color:AliceBlue;\">nmod:tmod</td><td  style=\"background-color:AliceBlue;\">night(33.3%),&nbsptime(20.8%),&nbsptimes(16.7%),&nbspweek(8.3%),&nbspok(4.2%)</td></tr><tr><td  style=\"background-color:Ivory;\">18</td><td  style=\"background-color:Ivory;\">0.1%</td><td  style=\"background-color:Ivory;\">mwe</td><td  style=\"background-color:Ivory;\">well(44.4%),&nbspthan(38.9%),&nbspof(11.1%),&nbspas(5.6%)</td></tr><tr><td  style=\"background-color:AliceBlue;\">18</td><td  style=\"background-color:AliceBlue;\">0.1%</td><td  style=\"background-color:AliceBlue;\">det:predet</td><td  style=\"background-color:AliceBlue;\">all(77.8%),&nbspsuch(22.2%)</td></tr><tr><td  style=\"background-color:Ivory;\">14</td><td  style=\"background-color:Ivory;\">0.1%</td><td  style=\"background-color:Ivory;\">iobj</td><td  style=\"background-color:Ivory;\">it(42.9%),&nbspme(21.4%),&nbspus(14.3%),&nbspyou(7.1%),&nbspplace(7.1%)</td></tr><tr><td  style=\"background-color:AliceBlue;\">13</td><td  style=\"background-color:AliceBlue;\">0.1%</td><td  style=\"background-color:AliceBlue;\">csubj</td><td  style=\"background-color:AliceBlue;\">had(15.4%),&nbsptried(7.7%),&nbspworking(7.7%),&nbspamazing(7.7%),&nbspstuffing(7.7%)</td></tr><tr><td  style=\"background-color:Ivory;\">6</td><td  style=\"background-color:Ivory;\">0.0%</td><td  style=\"background-color:Ivory;\">cc:preconj</td><td  style=\"background-color:Ivory;\">either(50.0%),&nbspboth(33.3%),&nbsponly(16.7%)</td></tr></table>"
      ],
      "text/plain": [
       "<ipy_table.IpyTable at 0x7fa3c4222ac8>"
      ]
     },
     "execution_count": 9,
     "metadata": {},
     "output_type": "execute_result"
    }
   ],
   "source": [
    "from operator import itemgetter\n",
    "deprel_freq = dict()\n",
    "freqlist = dict()\n",
    "\n",
    "for word_node in reviews.iter('word'):\n",
    "    form = word_node.get('form').lower()\n",
    "    deprel = word_node.get('deprel')\n",
    "    # fix a bug in PALAVRAS output\n",
    "    deprel = deprel.split()[0]\n",
    "    \n",
    "    deprel_freq[deprel] = deprel_freq.get(deprel, 0) + 1\n",
    "    if deprel not in freqlist:\n",
    "        freqlist[deprel] = dict()\n",
    "    freqlist[deprel][form] = freqlist[deprel].get(form, 0) + 1 \n",
    "    \n",
    "data = [['FREQ', '% FREQ', 'DEPREL', 'EXAMPLES']]\n",
    "\n",
    "for deprel, freq in sorted(deprel_freq.items(), key=itemgetter(1), reverse=True):\n",
    "    examples = ', '.join(['{}({:.1f}%)'.format(w,f / sum(freqlist[deprel].values()) * 100) \n",
    "                          for w,f in sorted(freqlist[deprel].items(), key=itemgetter(1), reverse=True)[:5]])\n",
    "    ratio = freq / sum(deprel_freq.values()) * 100\n",
    "    data.append([freq, '{:.1f}%'.format(ratio), deprel, examples])\n",
    "\n",
    "ipy_table.make_table(data)\n",
    "ipy_table.apply_theme('basic')"
   ]
  },
  {
   "cell_type": "markdown",
   "metadata": {},
   "source": [
    "## Dependency Root frequency"
   ]
  },
  {
   "cell_type": "code",
   "execution_count": 10,
   "metadata": {
    "collapsed": false
   },
   "outputs": [
    {
     "data": {
      "text/html": [
       "<table border=\"1\" cellpadding=\"3\" cellspacing=\"0\"  style=\"border:1px solid black;border-collapse:collapse;\"><tr><td  style=\"background-color:LightGray;\"><b>Freq</b></td><td  style=\"background-color:LightGray;\"><b>%&nbspFreq</b></td><td  style=\"background-color:LightGray;\"><b>word</b></td></tr><tr><td  style=\"background-color:Ivory;\">34</td><td  style=\"background-color:Ivory;\">2.59%</td><td  style=\"background-color:Ivory;\">good</td></tr><tr><td  style=\"background-color:AliceBlue;\">31</td><td  style=\"background-color:AliceBlue;\">2.36%</td><td  style=\"background-color:AliceBlue;\">had</td></tr><tr><td  style=\"background-color:Ivory;\">28</td><td  style=\"background-color:Ivory;\">2.13%</td><td  style=\"background-color:Ivory;\">place</td></tr><tr><td  style=\"background-color:AliceBlue;\">28</td><td  style=\"background-color:AliceBlue;\">2.13%</td><td  style=\"background-color:AliceBlue;\">go</td></tr><tr><td  style=\"background-color:Ivory;\">23</td><td  style=\"background-color:Ivory;\">1.75%</td><td  style=\"background-color:Ivory;\">went</td></tr><tr><td  style=\"background-color:AliceBlue;\">23</td><td  style=\"background-color:AliceBlue;\">1.75%</td><td  style=\"background-color:AliceBlue;\">recommend</td></tr><tr><td  style=\"background-color:Ivory;\">18</td><td  style=\"background-color:Ivory;\">1.37%</td><td  style=\"background-color:Ivory;\">great</td></tr><tr><td  style=\"background-color:AliceBlue;\">18</td><td  style=\"background-color:AliceBlue;\">1.37%</td><td  style=\"background-color:AliceBlue;\">restaurant</td></tr><tr><td  style=\"background-color:Ivory;\">16</td><td  style=\"background-color:Ivory;\">1.22%</td><td  style=\"background-color:Ivory;\">food</td></tr><tr><td  style=\"background-color:AliceBlue;\">15</td><td  style=\"background-color:AliceBlue;\">1.14%</td><td  style=\"background-color:AliceBlue;\">love</td></tr><tr><td  style=\"background-color:Ivory;\">14</td><td  style=\"background-color:Ivory;\">1.06%</td><td  style=\"background-color:Ivory;\">try</td></tr><tr><td  style=\"background-color:AliceBlue;\">13</td><td  style=\"background-color:AliceBlue;\">0.99%</td><td  style=\"background-color:AliceBlue;\">excellent</td></tr><tr><td  style=\"background-color:Ivory;\">13</td><td  style=\"background-color:Ivory;\">0.99%</td><td  style=\"background-color:Ivory;\">delicious</td></tr><tr><td  style=\"background-color:AliceBlue;\">12</td><td  style=\"background-color:AliceBlue;\">0.91%</td><td  style=\"background-color:AliceBlue;\">have</td></tr><tr><td  style=\"background-color:Ivory;\">10</td><td  style=\"background-color:Ivory;\">0.76%</td><td  style=\"background-color:Ivory;\">get</td></tr><tr><td  style=\"background-color:AliceBlue;\">10</td><td  style=\"background-color:AliceBlue;\">0.76%</td><td  style=\"background-color:AliceBlue;\">ordered</td></tr><tr><td  style=\"background-color:Ivory;\">10</td><td  style=\"background-color:Ivory;\">0.76%</td><td  style=\"background-color:Ivory;\">service</td></tr><tr><td  style=\"background-color:AliceBlue;\">10</td><td  style=\"background-color:AliceBlue;\">0.76%</td><td  style=\"background-color:AliceBlue;\">eaten</td></tr><tr><td  style=\"background-color:Ivory;\">9</td><td  style=\"background-color:Ivory;\">0.68%</td><td  style=\"background-color:Ivory;\">amazing</td></tr><tr><td  style=\"background-color:AliceBlue;\">9</td><td  style=\"background-color:AliceBlue;\">0.68%</td><td  style=\"background-color:AliceBlue;\">think</td></tr></table>"
      ],
      "text/plain": [
       "<ipy_table.IpyTable at 0x7fa3ce81bcc0>"
      ]
     },
     "execution_count": 10,
     "metadata": {},
     "output_type": "execute_result"
    }
   ],
   "source": [
    "freqlist = Counter([word_node.get('form').lower() \n",
    "                    for word_node in reviews.iter('word') \n",
    "                        if word_node.get('head') =='0' and \n",
    "                           word_node.get('postag') !='pu'])\n",
    "\n",
    "data = [['Freq', '% Freq', 'word']]\n",
    "for token, freq in freqlist.most_common(20):\n",
    "    ratio = freq / sum(freqlist.values()) * 100\n",
    "    data.append( [freq, '{:.2f}%'.format(ratio), token])\n",
    "\n",
    "ipy_table.make_table(data)\n",
    "ipy_table.apply_theme('basic')"
   ]
  },
  {
   "cell_type": "markdown",
   "metadata": {},
   "source": [
    "## Named Entities Frequency"
   ]
  },
  {
   "cell_type": "code",
   "execution_count": 11,
   "metadata": {
    "collapsed": false
   },
   "outputs": [
    {
     "data": {
      "text/html": [
       "<table border=\"1\" cellpadding=\"3\" cellspacing=\"0\"  style=\"border:1px solid black;border-collapse:collapse;\"><tr><td  style=\"background-color:LightGray;\"><b>FREQ</b></td><td  style=\"background-color:LightGray;\"><b>%&nbspFREQ</b></td><td  style=\"background-color:LightGray;\"><b>NAMED&nbspENTITY</b></td><td  style=\"background-color:LightGray;\"><b>EXAMPLES</b></td></tr><tr><td  style=\"background-color:Ivory;\">17727</td><td  style=\"background-color:Ivory;\">95.8%</td><td  style=\"background-color:Ivory;\">O</td><td  style=\"background-color:Ivory;\">.(6.4%),&nbspthe(5.5%),&nbsp,(3.6%),&nbspand(3.3%),&nbspi(2.2%)</td></tr><tr><td  style=\"background-color:AliceBlue;\">143</td><td  style=\"background-color:AliceBlue;\">0.8%</td><td  style=\"background-color:AliceBlue;\">LOCATION</td><td  style=\"background-color:AliceBlue;\">new(9.8%),&nbspyork(8.4%),&nbspmanhattan(7.0%),&nbspny(3.5%),&nbspchinatown(2.8%)</td></tr><tr><td  style=\"background-color:Ivory;\">99</td><td  style=\"background-color:Ivory;\">0.5%</td><td  style=\"background-color:Ivory;\">NUMBER</td><td  style=\"background-color:Ivory;\">one(41.4%),&nbsptwo(13.1%),&nbspthree(5.1%),&nbspfour(4.0%),&nbsp4(3.0%)</td></tr><tr><td  style=\"background-color:AliceBlue;\">98</td><td  style=\"background-color:AliceBlue;\">0.5%</td><td  style=\"background-color:AliceBlue;\">MISC</td><td  style=\"background-color:AliceBlue;\">thai(20.4%),&nbspjapanese(10.2%),&nbspitalian(9.2%),&nbspindian(9.2%),&nbsptaiwanese(5.1%)</td></tr><tr><td  style=\"background-color:Ivory;\">92</td><td  style=\"background-color:Ivory;\">0.5%</td><td  style=\"background-color:Ivory;\">PERSON</td><td  style=\"background-color:Ivory;\">suan(6.5%),&nbspmizu(5.4%),&nbspsaul(4.3%),&nbsprao(3.3%),&nbspmurray(3.3%)</td></tr><tr><td  style=\"background-color:AliceBlue;\">89</td><td  style=\"background-color:AliceBlue;\">0.5%</td><td  style=\"background-color:AliceBlue;\">DURATION</td><td  style=\"background-color:AliceBlue;\">years(13.5%),&nbspday(9.0%),&nbspthe(7.9%),&nbspminutes(4.5%),&nbspfew(4.5%)</td></tr><tr><td  style=\"background-color:Ivory;\">80</td><td  style=\"background-color:Ivory;\">0.4%</td><td  style=\"background-color:Ivory;\">DATE</td><td  style=\"background-color:Ivory;\">once(10.0%),&nbspsaturday(8.8%),&nbspnow(6.2%),&nbsprecently(6.2%),&nbspweek(5.0%)</td></tr><tr><td  style=\"background-color:AliceBlue;\">56</td><td  style=\"background-color:AliceBlue;\">0.3%</td><td  style=\"background-color:AliceBlue;\">TIME</td><td  style=\"background-color:AliceBlue;\">night(35.7%),&nbspevening(14.3%),&nbsplast(10.7%),&nbsplate(7.1%),&nbspafternoon(7.1%)</td></tr><tr><td  style=\"background-color:Ivory;\">47</td><td  style=\"background-color:Ivory;\">0.3%</td><td  style=\"background-color:Ivory;\">MONEY</td><td  style=\"background-color:Ivory;\">$(44.7%),&nbsp1(4.3%),&nbsp20(4.3%),&nbsp10(4.3%),&nbsp2(4.3%)</td></tr><tr><td  style=\"background-color:AliceBlue;\">46</td><td  style=\"background-color:AliceBlue;\">0.2%</td><td  style=\"background-color:AliceBlue;\">ORGANIZATION</td><td  style=\"background-color:AliceBlue;\">pizza(4.3%),&nbspspice(4.3%),&nbspcafe(4.3%),&nbspst.(2.2%),&nbspmcdonald(2.2%)</td></tr><tr><td  style=\"background-color:Ivory;\">28</td><td  style=\"background-color:Ivory;\">0.2%</td><td  style=\"background-color:Ivory;\">ORDINAL</td><td  style=\"background-color:Ivory;\">first(57.1%),&nbsp1st(7.1%),&nbsp4th(3.6%),&nbsp74th(3.6%),&nbsp2nd(3.6%)</td></tr><tr><td  style=\"background-color:AliceBlue;\">8</td><td  style=\"background-color:AliceBlue;\">0.0%</td><td  style=\"background-color:AliceBlue;\">SET</td><td  style=\"background-color:AliceBlue;\">weekends(37.5%),&nbspago(12.5%),&nbspweekly(12.5%),&nbspdaily(12.5%),&nbspsecond(12.5%)</td></tr></table>"
      ],
      "text/plain": [
       "<ipy_table.IpyTable at 0x7fa3c40da198>"
      ]
     },
     "execution_count": 11,
     "metadata": {},
     "output_type": "execute_result"
    }
   ],
   "source": [
    "from operator import itemgetter\n",
    "ne_freq = dict()\n",
    "freqlist = dict()\n",
    "\n",
    "for word_node in reviews.iter('word'):\n",
    "    form = word_node.get('form').lower()\n",
    "    ne = word_node.get('ner')\n",
    "    \n",
    "    ne_freq[ne] = ne_freq.get(ne, 0) + 1\n",
    "    if ne not in freqlist:\n",
    "        freqlist[ne] = dict()\n",
    "    freqlist[ne][form] = freqlist[ne].get(form, 0) + 1 \n",
    "    \n",
    "data = [['FREQ', '% FREQ', 'NAMED ENTITY', 'EXAMPLES']]\n",
    "\n",
    "for ne, freq in sorted(ne_freq.items(), key=itemgetter(1), reverse=True):\n",
    "    examples = ', '.join(['{}({:.1f}%)'.format(w,f / sum(freqlist[ne].values()) * 100) \n",
    "                          for w,f in sorted(freqlist[ne].items(), key=itemgetter(1), reverse=True)[:5]])\n",
    "    ratio = freq / sum(ne_freq.values()) * 100\n",
    "    data.append([freq, '{:.1f}%'.format(ratio), ne, examples])\n",
    "\n",
    "ipy_table.make_table(data)\n",
    "ipy_table.apply_theme('basic')"
   ]
  },
  {
   "cell_type": "markdown",
   "metadata": {
    "collapsed": true
   },
   "source": [
    "## Aspect Frequency"
   ]
  },
  {
   "cell_type": "code",
   "execution_count": 12,
   "metadata": {
    "collapsed": false
   },
   "outputs": [
    {
     "data": {
      "text/html": [
       "<table border=\"1\" cellpadding=\"3\" cellspacing=\"0\"  style=\"border:1px solid black;border-collapse:collapse;\"><tr><td  style=\"background-color:LightGray;\"><b>freq</b></td><td  style=\"background-color:LightGray;\"><b>%freq</b></td><td  style=\"background-color:LightGray;\"><b>aspect(OBJ)</b></td></tr><tr><td  style=\"background-color:Ivory;\">375</td><td  style=\"background-color:Ivory;\">22.7%</td><td  style=\"background-color:Ivory;\">null</td></tr><tr><td  style=\"background-color:AliceBlue;\">158</td><td  style=\"background-color:AliceBlue;\">9.6%</td><td  style=\"background-color:AliceBlue;\">food</td></tr><tr><td  style=\"background-color:Ivory;\">117</td><td  style=\"background-color:Ivory;\">7.1%</td><td  style=\"background-color:Ivory;\">service</td></tr><tr><td  style=\"background-color:AliceBlue;\">82</td><td  style=\"background-color:AliceBlue;\">5.0%</td><td  style=\"background-color:AliceBlue;\">place</td></tr><tr><td  style=\"background-color:Ivory;\">29</td><td  style=\"background-color:Ivory;\">1.8%</td><td  style=\"background-color:Ivory;\">restaurant</td></tr><tr><td  style=\"background-color:AliceBlue;\">27</td><td  style=\"background-color:AliceBlue;\">1.6%</td><td  style=\"background-color:AliceBlue;\">staff</td></tr><tr><td  style=\"background-color:Ivory;\">26</td><td  style=\"background-color:Ivory;\">1.6%</td><td  style=\"background-color:Ivory;\">pizza</td></tr><tr><td  style=\"background-color:AliceBlue;\">21</td><td  style=\"background-color:AliceBlue;\">1.3%</td><td  style=\"background-color:AliceBlue;\">atmosphere</td></tr><tr><td  style=\"background-color:Ivory;\">20</td><td  style=\"background-color:Ivory;\">1.2%</td><td  style=\"background-color:Ivory;\">sushi</td></tr><tr><td  style=\"background-color:AliceBlue;\">16</td><td  style=\"background-color:AliceBlue;\">1.0%</td><td  style=\"background-color:AliceBlue;\">decor</td></tr><tr><td  style=\"background-color:Ivory;\">13</td><td  style=\"background-color:Ivory;\">0.8%</td><td  style=\"background-color:Ivory;\">ambience</td></tr><tr><td  style=\"background-color:AliceBlue;\">12</td><td  style=\"background-color:AliceBlue;\">0.7%</td><td  style=\"background-color:AliceBlue;\">fish</td></tr><tr><td  style=\"background-color:Ivory;\">12</td><td  style=\"background-color:Ivory;\">0.7%</td><td  style=\"background-color:Ivory;\">menu</td></tr><tr><td  style=\"background-color:AliceBlue;\">10</td><td  style=\"background-color:AliceBlue;\">0.6%</td><td  style=\"background-color:AliceBlue;\">wine&nbsplist</td></tr><tr><td  style=\"background-color:Ivory;\">10</td><td  style=\"background-color:Ivory;\">0.6%</td><td  style=\"background-color:Ivory;\">bagels</td></tr><tr><td  style=\"background-color:AliceBlue;\">10</td><td  style=\"background-color:AliceBlue;\">0.6%</td><td  style=\"background-color:AliceBlue;\">dishes</td></tr><tr><td  style=\"background-color:Ivory;\">9</td><td  style=\"background-color:Ivory;\">0.5%</td><td  style=\"background-color:Ivory;\">portions</td></tr><tr><td  style=\"background-color:AliceBlue;\">9</td><td  style=\"background-color:AliceBlue;\">0.5%</td><td  style=\"background-color:AliceBlue;\">waiter</td></tr><tr><td  style=\"background-color:Ivory;\">9</td><td  style=\"background-color:Ivory;\">0.5%</td><td  style=\"background-color:Ivory;\">drinks</td></tr><tr><td  style=\"background-color:AliceBlue;\">9</td><td  style=\"background-color:AliceBlue;\">0.5%</td><td  style=\"background-color:AliceBlue;\">dessert</td></tr></table>"
      ],
      "text/plain": [
       "<ipy_table.IpyTable at 0x7fa3c41d1048>"
      ]
     },
     "execution_count": 12,
     "metadata": {},
     "output_type": "execute_result"
    }
   ],
   "source": [
    "freqlist =  Counter([node.get('target').lower() for node in reviews.iter('Opinion')])\n",
    "\n",
    "data = [['freq', '%freq', 'aspect(OBJ)']]\n",
    "for token, freq in freqlist.most_common(20):\n",
    "    ratio = freq / sum(freqlist.values()) *100\n",
    "    data.append([freq, '{:.1f}%'.format(ratio), token])\n",
    "\n",
    "ipy_table.make_table(data)\n",
    "ipy_table.apply_theme('basic')"
   ]
  },
  {
   "cell_type": "code",
   "execution_count": 6,
   "metadata": {
    "collapsed": false
   },
   "outputs": [
    {
     "data": {
      "text/html": [
       "<table border=\"1\" cellpadding=\"3\" cellspacing=\"0\"  style=\"border:1px solid black;border-collapse:collapse;\"><tr><td  style=\"background-color:LightGray;\"><b>Total&nbspin&nbspCorpus</b></td><td  style=\"background-color:LightGray;\"><b>Total&nbspas&nbsptarget</b></td><td  style=\"background-color:LightGray;\"><b>Freq&nbspas&nbsptarget</b></td><td  style=\"background-color:LightGray;\"><b>aspect&nbspchunk</b></td></tr><tr><td  style=\"background-color:Ivory;\">190</td><td  style=\"background-color:Ivory;\">158</td><td  style=\"background-color:Ivory;\">83.2%</td><td  style=\"background-color:Ivory;\">food</td></tr><tr><td  style=\"background-color:AliceBlue;\">127</td><td  style=\"background-color:AliceBlue;\">117</td><td  style=\"background-color:AliceBlue;\">92.1%</td><td  style=\"background-color:AliceBlue;\">service</td></tr><tr><td  style=\"background-color:Ivory;\">135</td><td  style=\"background-color:Ivory;\">82</td><td  style=\"background-color:Ivory;\">60.7%</td><td  style=\"background-color:Ivory;\">place</td></tr><tr><td  style=\"background-color:AliceBlue;\">82</td><td  style=\"background-color:AliceBlue;\">29</td><td  style=\"background-color:AliceBlue;\">35.4%</td><td  style=\"background-color:AliceBlue;\">restaurant</td></tr><tr><td  style=\"background-color:Ivory;\">33</td><td  style=\"background-color:Ivory;\">27</td><td  style=\"background-color:Ivory;\">81.8%</td><td  style=\"background-color:Ivory;\">staff</td></tr><tr><td  style=\"background-color:AliceBlue;\">42</td><td  style=\"background-color:AliceBlue;\">26</td><td  style=\"background-color:AliceBlue;\">61.9%</td><td  style=\"background-color:AliceBlue;\">pizza</td></tr><tr><td  style=\"background-color:Ivory;\">26</td><td  style=\"background-color:Ivory;\">21</td><td  style=\"background-color:Ivory;\">80.8%</td><td  style=\"background-color:Ivory;\">atmosphere</td></tr><tr><td  style=\"background-color:AliceBlue;\">32</td><td  style=\"background-color:AliceBlue;\">20</td><td  style=\"background-color:AliceBlue;\">62.5%</td><td  style=\"background-color:AliceBlue;\">sushi</td></tr><tr><td  style=\"background-color:Ivory;\">19</td><td  style=\"background-color:Ivory;\">16</td><td  style=\"background-color:Ivory;\">84.2%</td><td  style=\"background-color:Ivory;\">decor</td></tr><tr><td  style=\"background-color:AliceBlue;\">13</td><td  style=\"background-color:AliceBlue;\">13</td><td  style=\"background-color:AliceBlue;\">100.0%</td><td  style=\"background-color:AliceBlue;\">ambience</td></tr><tr><td  style=\"background-color:Ivory;\">26</td><td  style=\"background-color:Ivory;\">12</td><td  style=\"background-color:Ivory;\">46.2%</td><td  style=\"background-color:Ivory;\">menu</td></tr><tr><td  style=\"background-color:AliceBlue;\">19</td><td  style=\"background-color:AliceBlue;\">12</td><td  style=\"background-color:AliceBlue;\">63.2%</td><td  style=\"background-color:AliceBlue;\">fish</td></tr><tr><td  style=\"background-color:Ivory;\">12</td><td  style=\"background-color:Ivory;\">10</td><td  style=\"background-color:Ivory;\">83.3%</td><td  style=\"background-color:Ivory;\">wine&nbsplist</td></tr><tr><td  style=\"background-color:AliceBlue;\">11</td><td  style=\"background-color:AliceBlue;\">10</td><td  style=\"background-color:AliceBlue;\">90.9%</td><td  style=\"background-color:AliceBlue;\">bagels</td></tr><tr><td  style=\"background-color:Ivory;\">21</td><td  style=\"background-color:Ivory;\">10</td><td  style=\"background-color:Ivory;\">47.6%</td><td  style=\"background-color:Ivory;\">dishes</td></tr><tr><td  style=\"background-color:AliceBlue;\">18</td><td  style=\"background-color:AliceBlue;\">9</td><td  style=\"background-color:AliceBlue;\">50.0%</td><td  style=\"background-color:AliceBlue;\">drinks</td></tr><tr><td  style=\"background-color:Ivory;\">12</td><td  style=\"background-color:Ivory;\">9</td><td  style=\"background-color:Ivory;\">75.0%</td><td  style=\"background-color:Ivory;\">waiter</td></tr><tr><td  style=\"background-color:AliceBlue;\">12</td><td  style=\"background-color:AliceBlue;\">9</td><td  style=\"background-color:AliceBlue;\">75.0%</td><td  style=\"background-color:AliceBlue;\">dessert</td></tr><tr><td  style=\"background-color:Ivory;\">9</td><td  style=\"background-color:Ivory;\">9</td><td  style=\"background-color:Ivory;\">100.0%</td><td  style=\"background-color:Ivory;\">portions</td></tr><tr><td  style=\"background-color:AliceBlue;\">13</td><td  style=\"background-color:AliceBlue;\">8</td><td  style=\"background-color:AliceBlue;\">61.5%</td><td  style=\"background-color:AliceBlue;\">spot</td></tr></table>"
      ],
      "text/plain": [
       "<ipy_table.IpyTable at 0x7f502c126908>"
      ]
     },
     "execution_count": 6,
     "metadata": {},
     "output_type": "execute_result"
    }
   ],
   "source": [
    "sentences = ' '.join([node.get('form').lower() for node in reviews.iter('word')])\n",
    "freqlist =  Counter([node.get('target').lower() for node in reviews.iter('Opinion') if node.get('target') != 'NULL'])\n",
    "\n",
    "data = [['Total in Corpus', 'Total as target',  'Freq as target', 'aspect chunk']]\n",
    "for token, freq in freqlist.most_common(20):\n",
    "    total = sentences.count(' ' + token + ' ')\n",
    "    ratio = freq / total * 100    \n",
    "    data.append([total, freq,'{:.1f}%'.format(ratio), token])\n",
    "\n",
    "ipy_table.make_table(data)\n",
    "ipy_table.apply_theme('basic')"
   ]
  },
  {
   "cell_type": "code",
   "execution_count": null,
   "metadata": {
    "collapsed": true
   },
   "outputs": [],
   "source": []
  }
 ],
 "metadata": {
  "kernelspec": {
   "display_name": "Python 3",
   "language": "python",
   "name": "python3"
  },
  "language_info": {
   "codemirror_mode": {
    "name": "ipython",
    "version": 3
   },
   "file_extension": ".py",
   "mimetype": "text/x-python",
   "name": "python",
   "nbconvert_exporter": "python",
   "pygments_lexer": "ipython3",
   "version": "3.5.1+"
  }
 },
 "nbformat": 4,
 "nbformat_minor": 0
}

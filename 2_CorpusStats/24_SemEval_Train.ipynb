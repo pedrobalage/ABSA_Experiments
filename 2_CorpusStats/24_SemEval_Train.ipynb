{
 "cells": [
  {
   "cell_type": "markdown",
   "metadata": {},
   "source": [
    "# Statistics in SemEval Train Corpus annotated with Stanford CoreNLP"
   ]
  },
  {
   "cell_type": "code",
   "execution_count": 1,
   "metadata": {
    "collapsed": true
   },
   "outputs": [],
   "source": [
    "from __future__ import print_function\n",
    "from __future__ import division"
   ]
  },
  {
   "cell_type": "code",
   "execution_count": 6,
   "metadata": {
    "collapsed": false
   },
   "outputs": [],
   "source": [
    "from lxml.etree import ElementTree\n",
    "reviews = ElementTree().parse('../corpus/SemEvalABSA2016EnglishRestaurants_train.xml')"
   ]
  },
  {
   "cell_type": "markdown",
   "metadata": {},
   "source": [
    "## Token Type Ratio"
   ]
  },
  {
   "cell_type": "code",
   "execution_count": 7,
   "metadata": {
    "collapsed": false
   },
   "outputs": [
    {
     "name": "stdout",
     "output_type": "stream",
     "text": [
      "Total tokens: 29524\n",
      "Total types:  3985\n",
      "Token/Type ratio:  7.4%\n"
     ]
    }
   ],
   "source": [
    "from collections import Counter\n",
    "freqlist = Counter([word_node.get('form') for word_node in reviews.iter('word')])\n",
    "\n",
    "print ('Total tokens: {}'.format(sum(freqlist.values())))\n",
    "print ('Total types:  {}'.format(len(freqlist.keys())))\n",
    "print ('Token/Type ratio:  {:.1f}%'.format(sum(freqlist.values())/len(freqlist.keys())))"
   ]
  },
  {
   "cell_type": "markdown",
   "metadata": {},
   "source": [
    "## Lexical Frequency"
   ]
  },
  {
   "cell_type": "code",
   "execution_count": 8,
   "metadata": {
    "collapsed": false
   },
   "outputs": [],
   "source": [
    "import ipy_table"
   ]
  },
  {
   "cell_type": "code",
   "execution_count": 9,
   "metadata": {
    "collapsed": false
   },
   "outputs": [
    {
     "data": {
      "text/html": [
       "<table border=\"1\" cellpadding=\"3\" cellspacing=\"0\"  style=\"border:1px solid black;border-collapse:collapse;\"><tr><td  style=\"background-color:LightGray;\"><b>Freq</b></td><td  style=\"background-color:LightGray;\"><b>%&nbspFreq</b></td><td  style=\"background-color:LightGray;\"><b>Token</b></td></tr><tr><td  style=\"background-color:Ivory;\">1701</td><td  style=\"background-color:Ivory;\">5.76%</td><td  style=\"background-color:Ivory;\">.</td></tr><tr><td  style=\"background-color:AliceBlue;\">1187</td><td  style=\"background-color:AliceBlue;\">4.02%</td><td  style=\"background-color:AliceBlue;\">the</td></tr><tr><td  style=\"background-color:Ivory;\">1037</td><td  style=\"background-color:Ivory;\">3.51%</td><td  style=\"background-color:Ivory;\">,</td></tr><tr><td  style=\"background-color:AliceBlue;\">879</td><td  style=\"background-color:AliceBlue;\">2.98%</td><td  style=\"background-color:AliceBlue;\">and</td></tr><tr><td  style=\"background-color:Ivory;\">603</td><td  style=\"background-color:Ivory;\">2.04%</td><td  style=\"background-color:Ivory;\">I</td></tr><tr><td  style=\"background-color:AliceBlue;\">589</td><td  style=\"background-color:AliceBlue;\">1.99%</td><td  style=\"background-color:AliceBlue;\">a</td></tr><tr><td  style=\"background-color:Ivory;\">532</td><td  style=\"background-color:Ivory;\">1.80%</td><td  style=\"background-color:Ivory;\">is</td></tr><tr><td  style=\"background-color:AliceBlue;\">523</td><td  style=\"background-color:AliceBlue;\">1.77%</td><td  style=\"background-color:AliceBlue;\">to</td></tr><tr><td  style=\"background-color:Ivory;\">478</td><td  style=\"background-color:Ivory;\">1.62%</td><td  style=\"background-color:Ivory;\">was</td></tr><tr><td  style=\"background-color:AliceBlue;\">357</td><td  style=\"background-color:AliceBlue;\">1.21%</td><td  style=\"background-color:AliceBlue;\">of</td></tr><tr><td  style=\"background-color:Ivory;\">345</td><td  style=\"background-color:Ivory;\">1.17%</td><td  style=\"background-color:Ivory;\">The</td></tr><tr><td  style=\"background-color:AliceBlue;\">336</td><td  style=\"background-color:AliceBlue;\">1.14%</td><td  style=\"background-color:AliceBlue;\">it</td></tr><tr><td  style=\"background-color:Ivory;\">302</td><td  style=\"background-color:Ivory;\">1.02%</td><td  style=\"background-color:Ivory;\">for</td></tr><tr><td  style=\"background-color:AliceBlue;\">291</td><td  style=\"background-color:AliceBlue;\">0.99%</td><td  style=\"background-color:AliceBlue;\">in</td></tr><tr><td  style=\"background-color:Ivory;\">277</td><td  style=\"background-color:Ivory;\">0.94%</td><td  style=\"background-color:Ivory;\">food</td></tr><tr><td  style=\"background-color:AliceBlue;\">218</td><td  style=\"background-color:AliceBlue;\">0.74%</td><td  style=\"background-color:AliceBlue;\">you</td></tr><tr><td  style=\"background-color:Ivory;\">205</td><td  style=\"background-color:Ivory;\">0.69%</td><td  style=\"background-color:Ivory;\">but</td></tr><tr><td  style=\"background-color:AliceBlue;\">204</td><td  style=\"background-color:AliceBlue;\">0.69%</td><td  style=\"background-color:AliceBlue;\">place</td></tr><tr><td  style=\"background-color:Ivory;\">199</td><td  style=\"background-color:Ivory;\">0.67%</td><td  style=\"background-color:Ivory;\">!</td></tr><tr><td  style=\"background-color:AliceBlue;\">189</td><td  style=\"background-color:AliceBlue;\">0.64%</td><td  style=\"background-color:AliceBlue;\">that</td></tr><tr><td  style=\"background-color:Ivory;\">180</td><td  style=\"background-color:Ivory;\">0.61%</td><td  style=\"background-color:Ivory;\">not</td></tr><tr><td  style=\"background-color:AliceBlue;\">174</td><td  style=\"background-color:AliceBlue;\">0.59%</td><td  style=\"background-color:AliceBlue;\">this</td></tr><tr><td  style=\"background-color:Ivory;\">174</td><td  style=\"background-color:Ivory;\">0.59%</td><td  style=\"background-color:Ivory;\">good</td></tr><tr><td  style=\"background-color:AliceBlue;\">171</td><td  style=\"background-color:AliceBlue;\">0.58%</td><td  style=\"background-color:AliceBlue;\">with</td></tr><tr><td  style=\"background-color:Ivory;\">169</td><td  style=\"background-color:Ivory;\">0.57%</td><td  style=\"background-color:Ivory;\">on</td></tr><tr><td  style=\"background-color:AliceBlue;\">168</td><td  style=\"background-color:AliceBlue;\">0.57%</td><td  style=\"background-color:AliceBlue;\">n't</td></tr><tr><td  style=\"background-color:Ivory;\">166</td><td  style=\"background-color:Ivory;\">0.56%</td><td  style=\"background-color:Ivory;\">we</td></tr><tr><td  style=\"background-color:AliceBlue;\">161</td><td  style=\"background-color:AliceBlue;\">0.55%</td><td  style=\"background-color:AliceBlue;\">great</td></tr><tr><td  style=\"background-color:Ivory;\">147</td><td  style=\"background-color:Ivory;\">0.50%</td><td  style=\"background-color:Ivory;\">have</td></tr><tr><td  style=\"background-color:AliceBlue;\">147</td><td  style=\"background-color:AliceBlue;\">0.50%</td><td  style=\"background-color:AliceBlue;\">are</td></tr></table>"
      ],
      "text/plain": [
       "<ipy_table.IpyTable at 0x7f8a0ddac898>"
      ]
     },
     "execution_count": 9,
     "metadata": {},
     "output_type": "execute_result"
    }
   ],
   "source": [
    "freqlist = Counter([word_node.get('form') for word_node in reviews.iter('word')])\n",
    "\n",
    "data = [['Freq', '% Freq', 'Token']]\n",
    "for token, freq in freqlist.most_common(30):\n",
    "    ratio = freq / sum(freqlist.values()) * 100\n",
    "    data.append( [freq, '{:.2f}%'.format(ratio), token])\n",
    "    \n",
    "ipy_table.make_table(data)\n",
    "ipy_table.apply_theme('basic')"
   ]
  },
  {
   "cell_type": "code",
   "execution_count": 10,
   "metadata": {
    "collapsed": false
   },
   "outputs": [
    {
     "data": {
      "text/html": [
       "<table border=\"1\" cellpadding=\"3\" cellspacing=\"0\"  style=\"border:1px solid black;border-collapse:collapse;\"><tr><td  style=\"background-color:LightGray;\"><b>Freq</b></td><td  style=\"background-color:LightGray;\"><b>%&nbspFreq</b></td><td  style=\"background-color:LightGray;\"><b>LowerCase&nbspToken</b></td></tr><tr><td  style=\"background-color:Ivory;\">1701</td><td  style=\"background-color:Ivory;\">5.76%</td><td  style=\"background-color:Ivory;\">.</td></tr><tr><td  style=\"background-color:AliceBlue;\">1540</td><td  style=\"background-color:AliceBlue;\">5.22%</td><td  style=\"background-color:AliceBlue;\">the</td></tr><tr><td  style=\"background-color:Ivory;\">1037</td><td  style=\"background-color:Ivory;\">3.51%</td><td  style=\"background-color:Ivory;\">,</td></tr><tr><td  style=\"background-color:AliceBlue;\">894</td><td  style=\"background-color:AliceBlue;\">3.03%</td><td  style=\"background-color:AliceBlue;\">and</td></tr><tr><td  style=\"background-color:Ivory;\">655</td><td  style=\"background-color:Ivory;\">2.22%</td><td  style=\"background-color:Ivory;\">i</td></tr><tr><td  style=\"background-color:AliceBlue;\">620</td><td  style=\"background-color:AliceBlue;\">2.10%</td><td  style=\"background-color:AliceBlue;\">a</td></tr><tr><td  style=\"background-color:Ivory;\">534</td><td  style=\"background-color:Ivory;\">1.81%</td><td  style=\"background-color:Ivory;\">is</td></tr><tr><td  style=\"background-color:AliceBlue;\">530</td><td  style=\"background-color:AliceBlue;\">1.80%</td><td  style=\"background-color:AliceBlue;\">to</td></tr><tr><td  style=\"background-color:Ivory;\">483</td><td  style=\"background-color:Ivory;\">1.64%</td><td  style=\"background-color:Ivory;\">was</td></tr><tr><td  style=\"background-color:AliceBlue;\">393</td><td  style=\"background-color:AliceBlue;\">1.33%</td><td  style=\"background-color:AliceBlue;\">it</td></tr><tr><td  style=\"background-color:Ivory;\">359</td><td  style=\"background-color:Ivory;\">1.22%</td><td  style=\"background-color:Ivory;\">of</td></tr><tr><td  style=\"background-color:AliceBlue;\">317</td><td  style=\"background-color:AliceBlue;\">1.07%</td><td  style=\"background-color:AliceBlue;\">for</td></tr><tr><td  style=\"background-color:Ivory;\">303</td><td  style=\"background-color:Ivory;\">1.03%</td><td  style=\"background-color:Ivory;\">in</td></tr><tr><td  style=\"background-color:AliceBlue;\">294</td><td  style=\"background-color:AliceBlue;\">1.00%</td><td  style=\"background-color:AliceBlue;\">food</td></tr><tr><td  style=\"background-color:Ivory;\">263</td><td  style=\"background-color:Ivory;\">0.89%</td><td  style=\"background-color:Ivory;\">we</td></tr><tr><td  style=\"background-color:AliceBlue;\">248</td><td  style=\"background-color:AliceBlue;\">0.84%</td><td  style=\"background-color:AliceBlue;\">this</td></tr><tr><td  style=\"background-color:Ivory;\">240</td><td  style=\"background-color:Ivory;\">0.81%</td><td  style=\"background-color:Ivory;\">you</td></tr><tr><td  style=\"background-color:AliceBlue;\">225</td><td  style=\"background-color:AliceBlue;\">0.76%</td><td  style=\"background-color:AliceBlue;\">but</td></tr><tr><td  style=\"background-color:Ivory;\">209</td><td  style=\"background-color:Ivory;\">0.71%</td><td  style=\"background-color:Ivory;\">place</td></tr><tr><td  style=\"background-color:AliceBlue;\">201</td><td  style=\"background-color:AliceBlue;\">0.68%</td><td  style=\"background-color:AliceBlue;\">not</td></tr><tr><td  style=\"background-color:Ivory;\">199</td><td  style=\"background-color:Ivory;\">0.67%</td><td  style=\"background-color:Ivory;\">!</td></tr><tr><td  style=\"background-color:AliceBlue;\">198</td><td  style=\"background-color:AliceBlue;\">0.67%</td><td  style=\"background-color:AliceBlue;\">great</td></tr><tr><td  style=\"background-color:Ivory;\">191</td><td  style=\"background-color:Ivory;\">0.65%</td><td  style=\"background-color:Ivory;\">that</td></tr><tr><td  style=\"background-color:AliceBlue;\">185</td><td  style=\"background-color:AliceBlue;\">0.63%</td><td  style=\"background-color:AliceBlue;\">good</td></tr><tr><td  style=\"background-color:Ivory;\">183</td><td  style=\"background-color:Ivory;\">0.62%</td><td  style=\"background-color:Ivory;\">my</td></tr><tr><td  style=\"background-color:AliceBlue;\">176</td><td  style=\"background-color:AliceBlue;\">0.60%</td><td  style=\"background-color:AliceBlue;\">with</td></tr><tr><td  style=\"background-color:Ivory;\">175</td><td  style=\"background-color:Ivory;\">0.59%</td><td  style=\"background-color:Ivory;\">on</td></tr><tr><td  style=\"background-color:AliceBlue;\">169</td><td  style=\"background-color:AliceBlue;\">0.57%</td><td  style=\"background-color:AliceBlue;\">service</td></tr><tr><td  style=\"background-color:Ivory;\">168</td><td  style=\"background-color:Ivory;\">0.57%</td><td  style=\"background-color:Ivory;\">n't</td></tr><tr><td  style=\"background-color:AliceBlue;\">156</td><td  style=\"background-color:AliceBlue;\">0.53%</td><td  style=\"background-color:AliceBlue;\">have</td></tr></table>"
      ],
      "text/plain": [
       "<ipy_table.IpyTable at 0x7f8a0ddabeb8>"
      ]
     },
     "execution_count": 10,
     "metadata": {},
     "output_type": "execute_result"
    }
   ],
   "source": [
    "freqlist = Counter([word_node.get('form').lower() for word_node in reviews.iter('word')])\n",
    "\n",
    "data = [['Freq', '% Freq', 'LowerCase Token']]\n",
    "for token, freq in freqlist.most_common(30):\n",
    "    ratio = freq / sum(freqlist.values()) * 100\n",
    "    data.append( [freq, '{:.2f}%'.format(ratio), token])\n",
    "\n",
    "ipy_table.make_table(data)\n",
    "ipy_table.apply_theme('basic')"
   ]
  },
  {
   "cell_type": "markdown",
   "metadata": {},
   "source": [
    "## Lemma Frequency"
   ]
  },
  {
   "cell_type": "code",
   "execution_count": 11,
   "metadata": {
    "collapsed": false
   },
   "outputs": [
    {
     "data": {
      "text/html": [
       "<table border=\"1\" cellpadding=\"3\" cellspacing=\"0\"  style=\"border:1px solid black;border-collapse:collapse;\"><tr><td  style=\"background-color:LightGray;\"><b>Freq</b></td><td  style=\"background-color:LightGray;\"><b>%&nbspFreq</b></td><td  style=\"background-color:LightGray;\"><b>Lemma</b></td></tr><tr><td  style=\"background-color:Ivory;\">1701</td><td  style=\"background-color:Ivory;\">5.76%</td><td  style=\"background-color:Ivory;\">.</td></tr><tr><td  style=\"background-color:AliceBlue;\">1654</td><td  style=\"background-color:AliceBlue;\">5.60%</td><td  style=\"background-color:AliceBlue;\">be</td></tr><tr><td  style=\"background-color:Ivory;\">1540</td><td  style=\"background-color:Ivory;\">5.22%</td><td  style=\"background-color:Ivory;\">the</td></tr><tr><td  style=\"background-color:AliceBlue;\">1037</td><td  style=\"background-color:AliceBlue;\">3.51%</td><td  style=\"background-color:AliceBlue;\">,</td></tr><tr><td  style=\"background-color:Ivory;\">894</td><td  style=\"background-color:Ivory;\">3.03%</td><td  style=\"background-color:Ivory;\">and</td></tr><tr><td  style=\"background-color:AliceBlue;\">706</td><td  style=\"background-color:AliceBlue;\">2.39%</td><td  style=\"background-color:AliceBlue;\">i</td></tr><tr><td  style=\"background-color:Ivory;\">681</td><td  style=\"background-color:Ivory;\">2.31%</td><td  style=\"background-color:Ivory;\">a</td></tr><tr><td  style=\"background-color:AliceBlue;\">530</td><td  style=\"background-color:AliceBlue;\">1.80%</td><td  style=\"background-color:AliceBlue;\">to</td></tr><tr><td  style=\"background-color:Ivory;\">400</td><td  style=\"background-color:Ivory;\">1.35%</td><td  style=\"background-color:Ivory;\">have</td></tr><tr><td  style=\"background-color:AliceBlue;\">393</td><td  style=\"background-color:AliceBlue;\">1.33%</td><td  style=\"background-color:AliceBlue;\">it</td></tr><tr><td  style=\"background-color:Ivory;\">383</td><td  style=\"background-color:Ivory;\">1.30%</td><td  style=\"background-color:Ivory;\">we</td></tr><tr><td  style=\"background-color:AliceBlue;\">369</td><td  style=\"background-color:AliceBlue;\">1.25%</td><td  style=\"background-color:AliceBlue;\">not</td></tr><tr><td  style=\"background-color:Ivory;\">359</td><td  style=\"background-color:Ivory;\">1.22%</td><td  style=\"background-color:Ivory;\">of</td></tr><tr><td  style=\"background-color:AliceBlue;\">317</td><td  style=\"background-color:AliceBlue;\">1.07%</td><td  style=\"background-color:AliceBlue;\">for</td></tr><tr><td  style=\"background-color:Ivory;\">303</td><td  style=\"background-color:Ivory;\">1.03%</td><td  style=\"background-color:Ivory;\">in</td></tr><tr><td  style=\"background-color:AliceBlue;\">299</td><td  style=\"background-color:AliceBlue;\">1.01%</td><td  style=\"background-color:AliceBlue;\">you</td></tr><tr><td  style=\"background-color:Ivory;\">296</td><td  style=\"background-color:Ivory;\">1.00%</td><td  style=\"background-color:Ivory;\">food</td></tr><tr><td  style=\"background-color:AliceBlue;\">248</td><td  style=\"background-color:AliceBlue;\">0.84%</td><td  style=\"background-color:AliceBlue;\">this</td></tr><tr><td  style=\"background-color:Ivory;\">227</td><td  style=\"background-color:Ivory;\">0.77%</td><td  style=\"background-color:Ivory;\">place</td></tr><tr><td  style=\"background-color:AliceBlue;\">225</td><td  style=\"background-color:AliceBlue;\">0.76%</td><td  style=\"background-color:AliceBlue;\">but</td></tr><tr><td  style=\"background-color:Ivory;\">199</td><td  style=\"background-color:Ivory;\">0.67%</td><td  style=\"background-color:Ivory;\">!</td></tr><tr><td  style=\"background-color:AliceBlue;\">198</td><td  style=\"background-color:AliceBlue;\">0.67%</td><td  style=\"background-color:AliceBlue;\">great</td></tr><tr><td  style=\"background-color:Ivory;\">193</td><td  style=\"background-color:Ivory;\">0.65%</td><td  style=\"background-color:Ivory;\">they</td></tr><tr><td  style=\"background-color:AliceBlue;\">192</td><td  style=\"background-color:AliceBlue;\">0.65%</td><td  style=\"background-color:AliceBlue;\">that</td></tr><tr><td  style=\"background-color:Ivory;\">185</td><td  style=\"background-color:Ivory;\">0.63%</td><td  style=\"background-color:Ivory;\">good</td></tr><tr><td  style=\"background-color:AliceBlue;\">183</td><td  style=\"background-color:AliceBlue;\">0.62%</td><td  style=\"background-color:AliceBlue;\">go</td></tr><tr><td  style=\"background-color:Ivory;\">183</td><td  style=\"background-color:Ivory;\">0.62%</td><td  style=\"background-color:Ivory;\">my</td></tr><tr><td  style=\"background-color:AliceBlue;\">176</td><td  style=\"background-color:AliceBlue;\">0.60%</td><td  style=\"background-color:AliceBlue;\">with</td></tr><tr><td  style=\"background-color:Ivory;\">175</td><td  style=\"background-color:Ivory;\">0.59%</td><td  style=\"background-color:Ivory;\">on</td></tr><tr><td  style=\"background-color:AliceBlue;\">169</td><td  style=\"background-color:AliceBlue;\">0.57%</td><td  style=\"background-color:AliceBlue;\">service</td></tr></table>"
      ],
      "text/plain": [
       "<ipy_table.IpyTable at 0x7f8a0ddad400>"
      ]
     },
     "execution_count": 11,
     "metadata": {},
     "output_type": "execute_result"
    }
   ],
   "source": [
    "freqlist = Counter([word_node.get('base').lower() for word_node in reviews.iter('word')])\n",
    "\n",
    "data = [['Freq', '% Freq', 'Lemma']]\n",
    "for token, freq in freqlist.most_common(30):\n",
    "    ratio = freq / sum(freqlist.values()) * 100\n",
    "    data.append( [freq, '{:.2f}%'.format(ratio), token])\n",
    "\n",
    "ipy_table.make_table(data)\n",
    "ipy_table.apply_theme('basic')"
   ]
  },
  {
   "cell_type": "markdown",
   "metadata": {},
   "source": [
    "## Part-of-Speach Frequency"
   ]
  },
  {
   "cell_type": "code",
   "execution_count": 12,
   "metadata": {
    "collapsed": false
   },
   "outputs": [],
   "source": [
    "from operator import itemgetter\n",
    "postag_freq = dict()\n",
    "freqlist = dict()\n",
    "\n",
    "for word_node in reviews.iter('word'):\n",
    "    form = word_node.get('form').lower()\n",
    "    postag = word_node.get('postag')\n",
    "    \n",
    "    postag_freq[postag] = postag_freq.get(postag, 0) + 1\n",
    "    if postag not in freqlist:\n",
    "        freqlist[postag] = dict()\n",
    "    freqlist[postag][form] = freqlist[postag].get(form, 0) + 1 "
   ]
  },
  {
   "cell_type": "code",
   "execution_count": 13,
   "metadata": {
    "collapsed": false
   },
   "outputs": [
    {
     "data": {
      "text/html": [
       "<table border=\"1\" cellpadding=\"3\" cellspacing=\"0\"  style=\"border:1px solid black;border-collapse:collapse;\"><tr><td  style=\"background-color:LightGray;\"><b>FREQ</b></td><td  style=\"background-color:LightGray;\"><b>%&nbspFREQ</b></td><td  style=\"background-color:LightGray;\"><b>POSTAG</b></td><td  style=\"background-color:LightGray;\"><b>EXAMPLES</b></td></tr><tr><td  style=\"background-color:Ivory;\">4187</td><td  style=\"background-color:Ivory;\">14.2%</td><td  style=\"background-color:Ivory;\">NN</td><td  style=\"background-color:Ivory;\">food(6.6%),&nbspplace(4.9%),&nbspservice(3.3%),&nbsprestaurant(2.7%),&nbsptime(1.5%)</td></tr><tr><td  style=\"background-color:AliceBlue;\">2778</td><td  style=\"background-color:AliceBlue;\">9.4%</td><td  style=\"background-color:AliceBlue;\">DT</td><td  style=\"background-color:AliceBlue;\">the(55.3%),&nbspa(22.3%),&nbspthis(8.8%),&nbspall(2.8%),&nbspan(2.2%)</td></tr><tr><td  style=\"background-color:Ivory;\">2710</td><td  style=\"background-color:Ivory;\">9.2%</td><td  style=\"background-color:Ivory;\">JJ</td><td  style=\"background-color:Ivory;\">great(7.1%),&nbspgood(6.8%),&nbspdelicious(2.1%),&nbspnice(1.8%),&nbspexcellent(1.7%)</td></tr><tr><td  style=\"background-color:AliceBlue;\">2398</td><td  style=\"background-color:AliceBlue;\">8.1%</td><td  style=\"background-color:AliceBlue;\">IN</td><td  style=\"background-color:AliceBlue;\">of(15.0%),&nbspfor(13.2%),&nbspin(12.6%),&nbspwith(7.3%),&nbspon(7.3%)</td></tr><tr><td  style=\"background-color:Ivory;\">2059</td><td  style=\"background-color:Ivory;\">7.0%</td><td  style=\"background-color:Ivory;\">RB</td><td  style=\"background-color:Ivory;\">not(9.7%),&nbspn't(8.2%),&nbspvery(5.9%),&nbspso(4.5%),&nbsphere(3.7%)</td></tr><tr><td  style=\"background-color:AliceBlue;\">1921</td><td  style=\"background-color:AliceBlue;\">6.5%</td><td  style=\"background-color:AliceBlue;\">.</td><td  style=\"background-color:AliceBlue;\">.(88.5%),&nbsp!(10.4%),&nbsp?(1.1%)</td></tr><tr><td  style=\"background-color:Ivory;\">1815</td><td  style=\"background-color:Ivory;\">6.1%</td><td  style=\"background-color:Ivory;\">PRP</td><td  style=\"background-color:Ivory;\">i(33.2%),&nbspit(21.7%),&nbspwe(14.5%),&nbspyou(13.2%),&nbspthey(6.8%)</td></tr><tr><td  style=\"background-color:AliceBlue;\">1331</td><td  style=\"background-color:AliceBlue;\">4.5%</td><td  style=\"background-color:AliceBlue;\">VBD</td><td  style=\"background-color:AliceBlue;\">was(36.3%),&nbspwere(10.7%),&nbsphad(9.4%),&nbspdid(3.2%),&nbspwent(3.1%)</td></tr><tr><td  style=\"background-color:Ivory;\">1214</td><td  style=\"background-color:Ivory;\">4.1%</td><td  style=\"background-color:Ivory;\">CC</td><td  style=\"background-color:Ivory;\">and(73.6%),&nbspbut(18.3%),&nbspor(5.8%),&nbspboth(0.7%),&nbspeither(0.7%)</td></tr><tr><td  style=\"background-color:AliceBlue;\">1037</td><td  style=\"background-color:AliceBlue;\">3.5%</td><td  style=\"background-color:AliceBlue;\">,</td><td  style=\"background-color:AliceBlue;\">,(100.0%)</td></tr><tr><td  style=\"background-color:Ivory;\">1022</td><td  style=\"background-color:Ivory;\">3.5%</td><td  style=\"background-color:Ivory;\">VB</td><td  style=\"background-color:Ivory;\">be(11.2%),&nbspgo(8.3%),&nbspget(4.7%),&nbsphave(4.2%),&nbsptry(3.6%)</td></tr><tr><td  style=\"background-color:AliceBlue;\">884</td><td  style=\"background-color:AliceBlue;\">3.0%</td><td  style=\"background-color:AliceBlue;\">NNS</td><td  style=\"background-color:AliceBlue;\">restaurants(4.0%),&nbspprices(3.8%),&nbsptimes(3.8%),&nbspdishes(3.4%),&nbsppeople(3.3%)</td></tr><tr><td  style=\"background-color:Ivory;\">867</td><td  style=\"background-color:Ivory;\">2.9%</td><td  style=\"background-color:Ivory;\">NNP</td><td  style=\"background-color:Ivory;\">service(3.3%),&nbspnew(2.4%),&nbspthai(2.4%),&nbspnyc(2.3%),&nbspyork(2.1%)</td></tr><tr><td  style=\"background-color:AliceBlue;\">829</td><td  style=\"background-color:AliceBlue;\">2.8%</td><td  style=\"background-color:AliceBlue;\">VBZ</td><td  style=\"background-color:AliceBlue;\">is(64.4%),&nbsp's(9.8%),&nbsphas(5.3%),&nbspdoes(2.3%),&nbspmakes(1.1%)</td></tr><tr><td  style=\"background-color:Ivory;\">731</td><td  style=\"background-color:Ivory;\">2.5%</td><td  style=\"background-color:Ivory;\">VBP</td><td  style=\"background-color:Ivory;\">are(20.2%),&nbsphave(15.5%),&nbspdo(8.5%),&nbsp've(6.6%),&nbsp're(4.1%)</td></tr><tr><td  style=\"background-color:AliceBlue;\">530</td><td  style=\"background-color:AliceBlue;\">1.8%</td><td  style=\"background-color:AliceBlue;\">TO</td><td  style=\"background-color:AliceBlue;\">to(100.0%)</td></tr><tr><td  style=\"background-color:Ivory;\">460</td><td  style=\"background-color:Ivory;\">1.6%</td><td  style=\"background-color:Ivory;\">VBN</td><td  style=\"background-color:Ivory;\">been(12.6%),&nbsphad(4.1%),&nbspmade(3.9%),&nbspeaten(3.5%),&nbsppriced(2.6%)</td></tr><tr><td  style=\"background-color:AliceBlue;\">405</td><td  style=\"background-color:AliceBlue;\">1.4%</td><td  style=\"background-color:AliceBlue;\">PRP$</td><td  style=\"background-color:AliceBlue;\">my(44.7%),&nbspour(17.3%),&nbspyour(14.6%),&nbsptheir(13.3%),&nbspits(4.9%)</td></tr><tr><td  style=\"background-color:Ivory;\">333</td><td  style=\"background-color:Ivory;\">1.1%</td><td  style=\"background-color:Ivory;\">MD</td><td  style=\"background-color:Ivory;\">would(24.0%),&nbspcan(17.4%),&nbspwill(16.2%),&nbspca(8.1%),&nbspcould(8.1%)</td></tr><tr><td  style=\"background-color:AliceBlue;\">300</td><td  style=\"background-color:AliceBlue;\">1.0%</td><td  style=\"background-color:AliceBlue;\">VBG</td><td  style=\"background-color:AliceBlue;\">going(10.0%),&nbspbeing(6.7%),&nbsplooking(4.3%),&nbspeating(3.0%),&nbsptrying(2.7%)</td></tr><tr><td  style=\"background-color:Ivory;\">271</td><td  style=\"background-color:Ivory;\">0.9%</td><td  style=\"background-color:Ivory;\">CD</td><td  style=\"background-color:Ivory;\">one(24.4%),&nbsptwo(8.9%),&nbsp2(5.2%),&nbspfour(4.4%),&nbsp3(3.7%)</td></tr><tr><td  style=\"background-color:AliceBlue;\">249</td><td  style=\"background-color:AliceBlue;\">0.8%</td><td  style=\"background-color:AliceBlue;\">:</td><td  style=\"background-color:AliceBlue;\">...(38.2%),&nbsp-(30.9%),&nbsp:(12.0%),&nbsp--(10.0%),&nbsp;(7.6%)</td></tr><tr><td  style=\"background-color:Ivory;\">130</td><td  style=\"background-color:Ivory;\">0.4%</td><td  style=\"background-color:Ivory;\">WDT</td><td  style=\"background-color:Ivory;\">which(53.8%),&nbspthat(40.8%),&nbspwhat(4.6%),&nbspwhatever(0.8%)</td></tr><tr><td  style=\"background-color:AliceBlue;\">115</td><td  style=\"background-color:AliceBlue;\">0.4%</td><td  style=\"background-color:AliceBlue;\">JJS</td><td  style=\"background-color:AliceBlue;\">best(53.9%),&nbspmost(13.9%),&nbspleast(12.2%),&nbspworst(7.8%),&nbspnicest(2.6%)</td></tr><tr><td  style=\"background-color:Ivory;\">98</td><td  style=\"background-color:Ivory;\">0.3%</td><td  style=\"background-color:Ivory;\">-RRB-</td><td  style=\"background-color:Ivory;\">-rrb-(100.0%)</td></tr><tr><td  style=\"background-color:AliceBlue;\">91</td><td  style=\"background-color:AliceBlue;\">0.3%</td><td  style=\"background-color:AliceBlue;\">-LRB-</td><td  style=\"background-color:AliceBlue;\">-lrb-(100.0%)</td></tr><tr><td  style=\"background-color:Ivory;\">90</td><td  style=\"background-color:Ivory;\">0.3%</td><td  style=\"background-color:Ivory;\">WRB</td><td  style=\"background-color:Ivory;\">when(60.0%),&nbsphow(21.1%),&nbspwhere(15.6%),&nbspwhy(2.2%),&nbspwherever(1.1%)</td></tr><tr><td  style=\"background-color:AliceBlue;\">87</td><td  style=\"background-color:AliceBlue;\">0.3%</td><td  style=\"background-color:AliceBlue;\">RP</td><td  style=\"background-color:AliceBlue;\">out(40.2%),&nbspup(36.8%),&nbspoff(11.5%),&nbspdown(8.0%),&nbspaway(2.3%)</td></tr><tr><td  style=\"background-color:Ivory;\">80</td><td  style=\"background-color:Ivory;\">0.3%</td><td  style=\"background-color:Ivory;\">WP</td><td  style=\"background-color:Ivory;\">what(55.0%),&nbspwho(41.2%),&nbspwhom(2.5%),&nbspwhoever(1.2%)</td></tr><tr><td  style=\"background-color:AliceBlue;\">71</td><td  style=\"background-color:AliceBlue;\">0.2%</td><td  style=\"background-color:AliceBlue;\">JJR</td><td  style=\"background-color:AliceBlue;\">more(38.0%),&nbspbetter(32.4%),&nbspless(5.6%),&nbspcheaper(2.8%),&nbspbigger(2.8%)</td></tr><tr><td  style=\"background-color:Ivory;\">66</td><td  style=\"background-color:Ivory;\">0.2%</td><td  style=\"background-color:Ivory;\">FW</td><td  style=\"background-color:Ivory;\">i(60.6%),&nbspentree(13.6%),&nbspetc.(4.5%),&nbspalla(3.0%),&nbspcarte(3.0%)</td></tr><tr><td  style=\"background-color:AliceBlue;\">64</td><td  style=\"background-color:AliceBlue;\">0.2%</td><td  style=\"background-color:AliceBlue;\">EX</td><td  style=\"background-color:AliceBlue;\">there(100.0%)</td></tr><tr><td  style=\"background-color:Ivory;\">54</td><td  style=\"background-color:Ivory;\">0.2%</td><td  style=\"background-color:Ivory;\">POS</td><td  style=\"background-color:Ivory;\">'s(98.1%),&nbsp'(1.9%)</td></tr><tr><td  style=\"background-color:AliceBlue;\">50</td><td  style=\"background-color:AliceBlue;\">0.2%</td><td  style=\"background-color:AliceBlue;\">RBR</td><td  style=\"background-color:AliceBlue;\">more(62.0%),&nbspbetter(18.0%),&nbspless(8.0%),&nbspearlier(4.0%),&nbspfurther(2.0%)</td></tr><tr><td  style=\"background-color:Ivory;\">48</td><td  style=\"background-color:Ivory;\">0.2%</td><td  style=\"background-color:Ivory;\">$</td><td  style=\"background-color:Ivory;\">$(100.0%)</td></tr><tr><td  style=\"background-color:AliceBlue;\">30</td><td  style=\"background-color:AliceBlue;\">0.1%</td><td  style=\"background-color:AliceBlue;\">PDT</td><td  style=\"background-color:AliceBlue;\">all(70.0%),&nbspsuch(23.3%),&nbsphalf(6.7%)</td></tr><tr><td  style=\"background-color:Ivory;\">26</td><td  style=\"background-color:Ivory;\">0.1%</td><td  style=\"background-color:Ivory;\">''</td><td  style=\"background-color:Ivory;\">''(76.9%),&nbsp'(23.1%)</td></tr><tr><td  style=\"background-color:AliceBlue;\">24</td><td  style=\"background-color:AliceBlue;\">0.1%</td><td  style=\"background-color:AliceBlue;\">``</td><td  style=\"background-color:AliceBlue;\">``(70.8%),&nbsp`(29.2%)</td></tr><tr><td  style=\"background-color:Ivory;\">18</td><td  style=\"background-color:Ivory;\">0.1%</td><td  style=\"background-color:Ivory;\">UH</td><td  style=\"background-color:Ivory;\">yes(44.4%),&nbspoh(27.8%),&nbspwow(16.7%),&nbsphey(5.6%),&nbspyeah(5.6%)</td></tr><tr><td  style=\"background-color:AliceBlue;\">16</td><td  style=\"background-color:AliceBlue;\">0.1%</td><td  style=\"background-color:AliceBlue;\">NNPS</td><td  style=\"background-color:AliceBlue;\">seasons(31.2%),&nbspfarms(12.5%),&nbsptoons(12.5%),&nbspyorkers(6.2%),&nbsptapas(6.2%)</td></tr><tr><td  style=\"background-color:Ivory;\">15</td><td  style=\"background-color:Ivory;\">0.1%</td><td  style=\"background-color:Ivory;\">LS</td><td  style=\"background-color:Ivory;\">i(80.0%),&nbspe(6.7%),&nbsp2(6.7%),&nbsp1(6.7%)</td></tr><tr><td  style=\"background-color:AliceBlue;\">14</td><td  style=\"background-color:AliceBlue;\">0.0%</td><td  style=\"background-color:AliceBlue;\">RBS</td><td  style=\"background-color:AliceBlue;\">most(100.0%)</td></tr><tr><td  style=\"background-color:Ivory;\">5</td><td  style=\"background-color:Ivory;\">0.0%</td><td  style=\"background-color:Ivory;\">SYM</td><td  style=\"background-color:Ivory;\">*(80.0%),&nbspyum(20.0%)</td></tr><tr><td  style=\"background-color:AliceBlue;\">1</td><td  style=\"background-color:AliceBlue;\">0.0%</td><td  style=\"background-color:AliceBlue;\">#</td><td  style=\"background-color:AliceBlue;\">#(100.0%)</td></tr></table>"
      ],
      "text/plain": [
       "<ipy_table.IpyTable at 0x7f8a0ddac8d0>"
      ]
     },
     "execution_count": 13,
     "metadata": {},
     "output_type": "execute_result"
    }
   ],
   "source": [
    "data = [['FREQ', '% FREQ', 'POSTAG', 'EXAMPLES']]\n",
    "\n",
    "for pos, freq in sorted(postag_freq.items(), key=itemgetter(1), reverse=True):\n",
    "    examples = ', '.join(['{}({:.1f}%)'.format(w,f / sum(freqlist[pos].values()) * 100) \n",
    "                          for w,f in sorted(freqlist[pos].items(), key=itemgetter(1), reverse=True)[:5]])\n",
    "    ratio = freq / sum(postag_freq.values()) * 100\n",
    "    data.append([freq, '{:.1f}%'.format(ratio), pos, examples])\n",
    "\n",
    "ipy_table.make_table(data)\n",
    "ipy_table.apply_theme('basic')"
   ]
  },
  {
   "cell_type": "markdown",
   "metadata": {},
   "source": [
    "## Dependency relation frequency"
   ]
  },
  {
   "cell_type": "code",
   "execution_count": 14,
   "metadata": {
    "collapsed": false
   },
   "outputs": [
    {
     "data": {
      "text/html": [
       "<table border=\"1\" cellpadding=\"3\" cellspacing=\"0\"  style=\"border:1px solid black;border-collapse:collapse;\"><tr><td  style=\"background-color:LightGray;\"><b>FREQ</b></td><td  style=\"background-color:LightGray;\"><b>%&nbspFREQ</b></td><td  style=\"background-color:LightGray;\"><b>deprel</b></td><td  style=\"background-color:LightGray;\"><b>EXAMPLES</b></td></tr><tr><td  style=\"background-color:Ivory;\">3446</td><td  style=\"background-color:Ivory;\">11.7%</td><td  style=\"background-color:Ivory;\">punct</td><td  style=\"background-color:Ivory;\">.(49.4%),&nbsp,(30.1%),&nbsp!(5.8%),&nbsp-rrb-(2.8%),&nbsp...(2.8%)</td></tr><tr><td  style=\"background-color:AliceBlue;\">2925</td><td  style=\"background-color:AliceBlue;\">9.9%</td><td  style=\"background-color:AliceBlue;\">nsubj</td><td  style=\"background-color:AliceBlue;\">i(20.3%),&nbspit(8.2%),&nbspwe(8.1%),&nbspyou(6.8%),&nbspfood(4.5%)</td></tr><tr><td  style=\"background-color:Ivory;\">2532</td><td  style=\"background-color:Ivory;\">8.6%</td><td  style=\"background-color:Ivory;\">det</td><td  style=\"background-color:Ivory;\">the(60.5%),&nbspa(24.2%),&nbspthis(7.2%),&nbspan(2.4%),&nbspsome(1.2%)</td></tr><tr><td  style=\"background-color:AliceBlue;\">2060</td><td  style=\"background-color:AliceBlue;\">7.0%</td><td  style=\"background-color:AliceBlue;\">root</td><td  style=\"background-color:AliceBlue;\">good(2.5%),&nbsphad(2.4%),&nbspgo(2.1%),&nbspplace(1.9%),&nbspwent(1.7%)</td></tr><tr><td  style=\"background-color:Ivory;\">2060</td><td  style=\"background-color:Ivory;\">7.0%</td><td  style=\"background-color:Ivory;\">case</td><td  style=\"background-color:Ivory;\">of(16.7%),&nbspfor(14.1%),&nbspin(14.0%),&nbspto(8.3%),&nbspwith(8.3%)</td></tr><tr><td  style=\"background-color:AliceBlue;\">1847</td><td  style=\"background-color:AliceBlue;\">6.3%</td><td  style=\"background-color:AliceBlue;\">nmod</td><td  style=\"background-color:AliceBlue;\">food(2.7%),&nbspplace(2.2%),&nbsprestaurant(1.9%),&nbspit(1.8%),&nbsprestaurants(1.4%)</td></tr><tr><td  style=\"background-color:Ivory;\">1760</td><td  style=\"background-color:Ivory;\">6.0%</td><td  style=\"background-color:Ivory;\">advmod</td><td  style=\"background-color:Ivory;\">very(6.9%),&nbspso(5.3%),&nbsphere(4.2%),&nbspjust(4.1%),&nbspback(3.1%)</td></tr><tr><td  style=\"background-color:AliceBlue;\">1594</td><td  style=\"background-color:AliceBlue;\">5.4%</td><td  style=\"background-color:AliceBlue;\">amod</td><td  style=\"background-color:AliceBlue;\">great(8.3%),&nbspgood(5.1%),&nbspbest(2.8%),&nbspother(2.1%),&nbspnice(1.6%)</td></tr><tr><td  style=\"background-color:Ivory;\">1275</td><td  style=\"background-color:Ivory;\">4.3%</td><td  style=\"background-color:Ivory;\">cop</td><td  style=\"background-color:Ivory;\">is(35.9%),&nbspwas(31.1%),&nbspare(8.8%),&nbspwere(6.8%),&nbspbe(5.6%)</td></tr><tr><td  style=\"background-color:AliceBlue;\">1240</td><td  style=\"background-color:AliceBlue;\">4.2%</td><td  style=\"background-color:AliceBlue;\">conj</td><td  style=\"background-color:AliceBlue;\">service(2.7%),&nbspi(2.2%),&nbsphad(1.8%),&nbspgood(1.4%),&nbsphave(1.3%)</td></tr><tr><td  style=\"background-color:Ivory;\">1196</td><td  style=\"background-color:Ivory;\">4.1%</td><td  style=\"background-color:Ivory;\">cc</td><td  style=\"background-color:Ivory;\">and(74.5%),&nbspbut(18.2%),&nbspor(5.9%),&nbsp+(0.3%),&nbspas(0.3%)</td></tr><tr><td  style=\"background-color:AliceBlue;\">1151</td><td  style=\"background-color:AliceBlue;\">3.9%</td><td  style=\"background-color:AliceBlue;\">dobj</td><td  style=\"background-color:AliceBlue;\">it(7.6%),&nbspfood(3.1%),&nbspplace(2.9%),&nbspwhat(2.7%),&nbsptime(1.7%)</td></tr><tr><td  style=\"background-color:Ivory;\">944</td><td  style=\"background-color:Ivory;\">3.2%</td><td  style=\"background-color:Ivory;\">compound</td><td  style=\"background-color:Ivory;\">new(2.2%),&nbspwine(2.0%),&nbspsushi(1.8%),&nbspfood(1.7%),&nbspthai(1.4%)</td></tr><tr><td  style=\"background-color:AliceBlue;\">778</td><td  style=\"background-color:AliceBlue;\">2.6%</td><td  style=\"background-color:AliceBlue;\">mark</td><td  style=\"background-color:AliceBlue;\">to(45.4%),&nbspif(10.3%),&nbspthat(8.2%),&nbspas(5.3%),&nbspbecause(3.7%)</td></tr><tr><td  style=\"background-color:Ivory;\">713</td><td  style=\"background-color:Ivory;\">2.4%</td><td  style=\"background-color:Ivory;\">aux</td><td  style=\"background-color:Ivory;\">have(11.2%),&nbspwould(11.2%),&nbspdo(8.3%),&nbspcan(7.7%),&nbspwill(7.4%)</td></tr><tr><td  style=\"background-color:AliceBlue;\">483</td><td  style=\"background-color:AliceBlue;\">1.6%</td><td  style=\"background-color:AliceBlue;\">dep</td><td  style=\"background-color:AliceBlue;\">all(2.5%),&nbspworth(1.7%),&nbspgreat(1.2%),&nbspfresh(1.2%),&nbspthough(1.2%)</td></tr><tr><td  style=\"background-color:Ivory;\">450</td><td  style=\"background-color:Ivory;\">1.5%</td><td  style=\"background-color:Ivory;\">neg</td><td  style=\"background-color:Ivory;\">not(41.1%),&nbspn't(37.1%),&nbspno(10.9%),&nbspnever(10.9%)</td></tr><tr><td  style=\"background-color:AliceBlue;\">425</td><td  style=\"background-color:AliceBlue;\">1.4%</td><td  style=\"background-color:AliceBlue;\">nmod:poss</td><td  style=\"background-color:AliceBlue;\">my(42.1%),&nbspour(16.5%),&nbspyour(13.4%),&nbsptheir(12.5%),&nbspits(4.2%)</td></tr><tr><td  style=\"background-color:Ivory;\">401</td><td  style=\"background-color:Ivory;\">1.4%</td><td  style=\"background-color:Ivory;\">xcomp</td><td  style=\"background-color:Ivory;\">go(3.7%),&nbspwait(2.5%),&nbsptry(2.2%),&nbsporder(2.2%),&nbspeat(2.2%)</td></tr><tr><td  style=\"background-color:AliceBlue;\">387</td><td  style=\"background-color:AliceBlue;\">1.3%</td><td  style=\"background-color:AliceBlue;\">advcl</td><td  style=\"background-color:AliceBlue;\">came(2.3%),&nbsplooking(2.1%),&nbspgo(1.8%),&nbspgot(1.6%),&nbspgreat(1.3%)</td></tr><tr><td  style=\"background-color:Ivory;\">367</td><td  style=\"background-color:Ivory;\">1.2%</td><td  style=\"background-color:Ivory;\">ccomp</td><td  style=\"background-color:Ivory;\">had(3.5%),&nbsphave(3.0%),&nbspfeel(3.0%),&nbspgo(2.5%),&nbspgood(1.9%)</td></tr><tr><td  style=\"background-color:AliceBlue;\">321</td><td  style=\"background-color:AliceBlue;\">1.1%</td><td  style=\"background-color:AliceBlue;\">acl:relcl</td><td  style=\"background-color:AliceBlue;\">had(5.9%),&nbsphave(2.8%),&nbspgreat(2.8%),&nbspgood(2.8%),&nbspordered(1.2%)</td></tr><tr><td  style=\"background-color:Ivory;\">178</td><td  style=\"background-color:Ivory;\">0.6%</td><td  style=\"background-color:Ivory;\">nummod</td><td  style=\"background-color:Ivory;\">one(11.2%),&nbsptwo(10.7%),&nbsp2(6.7%),&nbspfour(5.1%),&nbsp3(3.9%)</td></tr><tr><td  style=\"background-color:AliceBlue;\">168</td><td  style=\"background-color:AliceBlue;\">0.6%</td><td  style=\"background-color:AliceBlue;\">auxpass</td><td  style=\"background-color:AliceBlue;\">was(29.8%),&nbspwere(19.0%),&nbspbe(17.3%),&nbspis(14.3%),&nbspbeen(5.4%)</td></tr><tr><td  style=\"background-color:Ivory;\">155</td><td  style=\"background-color:Ivory;\">0.5%</td><td  style=\"background-color:Ivory;\">acl</td><td  style=\"background-color:Ivory;\">go(7.7%),&nbspeat(3.9%),&nbspget(2.6%),&nbspmake(2.6%),&nbsplisted(1.9%)</td></tr><tr><td  style=\"background-color:AliceBlue;\">138</td><td  style=\"background-color:AliceBlue;\">0.5%</td><td  style=\"background-color:AliceBlue;\">nsubjpass</td><td  style=\"background-color:AliceBlue;\">we(15.2%),&nbspi(13.8%),&nbspit(10.1%),&nbspyou(6.5%),&nbspthat(5.1%)</td></tr><tr><td  style=\"background-color:Ivory;\">98</td><td  style=\"background-color:Ivory;\">0.3%</td><td  style=\"background-color:Ivory;\">compound:prt</td><td  style=\"background-color:Ivory;\">out(33.7%),&nbspup(33.7%),&nbspoff(10.2%),&nbspdown(9.2%),&nbspin(4.1%)</td></tr><tr><td  style=\"background-color:AliceBlue;\">94</td><td  style=\"background-color:AliceBlue;\">0.3%</td><td  style=\"background-color:AliceBlue;\">appos</td><td  style=\"background-color:AliceBlue;\">service(6.4%),&nbspnothing(5.3%),&nbspfood(4.3%),&nbspstaff(3.2%),&nbspsushi(2.1%)</td></tr><tr><td  style=\"background-color:Ivory;\">81</td><td  style=\"background-color:Ivory;\">0.3%</td><td  style=\"background-color:Ivory;\">parataxis</td><td  style=\"background-color:Ivory;\">delicious(4.9%),&nbsphave(3.7%),&nbsphad(3.7%),&nbspmore(2.5%),&nbspwent(2.5%)</td></tr><tr><td  style=\"background-color:AliceBlue;\">54</td><td  style=\"background-color:AliceBlue;\">0.2%</td><td  style=\"background-color:AliceBlue;\">expl</td><td  style=\"background-color:AliceBlue;\">there(100.0%)</td></tr><tr><td  style=\"background-color:Ivory;\">43</td><td  style=\"background-color:Ivory;\">0.1%</td><td  style=\"background-color:Ivory;\">nmod:npmod</td><td  style=\"background-color:Ivory;\">least(16.3%),&nbspbit(11.6%),&nbspeach(9.3%),&nbspit(7.0%),&nbsplot(4.7%)</td></tr><tr><td  style=\"background-color:AliceBlue;\">39</td><td  style=\"background-color:AliceBlue;\">0.1%</td><td  style=\"background-color:AliceBlue;\">nmod:tmod</td><td  style=\"background-color:AliceBlue;\">night(25.6%),&nbsptime(15.4%),&nbsptimes(15.4%),&nbspweek(10.3%),&nbspminutes(5.1%)</td></tr><tr><td  style=\"background-color:Ivory;\">33</td><td  style=\"background-color:Ivory;\">0.1%</td><td  style=\"background-color:Ivory;\">det:predet</td><td  style=\"background-color:Ivory;\">all(66.7%),&nbspsuch(27.3%),&nbsphalf(6.1%)</td></tr><tr><td  style=\"background-color:AliceBlue;\">32</td><td  style=\"background-color:AliceBlue;\">0.1%</td><td  style=\"background-color:AliceBlue;\">mwe</td><td  style=\"background-color:AliceBlue;\">than(34.4%),&nbspwell(34.4%),&nbspof(12.5%),&nbspas(12.5%),&nbspif(6.2%)</td></tr><tr><td  style=\"background-color:Ivory;\">22</td><td  style=\"background-color:Ivory;\">0.1%</td><td  style=\"background-color:Ivory;\">csubj</td><td  style=\"background-color:Ivory;\">had(13.6%),&nbspgoing(9.1%),&nbsphave(9.1%),&nbspgood(4.5%),&nbspoffered(4.5%)</td></tr><tr><td  style=\"background-color:AliceBlue;\">19</td><td  style=\"background-color:AliceBlue;\">0.1%</td><td  style=\"background-color:AliceBlue;\">iobj</td><td  style=\"background-color:AliceBlue;\">it(31.6%),&nbspus(21.1%),&nbspme(15.8%),&nbspthem(10.5%),&nbspyou(10.5%)</td></tr><tr><td  style=\"background-color:Ivory;\">10</td><td  style=\"background-color:Ivory;\">0.0%</td><td  style=\"background-color:Ivory;\">cc:preconj</td><td  style=\"background-color:Ivory;\">both(50.0%),&nbspeither(30.0%),&nbsponly(20.0%)</td></tr><tr><td  style=\"background-color:AliceBlue;\">3</td><td  style=\"background-color:AliceBlue;\">0.0%</td><td  style=\"background-color:AliceBlue;\">discourse</td><td  style=\"background-color:AliceBlue;\">yes(66.7%),&nbsphas(33.3%)</td></tr><tr><td  style=\"background-color:Ivory;\">2</td><td  style=\"background-color:Ivory;\">0.0%</td><td  style=\"background-color:Ivory;\">csubjpass</td><td  style=\"background-color:Ivory;\">go(50.0%),&nbspeat(50.0%)</td></tr></table>"
      ],
      "text/plain": [
       "<ipy_table.IpyTable at 0x7f8a0ddabc88>"
      ]
     },
     "execution_count": 14,
     "metadata": {},
     "output_type": "execute_result"
    }
   ],
   "source": [
    "from operator import itemgetter\n",
    "deprel_freq = dict()\n",
    "freqlist = dict()\n",
    "\n",
    "for word_node in reviews.iter('word'):\n",
    "    form = word_node.get('form').lower()\n",
    "    deprel = word_node.get('deprel')\n",
    "    \n",
    "    deprel_freq[deprel] = deprel_freq.get(deprel, 0) + 1\n",
    "    if deprel not in freqlist:\n",
    "        freqlist[deprel] = dict()\n",
    "    freqlist[deprel][form] = freqlist[deprel].get(form, 0) + 1 \n",
    "    \n",
    "data = [['FREQ', '% FREQ', 'deprel', 'EXAMPLES']]\n",
    "\n",
    "for deprel, freq in sorted(deprel_freq.items(), key=itemgetter(1), reverse=True):\n",
    "    examples = ', '.join(['{}({:.1f}%)'.format(w,f / sum(freqlist[deprel].values()) * 100) \n",
    "                          for w,f in sorted(freqlist[deprel].items(), key=itemgetter(1), reverse=True)[:5]])\n",
    "    ratio = freq / sum(deprel_freq.values()) * 100\n",
    "    data.append([freq, '{:.1f}%'.format(ratio), deprel, examples])\n",
    "\n",
    "ipy_table.make_table(data)\n",
    "ipy_table.apply_theme('basic')"
   ]
  },
  {
   "cell_type": "markdown",
   "metadata": {},
   "source": [
    "## Dependency Root frequency"
   ]
  },
  {
   "cell_type": "code",
   "execution_count": 20,
   "metadata": {
    "collapsed": false
   },
   "outputs": [
    {
     "data": {
      "text/html": [
       "<table border=\"1\" cellpadding=\"3\" cellspacing=\"0\"  style=\"border:1px solid black;border-collapse:collapse;\"><tr><td  style=\"background-color:LightGray;\"><b>FREQ</b></td><td  style=\"background-color:LightGray;\"><b>%&nbspFREQ</b></td><td  style=\"background-color:LightGray;\"><b>deprel</b></td><td  style=\"background-color:LightGray;\"><b>EXAMPLES</b></td></tr><tr><td  style=\"background-color:Ivory;\">3446</td><td  style=\"background-color:Ivory;\">11.7%</td><td  style=\"background-color:Ivory;\">punct</td><td  style=\"background-color:Ivory;\">.(49.4%),&nbsp,(30.1%),&nbsp!(5.8%),&nbsp-rrb-(2.8%),&nbsp...(2.8%)</td></tr><tr><td  style=\"background-color:AliceBlue;\">2925</td><td  style=\"background-color:AliceBlue;\">9.9%</td><td  style=\"background-color:AliceBlue;\">nsubj</td><td  style=\"background-color:AliceBlue;\">i(20.3%),&nbspit(8.2%),&nbspwe(8.1%),&nbspyou(6.8%),&nbspfood(4.5%)</td></tr><tr><td  style=\"background-color:Ivory;\">2532</td><td  style=\"background-color:Ivory;\">8.6%</td><td  style=\"background-color:Ivory;\">det</td><td  style=\"background-color:Ivory;\">the(60.5%),&nbspa(24.2%),&nbspthis(7.2%),&nbspan(2.4%),&nbspsome(1.2%)</td></tr><tr><td  style=\"background-color:AliceBlue;\">2060</td><td  style=\"background-color:AliceBlue;\">7.0%</td><td  style=\"background-color:AliceBlue;\">root</td><td  style=\"background-color:AliceBlue;\">good(2.5%),&nbsphad(2.4%),&nbspgo(2.1%),&nbspplace(1.9%),&nbspwent(1.7%)</td></tr><tr><td  style=\"background-color:Ivory;\">2060</td><td  style=\"background-color:Ivory;\">7.0%</td><td  style=\"background-color:Ivory;\">case</td><td  style=\"background-color:Ivory;\">of(16.7%),&nbspfor(14.1%),&nbspin(14.0%),&nbspto(8.3%),&nbspwith(8.3%)</td></tr><tr><td  style=\"background-color:AliceBlue;\">1847</td><td  style=\"background-color:AliceBlue;\">6.3%</td><td  style=\"background-color:AliceBlue;\">nmod</td><td  style=\"background-color:AliceBlue;\">food(2.7%),&nbspplace(2.2%),&nbsprestaurant(1.9%),&nbspit(1.8%),&nbsprestaurants(1.4%)</td></tr><tr><td  style=\"background-color:Ivory;\">1760</td><td  style=\"background-color:Ivory;\">6.0%</td><td  style=\"background-color:Ivory;\">advmod</td><td  style=\"background-color:Ivory;\">very(6.9%),&nbspso(5.3%),&nbsphere(4.2%),&nbspjust(4.1%),&nbspback(3.1%)</td></tr><tr><td  style=\"background-color:AliceBlue;\">1594</td><td  style=\"background-color:AliceBlue;\">5.4%</td><td  style=\"background-color:AliceBlue;\">amod</td><td  style=\"background-color:AliceBlue;\">great(8.3%),&nbspgood(5.1%),&nbspbest(2.8%),&nbspother(2.1%),&nbspnice(1.6%)</td></tr><tr><td  style=\"background-color:Ivory;\">1275</td><td  style=\"background-color:Ivory;\">4.3%</td><td  style=\"background-color:Ivory;\">cop</td><td  style=\"background-color:Ivory;\">is(35.9%),&nbspwas(31.1%),&nbspare(8.8%),&nbspwere(6.8%),&nbspbe(5.6%)</td></tr><tr><td  style=\"background-color:AliceBlue;\">1240</td><td  style=\"background-color:AliceBlue;\">4.2%</td><td  style=\"background-color:AliceBlue;\">conj</td><td  style=\"background-color:AliceBlue;\">service(2.7%),&nbspi(2.2%),&nbsphad(1.8%),&nbspgood(1.4%),&nbsphave(1.3%)</td></tr><tr><td  style=\"background-color:Ivory;\">1196</td><td  style=\"background-color:Ivory;\">4.1%</td><td  style=\"background-color:Ivory;\">cc</td><td  style=\"background-color:Ivory;\">and(74.5%),&nbspbut(18.2%),&nbspor(5.9%),&nbsp+(0.3%),&nbspas(0.3%)</td></tr><tr><td  style=\"background-color:AliceBlue;\">1151</td><td  style=\"background-color:AliceBlue;\">3.9%</td><td  style=\"background-color:AliceBlue;\">dobj</td><td  style=\"background-color:AliceBlue;\">it(7.6%),&nbspfood(3.1%),&nbspplace(2.9%),&nbspwhat(2.7%),&nbsptime(1.7%)</td></tr><tr><td  style=\"background-color:Ivory;\">944</td><td  style=\"background-color:Ivory;\">3.2%</td><td  style=\"background-color:Ivory;\">compound</td><td  style=\"background-color:Ivory;\">new(2.2%),&nbspwine(2.0%),&nbspsushi(1.8%),&nbspfood(1.7%),&nbspthai(1.4%)</td></tr><tr><td  style=\"background-color:AliceBlue;\">778</td><td  style=\"background-color:AliceBlue;\">2.6%</td><td  style=\"background-color:AliceBlue;\">mark</td><td  style=\"background-color:AliceBlue;\">to(45.4%),&nbspif(10.3%),&nbspthat(8.2%),&nbspas(5.3%),&nbspbecause(3.7%)</td></tr><tr><td  style=\"background-color:Ivory;\">713</td><td  style=\"background-color:Ivory;\">2.4%</td><td  style=\"background-color:Ivory;\">aux</td><td  style=\"background-color:Ivory;\">have(11.2%),&nbspwould(11.2%),&nbspdo(8.3%),&nbspcan(7.7%),&nbspwill(7.4%)</td></tr><tr><td  style=\"background-color:AliceBlue;\">483</td><td  style=\"background-color:AliceBlue;\">1.6%</td><td  style=\"background-color:AliceBlue;\">dep</td><td  style=\"background-color:AliceBlue;\">all(2.5%),&nbspworth(1.7%),&nbspgreat(1.2%),&nbspfresh(1.2%),&nbspthough(1.2%)</td></tr><tr><td  style=\"background-color:Ivory;\">450</td><td  style=\"background-color:Ivory;\">1.5%</td><td  style=\"background-color:Ivory;\">neg</td><td  style=\"background-color:Ivory;\">not(41.1%),&nbspn't(37.1%),&nbspno(10.9%),&nbspnever(10.9%)</td></tr><tr><td  style=\"background-color:AliceBlue;\">425</td><td  style=\"background-color:AliceBlue;\">1.4%</td><td  style=\"background-color:AliceBlue;\">nmod:poss</td><td  style=\"background-color:AliceBlue;\">my(42.1%),&nbspour(16.5%),&nbspyour(13.4%),&nbsptheir(12.5%),&nbspits(4.2%)</td></tr><tr><td  style=\"background-color:Ivory;\">401</td><td  style=\"background-color:Ivory;\">1.4%</td><td  style=\"background-color:Ivory;\">xcomp</td><td  style=\"background-color:Ivory;\">go(3.7%),&nbspwait(2.5%),&nbsptry(2.2%),&nbsporder(2.2%),&nbspeat(2.2%)</td></tr><tr><td  style=\"background-color:AliceBlue;\">387</td><td  style=\"background-color:AliceBlue;\">1.3%</td><td  style=\"background-color:AliceBlue;\">advcl</td><td  style=\"background-color:AliceBlue;\">came(2.3%),&nbsplooking(2.1%),&nbspgo(1.8%),&nbspgot(1.6%),&nbspgreat(1.3%)</td></tr><tr><td  style=\"background-color:Ivory;\">367</td><td  style=\"background-color:Ivory;\">1.2%</td><td  style=\"background-color:Ivory;\">ccomp</td><td  style=\"background-color:Ivory;\">had(3.5%),&nbsphave(3.0%),&nbspfeel(3.0%),&nbspgo(2.5%),&nbspgood(1.9%)</td></tr><tr><td  style=\"background-color:AliceBlue;\">321</td><td  style=\"background-color:AliceBlue;\">1.1%</td><td  style=\"background-color:AliceBlue;\">acl:relcl</td><td  style=\"background-color:AliceBlue;\">had(5.9%),&nbsphave(2.8%),&nbspgreat(2.8%),&nbspgood(2.8%),&nbspordered(1.2%)</td></tr><tr><td  style=\"background-color:Ivory;\">178</td><td  style=\"background-color:Ivory;\">0.6%</td><td  style=\"background-color:Ivory;\">nummod</td><td  style=\"background-color:Ivory;\">one(11.2%),&nbsptwo(10.7%),&nbsp2(6.7%),&nbspfour(5.1%),&nbsp3(3.9%)</td></tr><tr><td  style=\"background-color:AliceBlue;\">168</td><td  style=\"background-color:AliceBlue;\">0.6%</td><td  style=\"background-color:AliceBlue;\">auxpass</td><td  style=\"background-color:AliceBlue;\">was(29.8%),&nbspwere(19.0%),&nbspbe(17.3%),&nbspis(14.3%),&nbspbeen(5.4%)</td></tr><tr><td  style=\"background-color:Ivory;\">155</td><td  style=\"background-color:Ivory;\">0.5%</td><td  style=\"background-color:Ivory;\">acl</td><td  style=\"background-color:Ivory;\">go(7.7%),&nbspeat(3.9%),&nbspget(2.6%),&nbspmake(2.6%),&nbsplisted(1.9%)</td></tr><tr><td  style=\"background-color:AliceBlue;\">138</td><td  style=\"background-color:AliceBlue;\">0.5%</td><td  style=\"background-color:AliceBlue;\">nsubjpass</td><td  style=\"background-color:AliceBlue;\">we(15.2%),&nbspi(13.8%),&nbspit(10.1%),&nbspyou(6.5%),&nbspthat(5.1%)</td></tr><tr><td  style=\"background-color:Ivory;\">98</td><td  style=\"background-color:Ivory;\">0.3%</td><td  style=\"background-color:Ivory;\">compound:prt</td><td  style=\"background-color:Ivory;\">out(33.7%),&nbspup(33.7%),&nbspoff(10.2%),&nbspdown(9.2%),&nbspin(4.1%)</td></tr><tr><td  style=\"background-color:AliceBlue;\">94</td><td  style=\"background-color:AliceBlue;\">0.3%</td><td  style=\"background-color:AliceBlue;\">appos</td><td  style=\"background-color:AliceBlue;\">service(6.4%),&nbspnothing(5.3%),&nbspfood(4.3%),&nbspstaff(3.2%),&nbspsushi(2.1%)</td></tr><tr><td  style=\"background-color:Ivory;\">81</td><td  style=\"background-color:Ivory;\">0.3%</td><td  style=\"background-color:Ivory;\">parataxis</td><td  style=\"background-color:Ivory;\">delicious(4.9%),&nbsphave(3.7%),&nbsphad(3.7%),&nbspmore(2.5%),&nbspwent(2.5%)</td></tr><tr><td  style=\"background-color:AliceBlue;\">54</td><td  style=\"background-color:AliceBlue;\">0.2%</td><td  style=\"background-color:AliceBlue;\">expl</td><td  style=\"background-color:AliceBlue;\">there(100.0%)</td></tr><tr><td  style=\"background-color:Ivory;\">43</td><td  style=\"background-color:Ivory;\">0.1%</td><td  style=\"background-color:Ivory;\">nmod:npmod</td><td  style=\"background-color:Ivory;\">least(16.3%),&nbspbit(11.6%),&nbspeach(9.3%),&nbspit(7.0%),&nbsplot(4.7%)</td></tr><tr><td  style=\"background-color:AliceBlue;\">39</td><td  style=\"background-color:AliceBlue;\">0.1%</td><td  style=\"background-color:AliceBlue;\">nmod:tmod</td><td  style=\"background-color:AliceBlue;\">night(25.6%),&nbsptime(15.4%),&nbsptimes(15.4%),&nbspweek(10.3%),&nbspminutes(5.1%)</td></tr><tr><td  style=\"background-color:Ivory;\">33</td><td  style=\"background-color:Ivory;\">0.1%</td><td  style=\"background-color:Ivory;\">det:predet</td><td  style=\"background-color:Ivory;\">all(66.7%),&nbspsuch(27.3%),&nbsphalf(6.1%)</td></tr><tr><td  style=\"background-color:AliceBlue;\">32</td><td  style=\"background-color:AliceBlue;\">0.1%</td><td  style=\"background-color:AliceBlue;\">mwe</td><td  style=\"background-color:AliceBlue;\">than(34.4%),&nbspwell(34.4%),&nbspof(12.5%),&nbspas(12.5%),&nbspif(6.2%)</td></tr><tr><td  style=\"background-color:Ivory;\">22</td><td  style=\"background-color:Ivory;\">0.1%</td><td  style=\"background-color:Ivory;\">csubj</td><td  style=\"background-color:Ivory;\">had(13.6%),&nbspgoing(9.1%),&nbsphave(9.1%),&nbspgood(4.5%),&nbspoffered(4.5%)</td></tr><tr><td  style=\"background-color:AliceBlue;\">19</td><td  style=\"background-color:AliceBlue;\">0.1%</td><td  style=\"background-color:AliceBlue;\">iobj</td><td  style=\"background-color:AliceBlue;\">it(31.6%),&nbspus(21.1%),&nbspme(15.8%),&nbspthem(10.5%),&nbspyou(10.5%)</td></tr><tr><td  style=\"background-color:Ivory;\">10</td><td  style=\"background-color:Ivory;\">0.0%</td><td  style=\"background-color:Ivory;\">cc:preconj</td><td  style=\"background-color:Ivory;\">both(50.0%),&nbspeither(30.0%),&nbsponly(20.0%)</td></tr><tr><td  style=\"background-color:AliceBlue;\">3</td><td  style=\"background-color:AliceBlue;\">0.0%</td><td  style=\"background-color:AliceBlue;\">discourse</td><td  style=\"background-color:AliceBlue;\">yes(66.7%),&nbsphas(33.3%)</td></tr><tr><td  style=\"background-color:Ivory;\">2</td><td  style=\"background-color:Ivory;\">0.0%</td><td  style=\"background-color:Ivory;\">csubjpass</td><td  style=\"background-color:Ivory;\">go(50.0%),&nbspeat(50.0%)</td></tr></table>"
      ],
      "text/plain": [
       "<ipy_table.IpyTable at 0x7f8a0dd17be0>"
      ]
     },
     "execution_count": 20,
     "metadata": {},
     "output_type": "execute_result"
    }
   ],
   "source": [
    "from operator import itemgetter\n",
    "deprel_freq = dict()\n",
    "freqlist = dict()\n",
    "\n",
    "for word_node in reviews.iter('word'):\n",
    "    form = word_node.get('form').lower()\n",
    "    deprel = word_node.get('deprel')\n",
    "    \n",
    "    deprel_freq[deprel] = deprel_freq.get(deprel, 0) + 1\n",
    "    if deprel not in freqlist:\n",
    "        freqlist[deprel] = dict()\n",
    "    freqlist[deprel][form] = freqlist[deprel].get(form, 0) + 1 \n",
    "    \n",
    "data = [['FREQ', '% FREQ', 'deprel', 'EXAMPLES']]\n",
    "\n",
    "for deprel, freq in sorted(deprel_freq.items(), key=itemgetter(1), reverse=True):\n",
    "    examples = ', '.join(['{}({:.1f}%)'.format(w,f / sum(freqlist[deprel].values()) * 100) \n",
    "                          for w,f in sorted(freqlist[deprel].items(), key=itemgetter(1), reverse=True)[:5]])\n",
    "    ratio = freq / sum(deprel_freq.values()) * 100\n",
    "    data.append([freq, '{:.1f}%'.format(ratio), deprel, examples])\n",
    "\n",
    "ipy_table.make_table(data)\n",
    "ipy_table.apply_theme('basic')"
   ]
  },
  {
   "cell_type": "markdown",
   "metadata": {},
   "source": [
    "## Named Entities Frequency"
   ]
  },
  {
   "cell_type": "code",
   "execution_count": 21,
   "metadata": {
    "collapsed": false
   },
   "outputs": [
    {
     "data": {
      "text/html": [
       "<table border=\"1\" cellpadding=\"3\" cellspacing=\"0\"  style=\"border:1px solid black;border-collapse:collapse;\"><tr><td  style=\"background-color:LightGray;\"><b>FREQ</b></td><td  style=\"background-color:LightGray;\"><b>%&nbspFREQ</b></td><td  style=\"background-color:LightGray;\"><b>NAMED&nbspENTITY</b></td><td  style=\"background-color:LightGray;\"><b>EXAMPLES</b></td></tr><tr><td  style=\"background-color:Ivory;\">28239</td><td  style=\"background-color:Ivory;\">95.6%</td><td  style=\"background-color:Ivory;\">O</td><td  style=\"background-color:Ivory;\">.(6.0%),&nbspthe(5.4%),&nbsp,(3.7%),&nbspand(3.2%),&nbspi(2.3%)</td></tr><tr><td  style=\"background-color:AliceBlue;\">200</td><td  style=\"background-color:AliceBlue;\">0.7%</td><td  style=\"background-color:AliceBlue;\">LOCATION</td><td  style=\"background-color:AliceBlue;\">new(10.0%),&nbspyork(9.0%),&nbspmanhattan(6.5%),&nbspbrooklyn(5.0%),&nbspny(3.0%)</td></tr><tr><td  style=\"background-color:Ivory;\">186</td><td  style=\"background-color:Ivory;\">0.6%</td><td  style=\"background-color:Ivory;\">NUMBER</td><td  style=\"background-color:Ivory;\">one(36.0%),&nbsptwo(11.3%),&nbspfour(5.9%),&nbsp2(5.4%),&nbspthree(4.3%)</td></tr><tr><td  style=\"background-color:AliceBlue;\">153</td><td  style=\"background-color:AliceBlue;\">0.5%</td><td  style=\"background-color:AliceBlue;\">DURATION</td><td  style=\"background-color:AliceBlue;\">minutes(10.5%),&nbspyears(10.5%),&nbspday(7.2%),&nbspthe(5.9%),&nbsphour(4.6%)</td></tr><tr><td  style=\"background-color:Ivory;\">140</td><td  style=\"background-color:Ivory;\">0.5%</td><td  style=\"background-color:Ivory;\">DATE</td><td  style=\"background-color:Ivory;\">once(14.3%),&nbspsaturday(7.1%),&nbspnow(7.1%),&nbspthe(7.1%),&nbsplast(5.0%)</td></tr><tr><td  style=\"background-color:AliceBlue;\">135</td><td  style=\"background-color:AliceBlue;\">0.5%</td><td  style=\"background-color:AliceBlue;\">MISC</td><td  style=\"background-color:AliceBlue;\">thai(15.6%),&nbspindian(14.8%),&nbspjapanese(9.6%),&nbspitalian(6.7%),&nbspchinese(5.9%)</td></tr><tr><td  style=\"background-color:Ivory;\">132</td><td  style=\"background-color:Ivory;\">0.4%</td><td  style=\"background-color:Ivory;\">PERSON</td><td  style=\"background-color:Ivory;\">suan(4.5%),&nbspmizu(3.8%),&nbspdokebi(3.0%),&nbspla(3.0%),&nbspsaul(3.0%)</td></tr><tr><td  style=\"background-color:AliceBlue;\">100</td><td  style=\"background-color:AliceBlue;\">0.3%</td><td  style=\"background-color:AliceBlue;\">MONEY</td><td  style=\"background-color:AliceBlue;\">$(48.0%),&nbsp500(4.0%),&nbsp60(3.0%),&nbsp2(3.0%),&nbsp10(3.0%)</td></tr><tr><td  style=\"background-color:Ivory;\">83</td><td  style=\"background-color:Ivory;\">0.3%</td><td  style=\"background-color:Ivory;\">TIME</td><td  style=\"background-color:Ivory;\">night(37.3%),&nbspevening(15.7%),&nbsplast(9.6%),&nbspafternoon(6.0%),&nbsplate(6.0%)</td></tr><tr><td  style=\"background-color:AliceBlue;\">83</td><td  style=\"background-color:AliceBlue;\">0.3%</td><td  style=\"background-color:AliceBlue;\">ORGANIZATION</td><td  style=\"background-color:AliceBlue;\">la(7.2%),&nbspcasa(6.0%),&nbspfemme(6.0%),&nbspflatbush(4.8%),&nbspspice(2.4%)</td></tr><tr><td  style=\"background-color:Ivory;\">43</td><td  style=\"background-color:Ivory;\">0.1%</td><td  style=\"background-color:Ivory;\">ORDINAL</td><td  style=\"background-color:Ivory;\">first(55.8%),&nbspthird(4.7%),&nbsp23rd(4.7%),&nbsp2nd(4.7%),&nbsp1st(4.7%)</td></tr><tr><td  style=\"background-color:AliceBlue;\">24</td><td  style=\"background-color:AliceBlue;\">0.1%</td><td  style=\"background-color:AliceBlue;\">SET</td><td  style=\"background-color:AliceBlue;\">every(25.0%),&nbspweekends(12.5%),&nbspweek(12.5%),&nbspminutes(8.3%),&nbspthe(4.2%)</td></tr><tr><td  style=\"background-color:Ivory;\">6</td><td  style=\"background-color:Ivory;\">0.0%</td><td  style=\"background-color:Ivory;\">PERCENT</td><td  style=\"background-color:Ivory;\">%(50.0%),&nbsp99(16.7%),&nbsp100(16.7%),&nbsp10(16.7%)</td></tr></table>"
      ],
      "text/plain": [
       "<ipy_table.IpyTable at 0x7f8a0ddc54e0>"
      ]
     },
     "execution_count": 21,
     "metadata": {},
     "output_type": "execute_result"
    }
   ],
   "source": [
    "from operator import itemgetter\n",
    "ne_freq = dict()\n",
    "freqlist = dict()\n",
    "\n",
    "for word_node in reviews.iter('word'):\n",
    "    form = word_node.get('form').lower()\n",
    "    ne = word_node.get('ner')\n",
    "    \n",
    "    ne_freq[ne] = ne_freq.get(ne, 0) + 1\n",
    "    if ne not in freqlist:\n",
    "        freqlist[ne] = dict()\n",
    "    freqlist[ne][form] = freqlist[ne].get(form, 0) + 1 \n",
    "    \n",
    "data = [['FREQ', '% FREQ', 'NAMED ENTITY', 'EXAMPLES']]\n",
    "\n",
    "for ne, freq in sorted(ne_freq.items(), key=itemgetter(1), reverse=True):\n",
    "    examples = ', '.join(['{}({:.1f}%)'.format(w,f / sum(freqlist[ne].values()) * 100) \n",
    "                          for w,f in sorted(freqlist[ne].items(), key=itemgetter(1), reverse=True)[:5]])\n",
    "    ratio = freq / sum(ne_freq.values()) * 100\n",
    "    data.append([freq, '{:.1f}%'.format(ratio), ne, examples])\n",
    "\n",
    "ipy_table.make_table(data)\n",
    "ipy_table.apply_theme('basic')"
   ]
  },
  {
   "cell_type": "markdown",
   "metadata": {
    "collapsed": true
   },
   "source": [
    "## Aspect Frequency"
   ]
  },
  {
   "cell_type": "code",
   "execution_count": 16,
   "metadata": {
    "collapsed": false
   },
   "outputs": [
    {
     "data": {
      "text/html": [
       "<table border=\"1\" cellpadding=\"3\" cellspacing=\"0\"  style=\"border:1px solid black;border-collapse:collapse;\"><tr><td  style=\"background-color:LightGray;\"><b>freq</b></td><td  style=\"background-color:LightGray;\"><b>%freq</b></td><td  style=\"background-color:LightGray;\"><b>unigram&nbspaspect</b></td></tr><tr><td  style=\"background-color:Ivory;\">953</td><td  style=\"background-color:Ivory;\">21.7%</td><td  style=\"background-color:Ivory;\">livro</td></tr><tr><td  style=\"background-color:AliceBlue;\">236</td><td  style=\"background-color:AliceBlue;\">5.4%</td><td  style=\"background-color:AliceBlue;\">história</td></tr><tr><td  style=\"background-color:Ivory;\">229</td><td  style=\"background-color:Ivory;\">5.2%</td><td  style=\"background-color:Ivory;\">de</td></tr><tr><td  style=\"background-color:AliceBlue;\">132</td><td  style=\"background-color:AliceBlue;\">3.0%</td><td  style=\"background-color:AliceBlue;\">o</td></tr><tr><td  style=\"background-color:Ivory;\">127</td><td  style=\"background-color:Ivory;\">2.9%</td><td  style=\"background-color:Ivory;\">a</td></tr><tr><td  style=\"background-color:AliceBlue;\">115</td><td  style=\"background-color:AliceBlue;\">2.6%</td><td  style=\"background-color:AliceBlue;\">leitura</td></tr><tr><td  style=\"background-color:Ivory;\">100</td><td  style=\"background-color:Ivory;\">2.3%</td><td  style=\"background-color:Ivory;\">personagens</td></tr><tr><td  style=\"background-color:AliceBlue;\">64</td><td  style=\"background-color:AliceBlue;\">1.5%</td><td  style=\"background-color:AliceBlue;\">romance</td></tr><tr><td  style=\"background-color:Ivory;\">64</td><td  style=\"background-color:Ivory;\">1.5%</td><td  style=\"background-color:Ivory;\">crepúsculo</td></tr><tr><td  style=\"background-color:AliceBlue;\">64</td><td  style=\"background-color:AliceBlue;\">1.5%</td><td  style=\"background-color:AliceBlue;\">narrativa</td></tr><tr><td  style=\"background-color:Ivory;\">62</td><td  style=\"background-color:Ivory;\">1.4%</td><td  style=\"background-color:Ivory;\">final</td></tr><tr><td  style=\"background-color:AliceBlue;\">52</td><td  style=\"background-color:AliceBlue;\">1.2%</td><td  style=\"background-color:AliceBlue;\">ele</td></tr><tr><td  style=\"background-color:Ivory;\">50</td><td  style=\"background-color:Ivory;\">1.1%</td><td  style=\"background-color:Ivory;\">obra</td></tr><tr><td  style=\"background-color:AliceBlue;\">46</td><td  style=\"background-color:AliceBlue;\">1.0%</td><td  style=\"background-color:AliceBlue;\">em</td></tr><tr><td  style=\"background-color:Ivory;\">45</td><td  style=\"background-color:Ivory;\">1.0%</td><td  style=\"background-color:Ivory;\">1984</td></tr><tr><td  style=\"background-color:AliceBlue;\">39</td><td  style=\"background-color:AliceBlue;\">0.9%</td><td  style=\"background-color:AliceBlue;\">personagem</td></tr><tr><td  style=\"background-color:Ivory;\">37</td><td  style=\"background-color:Ivory;\">0.8%</td><td  style=\"background-color:Ivory;\">e</td></tr><tr><td  style=\"background-color:AliceBlue;\">36</td><td  style=\"background-color:AliceBlue;\">0.8%</td><td  style=\"background-color:AliceBlue;\">bella</td></tr><tr><td  style=\"background-color:Ivory;\">36</td><td  style=\"background-color:Ivory;\">0.8%</td><td  style=\"background-color:Ivory;\">trama</td></tr><tr><td  style=\"background-color:AliceBlue;\">35</td><td  style=\"background-color:AliceBlue;\">0.8%</td><td  style=\"background-color:AliceBlue;\">enredo</td></tr><tr><td  style=\"background-color:Ivory;\">33</td><td  style=\"background-color:Ivory;\">0.8%</td><td  style=\"background-color:Ivory;\">historia</td></tr><tr><td  style=\"background-color:AliceBlue;\">29</td><td  style=\"background-color:AliceBlue;\">0.7%</td><td  style=\"background-color:AliceBlue;\">edward</td></tr><tr><td  style=\"background-color:Ivory;\">28</td><td  style=\"background-color:Ivory;\">0.6%</td><td  style=\"background-color:Ivory;\">os</td></tr><tr><td  style=\"background-color:AliceBlue;\">27</td><td  style=\"background-color:AliceBlue;\">0.6%</td><td  style=\"background-color:AliceBlue;\">que</td></tr><tr><td  style=\"background-color:Ivory;\">27</td><td  style=\"background-color:Ivory;\">0.6%</td><td  style=\"background-color:Ivory;\">sobre</td></tr><tr><td  style=\"background-color:AliceBlue;\">26</td><td  style=\"background-color:AliceBlue;\">0.6%</td><td  style=\"background-color:AliceBlue;\">ela</td></tr><tr><td  style=\"background-color:Ivory;\">26</td><td  style=\"background-color:Ivory;\">0.6%</td><td  style=\"background-color:Ivory;\">ensaio</td></tr><tr><td  style=\"background-color:AliceBlue;\">25</td><td  style=\"background-color:AliceBlue;\">0.6%</td><td  style=\"background-color:AliceBlue;\">cegueira</td></tr><tr><td  style=\"background-color:Ivory;\">22</td><td  style=\"background-color:Ivory;\">0.5%</td><td  style=\"background-color:Ivory;\">linguagem</td></tr><tr><td  style=\"background-color:AliceBlue;\">21</td><td  style=\"background-color:AliceBlue;\">0.5%</td><td  style=\"background-color:AliceBlue;\">,</td></tr></table>"
      ],
      "text/plain": [
       "<ipy_table.IpyTable at 0x7f47c8607f28>"
      ]
     },
     "execution_count": 16,
     "metadata": {},
     "output_type": "execute_result"
    }
   ],
   "source": [
    "# obj tags\n",
    "aspect_freq =  Counter([word_node.get('form').lower() \n",
    "                        for word_node in reviews.iter('word') if word_node.get('obj') != 'O' and\n",
    "                        word_node.get('obj') != None])\n",
    "\n",
    "data = [['freq', '%freq', 'unigram aspect']]\n",
    "for token, freq in aspect_freq.most_common(30):\n",
    "    ratio = freq / sum(aspect_freq.values()) *100\n",
    "    data.append([freq, '{:.1f}%'.format(ratio), token])\n",
    "\n",
    "ipy_table.make_table(data)\n",
    "ipy_table.apply_theme('basic')"
   ]
  },
  {
   "cell_type": "code",
   "execution_count": 17,
   "metadata": {
    "collapsed": false
   },
   "outputs": [
    {
     "data": {
      "text/html": [
       "<table border=\"1\" cellpadding=\"3\" cellspacing=\"0\"  style=\"border:1px solid black;border-collapse:collapse;\"><tr><td  style=\"background-color:LightGray;\"><b>freq</b></td><td  style=\"background-color:LightGray;\"><b>%freq</b></td><td  style=\"background-color:LightGray;\"><b>aspect&nbspchunk</b></td></tr><tr><td  style=\"background-color:Ivory;\">916</td><td  style=\"background-color:Ivory;\">33.1%</td><td  style=\"background-color:Ivory;\">livro</td></tr><tr><td  style=\"background-color:AliceBlue;\">208</td><td  style=\"background-color:AliceBlue;\">7.5%</td><td  style=\"background-color:AliceBlue;\">história</td></tr><tr><td  style=\"background-color:Ivory;\">112</td><td  style=\"background-color:Ivory;\">4.0%</td><td  style=\"background-color:Ivory;\">leitura</td></tr><tr><td  style=\"background-color:AliceBlue;\">85</td><td  style=\"background-color:AliceBlue;\">3.1%</td><td  style=\"background-color:AliceBlue;\">personagens</td></tr><tr><td  style=\"background-color:Ivory;\">62</td><td  style=\"background-color:Ivory;\">2.2%</td><td  style=\"background-color:Ivory;\">crepúsculo</td></tr><tr><td  style=\"background-color:AliceBlue;\">61</td><td  style=\"background-color:AliceBlue;\">2.2%</td><td  style=\"background-color:AliceBlue;\">narrativa</td></tr><tr><td  style=\"background-color:Ivory;\">56</td><td  style=\"background-color:Ivory;\">2.0%</td><td  style=\"background-color:Ivory;\">final</td></tr><tr><td  style=\"background-color:AliceBlue;\">55</td><td  style=\"background-color:AliceBlue;\">2.0%</td><td  style=\"background-color:AliceBlue;\">romance</td></tr><tr><td  style=\"background-color:Ivory;\">48</td><td  style=\"background-color:Ivory;\">1.7%</td><td  style=\"background-color:Ivory;\">obra</td></tr><tr><td  style=\"background-color:AliceBlue;\">43</td><td  style=\"background-color:AliceBlue;\">1.6%</td><td  style=\"background-color:AliceBlue;\">1984</td></tr><tr><td  style=\"background-color:Ivory;\">43</td><td  style=\"background-color:Ivory;\">1.6%</td><td  style=\"background-color:Ivory;\">ele</td></tr><tr><td  style=\"background-color:AliceBlue;\">34</td><td  style=\"background-color:AliceBlue;\">1.2%</td><td  style=\"background-color:AliceBlue;\">trama</td></tr><tr><td  style=\"background-color:Ivory;\">34</td><td  style=\"background-color:Ivory;\">1.2%</td><td  style=\"background-color:Ivory;\">enredo</td></tr><tr><td  style=\"background-color:AliceBlue;\">32</td><td  style=\"background-color:AliceBlue;\">1.2%</td><td  style=\"background-color:AliceBlue;\">historia</td></tr><tr><td  style=\"background-color:Ivory;\">25</td><td  style=\"background-color:Ivory;\">0.9%</td><td  style=\"background-color:Ivory;\">personagem</td></tr><tr><td  style=\"background-color:AliceBlue;\">23</td><td  style=\"background-color:AliceBlue;\">0.8%</td><td  style=\"background-color:AliceBlue;\">bella</td></tr><tr><td  style=\"background-color:Ivory;\">22</td><td  style=\"background-color:Ivory;\">0.8%</td><td  style=\"background-color:Ivory;\">linguagem</td></tr><tr><td  style=\"background-color:AliceBlue;\">22</td><td  style=\"background-color:AliceBlue;\">0.8%</td><td  style=\"background-color:AliceBlue;\">ensaio_sobre_a_cegueira</td></tr><tr><td  style=\"background-color:Ivory;\">18</td><td  style=\"background-color:Ivory;\">0.7%</td><td  style=\"background-color:Ivory;\">ela</td></tr><tr><td  style=\"background-color:AliceBlue;\">17</td><td  style=\"background-color:AliceBlue;\">0.6%</td><td  style=\"background-color:AliceBlue;\">começo</td></tr><tr><td  style=\"background-color:Ivory;\">14</td><td  style=\"background-color:Ivory;\">0.5%</td><td  style=\"background-color:Ivory;\">edward</td></tr><tr><td  style=\"background-color:AliceBlue;\">12</td><td  style=\"background-color:AliceBlue;\">0.4%</td><td  style=\"background-color:AliceBlue;\">protagonista</td></tr><tr><td  style=\"background-color:Ivory;\">12</td><td  style=\"background-color:Ivory;\">0.4%</td><td  style=\"background-color:Ivory;\">escrita</td></tr><tr><td  style=\"background-color:AliceBlue;\">12</td><td  style=\"background-color:AliceBlue;\">0.4%</td><td  style=\"background-color:AliceBlue;\">estória</td></tr><tr><td  style=\"background-color:Ivory;\">11</td><td  style=\"background-color:Ivory;\">0.4%</td><td  style=\"background-color:Ivory;\">esse</td></tr><tr><td  style=\"background-color:AliceBlue;\">11</td><td  style=\"background-color:AliceBlue;\">0.4%</td><td  style=\"background-color:AliceBlue;\">diálogos</td></tr><tr><td  style=\"background-color:Ivory;\">10</td><td  style=\"background-color:Ivory;\">0.4%</td><td  style=\"background-color:Ivory;\">início</td></tr><tr><td  style=\"background-color:AliceBlue;\">9</td><td  style=\"background-color:AliceBlue;\">0.3%</td><td  style=\"background-color:AliceBlue;\">tema</td></tr><tr><td  style=\"background-color:Ivory;\">9</td><td  style=\"background-color:Ivory;\">0.3%</td><td  style=\"background-color:Ivory;\">capitães_de_a_areia</td></tr><tr><td  style=\"background-color:AliceBlue;\">9</td><td  style=\"background-color:AliceBlue;\">0.3%</td><td  style=\"background-color:AliceBlue;\">histórias</td></tr></table>"
      ],
      "text/plain": [
       "<ipy_table.IpyTable at 0x7f47a85b8dd8>"
      ]
     },
     "execution_count": 17,
     "metadata": {},
     "output_type": "execute_result"
    }
   ],
   "source": [
    "aspects_list = []\n",
    "for sentence_node in reviews.iter('sentence'):    \n",
    "    chunk = []\n",
    "    for word_node in sentence_node.getchildren():\n",
    "        if word_node.get('obj') != 'O' and word_node.get('obj') != None:\n",
    "            chunk.append(word_node.get('form').lower())\n",
    "        else:\n",
    "            if len(chunk) != 0:\n",
    "                aspects_list.append('_'.join(chunk))\n",
    "                chunk = []\n",
    "    if len(chunk) != 0:\n",
    "        aspects_list.append('_'.join(chunk))\n",
    "        \n",
    "aspect_freq =  Counter(aspects_list)\n",
    "\n",
    "data = [['freq', '%freq', 'aspect chunk']]\n",
    "for token, freq in aspect_freq.most_common(30):\n",
    "    ratio = freq / sum(aspect_freq.values()) *100\n",
    "    data.append([freq, '{:.1f}%'.format(ratio), token])\n",
    "    \n",
    "ipy_table.make_table(data)\n",
    "ipy_table.apply_theme('basic')"
   ]
  },
  {
   "cell_type": "code",
   "execution_count": 18,
   "metadata": {
    "collapsed": false
   },
   "outputs": [
    {
     "data": {
      "text/html": [
       "<table border=\"1\" cellpadding=\"3\" cellspacing=\"0\"  style=\"border:1px solid black;border-collapse:collapse;\"><tr><td  style=\"background-color:LightGray;\"><b>freq</b></td><td  style=\"background-color:LightGray;\"><b>%aspect</b></td><td  style=\"background-color:LightGray;\"><b>%tokens</b></td><td  style=\"background-color:LightGray;\"><b>aspect&nbspchunk</b></td></tr><tr><td  style=\"background-color:Ivory;\">916</td><td  style=\"background-color:Ivory;\">33.1%</td><td  style=\"background-color:Ivory;\">28.7%</td><td  style=\"background-color:Ivory;\">livro</td></tr><tr><td  style=\"background-color:AliceBlue;\">208</td><td  style=\"background-color:AliceBlue;\">7.5%</td><td  style=\"background-color:AliceBlue;\">21.2%</td><td  style=\"background-color:AliceBlue;\">história</td></tr><tr><td  style=\"background-color:Ivory;\">112</td><td  style=\"background-color:Ivory;\">4.0%</td><td  style=\"background-color:Ivory;\">25.6%</td><td  style=\"background-color:Ivory;\">leitura</td></tr><tr><td  style=\"background-color:AliceBlue;\">85</td><td  style=\"background-color:AliceBlue;\">3.1%</td><td  style=\"background-color:AliceBlue;\">26.4%</td><td  style=\"background-color:AliceBlue;\">personagens</td></tr><tr><td  style=\"background-color:Ivory;\">62</td><td  style=\"background-color:Ivory;\">2.2%</td><td  style=\"background-color:Ivory;\">23.6%</td><td  style=\"background-color:Ivory;\">crepúsculo</td></tr><tr><td  style=\"background-color:AliceBlue;\">61</td><td  style=\"background-color:AliceBlue;\">2.2%</td><td  style=\"background-color:AliceBlue;\">42.4%</td><td  style=\"background-color:AliceBlue;\">narrativa</td></tr><tr><td  style=\"background-color:Ivory;\">56</td><td  style=\"background-color:Ivory;\">2.0%</td><td  style=\"background-color:Ivory;\">20.7%</td><td  style=\"background-color:Ivory;\">final</td></tr><tr><td  style=\"background-color:AliceBlue;\">55</td><td  style=\"background-color:AliceBlue;\">2.0%</td><td  style=\"background-color:AliceBlue;\">17.2%</td><td  style=\"background-color:AliceBlue;\">romance</td></tr><tr><td  style=\"background-color:Ivory;\">48</td><td  style=\"background-color:Ivory;\">1.7%</td><td  style=\"background-color:Ivory;\">14.1%</td><td  style=\"background-color:Ivory;\">obra</td></tr><tr><td  style=\"background-color:AliceBlue;\">43</td><td  style=\"background-color:AliceBlue;\">1.6%</td><td  style=\"background-color:AliceBlue;\">21.1%</td><td  style=\"background-color:AliceBlue;\">1984</td></tr><tr><td  style=\"background-color:Ivory;\">43</td><td  style=\"background-color:Ivory;\">1.6%</td><td  style=\"background-color:Ivory;\">2.3%</td><td  style=\"background-color:Ivory;\">ele</td></tr><tr><td  style=\"background-color:AliceBlue;\">34</td><td  style=\"background-color:AliceBlue;\">1.2%</td><td  style=\"background-color:AliceBlue;\">31.8%</td><td  style=\"background-color:AliceBlue;\">trama</td></tr><tr><td  style=\"background-color:Ivory;\">34</td><td  style=\"background-color:Ivory;\">1.2%</td><td  style=\"background-color:Ivory;\">50.7%</td><td  style=\"background-color:Ivory;\">enredo</td></tr><tr><td  style=\"background-color:AliceBlue;\">32</td><td  style=\"background-color:AliceBlue;\">1.2%</td><td  style=\"background-color:AliceBlue;\">24.2%</td><td  style=\"background-color:AliceBlue;\">historia</td></tr><tr><td  style=\"background-color:Ivory;\">25</td><td  style=\"background-color:Ivory;\">0.9%</td><td  style=\"background-color:Ivory;\">10.6%</td><td  style=\"background-color:Ivory;\">personagem</td></tr><tr><td  style=\"background-color:AliceBlue;\">23</td><td  style=\"background-color:AliceBlue;\">0.8%</td><td  style=\"background-color:AliceBlue;\">5.6%</td><td  style=\"background-color:AliceBlue;\">bella</td></tr><tr><td  style=\"background-color:Ivory;\">22</td><td  style=\"background-color:Ivory;\">0.8%</td><td  style=\"background-color:Ivory;\">36.7%</td><td  style=\"background-color:Ivory;\">linguagem</td></tr><tr><td  style=\"background-color:AliceBlue;\">22</td><td  style=\"background-color:AliceBlue;\">0.8%</td><td  style=\"background-color:AliceBlue;\">22.2%</td><td  style=\"background-color:AliceBlue;\">ensaio_sobre_a_cegueira</td></tr><tr><td  style=\"background-color:Ivory;\">18</td><td  style=\"background-color:Ivory;\">0.7%</td><td  style=\"background-color:Ivory;\">1.1%</td><td  style=\"background-color:Ivory;\">ela</td></tr><tr><td  style=\"background-color:AliceBlue;\">17</td><td  style=\"background-color:AliceBlue;\">0.6%</td><td  style=\"background-color:AliceBlue;\">12.2%</td><td  style=\"background-color:AliceBlue;\">começo</td></tr><tr><td  style=\"background-color:Ivory;\">14</td><td  style=\"background-color:Ivory;\">0.5%</td><td  style=\"background-color:Ivory;\">4.0%</td><td  style=\"background-color:Ivory;\">edward</td></tr><tr><td  style=\"background-color:AliceBlue;\">12</td><td  style=\"background-color:AliceBlue;\">0.4%</td><td  style=\"background-color:AliceBlue;\">12.1%</td><td  style=\"background-color:AliceBlue;\">protagonista</td></tr><tr><td  style=\"background-color:Ivory;\">12</td><td  style=\"background-color:Ivory;\">0.4%</td><td  style=\"background-color:Ivory;\">9.6%</td><td  style=\"background-color:Ivory;\">escrita</td></tr><tr><td  style=\"background-color:AliceBlue;\">12</td><td  style=\"background-color:AliceBlue;\">0.4%</td><td  style=\"background-color:AliceBlue;\">23.1%</td><td  style=\"background-color:AliceBlue;\">estória</td></tr><tr><td  style=\"background-color:Ivory;\">11</td><td  style=\"background-color:Ivory;\">0.4%</td><td  style=\"background-color:Ivory;\">1.0%</td><td  style=\"background-color:Ivory;\">esse</td></tr><tr><td  style=\"background-color:AliceBlue;\">11</td><td  style=\"background-color:AliceBlue;\">0.4%</td><td  style=\"background-color:AliceBlue;\">39.3%</td><td  style=\"background-color:AliceBlue;\">diálogos</td></tr><tr><td  style=\"background-color:Ivory;\">10</td><td  style=\"background-color:Ivory;\">0.4%</td><td  style=\"background-color:Ivory;\">12.7%</td><td  style=\"background-color:Ivory;\">início</td></tr><tr><td  style=\"background-color:AliceBlue;\">9</td><td  style=\"background-color:AliceBlue;\">0.3%</td><td  style=\"background-color:AliceBlue;\">8.0%</td><td  style=\"background-color:AliceBlue;\">tema</td></tr><tr><td  style=\"background-color:Ivory;\">9</td><td  style=\"background-color:Ivory;\">0.3%</td><td  style=\"background-color:Ivory;\">10.6%</td><td  style=\"background-color:Ivory;\">capitães_de_a_areia</td></tr><tr><td  style=\"background-color:AliceBlue;\">9</td><td  style=\"background-color:AliceBlue;\">0.3%</td><td  style=\"background-color:AliceBlue;\">7.6%</td><td  style=\"background-color:AliceBlue;\">histórias</td></tr></table>"
      ],
      "text/plain": [
       "<ipy_table.IpyTable at 0x7f47a8793f28>"
      ]
     },
     "execution_count": 18,
     "metadata": {},
     "output_type": "execute_result"
    }
   ],
   "source": [
    "tokens = '_'.join([word_node.get('form').lower() \n",
    "                   for word_node in reviews.iter('word')])\n",
    "\n",
    "# get chunks of aspects in the corpus\n",
    "aspects_list = []\n",
    "for sentence_node in reviews.iter('sentence'):    \n",
    "    chunk = []\n",
    "    for word_node in sentence_node.getchildren():\n",
    "        if word_node.get('obj') != 'O' and word_node.get('obj') != None:\n",
    "            chunk.append(word_node.get('form').lower())\n",
    "        else:\n",
    "            if len(chunk) != 0:\n",
    "                aspects_list.append('_'.join(chunk))\n",
    "                chunk = []\n",
    "    if len(chunk) != 0:\n",
    "        aspects_list.append('_'.join(chunk))\n",
    "\n",
    "        \n",
    "aspect_freq =  Counter(aspects_list)\n",
    "# check relative frequency for these chunks in the corpus\n",
    "\n",
    "data = [['freq', '%aspect', '%tokens', 'aspect chunk']]\n",
    "for token, freq in aspect_freq.most_common(30):\n",
    "    ratio = freq / sum(aspect_freq.values()) *100\n",
    "    relat_freq = freq / tokens.count(token) * 100\n",
    "    data.append([freq, '{:.1f}%'.format(ratio), '{:.1f}%'.format(relat_freq), token])\n",
    "\n",
    "ipy_table.make_table(data)\n",
    "ipy_table.apply_theme('basic')"
   ]
  },
  {
   "cell_type": "markdown",
   "metadata": {
    "collapsed": true
   },
   "source": [
    "## Predicate frequency"
   ]
  },
  {
   "cell_type": "code",
   "execution_count": 19,
   "metadata": {
    "collapsed": false
   },
   "outputs": [
    {
     "data": {
      "text/html": [
       "<table border=\"1\" cellpadding=\"3\" cellspacing=\"0\"  style=\"border:1px solid black;border-collapse:collapse;\"><tr><td  style=\"background-color:LightGray;\"><b>freq</b></td><td  style=\"background-color:LightGray;\"><b>%freq</b></td><td  style=\"background-color:LightGray;\"><b>unigram&nbspopinion</b></td></tr><tr><td  style=\"background-color:Ivory;\">929</td><td  style=\"background-color:Ivory;\">5.2%</td><td  style=\"background-color:Ivory;\">de</td></tr><tr><td  style=\"background-color:AliceBlue;\">637</td><td  style=\"background-color:AliceBlue;\">3.6%</td><td  style=\"background-color:AliceBlue;\">a</td></tr><tr><td  style=\"background-color:Ivory;\">577</td><td  style=\"background-color:Ivory;\">3.2%</td><td  style=\"background-color:Ivory;\">o</td></tr><tr><td  style=\"background-color:AliceBlue;\">394</td><td  style=\"background-color:AliceBlue;\">2.2%</td><td  style=\"background-color:AliceBlue;\">não</td></tr><tr><td  style=\"background-color:Ivory;\">384</td><td  style=\"background-color:Ivory;\">2.1%</td><td  style=\"background-color:Ivory;\">que</td></tr><tr><td  style=\"background-color:AliceBlue;\">274</td><td  style=\"background-color:AliceBlue;\">1.5%</td><td  style=\"background-color:AliceBlue;\">um</td></tr><tr><td  style=\"background-color:Ivory;\">212</td><td  style=\"background-color:Ivory;\">1.2%</td><td  style=\"background-color:Ivory;\">em</td></tr><tr><td  style=\"background-color:AliceBlue;\">211</td><td  style=\"background-color:AliceBlue;\">1.2%</td><td  style=\"background-color:AliceBlue;\">me</td></tr><tr><td  style=\"background-color:Ivory;\">206</td><td  style=\"background-color:Ivory;\">1.2%</td><td  style=\"background-color:Ivory;\">bom</td></tr><tr><td  style=\"background-color:AliceBlue;\">185</td><td  style=\"background-color:AliceBlue;\">1.0%</td><td  style=\"background-color:AliceBlue;\">os</td></tr><tr><td  style=\"background-color:Ivory;\">181</td><td  style=\"background-color:Ivory;\">1.0%</td><td  style=\"background-color:Ivory;\">livro</td></tr><tr><td  style=\"background-color:AliceBlue;\">180</td><td  style=\"background-color:AliceBlue;\">1.0%</td><td  style=\"background-color:AliceBlue;\">mais</td></tr><tr><td  style=\"background-color:Ivory;\">177</td><td  style=\"background-color:Ivory;\">1.0%</td><td  style=\"background-color:Ivory;\">é</td></tr><tr><td  style=\"background-color:AliceBlue;\">162</td><td  style=\"background-color:AliceBlue;\">0.9%</td><td  style=\"background-color:AliceBlue;\">muito</td></tr><tr><td  style=\"background-color:Ivory;\">156</td><td  style=\"background-color:Ivory;\">0.9%</td><td  style=\"background-color:Ivory;\">,</td></tr><tr><td  style=\"background-color:AliceBlue;\">156</td><td  style=\"background-color:AliceBlue;\">0.9%</td><td  style=\"background-color:AliceBlue;\">e</td></tr><tr><td  style=\"background-color:Ivory;\">148</td><td  style=\"background-color:Ivory;\">0.8%</td><td  style=\"background-color:Ivory;\">ler</td></tr><tr><td  style=\"background-color:AliceBlue;\">146</td><td  style=\"background-color:AliceBlue;\">0.8%</td><td  style=\"background-color:AliceBlue;\">.</td></tr><tr><td  style=\"background-color:Ivory;\">142</td><td  style=\"background-color:Ivory;\">0.8%</td><td  style=\"background-color:Ivory;\">se</td></tr><tr><td  style=\"background-color:AliceBlue;\">138</td><td  style=\"background-color:AliceBlue;\">0.8%</td><td  style=\"background-color:AliceBlue;\">recomendo</td></tr><tr><td  style=\"background-color:Ivory;\">136</td><td  style=\"background-color:Ivory;\">0.8%</td><td  style=\"background-color:Ivory;\">uma</td></tr><tr><td  style=\"background-color:AliceBlue;\">134</td><td  style=\"background-color:AliceBlue;\">0.7%</td><td  style=\"background-color:AliceBlue;\">com</td></tr><tr><td  style=\"background-color:Ivory;\">122</td><td  style=\"background-color:Ivory;\">0.7%</td><td  style=\"background-color:Ivory;\">bem</td></tr><tr><td  style=\"background-color:AliceBlue;\">118</td><td  style=\"background-color:AliceBlue;\">0.7%</td><td  style=\"background-color:AliceBlue;\">gostei</td></tr><tr><td  style=\"background-color:Ivory;\">113</td><td  style=\"background-color:Ivory;\">0.6%</td><td  style=\"background-color:Ivory;\">para</td></tr><tr><td  style=\"background-color:AliceBlue;\">112</td><td  style=\"background-color:AliceBlue;\">0.6%</td><td  style=\"background-color:AliceBlue;\">por</td></tr><tr><td  style=\"background-color:Ivory;\">100</td><td  style=\"background-color:Ivory;\">0.6%</td><td  style=\"background-color:Ivory;\">as</td></tr><tr><td  style=\"background-color:AliceBlue;\">89</td><td  style=\"background-color:AliceBlue;\">0.5%</td><td  style=\"background-color:AliceBlue;\">!</td></tr><tr><td  style=\"background-color:Ivory;\">85</td><td  style=\"background-color:Ivory;\">0.5%</td><td  style=\"background-color:Ivory;\">leitura</td></tr><tr><td  style=\"background-color:AliceBlue;\">83</td><td  style=\"background-color:AliceBlue;\">0.5%</td><td  style=\"background-color:AliceBlue;\">li</td></tr></table>"
      ],
      "text/plain": [
       "<ipy_table.IpyTable at 0x7f47a8581eb8>"
      ]
     },
     "execution_count": 19,
     "metadata": {},
     "output_type": "execute_result"
    }
   ],
   "source": [
    "aspect_freq =  Counter([word_node.get('form').lower() \n",
    "                        for word_node in reviews.iter('word') \n",
    "                            if word_node.get('opinion') != 'O' and \n",
    "                               word_node.get('opinion') != None])\n",
    "\n",
    "data = [['freq', '%freq', 'unigram opinion']]\n",
    "for token, freq in aspect_freq.most_common(30):\n",
    "    ratio = freq / sum(aspect_freq.values()) *100\n",
    "    data.append([freq, '{:.1f}%'.format(ratio), token])\n",
    "\n",
    "ipy_table.make_table(data)\n",
    "ipy_table.apply_theme('basic')"
   ]
  },
  {
   "cell_type": "code",
   "execution_count": 20,
   "metadata": {
    "collapsed": false
   },
   "outputs": [
    {
     "data": {
      "text/html": [
       "<table border=\"1\" cellpadding=\"3\" cellspacing=\"0\"  style=\"border:1px solid black;border-collapse:collapse;\"><tr><td  style=\"background-color:LightGray;\"><b>freq</b></td><td  style=\"background-color:LightGray;\"><b>%freq</b></td><td  style=\"background-color:LightGray;\"><b>opinion&nbspchunk</b></td></tr><tr><td  style=\"background-color:Ivory;\">140</td><td  style=\"background-color:Ivory;\">2.6%</td><td  style=\"background-color:Ivory;\">bom</td></tr><tr><td  style=\"background-color:AliceBlue;\">113</td><td  style=\"background-color:AliceBlue;\">2.1%</td><td  style=\"background-color:AliceBlue;\">recomendo</td></tr><tr><td  style=\"background-color:Ivory;\">92</td><td  style=\"background-color:Ivory;\">1.7%</td><td  style=\"background-color:Ivory;\">gostei</td></tr><tr><td  style=\"background-color:AliceBlue;\">60</td><td  style=\"background-color:AliceBlue;\">1.1%</td><td  style=\"background-color:AliceBlue;\">interessante</td></tr><tr><td  style=\"background-color:Ivory;\">46</td><td  style=\"background-color:Ivory;\">0.9%</td><td  style=\"background-color:Ivory;\">ótimo</td></tr><tr><td  style=\"background-color:AliceBlue;\">45</td><td  style=\"background-color:AliceBlue;\">0.8%</td><td  style=\"background-color:AliceBlue;\">envolvente</td></tr><tr><td  style=\"background-color:Ivory;\">43</td><td  style=\"background-color:Ivory;\">0.8%</td><td  style=\"background-color:Ivory;\">adorei</td></tr><tr><td  style=\"background-color:AliceBlue;\">35</td><td  style=\"background-color:AliceBlue;\">0.7%</td><td  style=\"background-color:AliceBlue;\">amei</td></tr><tr><td  style=\"background-color:Ivory;\">33</td><td  style=\"background-color:Ivory;\">0.6%</td><td  style=\"background-color:Ivory;\">perfeito</td></tr><tr><td  style=\"background-color:AliceBlue;\">31</td><td  style=\"background-color:AliceBlue;\">0.6%</td><td  style=\"background-color:AliceBlue;\">excelente</td></tr><tr><td  style=\"background-color:Ivory;\">28</td><td  style=\"background-color:Ivory;\">0.5%</td><td  style=\"background-color:Ivory;\">fantástico</td></tr><tr><td  style=\"background-color:AliceBlue;\">27</td><td  style=\"background-color:AliceBlue;\">0.5%</td><td  style=\"background-color:AliceBlue;\">maravilhoso</td></tr><tr><td  style=\"background-color:Ivory;\">25</td><td  style=\"background-color:Ivory;\">0.5%</td><td  style=\"background-color:Ivory;\">legal</td></tr><tr><td  style=\"background-color:AliceBlue;\">25</td><td  style=\"background-color:AliceBlue;\">0.5%</td><td  style=\"background-color:AliceBlue;\">lindo</td></tr><tr><td  style=\"background-color:Ivory;\">23</td><td  style=\"background-color:Ivory;\">0.4%</td><td  style=\"background-color:Ivory;\">boa</td></tr><tr><td  style=\"background-color:AliceBlue;\">22</td><td  style=\"background-color:AliceBlue;\">0.4%</td><td  style=\"background-color:AliceBlue;\">incrível</td></tr><tr><td  style=\"background-color:Ivory;\">22</td><td  style=\"background-color:Ivory;\">0.4%</td><td  style=\"background-color:Ivory;\">fácil</td></tr><tr><td  style=\"background-color:AliceBlue;\">22</td><td  style=\"background-color:AliceBlue;\">0.4%</td><td  style=\"background-color:AliceBlue;\">emocionante</td></tr><tr><td  style=\"background-color:Ivory;\">21</td><td  style=\"background-color:Ivory;\">0.4%</td><td  style=\"background-color:Ivory;\">fascinante</td></tr><tr><td  style=\"background-color:AliceBlue;\">21</td><td  style=\"background-color:AliceBlue;\">0.4%</td><td  style=\"background-color:AliceBlue;\">bem_escrito</td></tr><tr><td  style=\"background-color:Ivory;\">21</td><td  style=\"background-color:Ivory;\">0.4%</td><td  style=\"background-color:Ivory;\">divertido</td></tr><tr><td  style=\"background-color:AliceBlue;\">21</td><td  style=\"background-color:AliceBlue;\">0.4%</td><td  style=\"background-color:AliceBlue;\">surpreendente</td></tr><tr><td  style=\"background-color:Ivory;\">20</td><td  style=\"background-color:Ivory;\">0.4%</td><td  style=\"background-color:Ivory;\">genial</td></tr><tr><td  style=\"background-color:AliceBlue;\">19</td><td  style=\"background-color:AliceBlue;\">0.4%</td><td  style=\"background-color:AliceBlue;\">chato</td></tr><tr><td  style=\"background-color:Ivory;\">19</td><td  style=\"background-color:Ivory;\">0.4%</td><td  style=\"background-color:Ivory;\">apaixonante</td></tr><tr><td  style=\"background-color:AliceBlue;\">17</td><td  style=\"background-color:AliceBlue;\">0.3%</td><td  style=\"background-color:AliceBlue;\">vale_a_pena</td></tr><tr><td  style=\"background-color:Ivory;\">16</td><td  style=\"background-color:Ivory;\">0.3%</td><td  style=\"background-color:Ivory;\">atual</td></tr><tr><td  style=\"background-color:AliceBlue;\">16</td><td  style=\"background-color:AliceBlue;\">0.3%</td><td  style=\"background-color:AliceBlue;\">simples</td></tr><tr><td  style=\"background-color:Ivory;\">16</td><td  style=\"background-color:Ivory;\">0.3%</td><td  style=\"background-color:Ivory;\">melhor</td></tr><tr><td  style=\"background-color:AliceBlue;\">16</td><td  style=\"background-color:AliceBlue;\">0.3%</td><td  style=\"background-color:AliceBlue;\">espetacular</td></tr></table>"
      ],
      "text/plain": [
       "<ipy_table.IpyTable at 0x7f47a8789080>"
      ]
     },
     "execution_count": 20,
     "metadata": {},
     "output_type": "execute_result"
    }
   ],
   "source": [
    "opinions_list = []\n",
    "for sentence_node in reviews.iter('sentence'):    \n",
    "    chunk = []\n",
    "    for word_node in sentence_node.getchildren():\n",
    "        if word_node.get('opinion') != 'O' and word_node.get('opinion') != None:\n",
    "            chunk.append(word_node.get('form').lower())\n",
    "        else:\n",
    "            if len(chunk) != 0:\n",
    "                opinions_list.append('_'.join(chunk))\n",
    "                chunk = []\n",
    "    if len(chunk) != 0:\n",
    "        opinions_list.append('_'.join(chunk))\n",
    "        \n",
    "opinions_freq =  Counter(opinions_list)\n",
    "\n",
    "data = [['freq', '%freq', 'opinion chunk']]\n",
    "for token, freq in opinions_freq.most_common(30):\n",
    "    ratio = freq / sum(opinions_freq.values()) *100\n",
    "    data.append([freq, '{:.1f}%'.format(ratio), token])\n",
    "    \n",
    "ipy_table.make_table(data)\n",
    "ipy_table.apply_theme('basic')"
   ]
  },
  {
   "cell_type": "code",
   "execution_count": 21,
   "metadata": {
    "collapsed": false
   },
   "outputs": [
    {
     "data": {
      "text/html": [
       "<table border=\"1\" cellpadding=\"3\" cellspacing=\"0\"  style=\"border:1px solid black;border-collapse:collapse;\"><tr><td  style=\"background-color:LightGray;\"><b>freq</b></td><td  style=\"background-color:LightGray;\"><b>%opinion</b></td><td  style=\"background-color:LightGray;\"><b>%tokens</b></td><td  style=\"background-color:LightGray;\"><b>opinion&nbspchunk</b></td></tr><tr><td  style=\"background-color:Ivory;\">140</td><td  style=\"background-color:Ivory;\">2.6%</td><td  style=\"background-color:Ivory;\">36.0%</td><td  style=\"background-color:Ivory;\">bom</td></tr><tr><td  style=\"background-color:AliceBlue;\">113</td><td  style=\"background-color:AliceBlue;\">2.1%</td><td  style=\"background-color:AliceBlue;\">73.4%</td><td  style=\"background-color:AliceBlue;\">recomendo</td></tr><tr><td  style=\"background-color:Ivory;\">92</td><td  style=\"background-color:Ivory;\">1.7%</td><td  style=\"background-color:Ivory;\">56.1%</td><td  style=\"background-color:Ivory;\">gostei</td></tr><tr><td  style=\"background-color:AliceBlue;\">60</td><td  style=\"background-color:AliceBlue;\">1.1%</td><td  style=\"background-color:AliceBlue;\">35.5%</td><td  style=\"background-color:AliceBlue;\">interessante</td></tr><tr><td  style=\"background-color:Ivory;\">46</td><td  style=\"background-color:Ivory;\">0.9%</td><td  style=\"background-color:Ivory;\">61.3%</td><td  style=\"background-color:Ivory;\">ótimo</td></tr><tr><td  style=\"background-color:AliceBlue;\">45</td><td  style=\"background-color:AliceBlue;\">0.8%</td><td  style=\"background-color:AliceBlue;\">75.0%</td><td  style=\"background-color:AliceBlue;\">envolvente</td></tr><tr><td  style=\"background-color:Ivory;\">43</td><td  style=\"background-color:Ivory;\">0.8%</td><td  style=\"background-color:Ivory;\">68.3%</td><td  style=\"background-color:Ivory;\">adorei</td></tr><tr><td  style=\"background-color:AliceBlue;\">35</td><td  style=\"background-color:AliceBlue;\">0.7%</td><td  style=\"background-color:AliceBlue;\">63.6%</td><td  style=\"background-color:AliceBlue;\">amei</td></tr><tr><td  style=\"background-color:Ivory;\">33</td><td  style=\"background-color:Ivory;\">0.6%</td><td  style=\"background-color:Ivory;\">28.4%</td><td  style=\"background-color:Ivory;\">perfeito</td></tr><tr><td  style=\"background-color:AliceBlue;\">31</td><td  style=\"background-color:AliceBlue;\">0.6%</td><td  style=\"background-color:AliceBlue;\">53.4%</td><td  style=\"background-color:AliceBlue;\">excelente</td></tr><tr><td  style=\"background-color:Ivory;\">28</td><td  style=\"background-color:Ivory;\">0.5%</td><td  style=\"background-color:Ivory;\">56.0%</td><td  style=\"background-color:Ivory;\">fantástico</td></tr><tr><td  style=\"background-color:AliceBlue;\">27</td><td  style=\"background-color:AliceBlue;\">0.5%</td><td  style=\"background-color:AliceBlue;\">49.1%</td><td  style=\"background-color:AliceBlue;\">maravilhoso</td></tr><tr><td  style=\"background-color:Ivory;\">25</td><td  style=\"background-color:Ivory;\">0.5%</td><td  style=\"background-color:Ivory;\">36.8%</td><td  style=\"background-color:Ivory;\">legal</td></tr><tr><td  style=\"background-color:AliceBlue;\">25</td><td  style=\"background-color:AliceBlue;\">0.5%</td><td  style=\"background-color:AliceBlue;\">28.1%</td><td  style=\"background-color:AliceBlue;\">lindo</td></tr><tr><td  style=\"background-color:Ivory;\">23</td><td  style=\"background-color:Ivory;\">0.4%</td><td  style=\"background-color:Ivory;\">13.5%</td><td  style=\"background-color:Ivory;\">boa</td></tr><tr><td  style=\"background-color:AliceBlue;\">22</td><td  style=\"background-color:AliceBlue;\">0.4%</td><td  style=\"background-color:AliceBlue;\">40.0%</td><td  style=\"background-color:AliceBlue;\">incrível</td></tr><tr><td  style=\"background-color:Ivory;\">22</td><td  style=\"background-color:Ivory;\">0.4%</td><td  style=\"background-color:Ivory;\">22.7%</td><td  style=\"background-color:Ivory;\">fácil</td></tr><tr><td  style=\"background-color:AliceBlue;\">22</td><td  style=\"background-color:AliceBlue;\">0.4%</td><td  style=\"background-color:AliceBlue;\">56.4%</td><td  style=\"background-color:AliceBlue;\">emocionante</td></tr><tr><td  style=\"background-color:Ivory;\">21</td><td  style=\"background-color:Ivory;\">0.4%</td><td  style=\"background-color:Ivory;\">60.0%</td><td  style=\"background-color:Ivory;\">fascinante</td></tr><tr><td  style=\"background-color:AliceBlue;\">21</td><td  style=\"background-color:AliceBlue;\">0.4%</td><td  style=\"background-color:AliceBlue;\">75.0%</td><td  style=\"background-color:AliceBlue;\">bem_escrito</td></tr><tr><td  style=\"background-color:Ivory;\">21</td><td  style=\"background-color:Ivory;\">0.4%</td><td  style=\"background-color:Ivory;\">80.8%</td><td  style=\"background-color:Ivory;\">divertido</td></tr><tr><td  style=\"background-color:AliceBlue;\">21</td><td  style=\"background-color:AliceBlue;\">0.4%</td><td  style=\"background-color:AliceBlue;\">52.5%</td><td  style=\"background-color:AliceBlue;\">surpreendente</td></tr><tr><td  style=\"background-color:Ivory;\">20</td><td  style=\"background-color:Ivory;\">0.4%</td><td  style=\"background-color:Ivory;\">45.5%</td><td  style=\"background-color:Ivory;\">genial</td></tr><tr><td  style=\"background-color:AliceBlue;\">19</td><td  style=\"background-color:AliceBlue;\">0.4%</td><td  style=\"background-color:AliceBlue;\">34.5%</td><td  style=\"background-color:AliceBlue;\">chato</td></tr><tr><td  style=\"background-color:Ivory;\">19</td><td  style=\"background-color:Ivory;\">0.4%</td><td  style=\"background-color:Ivory;\">82.6%</td><td  style=\"background-color:Ivory;\">apaixonante</td></tr><tr><td  style=\"background-color:AliceBlue;\">17</td><td  style=\"background-color:AliceBlue;\">0.3%</td><td  style=\"background-color:AliceBlue;\">32.1%</td><td  style=\"background-color:AliceBlue;\">vale_a_pena</td></tr><tr><td  style=\"background-color:Ivory;\">16</td><td  style=\"background-color:Ivory;\">0.3%</td><td  style=\"background-color:Ivory;\">18.2%</td><td  style=\"background-color:Ivory;\">atual</td></tr><tr><td  style=\"background-color:AliceBlue;\">16</td><td  style=\"background-color:AliceBlue;\">0.3%</td><td  style=\"background-color:AliceBlue;\">7.6%</td><td  style=\"background-color:AliceBlue;\">simples</td></tr><tr><td  style=\"background-color:Ivory;\">16</td><td  style=\"background-color:Ivory;\">0.3%</td><td  style=\"background-color:Ivory;\">4.1%</td><td  style=\"background-color:Ivory;\">melhor</td></tr><tr><td  style=\"background-color:AliceBlue;\">16</td><td  style=\"background-color:AliceBlue;\">0.3%</td><td  style=\"background-color:AliceBlue;\">64.0%</td><td  style=\"background-color:AliceBlue;\">espetacular</td></tr></table>"
      ],
      "text/plain": [
       "<ipy_table.IpyTable at 0x7f47c8585320>"
      ]
     },
     "execution_count": 21,
     "metadata": {},
     "output_type": "execute_result"
    }
   ],
   "source": [
    "tokens = '_'.join([word_node.get('form').lower() \n",
    "                   for word_node in reviews.iter('word')])\n",
    "\n",
    "# get chunks of opinions in the corpus\n",
    "opinions_list = []\n",
    "for sentence_node in reviews.iter('sentence'):    \n",
    "    chunk = []\n",
    "    for word_node in sentence_node.getchildren():\n",
    "        if word_node.get('opinion') != 'O' and word_node.get('opinion') != None:\n",
    "            chunk.append(word_node.get('form').lower())\n",
    "        else:\n",
    "            if len(chunk) != 0:\n",
    "                opinions_list.append('_'.join(chunk))\n",
    "                chunk = []\n",
    "    if len(chunk) != 0:\n",
    "        opinions_list.append('_'.join(chunk))\n",
    "\n",
    "        \n",
    "opinion_freq =  Counter(opinions_list)\n",
    "# check relative frequency for these chunks in the corpus\n",
    "\n",
    "data = [['freq', '%opinion', '%tokens', 'opinion chunk']]\n",
    "for token, freq in opinion_freq.most_common(30):\n",
    "    ratio = freq / sum(opinion_freq.values()) *100\n",
    "    relat_freq = freq / tokens.count(token) * 100\n",
    "    data.append([freq, '{:.1f}%'.format(ratio), '{:.1f}%'.format(relat_freq), token])\n",
    "\n",
    "ipy_table.make_table(data)\n",
    "ipy_table.apply_theme('basic')"
   ]
  },
  {
   "cell_type": "code",
   "execution_count": null,
   "metadata": {
    "collapsed": true
   },
   "outputs": [],
   "source": []
  },
  {
   "cell_type": "code",
   "execution_count": null,
   "metadata": {
    "collapsed": true
   },
   "outputs": [],
   "source": []
  }
 ],
 "metadata": {
  "kernelspec": {
   "display_name": "Python 3",
   "language": "python",
   "name": "python3"
  },
  "language_info": {
   "codemirror_mode": {
    "name": "ipython",
    "version": 3
   },
   "file_extension": ".py",
   "mimetype": "text/x-python",
   "name": "python",
   "nbconvert_exporter": "python",
   "pygments_lexer": "ipython3",
   "version": "3.5.1+"
  }
 },
 "nbformat": 4,
 "nbformat_minor": 0
}

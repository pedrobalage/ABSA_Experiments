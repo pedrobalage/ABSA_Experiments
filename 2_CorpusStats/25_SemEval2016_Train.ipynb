{
 "cells": [
  {
   "cell_type": "markdown",
   "metadata": {},
   "source": [
    "# Statistics in SemEval 2015 Restaurants Train Corpus annotated with Stanford CoreNLP"
   ]
  },
  {
   "cell_type": "code",
   "execution_count": 1,
   "metadata": {
    "collapsed": true
   },
   "outputs": [],
   "source": [
    "from __future__ import print_function\n",
    "from __future__ import division"
   ]
  },
  {
   "cell_type": "code",
   "execution_count": 2,
   "metadata": {
    "collapsed": false
   },
   "outputs": [],
   "source": [
    "from lxml.etree import ElementTree\n",
    "reviews = ElementTree().parse('../corpus/SemEvalABSA2016EnglishRestaurants_train.xml')"
   ]
  },
  {
   "cell_type": "markdown",
   "metadata": {},
   "source": [
    "## Token Type Ratio"
   ]
  },
  {
   "cell_type": "code",
   "execution_count": 3,
   "metadata": {
    "collapsed": false
   },
   "outputs": [
    {
     "name": "stdout",
     "output_type": "stream",
     "text": [
      "Total tokens: 28946\n",
      "Total types:  3985\n",
      "Token/Type ratio:  7.3%\n"
     ]
    }
   ],
   "source": [
    "from collections import Counter\n",
    "freqlist = Counter([word_node.get('form') for word_node in reviews.iter('word')])\n",
    "\n",
    "print ('Total tokens: {}'.format(sum(freqlist.values())))\n",
    "print ('Total types:  {}'.format(len(freqlist.keys())))\n",
    "print ('Token/Type ratio:  {:.1f}%'.format(sum(freqlist.values())/len(freqlist.keys())))"
   ]
  },
  {
   "cell_type": "markdown",
   "metadata": {},
   "source": [
    "## Lexical Frequency"
   ]
  },
  {
   "cell_type": "code",
   "execution_count": 4,
   "metadata": {
    "collapsed": false
   },
   "outputs": [],
   "source": [
    "import ipy_table"
   ]
  },
  {
   "cell_type": "code",
   "execution_count": 5,
   "metadata": {
    "collapsed": false
   },
   "outputs": [
    {
     "data": {
      "text/html": [
       "<table border=\"1\" cellpadding=\"3\" cellspacing=\"0\"  style=\"border:1px solid black;border-collapse:collapse;\"><tr><td  style=\"background-color:LightGray;\"><b>Freq</b></td><td  style=\"background-color:LightGray;\"><b>%&nbspFreq</b></td><td  style=\"background-color:LightGray;\"><b>Token</b></td></tr><tr><td  style=\"background-color:Ivory;\">1661</td><td  style=\"background-color:Ivory;\">5.74%</td><td  style=\"background-color:Ivory;\">.</td></tr><tr><td  style=\"background-color:AliceBlue;\">1512</td><td  style=\"background-color:AliceBlue;\">5.22%</td><td  style=\"background-color:AliceBlue;\">the</td></tr><tr><td  style=\"background-color:Ivory;\">1019</td><td  style=\"background-color:Ivory;\">3.52%</td><td  style=\"background-color:Ivory;\">,</td></tr><tr><td  style=\"background-color:AliceBlue;\">874</td><td  style=\"background-color:AliceBlue;\">3.02%</td><td  style=\"background-color:AliceBlue;\">and</td></tr><tr><td  style=\"background-color:Ivory;\">642</td><td  style=\"background-color:Ivory;\">2.22%</td><td  style=\"background-color:Ivory;\">i</td></tr><tr><td  style=\"background-color:AliceBlue;\">605</td><td  style=\"background-color:AliceBlue;\">2.09%</td><td  style=\"background-color:AliceBlue;\">a</td></tr><tr><td  style=\"background-color:Ivory;\">525</td><td  style=\"background-color:Ivory;\">1.81%</td><td  style=\"background-color:Ivory;\">is</td></tr><tr><td  style=\"background-color:AliceBlue;\">519</td><td  style=\"background-color:AliceBlue;\">1.79%</td><td  style=\"background-color:AliceBlue;\">to</td></tr><tr><td  style=\"background-color:Ivory;\">468</td><td  style=\"background-color:Ivory;\">1.62%</td><td  style=\"background-color:Ivory;\">was</td></tr><tr><td  style=\"background-color:AliceBlue;\">386</td><td  style=\"background-color:AliceBlue;\">1.33%</td><td  style=\"background-color:AliceBlue;\">it</td></tr><tr><td  style=\"background-color:Ivory;\">353</td><td  style=\"background-color:Ivory;\">1.22%</td><td  style=\"background-color:Ivory;\">of</td></tr><tr><td  style=\"background-color:AliceBlue;\">311</td><td  style=\"background-color:AliceBlue;\">1.07%</td><td  style=\"background-color:AliceBlue;\">for</td></tr><tr><td  style=\"background-color:Ivory;\">301</td><td  style=\"background-color:Ivory;\">1.04%</td><td  style=\"background-color:Ivory;\">in</td></tr><tr><td  style=\"background-color:AliceBlue;\">287</td><td  style=\"background-color:AliceBlue;\">0.99%</td><td  style=\"background-color:AliceBlue;\">food</td></tr><tr><td  style=\"background-color:Ivory;\">261</td><td  style=\"background-color:Ivory;\">0.90%</td><td  style=\"background-color:Ivory;\">we</td></tr><tr><td  style=\"background-color:AliceBlue;\">244</td><td  style=\"background-color:AliceBlue;\">0.84%</td><td  style=\"background-color:AliceBlue;\">this</td></tr><tr><td  style=\"background-color:Ivory;\">235</td><td  style=\"background-color:Ivory;\">0.81%</td><td  style=\"background-color:Ivory;\">you</td></tr><tr><td  style=\"background-color:AliceBlue;\">223</td><td  style=\"background-color:AliceBlue;\">0.77%</td><td  style=\"background-color:AliceBlue;\">but</td></tr><tr><td  style=\"background-color:Ivory;\">206</td><td  style=\"background-color:Ivory;\">0.71%</td><td  style=\"background-color:Ivory;\">place</td></tr><tr><td  style=\"background-color:AliceBlue;\">199</td><td  style=\"background-color:AliceBlue;\">0.69%</td><td  style=\"background-color:AliceBlue;\">not</td></tr></table>"
      ],
      "text/plain": [
       "<ipy_table.IpyTable at 0x7fa40407d6a0>"
      ]
     },
     "execution_count": 5,
     "metadata": {},
     "output_type": "execute_result"
    }
   ],
   "source": [
    "freqlist = Counter([word_node.get('form').lower() for word_node in reviews.iter('word')])\n",
    "\n",
    "data = [['Freq', '% Freq', 'Token']]\n",
    "for token, freq in freqlist.most_common(20):\n",
    "    ratio = freq / sum(freqlist.values()) * 100\n",
    "    data.append( [freq, '{:.2f}%'.format(ratio), token])\n",
    "\n",
    "ipy_table.make_table(data)\n",
    "ipy_table.apply_theme('basic')"
   ]
  },
  {
   "cell_type": "markdown",
   "metadata": {},
   "source": [
    "## Lemma Frequency"
   ]
  },
  {
   "cell_type": "code",
   "execution_count": 6,
   "metadata": {
    "collapsed": false
   },
   "outputs": [
    {
     "data": {
      "text/html": [
       "<table border=\"1\" cellpadding=\"3\" cellspacing=\"0\"  style=\"border:1px solid black;border-collapse:collapse;\"><tr><td  style=\"background-color:LightGray;\"><b>Freq</b></td><td  style=\"background-color:LightGray;\"><b>%&nbspFreq</b></td><td  style=\"background-color:LightGray;\"><b>Lemma</b></td></tr><tr><td  style=\"background-color:Ivory;\">1661</td><td  style=\"background-color:Ivory;\">5.74%</td><td  style=\"background-color:Ivory;\">.</td></tr><tr><td  style=\"background-color:AliceBlue;\">1621</td><td  style=\"background-color:AliceBlue;\">5.60%</td><td  style=\"background-color:AliceBlue;\">be</td></tr><tr><td  style=\"background-color:Ivory;\">1512</td><td  style=\"background-color:Ivory;\">5.22%</td><td  style=\"background-color:Ivory;\">the</td></tr><tr><td  style=\"background-color:AliceBlue;\">1019</td><td  style=\"background-color:AliceBlue;\">3.52%</td><td  style=\"background-color:AliceBlue;\">,</td></tr><tr><td  style=\"background-color:Ivory;\">874</td><td  style=\"background-color:Ivory;\">3.02%</td><td  style=\"background-color:Ivory;\">and</td></tr><tr><td  style=\"background-color:AliceBlue;\">693</td><td  style=\"background-color:AliceBlue;\">2.39%</td><td  style=\"background-color:AliceBlue;\">i</td></tr><tr><td  style=\"background-color:Ivory;\">664</td><td  style=\"background-color:Ivory;\">2.29%</td><td  style=\"background-color:Ivory;\">a</td></tr><tr><td  style=\"background-color:AliceBlue;\">519</td><td  style=\"background-color:AliceBlue;\">1.79%</td><td  style=\"background-color:AliceBlue;\">to</td></tr><tr><td  style=\"background-color:Ivory;\">389</td><td  style=\"background-color:Ivory;\">1.34%</td><td  style=\"background-color:Ivory;\">have</td></tr><tr><td  style=\"background-color:AliceBlue;\">386</td><td  style=\"background-color:AliceBlue;\">1.33%</td><td  style=\"background-color:AliceBlue;\">it</td></tr><tr><td  style=\"background-color:Ivory;\">380</td><td  style=\"background-color:Ivory;\">1.31%</td><td  style=\"background-color:Ivory;\">we</td></tr><tr><td  style=\"background-color:AliceBlue;\">364</td><td  style=\"background-color:AliceBlue;\">1.26%</td><td  style=\"background-color:AliceBlue;\">not</td></tr><tr><td  style=\"background-color:Ivory;\">353</td><td  style=\"background-color:Ivory;\">1.22%</td><td  style=\"background-color:Ivory;\">of</td></tr><tr><td  style=\"background-color:AliceBlue;\">311</td><td  style=\"background-color:AliceBlue;\">1.07%</td><td  style=\"background-color:AliceBlue;\">for</td></tr><tr><td  style=\"background-color:Ivory;\">301</td><td  style=\"background-color:Ivory;\">1.04%</td><td  style=\"background-color:Ivory;\">in</td></tr><tr><td  style=\"background-color:AliceBlue;\">293</td><td  style=\"background-color:AliceBlue;\">1.01%</td><td  style=\"background-color:AliceBlue;\">you</td></tr><tr><td  style=\"background-color:Ivory;\">289</td><td  style=\"background-color:Ivory;\">1.00%</td><td  style=\"background-color:Ivory;\">food</td></tr><tr><td  style=\"background-color:AliceBlue;\">244</td><td  style=\"background-color:AliceBlue;\">0.84%</td><td  style=\"background-color:AliceBlue;\">this</td></tr><tr><td  style=\"background-color:Ivory;\">224</td><td  style=\"background-color:Ivory;\">0.77%</td><td  style=\"background-color:Ivory;\">place</td></tr><tr><td  style=\"background-color:AliceBlue;\">223</td><td  style=\"background-color:AliceBlue;\">0.77%</td><td  style=\"background-color:AliceBlue;\">but</td></tr></table>"
      ],
      "text/plain": [
       "<ipy_table.IpyTable at 0x7fa40407cba8>"
      ]
     },
     "execution_count": 6,
     "metadata": {},
     "output_type": "execute_result"
    }
   ],
   "source": [
    "freqlist = Counter([word_node.get('base').lower() for word_node in reviews.iter('word')])\n",
    "\n",
    "data = [['Freq', '% Freq', 'Lemma']]\n",
    "for token, freq in freqlist.most_common(20):\n",
    "    ratio = freq / sum(freqlist.values()) * 100\n",
    "    data.append( [freq, '{:.2f}%'.format(ratio), token])\n",
    "\n",
    "ipy_table.make_table(data)\n",
    "ipy_table.apply_theme('basic')"
   ]
  },
  {
   "cell_type": "markdown",
   "metadata": {},
   "source": [
    "## Part-of-Speech Frequency"
   ]
  },
  {
   "cell_type": "code",
   "execution_count": 7,
   "metadata": {
    "collapsed": false
   },
   "outputs": [],
   "source": [
    "from operator import itemgetter\n",
    "postag_freq = dict()\n",
    "freqlist = dict()\n",
    "\n",
    "for word_node in reviews.iter('word'):\n",
    "    form = word_node.get('form').lower()\n",
    "    postag = word_node.get('postag')\n",
    "    \n",
    "    postag_freq[postag] = postag_freq.get(postag, 0) + 1\n",
    "    if postag not in freqlist:\n",
    "        freqlist[postag] = dict()\n",
    "    freqlist[postag][form] = freqlist[postag].get(form, 0) + 1 "
   ]
  },
  {
   "cell_type": "code",
   "execution_count": 8,
   "metadata": {
    "collapsed": false,
    "scrolled": true
   },
   "outputs": [
    {
     "data": {
      "text/html": [
       "<table border=\"1\" cellpadding=\"3\" cellspacing=\"0\"  style=\"border:1px solid black;border-collapse:collapse;\"><tr><td  style=\"background-color:LightGray;\"><b>FREQ</b></td><td  style=\"background-color:LightGray;\"><b>%&nbspFREQ</b></td><td  style=\"background-color:LightGray;\"><b>POSTAG</b></td><td  style=\"background-color:LightGray;\"><b>EXAMPLES</b></td></tr><tr><td  style=\"background-color:Ivory;\">4087</td><td  style=\"background-color:Ivory;\">14.1%</td><td  style=\"background-color:Ivory;\">NN</td><td  style=\"background-color:Ivory;\">food(6.7%),&nbspplace(5.0%),&nbspservice(3.3%),&nbsprestaurant(2.7%),&nbsptime(1.5%)</td></tr><tr><td  style=\"background-color:AliceBlue;\">2721</td><td  style=\"background-color:AliceBlue;\">9.4%</td><td  style=\"background-color:AliceBlue;\">DT</td><td  style=\"background-color:AliceBlue;\">the(55.5%),&nbspa(22.2%),&nbspthis(8.8%),&nbspall(2.9%),&nbspan(2.2%)</td></tr><tr><td  style=\"background-color:Ivory;\">2652</td><td  style=\"background-color:Ivory;\">9.2%</td><td  style=\"background-color:Ivory;\">JJ</td><td  style=\"background-color:Ivory;\">great(7.0%),&nbspgood(6.7%),&nbspdelicious(2.0%),&nbspnice(1.8%),&nbspexcellent(1.7%)</td></tr><tr><td  style=\"background-color:AliceBlue;\">2357</td><td  style=\"background-color:AliceBlue;\">8.1%</td><td  style=\"background-color:AliceBlue;\">IN</td><td  style=\"background-color:AliceBlue;\">of(15.0%),&nbspfor(13.2%),&nbspin(12.8%),&nbspon(7.3%),&nbspwith(7.1%)</td></tr><tr><td  style=\"background-color:Ivory;\">2008</td><td  style=\"background-color:Ivory;\">6.9%</td><td  style=\"background-color:Ivory;\">RB</td><td  style=\"background-color:Ivory;\">not(9.8%),&nbspn't(8.2%),&nbspvery(6.0%),&nbspso(4.5%),&nbsphere(3.6%)</td></tr><tr><td  style=\"background-color:AliceBlue;\">1877</td><td  style=\"background-color:AliceBlue;\">6.5%</td><td  style=\"background-color:AliceBlue;\">.</td><td  style=\"background-color:AliceBlue;\">.(88.5%),&nbsp!(10.4%),&nbsp?(1.1%)</td></tr><tr><td  style=\"background-color:Ivory;\">1788</td><td  style=\"background-color:Ivory;\">6.2%</td><td  style=\"background-color:Ivory;\">PRP</td><td  style=\"background-color:Ivory;\">i(33.2%),&nbspit(21.6%),&nbspwe(14.6%),&nbspyou(13.1%),&nbspthey(6.9%)</td></tr><tr><td  style=\"background-color:AliceBlue;\">1296</td><td  style=\"background-color:AliceBlue;\">4.5%</td><td  style=\"background-color:AliceBlue;\">VBD</td><td  style=\"background-color:AliceBlue;\">was(36.1%),&nbspwere(10.9%),&nbsphad(9.3%),&nbspdid(3.2%),&nbspwent(2.9%)</td></tr><tr><td  style=\"background-color:Ivory;\">1190</td><td  style=\"background-color:Ivory;\">4.1%</td><td  style=\"background-color:Ivory;\">CC</td><td  style=\"background-color:Ivory;\">and(73.4%),&nbspbut(18.5%),&nbspor(5.9%),&nbspeither(0.7%),&nbspboth(0.7%)</td></tr><tr><td  style=\"background-color:AliceBlue;\">1019</td><td  style=\"background-color:AliceBlue;\">3.5%</td><td  style=\"background-color:AliceBlue;\">,</td><td  style=\"background-color:AliceBlue;\">,(100.0%)</td></tr><tr><td  style=\"background-color:Ivory;\">1000</td><td  style=\"background-color:Ivory;\">3.5%</td><td  style=\"background-color:Ivory;\">VB</td><td  style=\"background-color:Ivory;\">be(11.1%),&nbspgo(8.2%),&nbspget(4.4%),&nbsphave(4.2%),&nbsptry(3.7%)</td></tr><tr><td  style=\"background-color:AliceBlue;\">875</td><td  style=\"background-color:AliceBlue;\">3.0%</td><td  style=\"background-color:AliceBlue;\">NNS</td><td  style=\"background-color:AliceBlue;\">restaurants(4.0%),&nbspprices(3.8%),&nbsptimes(3.8%),&nbspdishes(3.3%),&nbsppeople(3.2%)</td></tr><tr><td  style=\"background-color:Ivory;\">852</td><td  style=\"background-color:Ivory;\">2.9%</td><td  style=\"background-color:Ivory;\">NNP</td><td  style=\"background-color:Ivory;\">service(3.1%),&nbspnew(2.5%),&nbspthai(2.5%),&nbspnyc(2.3%),&nbspyork(2.1%)</td></tr><tr><td  style=\"background-color:AliceBlue;\">814</td><td  style=\"background-color:AliceBlue;\">2.8%</td><td  style=\"background-color:AliceBlue;\">VBZ</td><td  style=\"background-color:AliceBlue;\">is(64.5%),&nbsp's(9.7%),&nbsphas(5.2%),&nbspdoes(2.3%),&nbspmakes(1.1%)</td></tr><tr><td  style=\"background-color:Ivory;\">723</td><td  style=\"background-color:Ivory;\">2.5%</td><td  style=\"background-color:Ivory;\">VBP</td><td  style=\"background-color:Ivory;\">are(20.2%),&nbsphave(15.4%),&nbspdo(8.6%),&nbsp've(6.5%),&nbsp're(4.1%)</td></tr><tr><td  style=\"background-color:AliceBlue;\">519</td><td  style=\"background-color:AliceBlue;\">1.8%</td><td  style=\"background-color:AliceBlue;\">TO</td><td  style=\"background-color:AliceBlue;\">to(100.0%)</td></tr><tr><td  style=\"background-color:Ivory;\">455</td><td  style=\"background-color:Ivory;\">1.6%</td><td  style=\"background-color:Ivory;\">VBN</td><td  style=\"background-color:Ivory;\">been(12.5%),&nbsphad(4.2%),&nbspmade(4.0%),&nbspeaten(3.5%),&nbsppriced(2.6%)</td></tr><tr><td  style=\"background-color:AliceBlue;\">401</td><td  style=\"background-color:AliceBlue;\">1.4%</td><td  style=\"background-color:AliceBlue;\">PRP$</td><td  style=\"background-color:AliceBlue;\">my(44.6%),&nbspour(17.5%),&nbspyour(14.5%),&nbsptheir(13.5%),&nbspits(5.0%)</td></tr><tr><td  style=\"background-color:Ivory;\">323</td><td  style=\"background-color:Ivory;\">1.1%</td><td  style=\"background-color:Ivory;\">MD</td><td  style=\"background-color:Ivory;\">would(24.1%),&nbspcan(18.0%),&nbspwill(15.8%),&nbspca(8.0%),&nbspcould(7.7%)</td></tr><tr><td  style=\"background-color:AliceBlue;\">299</td><td  style=\"background-color:AliceBlue;\">1.0%</td><td  style=\"background-color:AliceBlue;\">VBG</td><td  style=\"background-color:AliceBlue;\">going(10.0%),&nbspbeing(6.7%),&nbsplooking(4.3%),&nbspeating(3.0%),&nbspsitting(2.7%)</td></tr><tr><td  style=\"background-color:Ivory;\">267</td><td  style=\"background-color:Ivory;\">0.9%</td><td  style=\"background-color:Ivory;\">CD</td><td  style=\"background-color:Ivory;\">one(24.3%),&nbsptwo(8.6%),&nbsp2(5.2%),&nbspfour(4.5%),&nbsp5(3.7%)</td></tr><tr><td  style=\"background-color:AliceBlue;\">243</td><td  style=\"background-color:AliceBlue;\">0.8%</td><td  style=\"background-color:AliceBlue;\">:</td><td  style=\"background-color:AliceBlue;\">...(38.7%),&nbsp-(30.9%),&nbsp:(11.9%),&nbsp--(10.3%),&nbsp;(7.0%)</td></tr><tr><td  style=\"background-color:Ivory;\">128</td><td  style=\"background-color:Ivory;\">0.4%</td><td  style=\"background-color:Ivory;\">WDT</td><td  style=\"background-color:Ivory;\">which(53.9%),&nbspthat(40.6%),&nbspwhat(4.7%),&nbspwhatever(0.8%)</td></tr><tr><td  style=\"background-color:AliceBlue;\">115</td><td  style=\"background-color:AliceBlue;\">0.4%</td><td  style=\"background-color:AliceBlue;\">JJS</td><td  style=\"background-color:AliceBlue;\">best(53.9%),&nbspmost(13.9%),&nbspleast(12.2%),&nbspworst(7.8%),&nbspnicest(2.6%)</td></tr><tr><td  style=\"background-color:Ivory;\">96</td><td  style=\"background-color:Ivory;\">0.3%</td><td  style=\"background-color:Ivory;\">-RRB-</td><td  style=\"background-color:Ivory;\">-rrb-(100.0%)</td></tr><tr><td  style=\"background-color:AliceBlue;\">91</td><td  style=\"background-color:AliceBlue;\">0.3%</td><td  style=\"background-color:AliceBlue;\">-LRB-</td><td  style=\"background-color:AliceBlue;\">-lrb-(100.0%)</td></tr><tr><td  style=\"background-color:Ivory;\">90</td><td  style=\"background-color:Ivory;\">0.3%</td><td  style=\"background-color:Ivory;\">WRB</td><td  style=\"background-color:Ivory;\">when(60.0%),&nbsphow(21.1%),&nbspwhere(15.6%),&nbspwhy(2.2%),&nbspwherever(1.1%)</td></tr><tr><td  style=\"background-color:AliceBlue;\">86</td><td  style=\"background-color:AliceBlue;\">0.3%</td><td  style=\"background-color:AliceBlue;\">RP</td><td  style=\"background-color:AliceBlue;\">out(39.5%),&nbspup(37.2%),&nbspoff(11.6%),&nbspdown(8.1%),&nbspaway(2.3%)</td></tr><tr><td  style=\"background-color:Ivory;\">80</td><td  style=\"background-color:Ivory;\">0.3%</td><td  style=\"background-color:Ivory;\">WP</td><td  style=\"background-color:Ivory;\">what(55.0%),&nbspwho(41.2%),&nbspwhom(2.5%),&nbspwhoever(1.2%)</td></tr><tr><td  style=\"background-color:AliceBlue;\">70</td><td  style=\"background-color:AliceBlue;\">0.2%</td><td  style=\"background-color:AliceBlue;\">JJR</td><td  style=\"background-color:AliceBlue;\">more(37.1%),&nbspbetter(32.9%),&nbspless(5.7%),&nbsplarger(2.9%),&nbspcheaper(2.9%)</td></tr><tr><td  style=\"background-color:Ivory;\">64</td><td  style=\"background-color:Ivory;\">0.2%</td><td  style=\"background-color:Ivory;\">EX</td><td  style=\"background-color:Ivory;\">there(100.0%)</td></tr><tr><td  style=\"background-color:AliceBlue;\">61</td><td  style=\"background-color:AliceBlue;\">0.2%</td><td  style=\"background-color:AliceBlue;\">FW</td><td  style=\"background-color:AliceBlue;\">i(60.7%),&nbspentree(14.8%),&nbspetc.(4.9%),&nbspalla(3.3%),&nbspcarte(3.3%)</td></tr><tr><td  style=\"background-color:Ivory;\">54</td><td  style=\"background-color:Ivory;\">0.2%</td><td  style=\"background-color:Ivory;\">POS</td><td  style=\"background-color:Ivory;\">'s(98.1%),&nbsp'(1.9%)</td></tr><tr><td  style=\"background-color:AliceBlue;\">50</td><td  style=\"background-color:AliceBlue;\">0.2%</td><td  style=\"background-color:AliceBlue;\">RBR</td><td  style=\"background-color:AliceBlue;\">more(62.0%),&nbspbetter(18.0%),&nbspless(8.0%),&nbspearlier(4.0%),&nbsplater(2.0%)</td></tr><tr><td  style=\"background-color:Ivory;\">47</td><td  style=\"background-color:Ivory;\">0.2%</td><td  style=\"background-color:Ivory;\">$</td><td  style=\"background-color:Ivory;\">$(100.0%)</td></tr><tr><td  style=\"background-color:AliceBlue;\">30</td><td  style=\"background-color:AliceBlue;\">0.1%</td><td  style=\"background-color:AliceBlue;\">PDT</td><td  style=\"background-color:AliceBlue;\">all(70.0%),&nbspsuch(23.3%),&nbsphalf(6.7%)</td></tr><tr><td  style=\"background-color:Ivory;\">26</td><td  style=\"background-color:Ivory;\">0.1%</td><td  style=\"background-color:Ivory;\">''</td><td  style=\"background-color:Ivory;\">''(76.9%),&nbsp'(23.1%)</td></tr><tr><td  style=\"background-color:AliceBlue;\">24</td><td  style=\"background-color:AliceBlue;\">0.1%</td><td  style=\"background-color:AliceBlue;\">``</td><td  style=\"background-color:AliceBlue;\">``(70.8%),&nbsp`(29.2%)</td></tr><tr><td  style=\"background-color:Ivory;\">18</td><td  style=\"background-color:Ivory;\">0.1%</td><td  style=\"background-color:Ivory;\">UH</td><td  style=\"background-color:Ivory;\">yes(44.4%),&nbspoh(27.8%),&nbspwow(16.7%),&nbspyeah(5.6%),&nbsphey(5.6%)</td></tr><tr><td  style=\"background-color:AliceBlue;\">16</td><td  style=\"background-color:AliceBlue;\">0.1%</td><td  style=\"background-color:AliceBlue;\">NNPS</td><td  style=\"background-color:AliceBlue;\">seasons(31.2%),&nbsptoons(12.5%),&nbspfarms(12.5%),&nbspstreets(6.2%),&nbspmussles(6.2%)</td></tr><tr><td  style=\"background-color:Ivory;\">14</td><td  style=\"background-color:Ivory;\">0.0%</td><td  style=\"background-color:Ivory;\">LS</td><td  style=\"background-color:Ivory;\">i(78.6%),&nbsp2(7.1%),&nbspe(7.1%),&nbsp1(7.1%)</td></tr><tr><td  style=\"background-color:AliceBlue;\">14</td><td  style=\"background-color:AliceBlue;\">0.0%</td><td  style=\"background-color:AliceBlue;\">RBS</td><td  style=\"background-color:AliceBlue;\">most(100.0%)</td></tr><tr><td  style=\"background-color:Ivory;\">5</td><td  style=\"background-color:Ivory;\">0.0%</td><td  style=\"background-color:Ivory;\">SYM</td><td  style=\"background-color:Ivory;\">*(80.0%),&nbspyum(20.0%)</td></tr><tr><td  style=\"background-color:AliceBlue;\">1</td><td  style=\"background-color:AliceBlue;\">0.0%</td><td  style=\"background-color:AliceBlue;\">#</td><td  style=\"background-color:AliceBlue;\">#(100.0%)</td></tr></table>"
      ],
      "text/plain": [
       "<ipy_table.IpyTable at 0x7fa40407d3c8>"
      ]
     },
     "execution_count": 8,
     "metadata": {},
     "output_type": "execute_result"
    }
   ],
   "source": [
    "data = [['FREQ', '% FREQ', 'POSTAG', 'EXAMPLES']]\n",
    "\n",
    "for pos, freq in sorted(postag_freq.items(), key=itemgetter(1), reverse=True):\n",
    "    examples = ', '.join(['{}({:.1f}%)'.format(w,f / sum(freqlist[pos].values()) * 100) \n",
    "                          for w,f in sorted(freqlist[pos].items(), key=itemgetter(1), reverse=True)[:5]])\n",
    "    ratio = freq / sum(postag_freq.values()) * 100\n",
    "    data.append([freq, '{:.1f}%'.format(ratio), pos, examples])\n",
    "\n",
    "ipy_table.make_table(data)\n",
    "ipy_table.apply_theme('basic')"
   ]
  },
  {
   "cell_type": "markdown",
   "metadata": {},
   "source": [
    "## Dependency relation frequency"
   ]
  },
  {
   "cell_type": "code",
   "execution_count": 9,
   "metadata": {
    "collapsed": false
   },
   "outputs": [
    {
     "data": {
      "text/html": [
       "<table border=\"1\" cellpadding=\"3\" cellspacing=\"0\"  style=\"border:1px solid black;border-collapse:collapse;\"><tr><td  style=\"background-color:LightGray;\"><b>FREQ</b></td><td  style=\"background-color:LightGray;\"><b>%&nbspFREQ</b></td><td  style=\"background-color:LightGray;\"><b>DEPREL</b></td><td  style=\"background-color:LightGray;\"><b>EXAMPLES</b></td></tr><tr><td  style=\"background-color:Ivory;\">3376</td><td  style=\"background-color:Ivory;\">11.7%</td><td  style=\"background-color:Ivory;\">punct</td><td  style=\"background-color:Ivory;\">.(49.2%),&nbsp,(30.2%),&nbsp!(5.8%),&nbsp-rrb-(2.8%),&nbsp...(2.8%)</td></tr><tr><td  style=\"background-color:AliceBlue;\">2865</td><td  style=\"background-color:AliceBlue;\">9.9%</td><td  style=\"background-color:AliceBlue;\">nsubj</td><td  style=\"background-color:AliceBlue;\">i(20.3%),&nbspwe(8.2%),&nbspit(8.2%),&nbspyou(6.8%),&nbspfood(4.5%)</td></tr><tr><td  style=\"background-color:Ivory;\">2480</td><td  style=\"background-color:Ivory;\">8.6%</td><td  style=\"background-color:Ivory;\">det</td><td  style=\"background-color:Ivory;\">the(60.6%),&nbspa(24.2%),&nbspthis(7.2%),&nbspan(2.4%),&nbspsome(1.2%)</td></tr><tr><td  style=\"background-color:AliceBlue;\">2023</td><td  style=\"background-color:AliceBlue;\">7.0%</td><td  style=\"background-color:AliceBlue;\">case</td><td  style=\"background-color:AliceBlue;\">of(16.7%),&nbspin(14.2%),&nbspfor(14.0%),&nbspto(8.3%),&nbspwith(8.1%)</td></tr><tr><td  style=\"background-color:Ivory;\">2011</td><td  style=\"background-color:Ivory;\">6.9%</td><td  style=\"background-color:Ivory;\">root</td><td  style=\"background-color:Ivory;\">good(2.5%),&nbsphad(2.4%),&nbspgo(2.0%),&nbspplace(1.9%),&nbspfood(1.7%)</td></tr><tr><td  style=\"background-color:AliceBlue;\">1812</td><td  style=\"background-color:AliceBlue;\">6.3%</td><td  style=\"background-color:AliceBlue;\">nmod</td><td  style=\"background-color:AliceBlue;\">food(2.7%),&nbspplace(2.2%),&nbsprestaurant(1.9%),&nbspit(1.9%),&nbsprestaurants(1.4%)</td></tr><tr><td  style=\"background-color:Ivory;\">1718</td><td  style=\"background-color:Ivory;\">5.9%</td><td  style=\"background-color:Ivory;\">advmod</td><td  style=\"background-color:Ivory;\">very(7.0%),&nbspso(5.3%),&nbsphere(4.1%),&nbspjust(4.0%),&nbspwhen(3.1%)</td></tr><tr><td  style=\"background-color:AliceBlue;\">1565</td><td  style=\"background-color:AliceBlue;\">5.4%</td><td  style=\"background-color:AliceBlue;\">amod</td><td  style=\"background-color:AliceBlue;\">great(8.1%),&nbspgood(4.9%),&nbspbest(2.8%),&nbspother(2.1%),&nbspindian(1.6%)</td></tr><tr><td  style=\"background-color:Ivory;\">1245</td><td  style=\"background-color:Ivory;\">4.3%</td><td  style=\"background-color:Ivory;\">cop</td><td  style=\"background-color:Ivory;\">is(36.1%),&nbspwas(30.6%),&nbspare(8.8%),&nbspwere(6.9%),&nbspbe(5.7%)</td></tr><tr><td  style=\"background-color:AliceBlue;\">1216</td><td  style=\"background-color:AliceBlue;\">4.2%</td><td  style=\"background-color:AliceBlue;\">conj</td><td  style=\"background-color:AliceBlue;\">service(2.5%),&nbspi(2.2%),&nbsphad(1.8%),&nbspgood(1.4%),&nbspfood(1.2%)</td></tr><tr><td  style=\"background-color:Ivory;\">1172</td><td  style=\"background-color:Ivory;\">4.0%</td><td  style=\"background-color:Ivory;\">cc</td><td  style=\"background-color:Ivory;\">and(74.3%),&nbspbut(18.4%),&nbspor(5.9%),&nbspas(0.3%),&nbsp+(0.3%)</td></tr><tr><td  style=\"background-color:AliceBlue;\">1132</td><td  style=\"background-color:AliceBlue;\">3.9%</td><td  style=\"background-color:AliceBlue;\">dobj</td><td  style=\"background-color:AliceBlue;\">it(7.6%),&nbspfood(3.0%),&nbspplace(2.9%),&nbspwhat(2.7%),&nbspyou(1.7%)</td></tr><tr><td  style=\"background-color:Ivory;\">921</td><td  style=\"background-color:Ivory;\">3.2%</td><td  style=\"background-color:Ivory;\">compound</td><td  style=\"background-color:Ivory;\">new(2.3%),&nbspwine(2.1%),&nbspsushi(1.8%),&nbspfood(1.7%),&nbspthai(1.4%)</td></tr><tr><td  style=\"background-color:AliceBlue;\">764</td><td  style=\"background-color:AliceBlue;\">2.6%</td><td  style=\"background-color:AliceBlue;\">mark</td><td  style=\"background-color:AliceBlue;\">to(45.3%),&nbspif(10.3%),&nbspthat(8.4%),&nbspas(5.4%),&nbspbecause(3.8%)</td></tr><tr><td  style=\"background-color:Ivory;\">699</td><td  style=\"background-color:Ivory;\">2.4%</td><td  style=\"background-color:Ivory;\">aux</td><td  style=\"background-color:Ivory;\">have(11.4%),&nbspwould(11.2%),&nbspdo(8.4%),&nbspcan(7.9%),&nbspwill(7.2%)</td></tr><tr><td  style=\"background-color:AliceBlue;\">477</td><td  style=\"background-color:AliceBlue;\">1.6%</td><td  style=\"background-color:AliceBlue;\">dep</td><td  style=\"background-color:AliceBlue;\">all(2.5%),&nbspworth(1.7%),&nbspfresh(1.3%),&nbspis(1.3%),&nbspgreat(1.0%)</td></tr><tr><td  style=\"background-color:Ivory;\">441</td><td  style=\"background-color:Ivory;\">1.5%</td><td  style=\"background-color:Ivory;\">neg</td><td  style=\"background-color:Ivory;\">not(41.5%),&nbspn't(37.2%),&nbspno(10.7%),&nbspnever(10.7%)</td></tr><tr><td  style=\"background-color:AliceBlue;\">421</td><td  style=\"background-color:AliceBlue;\">1.5%</td><td  style=\"background-color:AliceBlue;\">nmod:poss</td><td  style=\"background-color:AliceBlue;\">my(42.0%),&nbspour(16.6%),&nbspyour(13.3%),&nbsptheir(12.6%),&nbspits(4.3%)</td></tr><tr><td  style=\"background-color:Ivory;\">396</td><td  style=\"background-color:Ivory;\">1.4%</td><td  style=\"background-color:Ivory;\">xcomp</td><td  style=\"background-color:Ivory;\">go(3.5%),&nbspwait(2.5%),&nbsptry(2.3%),&nbspeat(2.3%),&nbsporder(2.3%)</td></tr><tr><td  style=\"background-color:AliceBlue;\">381</td><td  style=\"background-color:AliceBlue;\">1.3%</td><td  style=\"background-color:AliceBlue;\">advcl</td><td  style=\"background-color:AliceBlue;\">came(2.1%),&nbsplooking(2.1%),&nbspgo(1.8%),&nbspgot(1.6%),&nbspgreat(1.3%)</td></tr><tr><td  style=\"background-color:Ivory;\">364</td><td  style=\"background-color:Ivory;\">1.3%</td><td  style=\"background-color:Ivory;\">ccomp</td><td  style=\"background-color:Ivory;\">had(3.6%),&nbsphave(3.0%),&nbspfeel(3.0%),&nbspgo(2.5%),&nbspgood(1.9%)</td></tr><tr><td  style=\"background-color:AliceBlue;\">315</td><td  style=\"background-color:AliceBlue;\">1.1%</td><td  style=\"background-color:AliceBlue;\">acl:relcl</td><td  style=\"background-color:AliceBlue;\">had(6.0%),&nbspgreat(2.9%),&nbspgood(2.9%),&nbsphave(2.9%),&nbspordered(1.3%)</td></tr><tr><td  style=\"background-color:Ivory;\">175</td><td  style=\"background-color:Ivory;\">0.6%</td><td  style=\"background-color:Ivory;\">nummod</td><td  style=\"background-color:Ivory;\">two(10.9%),&nbspone(10.9%),&nbsp2(6.9%),&nbspfour(5.1%),&nbsp5(4.0%)</td></tr><tr><td  style=\"background-color:AliceBlue;\">166</td><td  style=\"background-color:AliceBlue;\">0.6%</td><td  style=\"background-color:AliceBlue;\">auxpass</td><td  style=\"background-color:AliceBlue;\">was(30.1%),&nbspwere(19.3%),&nbspbe(16.3%),&nbspis(14.5%),&nbspbeen(5.4%)</td></tr><tr><td  style=\"background-color:Ivory;\">150</td><td  style=\"background-color:Ivory;\">0.5%</td><td  style=\"background-color:Ivory;\">acl</td><td  style=\"background-color:Ivory;\">go(8.0%),&nbspeat(4.0%),&nbspmake(2.7%),&nbspgoing(2.0%),&nbspget(2.0%)</td></tr><tr><td  style=\"background-color:AliceBlue;\">136</td><td  style=\"background-color:AliceBlue;\">0.5%</td><td  style=\"background-color:AliceBlue;\">nsubjpass</td><td  style=\"background-color:AliceBlue;\">we(15.4%),&nbspi(14.0%),&nbspit(10.3%),&nbspyou(5.9%),&nbspthat(5.1%)</td></tr><tr><td  style=\"background-color:Ivory;\">96</td><td  style=\"background-color:Ivory;\">0.3%</td><td  style=\"background-color:Ivory;\">compound:prt</td><td  style=\"background-color:Ivory;\">up(34.4%),&nbspout(33.3%),&nbspoff(10.4%),&nbspdown(9.4%),&nbspin(4.2%)</td></tr><tr><td  style=\"background-color:AliceBlue;\">94</td><td  style=\"background-color:AliceBlue;\">0.3%</td><td  style=\"background-color:AliceBlue;\">appos</td><td  style=\"background-color:AliceBlue;\">service(6.4%),&nbspnothing(5.3%),&nbspfood(4.3%),&nbspstaff(3.2%),&nbsptime(2.1%)</td></tr><tr><td  style=\"background-color:Ivory;\">78</td><td  style=\"background-color:Ivory;\">0.3%</td><td  style=\"background-color:Ivory;\">parataxis</td><td  style=\"background-color:Ivory;\">delicious(5.1%),&nbsphave(3.8%),&nbspordered(2.6%),&nbspexcellent(2.6%),&nbsphad(2.6%)</td></tr><tr><td  style=\"background-color:AliceBlue;\">54</td><td  style=\"background-color:AliceBlue;\">0.2%</td><td  style=\"background-color:AliceBlue;\">expl</td><td  style=\"background-color:AliceBlue;\">there(100.0%)</td></tr><tr><td  style=\"background-color:Ivory;\">43</td><td  style=\"background-color:Ivory;\">0.1%</td><td  style=\"background-color:Ivory;\">nmod:npmod</td><td  style=\"background-color:Ivory;\">least(16.3%),&nbspbit(11.6%),&nbspeach(9.3%),&nbspit(7.0%),&nbspcouple(4.7%)</td></tr><tr><td  style=\"background-color:AliceBlue;\">39</td><td  style=\"background-color:AliceBlue;\">0.1%</td><td  style=\"background-color:AliceBlue;\">nmod:tmod</td><td  style=\"background-color:AliceBlue;\">night(25.6%),&nbsptime(15.4%),&nbsptimes(15.4%),&nbspweek(10.3%),&nbspminutes(5.1%)</td></tr><tr><td  style=\"background-color:Ivory;\">33</td><td  style=\"background-color:Ivory;\">0.1%</td><td  style=\"background-color:Ivory;\">det:predet</td><td  style=\"background-color:Ivory;\">all(66.7%),&nbspsuch(27.3%),&nbsphalf(6.1%)</td></tr><tr><td  style=\"background-color:AliceBlue;\">32</td><td  style=\"background-color:AliceBlue;\">0.1%</td><td  style=\"background-color:AliceBlue;\">mwe</td><td  style=\"background-color:AliceBlue;\">well(34.4%),&nbspthan(34.4%),&nbspas(12.5%),&nbspof(12.5%),&nbspif(6.2%)</td></tr><tr><td  style=\"background-color:Ivory;\">22</td><td  style=\"background-color:Ivory;\">0.1%</td><td  style=\"background-color:Ivory;\">csubj</td><td  style=\"background-color:Ivory;\">had(13.6%),&nbspgoing(9.1%),&nbsphave(9.1%),&nbspstuffing(4.5%),&nbspmoved(4.5%)</td></tr><tr><td  style=\"background-color:AliceBlue;\">19</td><td  style=\"background-color:AliceBlue;\">0.1%</td><td  style=\"background-color:AliceBlue;\">iobj</td><td  style=\"background-color:AliceBlue;\">it(31.6%),&nbspus(21.1%),&nbspme(15.8%),&nbspthem(10.5%),&nbspyou(10.5%)</td></tr><tr><td  style=\"background-color:Ivory;\">10</td><td  style=\"background-color:Ivory;\">0.0%</td><td  style=\"background-color:Ivory;\">cc:preconj</td><td  style=\"background-color:Ivory;\">both(50.0%),&nbspeither(30.0%),&nbsponly(20.0%)</td></tr><tr><td  style=\"background-color:AliceBlue;\">3</td><td  style=\"background-color:AliceBlue;\">0.0%</td><td  style=\"background-color:AliceBlue;\">discourse</td><td  style=\"background-color:AliceBlue;\">yes(66.7%),&nbsphas(33.3%)</td></tr><tr><td  style=\"background-color:Ivory;\">2</td><td  style=\"background-color:Ivory;\">0.0%</td><td  style=\"background-color:Ivory;\">csubjpass</td><td  style=\"background-color:Ivory;\">eat(50.0%),&nbspgo(50.0%)</td></tr></table>"
      ],
      "text/plain": [
       "<ipy_table.IpyTable at 0x7fa40dd1acc0>"
      ]
     },
     "execution_count": 9,
     "metadata": {},
     "output_type": "execute_result"
    }
   ],
   "source": [
    "from operator import itemgetter\n",
    "deprel_freq = dict()\n",
    "freqlist = dict()\n",
    "\n",
    "for word_node in reviews.iter('word'):\n",
    "    form = word_node.get('form').lower()\n",
    "    deprel = word_node.get('deprel')\n",
    "    # fix a bug in PALAVRAS output\n",
    "    deprel = deprel.split()[0]\n",
    "    \n",
    "    deprel_freq[deprel] = deprel_freq.get(deprel, 0) + 1\n",
    "    if deprel not in freqlist:\n",
    "        freqlist[deprel] = dict()\n",
    "    freqlist[deprel][form] = freqlist[deprel].get(form, 0) + 1 \n",
    "    \n",
    "data = [['FREQ', '% FREQ', 'DEPREL', 'EXAMPLES']]\n",
    "\n",
    "for deprel, freq in sorted(deprel_freq.items(), key=itemgetter(1), reverse=True):\n",
    "    examples = ', '.join(['{}({:.1f}%)'.format(w,f / sum(freqlist[deprel].values()) * 100) \n",
    "                          for w,f in sorted(freqlist[deprel].items(), key=itemgetter(1), reverse=True)[:5]])\n",
    "    ratio = freq / sum(deprel_freq.values()) * 100\n",
    "    data.append([freq, '{:.1f}%'.format(ratio), deprel, examples])\n",
    "\n",
    "ipy_table.make_table(data)\n",
    "ipy_table.apply_theme('basic')"
   ]
  },
  {
   "cell_type": "markdown",
   "metadata": {},
   "source": [
    "## Dependency Root frequency"
   ]
  },
  {
   "cell_type": "code",
   "execution_count": 10,
   "metadata": {
    "collapsed": false
   },
   "outputs": [
    {
     "data": {
      "text/html": [
       "<table border=\"1\" cellpadding=\"3\" cellspacing=\"0\"  style=\"border:1px solid black;border-collapse:collapse;\"><tr><td  style=\"background-color:LightGray;\"><b>Freq</b></td><td  style=\"background-color:LightGray;\"><b>%&nbspFreq</b></td><td  style=\"background-color:LightGray;\"><b>word</b></td></tr><tr><td  style=\"background-color:Ivory;\">51</td><td  style=\"background-color:Ivory;\">2.55%</td><td  style=\"background-color:Ivory;\">good</td></tr><tr><td  style=\"background-color:AliceBlue;\">48</td><td  style=\"background-color:AliceBlue;\">2.40%</td><td  style=\"background-color:AliceBlue;\">had</td></tr><tr><td  style=\"background-color:Ivory;\">41</td><td  style=\"background-color:Ivory;\">2.05%</td><td  style=\"background-color:Ivory;\">go</td></tr><tr><td  style=\"background-color:AliceBlue;\">39</td><td  style=\"background-color:AliceBlue;\">1.95%</td><td  style=\"background-color:AliceBlue;\">place</td></tr><tr><td  style=\"background-color:Ivory;\">34</td><td  style=\"background-color:Ivory;\">1.70%</td><td  style=\"background-color:Ivory;\">food</td></tr><tr><td  style=\"background-color:AliceBlue;\">34</td><td  style=\"background-color:AliceBlue;\">1.70%</td><td  style=\"background-color:AliceBlue;\">went</td></tr><tr><td  style=\"background-color:Ivory;\">31</td><td  style=\"background-color:Ivory;\">1.55%</td><td  style=\"background-color:Ivory;\">recommend</td></tr><tr><td  style=\"background-color:AliceBlue;\">26</td><td  style=\"background-color:AliceBlue;\">1.30%</td><td  style=\"background-color:AliceBlue;\">great</td></tr><tr><td  style=\"background-color:Ivory;\">25</td><td  style=\"background-color:Ivory;\">1.25%</td><td  style=\"background-color:Ivory;\">restaurant</td></tr><tr><td  style=\"background-color:AliceBlue;\">22</td><td  style=\"background-color:AliceBlue;\">1.10%</td><td  style=\"background-color:AliceBlue;\">love</td></tr><tr><td  style=\"background-color:Ivory;\">18</td><td  style=\"background-color:Ivory;\">0.90%</td><td  style=\"background-color:Ivory;\">have</td></tr><tr><td  style=\"background-color:AliceBlue;\">18</td><td  style=\"background-color:AliceBlue;\">0.90%</td><td  style=\"background-color:AliceBlue;\">is</td></tr><tr><td  style=\"background-color:Ivory;\">17</td><td  style=\"background-color:Ivory;\">0.85%</td><td  style=\"background-color:Ivory;\">try</td></tr><tr><td  style=\"background-color:AliceBlue;\">17</td><td  style=\"background-color:AliceBlue;\">0.85%</td><td  style=\"background-color:AliceBlue;\">excellent</td></tr><tr><td  style=\"background-color:Ivory;\">17</td><td  style=\"background-color:Ivory;\">0.85%</td><td  style=\"background-color:Ivory;\">delicious</td></tr><tr><td  style=\"background-color:AliceBlue;\">14</td><td  style=\"background-color:AliceBlue;\">0.70%</td><td  style=\"background-color:AliceBlue;\">ordered</td></tr><tr><td  style=\"background-color:Ivory;\">14</td><td  style=\"background-color:Ivory;\">0.70%</td><td  style=\"background-color:Ivory;\">get</td></tr><tr><td  style=\"background-color:AliceBlue;\">13</td><td  style=\"background-color:AliceBlue;\">0.65%</td><td  style=\"background-color:AliceBlue;\">amazing</td></tr><tr><td  style=\"background-color:Ivory;\">13</td><td  style=\"background-color:Ivory;\">0.65%</td><td  style=\"background-color:Ivory;\">service</td></tr><tr><td  style=\"background-color:AliceBlue;\">12</td><td  style=\"background-color:AliceBlue;\">0.60%</td><td  style=\"background-color:AliceBlue;\">has</td></tr></table>"
      ],
      "text/plain": [
       "<ipy_table.IpyTable at 0x7fa4040817f0>"
      ]
     },
     "execution_count": 10,
     "metadata": {},
     "output_type": "execute_result"
    }
   ],
   "source": [
    "freqlist = Counter([word_node.get('form').lower() \n",
    "                    for word_node in reviews.iter('word') \n",
    "                        if word_node.get('head') =='0' and \n",
    "                           word_node.get('postag') !='pu'])\n",
    "\n",
    "data = [['Freq', '% Freq', 'word']]\n",
    "for token, freq in freqlist.most_common(20):\n",
    "    ratio = freq / sum(freqlist.values()) * 100\n",
    "    data.append( [freq, '{:.2f}%'.format(ratio), token])\n",
    "\n",
    "ipy_table.make_table(data)\n",
    "ipy_table.apply_theme('basic')"
   ]
  },
  {
   "cell_type": "markdown",
   "metadata": {},
   "source": [
    "## Named Entities Frequency"
   ]
  },
  {
   "cell_type": "code",
   "execution_count": 11,
   "metadata": {
    "collapsed": false
   },
   "outputs": [
    {
     "data": {
      "text/html": [
       "<table border=\"1\" cellpadding=\"3\" cellspacing=\"0\"  style=\"border:1px solid black;border-collapse:collapse;\"><tr><td  style=\"background-color:LightGray;\"><b>FREQ</b></td><td  style=\"background-color:LightGray;\"><b>%&nbspFREQ</b></td><td  style=\"background-color:LightGray;\"><b>NAMED&nbspENTITY</b></td><td  style=\"background-color:LightGray;\"><b>EXAMPLES</b></td></tr><tr><td  style=\"background-color:Ivory;\">27677</td><td  style=\"background-color:Ivory;\">95.6%</td><td  style=\"background-color:Ivory;\">O</td><td  style=\"background-color:Ivory;\">.(6.0%),&nbspthe(5.4%),&nbsp,(3.7%),&nbspand(3.2%),&nbspi(2.3%)</td></tr><tr><td  style=\"background-color:AliceBlue;\">195</td><td  style=\"background-color:AliceBlue;\">0.7%</td><td  style=\"background-color:AliceBlue;\">LOCATION</td><td  style=\"background-color:AliceBlue;\">new(10.3%),&nbspyork(9.2%),&nbspmanhattan(6.2%),&nbspbrooklyn(5.1%),&nbspny(3.1%)</td></tr><tr><td  style=\"background-color:Ivory;\">183</td><td  style=\"background-color:Ivory;\">0.6%</td><td  style=\"background-color:Ivory;\">NUMBER</td><td  style=\"background-color:Ivory;\">one(36.1%),&nbsptwo(10.9%),&nbspfour(6.0%),&nbsp2(5.5%),&nbsp5(3.8%)</td></tr><tr><td  style=\"background-color:AliceBlue;\">153</td><td  style=\"background-color:AliceBlue;\">0.5%</td><td  style=\"background-color:AliceBlue;\">DURATION</td><td  style=\"background-color:AliceBlue;\">minutes(10.5%),&nbspyears(10.5%),&nbspday(7.2%),&nbspthe(5.9%),&nbsphour(4.6%)</td></tr><tr><td  style=\"background-color:Ivory;\">139</td><td  style=\"background-color:Ivory;\">0.5%</td><td  style=\"background-color:Ivory;\">DATE</td><td  style=\"background-color:Ivory;\">once(14.4%),&nbspsaturday(7.2%),&nbspnow(7.2%),&nbspthe(7.2%),&nbsplast(5.0%)</td></tr><tr><td  style=\"background-color:AliceBlue;\">132</td><td  style=\"background-color:AliceBlue;\">0.5%</td><td  style=\"background-color:AliceBlue;\">PERSON</td><td  style=\"background-color:AliceBlue;\">suan(4.5%),&nbspmizu(3.8%),&nbspsaul(3.0%),&nbspla(3.0%),&nbspdokebi(3.0%)</td></tr><tr><td  style=\"background-color:Ivory;\">132</td><td  style=\"background-color:Ivory;\">0.5%</td><td  style=\"background-color:Ivory;\">MISC</td><td  style=\"background-color:Ivory;\">thai(15.9%),&nbspindian(15.2%),&nbspjapanese(9.8%),&nbspitalian(6.8%),&nbspchinese(6.1%)</td></tr><tr><td  style=\"background-color:AliceBlue;\">98</td><td  style=\"background-color:AliceBlue;\">0.3%</td><td  style=\"background-color:AliceBlue;\">MONEY</td><td  style=\"background-color:AliceBlue;\">$(48.0%),&nbsp500(4.1%),&nbsp10(3.1%),&nbsp2(3.1%),&nbsp60(2.0%)</td></tr><tr><td  style=\"background-color:Ivory;\">84</td><td  style=\"background-color:Ivory;\">0.3%</td><td  style=\"background-color:Ivory;\">ORGANIZATION</td><td  style=\"background-color:Ivory;\">la(7.1%),&nbspfemme(6.0%),&nbspcasa(6.0%),&nbspflatbush(4.8%),&nbspyamato(2.4%)</td></tr><tr><td  style=\"background-color:AliceBlue;\">82</td><td  style=\"background-color:AliceBlue;\">0.3%</td><td  style=\"background-color:AliceBlue;\">TIME</td><td  style=\"background-color:AliceBlue;\">night(37.8%),&nbspevening(14.6%),&nbsplast(9.8%),&nbsplate(6.1%),&nbspafternoon(6.1%)</td></tr><tr><td  style=\"background-color:Ivory;\">41</td><td  style=\"background-color:Ivory;\">0.1%</td><td  style=\"background-color:Ivory;\">ORDINAL</td><td  style=\"background-color:Ivory;\">first(56.1%),&nbspthird(4.9%),&nbsp2nd(4.9%),&nbsp4th(4.9%),&nbsp1st(4.9%)</td></tr><tr><td  style=\"background-color:AliceBlue;\">24</td><td  style=\"background-color:AliceBlue;\">0.1%</td><td  style=\"background-color:AliceBlue;\">SET</td><td  style=\"background-color:AliceBlue;\">every(25.0%),&nbspweekends(12.5%),&nbspweek(12.5%),&nbspminutes(8.3%),&nbspago(4.2%)</td></tr><tr><td  style=\"background-color:Ivory;\">6</td><td  style=\"background-color:Ivory;\">0.0%</td><td  style=\"background-color:Ivory;\">PERCENT</td><td  style=\"background-color:Ivory;\">%(50.0%),&nbsp99(16.7%),&nbsp100(16.7%),&nbsp10(16.7%)</td></tr></table>"
      ],
      "text/plain": [
       "<ipy_table.IpyTable at 0x7fa3edaaa9b0>"
      ]
     },
     "execution_count": 11,
     "metadata": {},
     "output_type": "execute_result"
    }
   ],
   "source": [
    "from operator import itemgetter\n",
    "ne_freq = dict()\n",
    "freqlist = dict()\n",
    "\n",
    "for word_node in reviews.iter('word'):\n",
    "    form = word_node.get('form').lower()\n",
    "    ne = word_node.get('ner')\n",
    "    \n",
    "    ne_freq[ne] = ne_freq.get(ne, 0) + 1\n",
    "    if ne not in freqlist:\n",
    "        freqlist[ne] = dict()\n",
    "    freqlist[ne][form] = freqlist[ne].get(form, 0) + 1 \n",
    "    \n",
    "data = [['FREQ', '% FREQ', 'NAMED ENTITY', 'EXAMPLES']]\n",
    "\n",
    "for ne, freq in sorted(ne_freq.items(), key=itemgetter(1), reverse=True):\n",
    "    examples = ', '.join(['{}({:.1f}%)'.format(w,f / sum(freqlist[ne].values()) * 100) \n",
    "                          for w,f in sorted(freqlist[ne].items(), key=itemgetter(1), reverse=True)[:5]])\n",
    "    ratio = freq / sum(ne_freq.values()) * 100\n",
    "    data.append([freq, '{:.1f}%'.format(ratio), ne, examples])\n",
    "\n",
    "ipy_table.make_table(data)\n",
    "ipy_table.apply_theme('basic')"
   ]
  },
  {
   "cell_type": "markdown",
   "metadata": {
    "collapsed": true
   },
   "source": [
    "## Aspect Frequency"
   ]
  },
  {
   "cell_type": "code",
   "execution_count": 12,
   "metadata": {
    "collapsed": false
   },
   "outputs": [
    {
     "data": {
      "text/html": [
       "<table border=\"1\" cellpadding=\"3\" cellspacing=\"0\"  style=\"border:1px solid black;border-collapse:collapse;\"><tr><td  style=\"background-color:LightGray;\"><b>freq</b></td><td  style=\"background-color:LightGray;\"><b>%freq</b></td><td  style=\"background-color:LightGray;\"><b>aspect(OBJ)</b></td></tr><tr><td  style=\"background-color:Ivory;\">627</td><td  style=\"background-color:Ivory;\">25.0%</td><td  style=\"background-color:Ivory;\">null</td></tr><tr><td  style=\"background-color:AliceBlue;\">233</td><td  style=\"background-color:AliceBlue;\">9.3%</td><td  style=\"background-color:AliceBlue;\">food</td></tr><tr><td  style=\"background-color:Ivory;\">148</td><td  style=\"background-color:Ivory;\">5.9%</td><td  style=\"background-color:Ivory;\">service</td></tr><tr><td  style=\"background-color:AliceBlue;\">129</td><td  style=\"background-color:AliceBlue;\">5.1%</td><td  style=\"background-color:AliceBlue;\">place</td></tr><tr><td  style=\"background-color:Ivory;\">49</td><td  style=\"background-color:Ivory;\">2.0%</td><td  style=\"background-color:Ivory;\">restaurant</td></tr><tr><td  style=\"background-color:AliceBlue;\">40</td><td  style=\"background-color:AliceBlue;\">1.6%</td><td  style=\"background-color:AliceBlue;\">staff</td></tr><tr><td  style=\"background-color:Ivory;\">31</td><td  style=\"background-color:Ivory;\">1.2%</td><td  style=\"background-color:Ivory;\">pizza</td></tr><tr><td  style=\"background-color:AliceBlue;\">28</td><td  style=\"background-color:AliceBlue;\">1.1%</td><td  style=\"background-color:AliceBlue;\">atmosphere</td></tr><tr><td  style=\"background-color:Ivory;\">26</td><td  style=\"background-color:Ivory;\">1.0%</td><td  style=\"background-color:Ivory;\">sushi</td></tr><tr><td  style=\"background-color:AliceBlue;\">23</td><td  style=\"background-color:AliceBlue;\">0.9%</td><td  style=\"background-color:AliceBlue;\">decor</td></tr><tr><td  style=\"background-color:Ivory;\">19</td><td  style=\"background-color:Ivory;\">0.8%</td><td  style=\"background-color:Ivory;\">waiter</td></tr><tr><td  style=\"background-color:AliceBlue;\">16</td><td  style=\"background-color:AliceBlue;\">0.6%</td><td  style=\"background-color:AliceBlue;\">menu</td></tr><tr><td  style=\"background-color:Ivory;\">15</td><td  style=\"background-color:Ivory;\">0.6%</td><td  style=\"background-color:Ivory;\">dishes</td></tr><tr><td  style=\"background-color:AliceBlue;\">14</td><td  style=\"background-color:AliceBlue;\">0.6%</td><td  style=\"background-color:AliceBlue;\">meal</td></tr><tr><td  style=\"background-color:Ivory;\">14</td><td  style=\"background-color:Ivory;\">0.6%</td><td  style=\"background-color:Ivory;\">waitress</td></tr><tr><td  style=\"background-color:AliceBlue;\">14</td><td  style=\"background-color:AliceBlue;\">0.6%</td><td  style=\"background-color:AliceBlue;\">drinks</td></tr><tr><td  style=\"background-color:Ivory;\">13</td><td  style=\"background-color:Ivory;\">0.5%</td><td  style=\"background-color:Ivory;\">fish</td></tr><tr><td  style=\"background-color:AliceBlue;\">13</td><td  style=\"background-color:AliceBlue;\">0.5%</td><td  style=\"background-color:AliceBlue;\">ambience</td></tr><tr><td  style=\"background-color:Ivory;\">13</td><td  style=\"background-color:Ivory;\">0.5%</td><td  style=\"background-color:Ivory;\">wine&nbsplist</td></tr><tr><td  style=\"background-color:AliceBlue;\">12</td><td  style=\"background-color:AliceBlue;\">0.5%</td><td  style=\"background-color:AliceBlue;\">dessert</td></tr></table>"
      ],
      "text/plain": [
       "<ipy_table.IpyTable at 0x7fa404083da0>"
      ]
     },
     "execution_count": 12,
     "metadata": {},
     "output_type": "execute_result"
    }
   ],
   "source": [
    "freqlist =  Counter([node.get('target').lower() for node in reviews.iter('Opinion')])\n",
    "\n",
    "data = [['freq', '%freq', 'aspect(OBJ)']]\n",
    "for token, freq in freqlist.most_common(20):\n",
    "    ratio = freq / sum(freqlist.values()) *100\n",
    "    data.append([freq, '{:.1f}%'.format(ratio), token])\n",
    "\n",
    "ipy_table.make_table(data)\n",
    "ipy_table.apply_theme('basic')"
   ]
  },
  {
   "cell_type": "code",
   "execution_count": 13,
   "metadata": {
    "collapsed": false
   },
   "outputs": [
    {
     "data": {
      "text/html": [
       "<table border=\"1\" cellpadding=\"3\" cellspacing=\"0\"  style=\"border:1px solid black;border-collapse:collapse;\"><tr><td  style=\"background-color:LightGray;\"><b>Total&nbspin&nbspCorpus</b></td><td  style=\"background-color:LightGray;\"><b>Total&nbspas&nbsptarget</b></td><td  style=\"background-color:LightGray;\"><b>Freq&nbspas&nbsptarget</b></td><td  style=\"background-color:LightGray;\"><b>aspect&nbspchunk</b></td></tr><tr><td  style=\"background-color:Ivory;\">287</td><td  style=\"background-color:Ivory;\">233</td><td  style=\"background-color:Ivory;\">81.2%</td><td  style=\"background-color:Ivory;\">food</td></tr><tr><td  style=\"background-color:AliceBlue;\">161</td><td  style=\"background-color:AliceBlue;\">148</td><td  style=\"background-color:AliceBlue;\">91.9%</td><td  style=\"background-color:AliceBlue;\">service</td></tr><tr><td  style=\"background-color:Ivory;\">206</td><td  style=\"background-color:Ivory;\">129</td><td  style=\"background-color:Ivory;\">62.6%</td><td  style=\"background-color:Ivory;\">place</td></tr><tr><td  style=\"background-color:AliceBlue;\">118</td><td  style=\"background-color:AliceBlue;\">49</td><td  style=\"background-color:AliceBlue;\">41.5%</td><td  style=\"background-color:AliceBlue;\">restaurant</td></tr><tr><td  style=\"background-color:Ivory;\">49</td><td  style=\"background-color:Ivory;\">40</td><td  style=\"background-color:Ivory;\">81.6%</td><td  style=\"background-color:Ivory;\">staff</td></tr><tr><td  style=\"background-color:AliceBlue;\">58</td><td  style=\"background-color:AliceBlue;\">31</td><td  style=\"background-color:AliceBlue;\">53.4%</td><td  style=\"background-color:AliceBlue;\">pizza</td></tr><tr><td  style=\"background-color:Ivory;\">33</td><td  style=\"background-color:Ivory;\">28</td><td  style=\"background-color:Ivory;\">84.8%</td><td  style=\"background-color:Ivory;\">atmosphere</td></tr><tr><td  style=\"background-color:AliceBlue;\">43</td><td  style=\"background-color:AliceBlue;\">26</td><td  style=\"background-color:AliceBlue;\">60.5%</td><td  style=\"background-color:AliceBlue;\">sushi</td></tr><tr><td  style=\"background-color:Ivory;\">25</td><td  style=\"background-color:Ivory;\">23</td><td  style=\"background-color:Ivory;\">92.0%</td><td  style=\"background-color:Ivory;\">decor</td></tr><tr><td  style=\"background-color:AliceBlue;\">22</td><td  style=\"background-color:AliceBlue;\">19</td><td  style=\"background-color:AliceBlue;\">86.4%</td><td  style=\"background-color:AliceBlue;\">waiter</td></tr><tr><td  style=\"background-color:Ivory;\">41</td><td  style=\"background-color:Ivory;\">16</td><td  style=\"background-color:Ivory;\">39.0%</td><td  style=\"background-color:Ivory;\">menu</td></tr><tr><td  style=\"background-color:AliceBlue;\">29</td><td  style=\"background-color:AliceBlue;\">15</td><td  style=\"background-color:AliceBlue;\">51.7%</td><td  style=\"background-color:AliceBlue;\">dishes</td></tr><tr><td  style=\"background-color:Ivory;\">20</td><td  style=\"background-color:Ivory;\">14</td><td  style=\"background-color:Ivory;\">70.0%</td><td  style=\"background-color:Ivory;\">meal</td></tr><tr><td  style=\"background-color:AliceBlue;\">17</td><td  style=\"background-color:AliceBlue;\">14</td><td  style=\"background-color:AliceBlue;\">82.4%</td><td  style=\"background-color:AliceBlue;\">waitress</td></tr><tr><td  style=\"background-color:Ivory;\">26</td><td  style=\"background-color:Ivory;\">14</td><td  style=\"background-color:Ivory;\">53.8%</td><td  style=\"background-color:Ivory;\">drinks</td></tr><tr><td  style=\"background-color:AliceBlue;\">26</td><td  style=\"background-color:AliceBlue;\">13</td><td  style=\"background-color:AliceBlue;\">50.0%</td><td  style=\"background-color:AliceBlue;\">fish</td></tr><tr><td  style=\"background-color:Ivory;\">13</td><td  style=\"background-color:Ivory;\">13</td><td  style=\"background-color:Ivory;\">100.0%</td><td  style=\"background-color:Ivory;\">ambience</td></tr><tr><td  style=\"background-color:AliceBlue;\">15</td><td  style=\"background-color:AliceBlue;\">13</td><td  style=\"background-color:AliceBlue;\">86.7%</td><td  style=\"background-color:AliceBlue;\">wine&nbsplist</td></tr><tr><td  style=\"background-color:Ivory;\">19</td><td  style=\"background-color:Ivory;\">12</td><td  style=\"background-color:Ivory;\">63.2%</td><td  style=\"background-color:Ivory;\">dessert</td></tr><tr><td  style=\"background-color:AliceBlue;\">14</td><td  style=\"background-color:AliceBlue;\">11</td><td  style=\"background-color:AliceBlue;\">78.6%</td><td  style=\"background-color:AliceBlue;\">rolls</td></tr></table>"
      ],
      "text/plain": [
       "<ipy_table.IpyTable at 0x7fa40407c940>"
      ]
     },
     "execution_count": 13,
     "metadata": {},
     "output_type": "execute_result"
    }
   ],
   "source": [
    "sentences = ' '.join([node.get('form').lower() for node in reviews.iter('word')])\n",
    "freqlist =  Counter([node.get('target').lower() for node in reviews.iter('Opinion') if node.get('target') != 'NULL'])\n",
    "\n",
    "data = [['Total in Corpus', 'Total as target',  'Freq as target', 'aspect chunk']]\n",
    "for token, freq in freqlist.most_common(20):\n",
    "    total = sentences.count(' ' + token + ' ')\n",
    "    ratio = freq / total * 100    \n",
    "    data.append([total, freq,'{:.1f}%'.format(ratio), token])\n",
    "\n",
    "ipy_table.make_table(data)\n",
    "ipy_table.apply_theme('basic')"
   ]
  },
  {
   "cell_type": "code",
   "execution_count": null,
   "metadata": {
    "collapsed": true
   },
   "outputs": [],
   "source": []
  }
 ],
 "metadata": {
  "kernelspec": {
   "display_name": "Python 3",
   "language": "python",
   "name": "python3"
  },
  "language_info": {
   "codemirror_mode": {
    "name": "ipython",
    "version": 3
   },
   "file_extension": ".py",
   "mimetype": "text/x-python",
   "name": "python",
   "nbconvert_exporter": "python",
   "pygments_lexer": "ipython3",
   "version": "3.5.1+"
  }
 },
 "nbformat": 4,
 "nbformat_minor": 0
}

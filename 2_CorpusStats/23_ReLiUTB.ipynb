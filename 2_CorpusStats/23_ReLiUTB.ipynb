{
 "cells": [
  {
   "cell_type": "markdown",
   "metadata": {},
   "source": [
    "# Statistics in ReLi Corpus annotated with the Stanford CoreNLP paser trained with the Google Universal Dependency TreeBank"
   ]
  },
  {
   "cell_type": "code",
   "execution_count": 1,
   "metadata": {
    "collapsed": true
   },
   "outputs": [],
   "source": [
    "from __future__ import print_function\n",
    "from __future__ import division"
   ]
  },
  {
   "cell_type": "code",
   "execution_count": 2,
   "metadata": {
    "collapsed": false
   },
   "outputs": [],
   "source": [
    "from lxml.etree import ElementTree\n",
    "reviews = ElementTree().parse('../corpus/ReLiUniversalDependencies.xml')"
   ]
  },
  {
   "cell_type": "markdown",
   "metadata": {},
   "source": [
    "## Token Type Ratio"
   ]
  },
  {
   "cell_type": "code",
   "execution_count": 3,
   "metadata": {
    "collapsed": false
   },
   "outputs": [
    {
     "name": "stdout",
     "output_type": "stream",
     "text": [
      "Total tokens: 260561\n",
      "Total types:  19300\n",
      "Token/Type ratio:  13.5%\n"
     ]
    }
   ],
   "source": [
    "from collections import Counter\n",
    "freqlist = Counter([word_node.get('form') for word_node in reviews.iter('word')])\n",
    "\n",
    "print ('Total tokens: {}'.format(sum(freqlist.values())))\n",
    "print ('Total types:  {}'.format(len(freqlist.keys())))\n",
    "print ('Token/Type ratio:  {:.1f}%'.format(sum(freqlist.values())/len(freqlist.keys())))"
   ]
  },
  {
   "cell_type": "markdown",
   "metadata": {},
   "source": [
    "## Lexical Frequency"
   ]
  },
  {
   "cell_type": "code",
   "execution_count": 4,
   "metadata": {
    "collapsed": false
   },
   "outputs": [],
   "source": [
    "import ipy_table"
   ]
  },
  {
   "cell_type": "code",
   "execution_count": 5,
   "metadata": {
    "collapsed": false
   },
   "outputs": [
    {
     "data": {
      "text/html": [
       "<table border=\"1\" cellpadding=\"3\" cellspacing=\"0\"  style=\"border:1px solid black;border-collapse:collapse;\"><tr><td  style=\"background-color:LightGray;\"><b>Freq</b></td><td  style=\"background-color:LightGray;\"><b>%&nbspFreq</b></td><td  style=\"background-color:LightGray;\"><b>Token</b></td></tr><tr><td  style=\"background-color:Ivory;\">15158</td><td  style=\"background-color:Ivory;\">5.82%</td><td  style=\"background-color:Ivory;\">,</td></tr><tr><td  style=\"background-color:AliceBlue;\">14579</td><td  style=\"background-color:AliceBlue;\">5.60%</td><td  style=\"background-color:AliceBlue;\">de</td></tr><tr><td  style=\"background-color:Ivory;\">11895</td><td  style=\"background-color:Ivory;\">4.57%</td><td  style=\"background-color:Ivory;\">a</td></tr><tr><td  style=\"background-color:AliceBlue;\">11695</td><td  style=\"background-color:AliceBlue;\">4.49%</td><td  style=\"background-color:AliceBlue;\">o</td></tr><tr><td  style=\"background-color:Ivory;\">9693</td><td  style=\"background-color:Ivory;\">3.72%</td><td  style=\"background-color:Ivory;\">.</td></tr><tr><td  style=\"background-color:AliceBlue;\">7591</td><td  style=\"background-color:AliceBlue;\">2.91%</td><td  style=\"background-color:AliceBlue;\">que</td></tr><tr><td  style=\"background-color:Ivory;\">6667</td><td  style=\"background-color:Ivory;\">2.56%</td><td  style=\"background-color:Ivory;\">e</td></tr><tr><td  style=\"background-color:AliceBlue;\">5261</td><td  style=\"background-color:AliceBlue;\">2.02%</td><td  style=\"background-color:AliceBlue;\">em</td></tr><tr><td  style=\"background-color:Ivory;\">3887</td><td  style=\"background-color:Ivory;\">1.49%</td><td  style=\"background-color:Ivory;\">é</td></tr><tr><td  style=\"background-color:AliceBlue;\">3599</td><td  style=\"background-color:AliceBlue;\">1.38%</td><td  style=\"background-color:AliceBlue;\">um</td></tr><tr><td  style=\"background-color:Ivory;\">2935</td><td  style=\"background-color:Ivory;\">1.13%</td><td  style=\"background-color:Ivory;\">os</td></tr><tr><td  style=\"background-color:AliceBlue;\">2779</td><td  style=\"background-color:AliceBlue;\">1.07%</td><td  style=\"background-color:AliceBlue;\">livro</td></tr><tr><td  style=\"background-color:Ivory;\">2711</td><td  style=\"background-color:Ivory;\">1.04%</td><td  style=\"background-color:Ivory;\">não</td></tr><tr><td  style=\"background-color:AliceBlue;\">2637</td><td  style=\"background-color:AliceBlue;\">1.01%</td><td  style=\"background-color:AliceBlue;\">uma</td></tr><tr><td  style=\"background-color:Ivory;\">2475</td><td  style=\"background-color:Ivory;\">0.95%</td><td  style=\"background-color:Ivory;\">se</td></tr><tr><td  style=\"background-color:AliceBlue;\">2415</td><td  style=\"background-color:AliceBlue;\">0.93%</td><td  style=\"background-color:AliceBlue;\">por</td></tr><tr><td  style=\"background-color:Ivory;\">2267</td><td  style=\"background-color:Ivory;\">0.87%</td><td  style=\"background-color:Ivory;\">\"</td></tr><tr><td  style=\"background-color:AliceBlue;\">2149</td><td  style=\"background-color:AliceBlue;\">0.82%</td><td  style=\"background-color:AliceBlue;\">com</td></tr><tr><td  style=\"background-color:Ivory;\">1776</td><td  style=\"background-color:Ivory;\">0.68%</td><td  style=\"background-color:Ivory;\">para</td></tr><tr><td  style=\"background-color:AliceBlue;\">1754</td><td  style=\"background-color:AliceBlue;\">0.67%</td><td  style=\"background-color:AliceBlue;\">as</td></tr></table>"
      ],
      "text/plain": [
       "<ipy_table.IpyTable at 0x7f870d18bd30>"
      ]
     },
     "execution_count": 5,
     "metadata": {},
     "output_type": "execute_result"
    }
   ],
   "source": [
    "freqlist = Counter([word_node.get('form').lower() for word_node in reviews.iter('word')])\n",
    "\n",
    "data = [['Freq', '% Freq', 'Token']]\n",
    "for token, freq in freqlist.most_common(20):\n",
    "    ratio = freq / sum(freqlist.values()) * 100\n",
    "    data.append( [freq, '{:.2f}%'.format(ratio), token])\n",
    "\n",
    "ipy_table.make_table(data)\n",
    "ipy_table.apply_theme('basic')"
   ]
  },
  {
   "cell_type": "markdown",
   "metadata": {},
   "source": [
    "## Lemma Frequency"
   ]
  },
  {
   "cell_type": "code",
   "execution_count": 6,
   "metadata": {
    "collapsed": false
   },
   "outputs": [
    {
     "data": {
      "text/html": [
       "<table border=\"1\" cellpadding=\"3\" cellspacing=\"0\"  style=\"border:1px solid black;border-collapse:collapse;\"><tr><td  style=\"background-color:LightGray;\"><b>Freq</b></td><td  style=\"background-color:LightGray;\"><b>%&nbspFreq</b></td><td  style=\"background-color:LightGray;\"><b>Lemma</b></td></tr><tr><td  style=\"background-color:Ivory;\">25430</td><td  style=\"background-color:Ivory;\">9.76%</td><td  style=\"background-color:Ivory;\">o</td></tr><tr><td  style=\"background-color:AliceBlue;\">15158</td><td  style=\"background-color:AliceBlue;\">5.82%</td><td  style=\"background-color:AliceBlue;\">,</td></tr><tr><td  style=\"background-color:Ivory;\">14579</td><td  style=\"background-color:Ivory;\">5.60%</td><td  style=\"background-color:Ivory;\">de</td></tr><tr><td  style=\"background-color:AliceBlue;\">9693</td><td  style=\"background-color:AliceBlue;\">3.72%</td><td  style=\"background-color:AliceBlue;\">.</td></tr><tr><td  style=\"background-color:Ivory;\">7591</td><td  style=\"background-color:Ivory;\">2.91%</td><td  style=\"background-color:Ivory;\">que</td></tr><tr><td  style=\"background-color:AliceBlue;\">7577</td><td  style=\"background-color:AliceBlue;\">2.91%</td><td  style=\"background-color:AliceBlue;\">ser</td></tr><tr><td  style=\"background-color:Ivory;\">6678</td><td  style=\"background-color:Ivory;\">2.56%</td><td  style=\"background-color:Ivory;\">e</td></tr><tr><td  style=\"background-color:AliceBlue;\">6309</td><td  style=\"background-color:AliceBlue;\">2.42%</td><td  style=\"background-color:AliceBlue;\">um</td></tr><tr><td  style=\"background-color:Ivory;\">5261</td><td  style=\"background-color:Ivory;\">2.02%</td><td  style=\"background-color:Ivory;\">em</td></tr><tr><td  style=\"background-color:AliceBlue;\">3130</td><td  style=\"background-color:AliceBlue;\">1.20%</td><td  style=\"background-color:AliceBlue;\">livro</td></tr><tr><td  style=\"background-color:Ivory;\">2895</td><td  style=\"background-color:Ivory;\">1.11%</td><td  style=\"background-color:Ivory;\">a</td></tr><tr><td  style=\"background-color:AliceBlue;\">2766</td><td  style=\"background-color:AliceBlue;\">1.06%</td><td  style=\"background-color:AliceBlue;\">não</td></tr><tr><td  style=\"background-color:Ivory;\">2721</td><td  style=\"background-color:Ivory;\">1.04%</td><td  style=\"background-color:Ivory;\">ele</td></tr><tr><td  style=\"background-color:AliceBlue;\">2475</td><td  style=\"background-color:AliceBlue;\">0.95%</td><td  style=\"background-color:AliceBlue;\">se</td></tr><tr><td  style=\"background-color:Ivory;\">2415</td><td  style=\"background-color:Ivory;\">0.93%</td><td  style=\"background-color:Ivory;\">por</td></tr><tr><td  style=\"background-color:AliceBlue;\">2403</td><td  style=\"background-color:AliceBlue;\">0.92%</td><td  style=\"background-color:AliceBlue;\">eu</td></tr><tr><td  style=\"background-color:Ivory;\">2267</td><td  style=\"background-color:Ivory;\">0.87%</td><td  style=\"background-color:Ivory;\">\"</td></tr><tr><td  style=\"background-color:AliceBlue;\">2149</td><td  style=\"background-color:AliceBlue;\">0.82%</td><td  style=\"background-color:AliceBlue;\">com</td></tr><tr><td  style=\"background-color:Ivory;\">1754</td><td  style=\"background-color:Ivory;\">0.67%</td><td  style=\"background-color:Ivory;\">para</td></tr><tr><td  style=\"background-color:AliceBlue;\">1737</td><td  style=\"background-color:AliceBlue;\">0.67%</td><td  style=\"background-color:AliceBlue;\">ter</td></tr></table>"
      ],
      "text/plain": [
       "<ipy_table.IpyTable at 0x7f870d18f208>"
      ]
     },
     "execution_count": 6,
     "metadata": {},
     "output_type": "execute_result"
    }
   ],
   "source": [
    "freqlist = Counter([word_node.get('base').lower() for word_node in reviews.iter('word')])\n",
    "\n",
    "data = [['Freq', '% Freq', 'Lemma']]\n",
    "for token, freq in freqlist.most_common(20):\n",
    "    ratio = freq / sum(freqlist.values()) * 100\n",
    "    data.append( [freq, '{:.2f}%'.format(ratio), token])\n",
    "\n",
    "ipy_table.make_table(data)\n",
    "ipy_table.apply_theme('basic')"
   ]
  },
  {
   "cell_type": "markdown",
   "metadata": {},
   "source": [
    "## Part-of-Speech Frequency"
   ]
  },
  {
   "cell_type": "code",
   "execution_count": 7,
   "metadata": {
    "collapsed": false
   },
   "outputs": [],
   "source": [
    "from operator import itemgetter\n",
    "postag_freq = dict()\n",
    "freqlist = dict()\n",
    "\n",
    "for word_node in reviews.iter('word'):\n",
    "    form = word_node.get('form').lower()\n",
    "    postag = word_node.get('postag')\n",
    "    \n",
    "    postag_freq[postag] = postag_freq.get(postag, 0) + 1\n",
    "    if postag not in freqlist:\n",
    "        freqlist[postag] = dict()\n",
    "    freqlist[postag][form] = freqlist[postag].get(form, 0) + 1 "
   ]
  },
  {
   "cell_type": "code",
   "execution_count": 8,
   "metadata": {
    "collapsed": false,
    "scrolled": true
   },
   "outputs": [
    {
     "data": {
      "text/html": [
       "<table border=\"1\" cellpadding=\"3\" cellspacing=\"0\"  style=\"border:1px solid black;border-collapse:collapse;\"><tr><td  style=\"background-color:LightGray;\"><b>FREQ</b></td><td  style=\"background-color:LightGray;\"><b>%&nbspFREQ</b></td><td  style=\"background-color:LightGray;\"><b>POSTAG</b></td><td  style=\"background-color:LightGray;\"><b>EXAMPLES</b></td></tr><tr><td  style=\"background-color:Ivory;\">45346</td><td  style=\"background-color:Ivory;\">17.4%</td><td  style=\"background-color:Ivory;\">NOUN</td><td  style=\"background-color:Ivory;\">livro(6.0%),&nbsphistória(1.9%),&nbspmundo(1.2%),&nbspvida(1.1%),&nbsp.(0.9%)</td></tr><tr><td  style=\"background-color:AliceBlue;\">37349</td><td  style=\"background-color:AliceBlue;\">14.3%</td><td  style=\"background-color:AliceBlue;\">DET</td><td  style=\"background-color:AliceBlue;\">o(27.7%),&nbspa(23.9%),&nbspum(8.4%),&nbspos(7.4%),&nbspuma(6.5%)</td></tr><tr><td  style=\"background-color:Ivory;\">33835</td><td  style=\"background-color:Ivory;\">13.0%</td><td  style=\"background-color:Ivory;\">VERB</td><td  style=\"background-color:Ivory;\">é(10.1%),&nbspler(1.7%),&nbsptem(1.5%),&nbspser(1.4%),&nbspfoi(1.3%)</td></tr><tr><td  style=\"background-color:AliceBlue;\">32634</td><td  style=\"background-color:AliceBlue;\">12.5%</td><td  style=\"background-color:AliceBlue;\">ADP</td><td  style=\"background-color:AliceBlue;\">de(44.7%),&nbspem(16.1%),&nbspa(8.3%),&nbsppor(7.4%),&nbspcom(6.6%)</td></tr><tr><td  style=\"background-color:Ivory;\">32069</td><td  style=\"background-color:Ivory;\">12.3%</td><td  style=\"background-color:Ivory;\">.</td><td  style=\"background-color:Ivory;\">,(47.3%),&nbsp.(25.3%),&nbsp\"(7.0%),&nbsp-(4.1%),&nbsp!(3.5%)</td></tr><tr><td  style=\"background-color:AliceBlue;\">17406</td><td  style=\"background-color:AliceBlue;\">6.7%</td><td  style=\"background-color:AliceBlue;\">PRON</td><td  style=\"background-color:AliceBlue;\">que(28.1%),&nbspse(8.4%),&nbspo(7.3%),&nbspele(6.0%),&nbspeu(5.8%)</td></tr><tr><td  style=\"background-color:Ivory;\">15581</td><td  style=\"background-color:Ivory;\">6.0%</td><td  style=\"background-color:Ivory;\">ADJ</td><td  style=\"background-color:Ivory;\">.(4.4%),&nbspbom(2.1%),&nbspprimeiro(1.3%),&nbspgrande(1.2%),&nbspmelhor(1.1%)</td></tr><tr><td  style=\"background-color:AliceBlue;\">14812</td><td  style=\"background-color:AliceBlue;\">5.7%</td><td  style=\"background-color:AliceBlue;\">ADV</td><td  style=\"background-color:AliceBlue;\">não(18.3%),&nbspmais(8.4%),&nbspmuito(6.4%),&nbspjá(3.3%),&nbspbem(3.0%)</td></tr><tr><td  style=\"background-color:Ivory;\">13293</td><td  style=\"background-color:Ivory;\">5.1%</td><td  style=\"background-color:Ivory;\">CONJ</td><td  style=\"background-color:Ivory;\">e(50.1%),&nbspque(19.4%),&nbspmas(10.0%),&nbspse(4.0%),&nbspou(3.9%)</td></tr><tr><td  style=\"background-color:AliceBlue;\">11540</td><td  style=\"background-color:AliceBlue;\">4.4%</td><td  style=\"background-color:AliceBlue;\">PNOUN</td><td  style=\"background-color:AliceBlue;\">.(3.5%),&nbspbella(3.2%),&nbspedward(3.0%),&nbspsaramago(2.2%),&nbsporwell(1.9%)</td></tr><tr><td  style=\"background-color:Ivory;\">4153</td><td  style=\"background-color:Ivory;\">1.6%</td><td  style=\"background-color:Ivory;\">AUX</td><td  style=\"background-color:Ivory;\">é(10.8%),&nbspser(5.9%),&nbsppode(5.8%),&nbspfoi(5.0%),&nbspvai(4.5%)</td></tr><tr><td  style=\"background-color:AliceBlue;\">1744</td><td  style=\"background-color:AliceBlue;\">0.7%</td><td  style=\"background-color:AliceBlue;\">NUM</td><td  style=\"background-color:AliceBlue;\">1984(11.5%),&nbspdois(8.4%),&nbspduas(5.7%),&nbsptrês(5.4%),&nbspum(4.9%)</td></tr><tr><td  style=\"background-color:Ivory;\">699</td><td  style=\"background-color:Ivory;\">0.3%</td><td  style=\"background-color:Ivory;\">PRT</td><td  style=\"background-color:Ivory;\">se(66.0%),&nbsppois(4.6%),&nbsprs(2.7%),&nbspbem(2.1%),&nbspli(1.9%)</td></tr><tr><td  style=\"background-color:AliceBlue;\">97</td><td  style=\"background-color:AliceBlue;\">0.0%</td><td  style=\"background-color:AliceBlue;\">X</td><td  style=\"background-color:AliceBlue;\">etc(24.7%),&nbspp.(8.2%),&nbspli(6.2%),&nbsp.(4.1%),&nbsp+(3.1%)</td></tr><tr><td  style=\"background-color:Ivory;\">3</td><td  style=\"background-color:Ivory;\">0.0%</td><td  style=\"background-color:Ivory;\">ADPPRON</td><td  style=\"background-color:Ivory;\">né(33.3%),&nbspprofessoras(33.3%),&nbspaqueles(33.3%)</td></tr></table>"
      ],
      "text/plain": [
       "<ipy_table.IpyTable at 0x7f870d18fcc0>"
      ]
     },
     "execution_count": 8,
     "metadata": {},
     "output_type": "execute_result"
    }
   ],
   "source": [
    "data = [['FREQ', '% FREQ', 'POSTAG', 'EXAMPLES']]\n",
    "\n",
    "for pos, freq in sorted(postag_freq.items(), key=itemgetter(1), reverse=True):\n",
    "    examples = ', '.join(['{}({:.1f}%)'.format(w,f / sum(freqlist[pos].values()) * 100) \n",
    "                          for w,f in sorted(freqlist[pos].items(), key=itemgetter(1), reverse=True)[:5]])\n",
    "    ratio = freq / sum(postag_freq.values()) * 100\n",
    "    data.append([freq, '{:.1f}%'.format(ratio), pos, examples])\n",
    "\n",
    "ipy_table.make_table(data)\n",
    "ipy_table.apply_theme('basic')"
   ]
  },
  {
   "cell_type": "markdown",
   "metadata": {},
   "source": [
    "## Morphological tags"
   ]
  },
  {
   "cell_type": "code",
   "execution_count": 9,
   "metadata": {
    "collapsed": false
   },
   "outputs": [
    {
     "data": {
      "text/html": [
       "<table border=\"1\" cellpadding=\"3\" cellspacing=\"0\"  style=\"border:1px solid black;border-collapse:collapse;\"><tr><td  style=\"background-color:LightGray;\"><b>FREQ</b></td><td  style=\"background-color:LightGray;\"><b>%&nbspFREQ</b></td><td  style=\"background-color:LightGray;\"><b>MORF&nbspTAG</b></td><td  style=\"background-color:LightGray;\"><b>EXAMPLES</b></td></tr><tr><td  style=\"background-color:Ivory;\">69638</td><td  style=\"background-color:Ivory;\">41.1%</td><td  style=\"background-color:Ivory;\">ms</td><td  style=\"background-color:Ivory;\">o(16.8%),&nbspque(10.9%),&nbspe(9.6%),&nbspum(5.2%),&nbsplivro(3.9%)</td></tr><tr><td  style=\"background-color:AliceBlue;\">32670</td><td  style=\"background-color:AliceBlue;\">19.3%</td><td  style=\"background-color:AliceBlue;\">fs</td><td  style=\"background-color:AliceBlue;\">a(27.5%),&nbspuma(8.1%),&nbsphistória(2.6%),&nbspvida(1.5%),&nbspessa(1.3%)</td></tr><tr><td  style=\"background-color:Ivory;\">12880</td><td  style=\"background-color:Ivory;\">7.6%</td><td  style=\"background-color:Ivory;\">mp</td><td  style=\"background-color:Ivory;\">os(22.8%),&nbsptodos(4.0%),&nbsplivros(2.9%),&nbsppersonagens(2.5%),&nbspseus(2.3%)</td></tr><tr><td  style=\"background-color:AliceBlue;\">9155</td><td  style=\"background-color:AliceBlue;\">5.4%</td><td  style=\"background-color:AliceBlue;\">Y2s</td><td  style=\"background-color:AliceBlue;\">sua(8.4%),&nbsptem(6.2%),&nbspestá(3.1%),&nbspfaz(2.7%),&nbsppode(2.7%)</td></tr><tr><td  style=\"background-color:Ivory;\">7386</td><td  style=\"background-color:Ivory;\">4.4%</td><td  style=\"background-color:Ivory;\">W3s</td><td  style=\"background-color:Ivory;\">ser(9.9%),&nbspler(8.0%),&nbspter(4.7%),&nbspfazer(2.8%),&nbspver(2.7%)</td></tr><tr><td  style=\"background-color:AliceBlue;\">7248</td><td  style=\"background-color:AliceBlue;\">4.3%</td><td  style=\"background-color:AliceBlue;\">fp</td><td  style=\"background-color:AliceBlue;\">as(24.2%),&nbsppessoas(4.5%),&nbspvezes(3.0%),&nbspcoisas(2.4%),&nbsptodas(2.2%)</td></tr><tr><td  style=\"background-color:Ivory;\">3949</td><td  style=\"background-color:Ivory;\">2.3%</td><td  style=\"background-color:Ivory;\">P3s</td><td  style=\"background-color:Ivory;\">é(98.4%),&nbspideia(1.1%),&nbspfogem(0.1%),&nbsprodeia(0.1%),&nbspbaseia(0.1%)</td></tr><tr><td  style=\"background-color:AliceBlue;\">2461</td><td  style=\"background-color:AliceBlue;\">1.5%</td><td  style=\"background-color:AliceBlue;\">J3s</td><td  style=\"background-color:AliceBlue;\">foi(26.7%),&nbspfez(3.9%),&nbspconseguiu(3.3%),&nbspteve(2.5%),&nbspdisse(2.3%)</td></tr><tr><td  style=\"background-color:Ivory;\">2143</td><td  style=\"background-color:Ivory;\">1.3%</td><td  style=\"background-color:Ivory;\">P3p</td><td  style=\"background-color:Ivory;\">são(28.3%),&nbspestão(3.4%),&nbspvivem(3.1%),&nbsppodem(2.7%),&nbspfazem(2.6%)</td></tr><tr><td  style=\"background-color:AliceBlue;\">1803</td><td  style=\"background-color:AliceBlue;\">1.1%</td><td  style=\"background-color:AliceBlue;\">Kms</td><td  style=\"background-color:AliceBlue;\">partido(9.4%),&nbspamado(8.7%),&nbspsido(3.3%),&nbsppublicado(1.7%),&nbspproibido(1.5%)</td></tr><tr><td  style=\"background-color:Ivory;\">1792</td><td  style=\"background-color:Ivory;\">1.1%</td><td  style=\"background-color:Ivory;\">G</td><td  style=\"background-color:Ivory;\">recomendo(8.4%),&nbspsendo(7.4%),&nbsplendo(3.6%),&nbspfazendo(2.9%),&nbspfalando(2.3%)</td></tr><tr><td  style=\"background-color:AliceBlue;\">1784</td><td  style=\"background-color:AliceBlue;\">1.1%</td><td  style=\"background-color:AliceBlue;\">J1s</td><td  style=\"background-color:AliceBlue;\">li(18.3%),&nbspgostei(9.1%),&nbspachei(9.0%),&nbspfiquei(4.9%),&nbspcomecei(3.7%)</td></tr><tr><td  style=\"background-color:Ivory;\">1555</td><td  style=\"background-color:Ivory;\">0.9%</td><td  style=\"background-color:Ivory;\">P1s</td><td  style=\"background-color:Ivory;\">acho(11.0%),&nbsptenho(6.7%),&nbspsei(6.0%),&nbspvou(4.9%),&nbspsou(4.7%)</td></tr><tr><td  style=\"background-color:AliceBlue;\">1228</td><td  style=\"background-color:AliceBlue;\">0.7%</td><td  style=\"background-color:AliceBlue;\">Y3s</td><td  style=\"background-color:AliceBlue;\">fala(15.5%),&nbspseja(12.5%),&nbspcomeça(10.5%),&nbspbala(10.2%),&nbsptenha(4.6%)</td></tr><tr><td  style=\"background-color:Ivory;\">1114</td><td  style=\"background-color:Ivory;\">0.7%</td><td  style=\"background-color:Ivory;\">I3s</td><td  style=\"background-color:Ivory;\">era(35.1%),&nbsptinha(19.2%),&nbsphavia(7.5%),&nbspqueria(6.5%),&nbspsabia(4.2%)</td></tr><tr><td  style=\"background-color:AliceBlue;\">1053</td><td  style=\"background-color:AliceBlue;\">0.6%</td><td  style=\"background-color:AliceBlue;\">N3ms</td><td  style=\"background-color:AliceBlue;\">ele(100.0%)</td></tr><tr><td  style=\"background-color:Ivory;\">1010</td><td  style=\"background-color:Ivory;\">0.6%</td><td  style=\"background-color:Ivory;\">N1ms</td><td  style=\"background-color:Ivory;\">eu(100.0%)</td></tr><tr><td  style=\"background-color:AliceBlue;\">992</td><td  style=\"background-color:AliceBlue;\">0.6%</td><td  style=\"background-color:AliceBlue;\">Kfs</td><td  style=\"background-color:AliceBlue;\">apaixonada(3.1%),&nbspchamada(2.6%),&nbspcontada(2.0%),&nbspdivertida(1.7%),&nbspdescrita(1.5%)</td></tr><tr><td  style=\"background-color:Ivory;\">922</td><td  style=\"background-color:Ivory;\">0.5%</td><td  style=\"background-color:Ivory;\">N3fs</td><td  style=\"background-color:Ivory;\">ela(100.0%)</td></tr><tr><td  style=\"background-color:AliceBlue;\">748</td><td  style=\"background-color:AliceBlue;\">0.4%</td><td  style=\"background-color:AliceBlue;\">R1ms</td><td  style=\"background-color:AliceBlue;\">me(100.0%)</td></tr><tr><td  style=\"background-color:Ivory;\">601</td><td  style=\"background-color:Ivory;\">0.4%</td><td  style=\"background-color:Ivory;\">P1p</td><td  style=\"background-color:Ivory;\">somos(14.0%),&nbsptemos(8.5%),&nbsppodemos(8.2%),&nbspestamos(7.8%),&nbspvemos(7.2%)</td></tr><tr><td  style=\"background-color:AliceBlue;\">575</td><td  style=\"background-color:AliceBlue;\">0.3%</td><td  style=\"background-color:AliceBlue;\">C3s</td><td  style=\"background-color:AliceBlue;\">seria(24.5%),&nbsppoderia(14.6%),&nbspgostaria(6.8%),&nbspteria(6.6%),&nbspdeveria(5.6%)</td></tr><tr><td  style=\"background-color:Ivory;\">549</td><td  style=\"background-color:Ivory;\">0.3%</td><td  style=\"background-color:Ivory;\">Kmp</td><td  style=\"background-color:Ivory;\">abandonados(3.6%),&nbspvigiados(2.6%),&nbspapresentados(2.6%),&nbspestados(2.0%),&nbspunidos(1.8%)</td></tr><tr><td  style=\"background-color:AliceBlue;\">532</td><td  style=\"background-color:AliceBlue;\">0.3%</td><td  style=\"background-color:AliceBlue;\">I1s</td><td  style=\"background-color:AliceBlue;\">estava(25.9%),&nbspesperava(7.3%),&nbspficava(3.0%),&nbspgostava(2.4%),&nbsppensava(2.3%)</td></tr><tr><td  style=\"background-color:Ivory;\">442</td><td  style=\"background-color:Ivory;\">0.3%</td><td  style=\"background-color:Ivory;\">1fs</td><td  style=\"background-color:Ivory;\">minha(69.0%),&nbspnossa(30.8%),&nbspminhã(0.2%)</td></tr><tr><td  style=\"background-color:AliceBlue;\">413</td><td  style=\"background-color:AliceBlue;\">0.2%</td><td  style=\"background-color:AliceBlue;\">3ms</td><td  style=\"background-color:AliceBlue;\">você(96.6%),&nbspvoce(3.1%),&nbspsenhor(0.2%)</td></tr><tr><td  style=\"background-color:Ivory;\">379</td><td  style=\"background-color:Ivory;\">0.2%</td><td  style=\"background-color:Ivory;\">Q3p</td><td  style=\"background-color:Ivory;\">foram(17.2%),&nbspfizeram(5.0%),&nbsppassaram(3.7%),&nbspficaram(3.4%),&nbsptiveram(2.4%)</td></tr><tr><td  style=\"background-color:AliceBlue;\">363</td><td  style=\"background-color:AliceBlue;\">0.2%</td><td  style=\"background-color:AliceBlue;\">P2s</td><td  style=\"background-color:AliceBlue;\">suas(63.1%),&nbspideias(6.9%),&nbsppodes(4.7%),&nbsppaginas(3.3%),&nbspvarias(3.0%)</td></tr><tr><td  style=\"background-color:Ivory;\">337</td><td  style=\"background-color:Ivory;\">0.2%</td><td  style=\"background-color:Ivory;\">I3p</td><td  style=\"background-color:Ivory;\">eram(24.3%),&nbsptinham(8.6%),&nbspestavam(5.3%),&nbspfaziam(4.5%),&nbspviviam(3.9%)</td></tr><tr><td  style=\"background-color:AliceBlue;\">318</td><td  style=\"background-color:AliceBlue;\">0.2%</td><td  style=\"background-color:AliceBlue;\">Kfp</td><td  style=\"background-color:AliceBlue;\">abandonadas(3.8%),&nbsprepetidas(1.9%),&nbspdescritas(1.9%),&nbspdeterminadas(1.9%),&nbspnarradas(1.6%)</td></tr><tr><td  style=\"background-color:Ivory;\">297</td><td  style=\"background-color:Ivory;\">0.2%</td><td  style=\"background-color:Ivory;\">T3s</td><td  style=\"background-color:Ivory;\">fosse(30.3%),&nbsptivesse(15.2%),&nbspestivesse(5.7%),&nbsppudesse(5.1%),&nbspacontecesse(2.0%)</td></tr><tr><td  style=\"background-color:AliceBlue;\">290</td><td  style=\"background-color:AliceBlue;\">0.2%</td><td  style=\"background-color:AliceBlue;\">N3mp</td><td  style=\"background-color:AliceBlue;\">eles(100.0%)</td></tr><tr><td  style=\"background-color:Ivory;\">227</td><td  style=\"background-color:Ivory;\">0.1%</td><td  style=\"background-color:Ivory;\">Y3p</td><td  style=\"background-color:Ivory;\">sejam(9.7%),&nbspvão(9.3%),&nbspleiam(7.9%),&nbspcomeçam(7.5%),&nbspfalam(7.0%)</td></tr><tr><td  style=\"background-color:AliceBlue;\">200</td><td  style=\"background-color:AliceBlue;\">0.1%</td><td  style=\"background-color:AliceBlue;\">O3ms</td><td  style=\"background-color:AliceBlue;\">lo(66.5%),&nbsplhe(33.5%)</td></tr><tr><td  style=\"background-color:Ivory;\">200</td><td  style=\"background-color:Ivory;\">0.1%</td><td  style=\"background-color:Ivory;\">F3s</td><td  style=\"background-color:Ivory;\">será(37.5%),&nbspirá(7.0%),&nbspterá(4.0%),&nbspficará(3.5%),&nbspacontecerá(2.5%)</td></tr><tr><td  style=\"background-color:AliceBlue;\">187</td><td  style=\"background-color:AliceBlue;\">0.1%</td><td  style=\"background-color:AliceBlue;\">W3p</td><td  style=\"background-color:AliceBlue;\">serem(17.6%),&nbspterem(7.5%),&nbsplerem(4.8%),&nbspporem(4.3%),&nbspficarem(3.2%)</td></tr><tr><td  style=\"background-color:Ivory;\">181</td><td  style=\"background-color:Ivory;\">0.1%</td><td  style=\"background-color:Ivory;\">Y2p</td><td  style=\"background-color:Ivory;\">consegui(26.5%),&nbspsenti(15.5%),&nbspassisti(13.3%),&nbspouvi(9.9%),&nbspdescobri(8.3%)</td></tr><tr><td  style=\"background-color:AliceBlue;\">137</td><td  style=\"background-color:AliceBlue;\">0.1%</td><td  style=\"background-color:AliceBlue;\">O1ms</td><td  style=\"background-color:AliceBlue;\">mim(100.0%)</td></tr><tr><td  style=\"background-color:Ivory;\">136</td><td  style=\"background-color:Ivory;\">0.1%</td><td  style=\"background-color:Ivory;\">U3s</td><td  style=\"background-color:Ivory;\">houver(32.4%),&nbspfor(26.5%),&nbspquis(19.1%),&nbsptiver(8.1%),&nbspestiver(5.1%)</td></tr><tr><td  style=\"background-color:AliceBlue;\">132</td><td  style=\"background-color:AliceBlue;\">0.1%</td><td  style=\"background-color:AliceBlue;\">R2ms</td><td  style=\"background-color:AliceBlue;\">te(94.7%),&nbsptê(5.3%)</td></tr><tr><td  style=\"background-color:Ivory;\">114</td><td  style=\"background-color:Ivory;\">0.1%</td><td  style=\"background-color:Ivory;\">Dms</td><td  style=\"background-color:Ivory;\">sozinho(12.3%),&nbsppouquinho(9.6%),&nbspgostinho(7.9%),&nbsprapazinho(7.9%),&nbspbonzinho(6.1%)</td></tr><tr><td  style=\"background-color:AliceBlue;\">113</td><td  style=\"background-color:AliceBlue;\">0.1%</td><td  style=\"background-color:AliceBlue;\">Dfs</td><td  style=\"background-color:AliceBlue;\">cidadezinha(17.7%),&nbspmodinha(15.0%),&nbspmocinha(12.4%),&nbspsozinha(7.1%),&nbspirmãzinha(3.5%)</td></tr><tr><td  style=\"background-color:Ivory;\">104</td><td  style=\"background-color:Ivory;\">0.1%</td><td  style=\"background-color:Ivory;\">Cfp</td><td  style=\"background-color:Ivory;\">duas(97.1%),&nbsptrezentas(1.9%),&nbspduzentas(1.0%)</td></tr><tr><td  style=\"background-color:AliceBlue;\">90</td><td  style=\"background-color:AliceBlue;\">0.1%</td><td  style=\"background-color:AliceBlue;\">O3fs</td><td  style=\"background-color:AliceBlue;\">la(100.0%)</td></tr><tr><td  style=\"background-color:Ivory;\">90</td><td  style=\"background-color:Ivory;\">0.1%</td><td  style=\"background-color:Ivory;\">N3fp</td><td  style=\"background-color:Ivory;\">elas(100.0%)</td></tr><tr><td  style=\"background-color:AliceBlue;\">89</td><td  style=\"background-color:AliceBlue;\">0.1%</td><td  style=\"background-color:AliceBlue;\">Y1p</td><td  style=\"background-color:AliceBlue;\">vamos(37.1%),&nbspdigamos(18.0%),&nbsptenhamos(4.5%),&nbspvejamos(4.5%),&nbspconvenhamos(3.4%)</td></tr><tr><td  style=\"background-color:Ivory;\">73</td><td  style=\"background-color:Ivory;\">0.0%</td><td  style=\"background-color:Ivory;\">F3p</td><td  style=\"background-color:Ivory;\">serão(21.9%),&nbspirão(15.1%),&nbspestarão(4.1%),&nbsppoderão(4.1%),&nbspverão(4.1%)</td></tr><tr><td  style=\"background-color:AliceBlue;\">67</td><td  style=\"background-color:AliceBlue;\">0.0%</td><td  style=\"background-color:AliceBlue;\">C3p</td><td  style=\"background-color:AliceBlue;\">deveriam(16.4%),&nbsppoderiam(13.4%),&nbspseriam(11.9%),&nbspteriam(7.5%),&nbspdiriam(4.5%)</td></tr><tr><td  style=\"background-color:Ivory;\">66</td><td  style=\"background-color:Ivory;\">0.0%</td><td  style=\"background-color:Ivory;\">1fp</td><td  style=\"background-color:Ivory;\">nossas(54.5%),&nbspminhas(45.5%)</td></tr><tr><td  style=\"background-color:AliceBlue;\">56</td><td  style=\"background-color:AliceBlue;\">0.0%</td><td  style=\"background-color:AliceBlue;\">O3mp</td><td  style=\"background-color:AliceBlue;\">los(64.3%),&nbsplhes(35.7%)</td></tr><tr><td  style=\"background-color:Ivory;\">53</td><td  style=\"background-color:Ivory;\">0.0%</td><td  style=\"background-color:Ivory;\">T3p</td><td  style=\"background-color:Ivory;\">fossem(22.6%),&nbsppudessem(9.4%),&nbsptivessem(5.7%),&nbspconhecessem(5.7%),&nbspestivessem(3.8%)</td></tr><tr><td  style=\"background-color:AliceBlue;\">51</td><td  style=\"background-color:AliceBlue;\">0.0%</td><td  style=\"background-color:AliceBlue;\">W1p</td><td  style=\"background-color:AliceBlue;\">sermos(9.8%),&nbsptermos(9.8%),&nbsppensarmos(9.8%),&nbspdeixarmos(3.9%),&nbsppodermos(3.9%)</td></tr><tr><td  style=\"background-color:Ivory;\">46</td><td  style=\"background-color:Ivory;\">0.0%</td><td  style=\"background-color:Ivory;\">F1s</td><td  style=\"background-color:Ivory;\">virei(15.2%),&nbspirei(13.0%),&nbsplerei(8.7%),&nbspesquecerei(6.5%),&nbspverei(6.5%)</td></tr><tr><td  style=\"background-color:AliceBlue;\">38</td><td  style=\"background-color:AliceBlue;\">0.0%</td><td  style=\"background-color:AliceBlue;\">Dfp</td><td  style=\"background-color:AliceBlue;\">mocinhas(13.2%),&nbspgarotinhas(10.5%),&nbspestrelinhas(10.5%),&nbsphistorinhas(7.9%),&nbspcriancinhas(5.3%)</td></tr><tr><td  style=\"background-color:Ivory;\">36</td><td  style=\"background-color:Ivory;\">0.0%</td><td  style=\"background-color:Ivory;\">Dmp</td><td  style=\"background-color:Ivory;\">garotinhos(27.8%),&nbspsozinhos(11.1%),&nbspbonzinhos(11.1%),&nbspmocinhos(8.3%),&nbspilhéus(5.6%)</td></tr><tr><td  style=\"background-color:AliceBlue;\">35</td><td  style=\"background-color:AliceBlue;\">0.0%</td><td  style=\"background-color:AliceBlue;\">Q1s</td><td  style=\"background-color:AliceBlue;\">acabara(8.6%),&nbsptomara(8.6%),&nbspdeixara(5.7%),&nbspdedicara(2.9%),&nbspespecializara(2.9%)</td></tr><tr><td  style=\"background-color:Ivory;\">35</td><td  style=\"background-color:Ivory;\">0.0%</td><td  style=\"background-color:Ivory;\">Q3s</td><td  style=\"background-color:Ivory;\">fora(31.4%),&nbsplera(11.4%),&nbspfizera(11.4%),&nbspfalecera(5.7%),&nbspmorrera(5.7%)</td></tr><tr><td  style=\"background-color:AliceBlue;\">29</td><td  style=\"background-color:AliceBlue;\">0.0%</td><td  style=\"background-color:AliceBlue;\">3mp</td><td  style=\"background-color:AliceBlue;\">vocês(96.6%),&nbspvoces(3.4%)</td></tr><tr><td  style=\"background-color:Ivory;\">28</td><td  style=\"background-color:Ivory;\">0.0%</td><td  style=\"background-color:Ivory;\">Sms</td><td  style=\"background-color:Ivory;\">belíssimo(14.3%),&nbspmuitíssimo(14.3%),&nbspdivertidíssimo(10.7%),&nbspinteligentíssimo(7.1%),&nbspexcelentíssimo(7.1%)</td></tr><tr><td  style=\"background-color:AliceBlue;\">28</td><td  style=\"background-color:AliceBlue;\">0.0%</td><td  style=\"background-color:AliceBlue;\">Cmp</td><td  style=\"background-color:AliceBlue;\">cem(57.1%),&nbspmil(42.9%)</td></tr><tr><td  style=\"background-color:Ivory;\">20</td><td  style=\"background-color:Ivory;\">0.0%</td><td  style=\"background-color:Ivory;\">O3fp</td><td  style=\"background-color:Ivory;\">las(100.0%)</td></tr><tr><td  style=\"background-color:AliceBlue;\">19</td><td  style=\"background-color:AliceBlue;\">0.0%</td><td  style=\"background-color:AliceBlue;\">F1p</td><td  style=\"background-color:AliceBlue;\">teremos(15.8%),&nbspiremos(10.5%),&nbspchegaremos(10.5%),&nbspestaremos(10.5%),&nbsppoderemos(10.5%)</td></tr><tr><td  style=\"background-color:Ivory;\">19</td><td  style=\"background-color:Ivory;\">0.0%</td><td  style=\"background-color:Ivory;\">C1p</td><td  style=\"background-color:Ivory;\">perderíamos(15.8%),&nbspdeveríamos(10.5%),&nbspseríamos(10.5%),&nbspdiríamos(10.5%),&nbspviveríamos(5.3%)</td></tr><tr><td  style=\"background-color:AliceBlue;\">19</td><td  style=\"background-color:AliceBlue;\">0.0%</td><td  style=\"background-color:AliceBlue;\">W3</td><td  style=\"background-color:AliceBlue;\">expor(57.9%),&nbspimpor(15.8%),&nbsptranspor(5.3%),&nbsppropor(5.3%),&nbsppôr(5.3%)</td></tr><tr><td  style=\"background-color:Ivory;\">16</td><td  style=\"background-color:Ivory;\">0.0%</td><td  style=\"background-color:Ivory;\">S2s</td><td  style=\"background-color:Ivory;\">series(18.8%),&nbsppiores(12.5%),&nbspentregues(12.5%),&nbspcreias(6.2%),&nbspescolhas(6.2%)</td></tr><tr><td  style=\"background-color:AliceBlue;\">16</td><td  style=\"background-color:AliceBlue;\">0.0%</td><td  style=\"background-color:AliceBlue;\">Ams</td><td  style=\"background-color:AliceBlue;\">bonitão(31.2%),&nbspcaixão(12.5%),&nbspbarracão(12.5%),&nbspbobão(6.2%),&nbspproblemão(6.2%)</td></tr><tr><td  style=\"background-color:Ivory;\">15</td><td  style=\"background-color:Ivory;\">0.0%</td><td  style=\"background-color:Ivory;\">Y2S</td><td  style=\"background-color:Ivory;\">ri(100.0%)</td></tr><tr><td  style=\"background-color:AliceBlue;\">13</td><td  style=\"background-color:AliceBlue;\">0.0%</td><td  style=\"background-color:AliceBlue;\">Sfs</td><td  style=\"background-color:AliceBlue;\">belíssima(23.1%),&nbsparrumadíssima(7.7%),&nbspimportantíssima(7.7%),&nbspapaixonadíssima(7.7%),&nbspfamosíssima(7.7%)</td></tr><tr><td  style=\"background-color:Ivory;\">11</td><td  style=\"background-color:Ivory;\">0.0%</td><td  style=\"background-color:Ivory;\">U3p</td><td  style=\"background-color:Ivory;\">tiverem(27.3%),&nbspforem(27.3%),&nbspestiverem(18.2%),&nbsphouverem(9.1%),&nbsppuderem(9.1%)</td></tr><tr><td  style=\"background-color:AliceBlue;\">11</td><td  style=\"background-color:AliceBlue;\">0.0%</td><td  style=\"background-color:AliceBlue;\">T1p</td><td  style=\"background-color:AliceBlue;\">pudéssemos(18.2%),&nbsptivessemos(9.1%),&nbspestivessemos(9.1%),&nbspvivêssemos(9.1%),&nbspenxergássemos(9.1%)</td></tr><tr><td  style=\"background-color:Ivory;\">11</td><td  style=\"background-color:Ivory;\">0.0%</td><td  style=\"background-color:Ivory;\">I1p</td><td  style=\"background-color:Ivory;\">tínhamos(18.2%),&nbspestávamos(18.2%),&nbspsabíamos(18.2%),&nbspéramos(18.2%),&nbspsuspeitávamos(9.1%)</td></tr><tr><td  style=\"background-color:AliceBlue;\">9</td><td  style=\"background-color:AliceBlue;\">0.0%</td><td  style=\"background-color:AliceBlue;\">Sfp</td><td  style=\"background-color:AliceBlue;\">fortíssimas(22.2%),&nbspengraçadíssimas(22.2%),&nbspdivertidíssimas(11.1%),&nbspbelíssimas(11.1%),&nbsppouquíssimas(11.1%)</td></tr><tr><td  style=\"background-color:Ivory;\">8</td><td  style=\"background-color:Ivory;\">0.0%</td><td  style=\"background-color:Ivory;\">K</td><td  style=\"background-color:Ivory;\">vindo(87.5%),&nbspadvindo(12.5%)</td></tr><tr><td  style=\"background-color:AliceBlue;\">7</td><td  style=\"background-color:AliceBlue;\">0.0%</td><td  style=\"background-color:AliceBlue;\">3fs</td><td  style=\"background-color:AliceBlue;\">senhora(100.0%)</td></tr><tr><td  style=\"background-color:Ivory;\">7</td><td  style=\"background-color:Ivory;\">0.0%</td><td  style=\"background-color:Ivory;\">J1p</td><td  style=\"background-color:Ivory;\">fomos(42.9%),&nbsptivemos(28.6%),&nbspfizemos(14.3%),&nbspdissemos(14.3%)</td></tr><tr><td  style=\"background-color:AliceBlue;\">6</td><td  style=\"background-color:AliceBlue;\">0.0%</td><td  style=\"background-color:AliceBlue;\">Amp</td><td  style=\"background-color:AliceBlue;\">durões(50.0%),&nbspcaixões(33.3%),&nbspfigurões(16.7%)</td></tr><tr><td  style=\"background-color:Ivory;\">6</td><td  style=\"background-color:Ivory;\">0.0%</td><td  style=\"background-color:Ivory;\">O2ms</td><td  style=\"background-color:Ivory;\">ti(100.0%)</td></tr><tr><td  style=\"background-color:AliceBlue;\">6</td><td  style=\"background-color:AliceBlue;\">0.0%</td><td  style=\"background-color:AliceBlue;\">N2ms</td><td  style=\"background-color:AliceBlue;\">tu(100.0%)</td></tr><tr><td  style=\"background-color:Ivory;\">5</td><td  style=\"background-color:Ivory;\">0.0%</td><td  style=\"background-color:Ivory;\">P2p</td><td  style=\"background-color:Ivory;\">habituais(40.0%),&nbsppossui-lá(20.0%),&nbsphabitáis(20.0%),&nbspareais(20.0%)</td></tr><tr><td  style=\"background-color:AliceBlue;\">5</td><td  style=\"background-color:AliceBlue;\">0.0%</td><td  style=\"background-color:AliceBlue;\">S2p</td><td  style=\"background-color:AliceBlue;\">fieis(40.0%),&nbspatuais(20.0%),&nbspareis(20.0%),&nbspmorrais(20.0%)</td></tr><tr><td  style=\"background-color:Ivory;\">5</td><td  style=\"background-color:Ivory;\">0.0%</td><td  style=\"background-color:Ivory;\">Smp</td><td  style=\"background-color:Ivory;\">pouquíssimos(40.0%),&nbspfortíssimos(20.0%),&nbspchatíssimos(20.0%),&nbspsofisticadíssimos(20.0%)</td></tr><tr><td  style=\"background-color:AliceBlue;\">5</td><td  style=\"background-color:AliceBlue;\">0.0%</td><td  style=\"background-color:AliceBlue;\">2mp</td><td  style=\"background-color:AliceBlue;\">teus(100.0%)</td></tr><tr><td  style=\"background-color:Ivory;\">4</td><td  style=\"background-color:Ivory;\">0.0%</td><td  style=\"background-color:Ivory;\">U1p</td><td  style=\"background-color:Ivory;\">formos(50.0%),&nbspfizermos(25.0%),&nbsptivermos(25.0%)</td></tr><tr><td  style=\"background-color:AliceBlue;\">4</td><td  style=\"background-color:AliceBlue;\">0.0%</td><td  style=\"background-color:AliceBlue;\">W2s</td><td  style=\"background-color:AliceBlue;\">desenrolares(25.0%),&nbsppesares(25.0%),&nbspveres(25.0%),&nbsptirares(25.0%)</td></tr><tr><td  style=\"background-color:Ivory;\">4</td><td  style=\"background-color:Ivory;\">0.0%</td><td  style=\"background-color:Ivory;\">Fms</td><td  style=\"background-color:Ivory;\">terço(100.0%)</td></tr><tr><td  style=\"background-color:AliceBlue;\">3</td><td  style=\"background-color:AliceBlue;\">0.0%</td><td  style=\"background-color:AliceBlue;\">F2s</td><td  style=\"background-color:AliceBlue;\">dirás(33.3%),&nbspaprenderás(33.3%),&nbspsê-lo-ás(33.3%)</td></tr><tr><td  style=\"background-color:Ivory;\">3</td><td  style=\"background-color:Ivory;\">0.0%</td><td  style=\"background-color:Ivory;\">Q2s</td><td  style=\"background-color:Ivory;\">deveras(33.3%),&nbspconvenceras(33.3%),&nbspcamaras(33.3%)</td></tr><tr><td  style=\"background-color:AliceBlue;\">3</td><td  style=\"background-color:AliceBlue;\">0.0%</td><td  style=\"background-color:AliceBlue;\">2fs</td><td  style=\"background-color:AliceBlue;\">tua(100.0%)</td></tr><tr><td  style=\"background-color:Ivory;\">2</td><td  style=\"background-color:Ivory;\">0.0%</td><td  style=\"background-color:Ivory;\">2ms</td><td  style=\"background-color:Ivory;\">teu(100.0%)</td></tr><tr><td  style=\"background-color:AliceBlue;\">2</td><td  style=\"background-color:AliceBlue;\">0.0%</td><td  style=\"background-color:AliceBlue;\">F2p</td><td  style=\"background-color:AliceBlue;\">comereis(50.0%),&nbsptocareis(50.0%)</td></tr><tr><td  style=\"background-color:Ivory;\">1</td><td  style=\"background-color:Ivory;\">0.0%</td><td  style=\"background-color:Ivory;\">I2s</td><td  style=\"background-color:Ivory;\">ferias(100.0%)</td></tr><tr><td  style=\"background-color:AliceBlue;\">1</td><td  style=\"background-color:AliceBlue;\">0.0%</td><td  style=\"background-color:AliceBlue;\">N2mp</td><td  style=\"background-color:AliceBlue;\">vós(100.0%)</td></tr><tr><td  style=\"background-color:Ivory;\">1</td><td  style=\"background-color:Ivory;\">0.0%</td><td  style=\"background-color:Ivory;\">S3s</td><td  style=\"background-color:Ivory;\">paira(100.0%)</td></tr><tr><td  style=\"background-color:AliceBlue;\">1</td><td  style=\"background-color:AliceBlue;\">0.0%</td><td  style=\"background-color:AliceBlue;\">W2p</td><td  style=\"background-color:AliceBlue;\">verdes(100.0%)</td></tr><tr><td  style=\"background-color:Ivory;\">1</td><td  style=\"background-color:Ivory;\">0.0%</td><td  style=\"background-color:Ivory;\">Fmp</td><td  style=\"background-color:Ivory;\">terços(100.0%)</td></tr><tr><td  style=\"background-color:AliceBlue;\">1</td><td  style=\"background-color:AliceBlue;\">0.0%</td><td  style=\"background-color:AliceBlue;\">C2s</td><td  style=\"background-color:AliceBlue;\">revolucionarias(100.0%)</td></tr><tr><td  style=\"background-color:Ivory;\">1</td><td  style=\"background-color:Ivory;\">0.0%</td><td  style=\"background-color:Ivory;\">Afs</td><td  style=\"background-color:Ivory;\">telona(100.0%)</td></tr></table>"
      ],
      "text/plain": [
       "<ipy_table.IpyTable at 0x7f871d3b7e10>"
      ]
     },
     "execution_count": 9,
     "metadata": {},
     "output_type": "execute_result"
    }
   ],
   "source": [
    "morf_freq = dict()\n",
    "freqlist = dict()\n",
    "\n",
    "for word_node in reviews.iter('word'):\n",
    "    form = word_node.get('form').lower()\n",
    "    morf_tags = word_node.get('morf').split()\n",
    "    \n",
    "    for tag in morf_tags:\n",
    "        morf_freq[tag] = morf_freq.get(tag, 0) + 1\n",
    "        if tag not in freqlist:\n",
    "            freqlist[tag] = dict()\n",
    "        freqlist[tag][form] = freqlist[tag].get(form, 0) + 1 \n",
    "    \n",
    "data = [['FREQ', '% FREQ', 'MORF TAG', 'EXAMPLES']]\n",
    "\n",
    "for tag, freq in sorted(morf_freq.items(), key=itemgetter(1), reverse=True):\n",
    "    examples = ', '.join(['{}({:.1f}%)'.format(w,f / sum(freqlist[tag].values()) * 100) \n",
    "                          for w,f in sorted(freqlist[tag].items(), key=itemgetter(1), reverse=True)[:5]])\n",
    "    ratio = freq / sum(morf_freq.values()) * 100\n",
    "    data.append([freq, '{:.1f}%'.format(ratio), tag, examples])\n",
    "\n",
    "ipy_table.make_table(data)\n",
    "ipy_table.apply_theme('basic')"
   ]
  },
  {
   "cell_type": "markdown",
   "metadata": {},
   "source": [
    "## Dependency relation frequency"
   ]
  },
  {
   "cell_type": "code",
   "execution_count": 10,
   "metadata": {
    "collapsed": false
   },
   "outputs": [
    {
     "data": {
      "text/html": [
       "<table border=\"1\" cellpadding=\"3\" cellspacing=\"0\"  style=\"border:1px solid black;border-collapse:collapse;\"><tr><td  style=\"background-color:LightGray;\"><b>FREQ</b></td><td  style=\"background-color:LightGray;\"><b>%&nbspFREQ</b></td><td  style=\"background-color:LightGray;\"><b>DEPREL</b></td><td  style=\"background-color:LightGray;\"><b>EXAMPLES</b></td></tr><tr><td  style=\"background-color:Ivory;\">34846</td><td  style=\"background-color:Ivory;\">13.4%</td><td  style=\"background-color:Ivory;\">det</td><td  style=\"background-color:Ivory;\">o(29.9%),&nbspa(25.8%),&nbspum(9.0%),&nbspos(7.9%),&nbspuma(6.9%)</td></tr><tr><td  style=\"background-color:AliceBlue;\">31852</td><td  style=\"background-color:AliceBlue;\">12.2%</td><td  style=\"background-color:AliceBlue;\">p</td><td  style=\"background-color:AliceBlue;\">,(47.6%),&nbsp.(25.4%),&nbsp\"(6.7%),&nbsp-(4.1%),&nbsp!(3.5%)</td></tr><tr><td  style=\"background-color:Ivory;\">29938</td><td  style=\"background-color:Ivory;\">11.5%</td><td  style=\"background-color:Ivory;\">adpmod</td><td  style=\"background-color:Ivory;\">de(46.1%),&nbspem(16.9%),&nbspa(7.7%),&nbsppor(6.9%),&nbspcom(6.8%)</td></tr><tr><td  style=\"background-color:AliceBlue;\">27438</td><td  style=\"background-color:AliceBlue;\">10.5%</td><td  style=\"background-color:AliceBlue;\">adpobj</td><td  style=\"background-color:AliceBlue;\">livro(3.1%),&nbspele(1.2%),&nbspvida(1.2%),&nbspmundo(1.2%),&nbsphistória(1.1%)</td></tr><tr><td  style=\"background-color:Ivory;\">15963</td><td  style=\"background-color:Ivory;\">6.1%</td><td  style=\"background-color:Ivory;\">nsubj</td><td  style=\"background-color:Ivory;\">que(20.3%),&nbspeu(5.9%),&nbsplivro(4.5%),&nbspele(3.9%),&nbspela(3.6%)</td></tr><tr><td  style=\"background-color:AliceBlue;\">12843</td><td  style=\"background-color:AliceBlue;\">4.9%</td><td  style=\"background-color:AliceBlue;\">dobj</td><td  style=\"background-color:AliceBlue;\">que(8.3%),&nbspse(5.2%),&nbspme(4.1%),&nbspo(4.1%),&nbsplivro(4.0%)</td></tr><tr><td  style=\"background-color:Ivory;\">12660</td><td  style=\"background-color:Ivory;\">4.9%</td><td  style=\"background-color:Ivory;\">ROOT</td><td  style=\"background-color:Ivory;\">é(14.6%),&nbspfoi(1.8%),&nbsplivro(1.6%),&nbsptem(1.5%),&nbspsão(1.2%)</td></tr><tr><td  style=\"background-color:AliceBlue;\">11440</td><td  style=\"background-color:AliceBlue;\">4.4%</td><td  style=\"background-color:AliceBlue;\">amod</td><td  style=\"background-color:AliceBlue;\">.(6.1%),&nbspgrande(2.7%),&nbspprimeiro(1.7%),&nbspbom(1.4%),&nbspmesmo(1.4%)</td></tr><tr><td  style=\"background-color:Ivory;\">11308</td><td  style=\"background-color:Ivory;\">4.3%</td><td  style=\"background-color:Ivory;\">conj</td><td  style=\"background-color:Ivory;\">é(4.2%),&nbspde(2.4%),&nbspem(0.9%),&nbsptem(0.9%),&nbspsão(0.7%)</td></tr><tr><td  style=\"background-color:AliceBlue;\">10800</td><td  style=\"background-color:AliceBlue;\">4.1%</td><td  style=\"background-color:AliceBlue;\">advmod</td><td  style=\"background-color:AliceBlue;\">mais(11.2%),&nbspmuito(8.7%),&nbspjá(4.2%),&nbspbem(4.1%),&nbspsó(3.2%)</td></tr><tr><td  style=\"background-color:Ivory;\">8777</td><td  style=\"background-color:Ivory;\">3.4%</td><td  style=\"background-color:Ivory;\">cc</td><td  style=\"background-color:Ivory;\">e(75.4%),&nbspmas(14.7%),&nbspou(5.8%),&nbspnem(0.8%),&nbsppois(0.6%)</td></tr><tr><td  style=\"background-color:AliceBlue;\">5440</td><td  style=\"background-color:AliceBlue;\">2.1%</td><td  style=\"background-color:AliceBlue;\">mark</td><td  style=\"background-color:AliceBlue;\">que(43.5%),&nbsppara(10.3%),&nbspse(9.3%),&nbspquando(7.9%),&nbspcomo(5.6%)</td></tr><tr><td  style=\"background-color:Ivory;\">5098</td><td  style=\"background-color:Ivory;\">2.0%</td><td  style=\"background-color:Ivory;\">rcmod</td><td  style=\"background-color:Ivory;\">é(5.2%),&nbsptem(2.0%),&nbspli(2.0%),&nbspfaz(1.6%),&nbspsão(1.3%)</td></tr><tr><td  style=\"background-color:AliceBlue;\">3343</td><td  style=\"background-color:AliceBlue;\">1.3%</td><td  style=\"background-color:AliceBlue;\">appos</td><td  style=\"background-color:AliceBlue;\">.(5.9%),&nbspo(2.0%),&nbsplivro(1.3%),&nbspcapitães(1.0%),&nbspque(0.9%)</td></tr><tr><td  style=\"background-color:Ivory;\">3262</td><td  style=\"background-color:Ivory;\">1.3%</td><td  style=\"background-color:Ivory;\">adpcomp</td><td  style=\"background-color:Ivory;\">ler(5.8%),&nbspser(2.6%),&nbsppartir(2.1%),&nbspaí(1.8%),&nbspfazer(1.7%)</td></tr><tr><td  style=\"background-color:AliceBlue;\">3260</td><td  style=\"background-color:AliceBlue;\">1.3%</td><td  style=\"background-color:AliceBlue;\">attr</td><td  style=\"background-color:AliceBlue;\">livro(10.2%),&nbspum(3.2%),&nbspo(3.0%),&nbspvampiro(1.7%),&nbsp.(1.7%)</td></tr><tr><td  style=\"background-color:Ivory;\">3182</td><td  style=\"background-color:Ivory;\">1.2%</td><td  style=\"background-color:Ivory;\">advcl</td><td  style=\"background-color:Ivory;\">é(4.9%),&nbspler(3.0%),&nbspser(2.6%),&nbspter(1.3%),&nbsphá(1.1%)</td></tr><tr><td  style=\"background-color:AliceBlue;\">2937</td><td  style=\"background-color:AliceBlue;\">1.1%</td><td  style=\"background-color:AliceBlue;\">acomp</td><td  style=\"background-color:AliceBlue;\">bom(4.2%),&nbspinteressante(2.6%),&nbsppossível(1.6%),&nbsp.(1.5%),&nbspdiferente(1.4%)</td></tr><tr><td  style=\"background-color:Ivory;\">2792</td><td  style=\"background-color:Ivory;\">1.1%</td><td  style=\"background-color:Ivory;\">aux</td><td  style=\"background-color:Ivory;\">pode(8.6%),&nbspvai(6.5%),&nbspter(5.7%),&nbspacaba(3.4%),&nbsppoderia(3.0%)</td></tr><tr><td  style=\"background-color:AliceBlue;\">2701</td><td  style=\"background-color:AliceBlue;\">1.0%</td><td  style=\"background-color:AliceBlue;\">neg</td><td  style=\"background-color:AliceBlue;\">não(98.9%),&nbspnem(0.6%),&nbspnunca(0.2%),&nbspnao(0.1%),&nbspdepois(0.1%)</td></tr><tr><td  style=\"background-color:Ivory;\">2654</td><td  style=\"background-color:Ivory;\">1.0%</td><td  style=\"background-color:Ivory;\">poss</td><td  style=\"background-color:Ivory;\">sua(28.8%),&nbspseu(21.9%),&nbspseus(11.3%),&nbspminha(11.2%),&nbspsuas(8.6%)</td></tr><tr><td  style=\"background-color:AliceBlue;\">2359</td><td  style=\"background-color:AliceBlue;\">0.9%</td><td  style=\"background-color:AliceBlue;\">partmod</td><td  style=\"background-color:AliceBlue;\">sendo(1.9%),&nbspescrito(1.6%),&nbspfazendo(1.2%),&nbspmostrando(0.8%),&nbsptentando(0.7%)</td></tr><tr><td  style=\"background-color:Ivory;\">2315</td><td  style=\"background-color:Ivory;\">0.9%</td><td  style=\"background-color:Ivory;\">compmod</td><td  style=\"background-color:Ivory;\">jorge(6.3%),&nbsppedro(5.5%),&nbspsidney(5.4%),&nbspgeorge(4.1%),&nbspedward(3.5%)</td></tr><tr><td  style=\"background-color:AliceBlue;\">2240</td><td  style=\"background-color:AliceBlue;\">0.9%</td><td  style=\"background-color:AliceBlue;\">ccomp</td><td  style=\"background-color:AliceBlue;\">é(13.3%),&nbspera(2.7%),&nbspsão(2.5%),&nbspfoi(2.3%),&nbsptem(1.9%)</td></tr><tr><td  style=\"background-color:Ivory;\">1602</td><td  style=\"background-color:Ivory;\">0.6%</td><td  style=\"background-color:Ivory;\">parataxis</td><td  style=\"background-color:Ivory;\">é(16.4%),&nbspfoi(2.2%),&nbspsão(1.5%),&nbsptem(1.1%),&nbspera(1.0%)</td></tr><tr><td  style=\"background-color:AliceBlue;\">1462</td><td  style=\"background-color:AliceBlue;\">0.6%</td><td  style=\"background-color:AliceBlue;\">xcomp</td><td  style=\"background-color:AliceBlue;\">ser(6.2%),&nbspler(5.7%),&nbspdizer(2.9%),&nbspfazer(2.8%),&nbspver(2.5%)</td></tr><tr><td  style=\"background-color:Ivory;\">1323</td><td  style=\"background-color:Ivory;\">0.5%</td><td  style=\"background-color:Ivory;\">auxpass</td><td  style=\"background-color:Ivory;\">é(30.7%),&nbspser(18.2%),&nbspfoi(14.3%),&nbspsão(12.1%),&nbspsendo(3.7%)</td></tr><tr><td  style=\"background-color:AliceBlue;\">1270</td><td  style=\"background-color:AliceBlue;\">0.5%</td><td  style=\"background-color:AliceBlue;\">prt</td><td  style=\"background-color:AliceBlue;\">se(99.5%),&nbspné(0.2%),&nbspcara(0.1%),&nbsp.(0.1%),&nbsprá(0.1%)</td></tr><tr><td  style=\"background-color:Ivory;\">968</td><td  style=\"background-color:Ivory;\">0.4%</td><td  style=\"background-color:Ivory;\">mwe</td><td  style=\"background-color:Ivory;\">apesar(18.7%),&nbspdepois(17.8%),&nbspantes(10.4%),&nbspassim(5.9%),&nbspaté(5.7%)</td></tr><tr><td  style=\"background-color:AliceBlue;\">947</td><td  style=\"background-color:AliceBlue;\">0.4%</td><td  style=\"background-color:AliceBlue;\">num</td><td  style=\"background-color:AliceBlue;\">duas(9.2%),&nbsptrês(9.1%),&nbspdois(8.8%),&nbspum(7.5%),&nbspuma(7.2%)</td></tr><tr><td  style=\"background-color:Ivory;\">944</td><td  style=\"background-color:Ivory;\">0.4%</td><td  style=\"background-color:Ivory;\">nsubjpass</td><td  style=\"background-color:Ivory;\">que(16.4%),&nbsplivro(7.4%),&nbspela(3.1%),&nbspele(3.1%),&nbsphistória(1.9%)</td></tr><tr><td  style=\"background-color:AliceBlue;\">877</td><td  style=\"background-color:AliceBlue;\">0.3%</td><td  style=\"background-color:AliceBlue;\">csubj</td><td  style=\"background-color:AliceBlue;\">é(5.9%),&nbspler(3.1%),&nbsptem(2.6%),&nbspver(1.7%),&nbspter(1.6%)</td></tr><tr><td  style=\"background-color:Ivory;\">660</td><td  style=\"background-color:Ivory;\">0.3%</td><td  style=\"background-color:Ivory;\">adp</td><td  style=\"background-color:Ivory;\">a(48.2%),&nbspde(31.2%),&nbspque(9.4%),&nbsppor(7.4%),&nbspem(1.2%)</td></tr><tr><td  style=\"background-color:AliceBlue;\">395</td><td  style=\"background-color:AliceBlue;\">0.2%</td><td  style=\"background-color:AliceBlue;\">nmod</td><td  style=\"background-color:AliceBlue;\">vezes(28.4%),&nbspvez(20.8%),&nbspanos(6.3%),&nbspdia(4.1%),&nbsppouco(3.8%)</td></tr><tr><td  style=\"background-color:Ivory;\">331</td><td  style=\"background-color:Ivory;\">0.1%</td><td  style=\"background-color:Ivory;\">dep</td><td  style=\"background-color:Ivory;\">que(43.2%),&nbspse(4.2%),&nbspuns(2.1%),&nbsptudo(1.8%),&nbspbem(1.8%)</td></tr><tr><td  style=\"background-color:AliceBlue;\">302</td><td  style=\"background-color:AliceBlue;\">0.1%</td><td  style=\"background-color:AliceBlue;\">iobj</td><td  style=\"background-color:AliceBlue;\">me(62.9%),&nbsplhe(18.9%),&nbspnos(6.0%),&nbsplhes(4.0%),&nbspte(1.3%)</td></tr><tr><td  style=\"background-color:Ivory;\">25</td><td  style=\"background-color:Ivory;\">0.0%</td><td  style=\"background-color:Ivory;\">infmod</td><td  style=\"background-color:Ivory;\">ler(8.0%),&nbspsaber(8.0%),&nbspseguido(4.0%),&nbspperder(4.0%),&nbspconstatar(4.0%)</td></tr><tr><td  style=\"background-color:AliceBlue;\">7</td><td  style=\"background-color:AliceBlue;\">0.0%</td><td  style=\"background-color:AliceBlue;\">csubjpass</td><td  style=\"background-color:AliceBlue;\">é(28.6%),&nbspcolocar(14.3%),&nbspsabe(14.3%),&nbspdesenrola(14.3%),&nbspabandonar(14.3%)</td></tr></table>"
      ],
      "text/plain": [
       "<ipy_table.IpyTable at 0x7f870d0e9198>"
      ]
     },
     "execution_count": 10,
     "metadata": {},
     "output_type": "execute_result"
    }
   ],
   "source": [
    "from operator import itemgetter\n",
    "deprel_freq = dict()\n",
    "freqlist = dict()\n",
    "\n",
    "for word_node in reviews.iter('word'):\n",
    "    form = word_node.get('form').lower()\n",
    "    deprel = word_node.get('deprel')\n",
    "    # fix a bug in PALAVRAS output\n",
    "    deprel = deprel.split()[0]\n",
    "    \n",
    "    deprel_freq[deprel] = deprel_freq.get(deprel, 0) + 1\n",
    "    if deprel not in freqlist:\n",
    "        freqlist[deprel] = dict()\n",
    "    freqlist[deprel][form] = freqlist[deprel].get(form, 0) + 1 \n",
    "    \n",
    "data = [['FREQ', '% FREQ', 'DEPREL', 'EXAMPLES']]\n",
    "\n",
    "for deprel, freq in sorted(deprel_freq.items(), key=itemgetter(1), reverse=True):\n",
    "    examples = ', '.join(['{}({:.1f}%)'.format(w,f / sum(freqlist[deprel].values()) * 100) \n",
    "                          for w,f in sorted(freqlist[deprel].items(), key=itemgetter(1), reverse=True)[:5]])\n",
    "    ratio = freq / sum(deprel_freq.values()) * 100\n",
    "    data.append([freq, '{:.1f}%'.format(ratio), deprel, examples])\n",
    "\n",
    "ipy_table.make_table(data)\n",
    "ipy_table.apply_theme('basic')"
   ]
  },
  {
   "cell_type": "markdown",
   "metadata": {},
   "source": [
    "## Dependency Root frequency"
   ]
  },
  {
   "cell_type": "code",
   "execution_count": 11,
   "metadata": {
    "collapsed": false
   },
   "outputs": [
    {
     "data": {
      "text/html": [
       "<table border=\"1\" cellpadding=\"3\" cellspacing=\"0\"  style=\"border:1px solid black;border-collapse:collapse;\"><tr><td  style=\"background-color:LightGray;\"><b>Freq</b></td><td  style=\"background-color:LightGray;\"><b>%&nbspFreq</b></td><td  style=\"background-color:LightGray;\"><b>word</b></td></tr><tr><td  style=\"background-color:Ivory;\">1850</td><td  style=\"background-color:Ivory;\">14.65%</td><td  style=\"background-color:Ivory;\">é</td></tr><tr><td  style=\"background-color:AliceBlue;\">223</td><td  style=\"background-color:AliceBlue;\">1.77%</td><td  style=\"background-color:AliceBlue;\">foi</td></tr><tr><td  style=\"background-color:Ivory;\">203</td><td  style=\"background-color:Ivory;\">1.61%</td><td  style=\"background-color:Ivory;\">livro</td></tr><tr><td  style=\"background-color:AliceBlue;\">189</td><td  style=\"background-color:AliceBlue;\">1.50%</td><td  style=\"background-color:AliceBlue;\">tem</td></tr><tr><td  style=\"background-color:Ivory;\">156</td><td  style=\"background-color:Ivory;\">1.24%</td><td  style=\"background-color:Ivory;\">são</td></tr><tr><td  style=\"background-color:AliceBlue;\">123</td><td  style=\"background-color:AliceBlue;\">0.97%</td><td  style=\"background-color:AliceBlue;\">era</td></tr><tr><td  style=\"background-color:Ivory;\">120</td><td  style=\"background-color:Ivory;\">0.95%</td><td  style=\"background-color:Ivory;\">\"</td></tr><tr><td  style=\"background-color:AliceBlue;\">108</td><td  style=\"background-color:AliceBlue;\">0.86%</td><td  style=\"background-color:AliceBlue;\">há</td></tr><tr><td  style=\"background-color:Ivory;\">99</td><td  style=\"background-color:Ivory;\">0.78%</td><td  style=\"background-color:Ivory;\">recomendo</td></tr><tr><td  style=\"background-color:AliceBlue;\">89</td><td  style=\"background-color:AliceBlue;\">0.70%</td><td  style=\"background-color:AliceBlue;\">conta</td></tr><tr><td  style=\"background-color:Ivory;\">89</td><td  style=\"background-color:Ivory;\">0.70%</td><td  style=\"background-color:Ivory;\">achei</td></tr><tr><td  style=\"background-color:AliceBlue;\">89</td><td  style=\"background-color:AliceBlue;\">0.70%</td><td  style=\"background-color:AliceBlue;\">acho</td></tr><tr><td  style=\"background-color:Ivory;\">87</td><td  style=\"background-color:Ivory;\">0.69%</td><td  style=\"background-color:Ivory;\">ser</td></tr><tr><td  style=\"background-color:AliceBlue;\">81</td><td  style=\"background-color:AliceBlue;\">0.64%</td><td  style=\"background-color:AliceBlue;\">está</td></tr><tr><td  style=\"background-color:Ivory;\">76</td><td  style=\"background-color:Ivory;\">0.60%</td><td  style=\"background-color:Ivory;\">faz</td></tr><tr><td  style=\"background-color:AliceBlue;\">73</td><td  style=\"background-color:AliceBlue;\">0.58%</td><td  style=\"background-color:AliceBlue;\">gostei</td></tr><tr><td  style=\"background-color:Ivory;\">72</td><td  style=\"background-color:Ivory;\">0.57%</td><td  style=\"background-color:Ivory;\">mostra</td></tr><tr><td  style=\"background-color:AliceBlue;\">71</td><td  style=\"background-color:AliceBlue;\">0.56%</td><td  style=\"background-color:AliceBlue;\">de</td></tr><tr><td  style=\"background-color:Ivory;\">69</td><td  style=\"background-color:Ivory;\">0.55%</td><td  style=\"background-color:Ivory;\">em</td></tr><tr><td  style=\"background-color:AliceBlue;\">68</td><td  style=\"background-color:AliceBlue;\">0.54%</td><td  style=\"background-color:AliceBlue;\">o</td></tr></table>"
      ],
      "text/plain": [
       "<ipy_table.IpyTable at 0x7f870d0e9278>"
      ]
     },
     "execution_count": 11,
     "metadata": {},
     "output_type": "execute_result"
    }
   ],
   "source": [
    "freqlist = Counter([word_node.get('form').lower() \n",
    "                    for word_node in reviews.iter('word') \n",
    "                        if word_node.get('head') =='0' and \n",
    "                           word_node.get('postag') !='pu'])\n",
    "\n",
    "data = [['Freq', '% Freq', 'word']]\n",
    "for token, freq in freqlist.most_common(20):\n",
    "    ratio = freq / sum(freqlist.values()) * 100\n",
    "    data.append( [freq, '{:.2f}%'.format(ratio), token])\n",
    "\n",
    "ipy_table.make_table(data)\n",
    "ipy_table.apply_theme('basic')"
   ]
  },
  {
   "cell_type": "markdown",
   "metadata": {
    "collapsed": true
   },
   "source": [
    "## Aspect Frequency"
   ]
  },
  {
   "cell_type": "code",
   "execution_count": 12,
   "metadata": {
    "collapsed": false
   },
   "outputs": [
    {
     "data": {
      "text/html": [
       "<table border=\"1\" cellpadding=\"3\" cellspacing=\"0\"  style=\"border:1px solid black;border-collapse:collapse;\"><tr><td  style=\"background-color:LightGray;\"><b>freq</b></td><td  style=\"background-color:LightGray;\"><b>%freq</b></td><td  style=\"background-color:LightGray;\"><b>aspect(OBJ)</b></td></tr><tr><td  style=\"background-color:Ivory;\">916</td><td  style=\"background-color:Ivory;\">33.1%</td><td  style=\"background-color:Ivory;\">livro</td></tr><tr><td  style=\"background-color:AliceBlue;\">208</td><td  style=\"background-color:AliceBlue;\">7.5%</td><td  style=\"background-color:AliceBlue;\">história</td></tr><tr><td  style=\"background-color:Ivory;\">112</td><td  style=\"background-color:Ivory;\">4.0%</td><td  style=\"background-color:Ivory;\">leitura</td></tr><tr><td  style=\"background-color:AliceBlue;\">85</td><td  style=\"background-color:AliceBlue;\">3.1%</td><td  style=\"background-color:AliceBlue;\">personagens</td></tr><tr><td  style=\"background-color:Ivory;\">62</td><td  style=\"background-color:Ivory;\">2.2%</td><td  style=\"background-color:Ivory;\">crepúsculo</td></tr><tr><td  style=\"background-color:AliceBlue;\">61</td><td  style=\"background-color:AliceBlue;\">2.2%</td><td  style=\"background-color:AliceBlue;\">narrativa</td></tr><tr><td  style=\"background-color:Ivory;\">57</td><td  style=\"background-color:Ivory;\">2.1%</td><td  style=\"background-color:Ivory;\">final</td></tr><tr><td  style=\"background-color:AliceBlue;\">55</td><td  style=\"background-color:AliceBlue;\">2.0%</td><td  style=\"background-color:AliceBlue;\">romance</td></tr><tr><td  style=\"background-color:Ivory;\">48</td><td  style=\"background-color:Ivory;\">1.7%</td><td  style=\"background-color:Ivory;\">obra</td></tr><tr><td  style=\"background-color:AliceBlue;\">43</td><td  style=\"background-color:AliceBlue;\">1.6%</td><td  style=\"background-color:AliceBlue;\">1984</td></tr><tr><td  style=\"background-color:Ivory;\">43</td><td  style=\"background-color:Ivory;\">1.6%</td><td  style=\"background-color:Ivory;\">ele</td></tr><tr><td  style=\"background-color:AliceBlue;\">34</td><td  style=\"background-color:AliceBlue;\">1.2%</td><td  style=\"background-color:AliceBlue;\">trama</td></tr><tr><td  style=\"background-color:Ivory;\">34</td><td  style=\"background-color:Ivory;\">1.2%</td><td  style=\"background-color:Ivory;\">enredo</td></tr><tr><td  style=\"background-color:AliceBlue;\">32</td><td  style=\"background-color:AliceBlue;\">1.2%</td><td  style=\"background-color:AliceBlue;\">historia</td></tr><tr><td  style=\"background-color:Ivory;\">25</td><td  style=\"background-color:Ivory;\">0.9%</td><td  style=\"background-color:Ivory;\">personagem</td></tr><tr><td  style=\"background-color:AliceBlue;\">23</td><td  style=\"background-color:AliceBlue;\">0.8%</td><td  style=\"background-color:AliceBlue;\">bella</td></tr><tr><td  style=\"background-color:Ivory;\">22</td><td  style=\"background-color:Ivory;\">0.8%</td><td  style=\"background-color:Ivory;\">linguagem</td></tr><tr><td  style=\"background-color:AliceBlue;\">22</td><td  style=\"background-color:AliceBlue;\">0.8%</td><td  style=\"background-color:AliceBlue;\">ensaio&nbspsobre&nbspa&nbspcegueira</td></tr><tr><td  style=\"background-color:Ivory;\">18</td><td  style=\"background-color:Ivory;\">0.6%</td><td  style=\"background-color:Ivory;\">ela</td></tr><tr><td  style=\"background-color:AliceBlue;\">17</td><td  style=\"background-color:AliceBlue;\">0.6%</td><td  style=\"background-color:AliceBlue;\">começo</td></tr></table>"
      ],
      "text/plain": [
       "<ipy_table.IpyTable at 0x7f870c598320>"
      ]
     },
     "execution_count": 12,
     "metadata": {},
     "output_type": "execute_result"
    }
   ],
   "source": [
    "freqlist =  Counter([node.get('target').lower() for node in reviews.iter('opinion')])\n",
    "\n",
    "data = [['freq', '%freq', 'aspect(OBJ)']]\n",
    "for token, freq in freqlist.most_common(20):\n",
    "    ratio = freq / sum(freqlist.values()) *100\n",
    "    data.append([freq, '{:.1f}%'.format(ratio), token])\n",
    "\n",
    "ipy_table.make_table(data)\n",
    "ipy_table.apply_theme('basic')"
   ]
  },
  {
   "cell_type": "code",
   "execution_count": 13,
   "metadata": {
    "collapsed": false
   },
   "outputs": [
    {
     "data": {
      "text/html": [
       "<table border=\"1\" cellpadding=\"3\" cellspacing=\"0\"  style=\"border:1px solid black;border-collapse:collapse;\"><tr><td  style=\"background-color:LightGray;\"><b>Total&nbspin&nbspCorpus</b></td><td  style=\"background-color:LightGray;\"><b>Total&nbspas&nbsptarget</b></td><td  style=\"background-color:LightGray;\"><b>Freq&nbspas&nbsptarget</b></td><td  style=\"background-color:LightGray;\"><b>aspect&nbspchunk</b></td></tr><tr><td  style=\"background-color:Ivory;\">2779</td><td  style=\"background-color:Ivory;\">916</td><td  style=\"background-color:Ivory;\">33.0%</td><td  style=\"background-color:Ivory;\">livro</td></tr><tr><td  style=\"background-color:AliceBlue;\">864</td><td  style=\"background-color:AliceBlue;\">208</td><td  style=\"background-color:AliceBlue;\">24.1%</td><td  style=\"background-color:AliceBlue;\">história</td></tr><tr><td  style=\"background-color:Ivory;\">409</td><td  style=\"background-color:Ivory;\">112</td><td  style=\"background-color:Ivory;\">27.4%</td><td  style=\"background-color:Ivory;\">leitura</td></tr><tr><td  style=\"background-color:AliceBlue;\">321</td><td  style=\"background-color:AliceBlue;\">85</td><td  style=\"background-color:AliceBlue;\">26.5%</td><td  style=\"background-color:AliceBlue;\">personagens</td></tr><tr><td  style=\"background-color:Ivory;\">260</td><td  style=\"background-color:Ivory;\">62</td><td  style=\"background-color:Ivory;\">23.8%</td><td  style=\"background-color:Ivory;\">crepúsculo</td></tr><tr><td  style=\"background-color:AliceBlue;\">141</td><td  style=\"background-color:AliceBlue;\">61</td><td  style=\"background-color:AliceBlue;\">43.3%</td><td  style=\"background-color:AliceBlue;\">narrativa</td></tr><tr><td  style=\"background-color:Ivory;\">193</td><td  style=\"background-color:Ivory;\">57</td><td  style=\"background-color:Ivory;\">29.5%</td><td  style=\"background-color:Ivory;\">final</td></tr><tr><td  style=\"background-color:AliceBlue;\">274</td><td  style=\"background-color:AliceBlue;\">55</td><td  style=\"background-color:AliceBlue;\">20.1%</td><td  style=\"background-color:AliceBlue;\">romance</td></tr><tr><td  style=\"background-color:Ivory;\">251</td><td  style=\"background-color:Ivory;\">48</td><td  style=\"background-color:Ivory;\">19.1%</td><td  style=\"background-color:Ivory;\">obra</td></tr><tr><td  style=\"background-color:AliceBlue;\">198</td><td  style=\"background-color:AliceBlue;\">43</td><td  style=\"background-color:AliceBlue;\">21.7%</td><td  style=\"background-color:AliceBlue;\">1984</td></tr><tr><td  style=\"background-color:Ivory;\">1053</td><td  style=\"background-color:Ivory;\">43</td><td  style=\"background-color:Ivory;\">4.1%</td><td  style=\"background-color:Ivory;\">ele</td></tr><tr><td  style=\"background-color:AliceBlue;\">95</td><td  style=\"background-color:AliceBlue;\">34</td><td  style=\"background-color:AliceBlue;\">35.8%</td><td  style=\"background-color:AliceBlue;\">trama</td></tr><tr><td  style=\"background-color:Ivory;\">66</td><td  style=\"background-color:Ivory;\">34</td><td  style=\"background-color:Ivory;\">51.5%</td><td  style=\"background-color:Ivory;\">enredo</td></tr><tr><td  style=\"background-color:AliceBlue;\">122</td><td  style=\"background-color:AliceBlue;\">32</td><td  style=\"background-color:AliceBlue;\">26.2%</td><td  style=\"background-color:AliceBlue;\">historia</td></tr><tr><td  style=\"background-color:Ivory;\">230</td><td  style=\"background-color:Ivory;\">25</td><td  style=\"background-color:Ivory;\">10.9%</td><td  style=\"background-color:Ivory;\">personagem</td></tr><tr><td  style=\"background-color:AliceBlue;\">376</td><td  style=\"background-color:AliceBlue;\">23</td><td  style=\"background-color:AliceBlue;\">6.1%</td><td  style=\"background-color:AliceBlue;\">bella</td></tr><tr><td  style=\"background-color:Ivory;\">58</td><td  style=\"background-color:Ivory;\">22</td><td  style=\"background-color:Ivory;\">37.9%</td><td  style=\"background-color:Ivory;\">linguagem</td></tr><tr><td  style=\"background-color:AliceBlue;\">99</td><td  style=\"background-color:AliceBlue;\">22</td><td  style=\"background-color:AliceBlue;\">22.2%</td><td  style=\"background-color:AliceBlue;\">ensaio&nbspsobre&nbspa&nbspcegueira</td></tr><tr><td  style=\"background-color:Ivory;\">922</td><td  style=\"background-color:Ivory;\">18</td><td  style=\"background-color:Ivory;\">2.0%</td><td  style=\"background-color:Ivory;\">ela</td></tr><tr><td  style=\"background-color:AliceBlue;\">107</td><td  style=\"background-color:AliceBlue;\">17</td><td  style=\"background-color:AliceBlue;\">15.9%</td><td  style=\"background-color:AliceBlue;\">começo</td></tr></table>"
      ],
      "text/plain": [
       "<ipy_table.IpyTable at 0x7f870c598b38>"
      ]
     },
     "execution_count": 13,
     "metadata": {},
     "output_type": "execute_result"
    }
   ],
   "source": [
    "sentences = ' '.join([node.get('form').lower() for node in reviews.iter('word')])\n",
    "freqlist =  Counter([node.get('target').lower() for node in reviews.iter('opinion')])\n",
    "\n",
    "data = [['Total in Corpus', 'Total as target',  'Freq as target', 'aspect chunk']]\n",
    "for token, freq in freqlist.most_common(20):\n",
    "    total = sentences.count(' ' + token + ' ')\n",
    "    ratio = freq / total *100    \n",
    "    data.append([total, freq,'{:.1f}%'.format(ratio), token])\n",
    "\n",
    "ipy_table.make_table(data)\n",
    "ipy_table.apply_theme('basic')"
   ]
  },
  {
   "cell_type": "markdown",
   "metadata": {
    "collapsed": true
   },
   "source": [
    "## Opinion frequency"
   ]
  },
  {
   "cell_type": "code",
   "execution_count": 14,
   "metadata": {
    "collapsed": false
   },
   "outputs": [
    {
     "data": {
      "text/html": [
       "<table border=\"1\" cellpadding=\"3\" cellspacing=\"0\"  style=\"border:1px solid black;border-collapse:collapse;\"><tr><td  style=\"background-color:LightGray;\"><b>Total&nbspin&nbspCorpus</b></td><td  style=\"background-color:LightGray;\"><b>Total&nbspas&nbspopinion</b></td><td  style=\"background-color:LightGray;\"><b>Freq&nbspas&nbspopinion</b></td><td  style=\"background-color:LightGray;\"><b>aspect&nbspchunk</b></td></tr><tr><td  style=\"background-color:Ivory;\">371</td><td  style=\"background-color:Ivory;\">140</td><td  style=\"background-color:Ivory;\">37.7%</td><td  style=\"background-color:Ivory;\">bom</td></tr><tr><td  style=\"background-color:AliceBlue;\">150</td><td  style=\"background-color:AliceBlue;\">113</td><td  style=\"background-color:AliceBlue;\">75.3%</td><td  style=\"background-color:AliceBlue;\">recomendo</td></tr><tr><td  style=\"background-color:Ivory;\">163</td><td  style=\"background-color:Ivory;\">92</td><td  style=\"background-color:Ivory;\">56.4%</td><td  style=\"background-color:Ivory;\">gostei</td></tr><tr><td  style=\"background-color:AliceBlue;\">147</td><td  style=\"background-color:AliceBlue;\">60</td><td  style=\"background-color:AliceBlue;\">40.8%</td><td  style=\"background-color:AliceBlue;\">interessante</td></tr><tr><td  style=\"background-color:Ivory;\">70</td><td  style=\"background-color:Ivory;\">46</td><td  style=\"background-color:Ivory;\">65.7%</td><td  style=\"background-color:Ivory;\">ótimo</td></tr><tr><td  style=\"background-color:AliceBlue;\">60</td><td  style=\"background-color:AliceBlue;\">45</td><td  style=\"background-color:AliceBlue;\">75.0%</td><td  style=\"background-color:AliceBlue;\">envolvente</td></tr><tr><td  style=\"background-color:Ivory;\">59</td><td  style=\"background-color:Ivory;\">43</td><td  style=\"background-color:Ivory;\">72.9%</td><td  style=\"background-color:Ivory;\">adorei</td></tr><tr><td  style=\"background-color:AliceBlue;\">50</td><td  style=\"background-color:AliceBlue;\">35</td><td  style=\"background-color:AliceBlue;\">70.0%</td><td  style=\"background-color:AliceBlue;\">amei</td></tr><tr><td  style=\"background-color:Ivory;\">106</td><td  style=\"background-color:Ivory;\">33</td><td  style=\"background-color:Ivory;\">31.1%</td><td  style=\"background-color:Ivory;\">perfeito</td></tr><tr><td  style=\"background-color:AliceBlue;\">54</td><td  style=\"background-color:AliceBlue;\">31</td><td  style=\"background-color:AliceBlue;\">57.4%</td><td  style=\"background-color:AliceBlue;\">excelente</td></tr><tr><td  style=\"background-color:Ivory;\">44</td><td  style=\"background-color:Ivory;\">28</td><td  style=\"background-color:Ivory;\">63.6%</td><td  style=\"background-color:Ivory;\">fantástico</td></tr><tr><td  style=\"background-color:AliceBlue;\">53</td><td  style=\"background-color:AliceBlue;\">27</td><td  style=\"background-color:AliceBlue;\">50.9%</td><td  style=\"background-color:AliceBlue;\">maravilhoso</td></tr><tr><td  style=\"background-color:Ivory;\">78</td><td  style=\"background-color:Ivory;\">25</td><td  style=\"background-color:Ivory;\">32.1%</td><td  style=\"background-color:Ivory;\">lindo</td></tr><tr><td  style=\"background-color:AliceBlue;\">62</td><td  style=\"background-color:AliceBlue;\">25</td><td  style=\"background-color:AliceBlue;\">40.3%</td><td  style=\"background-color:AliceBlue;\">legal</td></tr><tr><td  style=\"background-color:Ivory;\">124</td><td  style=\"background-color:Ivory;\">23</td><td  style=\"background-color:Ivory;\">18.5%</td><td  style=\"background-color:Ivory;\">boa</td></tr><tr><td  style=\"background-color:AliceBlue;\">36</td><td  style=\"background-color:AliceBlue;\">22</td><td  style=\"background-color:AliceBlue;\">61.1%</td><td  style=\"background-color:AliceBlue;\">emocionante</td></tr><tr><td  style=\"background-color:Ivory;\">96</td><td  style=\"background-color:Ivory;\">22</td><td  style=\"background-color:Ivory;\">22.9%</td><td  style=\"background-color:Ivory;\">fácil</td></tr><tr><td  style=\"background-color:AliceBlue;\">55</td><td  style=\"background-color:AliceBlue;\">22</td><td  style=\"background-color:AliceBlue;\">40.0%</td><td  style=\"background-color:AliceBlue;\">incrível</td></tr><tr><td  style=\"background-color:Ivory;\">29</td><td  style=\"background-color:Ivory;\">21</td><td  style=\"background-color:Ivory;\">72.4%</td><td  style=\"background-color:Ivory;\">fascinante</td></tr><tr><td  style=\"background-color:AliceBlue;\">34</td><td  style=\"background-color:AliceBlue;\">21</td><td  style=\"background-color:AliceBlue;\">61.8%</td><td  style=\"background-color:AliceBlue;\">surpreendente</td></tr></table>"
      ],
      "text/plain": [
       "<ipy_table.IpyTable at 0x7f870d18b898>"
      ]
     },
     "execution_count": 14,
     "metadata": {},
     "output_type": "execute_result"
    }
   ],
   "source": [
    "sentences = ' '.join([node.get('form').lower() for node in reviews.iter('word')])\n",
    "\n",
    "# get chunks of opinions in the corpus\n",
    "opinions_list = []\n",
    "for sentence_node in reviews.iter('sentence'):    \n",
    "    chunk = []\n",
    "    for word_node in sentence_node.iter('word'):\n",
    "        if word_node.get('opinion') != 'O':\n",
    "            chunk.append(word_node.get('form').lower())\n",
    "        else:\n",
    "            if len(chunk) != 0:\n",
    "                opinions_list.append(' '.join(chunk))\n",
    "                chunk = []\n",
    "    if len(chunk) != 0:\n",
    "        opinions_list.append(' '.join(chunk))\n",
    "\n",
    "freqlist =  Counter(opinions_list)\n",
    "\n",
    "data = [['Total in Corpus', 'Total as opinion',  'Freq as opinion', 'aspect chunk']]\n",
    "for token, freq in freqlist.most_common(20):\n",
    "    total = sentences.count(' ' + token + ' ')\n",
    "    ratio = freq / total *100    \n",
    "    data.append([total, freq,'{:.1f}%'.format(ratio), token])\n",
    "\n",
    "ipy_table.make_table(data)\n",
    "ipy_table.apply_theme('basic')"
   ]
  },
  {
   "cell_type": "code",
   "execution_count": null,
   "metadata": {
    "collapsed": true
   },
   "outputs": [],
   "source": []
  }
 ],
 "metadata": {
  "kernelspec": {
   "display_name": "Python 3",
   "language": "python",
   "name": "python3"
  },
  "language_info": {
   "codemirror_mode": {
    "name": "ipython",
    "version": 3
   },
   "file_extension": ".py",
   "mimetype": "text/x-python",
   "name": "python",
   "nbconvert_exporter": "python",
   "pygments_lexer": "ipython3",
   "version": "3.5.1+"
  }
 },
 "nbformat": 4,
 "nbformat_minor": 0
}

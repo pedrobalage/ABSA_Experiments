{
 "cells": [
  {
   "cell_type": "markdown",
   "metadata": {
    "collapsed": true
   },
   "source": [
    "## CRF for Aspect Tagger"
   ]
  },
  {
   "cell_type": "code",
   "execution_count": 1,
   "metadata": {
    "collapsed": false
   },
   "outputs": [],
   "source": [
    "%matplotlib inline\n",
    "import matplotlib.pyplot as plt\n",
    "plt.style.use('ggplot')"
   ]
  },
  {
   "cell_type": "code",
   "execution_count": 17,
   "metadata": {
    "collapsed": true
   },
   "outputs": [],
   "source": [
    "from lxml import etree\n",
    "\n",
    "from itertools import chain\n",
    "\n",
    "import nltk\n",
    "import sklearn\n",
    "import scipy.stats\n",
    "from sklearn.metrics import make_scorer\n",
    "from sklearn.metrics import f1_score\n",
    "from sklearn.cross_validation import cross_val_score\n",
    "from sklearn.grid_search import RandomizedSearchCV\n",
    "from sklearn import cross_validation\n",
    "\n",
    "import sklearn_crfsuite\n",
    "from sklearn_crfsuite import scorers\n",
    "from sklearn_crfsuite import metrics"
   ]
  },
  {
   "cell_type": "code",
   "execution_count": 31,
   "metadata": {
    "collapsed": false
   },
   "outputs": [],
   "source": [
    "# read ReLi trainset\n",
    "trainset = list()\n",
    "xmldoc = etree.parse('../corpus/SemEvalABSA2015EnglishRestaurants_train.xml')\n",
    "\n",
    "for sentence_node in xmldoc.iter('sentence'):\n",
    "    sentence = list()\n",
    "    for word_node in sentence_node.iter('word'):\n",
    "        tag = 'O'\n",
    "        if word_node.get('opinion') == 'true':\n",
    "            tag = 'OBJ'\n",
    "        sentence.append({\n",
    "                'id': word_node.get('id'),\n",
    "                'form': word_node.get('form'),\n",
    "                'base': word_node.get('form'),\n",
    "                'postag': word_node.get('postag'),                \n",
    "                'head': word_node.get('head'),\n",
    "                'deprel': word_node.get('deprel'),                \n",
    "                'from': word_node.get('from'),\n",
    "                'to': word_node.get('to'),\n",
    "                'tag': tag})\n",
    "    if len(sentence) != 0:\n",
    "        trainset.append(sentence)"
   ]
  },
  {
   "cell_type": "code",
   "execution_count": 32,
   "metadata": {
    "collapsed": true
   },
   "outputs": [],
   "source": [
    "# read ReLi testset\n",
    "testset = list()\n",
    "xmldoc = etree.parse('../corpus/SemEvalABSA2015EnglishRestaurants_test.xml')\n",
    "\n",
    "for sentence_node in xmldoc.iter('sentence'):\n",
    "    sentence = list()\n",
    "    for word_node in sentence_node.iter('word'):\n",
    "        tag = 'O'\n",
    "        if word_node.get('opinion') == 'true':\n",
    "            tag = 'OBJ'\n",
    "        sentence.append({\n",
    "                'id': word_node.get('id'),\n",
    "                'form': word_node.get('form'),\n",
    "                'base': word_node.get('form'),\n",
    "                'postag': word_node.get('postag'),                \n",
    "                'head': word_node.get('head'),\n",
    "                'deprel': word_node.get('deprel'),                \n",
    "                'from': word_node.get('from'),\n",
    "                'to': word_node.get('to'),\n",
    "                'tag': tag})\n",
    "    if len(sentence) != 0:\n",
    "        testset.append(sentence)"
   ]
  },
  {
   "cell_type": "code",
   "execution_count": 33,
   "metadata": {
    "collapsed": false
   },
   "outputs": [],
   "source": [
    "# change head number by the token under that position\n",
    "for sentence in trainset:\n",
    "    for index, word in enumerate(sentence):\n",
    "        try:\n",
    "            sentence[index]['dep'] = sentence[int(word['head']) - 1]['form'].lower()\n",
    "        except:\n",
    "            sentence[index]['dep'] = 'ROOT'\n",
    "            \n",
    "# change head number by the token under that position\n",
    "for sentence in testset:\n",
    "    for index, word in enumerate(sentence):        \n",
    "        try:\n",
    "            sentence[index]['dep'] = sentence[int(word['head']) - 1]['form'].lower()\n",
    "        except:\n",
    "            sentence[index]['dep'] = 'ROOT'"
   ]
  },
  {
   "cell_type": "code",
   "execution_count": 34,
   "metadata": {
    "collapsed": false
   },
   "outputs": [
    {
     "data": {
      "text/plain": [
       "[{'base': 'Judging',\n",
       "  'dep': '.',\n",
       "  'deprel': 'root',\n",
       "  'form': 'Judging',\n",
       "  'from': '0',\n",
       "  'head': '0',\n",
       "  'id': '1',\n",
       "  'postag': 'VBG',\n",
       "  'tag': 'O',\n",
       "  'to': '7'},\n",
       " {'base': 'from',\n",
       "  'dep': 'posts',\n",
       "  'deprel': 'case',\n",
       "  'form': 'from',\n",
       "  'from': '8',\n",
       "  'head': '4',\n",
       "  'id': '2',\n",
       "  'postag': 'IN',\n",
       "  'tag': 'O',\n",
       "  'to': '12'},\n",
       " {'base': 'previous',\n",
       "  'dep': 'posts',\n",
       "  'deprel': 'amod',\n",
       "  'form': 'previous',\n",
       "  'from': '13',\n",
       "  'head': '4',\n",
       "  'id': '3',\n",
       "  'postag': 'JJ',\n",
       "  'tag': 'O',\n",
       "  'to': '21'},\n",
       " {'base': 'posts',\n",
       "  'dep': 'judging',\n",
       "  'deprel': 'nmod',\n",
       "  'form': 'posts',\n",
       "  'from': '22',\n",
       "  'head': '1',\n",
       "  'id': '4',\n",
       "  'postag': 'NNS',\n",
       "  'tag': 'O',\n",
       "  'to': '27'},\n",
       " {'base': 'this',\n",
       "  'dep': 'used',\n",
       "  'deprel': 'nsubj',\n",
       "  'form': 'this',\n",
       "  'from': '28',\n",
       "  'head': '6',\n",
       "  'id': '5',\n",
       "  'postag': 'DT',\n",
       "  'tag': 'O',\n",
       "  'to': '32'},\n",
       " {'base': 'used',\n",
       "  'dep': 'judging',\n",
       "  'deprel': 'ccomp',\n",
       "  'form': 'used',\n",
       "  'from': '33',\n",
       "  'head': '1',\n",
       "  'id': '6',\n",
       "  'postag': 'VBN',\n",
       "  'tag': 'O',\n",
       "  'to': '37'},\n",
       " {'base': 'to',\n",
       "  'dep': 'place',\n",
       "  'deprel': 'mark',\n",
       "  'form': 'to',\n",
       "  'from': '38',\n",
       "  'head': '11',\n",
       "  'id': '7',\n",
       "  'postag': 'TO',\n",
       "  'tag': 'O',\n",
       "  'to': '40'},\n",
       " {'base': 'be',\n",
       "  'dep': 'place',\n",
       "  'deprel': 'cop',\n",
       "  'form': 'be',\n",
       "  'from': '41',\n",
       "  'head': '11',\n",
       "  'id': '8',\n",
       "  'postag': 'VB',\n",
       "  'tag': 'O',\n",
       "  'to': '43'},\n",
       " {'base': 'a',\n",
       "  'dep': 'place',\n",
       "  'deprel': 'det',\n",
       "  'form': 'a',\n",
       "  'from': '44',\n",
       "  'head': '11',\n",
       "  'id': '9',\n",
       "  'postag': 'DT',\n",
       "  'tag': 'O',\n",
       "  'to': '45'},\n",
       " {'base': 'good',\n",
       "  'dep': 'place',\n",
       "  'deprel': 'amod',\n",
       "  'form': 'good',\n",
       "  'from': '46',\n",
       "  'head': '11',\n",
       "  'id': '10',\n",
       "  'postag': 'JJ',\n",
       "  'tag': 'O',\n",
       "  'to': '50'},\n",
       " {'base': 'place',\n",
       "  'dep': 'used',\n",
       "  'deprel': 'xcomp',\n",
       "  'form': 'place',\n",
       "  'from': '51',\n",
       "  'head': '6',\n",
       "  'id': '11',\n",
       "  'postag': 'NN',\n",
       "  'tag': 'OBJ',\n",
       "  'to': '56'},\n",
       " {'base': ',',\n",
       "  'dep': 'place',\n",
       "  'deprel': 'punct',\n",
       "  'form': ',',\n",
       "  'from': '56',\n",
       "  'head': '11',\n",
       "  'id': '12',\n",
       "  'postag': ',',\n",
       "  'tag': 'O',\n",
       "  'to': '57'},\n",
       " {'base': 'but',\n",
       "  'dep': 'place',\n",
       "  'deprel': 'cc',\n",
       "  'form': 'but',\n",
       "  'from': '58',\n",
       "  'head': '11',\n",
       "  'id': '13',\n",
       "  'postag': 'CC',\n",
       "  'tag': 'O',\n",
       "  'to': '61'},\n",
       " {'base': 'not',\n",
       "  'dep': 'longer',\n",
       "  'deprel': 'neg',\n",
       "  'form': 'not',\n",
       "  'from': '62',\n",
       "  'head': '16',\n",
       "  'id': '14',\n",
       "  'postag': 'RB',\n",
       "  'tag': 'O',\n",
       "  'to': '65'},\n",
       " {'base': 'any',\n",
       "  'dep': 'longer',\n",
       "  'deprel': 'det',\n",
       "  'form': 'any',\n",
       "  'from': '66',\n",
       "  'head': '16',\n",
       "  'id': '15',\n",
       "  'postag': 'DT',\n",
       "  'tag': 'O',\n",
       "  'to': '69'},\n",
       " {'base': 'longer',\n",
       "  'dep': 'place',\n",
       "  'deprel': 'conj',\n",
       "  'form': 'longer',\n",
       "  'from': '70',\n",
       "  'head': '11',\n",
       "  'id': '16',\n",
       "  'postag': 'JJR',\n",
       "  'tag': 'O',\n",
       "  'to': '76'},\n",
       " {'base': '.',\n",
       "  'dep': 'judging',\n",
       "  'deprel': 'punct',\n",
       "  'form': '.',\n",
       "  'from': '76',\n",
       "  'head': '1',\n",
       "  'id': '17',\n",
       "  'postag': '.',\n",
       "  'tag': 'O',\n",
       "  'to': '77'}]"
      ]
     },
     "execution_count": 34,
     "metadata": {},
     "output_type": "execute_result"
    }
   ],
   "source": [
    "trainset[0]"
   ]
  },
  {
   "cell_type": "code",
   "execution_count": 35,
   "metadata": {
    "collapsed": false
   },
   "outputs": [
    {
     "data": {
      "text/plain": [
       "[{'base': 'Love',\n",
       "  'dep': 'la',\n",
       "  'deprel': 'compound',\n",
       "  'form': 'Love',\n",
       "  'from': '0',\n",
       "  'head': '4',\n",
       "  'id': '1',\n",
       "  'postag': 'NNP',\n",
       "  'tag': 'O',\n",
       "  'to': '4'},\n",
       " {'base': 'Al',\n",
       "  'dep': 'la',\n",
       "  'deprel': 'compound',\n",
       "  'form': 'Al',\n",
       "  'from': '5',\n",
       "  'head': '4',\n",
       "  'id': '2',\n",
       "  'postag': 'NNP',\n",
       "  'tag': 'OBJ',\n",
       "  'to': '7'},\n",
       " {'base': 'Di',\n",
       "  'dep': 'la',\n",
       "  'deprel': 'compound',\n",
       "  'form': 'Di',\n",
       "  'from': '8',\n",
       "  'head': '4',\n",
       "  'id': '3',\n",
       "  'postag': 'NNP',\n",
       "  'tag': 'OBJ',\n",
       "  'to': '10'},\n",
       " {'base': 'La',\n",
       "  'dep': 'la',\n",
       "  'deprel': 'root',\n",
       "  'form': 'La',\n",
       "  'from': '11',\n",
       "  'head': '0',\n",
       "  'id': '4',\n",
       "  'postag': 'NNP',\n",
       "  'tag': 'OBJ',\n",
       "  'to': '13'}]"
      ]
     },
     "execution_count": 35,
     "metadata": {},
     "output_type": "execute_result"
    }
   ],
   "source": [
    "testset[0]"
   ]
  },
  {
   "cell_type": "code",
   "execution_count": 36,
   "metadata": {
    "collapsed": false
   },
   "outputs": [],
   "source": [
    "def extract_features(dataset):\n",
    "    features_list = []\n",
    "    for sent in dataset:\n",
    "        sentence_features = []\n",
    "        for i in range(len(sent)):\n",
    "                                \n",
    "            word = sent[i]['form']\n",
    "            postag = sent[i]['postag']\n",
    "            dep = sent[i]['dep']            \n",
    "\n",
    "            features = {\n",
    "                'bias': 1.0,\n",
    "                'word.lower()': word.lower(),\n",
    "                'postag': postag,\n",
    "                'dep': dep,                \n",
    "            }\n",
    "            if i > 0:\n",
    "                word1 = sent[i-1]['form']\n",
    "                postag1 = sent[i-1]['postag']\n",
    "                dep1 = sent[i-1]['dep']                \n",
    "                features.update({\n",
    "                    '-1:word.lower()': word1.lower(),\n",
    "                    '-1:postag': postag1,\n",
    "                    '-1:dep1': dep1,                                            \n",
    "                })\n",
    "            else:\n",
    "                features['BOS'] = True\n",
    "\n",
    "            if i < len(sent)-1:\n",
    "                word1 = sent[i+1]['base']\n",
    "                postag1 = sent[i+1]['postag']\n",
    "                dep1 = sent[i+1]['dep']                \n",
    "                features.update({\n",
    "                    '+1:word.lower()': word1.lower(),                    \n",
    "                    '+1:postag': postag1,\n",
    "                    '+1:dep1': dep1,                    \n",
    "                })\n",
    "            else:\n",
    "                features['EOS'] = True\n",
    "            sentence_features.append(features)\n",
    "        features_list.append(sentence_features)\n",
    "    return features_list"
   ]
  },
  {
   "cell_type": "code",
   "execution_count": 37,
   "metadata": {
    "collapsed": true
   },
   "outputs": [],
   "source": [
    "def extract_labels(dataset):\n",
    "    labels = []\n",
    "    for sentence in dataset:\n",
    "        sentence_labels = []\n",
    "        for word in sentence:            \n",
    "            sentence_labels.append(word['tag'])\n",
    "        labels.append(sentence_labels)\n",
    "    return labels"
   ]
  },
  {
   "cell_type": "code",
   "execution_count": 38,
   "metadata": {
    "collapsed": false
   },
   "outputs": [],
   "source": [
    "X_train = extract_features(trainset)\n",
    "y_train = extract_labels(trainset)"
   ]
  },
  {
   "cell_type": "code",
   "execution_count": 39,
   "metadata": {
    "collapsed": false
   },
   "outputs": [
    {
     "name": "stdout",
     "output_type": "stream",
     "text": [
      "CPU times: user 1.04 s, sys: 0 ns, total: 1.04 s\n",
      "Wall time: 1.04 s\n"
     ]
    }
   ],
   "source": [
    "%%time\n",
    "crf = sklearn_crfsuite.CRF(\n",
    "    algorithm='lbfgs', \n",
    "    c1=0.1, \n",
    "    c2=0.1, \n",
    "    max_iterations=100, \n",
    "    all_possible_transitions=True\n",
    ")\n",
    "crf.fit(X_train, y_train)"
   ]
  },
  {
   "cell_type": "code",
   "execution_count": 40,
   "metadata": {
    "collapsed": false
   },
   "outputs": [],
   "source": [
    "X_test = extract_features(testset)\n",
    "y_test = extract_labels(testset)"
   ]
  },
  {
   "cell_type": "code",
   "execution_count": 41,
   "metadata": {
    "collapsed": false
   },
   "outputs": [],
   "source": [
    "labels = list(crf.classes_)\n",
    "y_pred = crf.predict(X_test)"
   ]
  },
  {
   "cell_type": "code",
   "execution_count": 42,
   "metadata": {
    "collapsed": false
   },
   "outputs": [
    {
     "data": {
      "text/plain": [
       "0.61617647058823533"
      ]
     },
     "execution_count": 42,
     "metadata": {},
     "output_type": "execute_result"
    }
   ],
   "source": [
    "metrics.flat_f1_score(y_test, y_pred, average='binary', labels=labels, pos_label='OBJ')"
   ]
  },
  {
   "cell_type": "code",
   "execution_count": 43,
   "metadata": {
    "collapsed": false
   },
   "outputs": [
    {
     "name": "stdout",
     "output_type": "stream",
     "text": [
      "             precision    recall  f1-score   support\n",
      "\n",
      "          O      0.961     0.986     0.973      9626\n",
      "        OBJ      0.758     0.519     0.616       807\n",
      "\n",
      "avg / total      0.945     0.950     0.946     10433\n",
      "\n"
     ]
    }
   ],
   "source": [
    "print(metrics.flat_classification_report(\n",
    "    y_test, y_pred, labels=labels, digits=3\n",
    "))"
   ]
  },
  {
   "cell_type": "markdown",
   "metadata": {},
   "source": [
    "## Leave one out evaluation"
   ]
  },
  {
   "cell_type": "code",
   "execution_count": 30,
   "metadata": {
    "collapsed": false
   },
   "outputs": [],
   "source": [
    "data = extract_features(testset)\n",
    "target = extract_labels(testset)\n",
    "\n",
    "clf = sklearn_crfsuite.CRF(\n",
    "    algorithm='lbfgs', \n",
    "    c1=0.1, \n",
    "    c2=0.1, \n",
    "    max_iterations=100, \n",
    "    all_possible_transitions=True\n",
    ")\n",
    "\n",
    "# leave-one-out\n",
    "predicted = cross_validation.cross_val_predict(clf, data, target, cv=len(target))"
   ]
  },
  {
   "cell_type": "code",
   "execution_count": null,
   "metadata": {
    "collapsed": false
   },
   "outputs": [],
   "source": [
    "metrics.flat_f1_score(target, predicted, average='binary', labels=labels, pos_label='OBJ')"
   ]
  },
  {
   "cell_type": "code",
   "execution_count": null,
   "metadata": {
    "collapsed": false
   },
   "outputs": [],
   "source": [
    "print(metrics.flat_classification_report(\n",
    "    target, predicted, labels=labels, digits=3\n",
    "))"
   ]
  },
  {
   "cell_type": "markdown",
   "metadata": {},
   "source": [
    "## Tunning parameters"
   ]
  },
  {
   "cell_type": "code",
   "execution_count": 35,
   "metadata": {
    "collapsed": false
   },
   "outputs": [
    {
     "name": "stdout",
     "output_type": "stream",
     "text": [
      "Fitting 3 folds for each of 50 candidates, totalling 150 fits\n"
     ]
    },
    {
     "name": "stderr",
     "output_type": "stream",
     "text": [
      "[Parallel(n_jobs=-1)]: Done  34 tasks      | elapsed:   35.0s\n",
      "[Parallel(n_jobs=-1)]: Done 150 out of 150 | elapsed:  2.6min finished\n"
     ]
    },
    {
     "data": {
      "text/plain": [
       "RandomizedSearchCV(cv=3, error_score='raise',\n",
       "          estimator=CRF(algorithm='lbfgs', all_possible_states=None,\n",
       "  all_possible_transitions=True, averaging=None, c=None, c1=None, c2=None,\n",
       "  calibration_candidates=None, calibration_eta=None,\n",
       "  calibration_max_trials=None, calibration_rate=None,\n",
       "  calibration_samples=None, delta=None, epsilon=None, error...e,\n",
       "  num_memories=None, pa_type=None, period=None, trainer_cls=None,\n",
       "  variance=None, verbose=False),\n",
       "          fit_params={}, iid=True, n_iter=50, n_jobs=-1,\n",
       "          param_distributions={'c2': <scipy.stats._distn_infrastructure.rv_frozen object at 0x7f87b4d231d0>, 'c1': <scipy.stats._distn_infrastructure.rv_frozen object at 0x7f87b4ce0c18>},\n",
       "          pre_dispatch='2*n_jobs', random_state=None, refit=True,\n",
       "          scoring=make_scorer(flat_f1_score, pos_label=OBJ, average=binary, labels=['O', 'OBJ']),\n",
       "          verbose=1)"
      ]
     },
     "execution_count": 35,
     "metadata": {},
     "output_type": "execute_result"
    }
   ],
   "source": [
    "# define fixed parameters and parameters to search\n",
    "crf = sklearn_crfsuite.CRF(\n",
    "    algorithm='lbfgs', \n",
    "    max_iterations=100, \n",
    "    all_possible_transitions=True\n",
    ")\n",
    "params_space = {\n",
    "    'c1': scipy.stats.expon(scale=0.5),\n",
    "    'c2': scipy.stats.expon(scale=0.05),\n",
    "}\n",
    "\n",
    "# use the same metric for evaluation\n",
    "f1_scorer = make_scorer(metrics.flat_f1_score, \n",
    "                        average='binary', labels=labels, pos_label='OBJ')\n",
    "\n",
    "# search\n",
    "rs = RandomizedSearchCV(crf, params_space, \n",
    "                        cv=3, \n",
    "                        verbose=1, \n",
    "                        n_jobs=-1, \n",
    "                        n_iter=50, \n",
    "                        scoring=f1_scorer)\n",
    "rs.fit(X_train, y_train)"
   ]
  },
  {
   "cell_type": "code",
   "execution_count": 36,
   "metadata": {
    "collapsed": false
   },
   "outputs": [
    {
     "name": "stdout",
     "output_type": "stream",
     "text": [
      "best params: {'c2': 0.010198203357456906, 'c1': 0.005434272686108428}\n",
      "best CV score: 0.22123039725\n",
      "model size: 0.62M\n"
     ]
    }
   ],
   "source": [
    "print('best params:', rs.best_params_)\n",
    "print('best CV score:', rs.best_score_)\n",
    "print('model size: {:0.2f}M'.format(rs.best_estimator_.size_ / 1000000))"
   ]
  },
  {
   "cell_type": "code",
   "execution_count": 39,
   "metadata": {
    "collapsed": false
   },
   "outputs": [
    {
     "name": "stdout",
     "output_type": "stream",
     "text": [
      "Dark blue => 0.09457, dark red => 0.2212\n"
     ]
    },
    {
     "data": {
      "image/png": "[encoded data removed]",
      "text/plain": [
       "<matplotlib.figure.Figure at 0x7f87b5b84cf8>"
      ]
     },
     "metadata": {},
     "output_type": "display_data"
    }
   ],
   "source": [
    "_x = [s.parameters['c1'] for s in rs.grid_scores_]\n",
    "_y = [s.parameters['c2'] for s in rs.grid_scores_]\n",
    "_c = [s.mean_validation_score for s in rs.grid_scores_]\n",
    "\n",
    "fig = plt.figure()\n",
    "fig.set_size_inches(12, 12)\n",
    "ax = plt.gca()\n",
    "ax.set_yscale('log')\n",
    "ax.set_xscale('log')\n",
    "ax.set_xlabel('C1')\n",
    "ax.set_ylabel('C2')\n",
    "ax.set_title(\"Randomized Hyperparameter Search CV Results (min={:0.3}, max={:0.3})\".format(\n",
    "    min(_c), max(_c)\n",
    "))\n",
    "\n",
    "ax.scatter(_x, _y, c=_c, s=60, alpha=0.9, edgecolors=[0,0,0])\n",
    "\n",
    "print(\"Dark blue => {:0.4}, dark red => {:0.4}\".format(min(_c), max(_c)))"
   ]
  },
  {
   "cell_type": "code",
   "execution_count": 44,
   "metadata": {
    "collapsed": false
   },
   "outputs": [
    {
     "name": "stdout",
     "output_type": "stream",
     "text": [
      "             precision    recall  f1-score   support\n",
      "\n",
      "          O      0.981     0.995     0.988     59150\n",
      "        OBJ      0.363     0.125     0.186      1271\n",
      "\n",
      "avg / total      0.968     0.977     0.971     60421\n",
      "\n"
     ]
    }
   ],
   "source": [
    "crf = rs.best_estimator_\n",
    "y_pred = crf.predict(X_test)\n",
    "print(metrics.flat_classification_report(\n",
    "    y_test, y_pred, labels=labels, digits=3\n",
    "))"
   ]
  },
  {
   "cell_type": "markdown",
   "metadata": {},
   "source": [
    "## Statistics"
   ]
  },
  {
   "cell_type": "code",
   "execution_count": 117,
   "metadata": {
    "collapsed": false
   },
   "outputs": [
    {
     "name": "stdout",
     "output_type": "stream",
     "text": [
      "Top likely transitions:\n",
      "O      -> O       1.618999\n",
      "OBJ    -> OBJ     0.646499\n",
      "O      -> OBJ     -1.584553\n",
      "OBJ    -> O       -2.540803\n",
      "\n",
      "Top unlikely transitions:\n",
      "O      -> O       1.618999\n",
      "OBJ    -> OBJ     0.646499\n",
      "O      -> OBJ     -1.584553\n",
      "OBJ    -> O       -2.540803\n"
     ]
    }
   ],
   "source": [
    "from collections import Counter\n",
    "\n",
    "def print_transitions(trans_features):\n",
    "    for (label_from, label_to), weight in trans_features:\n",
    "        print(\"%-6s -> %-7s %0.6f\" % (label_from, label_to, weight))\n",
    "\n",
    "print(\"Top likely transitions:\")\n",
    "print_transitions(Counter(crf.transition_features_).most_common(20))\n",
    "\n",
    "print(\"\\nTop unlikely transitions:\")\n",
    "print_transitions(Counter(crf.transition_features_).most_common()[-20:])"
   ]
  },
  {
   "cell_type": "code",
   "execution_count": 118,
   "metadata": {
    "collapsed": false
   },
   "outputs": [
    {
     "name": "stdout",
     "output_type": "stream",
     "text": [
      "Top positive:\n",
      "4.284822 OBJ      -1:word.lower():xd\n",
      "4.113073 OBJ      -1:word.lower():su-real\n",
      "3.591978 O        +1:word.lower():historia\n",
      "3.441271 OBJ      word.lower():historia\n",
      "3.234007 OBJ      -1:word.lower():seis-\n",
      "3.193690 OBJ      dep:interrompi\n",
      "3.172837 OBJ      -1:word.lower():ler_ensaio\n",
      "3.158312 OBJ      -1:word.lower():explicito\n",
      "3.129039 OBJ      -1:dep1:amadureçe\n",
      "3.070519 OBJ      +1:dep1:bestas\n",
      "2.939679 OBJ      -1:word.lower():acuca\n",
      "2.904968 OBJ      dep:variação\n",
      "2.890807 OBJ      -1:word.lower():bênção\n",
      "2.876006 O        dep:1984\n",
      "2.864030 OBJ      +1:dep1:esperadas\n",
      "2.823446 O        -1:word.lower():edward_cullen\n",
      "2.805666 O        -1:word.lower():jeff_stevens\n",
      "2.795340 OBJ      word.lower():narrativa\n",
      "2.756331 O        -1:word.lower():principal\n",
      "2.750563 OBJ      word.lower():liro\n",
      "2.728642 OBJ      -1:word.lower():lisa_jane_smith\n",
      "2.694669 OBJ      word.lower():³\n",
      "2.694669 OBJ      dep:recomendo³\n",
      "2.691311 O        -1:word.lower():enredo\n",
      "2.685302 OBJ      -1:word.lower():cubo\n",
      "2.665855 OBJ      word.lower():o_reverso_de_a_medalha\n",
      "2.623247 OBJ      dep:coencidem\n",
      "2.619016 OBJ      word.lower():elee\n",
      "2.607794 O        dep:\"\n",
      "2.566323 OBJ      +1:word.lower():superam\n",
      "\n",
      "Top negative:\n",
      "-2.059183 O        +1:word.lower():abandonar\n",
      "-2.066108 O        word.lower():linguagem\n",
      "-2.066319 O        -1:dep1:adoraria\n",
      "-2.105525 O        word.lower():jeff_stevens\n",
      "-2.117598 O        word.lower():livro\n",
      "-2.127010 O        word.lower():margareth\n",
      "-2.146443 O        word.lower():obrigatório\n",
      "-2.165478 O        word.lower():carlisle\n",
      "-2.176482 O        +1:word.lower():devo\n",
      "-2.183091 O        dep:amei\n",
      "-2.197541 O        word.lower():personagens\n",
      "-2.214378 O        -1:dep1:liro\n",
      "-2.232242 O        word.lower():enredo\n",
      "-2.232704 O        -1:word.lower():concerteza\n",
      "-2.253890 O        dep:resumiria\n",
      "-2.260727 O        -1:dep1:esquecerei\n",
      "-2.270288 O        word.lower():frases\n",
      "-2.287426 O        dep:caracterizam\n",
      "-2.331658 O        -1:word.lower():eterno\n",
      "-2.336113 O        word.lower():se_houver_amanhã\n",
      "-2.339509 O        word.lower():final\n",
      "-2.349931 O        word.lower():bela\n",
      "-2.352972 O        word.lower():sem-pernas\n",
      "-2.421694 O        word.lower():ensaio_sobre_a_cegueira\n",
      "-2.455570 O        dep:transformam\n",
      "-2.623247 O        dep:coencidem\n",
      "-2.665855 O        word.lower():o_reverso_de_a_medalha\n",
      "-2.795340 O        word.lower():narrativa\n",
      "-2.864030 O        +1:dep1:esperadas\n",
      "-3.441271 O        word.lower():historia\n"
     ]
    }
   ],
   "source": [
    "def print_state_features(state_features):\n",
    "    for (attr, label), weight in state_features:\n",
    "        print(\"%0.6f %-8s %s\" % (weight, label, attr))    \n",
    "\n",
    "print(\"Top positive:\")\n",
    "print_state_features(Counter(crf.state_features_).most_common(30))\n",
    "\n",
    "print(\"\\nTop negative:\")\n",
    "print_state_features(Counter(crf.state_features_).most_common()[-30:])"
   ]
  },
  {
   "cell_type": "code",
   "execution_count": null,
   "metadata": {
    "collapsed": true
   },
   "outputs": [],
   "source": []
  }
 ],
 "metadata": {
  "kernelspec": {
   "display_name": "Python 3",
   "language": "python",
   "name": "python3"
  },
  "language_info": {
   "codemirror_mode": {
    "name": "ipython",
    "version": 3
   },
   "file_extension": ".py",
   "mimetype": "text/x-python",
   "name": "python",
   "nbconvert_exporter": "python",
   "pygments_lexer": "ipython3",
   "version": "3.5.1+"
  }
 },
 "nbformat": 4,
 "nbformat_minor": 0
}

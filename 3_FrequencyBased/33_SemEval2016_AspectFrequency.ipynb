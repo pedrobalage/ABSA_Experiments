{
 "cells": [
  {
   "cell_type": "markdown",
   "metadata": {},
   "source": [
    "## Baseline - Frequent Aspect Extraction\n",
    "Baseline is a adaptation for the baseline used in he opinion target extraction (OTE) for 2014, 2015 and 2016 versions of SemEval Aspect-Based Sentiment Analysis Task.\n",
    "\n",
    "Source:\n",
    "\n",
    "Pontiki, M., Galanis, D., Pavlopoulos, J., Papageorgiou, H., Androutsopoulos, I., & Manandhar, S. (2014, August). Semeval-2014 task 4: Aspect based sentiment analysis. In Proceedings of the 8th international workshop on semantic evaluation (SemEval 2014) (pp. 27-35).\n",
    "\n",
    "Pontiki, M., Galanis, D., Papageorgiou, H., Manandhar, S., & Androutsopoulos, I. (2015, June). Semeval-2015 task 12: Aspect based sentiment analysis. In Proceedings of the 9th International Workshop on Semantic Evaluation (SemEval 2015), Association for Computational Linguistics, Denver, Colorado (pp. 486-495)."
   ]
  },
  {
   "cell_type": "code",
   "execution_count": 1,
   "metadata": {
    "collapsed": true
   },
   "outputs": [],
   "source": [
    "from __future__ import unicode_literals\n",
    "from __future__ import division\n",
    "from __future__ import print_function"
   ]
  },
  {
   "cell_type": "code",
   "execution_count": 2,
   "metadata": {
    "collapsed": false
   },
   "outputs": [],
   "source": [
    "from lxml import etree\n",
    "parser = etree.XMLParser(remove_blank_text=True)\n",
    "trainset = etree.parse('../corpus/SemEvalABSA2016EnglishRestaurants_train.xml', parser)\n",
    "testset = etree.parse('../corpus/SemEvalABSA2016EnglishRestaurants_test.xml', parser)"
   ]
  },
  {
   "cell_type": "markdown",
   "metadata": {},
   "source": [
    "## 1. All aspects in trainset"
   ]
  },
  {
   "cell_type": "code",
   "execution_count": 3,
   "metadata": {
    "collapsed": false
   },
   "outputs": [],
   "source": [
    "from collections import Counter\n",
    "targets = Counter([opinion_node.get('target').lower()\n",
    "                    for opinion_node in trainset.iter('Opinion')\n",
    "                    if opinion_node.get('target') != 'NULL'\n",
    "                   ])"
   ]
  },
  {
   "cell_type": "code",
   "execution_count": 4,
   "metadata": {
    "collapsed": false
   },
   "outputs": [
    {
     "data": {
      "text/html": [
       "<table border=\"1\" cellpadding=\"3\" cellspacing=\"0\"  style=\"border:1px solid black;border-collapse:collapse;\"><tr><td  style=\"background-color:LightGray;\"><b>freq</b></td><td  style=\"background-color:LightGray;\"><b>%freq</b></td><td  style=\"background-color:LightGray;\"><b>target</b></td></tr><tr><td  style=\"background-color:Ivory;\">233</td><td  style=\"background-color:Ivory;\">12.4%</td><td  style=\"background-color:Ivory;\">food</td></tr><tr><td  style=\"background-color:AliceBlue;\">148</td><td  style=\"background-color:AliceBlue;\">7.9%</td><td  style=\"background-color:AliceBlue;\">service</td></tr><tr><td  style=\"background-color:Ivory;\">129</td><td  style=\"background-color:Ivory;\">6.9%</td><td  style=\"background-color:Ivory;\">place</td></tr><tr><td  style=\"background-color:AliceBlue;\">49</td><td  style=\"background-color:AliceBlue;\">2.6%</td><td  style=\"background-color:AliceBlue;\">restaurant</td></tr><tr><td  style=\"background-color:Ivory;\">40</td><td  style=\"background-color:Ivory;\">2.1%</td><td  style=\"background-color:Ivory;\">staff</td></tr><tr><td  style=\"background-color:AliceBlue;\">31</td><td  style=\"background-color:AliceBlue;\">1.6%</td><td  style=\"background-color:AliceBlue;\">pizza</td></tr><tr><td  style=\"background-color:Ivory;\">28</td><td  style=\"background-color:Ivory;\">1.5%</td><td  style=\"background-color:Ivory;\">atmosphere</td></tr><tr><td  style=\"background-color:AliceBlue;\">26</td><td  style=\"background-color:AliceBlue;\">1.4%</td><td  style=\"background-color:AliceBlue;\">sushi</td></tr><tr><td  style=\"background-color:Ivory;\">23</td><td  style=\"background-color:Ivory;\">1.2%</td><td  style=\"background-color:Ivory;\">decor</td></tr><tr><td  style=\"background-color:AliceBlue;\">19</td><td  style=\"background-color:AliceBlue;\">1.0%</td><td  style=\"background-color:AliceBlue;\">waiter</td></tr><tr><td  style=\"background-color:Ivory;\">16</td><td  style=\"background-color:Ivory;\">0.9%</td><td  style=\"background-color:Ivory;\">menu</td></tr><tr><td  style=\"background-color:AliceBlue;\">15</td><td  style=\"background-color:AliceBlue;\">0.8%</td><td  style=\"background-color:AliceBlue;\">dishes</td></tr><tr><td  style=\"background-color:Ivory;\">14</td><td  style=\"background-color:Ivory;\">0.7%</td><td  style=\"background-color:Ivory;\">drinks</td></tr><tr><td  style=\"background-color:AliceBlue;\">14</td><td  style=\"background-color:AliceBlue;\">0.7%</td><td  style=\"background-color:AliceBlue;\">meal</td></tr><tr><td  style=\"background-color:Ivory;\">14</td><td  style=\"background-color:Ivory;\">0.7%</td><td  style=\"background-color:Ivory;\">waitress</td></tr><tr><td  style=\"background-color:AliceBlue;\">13</td><td  style=\"background-color:AliceBlue;\">0.7%</td><td  style=\"background-color:AliceBlue;\">ambience</td></tr><tr><td  style=\"background-color:Ivory;\">13</td><td  style=\"background-color:Ivory;\">0.7%</td><td  style=\"background-color:Ivory;\">wine&nbsplist</td></tr><tr><td  style=\"background-color:AliceBlue;\">13</td><td  style=\"background-color:AliceBlue;\">0.7%</td><td  style=\"background-color:AliceBlue;\">fish</td></tr><tr><td  style=\"background-color:Ivory;\">12</td><td  style=\"background-color:Ivory;\">0.6%</td><td  style=\"background-color:Ivory;\">dessert</td></tr><tr><td  style=\"background-color:AliceBlue;\">11</td><td  style=\"background-color:AliceBlue;\">0.6%</td><td  style=\"background-color:AliceBlue;\">spot</td></tr></table>"
      ],
      "text/plain": [
       "<ipy_table.IpyTable at 0x7f7ef80d4c18>"
      ]
     },
     "execution_count": 4,
     "metadata": {},
     "output_type": "execute_result"
    }
   ],
   "source": [
    "import ipy_table\n",
    "\n",
    "data = [['freq', '%freq', 'target']]\n",
    "for target, freq in targets.most_common(20):\n",
    "    ratio = freq / sum(targets.values()) *100\n",
    "    data.append([freq, '{:.1f}%'.format(ratio), target])\n",
    "\n",
    "ipy_table.make_table(data)\n",
    "ipy_table.apply_theme('basic')"
   ]
  },
  {
   "cell_type": "code",
   "execution_count": 5,
   "metadata": {
    "collapsed": false
   },
   "outputs": [
    {
     "data": {
      "text/plain": [
       "675"
      ]
     },
     "execution_count": 5,
     "metadata": {},
     "output_type": "execute_result"
    }
   ],
   "source": [
    "# Build a regex to match the targets in the text\n",
    "import re\n",
    "targets_list = sorted(list(targets))\n",
    "targets_list.sort(key=len, reverse=True)\n",
    "targets_pattern = r'\\b(' + '|'.join([re.escape(t) for t in targets_list]) + r')\\b'\n",
    "len(targets_list)"
   ]
  },
  {
   "cell_type": "code",
   "execution_count": 6,
   "metadata": {
    "collapsed": false
   },
   "outputs": [],
   "source": [
    "test_gold = list()\n",
    "prediction = list()\n",
    "\n",
    "for sentence_node in testset.iter('sentence'):    \n",
    "    sentence_opinions = []\n",
    "    for opinion_node in sentence_node.iter('Opinion'):\n",
    "        target = opinion_node.get('target')\n",
    "        start = int(opinion_node.get('from'))\n",
    "        end = int(opinion_node.get('to'))\n",
    "        # evaluation explicit says to discart NULL values\n",
    "        if target != 'NULL':\n",
    "            sentence_opinions.append((target, start, end))\n",
    "    test_gold.append(sentence_opinions)\n",
    "    \n",
    "    text = sentence_node.xpath('./text/text()')[0]\n",
    "    text_opinions = []\n",
    "    \n",
    "    for m in re.finditer(targets_pattern, text, flags=re.I):\n",
    "        text_opinions.append( (m.group(), m.start(), m.end()) )\n",
    "    prediction.append(text_opinions)"
   ]
  },
  {
   "cell_type": "code",
   "execution_count": 7,
   "metadata": {
    "collapsed": false
   },
   "outputs": [
    {
     "data": {
      "text/html": [
       "<table border=\"1\" cellpadding=\"3\" cellspacing=\"0\"  style=\"border:1px solid black;border-collapse:collapse;\"><tr><td  style=\"background-color:LightGray;\"><b>Gold Standard</b></td><td  style=\"background-color:LightGray;\"><b>Predicted</b></td><td  style=\"background-color:LightGray;\"><b>Sentence</b></td></tr><tr><td  style=\"background-color:Ivory;\">[]</td><td  style=\"background-color:Ivory;\">[]</td><td  style=\"background-color:Ivory;\">Yum!</td></tr><tr><td  style=\"background-color:AliceBlue;\">[('sushi', 19, 24)]</td><td  style=\"background-color:AliceBlue;\">[('good', 14, 18), ('sushi', 19, 24)]</td><td  style=\"background-color:AliceBlue;\">Serves really good sushi.</td></tr><tr><td  style=\"background-color:Ivory;\">[('portions', 16, 24)]</td><td  style=\"background-color:Ivory;\">[('portions', 16, 24)]</td><td  style=\"background-color:Ivory;\">Not the biggest portions but adequate.</td></tr><tr><td  style=\"background-color:AliceBlue;\">[('Green Tea creme brulee', 0, 22)]</td><td  style=\"background-color:AliceBlue;\">[]</td><td  style=\"background-color:AliceBlue;\">Green Tea creme brulee is a must!</td></tr><tr><td  style=\"background-color:Ivory;\">[]</td><td  style=\"background-color:Ivory;\">[('restaurant', 16, 26)]</td><td  style=\"background-color:Ivory;\">Don't leave the restaurant without it.</td></tr><tr><td  style=\"background-color:AliceBlue;\">[]</td><td  style=\"background-color:AliceBlue;\">[]</td><td  style=\"background-color:AliceBlue;\">No Comparison</td></tr><tr><td  style=\"background-color:Ivory;\">[('place', 32, 37)]</td><td  style=\"background-color:Ivory;\">[('place', 32, 37)]</td><td  style=\"background-color:Ivory;\">– I can't say enough about this place.</td></tr><tr><td  style=\"background-color:AliceBlue;\">[('sushi', 13, 18), ('service', 35, 42)]</td><td  style=\"background-color:AliceBlue;\">[('sushi', 13, 18), ('service', 35, 42)]</td><td  style=\"background-color:AliceBlue;\">It has great sushi and even better service.</td></tr><tr><td  style=\"background-color:Ivory;\">[('staff', 11, 16)]</td><td  style=\"background-color:Ivory;\">[('staff', 11, 16)]</td><td  style=\"background-color:Ivory;\">The entire staff was extremely accomodating and tended to my every need.</td></tr><tr><td  style=\"background-color:AliceBlue;\">[('restaurant', 18, 28)]</td><td  style=\"background-color:AliceBlue;\">[('restaurant', 18, 28)]</td><td  style=\"background-color:AliceBlue;\">I've been to this restaurant over a dozen times with no complaints to date.</td></tr><tr><td  style=\"background-color:Ivory;\">[]</td><td  style=\"background-color:Ivory;\">[]</td><td  style=\"background-color:Ivory;\">Snotty Attitude</td></tr><tr><td  style=\"background-color:AliceBlue;\">[]</td><td  style=\"background-color:AliceBlue;\">[]</td><td  style=\"background-color:AliceBlue;\">– We were treated very rudely here one time for breakfast.</td></tr><tr><td  style=\"background-color:Ivory;\">[('owner', 4, 9)]</td><td  style=\"background-color:Ivory;\">[('owner', 4, 9)]</td><td  style=\"background-color:Ivory;\">The owner is belligerent to guests that have a complaint.</td></tr><tr><td  style=\"background-color:AliceBlue;\">[('food', 5, 9)]</td><td  style=\"background-color:AliceBlue;\">[('Good', 0, 4), ('food', 5, 9)]</td><td  style=\"background-color:AliceBlue;\">Good food!</td></tr><tr><td  style=\"background-color:Ivory;\">[]</td><td  style=\"background-color:Ivory;\">[('food', 20, 24)]</td><td  style=\"background-color:Ivory;\">– We love breakfast food.</td></tr><tr><td  style=\"background-color:AliceBlue;\">[('meal', 41, 45)]</td><td  style=\"background-color:AliceBlue;\">[('place', 16, 21), ('meal', 41, 45)]</td><td  style=\"background-color:AliceBlue;\">This is a great place to get a delicious meal.</td></tr><tr><td  style=\"background-color:Ivory;\">[]</td><td  style=\"background-color:Ivory;\">[('wait', 16, 20)]</td><td  style=\"background-color:Ivory;\">We never had to wait more than 5 minutes.</td></tr><tr><td  style=\"background-color:AliceBlue;\">[('staff', 4, 9)]</td><td  style=\"background-color:AliceBlue;\">[('staff', 4, 9)]</td><td  style=\"background-color:AliceBlue;\">The staff is pretty friendly.</td></tr><tr><td  style=\"background-color:Ivory;\">[('onion rings', 4, 15)]</td><td  style=\"background-color:Ivory;\">[]</td><td  style=\"background-color:Ivory;\">The onion rings are great!</td></tr><tr><td  style=\"background-color:AliceBlue;\">[]</td><td  style=\"background-color:AliceBlue;\">[]</td><td  style=\"background-color:AliceBlue;\">They are not greasy or anything.</td></tr><tr><td  style=\"background-color:Ivory;\">[]</td><td  style=\"background-color:Ivory;\">[]</td><td  style=\"background-color:Ivory;\">Overrated</td></tr><tr><td  style=\"background-color:AliceBlue;\">[('food', 35, 39)]</td><td  style=\"background-color:AliceBlue;\">[('food', 35, 39)]</td><td  style=\"background-color:AliceBlue;\">– I was highly disappointed in the food at Pagoda.</td></tr><tr><td  style=\"background-color:Ivory;\">[('lemon chicken', 4, 17), ('honey walnut prawns', 58, 77), ('honey walnut prawns', 58, 77)]</td><td  style=\"background-color:Ivory;\">[('chicken', 10, 17), ('good', 123, 127)]</td><td  style=\"background-color:Ivory;\">The lemon chicken tasted like sticky sweet donuts and the honey walnut prawns, the few they actually give you.....were not good.</td></tr><tr><td  style=\"background-color:AliceBlue;\">[]</td><td  style=\"background-color:AliceBlue;\">[('food', 48, 52), ('neighborhood', 92, 104)]</td><td  style=\"background-color:AliceBlue;\">The prices are outrageous, especially since the food was actually less satisfying than most neighborhood Chinese establishments.</td></tr><tr><td  style=\"background-color:Ivory;\">[('ambience', 5, 13), ('place', 36, 41)]</td><td  style=\"background-color:Ivory;\">[('ambience', 5, 13), ('place', 36, 41)]</td><td  style=\"background-color:Ivory;\">Nice ambience, but highly overrated place.</td></tr><tr><td  style=\"background-color:AliceBlue;\">[]</td><td  style=\"background-color:AliceBlue;\">[]</td><td  style=\"background-color:AliceBlue;\">I will not go back.</td></tr><tr><td  style=\"background-color:Ivory;\">[('Service', 6, 13)]</td><td  style=\"background-color:Ivory;\">[('Service', 6, 13)]</td><td  style=\"background-color:Ivory;\">Worst Service I Ever Had</td></tr><tr><td  style=\"background-color:AliceBlue;\">[]</td><td  style=\"background-color:AliceBlue;\">[]</td><td  style=\"background-color:AliceBlue;\">– A group of 5 of us went there for Sunday brunch and sat outside.</td></tr><tr><td  style=\"background-color:Ivory;\">[('service', 67, 74)]</td><td  style=\"background-color:Ivory;\">[('service', 67, 74)]</td><td  style=\"background-color:Ivory;\">Everyone that sat in the back outside agreed that it was the worst service we had ever received.</td></tr><tr><td  style=\"background-color:AliceBlue;\">[('waiter', 4, 10)]</td><td  style=\"background-color:AliceBlue;\">[('waiter', 4, 10), ('food', 42, 46)]</td><td  style=\"background-color:AliceBlue;\">Our waiter was non-existent and after our food finally arrived over an hour after we ordered, we were not given any water or utensils.</td></tr><tr><td  style=\"background-color:Ivory;\">[('manager', 20, 27)]</td><td  style=\"background-color:Ivory;\">[('manager', 20, 27)]</td><td  style=\"background-color:Ivory;\">I complained to the manager, but he was not even apologetic.</td></tr><tr><td  style=\"background-color:AliceBlue;\">[]</td><td  style=\"background-color:AliceBlue;\">[]</td><td  style=\"background-color:AliceBlue;\">I will never return again.</td></tr><tr><td  style=\"background-color:Ivory;\">[('Italian Food', 9, 21)]</td><td  style=\"background-color:Ivory;\">[('Italian Food', 9, 21)]</td><td  style=\"background-color:Ivory;\">Fabulous Italian Food!</td></tr><tr><td  style=\"background-color:AliceBlue;\">[('Mioposto', 21, 29)]</td><td  style=\"background-color:AliceBlue;\">[]</td><td  style=\"background-color:AliceBlue;\">– I highly recommend Mioposto.</td></tr><tr><td  style=\"background-color:Ivory;\">[('Italian restaurant', 34, 52)]</td><td  style=\"background-color:Ivory;\">[('restaurant', 42, 52), ('neighborhood', 59, 71)]</td><td  style=\"background-color:Ivory;\">I am so happy to have a wonderful Italian restaurant in my neighborhood.</td></tr><tr><td  style=\"background-color:AliceBlue;\">[('wine list', 4, 13), ('food', 35, 39)]</td><td  style=\"background-color:AliceBlue;\">[('wine list', 4, 13), ('food', 35, 39)]</td><td  style=\"background-color:AliceBlue;\">The wine list is wonderful and the food reminds me of my recent trip to Italy.</td></tr><tr><td  style=\"background-color:Ivory;\">[('restaurant', 12, 22)]</td><td  style=\"background-color:Ivory;\">[('restaurant', 12, 22)]</td><td  style=\"background-color:Ivory;\">I love this restaurant</td></tr><tr><td  style=\"background-color:AliceBlue;\">[('meal', 34, 38), ('service', 40, 47), ('ambiance', 53, 61)]</td><td  style=\"background-color:AliceBlue;\">[('meal', 34, 38), ('service', 40, 47), ('ambiance', 53, 61), ('restaurant', 83, 93)]</td><td  style=\"background-color:AliceBlue;\">– I will never forget the amazing meal, service, and ambiance I experience at this restaurant.</td></tr><tr><td  style=\"background-color:Ivory;\">[]</td><td  style=\"background-color:Ivory;\">[]</td><td  style=\"background-color:Ivory;\">It was absolutely amazing.</td></tr><tr><td  style=\"background-color:AliceBlue;\">[('wine list', 4, 13), ('food', 59, 63), ('staff', 90, 95)]</td><td  style=\"background-color:AliceBlue;\">[('wine list', 4, 13), ('food', 59, 63), ('staff', 90, 95), ('good', 115, 119)]</td><td  style=\"background-color:AliceBlue;\">The wine list is incredible and extensive and diverse, the food is all incredible and the staff was all very nice, good at their jobs and cultured.</td></tr><tr><td  style=\"background-color:Ivory;\">[('place', 41, 46)]</td><td  style=\"background-color:Ivory;\">[('place', 41, 46)]</td><td  style=\"background-color:Ivory;\">I have not a bad thing to say about this place.</td></tr><tr><td  style=\"background-color:AliceBlue;\">[]</td><td  style=\"background-color:AliceBlue;\">[]</td><td  style=\"background-color:AliceBlue;\">AMAZING.</td></tr><tr><td  style=\"background-color:Ivory;\">[]</td><td  style=\"background-color:Ivory;\">[('wait', 9, 13)]</td><td  style=\"background-color:Ivory;\">I cannot wait to go back again this coming weekend!</td></tr><tr><td  style=\"background-color:AliceBlue;\">[]</td><td  style=\"background-color:AliceBlue;\">[('good', 7, 11)]</td><td  style=\"background-color:AliceBlue;\">Mmm... good!</td></tr><tr><td  style=\"background-color:Ivory;\">[]</td><td  style=\"background-color:Ivory;\">[]</td><td  style=\"background-color:Ivory;\">– Went there last night with a friend.</td></tr><tr><td  style=\"background-color:AliceBlue;\">[]</td><td  style=\"background-color:AliceBlue;\">[('place', 42, 47)]</td><td  style=\"background-color:AliceBlue;\">She had heard from a co-worker about this place.</td></tr><tr><td  style=\"background-color:Ivory;\">[('food', 4, 8)]</td><td  style=\"background-color:Ivory;\">[('food', 4, 8)]</td><td  style=\"background-color:Ivory;\">The food was great!</td></tr><tr><td  style=\"background-color:AliceBlue;\">[('food', 58, 62), ('food', 58, 62)]</td><td  style=\"background-color:AliceBlue;\">[('food', 58, 62)]</td><td  style=\"background-color:AliceBlue;\">It's *very* reasonably priced, esp for the quality of the food.</td></tr><tr><td  style=\"background-color:Ivory;\">[('Kafta plate', 10, 21)]</td><td  style=\"background-color:Ivory;\">[]</td><td  style=\"background-color:Ivory;\">I had the Kafta plate and it was perfect.</td></tr><tr><td  style=\"background-color:AliceBlue;\">[]</td><td  style=\"background-color:AliceBlue;\">[]</td><td  style=\"background-color:AliceBlue;\">We're going back. :D</td></tr><tr><td  style=\"background-color:Ivory;\">[('meal', 10, 14)]</td><td  style=\"background-color:Ivory;\">[('meal', 10, 14)]</td><td  style=\"background-color:Ivory;\">Finally a meal that you will remember for a long time!</td></tr><tr><td  style=\"background-color:AliceBlue;\">[('food', 139, 143), ('service', 153, 160)]</td><td  style=\"background-color:AliceBlue;\">[('place', 73, 78), ('food', 139, 143), ('good', 148, 152), ('service', 153, 160)]</td><td  style=\"background-color:AliceBlue;\">– In a age of incremental cost cutting in restaurants, its nice to see a place that bucks that trend, and just plain delivers high quality food and good service, period.</td></tr><tr><td  style=\"background-color:Ivory;\">[('place', 12, 17), ('food', 56, 60)]</td><td  style=\"background-color:Ivory;\">[('place', 12, 17), ('food', 56, 60)]</td><td  style=\"background-color:Ivory;\">This is the place to relax and enjoy the finest quality food the industry can offer.</td></tr><tr><td  style=\"background-color:AliceBlue;\">[('food', 19, 23)]</td><td  style=\"background-color:AliceBlue;\">[('food', 19, 23), ('people', 28, 34)]</td><td  style=\"background-color:AliceBlue;\">Caution - its real food for people who love the best.</td></tr><tr><td  style=\"background-color:Ivory;\">[]</td><td  style=\"background-color:Ivory;\">[('food', 12, 16)]</td><td  style=\"background-color:Ivory;\">Some of the food is clearly oriented toward foodies (like me) so if your not a foodie (nothing wrong with that)- head over to McDonalds or some Ruby Tuesday and have at it!</td></tr><tr><td  style=\"background-color:AliceBlue;\">[]</td><td  style=\"background-color:AliceBlue;\">[]</td><td  style=\"background-color:AliceBlue;\">If your looking for real quality  (not the BS that is seen on yelp ratings - which allegedly recently got in trouble for \"adjusting\" ratings), you need to get in here!</td></tr><tr><td  style=\"background-color:Ivory;\">[]</td><td  style=\"background-color:Ivory;\">[]</td><td  style=\"background-color:Ivory;\">Very Disappointing</td></tr><tr><td  style=\"background-color:AliceBlue;\">[]</td><td  style=\"background-color:AliceBlue;\">[]</td><td  style=\"background-color:AliceBlue;\">– I took my parents here for their anniversary-very very disappointed!!!</td></tr><tr><td  style=\"background-color:Ivory;\">[('atmosphere', 12, 22), ('food', 41, 45), ('food', 41, 45)]</td><td  style=\"background-color:Ivory;\">[('atmosphere', 12, 22), ('food', 41, 45)]</td><td  style=\"background-color:Ivory;\">I liked the atmosphere very much but the food was not worth the price.</td></tr><tr><td  style=\"background-color:AliceBlue;\">[('food', 54, 58)]</td><td  style=\"background-color:AliceBlue;\">[('sushi', 15, 20), ('food', 54, 58)]</td><td  style=\"background-color:AliceBlue;\">I may not be a sushi guru but I can tell you that the food here is just okay and that there is not much else to it.</td></tr><tr><td  style=\"background-color:Ivory;\">[('Rice', 0, 4), ('tuna', 17, 21)]</td><td  style=\"background-color:Ivory;\">[('Rice', 0, 4), ('tuna', 17, 21)]</td><td  style=\"background-color:Ivory;\">Rice is too dry, tuna wasn't so fresh either.</td></tr><tr><td  style=\"background-color:AliceBlue;\">[]</td><td  style=\"background-color:AliceBlue;\">[]</td><td  style=\"background-color:AliceBlue;\">Nothing really came across as outstanding.</td></tr><tr><td  style=\"background-color:Ivory;\">[]</td><td  style=\"background-color:Ivory;\">[]</td><td  style=\"background-color:Ivory;\">Very disappointed.</td></tr><tr><td  style=\"background-color:AliceBlue;\">[('fish', 76, 80), ('fish', 76, 80)]</td><td  style=\"background-color:AliceBlue;\">[('fish', 76, 80)]</td><td  style=\"background-color:AliceBlue;\">I have eaten here three times and have found the quality and variety of the fish to be excellent.</td></tr><tr><td  style=\"background-color:Ivory;\">[('service', 23, 30)]</td><td  style=\"background-color:Ivory;\">[('service', 23, 30)]</td><td  style=\"background-color:Ivory;\">However, the value and service are both severely lacking.</td></tr><tr><td  style=\"background-color:AliceBlue;\">[]</td><td  style=\"background-color:AliceBlue;\">[('Portions', 0, 8), ('fish', 22, 26), ('sushi', 102, 107)]</td><td  style=\"background-color:AliceBlue;\">Portions contain less fish than one would expect, particularly since prices are in line with the best sushi places in NYC (Masa excluded, of course).</td></tr><tr><td  style=\"background-color:Ivory;\">[('fish', 23, 27), ('rolls', 53, 58)]</td><td  style=\"background-color:Ivory;\">[('fish', 23, 27), ('rolls', 53, 58)]</td><td  style=\"background-color:Ivory;\">Furthermore, while the fish is unquestionably fresh, rolls tend to be inexplicably bland.</td></tr><tr><td  style=\"background-color:AliceBlue;\">[('service', 4, 11)]</td><td  style=\"background-color:AliceBlue;\">[('service', 4, 11)]</td><td  style=\"background-color:AliceBlue;\">The service ranges from mediocre to offensive.</td></tr><tr><td  style=\"background-color:Ivory;\">[('waiter', 22, 28), ('staff members', 80, 93)]</td><td  style=\"background-color:Ivory;\">[('waiter', 22, 28), ('staff', 80, 85)]</td><td  style=\"background-color:Ivory;\">On a recent trip, our waiter was extremely dismissive, while no less than three staff members waited hand-and-foot on a pair of Japanese girls seated nearby.</td></tr><tr><td  style=\"background-color:AliceBlue;\">[]</td><td  style=\"background-color:AliceBlue;\">[('sake', 46, 50), ('sake', 94, 98)]</td><td  style=\"background-color:AliceBlue;\">We were then charged for their most expensive sake ($20+ per serving) when we in fact drank a sake of less than half that price.</td></tr><tr><td  style=\"background-color:Ivory;\">[]</td><td  style=\"background-color:Ivory;\">[]</td><td  style=\"background-color:Ivory;\">But Im sure this was just an honest mistake...</td></tr><tr><td  style=\"background-color:AliceBlue;\">[('sushi', 9, 14), ('restaurant', 30, 40)]</td><td  style=\"background-color:AliceBlue;\">[('sushi', 9, 14), ('restaurant', 30, 40)]</td><td  style=\"background-color:AliceBlue;\">Freshest sushi  – I love this restaurant.</td></tr><tr><td  style=\"background-color:Ivory;\">[('miso soup', 40, 49), ('rolls', 61, 66)]</td><td  style=\"background-color:Ivory;\">[('rolls', 61, 66)]</td><td  style=\"background-color:Ivory;\">They pay such detail to everything from miso soup to complex rolls.</td></tr><tr><td  style=\"background-color:AliceBlue;\">[('sashimi', 4, 11)]</td><td  style=\"background-color:AliceBlue;\">[('sashimi', 4, 11)]</td><td  style=\"background-color:AliceBlue;\">The sashimi was the freshest and most tender I have ever tasted.</td></tr><tr><td  style=\"background-color:Ivory;\">[('apps', 6, 10)]</td><td  style=\"background-color:Ivory;\">[]</td><td  style=\"background-color:Ivory;\">Their apps are all delicious.</td></tr><tr><td  style=\"background-color:AliceBlue;\">[('place', 31, 36), ('portions', 65, 73)]</td><td  style=\"background-color:AliceBlue;\">[('place', 31, 36), ('portions', 65, 73)]</td><td  style=\"background-color:AliceBlue;\">The only drawback is that this place is really expensive and the portions are on the small side.</td></tr><tr><td  style=\"background-color:Ivory;\">[('space', 8, 13), ('service', 43, 50)]</td><td  style=\"background-color:Ivory;\">[('space', 8, 13), ('service', 43, 50)]</td><td  style=\"background-color:Ivory;\">But the space is small and lovely, and the service is helpful.</td></tr><tr><td  style=\"background-color:AliceBlue;\">[]</td><td  style=\"background-color:AliceBlue;\">[]</td><td  style=\"background-color:AliceBlue;\">You are bound to have a very charming time.</td></tr><tr><td  style=\"background-color:Ivory;\">[]</td><td  style=\"background-color:Ivory;\">[]</td><td  style=\"background-color:Ivory;\">Not recommanded!!!</td></tr><tr><td  style=\"background-color:AliceBlue;\">[('food', 6, 10), ('waiters', 31, 38)]</td><td  style=\"background-color:AliceBlue;\">[('food', 6, 10), ('waiters', 31, 38)]</td><td  style=\"background-color:AliceBlue;\">– The food was not great & the waiters were rude.</td></tr><tr><td  style=\"background-color:Ivory;\">[]</td><td  style=\"background-color:Ivory;\">[]</td><td  style=\"background-color:Ivory;\">It is not worth going at all and spend your money there!!!</td></tr><tr><td  style=\"background-color:AliceBlue;\">[('service', 6, 13)]</td><td  style=\"background-color:AliceBlue;\">[('service', 6, 13)]</td><td  style=\"background-color:AliceBlue;\">great service</td></tr><tr><td  style=\"background-color:Ivory;\">[]</td><td  style=\"background-color:Ivory;\">[]</td><td  style=\"background-color:Ivory;\">– Pretty cheap for sit down Mexican AND downtown.</td></tr><tr><td  style=\"background-color:AliceBlue;\">[('service', 3, 10)]</td><td  style=\"background-color:AliceBlue;\">[('service', 3, 10)]</td><td  style=\"background-color:AliceBlue;\">my service was stellar!</td></tr><tr><td  style=\"background-color:Ivory;\">[('bus boy', 4, 11)]</td><td  style=\"background-color:Ivory;\">[]</td><td  style=\"background-color:Ivory;\">the bus boy even spotted that my table was shaking a stabilized it for me.</td></tr><tr><td  style=\"background-color:AliceBlue;\">[('food', 0, 4), ('salsa', 54, 59)]</td><td  style=\"background-color:AliceBlue;\">[('food', 0, 4)]</td><td  style=\"background-color:AliceBlue;\">food was fine, with a some little-tastier-than-normal salsa.</td></tr><tr><td  style=\"background-color:Ivory;\">[]</td><td  style=\"background-color:Ivory;\">[]</td><td  style=\"background-color:Ivory;\">If you're in the area you shouldn't be disappointed.</td></tr><tr><td  style=\"background-color:AliceBlue;\">[]</td><td  style=\"background-color:AliceBlue;\">[]</td><td  style=\"background-color:AliceBlue;\">Ok.... – Maybe I went in on someone's bad day....</td></tr><tr><td  style=\"background-color:Ivory;\">[('food', 4, 8), ('margaritas', 24, 34), ('waitress', 47, 55)]</td><td  style=\"background-color:Ivory;\">[('food', 4, 8), ('margaritas', 24, 34), ('waitress', 47, 55)]</td><td  style=\"background-color:Ivory;\">the food was great, the margaritas too but the waitress was too busy being nice to her other larger party than to take better care of my friend and me.</td></tr><tr><td  style=\"background-color:AliceBlue;\">[]</td><td  style=\"background-color:AliceBlue;\">[]</td><td  style=\"background-color:AliceBlue;\">Took forever to get our order taken, water refills were too much to ask for and the only time she was fast was when we asked for our bill when we could get her attention.</td></tr><tr><td  style=\"background-color:Ivory;\">[]</td><td  style=\"background-color:Ivory;\">[]</td><td  style=\"background-color:Ivory;\">I don't know if I'll be back....</td></tr><tr><td  style=\"background-color:AliceBlue;\">[('pizza place', 77, 88)]</td><td  style=\"background-color:AliceBlue;\">[('neighborhood', 25, 37), ('feel', 42, 46), ('pizza place', 77, 88)]</td><td  style=\"background-color:AliceBlue;\">Mama Mia – I live in the neighborhood and feel lucky to live by such a great pizza place.</td></tr><tr><td  style=\"background-color:Ivory;\">[('pizza', 51, 56)]</td><td  style=\"background-color:Ivory;\">[('pizza', 51, 56)]</td><td  style=\"background-color:Ivory;\">the only problem is you really have to warm up the pizza before it's edible, even when you order ahead.</td></tr><tr><td  style=\"background-color:AliceBlue;\">[]</td><td  style=\"background-color:AliceBlue;\">[('cheese', 53, 59), ('sauce', 74, 79)]</td><td  style=\"background-color:AliceBlue;\">BUt once done, it's not too much dough, not too much cheese, not too much sauce.</td></tr><tr><td  style=\"background-color:Ivory;\">[('Sushi', 5, 10)]</td><td  style=\"background-color:Ivory;\">[('Sushi', 5, 10)]</td><td  style=\"background-color:Ivory;\">Best Sushi in town.</td></tr><tr><td  style=\"background-color:AliceBlue;\">[]</td><td  style=\"background-color:AliceBlue;\">[]</td><td  style=\"background-color:AliceBlue;\">Have gone to all the top places.</td></tr><tr><td  style=\"background-color:Ivory;\">[]</td><td  style=\"background-color:Ivory;\">[]</td><td  style=\"background-color:Ivory;\">Everything you want and more, very fresh.</td></tr><tr><td  style=\"background-color:AliceBlue;\">[]</td><td  style=\"background-color:AliceBlue;\">[('wait', 14, 18)]</td><td  style=\"background-color:AliceBlue;\">Its worth the wait, especially since they'll give you a call when the table is ready.</td></tr><tr><td  style=\"background-color:Ivory;\">[('calamari', 9, 17)]</td><td  style=\"background-color:Ivory;\">[('calamari', 9, 17)]</td><td  style=\"background-color:Ivory;\">The best calamari in Seattle!</td></tr><tr><td  style=\"background-color:AliceBlue;\">[('deck', 29, 33)]</td><td  style=\"background-color:AliceBlue;\">[]</td><td  style=\"background-color:AliceBlue;\">– ...and the best summertime deck experience--they will even bring you a blanket if you get cold in the Seattle evening weather.</td></tr></table>"
      ],
      "text/plain": [
       "<ipy_table.IpyTable at 0x7f7ef80d4cf8>"
      ]
     },
     "execution_count": 7,
     "metadata": {},
     "output_type": "execute_result"
    }
   ],
   "source": [
    "data = [['Gold Standard', 'Predicted', 'Sentence']]\n",
    "for index, (gold, pred) in enumerate(list(zip(test_gold, prediction))[:100]):\n",
    "    sentence = list(testset.iter('sentence'))[index].xpath('./text/text()')[0]\n",
    "    data.append([gold, pred, sentence])\n",
    "\n",
    "ipy_table.make_table(data)\n",
    "ipy_table.set_global_style(wrap=True)\n",
    "ipy_table.apply_theme('basic')"
   ]
  },
  {
   "cell_type": "markdown",
   "metadata": {},
   "source": [
    "### Aspect-extraction Evaluation methodology\n",
    "\n",
    "Pontiki, M., Galanis, D., Papageorgiou, H., Manandhar, S., & Androutsopoulos, I. (2015, June). Semeval-2015 task 12: Aspect based sentiment analysis. In Proceedings of the 9th International Workshop on Semantic Evaluation (SemEval 2015), Association for Computational Linguistics, Denver, Colorado (pp. 486-495).\n",
    "\n",
    "http://www.anthology.aclweb.org/S/S15/S15-2082.pdf\n",
    "\n",
    "From 4.1 Evaluation Measures, page 491:\n",
    "\n",
    "Slot 2: F-1 scores are calculated by comparing\n",
    "the targets that a system returned (for all the sentences)\n",
    "to the corresponding gold targets (using\n",
    "micro-averaging). The targets are extracted using\n",
    "their starting and ending offsets. The calculation\n",
    "for each sentence considers only distinct targets\n",
    "and discards NULL targets, since they do not correspond\n",
    "to explicit mentions"
   ]
  },
  {
   "cell_type": "code",
   "execution_count": 8,
   "metadata": {
    "collapsed": false
   },
   "outputs": [
    {
     "name": "stdout",
     "output_type": "stream",
     "text": [
      "Precision: 50.88%\n"
     ]
    }
   ],
   "source": [
    "# Micro-averaged Precision\n",
    "correct = 0\n",
    "total = 0\n",
    "for index in range(len(list(testset.iter('sentence')))):\n",
    "    correct += len([x for x in test_gold[index] if x in prediction[index]])\n",
    "    total += len(prediction[index])\n",
    "\n",
    "precision = 100 * correct / total\n",
    "print('Precision: {:.2f}%'.format(precision))"
   ]
  },
  {
   "cell_type": "code",
   "execution_count": 9,
   "metadata": {
    "collapsed": false
   },
   "outputs": [
    {
     "name": "stdout",
     "output_type": "stream",
     "text": [
      "Recall: 62.31%\n"
     ]
    }
   ],
   "source": [
    "# Micro-averaged Recall\n",
    "correct = 0\n",
    "total = 0\n",
    "for index in range(len(list(testset.iter('sentence')))):\n",
    "    correct += len([x for x in test_gold[index] if x in prediction[index]])\n",
    "    total += len(test_gold[index])\n",
    "\n",
    "recall = 100* correct / total\n",
    "print('Recall: {:.2f}%'.format(recall))"
   ]
  },
  {
   "cell_type": "code",
   "execution_count": 10,
   "metadata": {
    "collapsed": false
   },
   "outputs": [
    {
     "name": "stdout",
     "output_type": "stream",
     "text": [
      "F-measure: 56.02%\n"
     ]
    }
   ],
   "source": [
    "print('F-measure: {:.2f}%'.format((2 * precision * recall) / (precision + recall)))"
   ]
  },
  {
   "cell_type": "code",
   "execution_count": 16,
   "metadata": {
    "collapsed": false
   },
   "outputs": [],
   "source": [
    "# Save the prediction (Optional)\n",
    "import re\n",
    "for sentence_node in testset.iter('sentence'):\n",
    "    sentence_opinions = []\n",
    "    opinions_node = sentence_node.xpath('./Opinions')\n",
    "    if opinions_node:\n",
    "        opinions_node = opinions_node[0]\n",
    "    else:\n",
    "        opinions_node = etree.SubElement(sentence_node, 'Opinions')\n",
    "        \n",
    "    for opinion_node in sentence_node.xpath('./Opinions/Opinion'):\n",
    "        opinions_node.remove(opinion_node)\n",
    "    \n",
    "    text = sentence_node.xpath('./text/text()')[0]\n",
    "    for m in re.finditer(targets_pattern, text):\n",
    "        opinion_node = etree.SubElement(opinions_node, 'Opinion')\n",
    "        opinion_node.set('target', m.group())\n",
    "        opinion_node.set('from', str(m.start()))\n",
    "        opinion_node.set('to', str(m.end()))\n",
    "        \n",
    "etree.ElementTree(testset.getroot()).write('../corpus/pred.xml',encoding='utf8', xml_declaration=True, pretty_print=True)"
   ]
  },
  {
   "cell_type": "markdown",
   "metadata": {},
   "source": [
    "## 2. All aspects in trainset removing stopwords"
   ]
  },
  {
   "cell_type": "code",
   "execution_count": 11,
   "metadata": {
    "collapsed": false
   },
   "outputs": [
    {
     "data": {
      "text/html": [
       "<table border=\"1\" cellpadding=\"3\" cellspacing=\"0\"  style=\"border:1px solid black;border-collapse:collapse;\"><tr><td  style=\"background-color:LightGray;\"><b>freq</b></td><td  style=\"background-color:LightGray;\"><b>%freq</b></td><td  style=\"background-color:LightGray;\"><b>target</b></td></tr><tr><td  style=\"background-color:Ivory;\">233</td><td  style=\"background-color:Ivory;\">12.4%</td><td  style=\"background-color:Ivory;\">food</td></tr><tr><td  style=\"background-color:AliceBlue;\">148</td><td  style=\"background-color:AliceBlue;\">7.9%</td><td  style=\"background-color:AliceBlue;\">service</td></tr><tr><td  style=\"background-color:Ivory;\">129</td><td  style=\"background-color:Ivory;\">6.9%</td><td  style=\"background-color:Ivory;\">place</td></tr><tr><td  style=\"background-color:AliceBlue;\">49</td><td  style=\"background-color:AliceBlue;\">2.6%</td><td  style=\"background-color:AliceBlue;\">restaurant</td></tr><tr><td  style=\"background-color:Ivory;\">40</td><td  style=\"background-color:Ivory;\">2.1%</td><td  style=\"background-color:Ivory;\">staff</td></tr><tr><td  style=\"background-color:AliceBlue;\">31</td><td  style=\"background-color:AliceBlue;\">1.6%</td><td  style=\"background-color:AliceBlue;\">pizza</td></tr><tr><td  style=\"background-color:Ivory;\">28</td><td  style=\"background-color:Ivory;\">1.5%</td><td  style=\"background-color:Ivory;\">atmosphere</td></tr><tr><td  style=\"background-color:AliceBlue;\">26</td><td  style=\"background-color:AliceBlue;\">1.4%</td><td  style=\"background-color:AliceBlue;\">sushi</td></tr><tr><td  style=\"background-color:Ivory;\">23</td><td  style=\"background-color:Ivory;\">1.2%</td><td  style=\"background-color:Ivory;\">decor</td></tr><tr><td  style=\"background-color:AliceBlue;\">19</td><td  style=\"background-color:AliceBlue;\">1.0%</td><td  style=\"background-color:AliceBlue;\">waiter</td></tr><tr><td  style=\"background-color:Ivory;\">16</td><td  style=\"background-color:Ivory;\">0.9%</td><td  style=\"background-color:Ivory;\">menu</td></tr><tr><td  style=\"background-color:AliceBlue;\">15</td><td  style=\"background-color:AliceBlue;\">0.8%</td><td  style=\"background-color:AliceBlue;\">dishes</td></tr><tr><td  style=\"background-color:Ivory;\">14</td><td  style=\"background-color:Ivory;\">0.7%</td><td  style=\"background-color:Ivory;\">drinks</td></tr><tr><td  style=\"background-color:AliceBlue;\">14</td><td  style=\"background-color:AliceBlue;\">0.7%</td><td  style=\"background-color:AliceBlue;\">meal</td></tr><tr><td  style=\"background-color:Ivory;\">14</td><td  style=\"background-color:Ivory;\">0.7%</td><td  style=\"background-color:Ivory;\">waitress</td></tr><tr><td  style=\"background-color:AliceBlue;\">13</td><td  style=\"background-color:AliceBlue;\">0.7%</td><td  style=\"background-color:AliceBlue;\">ambience</td></tr><tr><td  style=\"background-color:Ivory;\">13</td><td  style=\"background-color:Ivory;\">0.7%</td><td  style=\"background-color:Ivory;\">wine&nbsplist</td></tr><tr><td  style=\"background-color:AliceBlue;\">13</td><td  style=\"background-color:AliceBlue;\">0.7%</td><td  style=\"background-color:AliceBlue;\">fish</td></tr><tr><td  style=\"background-color:Ivory;\">12</td><td  style=\"background-color:Ivory;\">0.6%</td><td  style=\"background-color:Ivory;\">dessert</td></tr><tr><td  style=\"background-color:AliceBlue;\">11</td><td  style=\"background-color:AliceBlue;\">0.6%</td><td  style=\"background-color:AliceBlue;\">spot</td></tr></table>"
      ],
      "text/plain": [
       "<ipy_table.IpyTable at 0x7f7ee0ee5278>"
      ]
     },
     "execution_count": 11,
     "metadata": {},
     "output_type": "execute_result"
    }
   ],
   "source": [
    "from collections import Counter\n",
    "from nltk.corpus import stopwords\n",
    "# build the targets\n",
    "stopwords = stopwords.words('english')\n",
    "targets = Counter([opinion_node.get('target').lower()\n",
    "                    for opinion_node in trainset.iter('Opinion')\n",
    "                    if opinion_node.get('target') != 'NULL' and\n",
    "                       opinion_node.get('target').lower() not in stopwords\n",
    "                   ])\n",
    "\n",
    "# print the targets\n",
    "import ipy_table\n",
    "data = [['freq', '%freq', 'target']]\n",
    "for target, freq in targets.most_common(20):\n",
    "    ratio = freq / sum(targets.values()) *100\n",
    "    data.append([freq, '{:.1f}%'.format(ratio), target])\n",
    "\n",
    "ipy_table.make_table(data)\n",
    "ipy_table.apply_theme('basic')"
   ]
  },
  {
   "cell_type": "code",
   "execution_count": 12,
   "metadata": {
    "collapsed": false
   },
   "outputs": [],
   "source": [
    "import re\n",
    "\n",
    "# function to evaluate targets in testset and return precision, recall and f-measure\n",
    "def evaluate(targets):\n",
    "\n",
    "    # Build a regex to match the targets in the text\n",
    "    targets_list = sorted(list(targets))\n",
    "    targets_list.sort(key=len, reverse=True)\n",
    "    targets_pattern = r'\\b(' + '|'.join([re.escape(t) for t in targets_list]) + r')\\b'\n",
    "\n",
    "    test_gold = list()\n",
    "    prediction = list()\n",
    "\n",
    "    for sentence_node in testset.iter('sentence'):    \n",
    "        sentence_opinions = []\n",
    "        for opinion_node in sentence_node.iter('Opinion'):\n",
    "            target = opinion_node.get('target')\n",
    "            start = int(opinion_node.get('from'))\n",
    "            end = int(opinion_node.get('to'))\n",
    "            # evaluation explicit says to discart NULL values\n",
    "            if target != 'NULL':\n",
    "                sentence_opinions.append((target, start, end))\n",
    "        test_gold.append(sentence_opinions)\n",
    "\n",
    "        text = sentence_node.xpath('./text/text()')[0]\n",
    "        text_opinions = []\n",
    "\n",
    "        for m in re.finditer(targets_pattern, text, flags=re.I):\n",
    "            text_opinions.append( (m.group(), m.start(), m.end()) )\n",
    "        prediction.append(text_opinions)\n",
    "        \n",
    "    # Micro-averaged Precision\n",
    "    correct = 0\n",
    "    total = 0\n",
    "    for index in range(len(list(testset.iter('sentence')))):\n",
    "        correct += len([x for x in test_gold[index] if x in prediction[index]])\n",
    "        total += len(prediction[index])\n",
    "\n",
    "    precision = 100 * correct / total    \n",
    "\n",
    "    # Micro-averaged Recall\n",
    "    correct = 0\n",
    "    total = 0\n",
    "    for index in range(len(list(testset.iter('sentence')))):\n",
    "        correct += len([x for x in test_gold[index] if x in prediction[index]])\n",
    "        total += len(test_gold[index])\n",
    "\n",
    "    recall = 100* correct / total\n",
    "    \n",
    "    # F-measure\n",
    "    if precision + recall != 0:\n",
    "        fmeasure = (2 * precision * recall) / (precision + recall)\n",
    "    else:\n",
    "        fmeasure = 0\n",
    "    \n",
    "    return (precision, recall, fmeasure)\n",
    "    \n",
    "  "
   ]
  },
  {
   "cell_type": "code",
   "execution_count": 13,
   "metadata": {
    "collapsed": false
   },
   "outputs": [
    {
     "name": "stdout",
     "output_type": "stream",
     "text": [
      "Precision: 50.88%\n",
      "Recall: 62.31%\n",
      "F-measure: 56.02%\n"
     ]
    }
   ],
   "source": [
    "precision, recall, fmeasure = evaluate(targets)\n",
    "print('Precision: {:.2f}%'.format(precision))\n",
    "print('Recall: {:.2f}%'.format(recall))\n",
    "print('F-measure: {:.2f}%'.format(fmeasure))"
   ]
  },
  {
   "cell_type": "markdown",
   "metadata": {},
   "source": [
    "## 3. All aspects in trainset with a cut in frequency"
   ]
  },
  {
   "cell_type": "code",
   "execution_count": 14,
   "metadata": {
    "collapsed": false
   },
   "outputs": [
    {
     "data": {
      "text/html": [
       "<table border=\"1\" cellpadding=\"3\" cellspacing=\"0\"  style=\"border:1px solid black;border-collapse:collapse;\"><tr><td  style=\"background-color:LightGray;\"><b>cut</b></td><td  style=\"background-color:LightGray;\"><b>number&nbspof&nbsptargets</b></td><td  style=\"background-color:LightGray;\"><b>precision</b></td><td  style=\"background-color:LightGray;\"><b>recall</b></td><td  style=\"background-color:LightGray;\"><b>f-measure</b></td></tr><tr><td  style=\"background-color:Ivory;\">0.0%</td><td  style=\"background-color:Ivory;\">675</td><td  style=\"background-color:Ivory;\">50.88%</td><td  style=\"background-color:Ivory;\">62.31%</td><td  style=\"background-color:Ivory;\">56.02%</td></tr><tr><td  style=\"background-color:AliceBlue;\">0.5%</td><td  style=\"background-color:AliceBlue;\">23</td><td  style=\"background-color:AliceBlue;\">64.73%</td><td  style=\"background-color:AliceBlue;\">42.92%</td><td  style=\"background-color:AliceBlue;\">51.62%</td></tr><tr><td  style=\"background-color:Ivory;\">1.0%</td><td  style=\"background-color:Ivory;\">10</td><td  style=\"background-color:Ivory;\">65.98%</td><td  style=\"background-color:Ivory;\">34.31%</td><td  style=\"background-color:Ivory;\">45.14%</td></tr><tr><td  style=\"background-color:AliceBlue;\">1.5%</td><td  style=\"background-color:AliceBlue;\">6</td><td  style=\"background-color:AliceBlue;\">62.94%</td><td  style=\"background-color:AliceBlue;\">27.69%</td><td  style=\"background-color:AliceBlue;\">38.46%</td></tr><tr><td  style=\"background-color:Ivory;\">2.0%</td><td  style=\"background-color:Ivory;\">5</td><td  style=\"background-color:Ivory;\">65.25%</td><td  style=\"background-color:Ivory;\">26.00%</td><td  style=\"background-color:Ivory;\">37.18%</td></tr><tr><td  style=\"background-color:AliceBlue;\">2.5%</td><td  style=\"background-color:AliceBlue;\">4</td><td  style=\"background-color:AliceBlue;\">65.31%</td><td  style=\"background-color:AliceBlue;\">24.62%</td><td  style=\"background-color:AliceBlue;\">35.75%</td></tr><tr><td  style=\"background-color:Ivory;\">3.0%</td><td  style=\"background-color:Ivory;\">3</td><td  style=\"background-color:Ivory;\">72.50%</td><td  style=\"background-color:Ivory;\">22.31%</td><td  style=\"background-color:Ivory;\">34.12%</td></tr><tr><td  style=\"background-color:AliceBlue;\">3.5%</td><td  style=\"background-color:AliceBlue;\">3</td><td  style=\"background-color:AliceBlue;\">72.50%</td><td  style=\"background-color:AliceBlue;\">22.31%</td><td  style=\"background-color:AliceBlue;\">34.12%</td></tr><tr><td  style=\"background-color:Ivory;\">4.0%</td><td  style=\"background-color:Ivory;\">3</td><td  style=\"background-color:Ivory;\">72.50%</td><td  style=\"background-color:Ivory;\">22.31%</td><td  style=\"background-color:Ivory;\">34.12%</td></tr><tr><td  style=\"background-color:AliceBlue;\">4.5%</td><td  style=\"background-color:AliceBlue;\">3</td><td  style=\"background-color:AliceBlue;\">72.50%</td><td  style=\"background-color:AliceBlue;\">22.31%</td><td  style=\"background-color:AliceBlue;\">34.12%</td></tr><tr><td  style=\"background-color:Ivory;\">5.0%</td><td  style=\"background-color:Ivory;\">3</td><td  style=\"background-color:Ivory;\">72.50%</td><td  style=\"background-color:Ivory;\">22.31%</td><td  style=\"background-color:Ivory;\">34.12%</td></tr><tr><td  style=\"background-color:AliceBlue;\">5.5%</td><td  style=\"background-color:AliceBlue;\">3</td><td  style=\"background-color:AliceBlue;\">72.50%</td><td  style=\"background-color:AliceBlue;\">22.31%</td><td  style=\"background-color:AliceBlue;\">34.12%</td></tr><tr><td  style=\"background-color:Ivory;\">6.0%</td><td  style=\"background-color:Ivory;\">3</td><td  style=\"background-color:Ivory;\">72.50%</td><td  style=\"background-color:Ivory;\">22.31%</td><td  style=\"background-color:Ivory;\">34.12%</td></tr><tr><td  style=\"background-color:AliceBlue;\">6.5%</td><td  style=\"background-color:AliceBlue;\">3</td><td  style=\"background-color:AliceBlue;\">72.50%</td><td  style=\"background-color:AliceBlue;\">22.31%</td><td  style=\"background-color:AliceBlue;\">34.12%</td></tr><tr><td  style=\"background-color:Ivory;\">7.0%</td><td  style=\"background-color:Ivory;\">2</td><td  style=\"background-color:Ivory;\">77.93%</td><td  style=\"background-color:Ivory;\">17.38%</td><td  style=\"background-color:Ivory;\">28.43%</td></tr><tr><td  style=\"background-color:AliceBlue;\">7.5%</td><td  style=\"background-color:AliceBlue;\">2</td><td  style=\"background-color:AliceBlue;\">77.93%</td><td  style=\"background-color:AliceBlue;\">17.38%</td><td  style=\"background-color:AliceBlue;\">28.43%</td></tr><tr><td  style=\"background-color:Ivory;\">8.0%</td><td  style=\"background-color:Ivory;\">1</td><td  style=\"background-color:Ivory;\">77.53%</td><td  style=\"background-color:Ivory;\">10.62%</td><td  style=\"background-color:Ivory;\">18.67%</td></tr><tr><td  style=\"background-color:AliceBlue;\">8.5%</td><td  style=\"background-color:AliceBlue;\">1</td><td  style=\"background-color:AliceBlue;\">77.53%</td><td  style=\"background-color:AliceBlue;\">10.62%</td><td  style=\"background-color:AliceBlue;\">18.67%</td></tr><tr><td  style=\"background-color:Ivory;\">9.0%</td><td  style=\"background-color:Ivory;\">1</td><td  style=\"background-color:Ivory;\">77.53%</td><td  style=\"background-color:Ivory;\">10.62%</td><td  style=\"background-color:Ivory;\">18.67%</td></tr><tr><td  style=\"background-color:AliceBlue;\">9.5%</td><td  style=\"background-color:AliceBlue;\">1</td><td  style=\"background-color:AliceBlue;\">77.53%</td><td  style=\"background-color:AliceBlue;\">10.62%</td><td  style=\"background-color:AliceBlue;\">18.67%</td></tr><tr><td  style=\"background-color:Ivory;\">10.0%</td><td  style=\"background-color:Ivory;\">1</td><td  style=\"background-color:Ivory;\">77.53%</td><td  style=\"background-color:Ivory;\">10.62%</td><td  style=\"background-color:Ivory;\">18.67%</td></tr><tr><td  style=\"background-color:AliceBlue;\">10.5%</td><td  style=\"background-color:AliceBlue;\">1</td><td  style=\"background-color:AliceBlue;\">77.53%</td><td  style=\"background-color:AliceBlue;\">10.62%</td><td  style=\"background-color:AliceBlue;\">18.67%</td></tr></table>"
      ],
      "text/plain": [
       "<ipy_table.IpyTable at 0x7f7ee0ee9780>"
      ]
     },
     "execution_count": 14,
     "metadata": {},
     "output_type": "execute_result"
    }
   ],
   "source": [
    "# build the targets\n",
    "targets = Counter([opinion_node.get('target').lower()\n",
    "                    for opinion_node in trainset.iter('Opinion')\n",
    "                    if opinion_node.get('target') != 'NULL'])\n",
    "\n",
    "data = [['cut', 'number of targets', 'precision', 'recall', 'f-measure']]\n",
    "for min_freq in range(0,110,5):\n",
    "    min_freq = min_freq/10\n",
    "    target_list = [target for target, freq in targets.items() if freq/sum(targets.values()) >= min_freq/100]\n",
    "    precision, recall, fmeasure = evaluate(target_list)\n",
    "    data.append(['{:.1f}%'.format(min_freq), \n",
    "                 len(target_list),\n",
    "                 '{:.2f}%'.format(precision), \n",
    "                 '{:.2f}%'.format(recall), \n",
    "                 '{:.2f}%'.format(fmeasure)])\n",
    "\n",
    "ipy_table.make_table(data)\n",
    "ipy_table.apply_theme('basic')"
   ]
  },
  {
   "cell_type": "markdown",
   "metadata": {},
   "source": [
    "## 3. All aspects with relative frequency\n",
    " \n",
    "The token must happen % of the time annotated as aspect in the text."
   ]
  },
  {
   "cell_type": "code",
   "execution_count": 15,
   "metadata": {
    "collapsed": false
   },
   "outputs": [
    {
     "data": {
      "text/html": [
       "<table border=\"1\" cellpadding=\"3\" cellspacing=\"0\"  style=\"border:1px solid black;border-collapse:collapse;\"><tr><td  style=\"background-color:LightGray;\"><b>cut</b></td><td  style=\"background-color:LightGray;\"><b>number&nbspof&nbsptargets</b></td><td  style=\"background-color:LightGray;\"><b>precision</b></td><td  style=\"background-color:LightGray;\"><b>recall</b></td><td  style=\"background-color:LightGray;\"><b>f-measure</b></td></tr><tr><td  style=\"background-color:Ivory;\">0.0%</td><td  style=\"background-color:Ivory;\">675</td><td  style=\"background-color:Ivory;\">50.88%</td><td  style=\"background-color:Ivory;\">62.31%</td><td  style=\"background-color:Ivory;\">56.02%</td></tr><tr><td  style=\"background-color:AliceBlue;\">5.0%</td><td  style=\"background-color:AliceBlue;\">674</td><td  style=\"background-color:AliceBlue;\">54.36%</td><td  style=\"background-color:AliceBlue;\">62.31%</td><td  style=\"background-color:AliceBlue;\">58.06%</td></tr><tr><td  style=\"background-color:Ivory;\">10.0%</td><td  style=\"background-color:Ivory;\">674</td><td  style=\"background-color:Ivory;\">54.36%</td><td  style=\"background-color:Ivory;\">62.31%</td><td  style=\"background-color:Ivory;\">58.06%</td></tr><tr><td  style=\"background-color:AliceBlue;\">15.0%</td><td  style=\"background-color:AliceBlue;\">672</td><td  style=\"background-color:AliceBlue;\">55.28%</td><td  style=\"background-color:AliceBlue;\">62.00%</td><td  style=\"background-color:AliceBlue;\">58.45%</td></tr><tr><td  style=\"background-color:Ivory;\">20.0%</td><td  style=\"background-color:Ivory;\">671</td><td  style=\"background-color:Ivory;\">55.46%</td><td  style=\"background-color:Ivory;\">61.69%</td><td  style=\"background-color:Ivory;\">58.41%</td></tr><tr><td  style=\"background-color:AliceBlue;\">25.0%</td><td  style=\"background-color:AliceBlue;\">668</td><td  style=\"background-color:AliceBlue;\">56.33%</td><td  style=\"background-color:AliceBlue;\">60.92%</td><td  style=\"background-color:AliceBlue;\">58.54%</td></tr><tr><td  style=\"background-color:Ivory;\">30.0%</td><td  style=\"background-color:Ivory;\">665</td><td  style=\"background-color:Ivory;\">57.82%</td><td  style=\"background-color:Ivory;\">60.31%</td><td  style=\"background-color:Ivory;\">59.04%</td></tr><tr><td  style=\"background-color:AliceBlue;\">35.0%</td><td  style=\"background-color:AliceBlue;\">660</td><td  style=\"background-color:AliceBlue;\">58.22%</td><td  style=\"background-color:AliceBlue;\">59.38%</td><td  style=\"background-color:AliceBlue;\">58.80%</td></tr><tr><td  style=\"background-color:Ivory;\">40.0%</td><td  style=\"background-color:Ivory;\">657</td><td  style=\"background-color:Ivory;\">60.35%</td><td  style=\"background-color:Ivory;\">58.77%</td><td  style=\"background-color:Ivory;\">59.55%</td></tr><tr><td  style=\"background-color:AliceBlue;\">45.0%</td><td  style=\"background-color:AliceBlue;\">657</td><td  style=\"background-color:AliceBlue;\">60.35%</td><td  style=\"background-color:AliceBlue;\">58.77%</td><td  style=\"background-color:AliceBlue;\">59.55%</td></tr><tr><td  style=\"background-color:Ivory;\">50.0%</td><td  style=\"background-color:Ivory;\">657</td><td  style=\"background-color:Ivory;\">60.35%</td><td  style=\"background-color:Ivory;\">58.77%</td><td  style=\"background-color:Ivory;\">59.55%</td></tr><tr><td  style=\"background-color:AliceBlue;\">55.0%</td><td  style=\"background-color:AliceBlue;\">643</td><td  style=\"background-color:AliceBlue;\">62.20%</td><td  style=\"background-color:AliceBlue;\">55.69%</td><td  style=\"background-color:AliceBlue;\">58.77%</td></tr><tr><td  style=\"background-color:Ivory;\">60.0%</td><td  style=\"background-color:Ivory;\">640</td><td  style=\"background-color:Ivory;\">62.46%</td><td  style=\"background-color:Ivory;\">54.00%</td><td  style=\"background-color:Ivory;\">57.92%</td></tr><tr><td  style=\"background-color:AliceBlue;\">65.0%</td><td  style=\"background-color:AliceBlue;\">638</td><td  style=\"background-color:AliceBlue;\">62.89%</td><td  style=\"background-color:AliceBlue;\">52.92%</td><td  style=\"background-color:AliceBlue;\">57.48%</td></tr><tr><td  style=\"background-color:Ivory;\">70.0%</td><td  style=\"background-color:Ivory;\">634</td><td  style=\"background-color:Ivory;\">64.15%</td><td  style=\"background-color:Ivory;\">52.31%</td><td  style=\"background-color:Ivory;\">57.63%</td></tr><tr><td  style=\"background-color:AliceBlue;\">75.0%</td><td  style=\"background-color:AliceBlue;\">634</td><td  style=\"background-color:AliceBlue;\">64.15%</td><td  style=\"background-color:AliceBlue;\">52.31%</td><td  style=\"background-color:AliceBlue;\">57.63%</td></tr><tr><td  style=\"background-color:Ivory;\">80.0%</td><td  style=\"background-color:Ivory;\">634</td><td  style=\"background-color:Ivory;\">64.15%</td><td  style=\"background-color:Ivory;\">52.31%</td><td  style=\"background-color:Ivory;\">57.63%</td></tr><tr><td  style=\"background-color:AliceBlue;\">85.0%</td><td  style=\"background-color:AliceBlue;\">633</td><td  style=\"background-color:AliceBlue;\">64.40%</td><td  style=\"background-color:AliceBlue;\">50.92%</td><td  style=\"background-color:AliceBlue;\">56.87%</td></tr><tr><td  style=\"background-color:Ivory;\">90.0%</td><td  style=\"background-color:Ivory;\">633</td><td  style=\"background-color:Ivory;\">64.40%</td><td  style=\"background-color:Ivory;\">50.92%</td><td  style=\"background-color:Ivory;\">56.87%</td></tr><tr><td  style=\"background-color:AliceBlue;\">95.0%</td><td  style=\"background-color:AliceBlue;\">631</td><td  style=\"background-color:AliceBlue;\">64.10%</td><td  style=\"background-color:AliceBlue;\">46.15%</td><td  style=\"background-color:AliceBlue;\">53.67%</td></tr></table>"
      ],
      "text/plain": [
       "<ipy_table.IpyTable at 0x7f7eceeb4b38>"
      ]
     },
     "execution_count": 15,
     "metadata": {},
     "output_type": "execute_result"
    }
   ],
   "source": [
    "sentences = ' '.join([node.get('form').lower() for node in testset.iter('word')])\n",
    "freqlist =  Counter([node.get('target').lower() for node in testset.iter('Opinion')])\n",
    "\n",
    "# build the targets\n",
    "targets = Counter([opinion_node.get('target').lower()\n",
    "                    for opinion_node in trainset.iter('Opinion')\n",
    "                    if opinion_node.get('target') != 'NULL'])\n",
    "\n",
    "data = [['cut', 'number of targets', 'precision', 'recall', 'f-measure']]\n",
    "for min_freq in range(0,100,5):\n",
    "    \n",
    "    target_list = [target for target, freq in targets.items() if freq/max(sentences.count(' ' + target + ' '),0.00001) >= min_freq/100]\n",
    "        \n",
    "    precision, recall, fmeasure = evaluate(target_list)\n",
    "    data.append(['{:.1f}%'.format(min_freq), \n",
    "                 len(target_list),\n",
    "                 '{:.2f}%'.format(precision), \n",
    "                 '{:.2f}%'.format(recall), \n",
    "                 '{:.2f}%'.format(fmeasure)])\n",
    "\n",
    "ipy_table.make_table(data)\n",
    "ipy_table.apply_theme('basic')"
   ]
  },
  {
   "cell_type": "code",
   "execution_count": null,
   "metadata": {
    "collapsed": true
   },
   "outputs": [],
   "source": []
  }
 ],
 "metadata": {
  "kernelspec": {
   "display_name": "Python 3",
   "language": "python",
   "name": "python3"
  },
  "language_info": {
   "codemirror_mode": {
    "name": "ipython",
    "version": 3
   },
   "file_extension": ".py",
   "mimetype": "text/x-python",
   "name": "python",
   "nbconvert_exporter": "python",
   "pygments_lexer": "ipython3",
   "version": "3.5.1+"
  }
 },
 "nbformat": 4,
 "nbformat_minor": 0
}

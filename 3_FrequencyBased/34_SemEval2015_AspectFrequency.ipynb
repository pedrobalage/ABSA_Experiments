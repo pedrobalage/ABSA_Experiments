{
 "cells": [
  {
   "cell_type": "markdown",
   "metadata": {},
   "source": [
    "## Baseline - Frequent Aspect Extraction\n",
    "Baseline is a adaptation for the baseline used in he opinion target extraction (OTE) for 2014, 2015 and 2016 versions of SemEval Aspect-Based Sentiment Analysis Task.\n",
    "\n",
    "Source:\n",
    "\n",
    "Pontiki, M., Galanis, D., Pavlopoulos, J., Papageorgiou, H., Androutsopoulos, I., & Manandhar, S. (2014, August). Semeval-2014 task 4: Aspect based sentiment analysis. In Proceedings of the 8th international workshop on semantic evaluation (SemEval 2014) (pp. 27-35).\n",
    "\n",
    "Pontiki, M., Galanis, D., Papageorgiou, H., Manandhar, S., & Androutsopoulos, I. (2015, June). Semeval-2015 task 12: Aspect based sentiment analysis. In Proceedings of the 9th International Workshop on Semantic Evaluation (SemEval 2015), Association for Computational Linguistics, Denver, Colorado (pp. 486-495)."
   ]
  },
  {
   "cell_type": "code",
   "execution_count": 1,
   "metadata": {
    "collapsed": true
   },
   "outputs": [],
   "source": [
    "from __future__ import unicode_literals\n",
    "from __future__ import division\n",
    "from __future__ import print_function"
   ]
  },
  {
   "cell_type": "code",
   "execution_count": 2,
   "metadata": {
    "collapsed": false
   },
   "outputs": [],
   "source": [
    "from lxml import etree\n",
    "parser = etree.XMLParser(remove_blank_text=True)\n",
    "reviews = etree.parse('../corpus/SemEval_ABSA2015/SemEvalABSA2015EnglishRestaurants_train.xml', parser)"
   ]
  },
  {
   "cell_type": "code",
   "execution_count": 3,
   "metadata": {
    "collapsed": true
   },
   "outputs": [],
   "source": [
    "from collections import Counter\n",
    "targets = Counter([opinion_node.get('target')\n",
    "                    for opinion_node in reviews.iter('Opinion') \n",
    "                    if opinion_node.get('target') != 'NULL'\n",
    "                   ])"
   ]
  },
  {
   "cell_type": "code",
   "execution_count": 4,
   "metadata": {
    "collapsed": false
   },
   "outputs": [
    {
     "data": {
      "text/html": [
       "<table border=\"1\" cellpadding=\"3\" cellspacing=\"0\"  style=\"border:1px solid black;border-collapse:collapse;\"><tr><td  style=\"background-color:LightGray;\"><b>freq</b></td><td  style=\"background-color:LightGray;\"><b>%freq</b></td><td  style=\"background-color:LightGray;\"><b>target</b></td></tr><tr><td  style=\"background-color:Ivory;\">146</td><td  style=\"background-color:Ivory;\">11.4%</td><td  style=\"background-color:Ivory;\">food</td></tr><tr><td  style=\"background-color:AliceBlue;\">96</td><td  style=\"background-color:AliceBlue;\">7.5%</td><td  style=\"background-color:AliceBlue;\">service</td></tr><tr><td  style=\"background-color:Ivory;\">80</td><td  style=\"background-color:Ivory;\">6.3%</td><td  style=\"background-color:Ivory;\">place</td></tr><tr><td  style=\"background-color:AliceBlue;\">29</td><td  style=\"background-color:AliceBlue;\">2.3%</td><td  style=\"background-color:AliceBlue;\">restaurant</td></tr><tr><td  style=\"background-color:Ivory;\">26</td><td  style=\"background-color:Ivory;\">2.0%</td><td  style=\"background-color:Ivory;\">staff</td></tr><tr><td  style=\"background-color:AliceBlue;\">21</td><td  style=\"background-color:AliceBlue;\">1.6%</td><td  style=\"background-color:AliceBlue;\">Service</td></tr><tr><td  style=\"background-color:Ivory;\">20</td><td  style=\"background-color:Ivory;\">1.6%</td><td  style=\"background-color:Ivory;\">pizza</td></tr><tr><td  style=\"background-color:AliceBlue;\">20</td><td  style=\"background-color:AliceBlue;\">1.6%</td><td  style=\"background-color:AliceBlue;\">atmosphere</td></tr><tr><td  style=\"background-color:Ivory;\">19</td><td  style=\"background-color:Ivory;\">1.5%</td><td  style=\"background-color:Ivory;\">sushi</td></tr><tr><td  style=\"background-color:AliceBlue;\">14</td><td  style=\"background-color:AliceBlue;\">1.1%</td><td  style=\"background-color:AliceBlue;\">decor</td></tr><tr><td  style=\"background-color:Ivory;\">12</td><td  style=\"background-color:Ivory;\">0.9%</td><td  style=\"background-color:Ivory;\">Food</td></tr><tr><td  style=\"background-color:AliceBlue;\">12</td><td  style=\"background-color:AliceBlue;\">0.9%</td><td  style=\"background-color:AliceBlue;\">menu</td></tr><tr><td  style=\"background-color:Ivory;\">11</td><td  style=\"background-color:Ivory;\">0.9%</td><td  style=\"background-color:Ivory;\">ambience</td></tr><tr><td  style=\"background-color:AliceBlue;\">10</td><td  style=\"background-color:AliceBlue;\">0.8%</td><td  style=\"background-color:AliceBlue;\">dishes</td></tr><tr><td  style=\"background-color:Ivory;\">9</td><td  style=\"background-color:Ivory;\">0.7%</td><td  style=\"background-color:Ivory;\">portions</td></tr></table>"
      ],
      "text/plain": [
       "<ipy_table.IpyTable at 0x7f51080a0c18>"
      ]
     },
     "execution_count": 4,
     "metadata": {},
     "output_type": "execute_result"
    }
   ],
   "source": [
    "import ipy_table\n",
    "\n",
    "data = [['freq', '%freq', 'target']]\n",
    "for target, freq in targets.most_common(15):\n",
    "    ratio = freq / sum(targets.values()) *100\n",
    "    data.append([freq, '{:.1f}%'.format(ratio), target])\n",
    "\n",
    "ipy_table.make_table(data)\n",
    "ipy_table.apply_theme('basic')"
   ]
  },
  {
   "cell_type": "code",
   "execution_count": 5,
   "metadata": {
    "collapsed": false
   },
   "outputs": [
    {
     "data": {
      "text/plain": [
       "526"
      ]
     },
     "execution_count": 5,
     "metadata": {},
     "output_type": "execute_result"
    }
   ],
   "source": [
    "# Build a regex to match the targets in the text\n",
    "import re\n",
    "targets_list = sorted(list(targets))\n",
    "targets_list.sort(key=len, reverse=True)\n",
    "targets_pattern = r'\\b(' + '|'.join([re.escape(t) for t in targets_list]) + r')\\b'\n",
    "len(targets_list)"
   ]
  },
  {
   "cell_type": "code",
   "execution_count": 6,
   "metadata": {
    "collapsed": true
   },
   "outputs": [],
   "source": [
    "reviews = etree.parse('../corpus/SemEval_ABSA2015/SemEvalABSA2015EnglishRestaurants_test.xml', parser)"
   ]
  },
  {
   "cell_type": "code",
   "execution_count": 7,
   "metadata": {
    "collapsed": false
   },
   "outputs": [],
   "source": [
    "test_gold = list()\n",
    "prediction = list()\n",
    "\n",
    "for sentence_node in reviews.iter('sentence'):    \n",
    "    sentence_opinions = []\n",
    "    for opinion_node in sentence_node.xpath('./Opinions/Opinion'):\n",
    "        target = opinion_node.get('target')\n",
    "        start = int(opinion_node.get('from'))\n",
    "        end = int(opinion_node.get('to'))\n",
    "        # evaluation explicit says to discart NULL values\n",
    "        if target != 'NULL':\n",
    "            sentence_opinions.append((target, start, end))\n",
    "    test_gold.append(sentence_opinions)\n",
    "    \n",
    "    text = sentence_node.xpath('./text/text()')[0]\n",
    "    text_opinions = []\n",
    "    \n",
    "    for m in re.finditer(targets_pattern, text):\n",
    "        text_opinions.append( (m.group(), m.start(), m.end()) )\n",
    "    prediction.append(text_opinions)"
   ]
  },
  {
   "cell_type": "code",
   "execution_count": 8,
   "metadata": {
    "collapsed": false
   },
   "outputs": [
    {
     "data": {
      "text/plain": [
       "685"
      ]
     },
     "execution_count": 8,
     "metadata": {},
     "output_type": "execute_result"
    }
   ],
   "source": [
    "len(test_gold)"
   ]
  },
  {
   "cell_type": "code",
   "execution_count": 9,
   "metadata": {
    "collapsed": false
   },
   "outputs": [
    {
     "data": {
      "text/plain": [
       "685"
      ]
     },
     "execution_count": 9,
     "metadata": {},
     "output_type": "execute_result"
    }
   ],
   "source": [
    "len(prediction)"
   ]
  },
  {
   "cell_type": "code",
   "execution_count": 10,
   "metadata": {
    "collapsed": false
   },
   "outputs": [
    {
     "data": {
      "text/plain": [
       "([('place', 17, 22)], [('place', 17, 22)])"
      ]
     },
     "execution_count": 10,
     "metadata": {},
     "output_type": "execute_result"
    }
   ],
   "source": [
    "list(zip(test_gold, prediction))[1]"
   ]
  },
  {
   "cell_type": "markdown",
   "metadata": {},
   "source": [
    "### Evaluation methodology\n",
    "\n",
    "Pontiki, M., Galanis, D., Papageorgiou, H., Manandhar, S., & Androutsopoulos, I. (2015, June). Semeval-2015 task 12: Aspect based sentiment analysis. In Proceedings of the 9th International Workshop on Semantic Evaluation (SemEval 2015), Association for Computational Linguistics, Denver, Colorado (pp. 486-495).\n",
    "\n",
    "http://www.anthology.aclweb.org/S/S15/S15-2082.pdf\n",
    "\n",
    "From 4.1 Evaluation Measures, page 491:\n",
    "\n",
    "Slot 2: F-1 scores are calculated by comparing\n",
    "the targets that a system returned (for all the sentences)\n",
    "to the corresponding gold targets (using\n",
    "micro-averaging). The targets are extracted using\n",
    "their starting and ending offsets. The calculation\n",
    "for each sentence considers only distinct targets\n",
    "and discards NULL targets, since they do not correspond\n",
    "to explicit mentions\n",
    "\n",
    "Task baseline F-1 score (Table 5): **48.06**"
   ]
  },
  {
   "cell_type": "code",
   "execution_count": 11,
   "metadata": {
    "collapsed": false
   },
   "outputs": [
    {
     "name": "stdout",
     "output_type": "stream",
     "text": [
      "Precision: 51.93%\n"
     ]
    }
   ],
   "source": [
    "# Micro-averaged Precision\n",
    "correct = 0\n",
    "total = 0\n",
    "for index in range(len(list(reviews.iter('sentence')))):\n",
    "    correct += len([x for x in test_gold[index] if x in prediction[index]])\n",
    "    total += len(prediction[index])\n",
    "\n",
    "precision = 100 * correct / total\n",
    "print('Precision: {:.2f}%'.format(precision))"
   ]
  },
  {
   "cell_type": "code",
   "execution_count": 12,
   "metadata": {
    "collapsed": false
   },
   "outputs": [
    {
     "name": "stdout",
     "output_type": "stream",
     "text": [
      "Recall: 56.28%\n"
     ]
    }
   ],
   "source": [
    "# Micro-averaged Recall\n",
    "correct = 0\n",
    "total = 0\n",
    "for index in range(len(list(reviews.iter('sentence')))):\n",
    "    correct += len([x for x in test_gold[index] if x in prediction[index]])\n",
    "    total += len(test_gold[index])\n",
    "\n",
    "recall = 100* correct / total\n",
    "print('Recall: {:.2f}%'.format(recall))"
   ]
  },
  {
   "cell_type": "code",
   "execution_count": 13,
   "metadata": {
    "collapsed": false
   },
   "outputs": [
    {
     "name": "stdout",
     "output_type": "stream",
     "text": [
      "F-measure: 54.02%\n"
     ]
    }
   ],
   "source": [
    "print('F-measure: {:.2f}%'.format((2 * precision * recall) / (precision + recall)))"
   ]
  },
  {
   "cell_type": "code",
   "execution_count": 14,
   "metadata": {
    "collapsed": false
   },
   "outputs": [],
   "source": [
    "import re\n",
    "for sentence_node in reviews.iter('sentence'):\n",
    "    sentence_opinions = []\n",
    "    opinions_node = sentence_node.xpath('./Opinions')\n",
    "    if opinions_node:\n",
    "        opinions_node = opinions_node[0]\n",
    "    else:\n",
    "        opinions_node = etree.SubElement(sentence_node, 'Opinions')\n",
    "        \n",
    "    for opinion_node in sentence_node.xpath('./Opinions/Opinion'):\n",
    "        opinions_node.remove(opinion_node)\n",
    "    \n",
    "    text = sentence_node.xpath('./text/text()')[0]\n",
    "    for m in re.finditer(targets_pattern, text):\n",
    "        opinion_node = etree.SubElement(opinions_node, 'Opinion')\n",
    "        opinion_node.set('target', m.group())\n",
    "        opinion_node.set('from', str(m.start()))\n",
    "        opinion_node.set('to', str(m.end()))\n",
    "        \n",
    "etree.ElementTree(reviews.getroot()).write('../corpus/pred.xml',encoding='utf8', xml_declaration=True, pretty_print=True)        "
   ]
  },
  {
   "cell_type": "code",
   "execution_count": 15,
   "metadata": {
    "collapsed": false
   },
   "outputs": [],
   "source": []
  },
  {
   "cell_type": "code",
   "execution_count": null,
   "metadata": {
    "collapsed": true
   },
   "outputs": [],
   "source": []
  }
 ],
 "metadata": {
  "kernelspec": {
   "display_name": "Python 3",
   "language": "python",
   "name": "python3"
  },
  "language_info": {
   "codemirror_mode": {
    "name": "ipython",
    "version": 3
   },
   "file_extension": ".py",
   "mimetype": "text/x-python",
   "name": "python",
   "nbconvert_exporter": "python",
   "pygments_lexer": "ipython3",
   "version": "3.5.1+"
  }
 },
 "nbformat": 4,
 "nbformat_minor": 0
}

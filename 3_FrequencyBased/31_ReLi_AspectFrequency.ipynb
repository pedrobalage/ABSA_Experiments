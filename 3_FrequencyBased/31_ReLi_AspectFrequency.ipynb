{
 "cells": [
  {
   "cell_type": "markdown",
   "metadata": {},
   "source": [
    "## Frequent Aspect Extraction in ReLi\n",
    "Baseline is a adaptation for the baseline used in he opinion target extraction (OTE) for 2014, 2015 and 2016 versions of SemEval Aspect-Based Sentiment Analysis Task.\n",
    "\n",
    "Source:\n",
    "\n",
    "Pontiki, M., Galanis, D., Pavlopoulos, J., Papageorgiou, H., Androutsopoulos, I., & Manandhar, S. (2014, August). Semeval-2014 task 4: Aspect based sentiment analysis. In Proceedings of the 8th international workshop on semantic evaluation (SemEval 2014) (pp. 27-35).\n",
    "\n",
    "Pontiki, M., Galanis, D., Papageorgiou, H., Manandhar, S., & Androutsopoulos, I. (2015, June). Semeval-2015 task 12: Aspect based sentiment analysis. In Proceedings of the 9th International Workshop on Semantic Evaluation (SemEval 2015), Association for Computational Linguistics, Denver, Colorado (pp. 486-495)."
   ]
  },
  {
   "cell_type": "code",
   "execution_count": 1,
   "metadata": {
    "collapsed": true
   },
   "outputs": [],
   "source": [
    "from __future__ import unicode_literals\n",
    "from __future__ import division\n",
    "from __future__ import print_function"
   ]
  },
  {
   "cell_type": "code",
   "execution_count": 22,
   "metadata": {
    "collapsed": false
   },
   "outputs": [],
   "source": [
    "from lxml import etree\n",
    "parser = etree.XMLParser(remove_blank_text=True)\n",
    "trainset = etree.parse('../corpus/ReLi_train.xml', parser)\n",
    "testset = etree.parse('../corpus/ReLi_test.xml', parser)"
   ]
  },
  {
   "cell_type": "markdown",
   "metadata": {},
   "source": [
    "## 1. All aspects in trainset"
   ]
  },
  {
   "cell_type": "code",
   "execution_count": 3,
   "metadata": {
    "collapsed": false
   },
   "outputs": [],
   "source": [
    "from collections import Counter\n",
    "targets = Counter([opinion_node.get('target').lower()\n",
    "                    for opinion_node in trainset.iter('Opinion')\n",
    "                    if opinion_node.get('target') != 'NULL'\n",
    "                   ])"
   ]
  },
  {
   "cell_type": "code",
   "execution_count": 4,
   "metadata": {
    "collapsed": false
   },
   "outputs": [
    {
     "data": {
      "text/html": [
       "<table border=\"1\" cellpadding=\"3\" cellspacing=\"0\"  style=\"border:1px solid black;border-collapse:collapse;\"><tr><td  style=\"background-color:LightGray;\"><b>freq</b></td><td  style=\"background-color:LightGray;\"><b>%freq</b></td><td  style=\"background-color:LightGray;\"><b>target</b></td></tr><tr><td  style=\"background-color:Ivory;\">681</td><td  style=\"background-color:Ivory;\">32.9%</td><td  style=\"background-color:Ivory;\">livro</td></tr><tr><td  style=\"background-color:AliceBlue;\">150</td><td  style=\"background-color:AliceBlue;\">7.2%</td><td  style=\"background-color:AliceBlue;\">história</td></tr><tr><td  style=\"background-color:Ivory;\">88</td><td  style=\"background-color:Ivory;\">4.2%</td><td  style=\"background-color:Ivory;\">leitura</td></tr><tr><td  style=\"background-color:AliceBlue;\">59</td><td  style=\"background-color:AliceBlue;\">2.8%</td><td  style=\"background-color:AliceBlue;\">personagens</td></tr><tr><td  style=\"background-color:Ivory;\">47</td><td  style=\"background-color:Ivory;\">2.3%</td><td  style=\"background-color:Ivory;\">crepúsculo</td></tr><tr><td  style=\"background-color:AliceBlue;\">44</td><td  style=\"background-color:AliceBlue;\">2.1%</td><td  style=\"background-color:AliceBlue;\">narrativa</td></tr><tr><td  style=\"background-color:Ivory;\">42</td><td  style=\"background-color:Ivory;\">2.0%</td><td  style=\"background-color:Ivory;\">romance</td></tr><tr><td  style=\"background-color:AliceBlue;\">39</td><td  style=\"background-color:AliceBlue;\">1.9%</td><td  style=\"background-color:AliceBlue;\">obra</td></tr><tr><td  style=\"background-color:Ivory;\">35</td><td  style=\"background-color:Ivory;\">1.7%</td><td  style=\"background-color:Ivory;\">final</td></tr><tr><td  style=\"background-color:AliceBlue;\">35</td><td  style=\"background-color:AliceBlue;\">1.7%</td><td  style=\"background-color:AliceBlue;\">1984</td></tr><tr><td  style=\"background-color:Ivory;\">32</td><td  style=\"background-color:Ivory;\">1.5%</td><td  style=\"background-color:Ivory;\">ele</td></tr><tr><td  style=\"background-color:AliceBlue;\">30</td><td  style=\"background-color:AliceBlue;\">1.4%</td><td  style=\"background-color:AliceBlue;\">historia</td></tr><tr><td  style=\"background-color:Ivory;\">29</td><td  style=\"background-color:Ivory;\">1.4%</td><td  style=\"background-color:Ivory;\">enredo</td></tr><tr><td  style=\"background-color:AliceBlue;\">26</td><td  style=\"background-color:AliceBlue;\">1.3%</td><td  style=\"background-color:AliceBlue;\">trama</td></tr><tr><td  style=\"background-color:Ivory;\">21</td><td  style=\"background-color:Ivory;\">1.0%</td><td  style=\"background-color:Ivory;\">linguagem</td></tr><tr><td  style=\"background-color:AliceBlue;\">19</td><td  style=\"background-color:AliceBlue;\">0.9%</td><td  style=\"background-color:AliceBlue;\">ensaio&nbspsobre&nbspa&nbspcegueira</td></tr><tr><td  style=\"background-color:Ivory;\">17</td><td  style=\"background-color:Ivory;\">0.8%</td><td  style=\"background-color:Ivory;\">personagem</td></tr><tr><td  style=\"background-color:AliceBlue;\">16</td><td  style=\"background-color:AliceBlue;\">0.8%</td><td  style=\"background-color:AliceBlue;\">bella</td></tr><tr><td  style=\"background-color:Ivory;\">14</td><td  style=\"background-color:Ivory;\">0.7%</td><td  style=\"background-color:Ivory;\">começo</td></tr><tr><td  style=\"background-color:AliceBlue;\">12</td><td  style=\"background-color:AliceBlue;\">0.6%</td><td  style=\"background-color:AliceBlue;\">ela</td></tr></table>"
      ],
      "text/plain": [
       "<ipy_table.IpyTable at 0x7fe7781d6940>"
      ]
     },
     "execution_count": 4,
     "metadata": {},
     "output_type": "execute_result"
    }
   ],
   "source": [
    "import ipy_table\n",
    "\n",
    "data = [['freq', '%freq', 'target']]\n",
    "for target, freq in targets.most_common(20):\n",
    "    ratio = freq / sum(targets.values()) *100\n",
    "    data.append([freq, '{:.1f}%'.format(ratio), target])\n",
    "\n",
    "ipy_table.make_table(data)\n",
    "ipy_table.apply_theme('basic')"
   ]
  },
  {
   "cell_type": "code",
   "execution_count": 5,
   "metadata": {
    "collapsed": false
   },
   "outputs": [
    {
     "data": {
      "text/plain": [
       "436"
      ]
     },
     "execution_count": 5,
     "metadata": {},
     "output_type": "execute_result"
    }
   ],
   "source": [
    "# Build a regex to match the targets in the text\n",
    "import re\n",
    "targets_list = sorted(list(targets))\n",
    "targets_list.sort(key=len, reverse=True)\n",
    "targets_pattern = r'\\b(' + '|'.join([re.escape(t) for t in targets_list]) + r')\\b'\n",
    "len(targets_list)"
   ]
  },
  {
   "cell_type": "code",
   "execution_count": 8,
   "metadata": {
    "collapsed": false
   },
   "outputs": [],
   "source": [
    "test_gold = list()\n",
    "prediction = list()\n",
    "\n",
    "for sentence_node in testset.iter('sentence'):    \n",
    "    sentence_opinions = []\n",
    "    for opinion_node in sentence_node.iter('Opinion'):\n",
    "        target = opinion_node.get('target')\n",
    "        start = int(opinion_node.get('from'))\n",
    "        end = int(opinion_node.get('to'))\n",
    "        # evaluation explicit says to discart NULL values\n",
    "        if target != 'NULL':\n",
    "            sentence_opinions.append((target, start, end))\n",
    "    test_gold.append(sentence_opinions)\n",
    "    \n",
    "    text = sentence_node.xpath('./text/text()')[0]\n",
    "    text_opinions = []\n",
    "    \n",
    "    for m in re.finditer(targets_pattern, text, flags=re.I):\n",
    "        text_opinions.append( (m.group(), m.start(), m.end()) )\n",
    "    prediction.append(text_opinions)"
   ]
  },
  {
   "cell_type": "code",
   "execution_count": 10,
   "metadata": {
    "collapsed": false
   },
   "outputs": [
    {
     "data": {
      "text/html": [
       "<table border=\"1\" cellpadding=\"3\" cellspacing=\"0\"  style=\"border:1px solid black;border-collapse:collapse;\"><tr><td  style=\"background-color:LightGray;\"><b>Gold Standard</b></td><td  style=\"background-color:LightGray;\"><b>Predicted</b></td><td  style=\"background-color:LightGray;\"><b>Sentence</b></td></tr><tr><td  style=\"background-color:Ivory;\">[]</td><td  style=\"background-color:Ivory;\">[('livro', 30, 35), ('história', 48, 56)]</td><td  style=\"background-color:Ivory;\">Está provado: Pode existir um livro bom sem uma história boa</td></tr><tr><td  style=\"background-color:AliceBlue;\">[]</td><td  style=\"background-color:AliceBlue;\">[('a', 40, 41), ('a', 107, 108), ('a', 121, 122)]</td><td  style=\"background-color:AliceBlue;\">\"Se querem mesmo ouvir o que aconteceu, a primeira coisa que vão querer saber é onde eu nasci, como passei a porcaria de a minha infância (...) e toda essa lenga-lenga...\".</td></tr><tr><td  style=\"background-color:Ivory;\">[('O Apanhador em o Campo de Centeio', 14, 47)]</td><td  style=\"background-color:Ivory;\">[('O Apanhador em o Campo de Centeio', 14, 47), ('a', 76, 77), ('literatura', 78, 88)]</td><td  style=\"background-color:Ivory;\">Assim começa \"O Apanhador em o Campo de Centeio\", um verdadeiro clássico de a literatura mundial.</td></tr><tr><td  style=\"background-color:AliceBlue;\">[]</td><td  style=\"background-color:AliceBlue;\">[('a', 116, 117), ('a', 148, 149), ('a', 183, 184), ('AUTOR', 198, 203)]</td><td  style=\"background-color:AliceBlue;\">E essas três primeiras linhas são suficientes para termos um norte bem contextualizado de tudo quanto encontraremos a o longo de as 207 páginas que a versão brasileira, publicada por a EDITORA DE O AUTOR, trará.</td></tr><tr><td  style=\"background-color:Ivory;\">[]</td><td  style=\"background-color:Ivory;\">[('Apanhador', 6, 15), ('a', 39, 40), ('a', 48, 49), ('Holden Caulfield', 84, 100), ('anos', 128, 132), ('esse', 141, 145)]</td><td  style=\"background-color:Ivory;\">Em \"O Apanhador\", o leitor é convidado a vestir a pele de um adolescente revoltado, Holden Caulfield, que, em o auge de seus 17 anos, conta \"esse negócio doido que aconteceu em o último Natal\".</td></tr><tr><td  style=\"background-color:AliceBlue;\">[]</td><td  style=\"background-color:AliceBlue;\">[('A', 0, 1)]</td><td  style=\"background-color:AliceBlue;\">A verdade é que não tem negócio doido coisa nenhuma.</td></tr><tr><td  style=\"background-color:Ivory;\">[]</td><td  style=\"background-color:Ivory;\">[('A', 0, 1), ('história', 2, 10), ('a', 55, 56), ('história', 57, 65), ('literatura', 160, 170), ('este', 179, 183), ('a', 205, 206), ('autor', 246, 251), ('a', 307, 308), ('a', 353, 354)]</td><td  style=\"background-color:Ivory;\">A história em si não tem nada de mirabolante, se é que a história despretensiosa de um adolescente rebelde que bombou em quase todas as matérias (exceto Inglês/literatura, e é em este ponto que identifico a primeira marquinha de o alter ego de o autor, J. D. Salinger), que tinha um olhar crítico para tudo a o seu redor, e ainda parecia bem perdido em a vida, soaria mirabolante ou diferente de o cotidiano de boa parte de os adolescentes de os dias de hoje.</td></tr><tr><td  style=\"background-color:AliceBlue;\">[]</td><td  style=\"background-color:AliceBlue;\">[('a', 33, 34)]</td><td  style=\"background-color:AliceBlue;\">Mas vamos devagar com o andar de a carruagem, chegaremos lá.</td></tr><tr><td  style=\"background-color:Ivory;\">[]</td><td  style=\"background-color:Ivory;\">[('este', 23, 27), ('ser', 56, 59)]</td><td  style=\"background-color:Ivory;\">Há de se ressaltar que este clássico não é tão fácil de ser encontrado.</td></tr><tr><td  style=\"background-color:AliceBlue;\">[]</td><td  style=\"background-color:AliceBlue;\">[('ser', 72, 75)]</td><td  style=\"background-color:AliceBlue;\">Antes de achar o meu exemplar, procurei em várias livrarias, que diziam ser necessário fazer uma encomenda, com todo aquele papo de \"tantos dias úteis\", \"ligamos para você quando chegar\", etc e tal.</td></tr><tr><td  style=\"background-color:Ivory;\">[]</td><td  style=\"background-color:Ivory;\">[('fim', 5, 8), ('a', 34, 35)]</td><td  style=\"background-color:Ivory;\">Em o fim, acabei encomendando por a internet.</td></tr><tr><td  style=\"background-color:AliceBlue;\">[]</td><td  style=\"background-color:AliceBlue;\">[]</td><td  style=\"background-color:AliceBlue;\">Já que era para esperar, melhor esperar em casa.</td></tr><tr><td  style=\"background-color:Ivory;\">[]</td><td  style=\"background-color:Ivory;\">[('a', 13, 14), ('final', 17, 22), ('a', 58, 59), ('a', 114, 115), ('este', 119, 123), ('a', 189, 190)]</td><td  style=\"background-color:Ivory;\">Portanto, se a o final de essa resenha você quiser passar a próxima madrugada em claro tentando descobrir \"qualé\" a de este moleque rebelde \"pra chuchu\", pode ir tirando o seu cavalinho de a chuva, porque não vou emprestar o meu!</td></tr><tr><td  style=\"background-color:AliceBlue;\">[]</td><td  style=\"background-color:AliceBlue;\">[('a', 46, 47), ('obra', 48, 52), ('a', 94, 95), ('história', 96, 104), ('este', 108, 112), ('romance', 113, 120), ('autor', 130, 135)]</td><td  style=\"background-color:AliceBlue;\">Antes de discutirmos os méritos literários de a obra, seria interessante levantar um pouco de a história de este romance e de seu autor.</td></tr><tr><td  style=\"background-color:Ivory;\">[]</td><td  style=\"background-color:Ivory;\">[('Apanhador', 3, 12), ('este', 44, 48)]</td><td  style=\"background-color:Ivory;\">\"O Apanhador\" é um de os poucos que merecem este tipo de abordagem em uma resenha.</td></tr><tr><td  style=\"background-color:AliceBlue;\">[]</td><td  style=\"background-color:AliceBlue;\">[('coisas', 10, 16), ('este', 59, 63), ('livro', 64, 69), ('linguagem', 73, 82)]</td><td  style=\"background-color:AliceBlue;\">Uma de as coisas mais surpreendentes que descobri, foi que este livro de linguagem tão atual e que desenha uma caricatura bastante verossímil de um adolescente contemporâneo, foi escrito, pasme, em 1951!</td></tr><tr><td  style=\"background-color:Ivory;\">[]</td><td  style=\"background-color:Ivory;\">[('este', 11, 15), ('livro', 16, 21), ('anos', 50, 54)]</td><td  style=\"background-color:Ivory;\">É isto aí, este livro foi publicado há mais de 60 anos.</td></tr><tr><td  style=\"background-color:AliceBlue;\">[]</td><td  style=\"background-color:AliceBlue;\">[]</td><td  style=\"background-color:AliceBlue;\">Eu disse pasme!</td></tr><tr><td  style=\"background-color:Ivory;\">[]</td><td  style=\"background-color:Ivory;\">[('a', 57, 58), ('a', 178, 179), ('a', 198, 199), ('eles', 240, 244)]</td><td  style=\"background-color:Ivory;\">Espalhou-se de forma viral entre os jovens americanos de a época, e influenciou uma geração após outra, dotando os jovens de uma espécie de \"carta branca\" para serem autênticos, a despeito de o que a sociedade (leia - se: pais) esperava de eles.</td></tr><tr><td  style=\"background-color:AliceBlue;\">[]</td><td  style=\"background-color:AliceBlue;\">[('a', 12, 13), ('livros', 71, 77)]</td><td  style=\"background-color:AliceBlue;\">Foi citado, a o logo de seu último sexagenário, em um milhão de outros livros, filmes, séries, revistas, jornais.</td></tr><tr><td  style=\"background-color:Ivory;\">[]</td><td  style=\"background-color:Ivory;\">[('A', 0, 1), ('a', 17, 18), ('a', 34, 35), ('obra', 36, 40), ('a', 59, 60), ('livro', 86, 91), ('a', 103, 104)]</td><td  style=\"background-color:Ivory;\">A nota triste em a \"biografia\" de a obra fica por conta de a suposta inspiração que o livro teria dado a um maluco que, décadas depois, assassinaria o então Beatle John Lennon.</td></tr><tr><td  style=\"background-color:AliceBlue;\">[]</td><td  style=\"background-color:AliceBlue;\">[('a', 27, 28), ('obra', 29, 33), ('a', 68, 69), ('a', 70, 71), ('protagonista', 97, 109)]</td><td  style=\"background-color:AliceBlue;\">Mas sinceramente, após ler a obra, não encontrei qualquer incitação a a violência por parte de o protagonista.</td></tr><tr><td  style=\"background-color:Ivory;\">[]</td><td  style=\"background-color:Ivory;\">[]</td><td  style=\"background-color:Ivory;\">Por o contrário.</td></tr><tr><td  style=\"background-color:AliceBlue;\">[]</td><td  style=\"background-color:AliceBlue;\">[('Holden', 0, 6)]</td><td  style=\"background-color:AliceBlue;\">Holden é um garoto bom, apesar de conflituoso.</td></tr><tr><td  style=\"background-color:Ivory;\">[]</td><td  style=\"background-color:Ivory;\">[('a', 21, 22), ('obra', 23, 27), ('a', 41, 42), ('a', 43, 44), ('ele', 59, 62)]</td><td  style=\"background-color:Ivory;\">Por sinal, o nome de a obra diz respeito a a profissão que ele gostaria de ter.</td></tr><tr><td  style=\"background-color:AliceBlue;\">[]</td><td  style=\"background-color:AliceBlue;\">[('a', 77, 78), ('obra', 79, 83)]</td><td  style=\"background-color:AliceBlue;\">Trata-se de uma nítida alegoria, mas que traduz muito bem o conceito de toda a obra.</td></tr><tr><td  style=\"background-color:Ivory;\">[]</td><td  style=\"background-color:Ivory;\">[('ela', 3, 6), ('personagem', 9, 19), ('a', 49, 50), ('a', 51, 52), ('ele', 135, 138), ('a', 299, 300)]</td><td  style=\"background-color:Ivory;\">Em ela o personagem imagina um campo de centeio, a a beira de um precipício, onde muitas crianças pudessem brincar livremente, e sendo ele o único adulto, teria como únicas duas funções: admirá-las correndo de um lado para o outro e, eventualmente, apanhar aquelas que estivessem rumando em direção a o despenhadeiro.</td></tr><tr><td  style=\"background-color:AliceBlue;\">[]</td><td  style=\"background-color:AliceBlue;\">[]</td><td  style=\"background-color:AliceBlue;\">Apenas isto!</td></tr><tr><td  style=\"background-color:Ivory;\">[]</td><td  style=\"background-color:Ivory;\">[('Holden', 0, 6), ('personagem', 10, 20), ('política', 75, 83)]</td><td  style=\"background-color:Ivory;\">Holden, o personagem-narrador, é um garoto dotado de o que eu chamaria de \"política de o conflito zero\", apesar de todo o seu conflito interno.</td></tr><tr><td  style=\"background-color:AliceBlue;\">[]</td><td  style=\"background-color:AliceBlue;\">[('esta', 7, 11), ('a', 17, 18), ('ele', 35, 38)]</td><td  style=\"background-color:AliceBlue;\">Talvez esta seja a grande luta que ele enfrenta em seu \"natal épico\": não deixar o conflito alcançar o mundo exterior.</td></tr><tr><td  style=\"background-color:Ivory;\">[]</td><td  style=\"background-color:Ivory;\">[('autor', 2, 7), ('esta', 42, 46)]</td><td  style=\"background-color:Ivory;\">O autor também merece uma pequena nota em esta resenha.</td></tr><tr><td  style=\"background-color:AliceBlue;\">[]</td><td  style=\"background-color:AliceBlue;\">[]</td><td  style=\"background-color:AliceBlue;\">J. D. Salinger é um mistério.</td></tr><tr><td  style=\"background-color:Ivory;\">[]</td><td  style=\"background-color:Ivory;\">[]</td><td  style=\"background-color:Ivory;\">Gastei algum tempo pesquisando sobre sua vida.</td></tr><tr><td  style=\"background-color:AliceBlue;\">[]</td><td  style=\"background-color:AliceBlue;\">[]</td><td  style=\"background-color:AliceBlue;\">Após vender 15 milhões de cópias, isolou-se em uma montanha, de onde publicou alguns outros textos de menor relevância.</td></tr><tr><td  style=\"background-color:Ivory;\">[]</td><td  style=\"background-color:Ivory;\">[('a', 27, 28)]</td><td  style=\"background-color:Ivory;\">Isolou-se completamente de a mídia.</td></tr><tr><td  style=\"background-color:AliceBlue;\">[]</td><td  style=\"background-color:AliceBlue;\">[('obras', 35, 40), ('a', 95, 96), ('a', 129, 130), ('autor', 182, 187)]</td><td  style=\"background-color:AliceBlue;\">E recusou as ofertas para que suas obras fossem adaptadas para o cinema, o que me faz crer que a repulsa de o jovem narrador por a sétima arte, é mais um reflexo de o alter ego de o autor.</td></tr><tr><td  style=\"background-color:Ivory;\">[]</td><td  style=\"background-color:Ivory;\">[('O Apanhador em o Campo de Centeio', 1, 34), ('livro', 51, 56), ('enredo', 72, 78)]</td><td  style=\"background-color:Ivory;\">\"O Apanhador em o Campo de Centeio\" foi o primeiro livro que li, onde o enredo não teve relevância alguma.</td></tr><tr><td  style=\"background-color:AliceBlue;\">[]</td><td  style=\"background-color:AliceBlue;\">[('livro', 107, 112), ('história', 135, 143)]</td><td  style=\"background-color:AliceBlue;\">Eu nunca imaginei que um dia diria isto, e ainda não me sinto muito confortável, mas lá vai: É-possível-um-livro-muito-bom-não-ter-uma-história-muito-boa!</td></tr><tr><td  style=\"background-color:Ivory;\">[]</td><td  style=\"background-color:Ivory;\">[]</td><td  style=\"background-color:Ivory;\">Pronto-falei!</td></tr><tr><td  style=\"background-color:AliceBlue;\">[]</td><td  style=\"background-color:AliceBlue;\">[('a', 4, 5)]</td><td  style=\"background-color:AliceBlue;\">E é a mais pura verdade.</td></tr><tr><td  style=\"background-color:Ivory;\">[]</td><td  style=\"background-color:Ivory;\">[('romance', 2, 9), ('personagem', 47, 57)]</td><td  style=\"background-color:Ivory;\">O romance de Salinger apóia-se basicamente em: personagem e estilo.</td></tr><tr><td  style=\"background-color:AliceBlue;\">[]</td><td  style=\"background-color:AliceBlue;\">[('personagem', 2, 12), ('a', 27, 28), ('a', 29, 30)]</td><td  style=\"background-color:AliceBlue;\">O personagem é um universo a a parte.</td></tr><tr><td  style=\"background-color:Ivory;\">[]</td><td  style=\"background-color:Ivory;\">[('meio', 41, 45), ('Holden', 66, 72), ('a', 74, 75), ('livro', 84, 89)]</td><td  style=\"background-color:Ivory;\">Há quem diga que teve vontade de socar o meio de o nariz de o tal Holden, a o ler o livro.</td></tr><tr><td  style=\"background-color:AliceBlue;\">[]</td><td  style=\"background-color:AliceBlue;\">[('ele', 62, 65), ('a', 108, 109), ('a', 110, 111), ('ele', 141, 144), ('a', 165, 166), ('a', 193, 194)]</td><td  style=\"background-color:AliceBlue;\">Eu, particularmente, tive vontade de pagar uma coca-cola para ele (já que não enganava nenhum garçom quanto a a sua menor idade), pedir para ele dizer o que acha de a tampinha de garrafa sobre a mesa, e ficar rindo de sua visão \"byroniana\" e revoltada de o mundo.</td></tr><tr><td  style=\"background-color:Ivory;\">[]</td><td  style=\"background-color:Ivory;\">[('ele', 14, 17)]</td><td  style=\"background-color:Ivory;\">Provavelmente ele encontraria pontos bastante inquietantes e revoltantes em uma simples tampa!</td></tr><tr><td  style=\"background-color:AliceBlue;\">[]</td><td  style=\"background-color:AliceBlue;\">[('Ele', 0, 3)]</td><td  style=\"background-color:AliceBlue;\">Ele é o típico \"Rebelde sem Causa\".</td></tr><tr><td  style=\"background-color:Ivory;\">[]</td><td  style=\"background-color:Ivory;\">[('coisas', 25, 31), ('ele', 36, 39)]</td><td  style=\"background-color:Ivory;\">Aliás, até mesmo para as coisas que ele curte, sempre terá um \"mas...\".</td></tr><tr><td  style=\"background-color:AliceBlue;\">[]</td><td  style=\"background-color:AliceBlue;\">[('ele', 50, 53)]</td><td  style=\"background-color:AliceBlue;\">Sua hesitação, quando sua irmã questiona de o que ele realmente gosta, é reveladora.</td></tr><tr><td  style=\"background-color:Ivory;\">[('estilo', 16, 22)]</td><td  style=\"background-color:Ivory;\">[('isso', 8, 12)]</td><td  style=\"background-color:Ivory;\">Além de isso, o estilo é extremamente autêntico.</td></tr><tr><td  style=\"background-color:AliceBlue;\">[]</td><td  style=\"background-color:AliceBlue;\">[('autor', 2, 7), ('a', 59, 60)]</td><td  style=\"background-color:AliceBlue;\">O autor realmente consegue fazer o leitor enxergar o mundo a os olhos de um adolescente.</td></tr><tr><td  style=\"background-color:Ivory;\">[]</td><td  style=\"background-color:Ivory;\">[('A', 0, 1), ('narrativa', 2, 11), ('autor', 58, 63), ('frases', 145, 151)]</td><td  style=\"background-color:Ivory;\">A narrativa toda flui de forma despretensiosa, ou seja, o autor não força nada para transmitir ou explicar conceitos, e não se importa em deixar frases perdidas e sem explicações para um leitor que tenha dificuldades em ler \"entrelinhas\".</td></tr><tr><td  style=\"background-color:AliceBlue;\">[]</td><td  style=\"background-color:AliceBlue;\">[('Holden', 42, 48)]</td><td  style=\"background-color:AliceBlue;\">Exatamente como faria um adolescente como Holden em uma conversa informal.</td></tr><tr><td  style=\"background-color:Ivory;\">[]</td><td  style=\"background-color:Ivory;\">[('Este', 0, 4)]</td><td  style=\"background-color:Ivory;\">Este é o termo certo: Informal.</td></tr><tr><td  style=\"background-color:AliceBlue;\">[('linguagem', 2, 11)]</td><td  style=\"background-color:AliceBlue;\">[('A', 0, 1), ('linguagem', 2, 11), ('a', 35, 36), ('narrativa', 37, 46)]</td><td  style=\"background-color:AliceBlue;\">A linguagem é outro ponto forte de a narrativa.</td></tr><tr><td  style=\"background-color:Ivory;\">[]</td><td  style=\"background-color:Ivory;\">[('esse', 92, 96)]</td><td  style=\"background-color:Ivory;\">Além de coloquial e fluída, é tão irônica, que muitas vezes você se pergunta: \"como foi que esse moleque conseguiu colocar ironia em algo assim\".</td></tr><tr><td  style=\"background-color:AliceBlue;\">[]</td><td  style=\"background-color:AliceBlue;\">[('a', 48, 49), ('narrativa', 50, 59), ('autor', 63, 68), ('a', 91, 92), ('suspense', 109, 117), ('ele', 156, 159)]</td><td  style=\"background-color:AliceBlue;\">E então entramos em outro aspecto formidável de a narrativa: O autor conseguiu transformar a expectativa e o suspense de o \"que acontecerá depois\" em \"como ele reagirá depois\".</td></tr><tr><td  style=\"background-color:Ivory;\">[]</td><td  style=\"background-color:Ivory;\">[('esta', 6, 10), ('a', 21, 22), ('história', 23, 31)]</td><td  style=\"background-color:Ivory;\">É por esta razão que a história não tem relevância.</td></tr><tr><td  style=\"background-color:AliceBlue;\">[]</td><td  style=\"background-color:AliceBlue;\">[('romance', 90, 97), ('a', 115, 116), ('história', 117, 125)]</td><td  style=\"background-color:AliceBlue;\">Você não está preocupado tanto com o que acontecerá, porque logo em o primeiro terço de o romance você percebe que a história é um simples diário.</td></tr><tr><td  style=\"background-color:Ivory;\">[]</td><td  style=\"background-color:Ivory;\">[('a', 2, 3), ('ele', 15, 18), ('livro', 103, 108), ('a', 129, 130), ('final', 151, 156)]</td><td  style=\"background-color:Ivory;\">É a forma como ele interage com cada elemento (uma tampinha, por exemplo) que faz o leitor grudar em o livro, e só largar quando a última linha, de um final aberto, tiver sido devorada.</td></tr><tr><td  style=\"background-color:AliceBlue;\">[]</td><td  style=\"background-color:AliceBlue;\">[]</td><td  style=\"background-color:AliceBlue;\">Muito hype por nada...</td></tr><tr><td  style=\"background-color:Ivory;\">[('livro', 25, 30)]</td><td  style=\"background-color:Ivory;\">[('fala', 11, 15), ('esse', 20, 24), ('livro', 25, 30), ('a', 46, 47), ('ele', 56, 59)]</td><td  style=\"background-color:Ivory;\">Todo mundo fala que esse livro é foda, mas em a verdade ele é um lixo.</td></tr><tr><td  style=\"background-color:AliceBlue;\">[]</td><td  style=\"background-color:AliceBlue;\">[('a', 10, 11), ('livro', 53, 58)]</td><td  style=\"background-color:AliceBlue;\">Realmente a única passagem mais ou menos bonita de o livro é o sonho de o moleque pegando uma bola de baseball em o campo de centeio que dá pra um abismo.</td></tr><tr><td  style=\"background-color:Ivory;\">[]</td><td  style=\"background-color:Ivory;\">[('literatura', 29, 39)]</td><td  style=\"background-color:Ivory;\">O resto, é sofrível enquanto literatura.</td></tr><tr><td  style=\"background-color:AliceBlue;\">[]</td><td  style=\"background-color:AliceBlue;\">[('ser', 44, 47)]</td><td  style=\"background-color:AliceBlue;\">Não sei como uma porcaria de essa conseguiu ser consagrada.</td></tr><tr><td  style=\"background-color:Ivory;\">[]</td><td  style=\"background-color:Ivory;\">[]</td><td  style=\"background-color:Ivory;\">Se bem que... Tem tanta porcaria consagrada por aí de qualquer jeito..</td></tr><tr><td  style=\"background-color:AliceBlue;\">[]</td><td  style=\"background-color:AliceBlue;\">[('livro', 3, 8), ('a', 124, 125), ('Holden Caulfield', 143, 159)]</td><td  style=\"background-color:AliceBlue;\">Um livro que inspirou gerações, desde o assassino de John Lennon, até bandas, que eu adoro, como Pearl Jam e Green Day ( em a música Who wrote Holden Caulfield?</td></tr><tr><td  style=\"background-color:Ivory;\">[]</td><td  style=\"background-color:Ivory;\">[]</td><td  style=\"background-color:Ivory;\">).</td></tr><tr><td  style=\"background-color:AliceBlue;\">[('título', 2, 8)]</td><td  style=\"background-color:AliceBlue;\">[('título', 2, 8)]</td><td  style=\"background-color:AliceBlue;\">O título é intrigante e sua justificativa, interessante.</td></tr><tr><td  style=\"background-color:Ivory;\">[]</td><td  style=\"background-color:Ivory;\">[('livro', 37, 42)]</td><td  style=\"background-color:Ivory;\">Mas confesso que esperava mais de um livro tão renomado.</td></tr><tr><td  style=\"background-color:AliceBlue;\">[]</td><td  style=\"background-color:AliceBlue;\">[('isso', 28, 32)]</td><td  style=\"background-color:AliceBlue;\">Não que seja ruim, longe de isso, mas é que esperava mais 'profundidade', digamos.</td></tr><tr><td  style=\"background-color:Ivory;\">[]</td><td  style=\"background-color:Ivory;\">[('Holden', 0, 6)]</td><td  style=\"background-color:Ivory;\">Holden é um adolescente perdido, que é expulso de todos os colégios que frequenta e não se interessa por nada.</td></tr><tr><td  style=\"background-color:AliceBlue;\">[]</td><td  style=\"background-color:AliceBlue;\">[]</td><td  style=\"background-color:AliceBlue;\">Impossível não se identificar, né?</td></tr><tr><td  style=\"background-color:Ivory;\">[]</td><td  style=\"background-color:Ivory;\">[('isso', 23, 27), ('a', 58, 59)]</td><td  style=\"background-color:Ivory;\">Todos nós passamos por isso em algum determinado ponto de a vida.</td></tr><tr><td  style=\"background-color:AliceBlue;\">[('fato de ele terminar o livro tão perdido quanto começou', 11, 66)]</td><td  style=\"background-color:AliceBlue;\">[('ele', 19, 22), ('livro', 34, 39)]</td><td  style=\"background-color:AliceBlue;\">Acho que o fato de ele terminar o livro tão perdido quanto começou que foi um pouco frustrante.</td></tr><tr><td  style=\"background-color:Ivory;\">[]</td><td  style=\"background-color:Ivory;\">[('Ele', 0, 3), ('fala', 4, 8), ('ele', 36, 39), ('a', 108, 109)]</td><td  style=\"background-color:Ivory;\">Ele fala 'p/ chuchu' de pessoas que ele nem sequer nunca gostou e que são dispensáveis em sua vida, mas que a o serem lembradas lhe causam saudade.</td></tr><tr><td  style=\"background-color:AliceBlue;\">[('final', 31, 36)]</td><td  style=\"background-color:AliceBlue;\">[('A', 0, 1), ('esse', 26, 30), ('final', 31, 36), ('ele', 51, 54), ('ser', 68, 71), ('a', 87, 88), ('a', 101, 102), ('a', 131, 132)]</td><td  style=\"background-color:AliceBlue;\">A o mesmo tempo que achei esse final 'frustrante', ele não deixa de ser belo já que em a vida mesmo, a gente não sabe muito bem de a onde está saindo e nem p/ onde vai.</td></tr><tr><td  style=\"background-color:Ivory;\">[]</td><td  style=\"background-color:Ivory;\">[('A', 18, 19)]</td><td  style=\"background-color:Ivory;\">Tudo é incerto, e A as vezes são banalidades que nos fazem mudar de rumo.</td></tr><tr><td  style=\"background-color:AliceBlue;\">[]</td><td  style=\"background-color:AliceBlue;\">[('Holden Caulfield', 45, 61), ('a', 142, 143)]</td><td  style=\"background-color:AliceBlue;\">Em o fundo, todos nós carregamos um pouco de Holden Caulfield: pessoas confusas, perdidas e muitas vezes nostálgicas (sendo que mal começaram a viver).</td></tr><tr><td  style=\"background-color:Ivory;\">[]</td><td  style=\"background-color:Ivory;\">[]</td><td  style=\"background-color:Ivory;\">* * * *</td></tr><tr><td  style=\"background-color:AliceBlue;\">[('livro', 21, 26)]</td><td  style=\"background-color:AliceBlue;\">[('livro', 21, 26), ('a', 141, 142), ('a', 192, 193), ('literatura', 194, 204), ('a', 208, 209), ('autor', 293, 298), ('história', 309, 317)]</td><td  style=\"background-color:AliceBlue;\">Realmente é um ótimo livro, e foi único em o período lançado, justamente por abordar os adolescentes com mais \"realismo\"; Por o que se sabe, a adolescência era tratada de forma superficial em a literatura de a época... Com o uso de gírias e palavreados despojados- típicos de adolescentes-, o autor narra uma história em 1° pessoa, mostrando as percepções de um jovem para diversos eventos.</td></tr><tr><td  style=\"background-color:Ivory;\">[('livro', 13, 18)]</td><td  style=\"background-color:Ivory;\">[('livro', 13, 18)]</td><td  style=\"background-color:Ivory;\">Um excelente livro, sem dúvida.</td></tr><tr><td  style=\"background-color:AliceBlue;\">[]</td><td  style=\"background-color:AliceBlue;\">[('A', 0, 1), ('a', 26, 27)]</td><td  style=\"background-color:AliceBlue;\">A inquietude atemporar de a adolescencia</td></tr><tr><td  style=\"background-color:Ivory;\">[]</td><td  style=\"background-color:Ivory;\">[('Esse', 0, 4), ('livro', 5, 10), ('ser', 21, 24), ('a', 43, 44), ('a', 45, 46), ('anos', 58, 62), ('a', 89, 90), ('a', 103, 104)]</td><td  style=\"background-color:Ivory;\">Esse livro apesar de ser 'antigo', escrito a a mais de 50 anos ainda se mantém bem atual a o tratar de a inquietude de um joven.</td></tr><tr><td  style=\"background-color:AliceBlue;\">[('personagem principal', 67, 87)]</td><td  style=\"background-color:AliceBlue;\">[('personagem principal', 67, 87), ('Holden Caulfield', 90, 106)]</td><td  style=\"background-color:AliceBlue;\">Gostei muito (porém sou suspeita pois, me identifiquei muito com o personagem principal - Holden Caulfield).</td></tr><tr><td  style=\"background-color:Ivory;\">[]</td><td  style=\"background-color:Ivory;\">[('Ele', 0, 3), ('a', 47, 48), ('esta', 115, 119), ('a', 134, 135)]</td><td  style=\"background-color:Ivory;\">Ele está cansado de tudo, nao vê mais graça em a vida e todas suas ridicularidades, passa por conflitos internos e esta revoltado com a hipocrisia de o mundo.</td></tr><tr><td  style=\"background-color:AliceBlue;\">[]</td><td  style=\"background-color:AliceBlue;\">[('a', 22, 23), ('leitura', 24, 31), ('David', 82, 87), ('a', 107, 108)]</td><td  style=\"background-color:AliceBlue;\">Pesquisando depois de a leitura descubri que ''No dia 8 de dezembro de 1980, Mark David Chapman assassinou a tiros o ídolo John Lennon.</td></tr><tr><td  style=\"background-color:Ivory;\">[]</td><td  style=\"background-color:Ivory;\">[('a', 26, 27), ('livro', 70, 75)]</td><td  style=\"background-color:Ivory;\">Quando foi encontrado por a polícia, Chapman carregava uma cópia de o livro em os braços.</td></tr><tr><td  style=\"background-color:AliceBlue;\">[]</td><td  style=\"background-color:AliceBlue;\">[('livro', 19, 24), ('a', 121, 122), ('leitura', 123, 130)]</td><td  style=\"background-color:AliceBlue;\">'' Não é o tipo de livro que te deixa happy depois mas, recomendo se você tiver saúde mental para não matar ninguém após a leitura ou tentar se matar.</td></tr><tr><td  style=\"background-color:Ivory;\">[]</td><td  style=\"background-color:Ivory;\">[('a', 18, 19), ('.', 37, 38), ('.', 43, 44), ('.', 47, 48), ('.', 51, 52), ('apanhador', 80, 89), ('.', 146, 147)]</td><td  style=\"background-color:Ivory;\">fonte:livraria de a folha http://www1.folha.uol.com.br/livrariadafolha/686061-o-apanhador-no-campo-de-centeio-carrega-pecha-de-inspirar-psicopatas.shtml</td></tr><tr><td  style=\"background-color:AliceBlue;\">[]</td><td  style=\"background-color:AliceBlue;\">[('Livro', 18, 23), ('.', 29, 30), ('.', 49, 50), ('.', 53, 54)]</td><td  style=\"background-color:AliceBlue;\">Minha Vida por um Livro | www.minhavidaporumlivro.com.br | Marina Moura</td></tr><tr><td  style=\"background-color:Ivory;\">[]</td><td  style=\"background-color:Ivory;\">[]</td><td  style=\"background-color:Ivory;\">\" Fico imaginando uma porção de garotinhos brincando de alguma coisa em um baita campo de centeio e tudo.</td></tr><tr><td  style=\"background-color:AliceBlue;\">[]</td><td  style=\"background-color:AliceBlue;\">[('a', 73, 74), ('ser', 79, 82)]</td><td  style=\"background-color:AliceBlue;\">Milhares de garotinhos, e ninguém por perto - quer dizer, ninguém grande-a não ser eu.</td></tr><tr><td  style=\"background-color:Ivory;\">[]</td><td  style=\"background-color:Ivory;\">[('a', 13, 14)]</td><td  style=\"background-color:Ivory;\">E eu fico em a beirada de um precipício maluco.</td></tr><tr><td  style=\"background-color:AliceBlue;\">[]</td><td  style=\"background-color:AliceBlue;\">[]</td><td  style=\"background-color:AliceBlue;\">Sabe o quê eu tenho de fazer?</td></tr><tr><td  style=\"background-color:Ivory;\">[]</td><td  style=\"background-color:Ivory;\">[]</td><td  style=\"background-color:Ivory;\">Tenho de agarrar todo mundo que vai cair em o abismo.</td></tr><tr><td  style=\"background-color:AliceBlue;\">[]</td><td  style=\"background-color:AliceBlue;\">[('eles', 21, 25), ('a', 34, 35)]</td><td  style=\"background-color:AliceBlue;\">Quer dizer, se um de eles começar a correr sem olhar onde está indo, eu tenho que aparecer de algum canto e agarrar o garoto.</td></tr><tr><td  style=\"background-color:Ivory;\">[]</td><td  style=\"background-color:Ivory;\">[('isso', 3, 7)]</td><td  style=\"background-color:Ivory;\">Só isso que eu ia fazer o dia todo.</td></tr><tr><td  style=\"background-color:AliceBlue;\">[]</td><td  style=\"background-color:AliceBlue;\">[('ser', 3, 6), ('o apanhador em o campo de centeio', 10, 43)]</td><td  style=\"background-color:AliceBlue;\">Ia ser só o apanhador em o campo de centeio e tudo.</td></tr><tr><td  style=\"background-color:Ivory;\">[]</td><td  style=\"background-color:Ivory;\">[('a', 27, 28)]</td><td  style=\"background-color:Ivory;\">Sei que é maluquice, mas é a única coisa que eu queria fazer.</td></tr><tr><td  style=\"background-color:AliceBlue;\">[]</td><td  style=\"background-color:AliceBlue;\">[]</td><td  style=\"background-color:AliceBlue;\">\"</td></tr></table>"
      ],
      "text/plain": [
       "<ipy_table.IpyTable at 0x7fe779661f28>"
      ]
     },
     "execution_count": 10,
     "metadata": {},
     "output_type": "execute_result"
    }
   ],
   "source": [
    "data = [['Gold Standard', 'Predicted', 'Sentence']]\n",
    "for index, (gold, pred) in enumerate(list(zip(test_gold, prediction))[:100]):\n",
    "    sentence = list(testset.iter('sentence'))[index].xpath('./text/text()')[0]\n",
    "    data.append([gold, pred, sentence])\n",
    "\n",
    "ipy_table.make_table(data)\n",
    "ipy_table.set_global_style(wrap=True)\n",
    "ipy_table.apply_theme('basic')"
   ]
  },
  {
   "cell_type": "markdown",
   "metadata": {},
   "source": [
    "### Aspect-extraction Evaluation methodology\n",
    "\n",
    "Pontiki, M., Galanis, D., Papageorgiou, H., Manandhar, S., & Androutsopoulos, I. (2015, June). Semeval-2015 task 12: Aspect based sentiment analysis. In Proceedings of the 9th International Workshop on Semantic Evaluation (SemEval 2015), Association for Computational Linguistics, Denver, Colorado (pp. 486-495).\n",
    "\n",
    "http://www.anthology.aclweb.org/S/S15/S15-2082.pdf\n",
    "\n",
    "From 4.1 Evaluation Measures, page 491:\n",
    "\n",
    "Slot 2: F-1 scores are calculated by comparing\n",
    "the targets that a system returned (for all the sentences)\n",
    "to the corresponding gold targets (using\n",
    "micro-averaging). The targets are extracted using\n",
    "their starting and ending offsets. The calculation\n",
    "for each sentence considers only distinct targets\n",
    "and discards NULL targets, since they do not correspond\n",
    "to explicit mentions"
   ]
  },
  {
   "cell_type": "code",
   "execution_count": 12,
   "metadata": {
    "collapsed": false
   },
   "outputs": [
    {
     "name": "stdout",
     "output_type": "stream",
     "text": [
      "Precision: 7.14%\n"
     ]
    }
   ],
   "source": [
    "# Micro-averaged Precision\n",
    "correct = 0\n",
    "total = 0\n",
    "for index in range(len(list(testset.iter('sentence')))):\n",
    "    correct += len([x for x in test_gold[index] if x in prediction[index]])\n",
    "    total += len(prediction[index])\n",
    "\n",
    "precision = 100 * correct / total\n",
    "print('Precision: {:.2f}%'.format(precision))"
   ]
  },
  {
   "cell_type": "code",
   "execution_count": 13,
   "metadata": {
    "collapsed": false
   },
   "outputs": [
    {
     "name": "stdout",
     "output_type": "stream",
     "text": [
      "Recall: 82.26%\n"
     ]
    }
   ],
   "source": [
    "# Micro-averaged Recall\n",
    "correct = 0\n",
    "total = 0\n",
    "for index in range(len(list(testset.iter('sentence')))):\n",
    "    correct += len([x for x in test_gold[index] if x in prediction[index]])\n",
    "    total += len(test_gold[index])\n",
    "\n",
    "recall = 100* correct / total\n",
    "print('Recall: {:.2f}%'.format(recall))"
   ]
  },
  {
   "cell_type": "code",
   "execution_count": 14,
   "metadata": {
    "collapsed": false
   },
   "outputs": [
    {
     "name": "stdout",
     "output_type": "stream",
     "text": [
      "F-measure: 13.13%\n"
     ]
    }
   ],
   "source": [
    "print('F-measure: {:.2f}%'.format((2 * precision * recall) / (precision + recall)))"
   ]
  },
  {
   "cell_type": "code",
   "execution_count": 16,
   "metadata": {
    "collapsed": false
   },
   "outputs": [],
   "source": [
    "# Save the prediction (Optional)\n",
    "import re\n",
    "for sentence_node in testset.iter('sentence'):\n",
    "    sentence_opinions = []\n",
    "    opinions_node = sentence_node.xpath('./Opinions')\n",
    "    if opinions_node:\n",
    "        opinions_node = opinions_node[0]\n",
    "    else:\n",
    "        opinions_node = etree.SubElement(sentence_node, 'Opinions')\n",
    "        \n",
    "    for opinion_node in sentence_node.xpath('./Opinions/Opinion'):\n",
    "        opinions_node.remove(opinion_node)\n",
    "    \n",
    "    text = sentence_node.xpath('./text/text()')[0]\n",
    "    for m in re.finditer(targets_pattern, text):\n",
    "        opinion_node = etree.SubElement(opinions_node, 'Opinion')\n",
    "        opinion_node.set('target', m.group())\n",
    "        opinion_node.set('from', str(m.start()))\n",
    "        opinion_node.set('to', str(m.end()))\n",
    "        \n",
    "etree.ElementTree(testset.getroot()).write('../corpus/pred.xml',encoding='utf8', xml_declaration=True, pretty_print=True)"
   ]
  },
  {
   "cell_type": "markdown",
   "metadata": {},
   "source": [
    "## 2. All aspects in trainset removing stopwords"
   ]
  },
  {
   "cell_type": "code",
   "execution_count": 23,
   "metadata": {
    "collapsed": false
   },
   "outputs": [
    {
     "data": {
      "text/html": [
       "<table border=\"1\" cellpadding=\"3\" cellspacing=\"0\"  style=\"border:1px solid black;border-collapse:collapse;\"><tr><td  style=\"background-color:LightGray;\"><b>freq</b></td><td  style=\"background-color:LightGray;\"><b>%freq</b></td><td  style=\"background-color:LightGray;\"><b>target</b></td></tr><tr><td  style=\"background-color:Ivory;\">681</td><td  style=\"background-color:Ivory;\">33.9%</td><td  style=\"background-color:Ivory;\">livro</td></tr><tr><td  style=\"background-color:AliceBlue;\">150</td><td  style=\"background-color:AliceBlue;\">7.5%</td><td  style=\"background-color:AliceBlue;\">história</td></tr><tr><td  style=\"background-color:Ivory;\">88</td><td  style=\"background-color:Ivory;\">4.4%</td><td  style=\"background-color:Ivory;\">leitura</td></tr><tr><td  style=\"background-color:AliceBlue;\">59</td><td  style=\"background-color:AliceBlue;\">2.9%</td><td  style=\"background-color:AliceBlue;\">personagens</td></tr><tr><td  style=\"background-color:Ivory;\">47</td><td  style=\"background-color:Ivory;\">2.3%</td><td  style=\"background-color:Ivory;\">crepúsculo</td></tr><tr><td  style=\"background-color:AliceBlue;\">44</td><td  style=\"background-color:AliceBlue;\">2.2%</td><td  style=\"background-color:AliceBlue;\">narrativa</td></tr><tr><td  style=\"background-color:Ivory;\">42</td><td  style=\"background-color:Ivory;\">2.1%</td><td  style=\"background-color:Ivory;\">romance</td></tr><tr><td  style=\"background-color:AliceBlue;\">39</td><td  style=\"background-color:AliceBlue;\">1.9%</td><td  style=\"background-color:AliceBlue;\">obra</td></tr><tr><td  style=\"background-color:Ivory;\">35</td><td  style=\"background-color:Ivory;\">1.7%</td><td  style=\"background-color:Ivory;\">final</td></tr><tr><td  style=\"background-color:AliceBlue;\">35</td><td  style=\"background-color:AliceBlue;\">1.7%</td><td  style=\"background-color:AliceBlue;\">1984</td></tr><tr><td  style=\"background-color:Ivory;\">30</td><td  style=\"background-color:Ivory;\">1.5%</td><td  style=\"background-color:Ivory;\">historia</td></tr><tr><td  style=\"background-color:AliceBlue;\">29</td><td  style=\"background-color:AliceBlue;\">1.4%</td><td  style=\"background-color:AliceBlue;\">enredo</td></tr><tr><td  style=\"background-color:Ivory;\">26</td><td  style=\"background-color:Ivory;\">1.3%</td><td  style=\"background-color:Ivory;\">trama</td></tr><tr><td  style=\"background-color:AliceBlue;\">21</td><td  style=\"background-color:AliceBlue;\">1.0%</td><td  style=\"background-color:AliceBlue;\">linguagem</td></tr><tr><td  style=\"background-color:Ivory;\">19</td><td  style=\"background-color:Ivory;\">0.9%</td><td  style=\"background-color:Ivory;\">ensaio&nbspsobre&nbspa&nbspcegueira</td></tr><tr><td  style=\"background-color:AliceBlue;\">17</td><td  style=\"background-color:AliceBlue;\">0.8%</td><td  style=\"background-color:AliceBlue;\">personagem</td></tr><tr><td  style=\"background-color:Ivory;\">16</td><td  style=\"background-color:Ivory;\">0.8%</td><td  style=\"background-color:Ivory;\">bella</td></tr><tr><td  style=\"background-color:AliceBlue;\">14</td><td  style=\"background-color:AliceBlue;\">0.7%</td><td  style=\"background-color:AliceBlue;\">começo</td></tr><tr><td  style=\"background-color:Ivory;\">10</td><td  style=\"background-color:Ivory;\">0.5%</td><td  style=\"background-color:Ivory;\">escrita</td></tr><tr><td  style=\"background-color:AliceBlue;\">10</td><td  style=\"background-color:AliceBlue;\">0.5%</td><td  style=\"background-color:AliceBlue;\">edward</td></tr></table>"
      ],
      "text/plain": [
       "<ipy_table.IpyTable at 0x7fe74fababe0>"
      ]
     },
     "execution_count": 23,
     "metadata": {},
     "output_type": "execute_result"
    }
   ],
   "source": [
    "from collections import Counter\n",
    "from nltk.corpus import stopwords\n",
    "# build the targets\n",
    "stopwords = stopwords.words('portuguese') + ['esse', 'ser', 'ele', 'isso']\n",
    "targets = Counter([opinion_node.get('target').lower()\n",
    "                    for opinion_node in trainset.iter('Opinion')\n",
    "                    if opinion_node.get('target') != 'NULL' and\n",
    "                       opinion_node.get('target').lower() not in stopwords\n",
    "                   ])\n",
    "\n",
    "# print the targets\n",
    "import ipy_table\n",
    "data = [['freq', '%freq', 'target']]\n",
    "for target, freq in targets.most_common(20):\n",
    "    ratio = freq / sum(targets.values()) *100\n",
    "    data.append([freq, '{:.1f}%'.format(ratio), target])\n",
    "\n",
    "ipy_table.make_table(data)\n",
    "ipy_table.apply_theme('basic')"
   ]
  },
  {
   "cell_type": "code",
   "execution_count": 49,
   "metadata": {
    "collapsed": false
   },
   "outputs": [],
   "source": [
    "import re\n",
    "\n",
    "# function to evaluate targets in testset and return precision, recall and f-measure\n",
    "def evaluate(targets):\n",
    "\n",
    "    # Build a regex to match the targets in the text\n",
    "    targets_list = sorted(list(targets))\n",
    "    targets_list.sort(key=len, reverse=True)\n",
    "    targets_pattern = r'\\b(' + '|'.join([re.escape(t) for t in targets_list]) + r')\\b'\n",
    "\n",
    "    test_gold = list()\n",
    "    prediction = list()\n",
    "\n",
    "    for sentence_node in testset.iter('sentence'):    \n",
    "        sentence_opinions = []\n",
    "        for opinion_node in sentence_node.iter('Opinion'):\n",
    "            target = opinion_node.get('target')\n",
    "            start = int(opinion_node.get('from'))\n",
    "            end = int(opinion_node.get('to'))\n",
    "            # evaluation explicit says to discart NULL values\n",
    "            if target != 'NULL':\n",
    "                sentence_opinions.append((target, start, end))\n",
    "        test_gold.append(sentence_opinions)\n",
    "\n",
    "        text = sentence_node.xpath('./text/text()')[0]\n",
    "        text_opinions = []\n",
    "\n",
    "        for m in re.finditer(targets_pattern, text, flags=re.I):\n",
    "            text_opinions.append( (m.group(), m.start(), m.end()) )\n",
    "        prediction.append(text_opinions)\n",
    "        \n",
    "    # Micro-averaged Precision\n",
    "    correct = 0\n",
    "    total = 0\n",
    "    for index in range(len(list(testset.iter('sentence')))):\n",
    "        correct += len([x for x in test_gold[index] if x in prediction[index]])\n",
    "        total += len(prediction[index])\n",
    "\n",
    "    precision = 100 * correct / total    \n",
    "\n",
    "    # Micro-averaged Recall\n",
    "    correct = 0\n",
    "    total = 0\n",
    "    for index in range(len(list(testset.iter('sentence')))):\n",
    "        correct += len([x for x in test_gold[index] if x in prediction[index]])\n",
    "        total += len(test_gold[index])\n",
    "\n",
    "    recall = 100* correct / total\n",
    "    \n",
    "    # F-measure\n",
    "    if precision + recall != 0:\n",
    "        fmeasure = (2 * precision * recall) / (precision + recall)\n",
    "    else:\n",
    "        fmeasure = 0\n",
    "    \n",
    "    return (precision, recall, fmeasure)\n",
    "    \n",
    "  "
   ]
  },
  {
   "cell_type": "code",
   "execution_count": 47,
   "metadata": {
    "collapsed": false
   },
   "outputs": [
    {
     "name": "stdout",
     "output_type": "stream",
     "text": [
      "Precision: 7.14%\n",
      "Recall: 82.26%\n",
      "F-measure: 13.13%\n"
     ]
    }
   ],
   "source": [
    "precision, recall, fmeasure = evaluate(targets)\n",
    "print('Precision: {:.2f}%'.format(precision))\n",
    "print('Recall: {:.2f}%'.format(recall))\n",
    "print('F-measure: {:.2f}%'.format(fmeasure))"
   ]
  },
  {
   "cell_type": "markdown",
   "metadata": {},
   "source": [
    "## 3. All aspects in trainset with a cut in frequency"
   ]
  },
  {
   "cell_type": "code",
   "execution_count": 60,
   "metadata": {
    "collapsed": false
   },
   "outputs": [
    {
     "data": {
      "text/html": [
       "<table border=\"1\" cellpadding=\"3\" cellspacing=\"0\"  style=\"border:1px solid black;border-collapse:collapse;\"><tr><td  style=\"background-color:LightGray;\"><b>cut</b></td><td  style=\"background-color:LightGray;\"><b>number&nbspof&nbsptargets</b></td><td  style=\"background-color:LightGray;\"><b>precision</b></td><td  style=\"background-color:LightGray;\"><b>recall</b></td><td  style=\"background-color:LightGray;\"><b>f-measure</b></td></tr><tr><td  style=\"background-color:Ivory;\">0.0%</td><td  style=\"background-color:Ivory;\">436</td><td  style=\"background-color:Ivory;\">7.14%</td><td  style=\"background-color:Ivory;\">82.26%</td><td  style=\"background-color:Ivory;\">13.13%</td></tr><tr><td  style=\"background-color:AliceBlue;\">1.0%</td><td  style=\"background-color:AliceBlue;\">15</td><td  style=\"background-color:AliceBlue;\">25.66%</td><td  style=\"background-color:AliceBlue;\">64.95%</td><td  style=\"background-color:AliceBlue;\">36.79%</td></tr><tr><td  style=\"background-color:Ivory;\">2.0%</td><td  style=\"background-color:Ivory;\">7</td><td  style=\"background-color:Ivory;\">30.27%</td><td  style=\"background-color:Ivory;\">55.51%</td><td  style=\"background-color:Ivory;\">39.17%</td></tr><tr><td  style=\"background-color:AliceBlue;\">3.0%</td><td  style=\"background-color:AliceBlue;\">3</td><td  style=\"background-color:AliceBlue;\">31.39%</td><td  style=\"background-color:AliceBlue;\">45.35%</td><td  style=\"background-color:AliceBlue;\">37.10%</td></tr><tr><td  style=\"background-color:Ivory;\">4.0%</td><td  style=\"background-color:Ivory;\">3</td><td  style=\"background-color:Ivory;\">31.39%</td><td  style=\"background-color:Ivory;\">45.35%</td><td  style=\"background-color:Ivory;\">37.10%</td></tr><tr><td  style=\"background-color:AliceBlue;\">5.0%</td><td  style=\"background-color:AliceBlue;\">2</td><td  style=\"background-color:AliceBlue;\">31.85%</td><td  style=\"background-color:AliceBlue;\">41.92%</td><td  style=\"background-color:AliceBlue;\">36.20%</td></tr><tr><td  style=\"background-color:Ivory;\">6.0%</td><td  style=\"background-color:Ivory;\">2</td><td  style=\"background-color:Ivory;\">31.85%</td><td  style=\"background-color:Ivory;\">41.92%</td><td  style=\"background-color:Ivory;\">36.20%</td></tr><tr><td  style=\"background-color:AliceBlue;\">7.0%</td><td  style=\"background-color:AliceBlue;\">2</td><td  style=\"background-color:AliceBlue;\">31.85%</td><td  style=\"background-color:AliceBlue;\">41.92%</td><td  style=\"background-color:AliceBlue;\">36.20%</td></tr><tr><td  style=\"background-color:Ivory;\">8.0%</td><td  style=\"background-color:Ivory;\">1</td><td  style=\"background-color:Ivory;\">33.57%</td><td  style=\"background-color:Ivory;\">33.62%</td><td  style=\"background-color:Ivory;\">33.60%</td></tr><tr><td  style=\"background-color:AliceBlue;\">9.0%</td><td  style=\"background-color:AliceBlue;\">1</td><td  style=\"background-color:AliceBlue;\">33.57%</td><td  style=\"background-color:AliceBlue;\">33.62%</td><td  style=\"background-color:AliceBlue;\">33.60%</td></tr><tr><td  style=\"background-color:Ivory;\">10.0%</td><td  style=\"background-color:Ivory;\">1</td><td  style=\"background-color:Ivory;\">33.57%</td><td  style=\"background-color:Ivory;\">33.62%</td><td  style=\"background-color:Ivory;\">33.60%</td></tr></table>"
      ],
      "text/plain": [
       "<ipy_table.IpyTable at 0x7fe74fac66a0>"
      ]
     },
     "execution_count": 60,
     "metadata": {},
     "output_type": "execute_result"
    }
   ],
   "source": [
    "# build the targets\n",
    "targets = Counter([opinion_node.get('target').lower()\n",
    "                    for opinion_node in trainset.iter('Opinion')\n",
    "                    if opinion_node.get('target') != 'NULL'])\n",
    "\n",
    "data = [['cut', 'number of targets', 'precision', 'recall', 'f-measure']]\n",
    "for min_freq in range(0,11,1):\n",
    "    target_list = [target for target, freq in targets.items() if freq/sum(targets.values()) >= min_freq/100]\n",
    "    precision, recall, fmeasure = evaluate(target_list)\n",
    "    data.append(['{:.1f}%'.format(min_freq), \n",
    "                 len(target_list),\n",
    "                 '{:.2f}%'.format(precision), \n",
    "                 '{:.2f}%'.format(recall), \n",
    "                 '{:.2f}%'.format(fmeasure)])\n",
    "\n",
    "ipy_table.make_table(data)\n",
    "ipy_table.apply_theme('basic')"
   ]
  },
  {
   "cell_type": "markdown",
   "metadata": {},
   "source": [
    "## 3. All aspects with relative frequency\n",
    " \n",
    "The token must happen % of the time annotated as aspect in the text."
   ]
  },
  {
   "cell_type": "code",
   "execution_count": 64,
   "metadata": {
    "collapsed": false
   },
   "outputs": [
    {
     "data": {
      "text/html": [
       "<table border=\"1\" cellpadding=\"3\" cellspacing=\"0\"  style=\"border:1px solid black;border-collapse:collapse;\"><tr><td  style=\"background-color:LightGray;\"><b>cut</b></td><td  style=\"background-color:LightGray;\"><b>number&nbspof&nbsptargets</b></td><td  style=\"background-color:LightGray;\"><b>precision</b></td><td  style=\"background-color:LightGray;\"><b>recall</b></td><td  style=\"background-color:LightGray;\"><b>f-measure</b></td></tr><tr><td  style=\"background-color:Ivory;\">0.0%</td><td  style=\"background-color:Ivory;\">436</td><td  style=\"background-color:Ivory;\">7.14%</td><td  style=\"background-color:Ivory;\">82.26%</td><td  style=\"background-color:Ivory;\">13.13%</td></tr><tr><td  style=\"background-color:AliceBlue;\">5.0%</td><td  style=\"background-color:AliceBlue;\">406</td><td  style=\"background-color:AliceBlue;\">16.65%</td><td  style=\"background-color:AliceBlue;\">80.11%</td><td  style=\"background-color:AliceBlue;\">27.57%</td></tr><tr><td  style=\"background-color:Ivory;\">10.0%</td><td  style=\"background-color:Ivory;\">390</td><td  style=\"background-color:Ivory;\">19.03%</td><td  style=\"background-color:Ivory;\">78.25%</td><td  style=\"background-color:Ivory;\">30.61%</td></tr><tr><td  style=\"background-color:AliceBlue;\">15.0%</td><td  style=\"background-color:AliceBlue;\">373</td><td  style=\"background-color:AliceBlue;\">21.94%</td><td  style=\"background-color:AliceBlue;\">74.82%</td><td  style=\"background-color:AliceBlue;\">33.93%</td></tr><tr><td  style=\"background-color:Ivory;\">20.0%</td><td  style=\"background-color:Ivory;\">367</td><td  style=\"background-color:Ivory;\">22.74%</td><td  style=\"background-color:Ivory;\">74.11%</td><td  style=\"background-color:Ivory;\">34.80%</td></tr><tr><td  style=\"background-color:AliceBlue;\">25.0%</td><td  style=\"background-color:AliceBlue;\">344</td><td  style=\"background-color:AliceBlue;\">25.34%</td><td  style=\"background-color:AliceBlue;\">70.24%</td><td  style=\"background-color:AliceBlue;\">37.24%</td></tr><tr><td  style=\"background-color:Ivory;\">30.0%</td><td  style=\"background-color:Ivory;\">340</td><td  style=\"background-color:Ivory;\">25.71%</td><td  style=\"background-color:Ivory;\">70.24%</td><td  style=\"background-color:Ivory;\">37.64%</td></tr><tr><td  style=\"background-color:AliceBlue;\">35.0%</td><td  style=\"background-color:AliceBlue;\">320</td><td  style=\"background-color:AliceBlue;\">26.25%</td><td  style=\"background-color:AliceBlue;\">68.53%</td><td  style=\"background-color:AliceBlue;\">37.96%</td></tr><tr><td  style=\"background-color:Ivory;\">40.0%</td><td  style=\"background-color:Ivory;\">318</td><td  style=\"background-color:Ivory;\">26.57%</td><td  style=\"background-color:Ivory;\">67.95%</td><td  style=\"background-color:Ivory;\">38.20%</td></tr><tr><td  style=\"background-color:AliceBlue;\">45.0%</td><td  style=\"background-color:AliceBlue;\">318</td><td  style=\"background-color:AliceBlue;\">26.57%</td><td  style=\"background-color:AliceBlue;\">67.95%</td><td  style=\"background-color:AliceBlue;\">38.20%</td></tr><tr><td  style=\"background-color:Ivory;\">50.0%</td><td  style=\"background-color:Ivory;\">317</td><td  style=\"background-color:Ivory;\">26.68%</td><td  style=\"background-color:Ivory;\">67.67%</td><td  style=\"background-color:Ivory;\">38.27%</td></tr><tr><td  style=\"background-color:AliceBlue;\">55.0%</td><td  style=\"background-color:AliceBlue;\">291</td><td  style=\"background-color:AliceBlue;\">27.77%</td><td  style=\"background-color:AliceBlue;\">64.52%</td><td  style=\"background-color:AliceBlue;\">38.83%</td></tr><tr><td  style=\"background-color:Ivory;\">60.0%</td><td  style=\"background-color:Ivory;\">288</td><td  style=\"background-color:Ivory;\">28.22%</td><td  style=\"background-color:Ivory;\">64.23%</td><td  style=\"background-color:Ivory;\">39.21%</td></tr><tr><td  style=\"background-color:AliceBlue;\">65.0%</td><td  style=\"background-color:AliceBlue;\">286</td><td  style=\"background-color:AliceBlue;\">29.06%</td><td  style=\"background-color:AliceBlue;\">62.52%</td><td  style=\"background-color:AliceBlue;\">39.67%</td></tr><tr><td  style=\"background-color:Ivory;\">70.0%</td><td  style=\"background-color:Ivory;\">280</td><td  style=\"background-color:Ivory;\">29.58%</td><td  style=\"background-color:Ivory;\">48.93%</td><td  style=\"background-color:Ivory;\">36.87%</td></tr><tr><td  style=\"background-color:AliceBlue;\">75.0%</td><td  style=\"background-color:AliceBlue;\">276</td><td  style=\"background-color:AliceBlue;\">30.29%</td><td  style=\"background-color:AliceBlue;\">43.63%</td><td  style=\"background-color:AliceBlue;\">35.76%</td></tr><tr><td  style=\"background-color:Ivory;\">80.0%</td><td  style=\"background-color:Ivory;\">275</td><td  style=\"background-color:Ivory;\">30.41%</td><td  style=\"background-color:Ivory;\">43.63%</td><td  style=\"background-color:Ivory;\">35.84%</td></tr><tr><td  style=\"background-color:AliceBlue;\">85.0%</td><td  style=\"background-color:AliceBlue;\">272</td><td  style=\"background-color:AliceBlue;\">30.67%</td><td  style=\"background-color:AliceBlue;\">43.35%</td><td  style=\"background-color:AliceBlue;\">35.92%</td></tr><tr><td  style=\"background-color:Ivory;\">90.0%</td><td  style=\"background-color:Ivory;\">272</td><td  style=\"background-color:Ivory;\">30.67%</td><td  style=\"background-color:Ivory;\">43.35%</td><td  style=\"background-color:Ivory;\">35.92%</td></tr><tr><td  style=\"background-color:AliceBlue;\">95.0%</td><td  style=\"background-color:AliceBlue;\">272</td><td  style=\"background-color:AliceBlue;\">30.67%</td><td  style=\"background-color:AliceBlue;\">43.35%</td><td  style=\"background-color:AliceBlue;\">35.92%</td></tr></table>"
      ],
      "text/plain": [
       "<ipy_table.IpyTable at 0x7fe74f985be0>"
      ]
     },
     "execution_count": 64,
     "metadata": {},
     "output_type": "execute_result"
    }
   ],
   "source": [
    "sentences = ' '.join([node.get('form').lower() for node in testset.iter('word')])\n",
    "freqlist =  Counter([node.get('target').lower() for node in testset.iter('Opinion')])\n",
    "\n",
    "# build the targets\n",
    "targets = Counter([opinion_node.get('target').lower()\n",
    "                    for opinion_node in trainset.iter('Opinion')\n",
    "                    if opinion_node.get('target') != 'NULL'])\n",
    "\n",
    "data = [['cut', 'number of targets', 'precision', 'recall', 'f-measure']]\n",
    "for min_freq in range(0,100,5):\n",
    "    \n",
    "    target_list = [target for target, freq in targets.items() if freq/max(sentences.count(' ' + target + ' '),0.00001) >= min_freq/100]\n",
    "        \n",
    "    precision, recall, fmeasure = evaluate(target_list)\n",
    "    data.append(['{:.1f}%'.format(min_freq), \n",
    "                 len(target_list),\n",
    "                 '{:.2f}%'.format(precision), \n",
    "                 '{:.2f}%'.format(recall), \n",
    "                 '{:.2f}%'.format(fmeasure)])\n",
    "\n",
    "ipy_table.make_table(data)\n",
    "ipy_table.apply_theme('basic')"
   ]
  },
  {
   "cell_type": "code",
   "execution_count": null,
   "metadata": {
    "collapsed": true
   },
   "outputs": [],
   "source": []
  }
 ],
 "metadata": {
  "kernelspec": {
   "display_name": "Python 3",
   "language": "python",
   "name": "python3"
  },
  "language_info": {
   "codemirror_mode": {
    "name": "ipython",
    "version": 3
   },
   "file_extension": ".py",
   "mimetype": "text/x-python",
   "name": "python",
   "nbconvert_exporter": "python",
   "pygments_lexer": "ipython3",
   "version": "3.5.1+"
  }
 },
 "nbformat": 4,
 "nbformat_minor": 0
}

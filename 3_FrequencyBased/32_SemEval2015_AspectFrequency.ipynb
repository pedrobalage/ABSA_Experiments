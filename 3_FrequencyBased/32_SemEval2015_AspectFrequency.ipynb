{
 "cells": [
  {
   "cell_type": "markdown",
   "metadata": {},
   "source": [
    "## Baseline - Frequent Aspect Extraction\n",
    "Baseline is a adaptation for the baseline used in he opinion target extraction (OTE) for 2014, 2015 and 2016 versions of SemEval Aspect-Based Sentiment Analysis Task.\n",
    "\n",
    "Source:\n",
    "\n",
    "Pontiki, M., Galanis, D., Pavlopoulos, J., Papageorgiou, H., Androutsopoulos, I., & Manandhar, S. (2014, August). Semeval-2014 task 4: Aspect based sentiment analysis. In Proceedings of the 8th international workshop on semantic evaluation (SemEval 2014) (pp. 27-35).\n",
    "\n",
    "Pontiki, M., Galanis, D., Papageorgiou, H., Manandhar, S., & Androutsopoulos, I. (2015, June). Semeval-2015 task 12: Aspect based sentiment analysis. In Proceedings of the 9th International Workshop on Semantic Evaluation (SemEval 2015), Association for Computational Linguistics, Denver, Colorado (pp. 486-495)."
   ]
  },
  {
   "cell_type": "code",
   "execution_count": 1,
   "metadata": {
    "collapsed": true
   },
   "outputs": [],
   "source": [
    "from __future__ import unicode_literals\n",
    "from __future__ import division\n",
    "from __future__ import print_function"
   ]
  },
  {
   "cell_type": "code",
   "execution_count": 2,
   "metadata": {
    "collapsed": false
   },
   "outputs": [],
   "source": [
    "from lxml import etree\n",
    "parser = etree.XMLParser(remove_blank_text=True)\n",
    "trainset = etree.parse('../corpus/SemEvalABSA2015EnglishRestaurants_train.xml', parser)\n",
    "testset = etree.parse('../corpus/SemEvalABSA2015EnglishRestaurants_test.xml', parser)"
   ]
  },
  {
   "cell_type": "markdown",
   "metadata": {},
   "source": [
    "## 1. All aspects in trainset"
   ]
  },
  {
   "cell_type": "code",
   "execution_count": 3,
   "metadata": {
    "collapsed": false
   },
   "outputs": [],
   "source": [
    "from collections import Counter\n",
    "targets = Counter([opinion_node.get('target').lower()\n",
    "                    for opinion_node in trainset.iter('Opinion')\n",
    "                    if opinion_node.get('target') != 'NULL'\n",
    "                   ])"
   ]
  },
  {
   "cell_type": "code",
   "execution_count": 4,
   "metadata": {
    "collapsed": false
   },
   "outputs": [
    {
     "data": {
      "text/html": [
       "<table border=\"1\" cellpadding=\"3\" cellspacing=\"0\"  style=\"border:1px solid black;border-collapse:collapse;\"><tr><td  style=\"background-color:LightGray;\"><b>freq</b></td><td  style=\"background-color:LightGray;\"><b>%freq</b></td><td  style=\"background-color:LightGray;\"><b>target</b></td></tr><tr><td  style=\"background-color:Ivory;\">158</td><td  style=\"background-color:Ivory;\">12.4%</td><td  style=\"background-color:Ivory;\">food</td></tr><tr><td  style=\"background-color:AliceBlue;\">117</td><td  style=\"background-color:AliceBlue;\">9.1%</td><td  style=\"background-color:AliceBlue;\">service</td></tr><tr><td  style=\"background-color:Ivory;\">82</td><td  style=\"background-color:Ivory;\">6.4%</td><td  style=\"background-color:Ivory;\">place</td></tr><tr><td  style=\"background-color:AliceBlue;\">29</td><td  style=\"background-color:AliceBlue;\">2.3%</td><td  style=\"background-color:AliceBlue;\">restaurant</td></tr><tr><td  style=\"background-color:Ivory;\">27</td><td  style=\"background-color:Ivory;\">2.1%</td><td  style=\"background-color:Ivory;\">staff</td></tr><tr><td  style=\"background-color:AliceBlue;\">26</td><td  style=\"background-color:AliceBlue;\">2.0%</td><td  style=\"background-color:AliceBlue;\">pizza</td></tr><tr><td  style=\"background-color:Ivory;\">21</td><td  style=\"background-color:Ivory;\">1.6%</td><td  style=\"background-color:Ivory;\">atmosphere</td></tr><tr><td  style=\"background-color:AliceBlue;\">20</td><td  style=\"background-color:AliceBlue;\">1.6%</td><td  style=\"background-color:AliceBlue;\">sushi</td></tr><tr><td  style=\"background-color:Ivory;\">16</td><td  style=\"background-color:Ivory;\">1.3%</td><td  style=\"background-color:Ivory;\">decor</td></tr><tr><td  style=\"background-color:AliceBlue;\">13</td><td  style=\"background-color:AliceBlue;\">1.0%</td><td  style=\"background-color:AliceBlue;\">ambience</td></tr><tr><td  style=\"background-color:Ivory;\">12</td><td  style=\"background-color:Ivory;\">0.9%</td><td  style=\"background-color:Ivory;\">menu</td></tr><tr><td  style=\"background-color:AliceBlue;\">12</td><td  style=\"background-color:AliceBlue;\">0.9%</td><td  style=\"background-color:AliceBlue;\">fish</td></tr><tr><td  style=\"background-color:Ivory;\">10</td><td  style=\"background-color:Ivory;\">0.8%</td><td  style=\"background-color:Ivory;\">dishes</td></tr><tr><td  style=\"background-color:AliceBlue;\">10</td><td  style=\"background-color:AliceBlue;\">0.8%</td><td  style=\"background-color:AliceBlue;\">wine&nbsplist</td></tr><tr><td  style=\"background-color:Ivory;\">10</td><td  style=\"background-color:Ivory;\">0.8%</td><td  style=\"background-color:Ivory;\">bagels</td></tr><tr><td  style=\"background-color:AliceBlue;\">9</td><td  style=\"background-color:AliceBlue;\">0.7%</td><td  style=\"background-color:AliceBlue;\">drinks</td></tr><tr><td  style=\"background-color:Ivory;\">9</td><td  style=\"background-color:Ivory;\">0.7%</td><td  style=\"background-color:Ivory;\">dessert</td></tr><tr><td  style=\"background-color:AliceBlue;\">9</td><td  style=\"background-color:AliceBlue;\">0.7%</td><td  style=\"background-color:AliceBlue;\">waiter</td></tr><tr><td  style=\"background-color:Ivory;\">9</td><td  style=\"background-color:Ivory;\">0.7%</td><td  style=\"background-color:Ivory;\">portions</td></tr><tr><td  style=\"background-color:AliceBlue;\">8</td><td  style=\"background-color:AliceBlue;\">0.6%</td><td  style=\"background-color:AliceBlue;\">wine</td></tr></table>"
      ],
      "text/plain": [
       "<ipy_table.IpyTable at 0x7f7d1c15bcf8>"
      ]
     },
     "execution_count": 4,
     "metadata": {},
     "output_type": "execute_result"
    }
   ],
   "source": [
    "import ipy_table\n",
    "\n",
    "data = [['freq', '%freq', 'target']]\n",
    "for target, freq in targets.most_common(20):\n",
    "    ratio = freq / sum(targets.values()) *100\n",
    "    data.append([freq, '{:.1f}%'.format(ratio), target])\n",
    "\n",
    "ipy_table.make_table(data)\n",
    "ipy_table.apply_theme('basic')"
   ]
  },
  {
   "cell_type": "code",
   "execution_count": 5,
   "metadata": {
    "collapsed": false
   },
   "outputs": [
    {
     "data": {
      "text/plain": [
       "493"
      ]
     },
     "execution_count": 5,
     "metadata": {},
     "output_type": "execute_result"
    }
   ],
   "source": [
    "# Build a regex to match the targets in the text\n",
    "import re\n",
    "targets_list = sorted(list(targets))\n",
    "targets_list.sort(key=len, reverse=True)\n",
    "targets_pattern = r'\\b(' + '|'.join([re.escape(t) for t in targets_list]) + r')\\b'\n",
    "len(targets_list)"
   ]
  },
  {
   "cell_type": "code",
   "execution_count": 6,
   "metadata": {
    "collapsed": false
   },
   "outputs": [],
   "source": [
    "test_gold = list()\n",
    "prediction = list()\n",
    "\n",
    "for sentence_node in testset.iter('sentence'):    \n",
    "    sentence_opinions = []\n",
    "    for opinion_node in sentence_node.iter('Opinion'):\n",
    "        target = opinion_node.get('target')\n",
    "        start = int(opinion_node.get('from'))\n",
    "        end = int(opinion_node.get('to'))\n",
    "        # evaluation explicit says to discart NULL values\n",
    "        if target != 'NULL':\n",
    "            sentence_opinions.append((target, start, end))\n",
    "    test_gold.append(sentence_opinions)\n",
    "    \n",
    "    text = sentence_node.xpath('./text/text()')[0]\n",
    "    text_opinions = []\n",
    "    \n",
    "    for m in re.finditer(targets_pattern, text, flags=re.I):\n",
    "        text_opinions.append( (m.group(), m.start(), m.end()) )\n",
    "    prediction.append(text_opinions)"
   ]
  },
  {
   "cell_type": "code",
   "execution_count": 7,
   "metadata": {
    "collapsed": false
   },
   "outputs": [
    {
     "data": {
      "text/html": [
       "<table border=\"1\" cellpadding=\"3\" cellspacing=\"0\"  style=\"border:1px solid black;border-collapse:collapse;\"><tr><td  style=\"background-color:LightGray;\"><b>Gold Standard</b></td><td  style=\"background-color:LightGray;\"><b>Predicted</b></td><td  style=\"background-color:LightGray;\"><b>Sentence</b></td></tr><tr><td  style=\"background-color:Ivory;\">[('Al Di La', 5, 13)]</td><td  style=\"background-color:Ivory;\">[]</td><td  style=\"background-color:Ivory;\">Love Al Di La</td></tr><tr><td  style=\"background-color:AliceBlue;\">[('place', 17, 22)]</td><td  style=\"background-color:AliceBlue;\">[('place', 17, 22)]</td><td  style=\"background-color:AliceBlue;\">I recommend this place to everyone.</td></tr><tr><td  style=\"background-color:Ivory;\">[('food', 6, 10)]</td><td  style=\"background-color:Ivory;\">[('food', 6, 10)]</td><td  style=\"background-color:Ivory;\">Great food.</td></tr><tr><td  style=\"background-color:AliceBlue;\">[]</td><td  style=\"background-color:AliceBlue;\">[]</td><td  style=\"background-color:AliceBlue;\">One of my favorite places in Brooklyn. </td></tr><tr><td  style=\"background-color:Ivory;\">[('pastas', 4, 10), ('risottos', 31, 39), ('sepia', 58, 63), ('braised rabbit', 87, 101)]</td><td  style=\"background-color:Ivory;\">[('pastas', 4, 10)]</td><td  style=\"background-color:Ivory;\">The pastas are incredible, the risottos (particularly the sepia) are fantastic and the braised rabbit is amazing.</td></tr><tr><td  style=\"background-color:AliceBlue;\">[]</td><td  style=\"background-color:AliceBlue;\">[]</td><td  style=\"background-color:AliceBlue;\">Overpriced and not tasty </td></tr><tr><td  style=\"background-color:Ivory;\">[('food', 4, 8)]</td><td  style=\"background-color:Ivory;\">[('food', 4, 8)]</td><td  style=\"background-color:Ivory;\">The food here was mediocre at best. </td></tr><tr><td  style=\"background-color:AliceBlue;\">[('fish and chips', 27, 41)]</td><td  style=\"background-color:AliceBlue;\">[('fish and chips', 27, 41)]</td><td  style=\"background-color:AliceBlue;\">It was totally overpriced- fish and chips was about $15.... </td></tr><tr><td  style=\"background-color:Ivory;\">[]</td><td  style=\"background-color:Ivory;\">[('drink', 54, 59), ('place', 70, 75)]</td><td  style=\"background-color:Ivory;\">There are so many other great places to go to eat and drink..... this place is not worth it...</td></tr><tr><td  style=\"background-color:AliceBlue;\">[('Dog', 6, 9)]</td><td  style=\"background-color:AliceBlue;\">[]</td><td  style=\"background-color:AliceBlue;\">Tasty Dog!</td></tr><tr><td  style=\"background-color:Ivory;\">[('dog', 19, 22), ('establishment', 53, 66)]</td><td  style=\"background-color:Ivory;\">[]</td><td  style=\"background-color:Ivory;\">An awesome organic dog, and a conscious eco friendly establishment.</td></tr><tr><td  style=\"background-color:AliceBlue;\">[]</td><td  style=\"background-color:AliceBlue;\">[]</td><td  style=\"background-color:AliceBlue;\">One of the best hot dogs I have ever eaten.</td></tr><tr><td  style=\"background-color:Ivory;\">[]</td><td  style=\"background-color:Ivory;\">[('wait', 6, 10)]</td><td  style=\"background-color:Ivory;\">Can't wait to go back.</td></tr><tr><td  style=\"background-color:AliceBlue;\">[('Cypriot restaurant', 4, 22)]</td><td  style=\"background-color:AliceBlue;\">[('restaurant', 12, 22)]</td><td  style=\"background-color:AliceBlue;\">The Cypriot restaurant has a lot going for it.</td></tr><tr><td  style=\"background-color:Ivory;\">[('pork souvlaki', 13, 26)]</td><td  style=\"background-color:Ivory;\">[]</td><td  style=\"background-color:Ivory;\">But the best pork souvlaki I ever had is the main thing.</td></tr><tr><td  style=\"background-color:AliceBlue;\">[]</td><td  style=\"background-color:AliceBlue;\">[]</td><td  style=\"background-color:AliceBlue;\">Trust me.</td></tr><tr><td  style=\"background-color:Ivory;\">[]</td><td  style=\"background-color:Ivory;\">[]</td><td  style=\"background-color:Ivory;\">Run don't walk.</td></tr><tr><td  style=\"background-color:AliceBlue;\">[('Pizza', 12, 17)]</td><td  style=\"background-color:AliceBlue;\">[('Pizza', 12, 17)]</td><td  style=\"background-color:AliceBlue;\">Super YUMMY Pizza!</td></tr><tr><td  style=\"background-color:Ivory;\">[('restaurant', 91, 101)]</td><td  style=\"background-color:Ivory;\">[('restaurant', 91, 101)]</td><td  style=\"background-color:Ivory;\">I was visiting New York City with a friend and we discovered this really warm and inviting restaurant.</td></tr><tr><td  style=\"background-color:AliceBlue;\">[('eggplant pizza', 15, 29), ('pastas', 48, 54)]</td><td  style=\"background-color:AliceBlue;\">[('pizza', 24, 29), ('pastas', 48, 54)]</td><td  style=\"background-color:AliceBlue;\">I LOOOVE their eggplant pizza, as well as their pastas!</td></tr><tr><td  style=\"background-color:Ivory;\">[('half/half pizza', 7, 22)]</td><td  style=\"background-color:Ivory;\">[('pizza', 17, 22), ('pizza', 110, 115)]</td><td  style=\"background-color:Ivory;\">We had half/half pizza, mine was eggplant and my friend had the buffalo and it was sooo huge for a small size pizza!</td></tr><tr><td  style=\"background-color:AliceBlue;\">[]</td><td  style=\"background-color:AliceBlue;\">[]</td><td  style=\"background-color:AliceBlue;\">We had fun eating in there, we were there like around 3 a.m. in the morning!</td></tr><tr><td  style=\"background-color:Ivory;\">[]</td><td  style=\"background-color:Ivory;\">[]</td><td  style=\"background-color:Ivory;\">Will comeback for sure, wish they have it here in LA..</td></tr><tr><td  style=\"background-color:AliceBlue;\">[('food', 10, 14), ('interior', 29, 37)]</td><td  style=\"background-color:AliceBlue;\">[('food', 10, 14)]</td><td  style=\"background-color:AliceBlue;\">Excellent food, although the interior could use some help.</td></tr><tr><td  style=\"background-color:Ivory;\">[('space', 4, 9)]</td><td  style=\"background-color:Ivory;\">[('setting', 52, 59)]</td><td  style=\"background-color:Ivory;\">The space kind of feels like an Alice in Wonderland setting, without it trying to be that.</td></tr><tr><td  style=\"background-color:AliceBlue;\">[('meal', 33, 37), ('meal', 33, 37)]</td><td  style=\"background-color:AliceBlue;\">[('good', 28, 32), ('meal', 33, 37)]</td><td  style=\"background-color:AliceBlue;\">I paid just about $60 for a good meal, though :)</td></tr><tr><td  style=\"background-color:Ivory;\">[('sake', 6, 10)]</td><td  style=\"background-color:Ivory;\">[]</td><td  style=\"background-color:Ivory;\">Great sake!</td></tr><tr><td  style=\"background-color:AliceBlue;\">[('Sushi', 16, 21)]</td><td  style=\"background-color:AliceBlue;\">[('Sushi', 16, 21)]</td><td  style=\"background-color:AliceBlue;\">Reliable, Fresh Sushi</td></tr><tr><td  style=\"background-color:Ivory;\">[]</td><td  style=\"background-color:Ivory;\">[]</td><td  style=\"background-color:Ivory;\">My husband and I take out from here 3-4 times a month.</td></tr><tr><td  style=\"background-color:AliceBlue;\">[('sashimi', 4, 11), ('rolls', 36, 41), ('rolls', 36, 41)]</td><td  style=\"background-color:AliceBlue;\">[('sashimi', 4, 11), ('rolls', 36, 41)]</td><td  style=\"background-color:AliceBlue;\">The sashimi is always fresh and the rolls are innovative and delicious.</td></tr><tr><td  style=\"background-color:Ivory;\">[('service', 30, 37)]</td><td  style=\"background-color:Ivory;\">[('service', 30, 37), ('rice', 53, 57)]</td><td  style=\"background-color:Ivory;\">Have never had a problem with service save a missing rice once.</td></tr><tr><td  style=\"background-color:AliceBlue;\">[('Delivery', 0, 8)]</td><td  style=\"background-color:AliceBlue;\">[('Delivery', 0, 8), ('spot', 16, 20)]</td><td  style=\"background-color:AliceBlue;\">Delivery can be spot on or lacking depending on the weather and the day of the week.</td></tr><tr><td  style=\"background-color:Ivory;\">[('Delivery guy', 0, 12)]</td><td  style=\"background-color:Ivory;\">[('Delivery', 0, 8)]</td><td  style=\"background-color:Ivory;\">Delivery guy sometimes get upset if you don't tip more than 10%.</td></tr><tr><td  style=\"background-color:AliceBlue;\">[]</td><td  style=\"background-color:AliceBlue;\">[]</td><td  style=\"background-color:AliceBlue;\">We've found it to be better and fresher than Kiku which is comparable in price.</td></tr><tr><td  style=\"background-color:Ivory;\">[('Sushi', 6, 11)]</td><td  style=\"background-color:Ivory;\">[('Sushi', 6, 11)]</td><td  style=\"background-color:Ivory;\">Best. Sushi. Ever.</td></tr><tr><td  style=\"background-color:AliceBlue;\">[('sushi', 42, 47)]</td><td  style=\"background-color:AliceBlue;\">[('place', 5, 10), ('neighborhood', 29, 41), ('sushi', 42, 47)]</td><td  style=\"background-color:AliceBlue;\">This place has ruined me for neighborhood sushi.</td></tr><tr><td  style=\"background-color:Ivory;\">[]</td><td  style=\"background-color:Ivory;\">[]</td><td  style=\"background-color:Ivory;\">Creative, consistent, fresh.</td></tr><tr><td  style=\"background-color:AliceBlue;\">[('sashimi', 10, 17), ('millennium roll', 27, 42)]</td><td  style=\"background-color:AliceBlue;\">[('sashimi', 10, 17)]</td><td  style=\"background-color:AliceBlue;\">Excellent sashimi, and the millennium roll is beyond delicious.</td></tr><tr><td  style=\"background-color:Ivory;\">[]</td><td  style=\"background-color:Ivory;\">[]</td><td  style=\"background-color:Ivory;\">Not cheap but very yummy.</td></tr><tr><td  style=\"background-color:AliceBlue;\">[]</td><td  style=\"background-color:AliceBlue;\">[]</td><td  style=\"background-color:AliceBlue;\">Love it.</td></tr><tr><td  style=\"background-color:Ivory;\">[]</td><td  style=\"background-color:Ivory;\">[]</td><td  style=\"background-color:Ivory;\">Very, very nice</td></tr><tr><td  style=\"background-color:AliceBlue;\">[('place', 4, 9), ('place', 4, 9)]</td><td  style=\"background-color:AliceBlue;\">[('place', 4, 9)]</td><td  style=\"background-color:AliceBlue;\">The place is a bit hidden away, but once you get there, it's all worth it.</td></tr><tr><td  style=\"background-color:Ivory;\">[('food', 16, 20)]</td><td  style=\"background-color:Ivory;\">[('food', 16, 20)]</td><td  style=\"background-color:Ivory;\">not only is the food</td></tr><tr><td  style=\"background-color:AliceBlue;\">[]</td><td  style=\"background-color:AliceBlue;\">[]</td><td  style=\"background-color:AliceBlue;\">Loved It</td></tr><tr><td  style=\"background-color:Ivory;\">[]</td><td  style=\"background-color:Ivory;\">[('dinner', 50, 56)]</td><td  style=\"background-color:Ivory;\">My wife and I went to Water's Edge for a romantic dinner.</td></tr><tr><td  style=\"background-color:AliceBlue;\">[]</td><td  style=\"background-color:AliceBlue;\">[]</td><td  style=\"background-color:AliceBlue;\">We had a very nice time.</td></tr><tr><td  style=\"background-color:Ivory;\">[('waiter', 4, 10), ('food', 30, 34), ('views of the city', 57, 74)]</td><td  style=\"background-color:Ivory;\">[('waiter', 4, 10), ('food', 30, 34)]</td><td  style=\"background-color:Ivory;\">The waiter was attentive, the food was delicious and the views of the city were great.</td></tr><tr><td  style=\"background-color:AliceBlue;\">[]</td><td  style=\"background-color:AliceBlue;\">[]</td><td  style=\"background-color:AliceBlue;\">I'd definitely go back again.</td></tr><tr><td  style=\"background-color:Ivory;\">[('place', 6, 11)]</td><td  style=\"background-color:Ivory;\">[('place', 6, 11), ('dinner', 36, 42)]</td><td  style=\"background-color:Ivory;\">Great place to relax and enjoy your dinner</td></tr><tr><td  style=\"background-color:AliceBlue;\">[('atmosphere', 31, 41)]</td><td  style=\"background-color:AliceBlue;\">[('atmosphere', 31, 41)]</td><td  style=\"background-color:AliceBlue;\">There is something about their atmosphere that makes me come back nearly every week.</td></tr><tr><td  style=\"background-color:Ivory;\">[('Place', 0, 5)]</td><td  style=\"background-color:Ivory;\">[('Place', 0, 5)]</td><td  style=\"background-color:Ivory;\">Place is open till late, no dress code.</td></tr><tr><td  style=\"background-color:AliceBlue;\">[('food', 5, 9), ('seafood spaghetti', 30, 47)]</td><td  style=\"background-color:AliceBlue;\">[('Good', 0, 4), ('food', 5, 9), ('seafood', 30, 37)]</td><td  style=\"background-color:AliceBlue;\">Good food: my favorite is the seafood spaghetti.</td></tr><tr><td  style=\"background-color:Ivory;\">[]</td><td  style=\"background-color:Ivory;\">[]</td><td  style=\"background-color:Ivory;\">Highly recommended!</td></tr><tr><td  style=\"background-color:AliceBlue;\">[('food', 10, 14), ('food', 10, 14)]</td><td  style=\"background-color:AliceBlue;\">[('food', 10, 14)]</td><td  style=\"background-color:AliceBlue;\">Excellent food for great prices</td></tr><tr><td  style=\"background-color:Ivory;\">[]</td><td  style=\"background-color:Ivory;\">[]</td><td  style=\"background-color:Ivory;\">My husband and I have been sold on this from the first visit.</td></tr><tr><td  style=\"background-color:AliceBlue;\">[('wait staff', 4, 14)]</td><td  style=\"background-color:AliceBlue;\">[('wait staff', 4, 14)]</td><td  style=\"background-color:AliceBlue;\">The wait staff is very courteous and accomodating.</td></tr><tr><td  style=\"background-color:Ivory;\">[('space', 4, 9), ('space', 4, 9), ('indo-chinese food', 123, 140)]</td><td  style=\"background-color:Ivory;\">[('wait', 39, 43), ('chinese food', 128, 140)]</td><td  style=\"background-color:Ivory;\">The space is limited so be prepared to wait up to 45 minutes - 1 hour, but be richly rewarded when you savor the delicious indo-chinese food.</td></tr><tr><td  style=\"background-color:AliceBlue;\">[]</td><td  style=\"background-color:AliceBlue;\">[]</td><td  style=\"background-color:AliceBlue;\">There are no negatives to speak of.</td></tr><tr><td  style=\"background-color:Ivory;\">[]</td><td  style=\"background-color:Ivory;\">[]</td><td  style=\"background-color:Ivory;\">the bestt!</td></tr><tr><td  style=\"background-color:AliceBlue;\">[('place', 12, 17)]</td><td  style=\"background-color:AliceBlue;\">[('place', 12, 17)]</td><td  style=\"background-color:AliceBlue;\">my favorite place lol</td></tr><tr><td  style=\"background-color:Ivory;\">[('chicken pasta', 13, 26)]</td><td  style=\"background-color:Ivory;\">[('chicken', 13, 20), ('good', 62, 66)]</td><td  style=\"background-color:Ivory;\">i love their chicken pasta cant remember the name but is sooo good</td></tr><tr><td  style=\"background-color:AliceBlue;\">[]</td><td  style=\"background-color:AliceBlue;\">[]</td><td  style=\"background-color:AliceBlue;\">its alright</td></tr><tr><td  style=\"background-color:Ivory;\">[('place', 40, 45), ('place', 40, 45)]</td><td  style=\"background-color:Ivory;\">[('place', 40, 45)]</td><td  style=\"background-color:Ivory;\">im not necessarily fanatical about this place, but it was a fun time for low pirces.</td></tr><tr><td  style=\"background-color:AliceBlue;\">[('lobster', 0, 7)]</td><td  style=\"background-color:AliceBlue;\">[('lobster', 0, 7), ('good', 12, 16)]</td><td  style=\"background-color:AliceBlue;\">lobster was good, nothing spectacular.</td></tr><tr><td  style=\"background-color:Ivory;\">[('restaraunt', 44, 54)]</td><td  style=\"background-color:Ivory;\">[('place', 15, 20)]</td><td  style=\"background-color:Ivory;\">its just a fun place to go, not a five star restaraunt.</td></tr><tr><td  style=\"background-color:AliceBlue;\">[]</td><td  style=\"background-color:AliceBlue;\">[]</td><td  style=\"background-color:AliceBlue;\">Way below average</td></tr><tr><td  style=\"background-color:Ivory;\">[('pizza', 12, 17)]</td><td  style=\"background-color:Ivory;\">[('pizza', 12, 17)]</td><td  style=\"background-color:Ivory;\">I think the pizza is so overrated and was under cooked.</td></tr><tr><td  style=\"background-color:AliceBlue;\">[('staff', 22, 27)]</td><td  style=\"background-color:AliceBlue;\">[('staff', 22, 27)]</td><td  style=\"background-color:AliceBlue;\">Had no flavor and the staff is rude and not attentive.</td></tr><tr><td  style=\"background-color:Ivory;\">[]</td><td  style=\"background-color:Ivory;\">[]</td><td  style=\"background-color:Ivory;\">Would NEVER go back</td></tr><tr><td  style=\"background-color:AliceBlue;\">[('place', 12, 17)]</td><td  style=\"background-color:AliceBlue;\">[('place', 12, 17)]</td><td  style=\"background-color:AliceBlue;\">I love this place</td></tr><tr><td  style=\"background-color:Ivory;\">[]</td><td  style=\"background-color:Ivory;\">[('pizza', 22, 27), ('good', 83, 87)]</td><td  style=\"background-color:Ivory;\">I wasn't here for the pizza so I can't comment on that yet but what I had was very good.</td></tr><tr><td  style=\"background-color:AliceBlue;\">[('service', 4, 11)]</td><td  style=\"background-color:AliceBlue;\">[('service', 4, 11)]</td><td  style=\"background-color:AliceBlue;\">The service was quick and friendly.</td></tr><tr><td  style=\"background-color:Ivory;\">[]</td><td  style=\"background-color:Ivory;\">[('feel', 37, 41)]</td><td  style=\"background-color:Ivory;\">Everyone was smiling so that made me feel welcome.</td></tr><tr><td  style=\"background-color:AliceBlue;\">[('restaurant', 14, 24), ('restaurant', 14, 24)]</td><td  style=\"background-color:AliceBlue;\">[('restaurant', 14, 24)]</td><td  style=\"background-color:AliceBlue;\">I thought the restaurant was nice and clean.</td></tr><tr><td  style=\"background-color:Ivory;\">[('vitello alla marsala', 14, 34)]</td><td  style=\"background-color:Ivory;\">[]</td><td  style=\"background-color:Ivory;\">I ordered the vitello alla marsala and I was pretty impressed.</td></tr><tr><td  style=\"background-color:AliceBlue;\">[('veal', 4, 8), ('mushrooms', 17, 26)]</td><td  style=\"background-color:AliceBlue;\">[('veal', 4, 8)]</td><td  style=\"background-color:AliceBlue;\">The veal and the mushrooms were cooked perfectly.</td></tr><tr><td  style=\"background-color:Ivory;\">[('potato balls', 4, 16)]</td><td  style=\"background-color:Ivory;\">[]</td><td  style=\"background-color:Ivory;\">The potato balls were not dry at all... in fact it was buttery.</td></tr><tr><td  style=\"background-color:AliceBlue;\">[]</td><td  style=\"background-color:AliceBlue;\">[]</td><td  style=\"background-color:AliceBlue;\">The only downside... they only take cash which is OK if you know about it ahead of time.</td></tr><tr><td  style=\"background-color:Ivory;\">[]</td><td  style=\"background-color:Ivory;\">[]</td><td  style=\"background-color:Ivory;\">I'll be back for sure.</td></tr><tr><td  style=\"background-color:AliceBlue;\">[('PLACE', 6, 11)]</td><td  style=\"background-color:AliceBlue;\">[('PLACE', 6, 11)]</td><td  style=\"background-color:AliceBlue;\">WORST PLACE ON SMITH STREET IN BROOKLYN</td></tr><tr><td  style=\"background-color:Ivory;\">[('bartender', 14, 23), ('service', 65, 72), ('food', 94, 98), ('waitresses', 122, 132)]</td><td  style=\"background-color:Ivory;\">[('drinks', 57, 63), ('service', 65, 72), ('food', 94, 98), ('bar', 168, 171)]</td><td  style=\"background-color:Ivory;\">Very immature bartender, didnt know how to make specific drinks, service was so slowwwww, the food was not fresh or warm, waitresses were busy flirting with men at the bar and werent very attentive to all the customers.</td></tr><tr><td  style=\"background-color:AliceBlue;\">[('place', 29, 34), ('place', 29, 34)]</td><td  style=\"background-color:AliceBlue;\">[('place', 29, 34), ('dinner', 64, 70)]</td><td  style=\"background-color:AliceBlue;\">I would never recommend this place to anybody even for a casual dinner.</td></tr><tr><td  style=\"background-color:Ivory;\">[]</td><td  style=\"background-color:Ivory;\">[]</td><td  style=\"background-color:Ivory;\">awesome</td></tr><tr><td  style=\"background-color:AliceBlue;\">[('food', 4, 8)]</td><td  style=\"background-color:AliceBlue;\">[('food', 4, 8)]</td><td  style=\"background-color:AliceBlue;\">the food is always fresh ...</td></tr><tr><td  style=\"background-color:Ivory;\">[('japanese food', 11, 24), ('service', 39, 46)]</td><td  style=\"background-color:Ivory;\">[('food', 20, 24), ('service', 39, 46)]</td><td  style=\"background-color:Ivory;\">overpriced japanese food with mediocre service</td></tr><tr><td  style=\"background-color:AliceBlue;\">[]</td><td  style=\"background-color:AliceBlue;\">[]</td><td  style=\"background-color:AliceBlue;\">Went here on sat 1/26 and was disappointed.</td></tr><tr><td  style=\"background-color:Ivory;\">[('Chicken teriyaki', 0, 16)]</td><td  style=\"background-color:Ivory;\">[('Chicken', 0, 7)]</td><td  style=\"background-color:Ivory;\">Chicken teriyaki had tomato or pimentos on top??</td></tr><tr><td  style=\"background-color:AliceBlue;\">[('food', 0, 4)]</td><td  style=\"background-color:AliceBlue;\">[('food', 0, 4)]</td><td  style=\"background-color:AliceBlue;\">food was luke warm.</td></tr><tr><td  style=\"background-color:Ivory;\">[('waitress', 4, 12)]</td><td  style=\"background-color:Ivory;\">[('waitress', 4, 12)]</td><td  style=\"background-color:Ivory;\">The waitress was not attentive at all.</td></tr><tr><td  style=\"background-color:AliceBlue;\">[('dessert', 37, 44)]</td><td  style=\"background-color:AliceBlue;\">[('banana tempura', 18, 32), ('dessert', 37, 44)]</td><td  style=\"background-color:AliceBlue;\">I was looking for banana tempura for dessert and they dont have.</td></tr><tr><td  style=\"background-color:Ivory;\">[]</td><td  style=\"background-color:Ivory;\">[('good', 15, 19)]</td><td  style=\"background-color:Ivory;\">Too many other good places to have to settle.</td></tr><tr><td  style=\"background-color:AliceBlue;\">[('The Four Seasons', 21, 37)]</td><td  style=\"background-color:AliceBlue;\">[('dinner', 101, 107)]</td><td  style=\"background-color:AliceBlue;\">Not because you are \"The Four Seasons\"... – you are allowed to charge an arm and a leg for a romatic dinner.</td></tr><tr><td  style=\"background-color:Ivory;\">[('food', 4, 8), ('service', 34, 41), ('The Four Seasons', 59, 75)]</td><td  style=\"background-color:Ivory;\">[('food', 4, 8), ('service', 34, 41)]</td><td  style=\"background-color:Ivory;\">The food was excellent as well as service, however, I left The Four Seasons very dissappointed.</td></tr><tr><td  style=\"background-color:AliceBlue;\">[('dinner', 15, 21)]</td><td  style=\"background-color:AliceBlue;\">[('dinner', 15, 21)]</td><td  style=\"background-color:AliceBlue;\">I do not think dinner in Manhattan should cost $400.00 where I am not swept off my feet.</td></tr><tr><td  style=\"background-color:Ivory;\">[('Red Dragon Roll', 0, 15)]</td><td  style=\"background-color:Ivory;\">[('food', 51, 55)]</td><td  style=\"background-color:Ivory;\">Red Dragon Roll - my favorite thing to eat, of any food group - hands down</td></tr><tr><td  style=\"background-color:AliceBlue;\">[('Yamato', 11, 17), ('Red Dragon Roll', 32, 47)]</td><td  style=\"background-color:AliceBlue;\">[]</td><td  style=\"background-color:AliceBlue;\">Just go to Yamato and order the Red Dragon Roll.</td></tr><tr><td  style=\"background-color:Ivory;\">[]</td><td  style=\"background-color:Ivory;\">[]</td><td  style=\"background-color:Ivory;\">If you don't like it, I don't know what to tell you.</td></tr><tr><td  style=\"background-color:AliceBlue;\">[('Seafood Dynamite', 4, 20)]</td><td  style=\"background-color:AliceBlue;\">[('Seafood', 4, 11)]</td><td  style=\"background-color:AliceBlue;\">The Seafood Dynamite is also otherworldly.</td></tr><tr><td  style=\"background-color:Ivory;\">[]</td><td  style=\"background-color:Ivory;\">[]</td><td  style=\"background-color:Ivory;\">I'm not even going to bother to describe it; it speaks for itself.</td></tr><tr><td  style=\"background-color:AliceBlue;\">[('Sushi', 9, 14)]</td><td  style=\"background-color:AliceBlue;\">[('Sushi', 9, 14)]</td><td  style=\"background-color:AliceBlue;\">Favorite Sushi in NYC</td></tr></table>"
      ],
      "text/plain": [
       "<ipy_table.IpyTable at 0x7f7d1c0e0e10>"
      ]
     },
     "execution_count": 7,
     "metadata": {},
     "output_type": "execute_result"
    }
   ],
   "source": [
    "data = [['Gold Standard', 'Predicted', 'Sentence']]\n",
    "for index, (gold, pred) in enumerate(list(zip(test_gold, prediction))[:100]):\n",
    "    sentence = list(testset.iter('sentence'))[index].xpath('./text/text()')[0]\n",
    "    data.append([gold, pred, sentence])\n",
    "\n",
    "ipy_table.make_table(data)\n",
    "ipy_table.set_global_style(wrap=True)\n",
    "ipy_table.apply_theme('basic')"
   ]
  },
  {
   "cell_type": "markdown",
   "metadata": {},
   "source": [
    "### Aspect-extraction Evaluation methodology\n",
    "\n",
    "Pontiki, M., Galanis, D., Papageorgiou, H., Manandhar, S., & Androutsopoulos, I. (2015, June). Semeval-2015 task 12: Aspect based sentiment analysis. In Proceedings of the 9th International Workshop on Semantic Evaluation (SemEval 2015), Association for Computational Linguistics, Denver, Colorado (pp. 486-495).\n",
    "\n",
    "http://www.anthology.aclweb.org/S/S15/S15-2082.pdf\n",
    "\n",
    "From 4.1 Evaluation Measures, page 491:\n",
    "\n",
    "Slot 2: F-1 scores are calculated by comparing\n",
    "the targets that a system returned (for all the sentences)\n",
    "to the corresponding gold targets (using\n",
    "micro-averaging). The targets are extracted using\n",
    "their starting and ending offsets. The calculation\n",
    "for each sentence considers only distinct targets\n",
    "and discards NULL targets, since they do not correspond\n",
    "to explicit mentions"
   ]
  },
  {
   "cell_type": "code",
   "execution_count": 8,
   "metadata": {
    "collapsed": false
   },
   "outputs": [
    {
     "name": "stdout",
     "output_type": "stream",
     "text": [
      "Precision: 50.81%\n"
     ]
    }
   ],
   "source": [
    "# Micro-averaged Precision\n",
    "correct = 0\n",
    "total = 0\n",
    "for index in range(len(list(testset.iter('sentence')))):\n",
    "    correct += len([x for x in test_gold[index] if x in prediction[index]])\n",
    "    total += len(prediction[index])\n",
    "\n",
    "precision = 100 * correct / total\n",
    "print('Precision: {:.2f}%'.format(precision))"
   ]
  },
  {
   "cell_type": "code",
   "execution_count": 9,
   "metadata": {
    "collapsed": false
   },
   "outputs": [
    {
     "name": "stdout",
     "output_type": "stream",
     "text": [
      "Recall: 58.12%\n"
     ]
    }
   ],
   "source": [
    "# Micro-averaged Recall\n",
    "correct = 0\n",
    "total = 0\n",
    "for index in range(len(list(testset.iter('sentence')))):\n",
    "    correct += len([x for x in test_gold[index] if x in prediction[index]])\n",
    "    total += len(test_gold[index])\n",
    "\n",
    "recall = 100* correct / total\n",
    "print('Recall: {:.2f}%'.format(recall))"
   ]
  },
  {
   "cell_type": "code",
   "execution_count": 10,
   "metadata": {
    "collapsed": false
   },
   "outputs": [
    {
     "name": "stdout",
     "output_type": "stream",
     "text": [
      "F-measure: 54.22%\n"
     ]
    }
   ],
   "source": [
    "print('F-measure: {:.2f}%'.format((2 * precision * recall) / (precision + recall)))"
   ]
  },
  {
   "cell_type": "code",
   "execution_count": 16,
   "metadata": {
    "collapsed": false
   },
   "outputs": [],
   "source": [
    "# Save the prediction (Optional)\n",
    "import re\n",
    "for sentence_node in testset.iter('sentence'):\n",
    "    sentence_opinions = []\n",
    "    opinions_node = sentence_node.xpath('./Opinions')\n",
    "    if opinions_node:\n",
    "        opinions_node = opinions_node[0]\n",
    "    else:\n",
    "        opinions_node = etree.SubElement(sentence_node, 'Opinions')\n",
    "        \n",
    "    for opinion_node in sentence_node.xpath('./Opinions/Opinion'):\n",
    "        opinions_node.remove(opinion_node)\n",
    "    \n",
    "    text = sentence_node.xpath('./text/text()')[0]\n",
    "    for m in re.finditer(targets_pattern, text):\n",
    "        opinion_node = etree.SubElement(opinions_node, 'Opinion')\n",
    "        opinion_node.set('target', m.group())\n",
    "        opinion_node.set('from', str(m.start()))\n",
    "        opinion_node.set('to', str(m.end()))\n",
    "        \n",
    "etree.ElementTree(testset.getroot()).write('../corpus/pred.xml',encoding='utf8', xml_declaration=True, pretty_print=True)"
   ]
  },
  {
   "cell_type": "markdown",
   "metadata": {},
   "source": [
    "## 2. All aspects in trainset removing stopwords"
   ]
  },
  {
   "cell_type": "code",
   "execution_count": 11,
   "metadata": {
    "collapsed": false
   },
   "outputs": [
    {
     "data": {
      "text/html": [
       "<table border=\"1\" cellpadding=\"3\" cellspacing=\"0\"  style=\"border:1px solid black;border-collapse:collapse;\"><tr><td  style=\"background-color:LightGray;\"><b>freq</b></td><td  style=\"background-color:LightGray;\"><b>%freq</b></td><td  style=\"background-color:LightGray;\"><b>target</b></td></tr><tr><td  style=\"background-color:Ivory;\">158</td><td  style=\"background-color:Ivory;\">12.4%</td><td  style=\"background-color:Ivory;\">food</td></tr><tr><td  style=\"background-color:AliceBlue;\">117</td><td  style=\"background-color:AliceBlue;\">9.1%</td><td  style=\"background-color:AliceBlue;\">service</td></tr><tr><td  style=\"background-color:Ivory;\">82</td><td  style=\"background-color:Ivory;\">6.4%</td><td  style=\"background-color:Ivory;\">place</td></tr><tr><td  style=\"background-color:AliceBlue;\">29</td><td  style=\"background-color:AliceBlue;\">2.3%</td><td  style=\"background-color:AliceBlue;\">restaurant</td></tr><tr><td  style=\"background-color:Ivory;\">27</td><td  style=\"background-color:Ivory;\">2.1%</td><td  style=\"background-color:Ivory;\">staff</td></tr><tr><td  style=\"background-color:AliceBlue;\">26</td><td  style=\"background-color:AliceBlue;\">2.0%</td><td  style=\"background-color:AliceBlue;\">pizza</td></tr><tr><td  style=\"background-color:Ivory;\">21</td><td  style=\"background-color:Ivory;\">1.6%</td><td  style=\"background-color:Ivory;\">atmosphere</td></tr><tr><td  style=\"background-color:AliceBlue;\">20</td><td  style=\"background-color:AliceBlue;\">1.6%</td><td  style=\"background-color:AliceBlue;\">sushi</td></tr><tr><td  style=\"background-color:Ivory;\">16</td><td  style=\"background-color:Ivory;\">1.3%</td><td  style=\"background-color:Ivory;\">decor</td></tr><tr><td  style=\"background-color:AliceBlue;\">13</td><td  style=\"background-color:AliceBlue;\">1.0%</td><td  style=\"background-color:AliceBlue;\">ambience</td></tr><tr><td  style=\"background-color:Ivory;\">12</td><td  style=\"background-color:Ivory;\">0.9%</td><td  style=\"background-color:Ivory;\">menu</td></tr><tr><td  style=\"background-color:AliceBlue;\">12</td><td  style=\"background-color:AliceBlue;\">0.9%</td><td  style=\"background-color:AliceBlue;\">fish</td></tr><tr><td  style=\"background-color:Ivory;\">10</td><td  style=\"background-color:Ivory;\">0.8%</td><td  style=\"background-color:Ivory;\">dishes</td></tr><tr><td  style=\"background-color:AliceBlue;\">10</td><td  style=\"background-color:AliceBlue;\">0.8%</td><td  style=\"background-color:AliceBlue;\">wine&nbsplist</td></tr><tr><td  style=\"background-color:Ivory;\">10</td><td  style=\"background-color:Ivory;\">0.8%</td><td  style=\"background-color:Ivory;\">bagels</td></tr><tr><td  style=\"background-color:AliceBlue;\">9</td><td  style=\"background-color:AliceBlue;\">0.7%</td><td  style=\"background-color:AliceBlue;\">drinks</td></tr><tr><td  style=\"background-color:Ivory;\">9</td><td  style=\"background-color:Ivory;\">0.7%</td><td  style=\"background-color:Ivory;\">dessert</td></tr><tr><td  style=\"background-color:AliceBlue;\">9</td><td  style=\"background-color:AliceBlue;\">0.7%</td><td  style=\"background-color:AliceBlue;\">waiter</td></tr><tr><td  style=\"background-color:Ivory;\">9</td><td  style=\"background-color:Ivory;\">0.7%</td><td  style=\"background-color:Ivory;\">portions</td></tr><tr><td  style=\"background-color:AliceBlue;\">8</td><td  style=\"background-color:AliceBlue;\">0.6%</td><td  style=\"background-color:AliceBlue;\">wine</td></tr></table>"
      ],
      "text/plain": [
       "<ipy_table.IpyTable at 0x7f7d1c086ef0>"
      ]
     },
     "execution_count": 11,
     "metadata": {},
     "output_type": "execute_result"
    }
   ],
   "source": [
    "from collections import Counter\n",
    "from nltk.corpus import stopwords\n",
    "# build the targets\n",
    "stopwords = stopwords.words('english')\n",
    "targets = Counter([opinion_node.get('target').lower()\n",
    "                    for opinion_node in trainset.iter('Opinion')\n",
    "                    if opinion_node.get('target') != 'NULL' and\n",
    "                       opinion_node.get('target').lower() not in stopwords\n",
    "                   ])\n",
    "\n",
    "# print the targets\n",
    "import ipy_table\n",
    "data = [['freq', '%freq', 'target']]\n",
    "for target, freq in targets.most_common(20):\n",
    "    ratio = freq / sum(targets.values()) *100\n",
    "    data.append([freq, '{:.1f}%'.format(ratio), target])\n",
    "\n",
    "ipy_table.make_table(data)\n",
    "ipy_table.apply_theme('basic')"
   ]
  },
  {
   "cell_type": "code",
   "execution_count": 12,
   "metadata": {
    "collapsed": false
   },
   "outputs": [],
   "source": [
    "import re\n",
    "\n",
    "# function to evaluate targets in testset and return precision, recall and f-measure\n",
    "def evaluate(targets):\n",
    "\n",
    "    # Build a regex to match the targets in the text\n",
    "    targets_list = sorted(list(targets))\n",
    "    targets_list.sort(key=len, reverse=True)\n",
    "    targets_pattern = r'\\b(' + '|'.join([re.escape(t) for t in targets_list]) + r')\\b'\n",
    "\n",
    "    test_gold = list()\n",
    "    prediction = list()\n",
    "\n",
    "    for sentence_node in testset.iter('sentence'):    \n",
    "        sentence_opinions = []\n",
    "        for opinion_node in sentence_node.iter('Opinion'):\n",
    "            target = opinion_node.get('target')\n",
    "            start = int(opinion_node.get('from'))\n",
    "            end = int(opinion_node.get('to'))\n",
    "            # evaluation explicit says to discart NULL values\n",
    "            if target != 'NULL':\n",
    "                sentence_opinions.append((target, start, end))\n",
    "        test_gold.append(sentence_opinions)\n",
    "\n",
    "        text = sentence_node.xpath('./text/text()')[0]\n",
    "        text_opinions = []\n",
    "\n",
    "        for m in re.finditer(targets_pattern, text, flags=re.I):\n",
    "            text_opinions.append( (m.group(), m.start(), m.end()) )\n",
    "        prediction.append(text_opinions)\n",
    "        \n",
    "    # Micro-averaged Precision\n",
    "    correct = 0\n",
    "    total = 0\n",
    "    for index in range(len(list(testset.iter('sentence')))):\n",
    "        correct += len([x for x in test_gold[index] if x in prediction[index]])\n",
    "        total += len(prediction[index])\n",
    "\n",
    "    precision = 100 * correct / total    \n",
    "\n",
    "    # Micro-averaged Recall\n",
    "    correct = 0\n",
    "    total = 0\n",
    "    for index in range(len(list(testset.iter('sentence')))):\n",
    "        correct += len([x for x in test_gold[index] if x in prediction[index]])\n",
    "        total += len(test_gold[index])\n",
    "\n",
    "    recall = 100* correct / total\n",
    "    \n",
    "    # F-measure\n",
    "    if precision + recall != 0:\n",
    "        fmeasure = (2 * precision * recall) / (precision + recall)\n",
    "    else:\n",
    "        fmeasure = 0\n",
    "    \n",
    "    return (precision, recall, fmeasure)\n",
    "    \n",
    "  "
   ]
  },
  {
   "cell_type": "code",
   "execution_count": 13,
   "metadata": {
    "collapsed": false
   },
   "outputs": [
    {
     "name": "stdout",
     "output_type": "stream",
     "text": [
      "Precision: 50.81%\n",
      "Recall: 58.12%\n",
      "F-measure: 54.22%\n"
     ]
    }
   ],
   "source": [
    "precision, recall, fmeasure = evaluate(targets)\n",
    "print('Precision: {:.2f}%'.format(precision))\n",
    "print('Recall: {:.2f}%'.format(recall))\n",
    "print('F-measure: {:.2f}%'.format(fmeasure))"
   ]
  },
  {
   "cell_type": "markdown",
   "metadata": {},
   "source": [
    "## 3. All aspects in trainset with a cut in frequency"
   ]
  },
  {
   "cell_type": "code",
   "execution_count": 16,
   "metadata": {
    "collapsed": false
   },
   "outputs": [
    {
     "data": {
      "text/html": [
       "<table border=\"1\" cellpadding=\"3\" cellspacing=\"0\"  style=\"border:1px solid black;border-collapse:collapse;\"><tr><td  style=\"background-color:LightGray;\"><b>cut</b></td><td  style=\"background-color:LightGray;\"><b>number&nbspof&nbsptargets</b></td><td  style=\"background-color:LightGray;\"><b>precision</b></td><td  style=\"background-color:LightGray;\"><b>recall</b></td><td  style=\"background-color:LightGray;\"><b>f-measure</b></td></tr><tr><td  style=\"background-color:Ivory;\">0.0%</td><td  style=\"background-color:Ivory;\">493</td><td  style=\"background-color:Ivory;\">50.81%</td><td  style=\"background-color:Ivory;\">58.12%</td><td  style=\"background-color:Ivory;\">54.22%</td></tr><tr><td  style=\"background-color:AliceBlue;\">0.5%</td><td  style=\"background-color:AliceBlue;\">22</td><td  style=\"background-color:AliceBlue;\">66.84%</td><td  style=\"background-color:AliceBlue;\">41.88%</td><td  style=\"background-color:AliceBlue;\">51.49%</td></tr><tr><td  style=\"background-color:Ivory;\">1.0%</td><td  style=\"background-color:Ivory;\">10</td><td  style=\"background-color:Ivory;\">71.09%</td><td  style=\"background-color:Ivory;\">35.01%</td><td  style=\"background-color:Ivory;\">46.91%</td></tr><tr><td  style=\"background-color:AliceBlue;\">1.5%</td><td  style=\"background-color:AliceBlue;\">8</td><td  style=\"background-color:AliceBlue;\">70.49%</td><td  style=\"background-color:AliceBlue;\">34.00%</td><td  style=\"background-color:AliceBlue;\">45.88%</td></tr><tr><td  style=\"background-color:Ivory;\">2.0%</td><td  style=\"background-color:Ivory;\">6</td><td  style=\"background-color:Ivory;\">70.37%</td><td  style=\"background-color:Ivory;\">31.83%</td><td  style=\"background-color:Ivory;\">43.83%</td></tr><tr><td  style=\"background-color:AliceBlue;\">2.5%</td><td  style=\"background-color:AliceBlue;\">3</td><td  style=\"background-color:AliceBlue;\">75.74%</td><td  style=\"background-color:AliceBlue;\">25.63%</td><td  style=\"background-color:AliceBlue;\">38.30%</td></tr><tr><td  style=\"background-color:Ivory;\">3.0%</td><td  style=\"background-color:Ivory;\">3</td><td  style=\"background-color:Ivory;\">75.74%</td><td  style=\"background-color:Ivory;\">25.63%</td><td  style=\"background-color:Ivory;\">38.30%</td></tr><tr><td  style=\"background-color:AliceBlue;\">3.5%</td><td  style=\"background-color:AliceBlue;\">3</td><td  style=\"background-color:AliceBlue;\">75.74%</td><td  style=\"background-color:AliceBlue;\">25.63%</td><td  style=\"background-color:AliceBlue;\">38.30%</td></tr><tr><td  style=\"background-color:Ivory;\">4.0%</td><td  style=\"background-color:Ivory;\">3</td><td  style=\"background-color:Ivory;\">75.74%</td><td  style=\"background-color:Ivory;\">25.63%</td><td  style=\"background-color:Ivory;\">38.30%</td></tr><tr><td  style=\"background-color:AliceBlue;\">4.5%</td><td  style=\"background-color:AliceBlue;\">3</td><td  style=\"background-color:AliceBlue;\">75.74%</td><td  style=\"background-color:AliceBlue;\">25.63%</td><td  style=\"background-color:AliceBlue;\">38.30%</td></tr><tr><td  style=\"background-color:Ivory;\">5.0%</td><td  style=\"background-color:Ivory;\">3</td><td  style=\"background-color:Ivory;\">75.74%</td><td  style=\"background-color:Ivory;\">25.63%</td><td  style=\"background-color:Ivory;\">38.30%</td></tr><tr><td  style=\"background-color:AliceBlue;\">5.5%</td><td  style=\"background-color:AliceBlue;\">3</td><td  style=\"background-color:AliceBlue;\">75.74%</td><td  style=\"background-color:AliceBlue;\">25.63%</td><td  style=\"background-color:AliceBlue;\">38.30%</td></tr><tr><td  style=\"background-color:Ivory;\">6.0%</td><td  style=\"background-color:Ivory;\">3</td><td  style=\"background-color:Ivory;\">75.74%</td><td  style=\"background-color:Ivory;\">25.63%</td><td  style=\"background-color:Ivory;\">38.30%</td></tr><tr><td  style=\"background-color:AliceBlue;\">6.5%</td><td  style=\"background-color:AliceBlue;\">2</td><td  style=\"background-color:AliceBlue;\">79.39%</td><td  style=\"background-color:AliceBlue;\">17.42%</td><td  style=\"background-color:AliceBlue;\">28.57%</td></tr><tr><td  style=\"background-color:Ivory;\">7.0%</td><td  style=\"background-color:Ivory;\">2</td><td  style=\"background-color:Ivory;\">79.39%</td><td  style=\"background-color:Ivory;\">17.42%</td><td  style=\"background-color:Ivory;\">28.57%</td></tr><tr><td  style=\"background-color:AliceBlue;\">7.5%</td><td  style=\"background-color:AliceBlue;\">2</td><td  style=\"background-color:AliceBlue;\">79.39%</td><td  style=\"background-color:AliceBlue;\">17.42%</td><td  style=\"background-color:AliceBlue;\">28.57%</td></tr><tr><td  style=\"background-color:Ivory;\">8.0%</td><td  style=\"background-color:Ivory;\">2</td><td  style=\"background-color:Ivory;\">79.39%</td><td  style=\"background-color:Ivory;\">17.42%</td><td  style=\"background-color:Ivory;\">28.57%</td></tr><tr><td  style=\"background-color:AliceBlue;\">8.5%</td><td  style=\"background-color:AliceBlue;\">2</td><td  style=\"background-color:AliceBlue;\">79.39%</td><td  style=\"background-color:AliceBlue;\">17.42%</td><td  style=\"background-color:AliceBlue;\">28.57%</td></tr><tr><td  style=\"background-color:Ivory;\">9.0%</td><td  style=\"background-color:Ivory;\">2</td><td  style=\"background-color:Ivory;\">79.39%</td><td  style=\"background-color:Ivory;\">17.42%</td><td  style=\"background-color:Ivory;\">28.57%</td></tr><tr><td  style=\"background-color:AliceBlue;\">9.5%</td><td  style=\"background-color:AliceBlue;\">1</td><td  style=\"background-color:AliceBlue;\">76.29%</td><td  style=\"background-color:AliceBlue;\">12.40%</td><td  style=\"background-color:AliceBlue;\">21.33%</td></tr><tr><td  style=\"background-color:Ivory;\">10.0%</td><td  style=\"background-color:Ivory;\">1</td><td  style=\"background-color:Ivory;\">76.29%</td><td  style=\"background-color:Ivory;\">12.40%</td><td  style=\"background-color:Ivory;\">21.33%</td></tr><tr><td  style=\"background-color:AliceBlue;\">10.5%</td><td  style=\"background-color:AliceBlue;\">1</td><td  style=\"background-color:AliceBlue;\">76.29%</td><td  style=\"background-color:AliceBlue;\">12.40%</td><td  style=\"background-color:AliceBlue;\">21.33%</td></tr></table>"
      ],
      "text/plain": [
       "<ipy_table.IpyTable at 0x7f7cf2b32da0>"
      ]
     },
     "execution_count": 16,
     "metadata": {},
     "output_type": "execute_result"
    }
   ],
   "source": [
    "# build the targets\n",
    "targets = Counter([opinion_node.get('target').lower()\n",
    "                    for opinion_node in trainset.iter('Opinion')\n",
    "                    if opinion_node.get('target') != 'NULL'])\n",
    "\n",
    "data = [['cut', 'number of targets', 'precision', 'recall', 'f-measure']]\n",
    "for min_freq in range(0,110,5):\n",
    "    min_freq = min_freq/10\n",
    "    target_list = [target for target, freq in targets.items() if freq/sum(targets.values()) >= min_freq/100]\n",
    "    precision, recall, fmeasure = evaluate(target_list)\n",
    "    data.append(['{:.1f}%'.format(min_freq), \n",
    "                 len(target_list),\n",
    "                 '{:.2f}%'.format(precision), \n",
    "                 '{:.2f}%'.format(recall), \n",
    "                 '{:.2f}%'.format(fmeasure)])\n",
    "\n",
    "ipy_table.make_table(data)\n",
    "ipy_table.apply_theme('basic')"
   ]
  },
  {
   "cell_type": "markdown",
   "metadata": {},
   "source": [
    "## 3. All aspects with relative frequency\n",
    " \n",
    "The token must happen % of the time annotated as aspect in the text."
   ]
  },
  {
   "cell_type": "code",
   "execution_count": 17,
   "metadata": {
    "collapsed": false
   },
   "outputs": [
    {
     "data": {
      "text/html": [
       "<table border=\"1\" cellpadding=\"3\" cellspacing=\"0\"  style=\"border:1px solid black;border-collapse:collapse;\"><tr><td  style=\"background-color:LightGray;\"><b>cut</b></td><td  style=\"background-color:LightGray;\"><b>number&nbspof&nbsptargets</b></td><td  style=\"background-color:LightGray;\"><b>precision</b></td><td  style=\"background-color:LightGray;\"><b>recall</b></td><td  style=\"background-color:LightGray;\"><b>f-measure</b></td></tr><tr><td  style=\"background-color:Ivory;\">0.0%</td><td  style=\"background-color:Ivory;\">493</td><td  style=\"background-color:Ivory;\">50.81%</td><td  style=\"background-color:Ivory;\">58.12%</td><td  style=\"background-color:Ivory;\">54.22%</td></tr><tr><td  style=\"background-color:AliceBlue;\">5.0%</td><td  style=\"background-color:AliceBlue;\">491</td><td  style=\"background-color:AliceBlue;\">56.14%</td><td  style=\"background-color:AliceBlue;\">57.45%</td><td  style=\"background-color:AliceBlue;\">56.79%</td></tr><tr><td  style=\"background-color:Ivory;\">10.0%</td><td  style=\"background-color:Ivory;\">491</td><td  style=\"background-color:Ivory;\">56.14%</td><td  style=\"background-color:Ivory;\">57.45%</td><td  style=\"background-color:Ivory;\">56.79%</td></tr><tr><td  style=\"background-color:AliceBlue;\">15.0%</td><td  style=\"background-color:AliceBlue;\">486</td><td  style=\"background-color:AliceBlue;\">58.71%</td><td  style=\"background-color:AliceBlue;\">56.45%</td><td  style=\"background-color:AliceBlue;\">57.56%</td></tr><tr><td  style=\"background-color:Ivory;\">20.0%</td><td  style=\"background-color:Ivory;\">484</td><td  style=\"background-color:Ivory;\">60.00%</td><td  style=\"background-color:Ivory;\">55.78%</td><td  style=\"background-color:Ivory;\">57.81%</td></tr><tr><td  style=\"background-color:AliceBlue;\">25.0%</td><td  style=\"background-color:AliceBlue;\">482</td><td  style=\"background-color:AliceBlue;\">61.34%</td><td  style=\"background-color:AliceBlue;\">55.28%</td><td  style=\"background-color:AliceBlue;\">58.15%</td></tr><tr><td  style=\"background-color:Ivory;\">30.0%</td><td  style=\"background-color:Ivory;\">482</td><td  style=\"background-color:Ivory;\">61.34%</td><td  style=\"background-color:Ivory;\">55.28%</td><td  style=\"background-color:Ivory;\">58.15%</td></tr><tr><td  style=\"background-color:AliceBlue;\">35.0%</td><td  style=\"background-color:AliceBlue;\">473</td><td  style=\"background-color:AliceBlue;\">63.29%</td><td  style=\"background-color:AliceBlue;\">53.43%</td><td  style=\"background-color:AliceBlue;\">57.95%</td></tr><tr><td  style=\"background-color:Ivory;\">40.0%</td><td  style=\"background-color:Ivory;\">473</td><td  style=\"background-color:Ivory;\">63.29%</td><td  style=\"background-color:Ivory;\">53.43%</td><td  style=\"background-color:Ivory;\">57.95%</td></tr><tr><td  style=\"background-color:AliceBlue;\">45.0%</td><td  style=\"background-color:AliceBlue;\">473</td><td  style=\"background-color:AliceBlue;\">63.29%</td><td  style=\"background-color:AliceBlue;\">53.43%</td><td  style=\"background-color:AliceBlue;\">57.95%</td></tr><tr><td  style=\"background-color:Ivory;\">50.0%</td><td  style=\"background-color:Ivory;\">473</td><td  style=\"background-color:Ivory;\">63.29%</td><td  style=\"background-color:Ivory;\">53.43%</td><td  style=\"background-color:Ivory;\">57.95%</td></tr><tr><td  style=\"background-color:AliceBlue;\">55.0%</td><td  style=\"background-color:AliceBlue;\">462</td><td  style=\"background-color:AliceBlue;\">63.56%</td><td  style=\"background-color:AliceBlue;\">49.08%</td><td  style=\"background-color:AliceBlue;\">55.39%</td></tr><tr><td  style=\"background-color:Ivory;\">60.0%</td><td  style=\"background-color:Ivory;\">462</td><td  style=\"background-color:Ivory;\">63.56%</td><td  style=\"background-color:Ivory;\">49.08%</td><td  style=\"background-color:Ivory;\">55.39%</td></tr><tr><td  style=\"background-color:AliceBlue;\">65.0%</td><td  style=\"background-color:AliceBlue;\">461</td><td  style=\"background-color:AliceBlue;\">64.25%</td><td  style=\"background-color:AliceBlue;\">49.08%</td><td  style=\"background-color:AliceBlue;\">55.65%</td></tr><tr><td  style=\"background-color:Ivory;\">70.0%</td><td  style=\"background-color:Ivory;\">459</td><td  style=\"background-color:Ivory;\">64.67%</td><td  style=\"background-color:Ivory;\">48.74%</td><td  style=\"background-color:Ivory;\">55.59%</td></tr><tr><td  style=\"background-color:AliceBlue;\">75.0%</td><td  style=\"background-color:AliceBlue;\">459</td><td  style=\"background-color:AliceBlue;\">64.67%</td><td  style=\"background-color:AliceBlue;\">48.74%</td><td  style=\"background-color:AliceBlue;\">55.59%</td></tr><tr><td  style=\"background-color:Ivory;\">80.0%</td><td  style=\"background-color:Ivory;\">459</td><td  style=\"background-color:Ivory;\">64.67%</td><td  style=\"background-color:Ivory;\">48.74%</td><td  style=\"background-color:Ivory;\">55.59%</td></tr><tr><td  style=\"background-color:AliceBlue;\">85.0%</td><td  style=\"background-color:AliceBlue;\">455</td><td  style=\"background-color:AliceBlue;\">67.62%</td><td  style=\"background-color:AliceBlue;\">43.72%</td><td  style=\"background-color:AliceBlue;\">53.10%</td></tr><tr><td  style=\"background-color:Ivory;\">90.0%</td><td  style=\"background-color:Ivory;\">454</td><td  style=\"background-color:Ivory;\">67.20%</td><td  style=\"background-color:Ivory;\">42.55%</td><td  style=\"background-color:Ivory;\">52.10%</td></tr><tr><td  style=\"background-color:AliceBlue;\">95.0%</td><td  style=\"background-color:AliceBlue;\">453</td><td  style=\"background-color:AliceBlue;\">66.30%</td><td  style=\"background-color:AliceBlue;\">40.87%</td><td  style=\"background-color:AliceBlue;\">50.57%</td></tr></table>"
      ],
      "text/plain": [
       "<ipy_table.IpyTable at 0x7f7cf2aa0d68>"
      ]
     },
     "execution_count": 17,
     "metadata": {},
     "output_type": "execute_result"
    }
   ],
   "source": [
    "sentences = ' '.join([node.get('form').lower() for node in testset.iter('word')])\n",
    "freqlist =  Counter([node.get('target').lower() for node in testset.iter('Opinion')])\n",
    "\n",
    "# build the targets\n",
    "targets = Counter([opinion_node.get('target').lower()\n",
    "                    for opinion_node in trainset.iter('Opinion')\n",
    "                    if opinion_node.get('target') != 'NULL'])\n",
    "\n",
    "data = [['cut', 'number of targets', 'precision', 'recall', 'f-measure']]\n",
    "for min_freq in range(0,100,5):\n",
    "    \n",
    "    target_list = [target for target, freq in targets.items() if freq/max(sentences.count(' ' + target + ' '),0.00001) >= min_freq/100]\n",
    "        \n",
    "    precision, recall, fmeasure = evaluate(target_list)\n",
    "    data.append(['{:.1f}%'.format(min_freq), \n",
    "                 len(target_list),\n",
    "                 '{:.2f}%'.format(precision), \n",
    "                 '{:.2f}%'.format(recall), \n",
    "                 '{:.2f}%'.format(fmeasure)])\n",
    "\n",
    "ipy_table.make_table(data)\n",
    "ipy_table.apply_theme('basic')"
   ]
  },
  {
   "cell_type": "code",
   "execution_count": null,
   "metadata": {
    "collapsed": true
   },
   "outputs": [],
   "source": []
  }
 ],
 "metadata": {
  "kernelspec": {
   "display_name": "Python 3",
   "language": "python",
   "name": "python3"
  },
  "language_info": {
   "codemirror_mode": {
    "name": "ipython",
    "version": 3
   },
   "file_extension": ".py",
   "mimetype": "text/x-python",
   "name": "python",
   "nbconvert_exporter": "python",
   "pygments_lexer": "ipython3",
   "version": "3.5.1+"
  }
 },
 "nbformat": 4,
 "nbformat_minor": 0
}

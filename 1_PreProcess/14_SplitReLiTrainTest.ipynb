{
 "cells": [
  {
   "cell_type": "markdown",
   "metadata": {},
   "source": [
    "# Split Reli Corpus into Train and Test parts\n",
    "\n",
    "* SemEval ABSA 2015 corpus has 255 reviews (72%) in trainset and 97 (28%) reviews in testset\n",
    "* SemEval ABSA 2016 corpus has 351 reviews (79%) in trainset and 91 (21%) reviews in testset\n",
    "* ReLi corpus has 1601 reviews in total\n",
    "* In order to make an evaluation for ReLi compatible with SemEval we are going to split ReLi corpus into trainset and testset\n",
    "* So, ReLi trainset should have 1200 reviews (75%) and ReLi testset should have 401(25%) reviews"
   ]
  },
  {
   "cell_type": "markdown",
   "metadata": {},
   "source": [
    "## Spliting ReLi.xml"
   ]
  },
  {
   "cell_type": "code",
   "execution_count": 1,
   "metadata": {
    "collapsed": true
   },
   "outputs": [],
   "source": [
    "from lxml import etree\n",
    "parser = etree.XMLParser(remove_blank_text=True)\n",
    "reviews = etree.parse('../corpus/ReLi.xml', parser)"
   ]
  },
  {
   "cell_type": "code",
   "execution_count": 2,
   "metadata": {
    "collapsed": false
   },
   "outputs": [
    {
     "data": {
      "text/plain": [
       "1601"
      ]
     },
     "execution_count": 2,
     "metadata": {},
     "output_type": "execute_result"
    }
   ],
   "source": [
    "from collections import Counter\n",
    "len(list(reviews.iter('Review')))"
   ]
  },
  {
   "cell_type": "code",
   "execution_count": 3,
   "metadata": {
    "collapsed": false
   },
   "outputs": [],
   "source": [
    "# Make train and test in the following way\n",
    "# Make each 1st, 2nd, 3rd reviews into trainset, 4th into testset, \n",
    "#           5th, 6th, 7th reviews into trainset, 8th into testset, and so on \n",
    "train = etree.Element('Reviews')\n",
    "test = etree.Element('Reviews')\n",
    "for index, review in enumerate(reviews.iter('Review')):\n",
    "    if index % 4 != 0:\n",
    "        train.append(review)\n",
    "    else:\n",
    "        test.append(review)"
   ]
  },
  {
   "cell_type": "code",
   "execution_count": 4,
   "metadata": {
    "collapsed": false
   },
   "outputs": [
    {
     "data": {
      "text/plain": [
       "1200"
      ]
     },
     "execution_count": 4,
     "metadata": {},
     "output_type": "execute_result"
    }
   ],
   "source": [
    "len(list(train.iter('Review')))"
   ]
  },
  {
   "cell_type": "code",
   "execution_count": 5,
   "metadata": {
    "collapsed": false
   },
   "outputs": [
    {
     "data": {
      "text/plain": [
       "401"
      ]
     },
     "execution_count": 5,
     "metadata": {},
     "output_type": "execute_result"
    }
   ],
   "source": [
    "len(list(test.iter('Review')))"
   ]
  },
  {
   "cell_type": "code",
   "execution_count": 6,
   "metadata": {
    "collapsed": true
   },
   "outputs": [],
   "source": [
    "# Save to train and test files\n",
    "etree.ElementTree(train).write('../corpus/ReLi_train.xml', encoding='utf8', xml_declaration=True, pretty_print=True)\n",
    "etree.ElementTree(test).write('../corpus/ReLi_test.xml', encoding='utf8', xml_declaration=True, pretty_print=True)"
   ]
  },
  {
   "cell_type": "markdown",
   "metadata": {},
   "source": [
    "## Spliting ReLiPalavras.xml"
   ]
  },
  {
   "cell_type": "code",
   "execution_count": 2,
   "metadata": {
    "collapsed": true
   },
   "outputs": [],
   "source": [
    "from lxml import etree\n",
    "parser = etree.XMLParser(remove_blank_text=True)\n",
    "reviews = etree.parse('../corpus/ReLiPalavras.xml', parser)"
   ]
  },
  {
   "cell_type": "code",
   "execution_count": 3,
   "metadata": {
    "collapsed": true
   },
   "outputs": [],
   "source": [
    "# Make train and test in the following way\n",
    "# Make each 1st, 2nd, 3rd reviews into trainset, 4th into testset, \n",
    "#           5th, 6th, 7th reviews into trainset, 8th into testset, and so on \n",
    "train = etree.Element('Reviews')\n",
    "test = etree.Element('Reviews')\n",
    "for index, review in enumerate(reviews.iter('Review')):\n",
    "    if index % 4 != 0:\n",
    "        train.append(review)\n",
    "    else:\n",
    "        test.append(review)"
   ]
  },
  {
   "cell_type": "code",
   "execution_count": 4,
   "metadata": {
    "collapsed": false
   },
   "outputs": [
    {
     "data": {
      "text/plain": [
       "1200"
      ]
     },
     "execution_count": 4,
     "metadata": {},
     "output_type": "execute_result"
    }
   ],
   "source": [
    "len(list(train.iter('Review')))"
   ]
  },
  {
   "cell_type": "code",
   "execution_count": 5,
   "metadata": {
    "collapsed": false
   },
   "outputs": [
    {
     "data": {
      "text/plain": [
       "401"
      ]
     },
     "execution_count": 5,
     "metadata": {},
     "output_type": "execute_result"
    }
   ],
   "source": [
    "len(list(test.iter('Review')))"
   ]
  },
  {
   "cell_type": "code",
   "execution_count": 6,
   "metadata": {
    "collapsed": true
   },
   "outputs": [],
   "source": [
    "# Save to train and test files\n",
    "etree.ElementTree(train).write('../corpus/ReLiPalavras_train.xml', encoding='utf8', xml_declaration=True, pretty_print=True)\n",
    "etree.ElementTree(test).write('../corpus/ReLiPalavras_test.xml', encoding='utf8', xml_declaration=True, pretty_print=True)"
   ]
  },
  {
   "cell_type": "markdown",
   "metadata": {},
   "source": [
    "## Spliting ReLiUniversalDependencies.xml "
   ]
  },
  {
   "cell_type": "code",
   "execution_count": 12,
   "metadata": {
    "collapsed": true
   },
   "outputs": [],
   "source": [
    "from lxml import etree\n",
    "parser = etree.XMLParser(remove_blank_text=True)\n",
    "reviews = etree.parse('../corpus/ReLiUniversalDependencies.xml', parser)"
   ]
  },
  {
   "cell_type": "code",
   "execution_count": 13,
   "metadata": {
    "collapsed": true
   },
   "outputs": [],
   "source": [
    "# Make train and test in the following way\n",
    "# Make each 1st, 2nd, 3rd reviews into trainset, 4th into testset, \n",
    "#           5th, 6th, 7th reviews into trainset, 8th into testset, and so on \n",
    "train = etree.Element('Reviews')\n",
    "test = etree.Element('Reviews')\n",
    "for index, review in enumerate(reviews.iter('Review')):\n",
    "    if index % 4 != 0:\n",
    "        train.append(review)\n",
    "    else:\n",
    "        test.append(review)"
   ]
  },
  {
   "cell_type": "code",
   "execution_count": 14,
   "metadata": {
    "collapsed": false
   },
   "outputs": [
    {
     "data": {
      "text/plain": [
       "1200"
      ]
     },
     "execution_count": 14,
     "metadata": {},
     "output_type": "execute_result"
    }
   ],
   "source": [
    "len(list(train.iter('Review')))"
   ]
  },
  {
   "cell_type": "code",
   "execution_count": 15,
   "metadata": {
    "collapsed": false
   },
   "outputs": [
    {
     "data": {
      "text/plain": [
       "401"
      ]
     },
     "execution_count": 15,
     "metadata": {},
     "output_type": "execute_result"
    }
   ],
   "source": [
    "len(list(test.iter('Review')))"
   ]
  },
  {
   "cell_type": "code",
   "execution_count": 16,
   "metadata": {
    "collapsed": true
   },
   "outputs": [],
   "source": [
    "# Save to train and test files\n",
    "etree.ElementTree(train).write('../corpus/ReLiUniversalDependencies_train.xml', \n",
    "                               encoding='utf8', xml_declaration=True, pretty_print=True)\n",
    "etree.ElementTree(test).write('../corpus/ReLiUniversalDependencies_test.xml', \n",
    "                              encoding='utf8', xml_declaration=True, pretty_print=True)"
   ]
  },
  {
   "cell_type": "code",
   "execution_count": null,
   "metadata": {
    "collapsed": true
   },
   "outputs": [],
   "source": []
  }
 ],
 "metadata": {
  "kernelspec": {
   "display_name": "Python 3",
   "language": "python",
   "name": "python3"
  },
  "language_info": {
   "codemirror_mode": {
    "name": "ipython",
    "version": 3
   },
   "file_extension": ".py",
   "mimetype": "text/x-python",
   "name": "python",
   "nbconvert_exporter": "python",
   "pygments_lexer": "ipython3",
   "version": "3.5.1+"
  }
 },
 "nbformat": 4,
 "nbformat_minor": 0
}

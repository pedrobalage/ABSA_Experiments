{
 "cells": [
  {
   "cell_type": "markdown",
   "metadata": {},
   "source": [
    "# Split Reli Corpus into Train and Test parts\n",
    "\n",
    "* SemEval ABSA 2015 corpus has 255 reviews (72%) in trainset and 97 (28%) reviews in testset\n",
    "* SemEval ABSA 2016 corpus has 351 reviews (79%) in trainset and 91 (21%) reviews in testset\n",
    "* ReLi corpus has 1601 reviews in total\n",
    "* In order to make an evaluation for ReLi compatible with SemEval we are going to split ReLi corpus into trainset and testset\n",
    "* So, ReLi trainset should have 1200 reviews (75%) and ReLi testset should have 401(25%) reviews"
   ]
  },
  {
   "cell_type": "markdown",
   "metadata": {},
   "source": [
    "## Spliting ReLi.xml"
   ]
  },
  {
   "cell_type": "code",
   "execution_count": 46,
   "metadata": {
    "collapsed": true
   },
   "outputs": [],
   "source": [
    "from lxml import etree\n",
    "parser = etree.XMLParser(remove_blank_text=True)\n",
    "reviews = etree.parse('../corpus/ReLi.xml', parser)"
   ]
  },
  {
   "cell_type": "code",
   "execution_count": 47,
   "metadata": {
    "collapsed": false
   },
   "outputs": [
    {
     "data": {
      "text/plain": [
       "1601"
      ]
     },
     "execution_count": 47,
     "metadata": {},
     "output_type": "execute_result"
    }
   ],
   "source": [
    "from collections import Counter\n",
    "len(list(reviews.iter('review')))"
   ]
  },
  {
   "cell_type": "code",
   "execution_count": 48,
   "metadata": {
    "collapsed": false
   },
   "outputs": [],
   "source": [
    "# Make train and test in the following way\n",
    "# Make each 1st, 2nd, 3rd reviews into trainset, 4th into testset, \n",
    "#           5th, 6th, 7th reviews into trainset, 8th into testset, and so on \n",
    "train = etree.Element('reviews')\n",
    "test = etree.Element('reviews')\n",
    "for index, review in enumerate(reviews.iter('review')):\n",
    "    if index % 4 != 0:\n",
    "        train.append(review)\n",
    "    else:\n",
    "        test.append(review)"
   ]
  },
  {
   "cell_type": "code",
   "execution_count": 49,
   "metadata": {
    "collapsed": false
   },
   "outputs": [
    {
     "data": {
      "text/plain": [
       "1200"
      ]
     },
     "execution_count": 49,
     "metadata": {},
     "output_type": "execute_result"
    }
   ],
   "source": [
    "len(list(train.iter('review')))"
   ]
  },
  {
   "cell_type": "code",
   "execution_count": 50,
   "metadata": {
    "collapsed": false
   },
   "outputs": [
    {
     "data": {
      "text/plain": [
       "401"
      ]
     },
     "execution_count": 50,
     "metadata": {},
     "output_type": "execute_result"
    }
   ],
   "source": [
    "len(list(test.iter('review')))"
   ]
  },
  {
   "cell_type": "code",
   "execution_count": 51,
   "metadata": {
    "collapsed": true
   },
   "outputs": [],
   "source": [
    "# Save to train and test files\n",
    "etree.ElementTree(train).write('../corpus/ReLi_train.xml', encoding='utf8', xml_declaration=True, pretty_print=True)\n",
    "etree.ElementTree(test).write('../corpus/ReLi_test.xml', encoding='utf8', xml_declaration=True, pretty_print=True)"
   ]
  },
  {
   "cell_type": "markdown",
   "metadata": {},
   "source": [
    "## Spliting ReLiPalavras.xml"
   ]
  },
  {
   "cell_type": "code",
   "execution_count": 52,
   "metadata": {
    "collapsed": true
   },
   "outputs": [],
   "source": [
    "from lxml import etree\n",
    "parser = etree.XMLParser(remove_blank_text=True)\n",
    "reviews = etree.parse('../corpus/ReLiPalavras.xml', parser)"
   ]
  },
  {
   "cell_type": "code",
   "execution_count": 53,
   "metadata": {
    "collapsed": true
   },
   "outputs": [],
   "source": [
    "# Make train and test in the following way\n",
    "# Make each 1st, 2nd, 3rd reviews into trainset, 4th into testset, \n",
    "#           5th, 6th, 7th reviews into trainset, 8th into testset, and so on \n",
    "train = etree.Element('reviews')\n",
    "test = etree.Element('reviews')\n",
    "for index, review in enumerate(reviews.iter('review')):\n",
    "    if index % 4 != 0:\n",
    "        train.append(review)\n",
    "    else:\n",
    "        test.append(review)"
   ]
  },
  {
   "cell_type": "code",
   "execution_count": 54,
   "metadata": {
    "collapsed": false
   },
   "outputs": [
    {
     "data": {
      "text/plain": [
       "1200"
      ]
     },
     "execution_count": 54,
     "metadata": {},
     "output_type": "execute_result"
    }
   ],
   "source": [
    "len(list(train.iter('review')))"
   ]
  },
  {
   "cell_type": "code",
   "execution_count": 55,
   "metadata": {
    "collapsed": false
   },
   "outputs": [
    {
     "data": {
      "text/plain": [
       "401"
      ]
     },
     "execution_count": 55,
     "metadata": {},
     "output_type": "execute_result"
    }
   ],
   "source": [
    "len(list(test.iter('review')))"
   ]
  },
  {
   "cell_type": "code",
   "execution_count": 56,
   "metadata": {
    "collapsed": true
   },
   "outputs": [],
   "source": [
    "# Save to train and test files\n",
    "etree.ElementTree(train).write('../corpus/ReliPalavras_train.xml', encoding='utf8', xml_declaration=True, pretty_print=True)\n",
    "etree.ElementTree(test).write('../corpus/ReliPalavras_test.xml', encoding='utf8', xml_declaration=True, pretty_print=True)"
   ]
  },
  {
   "cell_type": "markdown",
   "metadata": {},
   "source": [
    "## Spliting ReLiUniversalDependencies.xml "
   ]
  },
  {
   "cell_type": "code",
   "execution_count": 57,
   "metadata": {
    "collapsed": true
   },
   "outputs": [],
   "source": [
    "from lxml import etree\n",
    "parser = etree.XMLParser(remove_blank_text=True)\n",
    "reviews = etree.parse('../corpus/ReLiUniversalDependencies.xml', parser)"
   ]
  },
  {
   "cell_type": "code",
   "execution_count": 58,
   "metadata": {
    "collapsed": true
   },
   "outputs": [],
   "source": [
    "# Make train and test in the following way\n",
    "# Make each 1st, 2nd, 3rd reviews into trainset, 4th into testset, \n",
    "#           5th, 6th, 7th reviews into trainset, 8th into testset, and so on \n",
    "train = etree.Element('reviews')\n",
    "test = etree.Element('reviews')\n",
    "for index, review in enumerate(reviews.iter('review')):\n",
    "    if index % 4 != 0:\n",
    "        train.append(review)\n",
    "    else:\n",
    "        test.append(review)"
   ]
  },
  {
   "cell_type": "code",
   "execution_count": 59,
   "metadata": {
    "collapsed": false
   },
   "outputs": [
    {
     "data": {
      "text/plain": [
       "1200"
      ]
     },
     "execution_count": 59,
     "metadata": {},
     "output_type": "execute_result"
    }
   ],
   "source": [
    "len(list(train.iter('review')))"
   ]
  },
  {
   "cell_type": "code",
   "execution_count": 60,
   "metadata": {
    "collapsed": false
   },
   "outputs": [
    {
     "data": {
      "text/plain": [
       "401"
      ]
     },
     "execution_count": 60,
     "metadata": {},
     "output_type": "execute_result"
    }
   ],
   "source": [
    "len(list(test.iter('review')))"
   ]
  },
  {
   "cell_type": "code",
   "execution_count": 61,
   "metadata": {
    "collapsed": true
   },
   "outputs": [],
   "source": [
    "# Save to train and test files\n",
    "etree.ElementTree(train).write('../corpus/ReLiUniversalDependencies_train.xml', encoding='utf8', xml_declaration=True, pretty_print=True)\n",
    "etree.ElementTree(test).write('../corpus/ReLiUniversalDependencies_test.xml', encoding='utf8', xml_declaration=True, pretty_print=True)"
   ]
  },
  {
   "cell_type": "code",
   "execution_count": null,
   "metadata": {
    "collapsed": true
   },
   "outputs": [],
   "source": []
  }
 ],
 "metadata": {
  "kernelspec": {
   "display_name": "Python 3",
   "language": "python",
   "name": "python3"
  },
  "language_info": {
   "codemirror_mode": {
    "name": "ipython",
    "version": 3
   },
   "file_extension": ".py",
   "mimetype": "text/x-python",
   "name": "python",
   "nbconvert_exporter": "python",
   "pygments_lexer": "ipython3",
   "version": "3.5.1+"
  }
 },
 "nbformat": 4,
 "nbformat_minor": 0
}
